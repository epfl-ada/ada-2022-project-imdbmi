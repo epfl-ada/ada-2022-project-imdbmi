{
 "cells": [
  {
   "cell_type": "code",
   "execution_count": 1,
   "id": "e8fb2a09",
   "metadata": {},
   "outputs": [],
   "source": [
    "from pathlib import Path\n",
    "\n",
    "import numpy as np\n",
    "import pandas as pd\n",
    "from tqdm.notebook import tqdm\n",
    "import spacy"
   ]
  },
  {
   "cell_type": "code",
   "execution_count": 2,
   "id": "27bf00b3",
   "metadata": {},
   "outputs": [],
   "source": [
    "def process_text(documents:dict, nlp_pipeline, n_process:int=8, batch_size:int=100):\n",
    "    '''\n",
    "    Using Spacy's NLP pipeline, lemmatize and tokenize text documents.\n",
    "    Adapted from ADA 2022 text analysis exercise.\n",
    "    '''\n",
    "\n",
    "    # Assign document ids, values\n",
    "    doc_ids, doc_vals = documents.keys(), documents.values()\n",
    "    n_docs = len(documents)\n",
    "    \n",
    "    processed_docs = list()\n",
    "    for doc_id, doc in tqdm(zip(doc_ids, nlp.pipe(doc_vals, n_process=n_process, batch_size=batch_size)), total=n_docs):\n",
    "\n",
    "        # Process document using Spacy NLP pipeline.\n",
    "        ents = doc.ents  # Named entities\n",
    "\n",
    "        # Keep only words (no numbers, no punctuation).\n",
    "        # Lemmatize tokens, remove punctuation and remove stopwords.\n",
    "        doc = [token.lemma_ for token in doc if token.is_alpha and not token.is_stop]\n",
    "\n",
    "        # Remove common words from a stopword list and keep only words of length 3 or more.\n",
    "        doc = [token for token in doc if token not in STOPWORDS and len(token) > 2]\n",
    "\n",
    "        # Add named entities, but only if they are a compound of more than word.\n",
    "        doc.extend([str(entity) for entity in ents if len(entity) > 1])\n",
    "\n",
    "        \n",
    "        processed_docs.append({'ID':doc_id, 'Text':doc})\n",
    "        \n",
    "    return processed_docs"
   ]
  },
  {
   "cell_type": "code",
   "execution_count": 3,
   "id": "34541779",
   "metadata": {},
   "outputs": [],
   "source": [
    "data_path = Path('../data/')"
   ]
  },
  {
   "cell_type": "markdown",
   "id": "cea44253",
   "metadata": {},
   "source": [
    "### Read movie id conversion table"
   ]
  },
  {
   "cell_type": "markdown",
   "id": "76b4e56f",
   "metadata": {},
   "source": [
    "For consistency, we index everything by Wikidata IDs, rather than Freebase or IMDb IDs."
   ]
  },
  {
   "cell_type": "code",
   "execution_count": 4,
   "id": "e03ffb74",
   "metadata": {},
   "outputs": [
    {
     "data": {
      "text/html": [
       "<div>\n",
       "<style scoped>\n",
       "    .dataframe tbody tr th:only-of-type {\n",
       "        vertical-align: middle;\n",
       "    }\n",
       "\n",
       "    .dataframe tbody tr th {\n",
       "        vertical-align: top;\n",
       "    }\n",
       "\n",
       "    .dataframe thead th {\n",
       "        text-align: right;\n",
       "    }\n",
       "</style>\n",
       "<table border=\"1\" class=\"dataframe\">\n",
       "  <thead>\n",
       "    <tr style=\"text-align: right;\">\n",
       "      <th></th>\n",
       "      <th>Freebase ID</th>\n",
       "      <th>Wikidata URI</th>\n",
       "      <th>Wikidata ID</th>\n",
       "      <th>IMDb ID</th>\n",
       "    </tr>\n",
       "  </thead>\n",
       "  <tbody>\n",
       "    <tr>\n",
       "      <th>0</th>\n",
       "      <td>/m/03vyhn</td>\n",
       "      <td>http://www.wikidata.org/entity/Q261700</td>\n",
       "      <td>Q261700</td>\n",
       "      <td>tt0228333</td>\n",
       "    </tr>\n",
       "    <tr>\n",
       "      <th>1</th>\n",
       "      <td>/m/08yl5d</td>\n",
       "      <td>http://www.wikidata.org/entity/Q16250726</td>\n",
       "      <td>Q16250726</td>\n",
       "      <td>tt0245916</td>\n",
       "    </tr>\n",
       "    <tr>\n",
       "      <th>2</th>\n",
       "      <td>/m/0crgdbh</td>\n",
       "      <td>http://www.wikidata.org/entity/Q4978832</td>\n",
       "      <td>Q4978832</td>\n",
       "      <td>tt0094806</td>\n",
       "    </tr>\n",
       "    <tr>\n",
       "      <th>3</th>\n",
       "      <td>/m/0285_cd</td>\n",
       "      <td>http://www.wikidata.org/entity/Q7995657</td>\n",
       "      <td>Q7995657</td>\n",
       "      <td>tt0094320</td>\n",
       "    </tr>\n",
       "    <tr>\n",
       "      <th>4</th>\n",
       "      <td>/m/01mrr1</td>\n",
       "      <td>http://www.wikidata.org/entity/Q869644</td>\n",
       "      <td>Q869644</td>\n",
       "      <td>tt0083949</td>\n",
       "    </tr>\n",
       "  </tbody>\n",
       "</table>\n",
       "</div>"
      ],
      "text/plain": [
       "  Freebase ID                              Wikidata URI Wikidata ID    IMDb ID\n",
       "0   /m/03vyhn    http://www.wikidata.org/entity/Q261700     Q261700  tt0228333\n",
       "1   /m/08yl5d  http://www.wikidata.org/entity/Q16250726   Q16250726  tt0245916\n",
       "2  /m/0crgdbh   http://www.wikidata.org/entity/Q4978832    Q4978832  tt0094806\n",
       "3  /m/0285_cd   http://www.wikidata.org/entity/Q7995657    Q7995657  tt0094320\n",
       "4   /m/01mrr1    http://www.wikidata.org/entity/Q869644     Q869644  tt0083949"
      ]
     },
     "execution_count": 4,
     "metadata": {},
     "output_type": "execute_result"
    }
   ],
   "source": [
    "movie_ids = pd.read_csv(data_path.joinpath('processed/wikipedia_ids.csv'))\n",
    "movie_ids.head()"
   ]
  },
  {
   "cell_type": "markdown",
   "id": "cf7ec5d0",
   "metadata": {},
   "source": [
    "### Initialize an NLP pipeline"
   ]
  },
  {
   "cell_type": "code",
   "execution_count": 2,
   "id": "b4372533",
   "metadata": {},
   "outputs": [],
   "source": [
    "# Set the computing device. Transformer models are optimized for GPU but the rest optimized for CPU.\n",
    "spacy.require_cpu()\n",
    "\n",
    " # Initialize an NLP pipeline\n",
    "nlp = spacy.load('en_core_web_lg')\n",
    "\n",
    "STOPWORDS = spacy.lang.en.stop_words.STOP_WORDS"
   ]
  },
  {
   "cell_type": "markdown",
   "id": "dccc8d46",
   "metadata": {},
   "source": [
    "## Tokenization & lemmatization of subtitles"
   ]
  },
  {
   "cell_type": "code",
   "execution_count": 5,
   "id": "1efeb52d",
   "metadata": {},
   "outputs": [
    {
     "data": {
      "application/vnd.jupyter.widget-view+json": {
       "model_id": "f1b8897dd7e7407f8e4680d945f84761",
       "version_major": 2,
       "version_minor": 0
      },
      "text/plain": [
       "  0%|          | 0/27329 [00:00<?, ?it/s]"
      ]
     },
     "metadata": {},
     "output_type": "display_data"
    }
   ],
   "source": [
    "subtitles_path = data_path.joinpath('raw/subtitles/')\n",
    "\n",
    "# Use IMDb IDs to get Wikidata IDs\n",
    "movie_ids_imdb = movie_ids.set_index('IMDb ID').copy()\n",
    "\n",
    "subtitles= {}\n",
    "for subtitle in tqdm(list(subtitles_path.glob('*.txt'))):\n",
    "    imdb_id = subtitle.stem\n",
    "    \n",
    "    # Manually fix a problematic entry\n",
    "    if imdb_id == 'tt0250469':\n",
    "        # It seems that the film and tv series named 'Killjoy' have the same IMDb ID.\n",
    "        wikidata_id = movie_ids_imdb.loc[imdb_id]['Wikidata ID'][0]\n",
    "    else:\n",
    "        wikidata_id = movie_ids_imdb.loc[imdb_id]['Wikidata ID']\n",
    "    \n",
    "    # Read a subtitle and record it with its Wikipedia ID\n",
    "    with open(subtitle, 'r', encoding='utf-8') as file:\n",
    "        subtitles[wikidata_id] = file.read().replace('\\n', ' ')"
   ]
  },
  {
   "cell_type": "code",
   "execution_count": 7,
   "id": "59d62fd5",
   "metadata": {},
   "outputs": [
    {
     "data": {
      "application/vnd.jupyter.widget-view+json": {
       "model_id": "b944e56c38364e54b5d031718a1f369a",
       "version_major": 2,
       "version_minor": 0
      },
      "text/plain": [
       "  0%|          | 0/27329 [00:00<?, ?it/s]"
      ]
     },
     "metadata": {},
     "output_type": "display_data"
    }
   ],
   "source": [
    "subtitles_tokinezed = process_text(subtitles, nlp, n_process=8, batch_size=16)"
   ]
  },
  {
   "cell_type": "code",
   "execution_count": 13,
   "id": "e6af97e0",
   "metadata": {},
   "outputs": [
    {
     "data": {
      "text/html": [
       "<div>\n",
       "<style scoped>\n",
       "    .dataframe tbody tr th:only-of-type {\n",
       "        vertical-align: middle;\n",
       "    }\n",
       "\n",
       "    .dataframe tbody tr th {\n",
       "        vertical-align: top;\n",
       "    }\n",
       "\n",
       "    .dataframe thead th {\n",
       "        text-align: right;\n",
       "    }\n",
       "</style>\n",
       "<table border=\"1\" class=\"dataframe\">\n",
       "  <thead>\n",
       "    <tr style=\"text-align: right;\">\n",
       "      <th></th>\n",
       "      <th>Wikidata ID</th>\n",
       "      <th>Subtitle</th>\n",
       "    </tr>\n",
       "  </thead>\n",
       "  <tbody>\n",
       "    <tr>\n",
       "      <th>0</th>\n",
       "      <td>Q1755660</td>\n",
       "      <td>['Divine', 'Comedy', 'Dante', 'Alighieri', 'HE...</td>\n",
       "    </tr>\n",
       "    <tr>\n",
       "      <th>1</th>\n",
       "      <td>Q2576383</td>\n",
       "      <td>['MABEL', 'WHEEL', 'Parte', 'Farce', 'Comedy',...</td>\n",
       "    </tr>\n",
       "    <tr>\n",
       "      <th>2</th>\n",
       "      <td>Q2294948</td>\n",
       "      <td>['fireman', 'let', 'house', 'insuranceand', 'd...</td>\n",
       "    </tr>\n",
       "    <tr>\n",
       "      <th>3</th>\n",
       "      <td>Q1923676</td>\n",
       "      <td>['cure', 'health', 'spring', 'throw', 'liquor'...</td>\n",
       "    </tr>\n",
       "    <tr>\n",
       "      <th>4</th>\n",
       "      <td>Q1070484</td>\n",
       "      <td>['dog', 'life', 'Dawn', 'scrap', 'thoroughbred...</td>\n",
       "    </tr>\n",
       "  </tbody>\n",
       "</table>\n",
       "</div>"
      ],
      "text/plain": [
       "  Wikidata ID                                           Subtitle\n",
       "0    Q1755660  ['Divine', 'Comedy', 'Dante', 'Alighieri', 'HE...\n",
       "1    Q2576383  ['MABEL', 'WHEEL', 'Parte', 'Farce', 'Comedy',...\n",
       "2    Q2294948  ['fireman', 'let', 'house', 'insuranceand', 'd...\n",
       "3    Q1923676  ['cure', 'health', 'spring', 'throw', 'liquor'...\n",
       "4    Q1070484  ['dog', 'life', 'Dawn', 'scrap', 'thoroughbred..."
      ]
     },
     "execution_count": 13,
     "metadata": {},
     "output_type": "execute_result"
    }
   ],
   "source": [
    "subtitles_tokinezed = pd.DataFrame.from_dict(subtitles_tokinezed)\n",
    "subtitles_tokinezed.rename({'ID':'Wikidata ID', 'Text':'Subtitle'}, axis=1, inplace=True)\n",
    "subtitles_tokinezed.head()"
   ]
  },
  {
   "cell_type": "code",
   "execution_count": 12,
   "id": "b07186c1",
   "metadata": {},
   "outputs": [],
   "source": [
    "subtitles_tokinezed.to_parquet(data_path.joinpath('processed/subtitles_tokenized.parquet.gzip'))"
   ]
  },
  {
   "cell_type": "code",
   "execution_count": null,
   "id": "409755cc",
   "metadata": {},
   "outputs": [],
   "source": []
  },
  {
   "cell_type": "markdown",
   "id": "80b99f92",
   "metadata": {},
   "source": [
    "## Tokenization & lemmatization of plot summaries"
   ]
  },
  {
   "cell_type": "code",
   "execution_count": 14,
   "id": "1ae0a4f3",
   "metadata": {},
   "outputs": [
    {
     "data": {
      "text/html": [
       "<div>\n",
       "<style scoped>\n",
       "    .dataframe tbody tr th:only-of-type {\n",
       "        vertical-align: middle;\n",
       "    }\n",
       "\n",
       "    .dataframe tbody tr th {\n",
       "        vertical-align: top;\n",
       "    }\n",
       "\n",
       "    .dataframe thead th {\n",
       "        text-align: right;\n",
       "    }\n",
       "</style>\n",
       "<table border=\"1\" class=\"dataframe\">\n",
       "  <thead>\n",
       "    <tr style=\"text-align: right;\">\n",
       "      <th></th>\n",
       "      <th>Wikipedia movie ID</th>\n",
       "      <th>Summary</th>\n",
       "    </tr>\n",
       "  </thead>\n",
       "  <tbody>\n",
       "    <tr>\n",
       "      <th>0</th>\n",
       "      <td>23890098</td>\n",
       "      <td>Shlykov, a hard-working taxi driver and Lyosha...</td>\n",
       "    </tr>\n",
       "    <tr>\n",
       "      <th>1</th>\n",
       "      <td>31186339</td>\n",
       "      <td>The nation of Panem consists of a wealthy Capi...</td>\n",
       "    </tr>\n",
       "    <tr>\n",
       "      <th>2</th>\n",
       "      <td>20663735</td>\n",
       "      <td>Poovalli Induchoodan  is sentenced for six yea...</td>\n",
       "    </tr>\n",
       "    <tr>\n",
       "      <th>3</th>\n",
       "      <td>2231378</td>\n",
       "      <td>The Lemon Drop Kid , a New York City swindler,...</td>\n",
       "    </tr>\n",
       "    <tr>\n",
       "      <th>4</th>\n",
       "      <td>595909</td>\n",
       "      <td>Seventh-day Adventist Church pastor Michael Ch...</td>\n",
       "    </tr>\n",
       "  </tbody>\n",
       "</table>\n",
       "</div>"
      ],
      "text/plain": [
       "   Wikipedia movie ID                                            Summary\n",
       "0            23890098  Shlykov, a hard-working taxi driver and Lyosha...\n",
       "1            31186339  The nation of Panem consists of a wealthy Capi...\n",
       "2            20663735  Poovalli Induchoodan  is sentenced for six yea...\n",
       "3             2231378  The Lemon Drop Kid , a New York City swindler,...\n",
       "4              595909  Seventh-day Adventist Church pastor Michael Ch..."
      ]
     },
     "execution_count": 14,
     "metadata": {},
     "output_type": "execute_result"
    }
   ],
   "source": [
    "col_names = ['Wikipedia movie ID', 'Summary']\n",
    "plot_summaries = pd.read_csv(data_path.joinpath('raw/MovieSummaries/plot_summaries.txt'), delimiter='\\t', names=col_names)\n",
    "plot_summaries.head()"
   ]
  },
  {
   "cell_type": "code",
   "execution_count": 15,
   "id": "04d18c78",
   "metadata": {},
   "outputs": [
    {
     "data": {
      "text/html": [
       "<div>\n",
       "<style scoped>\n",
       "    .dataframe tbody tr th:only-of-type {\n",
       "        vertical-align: middle;\n",
       "    }\n",
       "\n",
       "    .dataframe tbody tr th {\n",
       "        vertical-align: top;\n",
       "    }\n",
       "\n",
       "    .dataframe thead th {\n",
       "        text-align: right;\n",
       "    }\n",
       "</style>\n",
       "<table border=\"1\" class=\"dataframe\">\n",
       "  <thead>\n",
       "    <tr style=\"text-align: right;\">\n",
       "      <th></th>\n",
       "      <th>Wikipedia movie ID</th>\n",
       "      <th>Freebase movie ID</th>\n",
       "      <th>Movie name</th>\n",
       "      <th>Movie release date</th>\n",
       "      <th>Movie box office revenue</th>\n",
       "      <th>Movie runtime</th>\n",
       "      <th>Movie languages (Freebase ID:name tuples)</th>\n",
       "      <th>Movie countries (Freebase ID:name tuples)</th>\n",
       "      <th>Movie genres (Freebase ID:name tuples)</th>\n",
       "    </tr>\n",
       "  </thead>\n",
       "  <tbody>\n",
       "    <tr>\n",
       "      <th>0</th>\n",
       "      <td>975900</td>\n",
       "      <td>/m/03vyhn</td>\n",
       "      <td>Ghosts of Mars</td>\n",
       "      <td>2001-08-24</td>\n",
       "      <td>14010832.0</td>\n",
       "      <td>98.0</td>\n",
       "      <td>{\"/m/02h40lc\": \"English Language\"}</td>\n",
       "      <td>{\"/m/09c7w0\": \"United States of America\"}</td>\n",
       "      <td>{\"/m/01jfsb\": \"Thriller\", \"/m/06n90\": \"Science...</td>\n",
       "    </tr>\n",
       "    <tr>\n",
       "      <th>1</th>\n",
       "      <td>3196793</td>\n",
       "      <td>/m/08yl5d</td>\n",
       "      <td>Getting Away with Murder: The JonBenét Ramsey ...</td>\n",
       "      <td>2000-02-16</td>\n",
       "      <td>NaN</td>\n",
       "      <td>95.0</td>\n",
       "      <td>{\"/m/02h40lc\": \"English Language\"}</td>\n",
       "      <td>{\"/m/09c7w0\": \"United States of America\"}</td>\n",
       "      <td>{\"/m/02n4kr\": \"Mystery\", \"/m/03bxz7\": \"Biograp...</td>\n",
       "    </tr>\n",
       "    <tr>\n",
       "      <th>2</th>\n",
       "      <td>28463795</td>\n",
       "      <td>/m/0crgdbh</td>\n",
       "      <td>Brun bitter</td>\n",
       "      <td>1988</td>\n",
       "      <td>NaN</td>\n",
       "      <td>83.0</td>\n",
       "      <td>{\"/m/05f_3\": \"Norwegian Language\"}</td>\n",
       "      <td>{\"/m/05b4w\": \"Norway\"}</td>\n",
       "      <td>{\"/m/0lsxr\": \"Crime Fiction\", \"/m/07s9rl0\": \"D...</td>\n",
       "    </tr>\n",
       "    <tr>\n",
       "      <th>3</th>\n",
       "      <td>9363483</td>\n",
       "      <td>/m/0285_cd</td>\n",
       "      <td>White Of The Eye</td>\n",
       "      <td>1987</td>\n",
       "      <td>NaN</td>\n",
       "      <td>110.0</td>\n",
       "      <td>{\"/m/02h40lc\": \"English Language\"}</td>\n",
       "      <td>{\"/m/07ssc\": \"United Kingdom\"}</td>\n",
       "      <td>{\"/m/01jfsb\": \"Thriller\", \"/m/0glj9q\": \"Erotic...</td>\n",
       "    </tr>\n",
       "    <tr>\n",
       "      <th>4</th>\n",
       "      <td>261236</td>\n",
       "      <td>/m/01mrr1</td>\n",
       "      <td>A Woman in Flames</td>\n",
       "      <td>1983</td>\n",
       "      <td>NaN</td>\n",
       "      <td>106.0</td>\n",
       "      <td>{\"/m/04306rv\": \"German Language\"}</td>\n",
       "      <td>{\"/m/0345h\": \"Germany\"}</td>\n",
       "      <td>{\"/m/07s9rl0\": \"Drama\"}</td>\n",
       "    </tr>\n",
       "  </tbody>\n",
       "</table>\n",
       "</div>"
      ],
      "text/plain": [
       "   Wikipedia movie ID Freebase movie ID  \\\n",
       "0              975900         /m/03vyhn   \n",
       "1             3196793         /m/08yl5d   \n",
       "2            28463795        /m/0crgdbh   \n",
       "3             9363483        /m/0285_cd   \n",
       "4              261236         /m/01mrr1   \n",
       "\n",
       "                                          Movie name Movie release date  \\\n",
       "0                                     Ghosts of Mars         2001-08-24   \n",
       "1  Getting Away with Murder: The JonBenét Ramsey ...         2000-02-16   \n",
       "2                                        Brun bitter               1988   \n",
       "3                                   White Of The Eye               1987   \n",
       "4                                  A Woman in Flames               1983   \n",
       "\n",
       "   Movie box office revenue  Movie runtime  \\\n",
       "0                14010832.0           98.0   \n",
       "1                       NaN           95.0   \n",
       "2                       NaN           83.0   \n",
       "3                       NaN          110.0   \n",
       "4                       NaN          106.0   \n",
       "\n",
       "  Movie languages (Freebase ID:name tuples)  \\\n",
       "0        {\"/m/02h40lc\": \"English Language\"}   \n",
       "1        {\"/m/02h40lc\": \"English Language\"}   \n",
       "2        {\"/m/05f_3\": \"Norwegian Language\"}   \n",
       "3        {\"/m/02h40lc\": \"English Language\"}   \n",
       "4         {\"/m/04306rv\": \"German Language\"}   \n",
       "\n",
       "   Movie countries (Freebase ID:name tuples)  \\\n",
       "0  {\"/m/09c7w0\": \"United States of America\"}   \n",
       "1  {\"/m/09c7w0\": \"United States of America\"}   \n",
       "2                     {\"/m/05b4w\": \"Norway\"}   \n",
       "3             {\"/m/07ssc\": \"United Kingdom\"}   \n",
       "4                    {\"/m/0345h\": \"Germany\"}   \n",
       "\n",
       "              Movie genres (Freebase ID:name tuples)  \n",
       "0  {\"/m/01jfsb\": \"Thriller\", \"/m/06n90\": \"Science...  \n",
       "1  {\"/m/02n4kr\": \"Mystery\", \"/m/03bxz7\": \"Biograp...  \n",
       "2  {\"/m/0lsxr\": \"Crime Fiction\", \"/m/07s9rl0\": \"D...  \n",
       "3  {\"/m/01jfsb\": \"Thriller\", \"/m/0glj9q\": \"Erotic...  \n",
       "4                            {\"/m/07s9rl0\": \"Drama\"}  "
      ]
     },
     "execution_count": 15,
     "metadata": {},
     "output_type": "execute_result"
    }
   ],
   "source": [
    "col_names = [\n",
    "    'Wikipedia movie ID',\n",
    "    'Freebase movie ID',\n",
    "    'Movie name',\n",
    "    'Movie release date',\n",
    "    'Movie box office revenue',\n",
    "    'Movie runtime',\n",
    "    'Movie languages (Freebase ID:name tuples)',\n",
    "    'Movie countries (Freebase ID:name tuples)',\n",
    "    'Movie genres (Freebase ID:name tuples)'\n",
    "]\n",
    "df_movies = pd.read_csv(data_path.joinpath('raw/MovieSummaries/movie.metadata.tsv'), delimiter='\\t', names=col_names)\n",
    "df_movies.head()"
   ]
  },
  {
   "cell_type": "code",
   "execution_count": null,
   "id": "330f79e0",
   "metadata": {},
   "outputs": [],
   "source": []
  },
  {
   "cell_type": "code",
   "execution_count": 16,
   "id": "66a4a846",
   "metadata": {},
   "outputs": [
    {
     "data": {
      "text/html": [
       "<div>\n",
       "<style scoped>\n",
       "    .dataframe tbody tr th:only-of-type {\n",
       "        vertical-align: middle;\n",
       "    }\n",
       "\n",
       "    .dataframe tbody tr th {\n",
       "        vertical-align: top;\n",
       "    }\n",
       "\n",
       "    .dataframe thead th {\n",
       "        text-align: right;\n",
       "    }\n",
       "</style>\n",
       "<table border=\"1\" class=\"dataframe\">\n",
       "  <thead>\n",
       "    <tr style=\"text-align: right;\">\n",
       "      <th></th>\n",
       "      <th>Summary</th>\n",
       "    </tr>\n",
       "    <tr>\n",
       "      <th>Freebase ID</th>\n",
       "      <th></th>\n",
       "    </tr>\n",
       "  </thead>\n",
       "  <tbody>\n",
       "    <tr>\n",
       "      <th>/m/076w2lb</th>\n",
       "      <td>Shlykov, a hard-working taxi driver and Lyosha...</td>\n",
       "    </tr>\n",
       "    <tr>\n",
       "      <th>/m/0gkz15s</th>\n",
       "      <td>The nation of Panem consists of a wealthy Capi...</td>\n",
       "    </tr>\n",
       "    <tr>\n",
       "      <th>/m/051zjwb</th>\n",
       "      <td>Poovalli Induchoodan  is sentenced for six yea...</td>\n",
       "    </tr>\n",
       "    <tr>\n",
       "      <th>/m/06xtz3</th>\n",
       "      <td>The Lemon Drop Kid , a New York City swindler,...</td>\n",
       "    </tr>\n",
       "    <tr>\n",
       "      <th>/m/02tqm5</th>\n",
       "      <td>Seventh-day Adventist Church pastor Michael Ch...</td>\n",
       "    </tr>\n",
       "  </tbody>\n",
       "</table>\n",
       "</div>"
      ],
      "text/plain": [
       "                                                       Summary\n",
       "Freebase ID                                                   \n",
       "/m/076w2lb   Shlykov, a hard-working taxi driver and Lyosha...\n",
       "/m/0gkz15s   The nation of Panem consists of a wealthy Capi...\n",
       "/m/051zjwb   Poovalli Induchoodan  is sentenced for six yea...\n",
       "/m/06xtz3    The Lemon Drop Kid , a New York City swindler,...\n",
       "/m/02tqm5    Seventh-day Adventist Church pastor Michael Ch..."
      ]
     },
     "execution_count": 16,
     "metadata": {},
     "output_type": "execute_result"
    }
   ],
   "source": [
    "# Match Wikipedia IDs across CMU dataset and mask accordingly\n",
    "mask = plot_summaries['Wikipedia movie ID'].isin(df_movies['Wikipedia movie ID'])\n",
    "df_summaries = plot_summaries[mask].copy().reset_index(drop=True)\n",
    "\n",
    "freebase_ids = df_movies.set_index('Wikipedia movie ID').loc[df_summaries['Wikipedia movie ID']]['Freebase movie ID']\n",
    "df_summaries['Freebase ID'] = freebase_ids.reset_index(drop=True)\n",
    "df_summaries = df_summaries.set_index('Freebase ID').drop('Wikipedia movie ID', axis=1)\n",
    "\n",
    "df_summaries.head()"
   ]
  },
  {
   "cell_type": "code",
   "execution_count": 17,
   "id": "d82e5561",
   "metadata": {},
   "outputs": [],
   "source": [
    "summaries = df_summaries.squeeze().to_dict()"
   ]
  },
  {
   "cell_type": "code",
   "execution_count": 18,
   "id": "2bf87d17",
   "metadata": {},
   "outputs": [
    {
     "data": {
      "application/vnd.jupyter.widget-view+json": {
       "model_id": "fbafafd532f84eccb62cdfaa4a46ae81",
       "version_major": 2,
       "version_minor": 0
      },
      "text/plain": [
       "  0%|          | 0/42204 [00:00<?, ?it/s]"
      ]
     },
     "metadata": {},
     "output_type": "display_data"
    }
   ],
   "source": [
    "summaries_tokinezed = process_text(summaries, nlp, n_process=8, batch_size=160)"
   ]
  },
  {
   "cell_type": "code",
   "execution_count": 22,
   "id": "9b6ceadd",
   "metadata": {},
   "outputs": [
    {
     "data": {
      "text/html": [
       "<div>\n",
       "<style scoped>\n",
       "    .dataframe tbody tr th:only-of-type {\n",
       "        vertical-align: middle;\n",
       "    }\n",
       "\n",
       "    .dataframe tbody tr th {\n",
       "        vertical-align: top;\n",
       "    }\n",
       "\n",
       "    .dataframe thead th {\n",
       "        text-align: right;\n",
       "    }\n",
       "</style>\n",
       "<table border=\"1\" class=\"dataframe\">\n",
       "  <thead>\n",
       "    <tr style=\"text-align: right;\">\n",
       "      <th></th>\n",
       "      <th>Freebase ID</th>\n",
       "      <th>Subtitle</th>\n",
       "    </tr>\n",
       "  </thead>\n",
       "  <tbody>\n",
       "    <tr>\n",
       "      <th>0</th>\n",
       "      <td>/m/076w2lb</td>\n",
       "      <td>[Shlykov, hard, work, taxi, driver, Lyosha, sa...</td>\n",
       "    </tr>\n",
       "    <tr>\n",
       "      <th>1</th>\n",
       "      <td>/m/0gkz15s</td>\n",
       "      <td>[nation, Panem, consist, wealthy, Capitol, poo...</td>\n",
       "    </tr>\n",
       "    <tr>\n",
       "      <th>2</th>\n",
       "      <td>/m/051zjwb</td>\n",
       "      <td>[Poovalli, Induchoodan, sentence, year, prison...</td>\n",
       "    </tr>\n",
       "    <tr>\n",
       "      <th>3</th>\n",
       "      <td>/m/06xtz3</td>\n",
       "      <td>[Lemon, Drop, Kid, New, York, City, swindler, ...</td>\n",
       "    </tr>\n",
       "    <tr>\n",
       "      <th>4</th>\n",
       "      <td>/m/02tqm5</td>\n",
       "      <td>[seventh, day, Adventist, Church, pastor, Mich...</td>\n",
       "    </tr>\n",
       "  </tbody>\n",
       "</table>\n",
       "</div>"
      ],
      "text/plain": [
       "  Freebase ID                                           Subtitle\n",
       "0  /m/076w2lb  [Shlykov, hard, work, taxi, driver, Lyosha, sa...\n",
       "1  /m/0gkz15s  [nation, Panem, consist, wealthy, Capitol, poo...\n",
       "2  /m/051zjwb  [Poovalli, Induchoodan, sentence, year, prison...\n",
       "3   /m/06xtz3  [Lemon, Drop, Kid, New, York, City, swindler, ...\n",
       "4   /m/02tqm5  [seventh, day, Adventist, Church, pastor, Mich..."
      ]
     },
     "execution_count": 22,
     "metadata": {},
     "output_type": "execute_result"
    }
   ],
   "source": [
    "summaries_tokinezed = pd.DataFrame.from_dict(summaries_tokinezed)\n",
    "summaries_tokinezed.rename({'ID':'Freebase ID', 'Text':'Summary'}, axis=1, inplace=True)\n",
    "summaries_tokinezed.head()"
   ]
  },
  {
   "cell_type": "code",
   "execution_count": 24,
   "id": "f64207ab",
   "metadata": {},
   "outputs": [
    {
     "data": {
      "text/html": [
       "<div>\n",
       "<style scoped>\n",
       "    .dataframe tbody tr th:only-of-type {\n",
       "        vertical-align: middle;\n",
       "    }\n",
       "\n",
       "    .dataframe tbody tr th {\n",
       "        vertical-align: top;\n",
       "    }\n",
       "\n",
       "    .dataframe thead th {\n",
       "        text-align: right;\n",
       "    }\n",
       "</style>\n",
       "<table border=\"1\" class=\"dataframe\">\n",
       "  <thead>\n",
       "    <tr style=\"text-align: right;\">\n",
       "      <th></th>\n",
       "      <th>Freebase ID</th>\n",
       "      <th>Subtitle</th>\n",
       "      <th>Wikidata ID</th>\n",
       "    </tr>\n",
       "  </thead>\n",
       "  <tbody>\n",
       "    <tr>\n",
       "      <th>0</th>\n",
       "      <td>/m/076w2lb</td>\n",
       "      <td>[Shlykov, hard, work, taxi, driver, Lyosha, sa...</td>\n",
       "      <td>Q2552456</td>\n",
       "    </tr>\n",
       "    <tr>\n",
       "      <th>1</th>\n",
       "      <td>/m/0gkz15s</td>\n",
       "      <td>[nation, Panem, consist, wealthy, Capitol, poo...</td>\n",
       "      <td>Q212965</td>\n",
       "    </tr>\n",
       "    <tr>\n",
       "      <th>2</th>\n",
       "      <td>/m/051zjwb</td>\n",
       "      <td>[Poovalli, Induchoodan, sentence, year, prison...</td>\n",
       "      <td>Q6965425</td>\n",
       "    </tr>\n",
       "    <tr>\n",
       "      <th>3</th>\n",
       "      <td>/m/06xtz3</td>\n",
       "      <td>[Lemon, Drop, Kid, New, York, City, swindler, ...</td>\n",
       "      <td>Q7746905</td>\n",
       "    </tr>\n",
       "    <tr>\n",
       "      <th>4</th>\n",
       "      <td>/m/02tqm5</td>\n",
       "      <td>[seventh, day, Adventist, Church, pastor, Mich...</td>\n",
       "      <td>Q1249239</td>\n",
       "    </tr>\n",
       "  </tbody>\n",
       "</table>\n",
       "</div>"
      ],
      "text/plain": [
       "  Freebase ID                                           Subtitle Wikidata ID\n",
       "0  /m/076w2lb  [Shlykov, hard, work, taxi, driver, Lyosha, sa...    Q2552456\n",
       "1  /m/0gkz15s  [nation, Panem, consist, wealthy, Capitol, poo...     Q212965\n",
       "2  /m/051zjwb  [Poovalli, Induchoodan, sentence, year, prison...    Q6965425\n",
       "3   /m/06xtz3  [Lemon, Drop, Kid, New, York, City, swindler, ...    Q7746905\n",
       "4   /m/02tqm5  [seventh, day, Adventist, Church, pastor, Mich...    Q1249239"
      ]
     },
     "execution_count": 24,
     "metadata": {},
     "output_type": "execute_result"
    }
   ],
   "source": [
    "# Match Freebase IDs with Wikidata IDs\n",
    "mask = summaries_tokinezed['Freebase ID'].isin(movie_ids['Freebase ID'])\n",
    "summaries_tokinezed['Wikidata ID'] = None\n",
    "\n",
    "wikidata_ids = movie_ids.set_index('Freebase ID').loc[summaries_tokinezed.loc[mask, 'Freebase ID']]['Wikidata ID']\n",
    "summaries_tokinezed.loc[mask, 'Wikidata ID'] = wikidata_ids.values\n",
    "\n",
    "summaries_tokinezed.head()"
   ]
  },
  {
   "cell_type": "code",
   "execution_count": 25,
   "id": "bd7b2e0d",
   "metadata": {},
   "outputs": [],
   "source": [
    "summaries_tokinezed.to_parquet(data_path.joinpath('processed/summaries_tokenized.parquet.gzip'))"
   ]
  },
  {
   "cell_type": "code",
   "execution_count": null,
   "id": "73d9853e",
   "metadata": {},
   "outputs": [],
   "source": []
  },
  {
   "cell_type": "code",
   "execution_count": null,
   "id": "379528b1",
   "metadata": {},
   "outputs": [],
   "source": []
  }
 ],
 "metadata": {
  "kernelspec": {
   "display_name": "Python 3 (ipykernel)",
   "language": "python",
   "name": "python3"
  },
  "language_info": {
   "codemirror_mode": {
    "name": "ipython",
    "version": 3
   },
   "file_extension": ".py",
   "mimetype": "text/x-python",
   "name": "python",
   "nbconvert_exporter": "python",
   "pygments_lexer": "ipython3",
   "version": "3.9.15"
  }
 },
 "nbformat": 4,
 "nbformat_minor": 5
}
