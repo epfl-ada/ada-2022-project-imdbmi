{
 "cells": [
  {
   "cell_type": "code",
   "execution_count": 2,
   "metadata": {
    "collapsed": true
   },
   "outputs": [],
   "source": [
    "from pathlib import Path\n",
    "import pandas as pd\n",
    "import matplotlib.pyplot as plt\n",
    "import seaborn as sns\n",
    "%matplotlib inline\n",
    "\n",
    "\n"
   ]
  },
  {
   "cell_type": "code",
   "execution_count": 2,
   "outputs": [],
   "source": [],
   "metadata": {
    "collapsed": false
   }
  },
  {
   "cell_type": "code",
   "execution_count": 3,
   "outputs": [],
   "source": [
    "data_folder = '/Users/ianapeix/ADA2022/datasets/movie-summaries/'\n",
    "meta = data_folder + 'movie.metadata.tsv'"
   ],
   "metadata": {
    "collapsed": false
   }
  },
  {
   "cell_type": "code",
   "execution_count": 4,
   "outputs": [
    {
     "data": {
      "text/plain": "        Wikipedia movie ID Freebase movie ID Movie release date  \\\n0                   975900         /m/03vyhn         2001-08-24   \n1                   975900         /m/03vyhn         2001-08-24   \n2                   975900         /m/03vyhn         2001-08-24   \n3                   975900         /m/03vyhn         2001-08-24   \n4                   975900         /m/03vyhn         2001-08-24   \n...                    ...               ...                ...   \n450664              913762         /m/03pcrp         1992-05-21   \n450665              913762         /m/03pcrp         1992-05-21   \n450666            28308153        /m/0cp05t9               1957   \n450667            28308153        /m/0cp05t9               1957   \n450668            28308153        /m/0cp05t9               1957   \n\n                    Character name Actor date of birth Actor gender  \\\n0                         Akooshay          1958-08-26            F   \n1       Lieutenant Melanie Ballard          1974-08-15            F   \n2              Desolation Williams          1969-06-15            M   \n3               Sgt Jericho Butler          1967-09-12            M   \n4                  Bashira Kincaid          1977-09-25            F   \n...                            ...                 ...          ...   \n450664                      Elensh             1970-05            F   \n450665                      Hibiki          1965-04-12            M   \n450666                         NaN          1941-11-18            M   \n450667                         NaN                 NaN          NaN   \n450668                         NaN                 NaN          NaN   \n\n        Actor height (in meters) Actor ethnicity (Freebase ID)  \\\n0                          1.620                           NaN   \n1                          1.780                    /m/044038p   \n2                          1.727                       /m/0x67   \n3                          1.750                           NaN   \n4                          1.650                           NaN   \n...                          ...                           ...   \n450664                       NaN                           NaN   \n450665                       NaN                           NaN   \n450666                     1.730                     /m/02w7gg   \n450667                       NaN                           NaN   \n450668                       NaN                           NaN   \n\n                Actor name  Actor age at movie release  \\\n0           Wanda De Jesus                        42.0   \n1       Natasha Henstridge                        27.0   \n2                 Ice Cube                        32.0   \n3            Jason Statham                        33.0   \n4              Clea DuVall                        23.0   \n...                    ...                         ...   \n450664  Dorothy Elias-Fahn                         NaN   \n450665       Jonathan Fahn                        27.0   \n450666      David Hemmings                        15.0   \n450667    Roberta Paterson                         NaN   \n450668         John Rogers                         NaN   \n\n       Freebase character/actor map ID Freebase character ID Freebase actor ID  \n0                           /m/0bgchxw            /m/0bgcj3x        /m/03wcfv7  \n1                            /m/0jys3m            /m/0bgchn4         /m/0346l4  \n2                            /m/0jys3g            /m/0bgchn_        /m/01vw26l  \n3                           /m/02vchl6            /m/0bgchnq         /m/034hyc  \n4                           /m/02vbb3r            /m/0bgchp9         /m/01y9xg  \n...                                ...                   ...               ...  \n450664                      /m/0kr406c            /m/0kr406h         /m/0b_vcv  \n450665                      /m/0kr405_            /m/0kr4090         /m/0bx7_j  \n450666                      /m/0g8ngmc                   NaN         /m/022g44  \n450667                      /m/0g8ngmj                   NaN        /m/0g8ngmm  \n450668                      /m/0g8ngmw                   NaN        /m/0btz19d  \n\n[450669 rows x 13 columns]",
      "text/html": "<div>\n<style scoped>\n    .dataframe tbody tr th:only-of-type {\n        vertical-align: middle;\n    }\n\n    .dataframe tbody tr th {\n        vertical-align: top;\n    }\n\n    .dataframe thead th {\n        text-align: right;\n    }\n</style>\n<table border=\"1\" class=\"dataframe\">\n  <thead>\n    <tr style=\"text-align: right;\">\n      <th></th>\n      <th>Wikipedia movie ID</th>\n      <th>Freebase movie ID</th>\n      <th>Movie release date</th>\n      <th>Character name</th>\n      <th>Actor date of birth</th>\n      <th>Actor gender</th>\n      <th>Actor height (in meters)</th>\n      <th>Actor ethnicity (Freebase ID)</th>\n      <th>Actor name</th>\n      <th>Actor age at movie release</th>\n      <th>Freebase character/actor map ID</th>\n      <th>Freebase character ID</th>\n      <th>Freebase actor ID</th>\n    </tr>\n  </thead>\n  <tbody>\n    <tr>\n      <th>0</th>\n      <td>975900</td>\n      <td>/m/03vyhn</td>\n      <td>2001-08-24</td>\n      <td>Akooshay</td>\n      <td>1958-08-26</td>\n      <td>F</td>\n      <td>1.620</td>\n      <td>NaN</td>\n      <td>Wanda De Jesus</td>\n      <td>42.0</td>\n      <td>/m/0bgchxw</td>\n      <td>/m/0bgcj3x</td>\n      <td>/m/03wcfv7</td>\n    </tr>\n    <tr>\n      <th>1</th>\n      <td>975900</td>\n      <td>/m/03vyhn</td>\n      <td>2001-08-24</td>\n      <td>Lieutenant Melanie Ballard</td>\n      <td>1974-08-15</td>\n      <td>F</td>\n      <td>1.780</td>\n      <td>/m/044038p</td>\n      <td>Natasha Henstridge</td>\n      <td>27.0</td>\n      <td>/m/0jys3m</td>\n      <td>/m/0bgchn4</td>\n      <td>/m/0346l4</td>\n    </tr>\n    <tr>\n      <th>2</th>\n      <td>975900</td>\n      <td>/m/03vyhn</td>\n      <td>2001-08-24</td>\n      <td>Desolation Williams</td>\n      <td>1969-06-15</td>\n      <td>M</td>\n      <td>1.727</td>\n      <td>/m/0x67</td>\n      <td>Ice Cube</td>\n      <td>32.0</td>\n      <td>/m/0jys3g</td>\n      <td>/m/0bgchn_</td>\n      <td>/m/01vw26l</td>\n    </tr>\n    <tr>\n      <th>3</th>\n      <td>975900</td>\n      <td>/m/03vyhn</td>\n      <td>2001-08-24</td>\n      <td>Sgt Jericho Butler</td>\n      <td>1967-09-12</td>\n      <td>M</td>\n      <td>1.750</td>\n      <td>NaN</td>\n      <td>Jason Statham</td>\n      <td>33.0</td>\n      <td>/m/02vchl6</td>\n      <td>/m/0bgchnq</td>\n      <td>/m/034hyc</td>\n    </tr>\n    <tr>\n      <th>4</th>\n      <td>975900</td>\n      <td>/m/03vyhn</td>\n      <td>2001-08-24</td>\n      <td>Bashira Kincaid</td>\n      <td>1977-09-25</td>\n      <td>F</td>\n      <td>1.650</td>\n      <td>NaN</td>\n      <td>Clea DuVall</td>\n      <td>23.0</td>\n      <td>/m/02vbb3r</td>\n      <td>/m/0bgchp9</td>\n      <td>/m/01y9xg</td>\n    </tr>\n    <tr>\n      <th>...</th>\n      <td>...</td>\n      <td>...</td>\n      <td>...</td>\n      <td>...</td>\n      <td>...</td>\n      <td>...</td>\n      <td>...</td>\n      <td>...</td>\n      <td>...</td>\n      <td>...</td>\n      <td>...</td>\n      <td>...</td>\n      <td>...</td>\n    </tr>\n    <tr>\n      <th>450664</th>\n      <td>913762</td>\n      <td>/m/03pcrp</td>\n      <td>1992-05-21</td>\n      <td>Elensh</td>\n      <td>1970-05</td>\n      <td>F</td>\n      <td>NaN</td>\n      <td>NaN</td>\n      <td>Dorothy Elias-Fahn</td>\n      <td>NaN</td>\n      <td>/m/0kr406c</td>\n      <td>/m/0kr406h</td>\n      <td>/m/0b_vcv</td>\n    </tr>\n    <tr>\n      <th>450665</th>\n      <td>913762</td>\n      <td>/m/03pcrp</td>\n      <td>1992-05-21</td>\n      <td>Hibiki</td>\n      <td>1965-04-12</td>\n      <td>M</td>\n      <td>NaN</td>\n      <td>NaN</td>\n      <td>Jonathan Fahn</td>\n      <td>27.0</td>\n      <td>/m/0kr405_</td>\n      <td>/m/0kr4090</td>\n      <td>/m/0bx7_j</td>\n    </tr>\n    <tr>\n      <th>450666</th>\n      <td>28308153</td>\n      <td>/m/0cp05t9</td>\n      <td>1957</td>\n      <td>NaN</td>\n      <td>1941-11-18</td>\n      <td>M</td>\n      <td>1.730</td>\n      <td>/m/02w7gg</td>\n      <td>David Hemmings</td>\n      <td>15.0</td>\n      <td>/m/0g8ngmc</td>\n      <td>NaN</td>\n      <td>/m/022g44</td>\n    </tr>\n    <tr>\n      <th>450667</th>\n      <td>28308153</td>\n      <td>/m/0cp05t9</td>\n      <td>1957</td>\n      <td>NaN</td>\n      <td>NaN</td>\n      <td>NaN</td>\n      <td>NaN</td>\n      <td>NaN</td>\n      <td>Roberta Paterson</td>\n      <td>NaN</td>\n      <td>/m/0g8ngmj</td>\n      <td>NaN</td>\n      <td>/m/0g8ngmm</td>\n    </tr>\n    <tr>\n      <th>450668</th>\n      <td>28308153</td>\n      <td>/m/0cp05t9</td>\n      <td>1957</td>\n      <td>NaN</td>\n      <td>NaN</td>\n      <td>NaN</td>\n      <td>NaN</td>\n      <td>NaN</td>\n      <td>John Rogers</td>\n      <td>NaN</td>\n      <td>/m/0g8ngmw</td>\n      <td>NaN</td>\n      <td>/m/0btz19d</td>\n    </tr>\n  </tbody>\n</table>\n<p>450669 rows × 13 columns</p>\n</div>"
     },
     "execution_count": 4,
     "metadata": {},
     "output_type": "execute_result"
    }
   ],
   "source": [
    "character_header = [\n",
    "    \"Wikipedia movie ID\",\n",
    "    \"Freebase movie ID\",\n",
    "    \"Movie release date\",\n",
    "    \"Character name\",\n",
    "    \"Actor date of birth\",\n",
    "    \"Actor gender\",\n",
    "    \"Actor height (in meters)\",\n",
    "    \"Actor ethnicity (Freebase ID)\",\n",
    "    \"Actor name\",\n",
    "    \"Actor age at movie release\",\n",
    "    \"Freebase character/actor map ID\",\n",
    "    \"Freebase character ID\",\n",
    "    \"Freebase actor ID\"\n",
    "]\n",
    "df_characters = pd.read_csv(data_folder + 'character.metadata.tsv', names=character_header, sep='\\t')\n",
    "df_characters"
   ],
   "metadata": {
    "collapsed": false
   }
  },
  {
   "cell_type": "code",
   "execution_count": 5,
   "outputs": [
    {
     "data": {
      "text/plain": "        Wikipedia movie ID Freebase movie ID Movie release date  \\\n1                   975900         /m/03vyhn         2001-08-24   \n2                   975900         /m/03vyhn         2001-08-24   \n5                   975900         /m/03vyhn         2001-08-24   \n11                  975900         /m/03vyhn         2001-08-24   \n27                 3196793         /m/08yl5d         2000-02-16   \n...                    ...               ...                ...   \n450627            23687925        /m/06zmdnc               1952   \n450631            30553937        /m/0g9ts5h         1998-03-07   \n450643            12476867        /m/02w7zz8               2002   \n450644            12476867        /m/02w7zz8               2002   \n450666            28308153        /m/0cp05t9               1957   \n\n                    Character name Actor date of birth Actor gender  \\\n1       Lieutenant Melanie Ballard          1974-08-15            F   \n2              Desolation Williams          1969-06-15            M   \n5        Commander Helena Braddock          1949-05-26            F   \n11                            Tres          1959-03-09            M   \n27                             NaN          1937-11-10            M   \n...                            ...                 ...          ...   \n450627                         NaN          1930-08-28            M   \n450631                       Tracy          1967-03-16            F   \n450643                         NaN          1980-06-24            F   \n450644                         NaN          1946-07-02            M   \n450666                         NaN          1941-11-18            M   \n\n        Actor height (in meters) Actor ethnicity (Freebase ID)  \\\n1                          1.780                    /m/044038p   \n2                          1.727                       /m/0x67   \n5                          1.727                       /m/0x67   \n11                           NaN                     /m/064b9n   \n27                           NaN                       /m/0x67   \n...                          ...                           ...   \n450627                     1.790                      /m/0xnvg   \n450631                     1.746                     /m/033tf_   \n450643                     1.720                      /m/041rx   \n450644                     1.740                      /m/041rx   \n450666                     1.730                     /m/02w7gg   \n\n                Actor name  Actor age at movie release  \\\n1       Natasha Henstridge                        27.0   \n2                 Ice Cube                        32.0   \n5                Pam Grier                        52.0   \n11         Rodney A. Grant                        42.0   \n27             Albert Hall                        62.0   \n...                    ...                         ...   \n450627         Ben Gazzara                        21.0   \n450631       Lauren Graham                        30.0   \n450643       Liane Balaban                        21.0   \n450644          Ron Silver                        55.0   \n450666      David Hemmings                        15.0   \n\n       Freebase character/actor map ID Freebase character ID Freebase actor ID  \n1                            /m/0jys3m            /m/0bgchn4         /m/0346l4  \n2                            /m/0jys3g            /m/0bgchn_        /m/01vw26l  \n5                           /m/02vdcfp            /m/0bgchnd         /m/0418ft  \n11                          /m/0bgchrs            /m/0bgchrw         /m/03ydsb  \n27                          /m/0lr37dy                   NaN         /m/01lntp  \n...                                ...                   ...               ...  \n450627                      /m/0j2fmbs                   NaN         /m/0428bc  \n450631                      /m/0gw3h6q            /m/0h1gk0m         /m/03c6v3  \n450643                      /m/03jpb_5                   NaN        /m/02pn4z4  \n450644                      /m/04hv69s                   NaN         /m/03swmf  \n450666                      /m/0g8ngmc                   NaN         /m/022g44  \n\n[106058 rows x 13 columns]",
      "text/html": "<div>\n<style scoped>\n    .dataframe tbody tr th:only-of-type {\n        vertical-align: middle;\n    }\n\n    .dataframe tbody tr th {\n        vertical-align: top;\n    }\n\n    .dataframe thead th {\n        text-align: right;\n    }\n</style>\n<table border=\"1\" class=\"dataframe\">\n  <thead>\n    <tr style=\"text-align: right;\">\n      <th></th>\n      <th>Wikipedia movie ID</th>\n      <th>Freebase movie ID</th>\n      <th>Movie release date</th>\n      <th>Character name</th>\n      <th>Actor date of birth</th>\n      <th>Actor gender</th>\n      <th>Actor height (in meters)</th>\n      <th>Actor ethnicity (Freebase ID)</th>\n      <th>Actor name</th>\n      <th>Actor age at movie release</th>\n      <th>Freebase character/actor map ID</th>\n      <th>Freebase character ID</th>\n      <th>Freebase actor ID</th>\n    </tr>\n  </thead>\n  <tbody>\n    <tr>\n      <th>1</th>\n      <td>975900</td>\n      <td>/m/03vyhn</td>\n      <td>2001-08-24</td>\n      <td>Lieutenant Melanie Ballard</td>\n      <td>1974-08-15</td>\n      <td>F</td>\n      <td>1.780</td>\n      <td>/m/044038p</td>\n      <td>Natasha Henstridge</td>\n      <td>27.0</td>\n      <td>/m/0jys3m</td>\n      <td>/m/0bgchn4</td>\n      <td>/m/0346l4</td>\n    </tr>\n    <tr>\n      <th>2</th>\n      <td>975900</td>\n      <td>/m/03vyhn</td>\n      <td>2001-08-24</td>\n      <td>Desolation Williams</td>\n      <td>1969-06-15</td>\n      <td>M</td>\n      <td>1.727</td>\n      <td>/m/0x67</td>\n      <td>Ice Cube</td>\n      <td>32.0</td>\n      <td>/m/0jys3g</td>\n      <td>/m/0bgchn_</td>\n      <td>/m/01vw26l</td>\n    </tr>\n    <tr>\n      <th>5</th>\n      <td>975900</td>\n      <td>/m/03vyhn</td>\n      <td>2001-08-24</td>\n      <td>Commander Helena Braddock</td>\n      <td>1949-05-26</td>\n      <td>F</td>\n      <td>1.727</td>\n      <td>/m/0x67</td>\n      <td>Pam Grier</td>\n      <td>52.0</td>\n      <td>/m/02vdcfp</td>\n      <td>/m/0bgchnd</td>\n      <td>/m/0418ft</td>\n    </tr>\n    <tr>\n      <th>11</th>\n      <td>975900</td>\n      <td>/m/03vyhn</td>\n      <td>2001-08-24</td>\n      <td>Tres</td>\n      <td>1959-03-09</td>\n      <td>M</td>\n      <td>NaN</td>\n      <td>/m/064b9n</td>\n      <td>Rodney A. Grant</td>\n      <td>42.0</td>\n      <td>/m/0bgchrs</td>\n      <td>/m/0bgchrw</td>\n      <td>/m/03ydsb</td>\n    </tr>\n    <tr>\n      <th>27</th>\n      <td>3196793</td>\n      <td>/m/08yl5d</td>\n      <td>2000-02-16</td>\n      <td>NaN</td>\n      <td>1937-11-10</td>\n      <td>M</td>\n      <td>NaN</td>\n      <td>/m/0x67</td>\n      <td>Albert Hall</td>\n      <td>62.0</td>\n      <td>/m/0lr37dy</td>\n      <td>NaN</td>\n      <td>/m/01lntp</td>\n    </tr>\n    <tr>\n      <th>...</th>\n      <td>...</td>\n      <td>...</td>\n      <td>...</td>\n      <td>...</td>\n      <td>...</td>\n      <td>...</td>\n      <td>...</td>\n      <td>...</td>\n      <td>...</td>\n      <td>...</td>\n      <td>...</td>\n      <td>...</td>\n      <td>...</td>\n    </tr>\n    <tr>\n      <th>450627</th>\n      <td>23687925</td>\n      <td>/m/06zmdnc</td>\n      <td>1952</td>\n      <td>NaN</td>\n      <td>1930-08-28</td>\n      <td>M</td>\n      <td>1.790</td>\n      <td>/m/0xnvg</td>\n      <td>Ben Gazzara</td>\n      <td>21.0</td>\n      <td>/m/0j2fmbs</td>\n      <td>NaN</td>\n      <td>/m/0428bc</td>\n    </tr>\n    <tr>\n      <th>450631</th>\n      <td>30553937</td>\n      <td>/m/0g9ts5h</td>\n      <td>1998-03-07</td>\n      <td>Tracy</td>\n      <td>1967-03-16</td>\n      <td>F</td>\n      <td>1.746</td>\n      <td>/m/033tf_</td>\n      <td>Lauren Graham</td>\n      <td>30.0</td>\n      <td>/m/0gw3h6q</td>\n      <td>/m/0h1gk0m</td>\n      <td>/m/03c6v3</td>\n    </tr>\n    <tr>\n      <th>450643</th>\n      <td>12476867</td>\n      <td>/m/02w7zz8</td>\n      <td>2002</td>\n      <td>NaN</td>\n      <td>1980-06-24</td>\n      <td>F</td>\n      <td>1.720</td>\n      <td>/m/041rx</td>\n      <td>Liane Balaban</td>\n      <td>21.0</td>\n      <td>/m/03jpb_5</td>\n      <td>NaN</td>\n      <td>/m/02pn4z4</td>\n    </tr>\n    <tr>\n      <th>450644</th>\n      <td>12476867</td>\n      <td>/m/02w7zz8</td>\n      <td>2002</td>\n      <td>NaN</td>\n      <td>1946-07-02</td>\n      <td>M</td>\n      <td>1.740</td>\n      <td>/m/041rx</td>\n      <td>Ron Silver</td>\n      <td>55.0</td>\n      <td>/m/04hv69s</td>\n      <td>NaN</td>\n      <td>/m/03swmf</td>\n    </tr>\n    <tr>\n      <th>450666</th>\n      <td>28308153</td>\n      <td>/m/0cp05t9</td>\n      <td>1957</td>\n      <td>NaN</td>\n      <td>1941-11-18</td>\n      <td>M</td>\n      <td>1.730</td>\n      <td>/m/02w7gg</td>\n      <td>David Hemmings</td>\n      <td>15.0</td>\n      <td>/m/0g8ngmc</td>\n      <td>NaN</td>\n      <td>/m/022g44</td>\n    </tr>\n  </tbody>\n</table>\n<p>106058 rows × 13 columns</p>\n</div>"
     },
     "execution_count": 5,
     "metadata": {},
     "output_type": "execute_result"
    }
   ],
   "source": [
    "#Keep only characters with valid ethnicities\n",
    "df_characters = df_characters[df_characters['Actor ethnicity (Freebase ID)'].notnull()]\n",
    "df_characters"
   ],
   "metadata": {
    "collapsed": false
   }
  },
  {
   "cell_type": "code",
   "execution_count": 43,
   "outputs": [
    {
     "data": {
      "text/plain": "       Wikipedia Movie ID Freebase Movie ID  \\\n0                  975900         /m/03vyhn   \n1                 3196793         /m/08yl5d   \n2                28463795        /m/0crgdbh   \n3                 9363483        /m/0285_cd   \n4                  261236         /m/01mrr1   \n...                   ...               ...   \n81736            35228177        /m/0j7hxnt   \n81737            34980460        /m/0g4pl34   \n81738             9971909        /m/02pygw1   \n81739              913762         /m/03pcrp   \n81740            12476867        /m/02w7zz8   \n\n                                              Movie name Movie release date  \\\n0                                         Ghosts of Mars         2001-08-24   \n1      Getting Away with Murder: The JonBenét Ramsey ...         2000-02-16   \n2                                            Brun bitter               1988   \n3                                       White Of The Eye               1987   \n4                                      A Woman in Flames               1983   \n...                                                  ...                ...   \n81736                           Mermaids: The Body Found         2011-03-19   \n81737                                            Knuckle         2011-01-21   \n81738                                  Another Nice Mess         1972-09-22   \n81739  The Super Dimension Fortress Macross II: Lover...         1992-05-21   \n81740                                            Spliced               2002   \n\n       Movie box office revenue  Movie runtime  \\\n0                    14010832.0           98.0   \n1                           NaN           95.0   \n2                           NaN           83.0   \n3                           NaN          110.0   \n4                           NaN          106.0   \n...                         ...            ...   \n81736                       NaN          120.0   \n81737                       NaN           96.0   \n81738                       NaN           66.0   \n81739                       NaN          150.0   \n81740                       NaN           86.0   \n\n                          Movie languages  \\\n0      {\"/m/02h40lc\": \"English Language\"}   \n1      {\"/m/02h40lc\": \"English Language\"}   \n2      {\"/m/05f_3\": \"Norwegian Language\"}   \n3      {\"/m/02h40lc\": \"English Language\"}   \n4       {\"/m/04306rv\": \"German Language\"}   \n...                                   ...   \n81736  {\"/m/02h40lc\": \"English Language\"}   \n81737  {\"/m/02h40lc\": \"English Language\"}   \n81738  {\"/m/02h40lc\": \"English Language\"}   \n81739   {\"/m/03_9r\": \"Japanese Language\"}   \n81740  {\"/m/02h40lc\": \"English Language\"}   \n\n                                         Movie countries  \\\n0              {\"/m/09c7w0\": \"United States of America\"}   \n1              {\"/m/09c7w0\": \"United States of America\"}   \n2                                 {\"/m/05b4w\": \"Norway\"}   \n3                         {\"/m/07ssc\": \"United Kingdom\"}   \n4                                {\"/m/0345h\": \"Germany\"}   \n...                                                  ...   \n81736          {\"/m/09c7w0\": \"United States of America\"}   \n81737  {\"/m/03rt9\": \"Ireland\", \"/m/07ssc\": \"United Ki...   \n81738          {\"/m/09c7w0\": \"United States of America\"}   \n81739                              {\"/m/03_3d\": \"Japan\"}   \n81740                            {\"/m/0d060g\": \"Canada\"}   \n\n                                            Movie genres  \n0      {\"/m/01jfsb\": \"Thriller\", \"/m/06n90\": \"Science...  \n1      {\"/m/02n4kr\": \"Mystery\", \"/m/03bxz7\": \"Biograp...  \n2      {\"/m/0lsxr\": \"Crime Fiction\", \"/m/07s9rl0\": \"D...  \n3      {\"/m/01jfsb\": \"Thriller\", \"/m/0glj9q\": \"Erotic...  \n4                                {\"/m/07s9rl0\": \"Drama\"}  \n...                                                  ...  \n81736                            {\"/m/07s9rl0\": \"Drama\"}  \n81737  {\"/m/03bxz7\": \"Biographical film\", \"/m/07s9rl0...  \n81738       {\"/m/06nbt\": \"Satire\", \"/m/01z4y\": \"Comedy\"}  \n81739  {\"/m/06n90\": \"Science Fiction\", \"/m/0gw5n2f\": ...  \n81740  {\"/m/01jfsb\": \"Thriller\", \"/m/03npn\": \"Horror\"...  \n\n[81741 rows x 9 columns]",
      "text/html": "<div>\n<style scoped>\n    .dataframe tbody tr th:only-of-type {\n        vertical-align: middle;\n    }\n\n    .dataframe tbody tr th {\n        vertical-align: top;\n    }\n\n    .dataframe thead th {\n        text-align: right;\n    }\n</style>\n<table border=\"1\" class=\"dataframe\">\n  <thead>\n    <tr style=\"text-align: right;\">\n      <th></th>\n      <th>Wikipedia Movie ID</th>\n      <th>Freebase Movie ID</th>\n      <th>Movie name</th>\n      <th>Movie release date</th>\n      <th>Movie box office revenue</th>\n      <th>Movie runtime</th>\n      <th>Movie languages</th>\n      <th>Movie countries</th>\n      <th>Movie genres</th>\n    </tr>\n  </thead>\n  <tbody>\n    <tr>\n      <th>0</th>\n      <td>975900</td>\n      <td>/m/03vyhn</td>\n      <td>Ghosts of Mars</td>\n      <td>2001-08-24</td>\n      <td>14010832.0</td>\n      <td>98.0</td>\n      <td>{\"/m/02h40lc\": \"English Language\"}</td>\n      <td>{\"/m/09c7w0\": \"United States of America\"}</td>\n      <td>{\"/m/01jfsb\": \"Thriller\", \"/m/06n90\": \"Science...</td>\n    </tr>\n    <tr>\n      <th>1</th>\n      <td>3196793</td>\n      <td>/m/08yl5d</td>\n      <td>Getting Away with Murder: The JonBenét Ramsey ...</td>\n      <td>2000-02-16</td>\n      <td>NaN</td>\n      <td>95.0</td>\n      <td>{\"/m/02h40lc\": \"English Language\"}</td>\n      <td>{\"/m/09c7w0\": \"United States of America\"}</td>\n      <td>{\"/m/02n4kr\": \"Mystery\", \"/m/03bxz7\": \"Biograp...</td>\n    </tr>\n    <tr>\n      <th>2</th>\n      <td>28463795</td>\n      <td>/m/0crgdbh</td>\n      <td>Brun bitter</td>\n      <td>1988</td>\n      <td>NaN</td>\n      <td>83.0</td>\n      <td>{\"/m/05f_3\": \"Norwegian Language\"}</td>\n      <td>{\"/m/05b4w\": \"Norway\"}</td>\n      <td>{\"/m/0lsxr\": \"Crime Fiction\", \"/m/07s9rl0\": \"D...</td>\n    </tr>\n    <tr>\n      <th>3</th>\n      <td>9363483</td>\n      <td>/m/0285_cd</td>\n      <td>White Of The Eye</td>\n      <td>1987</td>\n      <td>NaN</td>\n      <td>110.0</td>\n      <td>{\"/m/02h40lc\": \"English Language\"}</td>\n      <td>{\"/m/07ssc\": \"United Kingdom\"}</td>\n      <td>{\"/m/01jfsb\": \"Thriller\", \"/m/0glj9q\": \"Erotic...</td>\n    </tr>\n    <tr>\n      <th>4</th>\n      <td>261236</td>\n      <td>/m/01mrr1</td>\n      <td>A Woman in Flames</td>\n      <td>1983</td>\n      <td>NaN</td>\n      <td>106.0</td>\n      <td>{\"/m/04306rv\": \"German Language\"}</td>\n      <td>{\"/m/0345h\": \"Germany\"}</td>\n      <td>{\"/m/07s9rl0\": \"Drama\"}</td>\n    </tr>\n    <tr>\n      <th>...</th>\n      <td>...</td>\n      <td>...</td>\n      <td>...</td>\n      <td>...</td>\n      <td>...</td>\n      <td>...</td>\n      <td>...</td>\n      <td>...</td>\n      <td>...</td>\n    </tr>\n    <tr>\n      <th>81736</th>\n      <td>35228177</td>\n      <td>/m/0j7hxnt</td>\n      <td>Mermaids: The Body Found</td>\n      <td>2011-03-19</td>\n      <td>NaN</td>\n      <td>120.0</td>\n      <td>{\"/m/02h40lc\": \"English Language\"}</td>\n      <td>{\"/m/09c7w0\": \"United States of America\"}</td>\n      <td>{\"/m/07s9rl0\": \"Drama\"}</td>\n    </tr>\n    <tr>\n      <th>81737</th>\n      <td>34980460</td>\n      <td>/m/0g4pl34</td>\n      <td>Knuckle</td>\n      <td>2011-01-21</td>\n      <td>NaN</td>\n      <td>96.0</td>\n      <td>{\"/m/02h40lc\": \"English Language\"}</td>\n      <td>{\"/m/03rt9\": \"Ireland\", \"/m/07ssc\": \"United Ki...</td>\n      <td>{\"/m/03bxz7\": \"Biographical film\", \"/m/07s9rl0...</td>\n    </tr>\n    <tr>\n      <th>81738</th>\n      <td>9971909</td>\n      <td>/m/02pygw1</td>\n      <td>Another Nice Mess</td>\n      <td>1972-09-22</td>\n      <td>NaN</td>\n      <td>66.0</td>\n      <td>{\"/m/02h40lc\": \"English Language\"}</td>\n      <td>{\"/m/09c7w0\": \"United States of America\"}</td>\n      <td>{\"/m/06nbt\": \"Satire\", \"/m/01z4y\": \"Comedy\"}</td>\n    </tr>\n    <tr>\n      <th>81739</th>\n      <td>913762</td>\n      <td>/m/03pcrp</td>\n      <td>The Super Dimension Fortress Macross II: Lover...</td>\n      <td>1992-05-21</td>\n      <td>NaN</td>\n      <td>150.0</td>\n      <td>{\"/m/03_9r\": \"Japanese Language\"}</td>\n      <td>{\"/m/03_3d\": \"Japan\"}</td>\n      <td>{\"/m/06n90\": \"Science Fiction\", \"/m/0gw5n2f\": ...</td>\n    </tr>\n    <tr>\n      <th>81740</th>\n      <td>12476867</td>\n      <td>/m/02w7zz8</td>\n      <td>Spliced</td>\n      <td>2002</td>\n      <td>NaN</td>\n      <td>86.0</td>\n      <td>{\"/m/02h40lc\": \"English Language\"}</td>\n      <td>{\"/m/0d060g\": \"Canada\"}</td>\n      <td>{\"/m/01jfsb\": \"Thriller\", \"/m/03npn\": \"Horror\"...</td>\n    </tr>\n  </tbody>\n</table>\n<p>81741 rows × 9 columns</p>\n</div>"
     },
     "execution_count": 43,
     "metadata": {},
     "output_type": "execute_result"
    }
   ],
   "source": [
    "meta_data = pd.read_csv(meta, sep='\\t',\n",
    "                        names=['Wikipedia Movie ID', 'Freebase Movie ID', 'Movie name', 'Movie release date', 'Movie box office revenue', 'Movie runtime', 'Movie languages', 'Movie countries', 'Movie genres'])\n",
    "meta_data"
   ],
   "metadata": {
    "collapsed": false
   }
  },
  {
   "cell_type": "code",
   "execution_count": 9,
   "outputs": [
    {
     "data": {
      "text/plain": "{\"/m/09c7w0\": \"United States of America\"}                                                                                                                                                                            30300\n{\"/m/03rk0\": \"India\"}                                                                                                                                                                                                 8240\n{}                                                                                                                                                                                                                    8154\n{\"/m/07ssc\": \"United Kingdom\"}                                                                                                                                                                                        5343\n{\"/m/03_3d\": \"Japan\"}                                                                                                                                                                                                 2242\n                                                                                                                                                                                                                     ...  \n{\"/m/06mkj\": \"Spain\", \"/m/02jx1\": \"England\", \"/m/07ssc\": \"United Kingdom\"}                                                                                                                                               1\n{\"/m/09c7w0\": \"United States of America\", \"/m/06mkj\": \"Spain\", \"/m/0k6nt\": \"Denmark\", \"/m/0f8l9c\": \"France\", \"/m/03rjj\": \"Italy\", \"/m/07ssc\": \"United Kingdom\", \"/m/0345h\": \"Germany\", \"/m/059j2\": \"Netherlands\"}        1\n{\"/m/01mjq\": \"Czech Republic\", \"/m/087vz\": \"Yugoslavia\", \"/m/01mk6\": \"Czechoslovakia\"}                                                                                                                                   1\n{\"/m/02vzc\": \"Finland\", \"/m/07t21\": \"Ukraine\", \"/m/06bnz\": \"Russia\"}                                                                                                                                                     1\n{\"/m/06mzp\": \"Switzerland\", \"/m/03rjj\": \"Italy\", \"/m/082fr\": \"West Germany\", \"/m/03f2w\": \"German Democratic Republic\"}                                                                                                   1\nName: Movie countries, Length: 2124, dtype: int64"
     },
     "execution_count": 9,
     "metadata": {},
     "output_type": "execute_result"
    }
   ],
   "source": [
    "meta_data['Movie countries'].value_counts()"
   ],
   "metadata": {
    "collapsed": false
   }
  },
  {
   "cell_type": "code",
   "execution_count": 16,
   "outputs": [
    {
     "data": {
      "text/plain": "      movie_freebase_id  movie_id  \\\n0            /m/02rjv0t  Q1000394   \n4             /m/0f1r9p  Q1000826   \n8            /m/03d963m  Q1001996   \n9             /m/0c7vj8  Q1001943   \n10            /m/01fxc3  Q1002142   \n...                 ...       ...   \n75187         /m/07zsmk   Q998219   \n75188         /m/0806nm   Q999370   \n75189         /m/08njw9   Q998565   \n75191         /m/0b7gjf   Q999353   \n75192         /m/03sb0b   Q998377   \n\n                                              movie_name  \\\n0                                        This Modern Age   \n4                          Guns of the Magnificent Seven   \n8                                          Buffalo Dance   \n9      Buffalo Bill and the Indians, or Sitting Bull'...   \n10                                           Buffalo '66   \n...                                                  ...   \n75187                                   The Benchwarmers   \n75188                    Buck Rogers in the 25th Century   \n75189                                         Magic Town   \n75191                                      Buck Privates   \n75192                                    What About Bob?   \n\n                             movie_genre              movie_origin  \\\n0                             drama film  United States of America   \n4                           Western film  United States of America   \n8                       documentary film  United States of America   \n9                           Western film  United States of America   \n10                       romantic comedy  United States of America   \n...                                  ...                       ...   \n75187                         buddy film  United States of America   \n75188  science fiction television series  United States of America   \n75189                    romantic comedy  United States of America   \n75191                        comedy film  United States of America   \n75192                        comedy film  United States of America   \n\n      movie_release  box_office_value director_id             director_name  \\\n0        1931-08-29               NaN    Q1985392               Nick Grinde   \n4        1969-01-01               NaN     Q450601              Paul Wendkos   \n8        1894-01-01               NaN     Q465350   William Kennedy Dickson   \n9        1976-06-24               NaN      Q55163             Robert Altman   \n10       1998-01-01               NaN     Q362353             Vincent Gallo   \n...             ...               ...         ...                       ...   \n75187    2007-01-01               NaN     Q518868              Dennis Dugan   \n75188    1979-03-30               NaN         NaN                       NaN   \n75189    1947-01-01               NaN     Q290962  William Augustus Wellman   \n75191    1941-01-01               NaN     Q327493              Arthur Lubin   \n75192    1991-01-01        63707829.0     Q311319                  Frank Oz   \n\n      director_gender  ...            cast_3_country cast_3_birth  \\\n0                male  ...                    France   1878-06-02   \n4                male  ...  United States of America   1914-07-24   \n8                male  ...                       NaN          NaN   \n9                male  ...  United States of America   1939-05-13   \n10               male  ...  United States of America   1961-04-11   \n...               ...  ...                       ...          ...   \n75187            male  ...  United States of America   1957-07-21   \n75188             NaN  ...            United Kingdom   1903-05-12   \n75189            male  ...                    Canada   1883-11-19   \n75191            male  ...                       NaN          NaN   \n75192            male  ...  United States of America   1978-07-20   \n\n       cast_3_age_at_release cast_id_4          cast_4_name cast_4_gender  \\\n0                       53.0  Q2831060         Albert Conti          male   \n4                       55.0   Q465643        George Rigaud          male   \n8                        NaN       NaN                  NaN           NaN   \n9                       37.0   Q537322         Will Sampson          male   \n10                      37.0   Q178552        Mickey Rourke          male   \n...                      ...       ...                  ...           ...   \n75187                   50.0   Q236537           Molly Sims        female   \n75188                    NaN  Q2847606     Thom Christopher          male   \n75189                   64.0  Q1704485         Wallace Ford          male   \n75191                    NaN   Q972398  The Andrews Sisters           NaN   \n75192                   13.0   Q436839         Kathryn Erbe        female   \n\n                 cast_4_country cast_4_birth  cast_4_age_at_release  \\\n0      United States of America   1887-01-29                   44.0   \n4                     Argentina   1905-08-11                   64.0   \n8                           NaN          NaN                    NaN   \n9      United States of America   1933-09-27                   43.0   \n10     United States of America   1952-09-16                   46.0   \n...                         ...          ...                    ...   \n75187  United States of America   1973-05-25                   34.0   \n75188  United States of America   1940-10-05                    NaN   \n75189            United Kingdom   1898-02-12                   49.0   \n75191  United States of America   1925-01-01                   16.0   \n75192  United States of America   1965-07-05                   26.0   \n\n      movie_imdb_id  \n0         tt0022478  \n4         tt0064395  \n8         tt0309402  \n9         tt0074254  \n10        tt0118789  \n...             ...  \n75187     tt0437863  \n75188     tt0078579  \n75189     tt0039595  \n75191     tt0033436  \n75192     tt0103241  \n\n[32004 rows x 50 columns]",
      "text/html": "<div>\n<style scoped>\n    .dataframe tbody tr th:only-of-type {\n        vertical-align: middle;\n    }\n\n    .dataframe tbody tr th {\n        vertical-align: top;\n    }\n\n    .dataframe thead th {\n        text-align: right;\n    }\n</style>\n<table border=\"1\" class=\"dataframe\">\n  <thead>\n    <tr style=\"text-align: right;\">\n      <th></th>\n      <th>movie_freebase_id</th>\n      <th>movie_id</th>\n      <th>movie_name</th>\n      <th>movie_genre</th>\n      <th>movie_origin</th>\n      <th>movie_release</th>\n      <th>box_office_value</th>\n      <th>director_id</th>\n      <th>director_name</th>\n      <th>director_gender</th>\n      <th>...</th>\n      <th>cast_3_country</th>\n      <th>cast_3_birth</th>\n      <th>cast_3_age_at_release</th>\n      <th>cast_id_4</th>\n      <th>cast_4_name</th>\n      <th>cast_4_gender</th>\n      <th>cast_4_country</th>\n      <th>cast_4_birth</th>\n      <th>cast_4_age_at_release</th>\n      <th>movie_imdb_id</th>\n    </tr>\n  </thead>\n  <tbody>\n    <tr>\n      <th>0</th>\n      <td>/m/02rjv0t</td>\n      <td>Q1000394</td>\n      <td>This Modern Age</td>\n      <td>drama film</td>\n      <td>United States of America</td>\n      <td>1931-08-29</td>\n      <td>NaN</td>\n      <td>Q1985392</td>\n      <td>Nick Grinde</td>\n      <td>male</td>\n      <td>...</td>\n      <td>France</td>\n      <td>1878-06-02</td>\n      <td>53.0</td>\n      <td>Q2831060</td>\n      <td>Albert Conti</td>\n      <td>male</td>\n      <td>United States of America</td>\n      <td>1887-01-29</td>\n      <td>44.0</td>\n      <td>tt0022478</td>\n    </tr>\n    <tr>\n      <th>4</th>\n      <td>/m/0f1r9p</td>\n      <td>Q1000826</td>\n      <td>Guns of the Magnificent Seven</td>\n      <td>Western film</td>\n      <td>United States of America</td>\n      <td>1969-01-01</td>\n      <td>NaN</td>\n      <td>Q450601</td>\n      <td>Paul Wendkos</td>\n      <td>male</td>\n      <td>...</td>\n      <td>United States of America</td>\n      <td>1914-07-24</td>\n      <td>55.0</td>\n      <td>Q465643</td>\n      <td>George Rigaud</td>\n      <td>male</td>\n      <td>Argentina</td>\n      <td>1905-08-11</td>\n      <td>64.0</td>\n      <td>tt0064395</td>\n    </tr>\n    <tr>\n      <th>8</th>\n      <td>/m/03d963m</td>\n      <td>Q1001996</td>\n      <td>Buffalo Dance</td>\n      <td>documentary film</td>\n      <td>United States of America</td>\n      <td>1894-01-01</td>\n      <td>NaN</td>\n      <td>Q465350</td>\n      <td>William Kennedy Dickson</td>\n      <td>male</td>\n      <td>...</td>\n      <td>NaN</td>\n      <td>NaN</td>\n      <td>NaN</td>\n      <td>NaN</td>\n      <td>NaN</td>\n      <td>NaN</td>\n      <td>NaN</td>\n      <td>NaN</td>\n      <td>NaN</td>\n      <td>tt0309402</td>\n    </tr>\n    <tr>\n      <th>9</th>\n      <td>/m/0c7vj8</td>\n      <td>Q1001943</td>\n      <td>Buffalo Bill and the Indians, or Sitting Bull'...</td>\n      <td>Western film</td>\n      <td>United States of America</td>\n      <td>1976-06-24</td>\n      <td>NaN</td>\n      <td>Q55163</td>\n      <td>Robert Altman</td>\n      <td>male</td>\n      <td>...</td>\n      <td>United States of America</td>\n      <td>1939-05-13</td>\n      <td>37.0</td>\n      <td>Q537322</td>\n      <td>Will Sampson</td>\n      <td>male</td>\n      <td>United States of America</td>\n      <td>1933-09-27</td>\n      <td>43.0</td>\n      <td>tt0074254</td>\n    </tr>\n    <tr>\n      <th>10</th>\n      <td>/m/01fxc3</td>\n      <td>Q1002142</td>\n      <td>Buffalo '66</td>\n      <td>romantic comedy</td>\n      <td>United States of America</td>\n      <td>1998-01-01</td>\n      <td>NaN</td>\n      <td>Q362353</td>\n      <td>Vincent Gallo</td>\n      <td>male</td>\n      <td>...</td>\n      <td>United States of America</td>\n      <td>1961-04-11</td>\n      <td>37.0</td>\n      <td>Q178552</td>\n      <td>Mickey Rourke</td>\n      <td>male</td>\n      <td>United States of America</td>\n      <td>1952-09-16</td>\n      <td>46.0</td>\n      <td>tt0118789</td>\n    </tr>\n    <tr>\n      <th>...</th>\n      <td>...</td>\n      <td>...</td>\n      <td>...</td>\n      <td>...</td>\n      <td>...</td>\n      <td>...</td>\n      <td>...</td>\n      <td>...</td>\n      <td>...</td>\n      <td>...</td>\n      <td>...</td>\n      <td>...</td>\n      <td>...</td>\n      <td>...</td>\n      <td>...</td>\n      <td>...</td>\n      <td>...</td>\n      <td>...</td>\n      <td>...</td>\n      <td>...</td>\n      <td>...</td>\n    </tr>\n    <tr>\n      <th>75187</th>\n      <td>/m/07zsmk</td>\n      <td>Q998219</td>\n      <td>The Benchwarmers</td>\n      <td>buddy film</td>\n      <td>United States of America</td>\n      <td>2007-01-01</td>\n      <td>NaN</td>\n      <td>Q518868</td>\n      <td>Dennis Dugan</td>\n      <td>male</td>\n      <td>...</td>\n      <td>United States of America</td>\n      <td>1957-07-21</td>\n      <td>50.0</td>\n      <td>Q236537</td>\n      <td>Molly Sims</td>\n      <td>female</td>\n      <td>United States of America</td>\n      <td>1973-05-25</td>\n      <td>34.0</td>\n      <td>tt0437863</td>\n    </tr>\n    <tr>\n      <th>75188</th>\n      <td>/m/0806nm</td>\n      <td>Q999370</td>\n      <td>Buck Rogers in the 25th Century</td>\n      <td>science fiction television series</td>\n      <td>United States of America</td>\n      <td>1979-03-30</td>\n      <td>NaN</td>\n      <td>NaN</td>\n      <td>NaN</td>\n      <td>NaN</td>\n      <td>...</td>\n      <td>United Kingdom</td>\n      <td>1903-05-12</td>\n      <td>NaN</td>\n      <td>Q2847606</td>\n      <td>Thom Christopher</td>\n      <td>male</td>\n      <td>United States of America</td>\n      <td>1940-10-05</td>\n      <td>NaN</td>\n      <td>tt0078579</td>\n    </tr>\n    <tr>\n      <th>75189</th>\n      <td>/m/08njw9</td>\n      <td>Q998565</td>\n      <td>Magic Town</td>\n      <td>romantic comedy</td>\n      <td>United States of America</td>\n      <td>1947-01-01</td>\n      <td>NaN</td>\n      <td>Q290962</td>\n      <td>William Augustus Wellman</td>\n      <td>male</td>\n      <td>...</td>\n      <td>Canada</td>\n      <td>1883-11-19</td>\n      <td>64.0</td>\n      <td>Q1704485</td>\n      <td>Wallace Ford</td>\n      <td>male</td>\n      <td>United Kingdom</td>\n      <td>1898-02-12</td>\n      <td>49.0</td>\n      <td>tt0039595</td>\n    </tr>\n    <tr>\n      <th>75191</th>\n      <td>/m/0b7gjf</td>\n      <td>Q999353</td>\n      <td>Buck Privates</td>\n      <td>comedy film</td>\n      <td>United States of America</td>\n      <td>1941-01-01</td>\n      <td>NaN</td>\n      <td>Q327493</td>\n      <td>Arthur Lubin</td>\n      <td>male</td>\n      <td>...</td>\n      <td>NaN</td>\n      <td>NaN</td>\n      <td>NaN</td>\n      <td>Q972398</td>\n      <td>The Andrews Sisters</td>\n      <td>NaN</td>\n      <td>United States of America</td>\n      <td>1925-01-01</td>\n      <td>16.0</td>\n      <td>tt0033436</td>\n    </tr>\n    <tr>\n      <th>75192</th>\n      <td>/m/03sb0b</td>\n      <td>Q998377</td>\n      <td>What About Bob?</td>\n      <td>comedy film</td>\n      <td>United States of America</td>\n      <td>1991-01-01</td>\n      <td>63707829.0</td>\n      <td>Q311319</td>\n      <td>Frank Oz</td>\n      <td>male</td>\n      <td>...</td>\n      <td>United States of America</td>\n      <td>1978-07-20</td>\n      <td>13.0</td>\n      <td>Q436839</td>\n      <td>Kathryn Erbe</td>\n      <td>female</td>\n      <td>United States of America</td>\n      <td>1965-07-05</td>\n      <td>26.0</td>\n      <td>tt0103241</td>\n    </tr>\n  </tbody>\n</table>\n<p>32004 rows × 50 columns</p>\n</div>"
     },
     "execution_count": 16,
     "metadata": {},
     "output_type": "execute_result"
    }
   ],
   "source": [
    "#Get movie origins from chars_extended\n",
    "chars_extended = pd.read_csv('/Users/ianapeix/Downloads/chars_extended.csv', sep=',')\n",
    "american = chars_extended[chars_extended['movie_origin'] == 'United States of America']\n",
    "american"
   ],
   "metadata": {
    "collapsed": false
   }
  },
  {
   "cell_type": "code",
   "execution_count": 17,
   "outputs": [
    {
     "name": "stderr",
     "output_type": "stream",
     "text": [
      "/var/folders/3c/mf6hd5hn0_bgp2m5ybnmsy8r0000gn/T/ipykernel_86679/4061315340.py:1: SettingWithCopyWarning:\n",
      "\n",
      "\n",
      "A value is trying to be set on a copy of a slice from a DataFrame\n",
      "\n",
      "See the caveats in the documentation: https://pandas.pydata.org/pandas-docs/stable/user_guide/indexing.html#returning-a-view-versus-a-copy\n",
      "\n"
     ]
    },
    {
     "data": {
      "text/plain": "      Freebase movie ID  movie_id  \\\n0            /m/02rjv0t  Q1000394   \n4             /m/0f1r9p  Q1000826   \n8            /m/03d963m  Q1001996   \n9             /m/0c7vj8  Q1001943   \n10            /m/01fxc3  Q1002142   \n...                 ...       ...   \n75187         /m/07zsmk   Q998219   \n75188         /m/0806nm   Q999370   \n75189         /m/08njw9   Q998565   \n75191         /m/0b7gjf   Q999353   \n75192         /m/03sb0b   Q998377   \n\n                                              movie_name  \\\n0                                        This Modern Age   \n4                          Guns of the Magnificent Seven   \n8                                          Buffalo Dance   \n9      Buffalo Bill and the Indians, or Sitting Bull'...   \n10                                           Buffalo '66   \n...                                                  ...   \n75187                                   The Benchwarmers   \n75188                    Buck Rogers in the 25th Century   \n75189                                         Magic Town   \n75191                                      Buck Privates   \n75192                                    What About Bob?   \n\n                             movie_genre              movie_origin  \\\n0                             drama film  United States of America   \n4                           Western film  United States of America   \n8                       documentary film  United States of America   \n9                           Western film  United States of America   \n10                       romantic comedy  United States of America   \n...                                  ...                       ...   \n75187                         buddy film  United States of America   \n75188  science fiction television series  United States of America   \n75189                    romantic comedy  United States of America   \n75191                        comedy film  United States of America   \n75192                        comedy film  United States of America   \n\n      movie_release  box_office_value director_id             director_name  \\\n0        1931-08-29               NaN    Q1985392               Nick Grinde   \n4        1969-01-01               NaN     Q450601              Paul Wendkos   \n8        1894-01-01               NaN     Q465350   William Kennedy Dickson   \n9        1976-06-24               NaN      Q55163             Robert Altman   \n10       1998-01-01               NaN     Q362353             Vincent Gallo   \n...             ...               ...         ...                       ...   \n75187    2007-01-01               NaN     Q518868              Dennis Dugan   \n75188    1979-03-30               NaN         NaN                       NaN   \n75189    1947-01-01               NaN     Q290962  William Augustus Wellman   \n75191    1941-01-01               NaN     Q327493              Arthur Lubin   \n75192    1991-01-01        63707829.0     Q311319                  Frank Oz   \n\n      director_gender  ...            cast_3_country cast_3_birth  \\\n0                male  ...                    France   1878-06-02   \n4                male  ...  United States of America   1914-07-24   \n8                male  ...                       NaN          NaN   \n9                male  ...  United States of America   1939-05-13   \n10               male  ...  United States of America   1961-04-11   \n...               ...  ...                       ...          ...   \n75187            male  ...  United States of America   1957-07-21   \n75188             NaN  ...            United Kingdom   1903-05-12   \n75189            male  ...                    Canada   1883-11-19   \n75191            male  ...                       NaN          NaN   \n75192            male  ...  United States of America   1978-07-20   \n\n       cast_3_age_at_release cast_id_4          cast_4_name cast_4_gender  \\\n0                       53.0  Q2831060         Albert Conti          male   \n4                       55.0   Q465643        George Rigaud          male   \n8                        NaN       NaN                  NaN           NaN   \n9                       37.0   Q537322         Will Sampson          male   \n10                      37.0   Q178552        Mickey Rourke          male   \n...                      ...       ...                  ...           ...   \n75187                   50.0   Q236537           Molly Sims        female   \n75188                    NaN  Q2847606     Thom Christopher          male   \n75189                   64.0  Q1704485         Wallace Ford          male   \n75191                    NaN   Q972398  The Andrews Sisters           NaN   \n75192                   13.0   Q436839         Kathryn Erbe        female   \n\n                 cast_4_country cast_4_birth  cast_4_age_at_release  \\\n0      United States of America   1887-01-29                   44.0   \n4                     Argentina   1905-08-11                   64.0   \n8                           NaN          NaN                    NaN   \n9      United States of America   1933-09-27                   43.0   \n10     United States of America   1952-09-16                   46.0   \n...                         ...          ...                    ...   \n75187  United States of America   1973-05-25                   34.0   \n75188  United States of America   1940-10-05                    NaN   \n75189            United Kingdom   1898-02-12                   49.0   \n75191  United States of America   1925-01-01                   16.0   \n75192  United States of America   1965-07-05                   26.0   \n\n      movie_imdb_id  \n0         tt0022478  \n4         tt0064395  \n8         tt0309402  \n9         tt0074254  \n10        tt0118789  \n...             ...  \n75187     tt0437863  \n75188     tt0078579  \n75189     tt0039595  \n75191     tt0033436  \n75192     tt0103241  \n\n[32004 rows x 50 columns]",
      "text/html": "<div>\n<style scoped>\n    .dataframe tbody tr th:only-of-type {\n        vertical-align: middle;\n    }\n\n    .dataframe tbody tr th {\n        vertical-align: top;\n    }\n\n    .dataframe thead th {\n        text-align: right;\n    }\n</style>\n<table border=\"1\" class=\"dataframe\">\n  <thead>\n    <tr style=\"text-align: right;\">\n      <th></th>\n      <th>Freebase movie ID</th>\n      <th>movie_id</th>\n      <th>movie_name</th>\n      <th>movie_genre</th>\n      <th>movie_origin</th>\n      <th>movie_release</th>\n      <th>box_office_value</th>\n      <th>director_id</th>\n      <th>director_name</th>\n      <th>director_gender</th>\n      <th>...</th>\n      <th>cast_3_country</th>\n      <th>cast_3_birth</th>\n      <th>cast_3_age_at_release</th>\n      <th>cast_id_4</th>\n      <th>cast_4_name</th>\n      <th>cast_4_gender</th>\n      <th>cast_4_country</th>\n      <th>cast_4_birth</th>\n      <th>cast_4_age_at_release</th>\n      <th>movie_imdb_id</th>\n    </tr>\n  </thead>\n  <tbody>\n    <tr>\n      <th>0</th>\n      <td>/m/02rjv0t</td>\n      <td>Q1000394</td>\n      <td>This Modern Age</td>\n      <td>drama film</td>\n      <td>United States of America</td>\n      <td>1931-08-29</td>\n      <td>NaN</td>\n      <td>Q1985392</td>\n      <td>Nick Grinde</td>\n      <td>male</td>\n      <td>...</td>\n      <td>France</td>\n      <td>1878-06-02</td>\n      <td>53.0</td>\n      <td>Q2831060</td>\n      <td>Albert Conti</td>\n      <td>male</td>\n      <td>United States of America</td>\n      <td>1887-01-29</td>\n      <td>44.0</td>\n      <td>tt0022478</td>\n    </tr>\n    <tr>\n      <th>4</th>\n      <td>/m/0f1r9p</td>\n      <td>Q1000826</td>\n      <td>Guns of the Magnificent Seven</td>\n      <td>Western film</td>\n      <td>United States of America</td>\n      <td>1969-01-01</td>\n      <td>NaN</td>\n      <td>Q450601</td>\n      <td>Paul Wendkos</td>\n      <td>male</td>\n      <td>...</td>\n      <td>United States of America</td>\n      <td>1914-07-24</td>\n      <td>55.0</td>\n      <td>Q465643</td>\n      <td>George Rigaud</td>\n      <td>male</td>\n      <td>Argentina</td>\n      <td>1905-08-11</td>\n      <td>64.0</td>\n      <td>tt0064395</td>\n    </tr>\n    <tr>\n      <th>8</th>\n      <td>/m/03d963m</td>\n      <td>Q1001996</td>\n      <td>Buffalo Dance</td>\n      <td>documentary film</td>\n      <td>United States of America</td>\n      <td>1894-01-01</td>\n      <td>NaN</td>\n      <td>Q465350</td>\n      <td>William Kennedy Dickson</td>\n      <td>male</td>\n      <td>...</td>\n      <td>NaN</td>\n      <td>NaN</td>\n      <td>NaN</td>\n      <td>NaN</td>\n      <td>NaN</td>\n      <td>NaN</td>\n      <td>NaN</td>\n      <td>NaN</td>\n      <td>NaN</td>\n      <td>tt0309402</td>\n    </tr>\n    <tr>\n      <th>9</th>\n      <td>/m/0c7vj8</td>\n      <td>Q1001943</td>\n      <td>Buffalo Bill and the Indians, or Sitting Bull'...</td>\n      <td>Western film</td>\n      <td>United States of America</td>\n      <td>1976-06-24</td>\n      <td>NaN</td>\n      <td>Q55163</td>\n      <td>Robert Altman</td>\n      <td>male</td>\n      <td>...</td>\n      <td>United States of America</td>\n      <td>1939-05-13</td>\n      <td>37.0</td>\n      <td>Q537322</td>\n      <td>Will Sampson</td>\n      <td>male</td>\n      <td>United States of America</td>\n      <td>1933-09-27</td>\n      <td>43.0</td>\n      <td>tt0074254</td>\n    </tr>\n    <tr>\n      <th>10</th>\n      <td>/m/01fxc3</td>\n      <td>Q1002142</td>\n      <td>Buffalo '66</td>\n      <td>romantic comedy</td>\n      <td>United States of America</td>\n      <td>1998-01-01</td>\n      <td>NaN</td>\n      <td>Q362353</td>\n      <td>Vincent Gallo</td>\n      <td>male</td>\n      <td>...</td>\n      <td>United States of America</td>\n      <td>1961-04-11</td>\n      <td>37.0</td>\n      <td>Q178552</td>\n      <td>Mickey Rourke</td>\n      <td>male</td>\n      <td>United States of America</td>\n      <td>1952-09-16</td>\n      <td>46.0</td>\n      <td>tt0118789</td>\n    </tr>\n    <tr>\n      <th>...</th>\n      <td>...</td>\n      <td>...</td>\n      <td>...</td>\n      <td>...</td>\n      <td>...</td>\n      <td>...</td>\n      <td>...</td>\n      <td>...</td>\n      <td>...</td>\n      <td>...</td>\n      <td>...</td>\n      <td>...</td>\n      <td>...</td>\n      <td>...</td>\n      <td>...</td>\n      <td>...</td>\n      <td>...</td>\n      <td>...</td>\n      <td>...</td>\n      <td>...</td>\n      <td>...</td>\n    </tr>\n    <tr>\n      <th>75187</th>\n      <td>/m/07zsmk</td>\n      <td>Q998219</td>\n      <td>The Benchwarmers</td>\n      <td>buddy film</td>\n      <td>United States of America</td>\n      <td>2007-01-01</td>\n      <td>NaN</td>\n      <td>Q518868</td>\n      <td>Dennis Dugan</td>\n      <td>male</td>\n      <td>...</td>\n      <td>United States of America</td>\n      <td>1957-07-21</td>\n      <td>50.0</td>\n      <td>Q236537</td>\n      <td>Molly Sims</td>\n      <td>female</td>\n      <td>United States of America</td>\n      <td>1973-05-25</td>\n      <td>34.0</td>\n      <td>tt0437863</td>\n    </tr>\n    <tr>\n      <th>75188</th>\n      <td>/m/0806nm</td>\n      <td>Q999370</td>\n      <td>Buck Rogers in the 25th Century</td>\n      <td>science fiction television series</td>\n      <td>United States of America</td>\n      <td>1979-03-30</td>\n      <td>NaN</td>\n      <td>NaN</td>\n      <td>NaN</td>\n      <td>NaN</td>\n      <td>...</td>\n      <td>United Kingdom</td>\n      <td>1903-05-12</td>\n      <td>NaN</td>\n      <td>Q2847606</td>\n      <td>Thom Christopher</td>\n      <td>male</td>\n      <td>United States of America</td>\n      <td>1940-10-05</td>\n      <td>NaN</td>\n      <td>tt0078579</td>\n    </tr>\n    <tr>\n      <th>75189</th>\n      <td>/m/08njw9</td>\n      <td>Q998565</td>\n      <td>Magic Town</td>\n      <td>romantic comedy</td>\n      <td>United States of America</td>\n      <td>1947-01-01</td>\n      <td>NaN</td>\n      <td>Q290962</td>\n      <td>William Augustus Wellman</td>\n      <td>male</td>\n      <td>...</td>\n      <td>Canada</td>\n      <td>1883-11-19</td>\n      <td>64.0</td>\n      <td>Q1704485</td>\n      <td>Wallace Ford</td>\n      <td>male</td>\n      <td>United Kingdom</td>\n      <td>1898-02-12</td>\n      <td>49.0</td>\n      <td>tt0039595</td>\n    </tr>\n    <tr>\n      <th>75191</th>\n      <td>/m/0b7gjf</td>\n      <td>Q999353</td>\n      <td>Buck Privates</td>\n      <td>comedy film</td>\n      <td>United States of America</td>\n      <td>1941-01-01</td>\n      <td>NaN</td>\n      <td>Q327493</td>\n      <td>Arthur Lubin</td>\n      <td>male</td>\n      <td>...</td>\n      <td>NaN</td>\n      <td>NaN</td>\n      <td>NaN</td>\n      <td>Q972398</td>\n      <td>The Andrews Sisters</td>\n      <td>NaN</td>\n      <td>United States of America</td>\n      <td>1925-01-01</td>\n      <td>16.0</td>\n      <td>tt0033436</td>\n    </tr>\n    <tr>\n      <th>75192</th>\n      <td>/m/03sb0b</td>\n      <td>Q998377</td>\n      <td>What About Bob?</td>\n      <td>comedy film</td>\n      <td>United States of America</td>\n      <td>1991-01-01</td>\n      <td>63707829.0</td>\n      <td>Q311319</td>\n      <td>Frank Oz</td>\n      <td>male</td>\n      <td>...</td>\n      <td>United States of America</td>\n      <td>1978-07-20</td>\n      <td>13.0</td>\n      <td>Q436839</td>\n      <td>Kathryn Erbe</td>\n      <td>female</td>\n      <td>United States of America</td>\n      <td>1965-07-05</td>\n      <td>26.0</td>\n      <td>tt0103241</td>\n    </tr>\n  </tbody>\n</table>\n<p>32004 rows × 50 columns</p>\n</div>"
     },
     "execution_count": 17,
     "metadata": {},
     "output_type": "execute_result"
    }
   ],
   "source": [
    "american.rename(columns = {'movie_freebase_id':'Freebase movie ID'}, inplace = True)\n",
    "american"
   ],
   "metadata": {
    "collapsed": false
   }
  },
  {
   "cell_type": "code",
   "execution_count": 18,
   "outputs": [
    {
     "data": {
      "text/plain": "       Wikipedia movie ID Freebase movie ID Movie release date  \\\n0                  975900         /m/03vyhn         2001-08-24   \n1                  975900         /m/03vyhn         2001-08-24   \n2                  975900         /m/03vyhn         2001-08-24   \n3                  975900         /m/03vyhn         2001-08-24   \n4                 3196793         /m/08yl5d         2000-02-16   \n...                   ...               ...                ...   \n53464            22330502        /m/05sync6         1931-01-31   \n53465            21772949        /m/05mspcd            1948-04   \n53466            21772949        /m/05mspcd            1948-04   \n53467            21772949        /m/05mspcd            1948-04   \n53468            30553937        /m/0g9ts5h         1998-03-07   \n\n                      Character name Actor date of birth Actor gender  \\\n0         Lieutenant Melanie Ballard          1974-08-15            F   \n1                Desolation Williams          1969-06-15            M   \n2          Commander Helena Braddock          1949-05-26            F   \n3                               Tres          1959-03-09            M   \n4                                NaN          1937-11-10            M   \n...                              ...                 ...          ...   \n53464                 Yvonne Valbret          1905-09-18            F   \n53465                            NaN          1913-12-25            M   \n53466                        Slimane          1904-06-26            M   \n53467  Katherine Dunham Group Dancer          1927-01-17            F   \n53468                          Tracy          1967-03-16            F   \n\n       Actor height (in meters) Actor ethnicity (Freebase ID)  \\\n0                         1.780                    /m/044038p   \n1                         1.727                       /m/0x67   \n2                         1.727                       /m/0x67   \n3                           NaN                     /m/064b9n   \n4                           NaN                       /m/0x67   \n...                         ...                           ...   \n53464                     1.702                      /m/06mvq   \n53465                       NaN                      /m/041rx   \n53466                     1.600                      /m/041rx   \n53467                     1.630                       /m/0x67   \n53468                     1.746                     /m/033tf_   \n\n               Actor name  Actor age at movie release  ...  \\\n0      Natasha Henstridge                        27.0  ...   \n1                Ice Cube                        32.0  ...   \n2               Pam Grier                        52.0  ...   \n3         Rodney A. Grant                        42.0  ...   \n4             Albert Hall                        62.0  ...   \n...                   ...                         ...  ...   \n53464         Greta Garbo                        25.0  ...   \n53465         Tony Martin                         NaN  ...   \n53466         Peter Lorre                         NaN  ...   \n53467         Eartha Kitt                         NaN  ...   \n53468       Lauren Graham                        30.0  ...   \n\n                 cast_3_country cast_3_birth cast_3_age_at_release  cast_id_4  \\\n0      United States of America   1949-05-26                  52.0    Q233347   \n1      United States of America   1949-05-26                  52.0    Q233347   \n2      United States of America   1949-05-26                  52.0    Q233347   \n3      United States of America   1949-05-26                  52.0    Q233347   \n4                           NaN          NaN                   NaN        NaN   \n...                         ...          ...                   ...        ...   \n53464  United States of America   1889-07-15                  42.0    Q439668   \n53465           Austria-Hungary   1901-02-18                  47.0   Q2661773   \n53466           Austria-Hungary   1901-02-18                  47.0   Q2661773   \n53467           Austria-Hungary   1901-02-18                  47.0   Q2661773   \n53468  United States of America   1970-06-22                  28.0  Q24024859   \n\n          cast_4_name cast_4_gender            cast_4_country cast_4_birth  \\\n0         Clea DuVall        female  United States of America   1977-09-25   \n1         Clea DuVall        female  United States of America   1977-09-25   \n2         Clea DuVall        female  United States of America   1977-09-25   \n3         Clea DuVall        female  United States of America   1977-09-25   \n4                 NaN           NaN                       NaN          NaN   \n...               ...           ...                       ...          ...   \n53464    Karen Morley        female  United States of America   1909-12-12   \n53465     Märta Torén        female                    Sweden   1926-05-21   \n53466     Märta Torén        female                    Sweden   1926-05-21   \n53467     Märta Torén        female                    Sweden   1926-05-21   \n53468  Anneliza Scott        female  United States of America   1965-11-16   \n\n       cast_4_age_at_release movie_imdb_id  \n0                       24.0     tt0228333  \n1                       24.0     tt0228333  \n2                       24.0     tt0228333  \n3                       24.0     tt0228333  \n4                        NaN     tt0245916  \n...                      ...           ...  \n53464                   22.0     tt0022001  \n53465                   22.0     tt0040214  \n53466                   22.0     tt0040214  \n53467                   22.0     tt0040214  \n53468                   33.0     tt0123726  \n\n[53469 rows x 62 columns]",
      "text/html": "<div>\n<style scoped>\n    .dataframe tbody tr th:only-of-type {\n        vertical-align: middle;\n    }\n\n    .dataframe tbody tr th {\n        vertical-align: top;\n    }\n\n    .dataframe thead th {\n        text-align: right;\n    }\n</style>\n<table border=\"1\" class=\"dataframe\">\n  <thead>\n    <tr style=\"text-align: right;\">\n      <th></th>\n      <th>Wikipedia movie ID</th>\n      <th>Freebase movie ID</th>\n      <th>Movie release date</th>\n      <th>Character name</th>\n      <th>Actor date of birth</th>\n      <th>Actor gender</th>\n      <th>Actor height (in meters)</th>\n      <th>Actor ethnicity (Freebase ID)</th>\n      <th>Actor name</th>\n      <th>Actor age at movie release</th>\n      <th>...</th>\n      <th>cast_3_country</th>\n      <th>cast_3_birth</th>\n      <th>cast_3_age_at_release</th>\n      <th>cast_id_4</th>\n      <th>cast_4_name</th>\n      <th>cast_4_gender</th>\n      <th>cast_4_country</th>\n      <th>cast_4_birth</th>\n      <th>cast_4_age_at_release</th>\n      <th>movie_imdb_id</th>\n    </tr>\n  </thead>\n  <tbody>\n    <tr>\n      <th>0</th>\n      <td>975900</td>\n      <td>/m/03vyhn</td>\n      <td>2001-08-24</td>\n      <td>Lieutenant Melanie Ballard</td>\n      <td>1974-08-15</td>\n      <td>F</td>\n      <td>1.780</td>\n      <td>/m/044038p</td>\n      <td>Natasha Henstridge</td>\n      <td>27.0</td>\n      <td>...</td>\n      <td>United States of America</td>\n      <td>1949-05-26</td>\n      <td>52.0</td>\n      <td>Q233347</td>\n      <td>Clea DuVall</td>\n      <td>female</td>\n      <td>United States of America</td>\n      <td>1977-09-25</td>\n      <td>24.0</td>\n      <td>tt0228333</td>\n    </tr>\n    <tr>\n      <th>1</th>\n      <td>975900</td>\n      <td>/m/03vyhn</td>\n      <td>2001-08-24</td>\n      <td>Desolation Williams</td>\n      <td>1969-06-15</td>\n      <td>M</td>\n      <td>1.727</td>\n      <td>/m/0x67</td>\n      <td>Ice Cube</td>\n      <td>32.0</td>\n      <td>...</td>\n      <td>United States of America</td>\n      <td>1949-05-26</td>\n      <td>52.0</td>\n      <td>Q233347</td>\n      <td>Clea DuVall</td>\n      <td>female</td>\n      <td>United States of America</td>\n      <td>1977-09-25</td>\n      <td>24.0</td>\n      <td>tt0228333</td>\n    </tr>\n    <tr>\n      <th>2</th>\n      <td>975900</td>\n      <td>/m/03vyhn</td>\n      <td>2001-08-24</td>\n      <td>Commander Helena Braddock</td>\n      <td>1949-05-26</td>\n      <td>F</td>\n      <td>1.727</td>\n      <td>/m/0x67</td>\n      <td>Pam Grier</td>\n      <td>52.0</td>\n      <td>...</td>\n      <td>United States of America</td>\n      <td>1949-05-26</td>\n      <td>52.0</td>\n      <td>Q233347</td>\n      <td>Clea DuVall</td>\n      <td>female</td>\n      <td>United States of America</td>\n      <td>1977-09-25</td>\n      <td>24.0</td>\n      <td>tt0228333</td>\n    </tr>\n    <tr>\n      <th>3</th>\n      <td>975900</td>\n      <td>/m/03vyhn</td>\n      <td>2001-08-24</td>\n      <td>Tres</td>\n      <td>1959-03-09</td>\n      <td>M</td>\n      <td>NaN</td>\n      <td>/m/064b9n</td>\n      <td>Rodney A. Grant</td>\n      <td>42.0</td>\n      <td>...</td>\n      <td>United States of America</td>\n      <td>1949-05-26</td>\n      <td>52.0</td>\n      <td>Q233347</td>\n      <td>Clea DuVall</td>\n      <td>female</td>\n      <td>United States of America</td>\n      <td>1977-09-25</td>\n      <td>24.0</td>\n      <td>tt0228333</td>\n    </tr>\n    <tr>\n      <th>4</th>\n      <td>3196793</td>\n      <td>/m/08yl5d</td>\n      <td>2000-02-16</td>\n      <td>NaN</td>\n      <td>1937-11-10</td>\n      <td>M</td>\n      <td>NaN</td>\n      <td>/m/0x67</td>\n      <td>Albert Hall</td>\n      <td>62.0</td>\n      <td>...</td>\n      <td>NaN</td>\n      <td>NaN</td>\n      <td>NaN</td>\n      <td>NaN</td>\n      <td>NaN</td>\n      <td>NaN</td>\n      <td>NaN</td>\n      <td>NaN</td>\n      <td>NaN</td>\n      <td>tt0245916</td>\n    </tr>\n    <tr>\n      <th>...</th>\n      <td>...</td>\n      <td>...</td>\n      <td>...</td>\n      <td>...</td>\n      <td>...</td>\n      <td>...</td>\n      <td>...</td>\n      <td>...</td>\n      <td>...</td>\n      <td>...</td>\n      <td>...</td>\n      <td>...</td>\n      <td>...</td>\n      <td>...</td>\n      <td>...</td>\n      <td>...</td>\n      <td>...</td>\n      <td>...</td>\n      <td>...</td>\n      <td>...</td>\n      <td>...</td>\n    </tr>\n    <tr>\n      <th>53464</th>\n      <td>22330502</td>\n      <td>/m/05sync6</td>\n      <td>1931-01-31</td>\n      <td>Yvonne Valbret</td>\n      <td>1905-09-18</td>\n      <td>F</td>\n      <td>1.702</td>\n      <td>/m/06mvq</td>\n      <td>Greta Garbo</td>\n      <td>25.0</td>\n      <td>...</td>\n      <td>United States of America</td>\n      <td>1889-07-15</td>\n      <td>42.0</td>\n      <td>Q439668</td>\n      <td>Karen Morley</td>\n      <td>female</td>\n      <td>United States of America</td>\n      <td>1909-12-12</td>\n      <td>22.0</td>\n      <td>tt0022001</td>\n    </tr>\n    <tr>\n      <th>53465</th>\n      <td>21772949</td>\n      <td>/m/05mspcd</td>\n      <td>1948-04</td>\n      <td>NaN</td>\n      <td>1913-12-25</td>\n      <td>M</td>\n      <td>NaN</td>\n      <td>/m/041rx</td>\n      <td>Tony Martin</td>\n      <td>NaN</td>\n      <td>...</td>\n      <td>Austria-Hungary</td>\n      <td>1901-02-18</td>\n      <td>47.0</td>\n      <td>Q2661773</td>\n      <td>Märta Torén</td>\n      <td>female</td>\n      <td>Sweden</td>\n      <td>1926-05-21</td>\n      <td>22.0</td>\n      <td>tt0040214</td>\n    </tr>\n    <tr>\n      <th>53466</th>\n      <td>21772949</td>\n      <td>/m/05mspcd</td>\n      <td>1948-04</td>\n      <td>Slimane</td>\n      <td>1904-06-26</td>\n      <td>M</td>\n      <td>1.600</td>\n      <td>/m/041rx</td>\n      <td>Peter Lorre</td>\n      <td>NaN</td>\n      <td>...</td>\n      <td>Austria-Hungary</td>\n      <td>1901-02-18</td>\n      <td>47.0</td>\n      <td>Q2661773</td>\n      <td>Märta Torén</td>\n      <td>female</td>\n      <td>Sweden</td>\n      <td>1926-05-21</td>\n      <td>22.0</td>\n      <td>tt0040214</td>\n    </tr>\n    <tr>\n      <th>53467</th>\n      <td>21772949</td>\n      <td>/m/05mspcd</td>\n      <td>1948-04</td>\n      <td>Katherine Dunham Group Dancer</td>\n      <td>1927-01-17</td>\n      <td>F</td>\n      <td>1.630</td>\n      <td>/m/0x67</td>\n      <td>Eartha Kitt</td>\n      <td>NaN</td>\n      <td>...</td>\n      <td>Austria-Hungary</td>\n      <td>1901-02-18</td>\n      <td>47.0</td>\n      <td>Q2661773</td>\n      <td>Märta Torén</td>\n      <td>female</td>\n      <td>Sweden</td>\n      <td>1926-05-21</td>\n      <td>22.0</td>\n      <td>tt0040214</td>\n    </tr>\n    <tr>\n      <th>53468</th>\n      <td>30553937</td>\n      <td>/m/0g9ts5h</td>\n      <td>1998-03-07</td>\n      <td>Tracy</td>\n      <td>1967-03-16</td>\n      <td>F</td>\n      <td>1.746</td>\n      <td>/m/033tf_</td>\n      <td>Lauren Graham</td>\n      <td>30.0</td>\n      <td>...</td>\n      <td>United States of America</td>\n      <td>1970-06-22</td>\n      <td>28.0</td>\n      <td>Q24024859</td>\n      <td>Anneliza Scott</td>\n      <td>female</td>\n      <td>United States of America</td>\n      <td>1965-11-16</td>\n      <td>33.0</td>\n      <td>tt0123726</td>\n    </tr>\n  </tbody>\n</table>\n<p>53469 rows × 62 columns</p>\n</div>"
     },
     "execution_count": 18,
     "metadata": {},
     "output_type": "execute_result"
    }
   ],
   "source": [
    "USA_char = df_characters.merge(american, how = 'inner')\n",
    "USA_char"
   ],
   "metadata": {
    "collapsed": false
   }
  },
  {
   "cell_type": "code",
   "execution_count": 19,
   "outputs": [
    {
     "data": {
      "text/plain": "             ID    Ethnicity String                         Race\n0    /m/0dryh9k             Indians  Asian and Pacific Islander \n1       /m/0x67   African Americans                        Black\n2      /m/041rx       Jewish people                        White\n3     /m/02w7gg      English people                        White\n4     /m/033tf_     Irish Americans                        White\n..          ...                 ...                          ...\n474  /m/043_z22          /m/043_z22                          NaN\n475  /m/03x_fq7     Indian diaspora                          NaN\n476   /m/01hphz            Ho-Chunk                          NaN\n477   /m/033fjj  Han Chinese people                          NaN\n478   /m/013y54                 NaN                          NaN\n\n[479 rows x 3 columns]",
      "text/html": "<div>\n<style scoped>\n    .dataframe tbody tr th:only-of-type {\n        vertical-align: middle;\n    }\n\n    .dataframe tbody tr th {\n        vertical-align: top;\n    }\n\n    .dataframe thead th {\n        text-align: right;\n    }\n</style>\n<table border=\"1\" class=\"dataframe\">\n  <thead>\n    <tr style=\"text-align: right;\">\n      <th></th>\n      <th>ID</th>\n      <th>Ethnicity String</th>\n      <th>Race</th>\n    </tr>\n  </thead>\n  <tbody>\n    <tr>\n      <th>0</th>\n      <td>/m/0dryh9k</td>\n      <td>Indians</td>\n      <td>Asian and Pacific Islander</td>\n    </tr>\n    <tr>\n      <th>1</th>\n      <td>/m/0x67</td>\n      <td>African Americans</td>\n      <td>Black</td>\n    </tr>\n    <tr>\n      <th>2</th>\n      <td>/m/041rx</td>\n      <td>Jewish people</td>\n      <td>White</td>\n    </tr>\n    <tr>\n      <th>3</th>\n      <td>/m/02w7gg</td>\n      <td>English people</td>\n      <td>White</td>\n    </tr>\n    <tr>\n      <th>4</th>\n      <td>/m/033tf_</td>\n      <td>Irish Americans</td>\n      <td>White</td>\n    </tr>\n    <tr>\n      <th>...</th>\n      <td>...</td>\n      <td>...</td>\n      <td>...</td>\n    </tr>\n    <tr>\n      <th>474</th>\n      <td>/m/043_z22</td>\n      <td>/m/043_z22</td>\n      <td>NaN</td>\n    </tr>\n    <tr>\n      <th>475</th>\n      <td>/m/03x_fq7</td>\n      <td>Indian diaspora</td>\n      <td>NaN</td>\n    </tr>\n    <tr>\n      <th>476</th>\n      <td>/m/01hphz</td>\n      <td>Ho-Chunk</td>\n      <td>NaN</td>\n    </tr>\n    <tr>\n      <th>477</th>\n      <td>/m/033fjj</td>\n      <td>Han Chinese people</td>\n      <td>NaN</td>\n    </tr>\n    <tr>\n      <th>478</th>\n      <td>/m/013y54</td>\n      <td>NaN</td>\n      <td>NaN</td>\n    </tr>\n  </tbody>\n</table>\n<p>479 rows × 3 columns</p>\n</div>"
     },
     "execution_count": 19,
     "metadata": {},
     "output_type": "execute_result"
    }
   ],
   "source": [
    "#use pre-prepared Ethnicity to Race pairing\n",
    "usa_ethnics = pd.read_csv('/Users/ianapeix/ADA2022/ethnicity_complete_csv.csv', sep=',')\n",
    "usa_ethnics.drop('Actor ethnicity (Freebase ID)', axis=1, inplace=True)\n",
    "usa_ethnics"
   ],
   "metadata": {
    "collapsed": false
   }
  },
  {
   "cell_type": "code",
   "execution_count": 97,
   "outputs": [
    {
     "data": {
      "text/plain": "      Actor ethnicity (Freebase ID) Ethnicity String          ID  \\\n0                        /m/044038p       /m/044038p  /m/044038p   \n1                        /m/044038p       /m/044038p  /m/044038p   \n2                        /m/044038p       /m/044038p  /m/044038p   \n3                        /m/044038p       /m/044038p  /m/044038p   \n4                        /m/044038p       /m/044038p  /m/044038p   \n...                             ...              ...         ...   \n53464                     /m/0222hg             Jats   /m/0222hg   \n53465                    /m/02pzb09       Castilians  /m/02pzb09   \n53466                     /m/04wysy          Agrawal   /m/04wysy   \n53467                     /m/0cm7w1    Bihari people   /m/0cm7w1   \n53468                     /m/05mtdy       /m/065577s   /m/05mtdy   \n\n                              Race Movie release date  \\\n0                            Other         2001-08-24   \n1                            Other         2007-09-14   \n2                            Other               2010   \n3                            Other         1995-12-27   \n4                            Other               1997   \n...                            ...                ...   \n53464  Asian and Pacific Islander          2006-04-11   \n53465                          NaN         1986-08-28   \n53466                          NaN         1988-10-07   \n53467  Asian and Pacific Islander                2008   \n53468                          NaN         2011-03-11   \n\n       Actor height (in meters)  \n0                         1.780  \n1                         1.778  \n2                         1.770  \n3                         1.778  \n4                         1.730  \n...                         ...  \n53464                       NaN  \n53465                     1.870  \n53466                       NaN  \n53467                       NaN  \n53468                     1.800  \n\n[53469 rows x 6 columns]",
      "text/html": "<div>\n<style scoped>\n    .dataframe tbody tr th:only-of-type {\n        vertical-align: middle;\n    }\n\n    .dataframe tbody tr th {\n        vertical-align: top;\n    }\n\n    .dataframe thead th {\n        text-align: right;\n    }\n</style>\n<table border=\"1\" class=\"dataframe\">\n  <thead>\n    <tr style=\"text-align: right;\">\n      <th></th>\n      <th>Actor ethnicity (Freebase ID)</th>\n      <th>Ethnicity String</th>\n      <th>ID</th>\n      <th>Race</th>\n      <th>Movie release date</th>\n      <th>Actor height (in meters)</th>\n    </tr>\n  </thead>\n  <tbody>\n    <tr>\n      <th>0</th>\n      <td>/m/044038p</td>\n      <td>/m/044038p</td>\n      <td>/m/044038p</td>\n      <td>Other</td>\n      <td>2001-08-24</td>\n      <td>1.780</td>\n    </tr>\n    <tr>\n      <th>1</th>\n      <td>/m/044038p</td>\n      <td>/m/044038p</td>\n      <td>/m/044038p</td>\n      <td>Other</td>\n      <td>2007-09-14</td>\n      <td>1.778</td>\n    </tr>\n    <tr>\n      <th>2</th>\n      <td>/m/044038p</td>\n      <td>/m/044038p</td>\n      <td>/m/044038p</td>\n      <td>Other</td>\n      <td>2010</td>\n      <td>1.770</td>\n    </tr>\n    <tr>\n      <th>3</th>\n      <td>/m/044038p</td>\n      <td>/m/044038p</td>\n      <td>/m/044038p</td>\n      <td>Other</td>\n      <td>1995-12-27</td>\n      <td>1.778</td>\n    </tr>\n    <tr>\n      <th>4</th>\n      <td>/m/044038p</td>\n      <td>/m/044038p</td>\n      <td>/m/044038p</td>\n      <td>Other</td>\n      <td>1997</td>\n      <td>1.730</td>\n    </tr>\n    <tr>\n      <th>...</th>\n      <td>...</td>\n      <td>...</td>\n      <td>...</td>\n      <td>...</td>\n      <td>...</td>\n      <td>...</td>\n    </tr>\n    <tr>\n      <th>53464</th>\n      <td>/m/0222hg</td>\n      <td>Jats</td>\n      <td>/m/0222hg</td>\n      <td>Asian and Pacific Islander</td>\n      <td>2006-04-11</td>\n      <td>NaN</td>\n    </tr>\n    <tr>\n      <th>53465</th>\n      <td>/m/02pzb09</td>\n      <td>Castilians</td>\n      <td>/m/02pzb09</td>\n      <td>NaN</td>\n      <td>1986-08-28</td>\n      <td>1.870</td>\n    </tr>\n    <tr>\n      <th>53466</th>\n      <td>/m/04wysy</td>\n      <td>Agrawal</td>\n      <td>/m/04wysy</td>\n      <td>NaN</td>\n      <td>1988-10-07</td>\n      <td>NaN</td>\n    </tr>\n    <tr>\n      <th>53467</th>\n      <td>/m/0cm7w1</td>\n      <td>Bihari people</td>\n      <td>/m/0cm7w1</td>\n      <td>Asian and Pacific Islander</td>\n      <td>2008</td>\n      <td>NaN</td>\n    </tr>\n    <tr>\n      <th>53468</th>\n      <td>/m/05mtdy</td>\n      <td>/m/065577s</td>\n      <td>/m/05mtdy</td>\n      <td>NaN</td>\n      <td>2011-03-11</td>\n      <td>1.800</td>\n    </tr>\n  </tbody>\n</table>\n<p>53469 rows × 6 columns</p>\n</div>"
     },
     "execution_count": 97,
     "metadata": {},
     "output_type": "execute_result"
    }
   ],
   "source": [
    "#merge characters with ethnicity and race strings\n",
    "merged_df = pd.merge(USA_char, usa_ethnics, left_on='Actor ethnicity (Freebase ID)', right_on='ID')\n",
    "height_df = merged_df[['Actor ethnicity (Freebase ID)','Ethnicity String','ID','Race','Movie release date','Actor height (in meters)', 'Actor gender']]\n",
    "merged_df = merged_df[['Actor ethnicity (Freebase ID)','Ethnicity String','ID','Race','Movie release date','Actor height (in meters)']]\n",
    "\n",
    "merged_df"
   ],
   "metadata": {
    "collapsed": false
   }
  },
  {
   "cell_type": "code",
   "execution_count": 21,
   "outputs": [
    {
     "data": {
      "text/plain": "White                                36136\nBlack                                 9396\nHispanic                              2073\nAsian and Pacific Islander            2001\nOther                                 1613\nAmerican Indian Eskimo and Aleut       611\nName: Race, dtype: int64"
     },
     "execution_count": 21,
     "metadata": {},
     "output_type": "execute_result"
    }
   ],
   "source": [
    "merged_df['Race'].value_counts()"
   ],
   "metadata": {
    "collapsed": false
   }
  },
  {
   "cell_type": "code",
   "execution_count": 22,
   "outputs": [
    {
     "name": "stderr",
     "output_type": "stream",
     "text": [
      "/var/folders/3c/mf6hd5hn0_bgp2m5ybnmsy8r0000gn/T/ipykernel_86679/2797279762.py:2: SettingWithCopyWarning:\n",
      "\n",
      "\n",
      "A value is trying to be set on a copy of a slice from a DataFrame.\n",
      "Try using .loc[row_indexer,col_indexer] = value instead\n",
      "\n",
      "See the caveats in the documentation: https://pandas.pydata.org/pandas-docs/stable/user_guide/indexing.html#returning-a-view-versus-a-copy\n",
      "\n"
     ]
    },
    {
     "data": {
      "text/plain": "      Actor ethnicity (Freebase ID) Ethnicity String          ID  \\\n0                        /m/044038p       /m/044038p  /m/044038p   \n1                        /m/044038p       /m/044038p  /m/044038p   \n2                        /m/044038p       /m/044038p  /m/044038p   \n3                        /m/044038p       /m/044038p  /m/044038p   \n4                        /m/044038p       /m/044038p  /m/044038p   \n...                             ...              ...         ...   \n53464                     /m/0222hg             Jats   /m/0222hg   \n53465                    /m/02pzb09       Castilians  /m/02pzb09   \n53466                     /m/04wysy          Agrawal   /m/04wysy   \n53467                     /m/0cm7w1    Bihari people   /m/0cm7w1   \n53468                     /m/05mtdy       /m/065577s   /m/05mtdy   \n\n                              Race Movie release date  Year  \n0                            Other         2001-08-24  2001  \n1                            Other         2007-09-14  2007  \n2                            Other               2010  2010  \n3                            Other         1995-12-27  1995  \n4                            Other               1997  1997  \n...                            ...                ...   ...  \n53464  Asian and Pacific Islander          2006-04-11  2006  \n53465                          NaN         1986-08-28  1986  \n53466                          NaN         1988-10-07  1988  \n53467  Asian and Pacific Islander                2008  2008  \n53468                          NaN         2011-03-11  2011  \n\n[52771 rows x 6 columns]",
      "text/html": "<div>\n<style scoped>\n    .dataframe tbody tr th:only-of-type {\n        vertical-align: middle;\n    }\n\n    .dataframe tbody tr th {\n        vertical-align: top;\n    }\n\n    .dataframe thead th {\n        text-align: right;\n    }\n</style>\n<table border=\"1\" class=\"dataframe\">\n  <thead>\n    <tr style=\"text-align: right;\">\n      <th></th>\n      <th>Actor ethnicity (Freebase ID)</th>\n      <th>Ethnicity String</th>\n      <th>ID</th>\n      <th>Race</th>\n      <th>Movie release date</th>\n      <th>Year</th>\n    </tr>\n  </thead>\n  <tbody>\n    <tr>\n      <th>0</th>\n      <td>/m/044038p</td>\n      <td>/m/044038p</td>\n      <td>/m/044038p</td>\n      <td>Other</td>\n      <td>2001-08-24</td>\n      <td>2001</td>\n    </tr>\n    <tr>\n      <th>1</th>\n      <td>/m/044038p</td>\n      <td>/m/044038p</td>\n      <td>/m/044038p</td>\n      <td>Other</td>\n      <td>2007-09-14</td>\n      <td>2007</td>\n    </tr>\n    <tr>\n      <th>2</th>\n      <td>/m/044038p</td>\n      <td>/m/044038p</td>\n      <td>/m/044038p</td>\n      <td>Other</td>\n      <td>2010</td>\n      <td>2010</td>\n    </tr>\n    <tr>\n      <th>3</th>\n      <td>/m/044038p</td>\n      <td>/m/044038p</td>\n      <td>/m/044038p</td>\n      <td>Other</td>\n      <td>1995-12-27</td>\n      <td>1995</td>\n    </tr>\n    <tr>\n      <th>4</th>\n      <td>/m/044038p</td>\n      <td>/m/044038p</td>\n      <td>/m/044038p</td>\n      <td>Other</td>\n      <td>1997</td>\n      <td>1997</td>\n    </tr>\n    <tr>\n      <th>...</th>\n      <td>...</td>\n      <td>...</td>\n      <td>...</td>\n      <td>...</td>\n      <td>...</td>\n      <td>...</td>\n    </tr>\n    <tr>\n      <th>53464</th>\n      <td>/m/0222hg</td>\n      <td>Jats</td>\n      <td>/m/0222hg</td>\n      <td>Asian and Pacific Islander</td>\n      <td>2006-04-11</td>\n      <td>2006</td>\n    </tr>\n    <tr>\n      <th>53465</th>\n      <td>/m/02pzb09</td>\n      <td>Castilians</td>\n      <td>/m/02pzb09</td>\n      <td>NaN</td>\n      <td>1986-08-28</td>\n      <td>1986</td>\n    </tr>\n    <tr>\n      <th>53466</th>\n      <td>/m/04wysy</td>\n      <td>Agrawal</td>\n      <td>/m/04wysy</td>\n      <td>NaN</td>\n      <td>1988-10-07</td>\n      <td>1988</td>\n    </tr>\n    <tr>\n      <th>53467</th>\n      <td>/m/0cm7w1</td>\n      <td>Bihari people</td>\n      <td>/m/0cm7w1</td>\n      <td>Asian and Pacific Islander</td>\n      <td>2008</td>\n      <td>2008</td>\n    </tr>\n    <tr>\n      <th>53468</th>\n      <td>/m/05mtdy</td>\n      <td>/m/065577s</td>\n      <td>/m/05mtdy</td>\n      <td>NaN</td>\n      <td>2011-03-11</td>\n      <td>2011</td>\n    </tr>\n  </tbody>\n</table>\n<p>52771 rows × 6 columns</p>\n</div>"
     },
     "execution_count": 22,
     "metadata": {},
     "output_type": "execute_result"
    }
   ],
   "source": [
    "#Clean up the data\n",
    "merged_df = merged_df[merged_df['Movie release date'].notna()]\n",
    "merged_df['Year'] = pd.to_numeric(merged_df['Movie release date'].str[:4])\n",
    "merged_df = merged_df[(merged_df['Year'] > 1800) & (merged_df['Year'] < 2018)]\n",
    "merged_df"
   ],
   "metadata": {
    "collapsed": false
   }
  },
  {
   "cell_type": "code",
   "execution_count": 45,
   "outputs": [],
   "source": [
    "df_plot = merged_df[['Race','Year']]"
   ],
   "metadata": {
    "collapsed": false
   }
  },
  {
   "cell_type": "markdown",
   "source": [],
   "metadata": {
    "collapsed": false
   }
  },
  {
   "cell_type": "code",
   "execution_count": 47,
   "outputs": [
    {
     "data": {
      "text/plain": "<Figure size 842.4x595.44 with 1 Axes>",
      "image/png": "[encoded data removed]"
     },
     "metadata": {},
     "output_type": "display_data"
    }
   ],
   "source": [
    "\n",
    "sns.set(rc={'figure.figsize':(11.7,8.27)})\n",
    "ax = sns.histplot(df_plot, x='Year', hue='Race', multiple='stack', stat='count')\n",
    "ax.set(xlabel='Year when the movie was released', ylabel='Number of characters of different ethnicities')\n",
    "plt.show()\n"
   ],
   "metadata": {
    "collapsed": false
   }
  },
  {
   "cell_type": "code",
   "execution_count": 48,
   "outputs": [
    {
     "data": {
      "text/plain": "<AxesSubplot:xlabel='Year', ylabel='Probability'>"
     },
     "execution_count": 48,
     "metadata": {},
     "output_type": "execute_result"
    },
    {
     "data": {
      "text/plain": "<Figure size 842.4x595.44 with 1 Axes>",
      "image/png": "[encoded data removed]"
     },
     "metadata": {},
     "output_type": "display_data"
    }
   ],
   "source": [
    "sns.histplot(df_plot, x=\"Year\", hue=\"Race\", stat=\"probability\", multiple=\"fill\", shrink=.8)"
   ],
   "metadata": {
    "collapsed": false
   }
  },
  {
   "cell_type": "code",
   "execution_count": 49,
   "outputs": [
    {
     "data": {
      "text/plain": "      Actor ethnicity (Freebase ID) Ethnicity String          ID      Race  \\\n29202                    /m/09v5bdn    Puerto Ricans  /m/09v5bdn  Hispanic   \n29203                    /m/09v5bdn    Puerto Ricans  /m/09v5bdn  Hispanic   \n29204                    /m/09v5bdn    Puerto Ricans  /m/09v5bdn  Hispanic   \n29205                    /m/09v5bdn    Puerto Ricans  /m/09v5bdn  Hispanic   \n29206                    /m/09v5bdn    Puerto Ricans  /m/09v5bdn  Hispanic   \n...                             ...              ...         ...       ...   \n53102                      /m/04pnf           Latino    /m/04pnf  Hispanic   \n53103                      /m/04pnf           Latino    /m/04pnf  Hispanic   \n53104                      /m/04pnf           Latino    /m/04pnf  Hispanic   \n53105                      /m/04pnf           Latino    /m/04pnf  Hispanic   \n53106                      /m/04pnf           Latino    /m/04pnf  Hispanic   \n\n      Movie release date  Year  \n29202            1994-10  1994  \n29203         1996-08-28  1996  \n29204         1965-02-15  1965  \n29205               2006  2006  \n29206         1953-03-06  1953  \n...                  ...   ...  \n53102         2007-08-24  2007  \n53103         2006-10-15  2006  \n53104         1990-04-25  1990  \n53105         2012-01-13  2012  \n53106               2006  2006  \n\n[2048 rows x 6 columns]",
      "text/html": "<div>\n<style scoped>\n    .dataframe tbody tr th:only-of-type {\n        vertical-align: middle;\n    }\n\n    .dataframe tbody tr th {\n        vertical-align: top;\n    }\n\n    .dataframe thead th {\n        text-align: right;\n    }\n</style>\n<table border=\"1\" class=\"dataframe\">\n  <thead>\n    <tr style=\"text-align: right;\">\n      <th></th>\n      <th>Actor ethnicity (Freebase ID)</th>\n      <th>Ethnicity String</th>\n      <th>ID</th>\n      <th>Race</th>\n      <th>Movie release date</th>\n      <th>Year</th>\n    </tr>\n  </thead>\n  <tbody>\n    <tr>\n      <th>29202</th>\n      <td>/m/09v5bdn</td>\n      <td>Puerto Ricans</td>\n      <td>/m/09v5bdn</td>\n      <td>Hispanic</td>\n      <td>1994-10</td>\n      <td>1994</td>\n    </tr>\n    <tr>\n      <th>29203</th>\n      <td>/m/09v5bdn</td>\n      <td>Puerto Ricans</td>\n      <td>/m/09v5bdn</td>\n      <td>Hispanic</td>\n      <td>1996-08-28</td>\n      <td>1996</td>\n    </tr>\n    <tr>\n      <th>29204</th>\n      <td>/m/09v5bdn</td>\n      <td>Puerto Ricans</td>\n      <td>/m/09v5bdn</td>\n      <td>Hispanic</td>\n      <td>1965-02-15</td>\n      <td>1965</td>\n    </tr>\n    <tr>\n      <th>29205</th>\n      <td>/m/09v5bdn</td>\n      <td>Puerto Ricans</td>\n      <td>/m/09v5bdn</td>\n      <td>Hispanic</td>\n      <td>2006</td>\n      <td>2006</td>\n    </tr>\n    <tr>\n      <th>29206</th>\n      <td>/m/09v5bdn</td>\n      <td>Puerto Ricans</td>\n      <td>/m/09v5bdn</td>\n      <td>Hispanic</td>\n      <td>1953-03-06</td>\n      <td>1953</td>\n    </tr>\n    <tr>\n      <th>...</th>\n      <td>...</td>\n      <td>...</td>\n      <td>...</td>\n      <td>...</td>\n      <td>...</td>\n      <td>...</td>\n    </tr>\n    <tr>\n      <th>53102</th>\n      <td>/m/04pnf</td>\n      <td>Latino</td>\n      <td>/m/04pnf</td>\n      <td>Hispanic</td>\n      <td>2007-08-24</td>\n      <td>2007</td>\n    </tr>\n    <tr>\n      <th>53103</th>\n      <td>/m/04pnf</td>\n      <td>Latino</td>\n      <td>/m/04pnf</td>\n      <td>Hispanic</td>\n      <td>2006-10-15</td>\n      <td>2006</td>\n    </tr>\n    <tr>\n      <th>53104</th>\n      <td>/m/04pnf</td>\n      <td>Latino</td>\n      <td>/m/04pnf</td>\n      <td>Hispanic</td>\n      <td>1990-04-25</td>\n      <td>1990</td>\n    </tr>\n    <tr>\n      <th>53105</th>\n      <td>/m/04pnf</td>\n      <td>Latino</td>\n      <td>/m/04pnf</td>\n      <td>Hispanic</td>\n      <td>2012-01-13</td>\n      <td>2012</td>\n    </tr>\n    <tr>\n      <th>53106</th>\n      <td>/m/04pnf</td>\n      <td>Latino</td>\n      <td>/m/04pnf</td>\n      <td>Hispanic</td>\n      <td>2006</td>\n      <td>2006</td>\n    </tr>\n  </tbody>\n</table>\n<p>2048 rows × 6 columns</p>\n</div>"
     },
     "execution_count": 49,
     "metadata": {},
     "output_type": "execute_result"
    }
   ],
   "source": [
    "#get hispanic characters\n",
    "hispanic = merged_df[merged_df['Race']=='Hispanic']\n",
    "hispanic"
   ],
   "metadata": {
    "collapsed": false
   }
  },
  {
   "cell_type": "code",
   "execution_count": 50,
   "outputs": [
    {
     "data": {
      "text/plain": "<Figure size 842.4x595.44 with 1 Axes>",
      "image/png": "[encoded data removed]"
     },
     "metadata": {},
     "output_type": "display_data"
    }
   ],
   "source": [
    "sns.set(rc={'figure.figsize':(11.7,8.27)})\n",
    "ax = sns.histplot(hispanic, x='Year', hue='Race', multiple='stack')\n",
    "ax.set(xlabel='Year when the movie was released', ylabel='Number of characters of different ethnicities')\n",
    "plt.show()"
   ],
   "metadata": {
    "collapsed": false
   }
  },
  {
   "cell_type": "code",
   "execution_count": 29,
   "outputs": [
    {
     "data": {
      "text/plain": "Empty DataFrame\nColumns: []\nIndex: [(1891, White), (1894, White), (1896, White), (1901, White), (1903, White), (1908, White), (1909, White), (1910, White), (1911, White), (1912, White), (1913, Asian and Pacific Islander ), (1913, White), (1914, Other), (1914, White), (1915, Other), (1915, White), (1916, Black), (1916, Other), (1916, White), (1917, Hispanic), (1917, Other), (1917, White), (1918, Black), (1918, Other), (1918, White), (1919, Asian and Pacific Islander ), (1919, Other), (1919, White), (1920, Asian and Pacific Islander ), (1920, Black), (1920, White), (1921, Asian and Pacific Islander ), (1921, Black), (1921, Other), (1921, White), (1922, Asian and Pacific Islander ), (1922, Black), (1922, Hispanic), (1922, Other), (1922, White), (1923, Black), (1923, Hispanic), (1923, Other), (1923, White), (1924, American Indian Eskimo and Aleut ), (1924, Asian and Pacific Islander ), (1924, Black), (1924, Hispanic), (1924, Other), (1924, White), (1925, Black), (1925, Hispanic), (1925, Other), (1925, White), (1926, Asian and Pacific Islander ), (1926, Black), (1926, White), (1927, Asian and Pacific Islander ), (1927, Black), (1927, Hispanic), (1927, White), (1928, Asian and Pacific Islander ), (1928, Black), (1928, Hispanic), (1928, Other), (1928, White), (1929, American Indian Eskimo and Aleut ), (1929, Asian and Pacific Islander ), (1929, Black), (1929, Hispanic), (1929, White), (1930, Asian and Pacific Islander ), (1930, Black), (1930, Hispanic), (1930, White), (1931, American Indian Eskimo and Aleut ), (1931, Asian and Pacific Islander ), (1931, Black), (1931, Hispanic), (1931, Other), (1931, White), (1932, American Indian Eskimo and Aleut ), (1932, Asian and Pacific Islander ), (1932, Black), (1932, Hispanic), (1932, White), (1933, American Indian Eskimo and Aleut ), (1933, Asian and Pacific Islander ), (1933, Black), (1933, Hispanic), (1933, White), (1934, American Indian Eskimo and Aleut ), (1934, Asian and Pacific Islander ), (1934, Black), (1934, Hispanic), (1934, White), (1935, American Indian Eskimo and Aleut ), (1935, Asian and Pacific Islander ), (1935, Black), (1935, Hispanic), ...]\n\n[533 rows x 0 columns]",
      "text/html": "<div>\n<style scoped>\n    .dataframe tbody tr th:only-of-type {\n        vertical-align: middle;\n    }\n\n    .dataframe tbody tr th {\n        vertical-align: top;\n    }\n\n    .dataframe thead th {\n        text-align: right;\n    }\n</style>\n<table border=\"1\" class=\"dataframe\">\n  <thead>\n    <tr style=\"text-align: right;\">\n      <th></th>\n      <th></th>\n    </tr>\n    <tr>\n      <th>Year</th>\n      <th>Race</th>\n    </tr>\n  </thead>\n  <tbody>\n    <tr>\n      <th>1891</th>\n      <th>White</th>\n    </tr>\n    <tr>\n      <th>1894</th>\n      <th>White</th>\n    </tr>\n    <tr>\n      <th>1896</th>\n      <th>White</th>\n    </tr>\n    <tr>\n      <th>1901</th>\n      <th>White</th>\n    </tr>\n    <tr>\n      <th>1903</th>\n      <th>White</th>\n    </tr>\n    <tr>\n      <th>...</th>\n      <th>...</th>\n    </tr>\n    <tr>\n      <th rowspan=\"3\" valign=\"top\">2014</th>\n      <th>Black</th>\n    </tr>\n    <tr>\n      <th>Other</th>\n    </tr>\n    <tr>\n      <th>White</th>\n    </tr>\n    <tr>\n      <th rowspan=\"2\" valign=\"top\">2015</th>\n      <th>Asian and Pacific Islander</th>\n    </tr>\n    <tr>\n      <th>White</th>\n    </tr>\n  </tbody>\n</table>\n<p>533 rows × 0 columns</p>\n</div>"
     },
     "execution_count": 29,
     "metadata": {},
     "output_type": "execute_result"
    }
   ],
   "source": [
    "# creating pivot table of total sales\n",
    "# product-wise aggfunc = 'sum' will\n",
    "# allow you to obtain the sum of sales\n",
    "# each product\n",
    "pivot = df_plot.groupby(['Year','Race']).count()\n",
    "pivot\n"
   ],
   "metadata": {
    "collapsed": false
   }
  },
  {
   "cell_type": "code",
   "execution_count": 30,
   "outputs": [
    {
     "data": {
      "text/plain": "      Actor ethnicity (Freebase ID)   Ethnicity String       ID   Race  \\\n1144                        /m/0x67  African Americans  /m/0x67  Black   \n1145                        /m/0x67  African Americans  /m/0x67  Black   \n1146                        /m/0x67  African Americans  /m/0x67  Black   \n1147                        /m/0x67  African Americans  /m/0x67  Black   \n1148                        /m/0x67  African Americans  /m/0x67  Black   \n...                             ...                ...      ...    ...   \n10318                       /m/0x67  African Americans  /m/0x67  Black   \n10319                       /m/0x67  African Americans  /m/0x67  Black   \n10320                       /m/0x67  African Americans  /m/0x67  Black   \n10321                       /m/0x67  African Americans  /m/0x67  Black   \n10322                       /m/0x67  African Americans  /m/0x67  Black   \n\n      Movie release date  Year  \n1144          2001-08-24  2001  \n1145          2001-08-24  2001  \n1146          2000-02-16  2000  \n1147          2001-06-27  2001  \n1148          2001-06-27  2001  \n...                  ...   ...  \n10318               2000  2000  \n10319               2000  2000  \n10320               2000  2000  \n10321         2011-03-11  2011  \n10322            1948-04  1948  \n\n[9083 rows x 6 columns]",
      "text/html": "<div>\n<style scoped>\n    .dataframe tbody tr th:only-of-type {\n        vertical-align: middle;\n    }\n\n    .dataframe tbody tr th {\n        vertical-align: top;\n    }\n\n    .dataframe thead th {\n        text-align: right;\n    }\n</style>\n<table border=\"1\" class=\"dataframe\">\n  <thead>\n    <tr style=\"text-align: right;\">\n      <th></th>\n      <th>Actor ethnicity (Freebase ID)</th>\n      <th>Ethnicity String</th>\n      <th>ID</th>\n      <th>Race</th>\n      <th>Movie release date</th>\n      <th>Year</th>\n    </tr>\n  </thead>\n  <tbody>\n    <tr>\n      <th>1144</th>\n      <td>/m/0x67</td>\n      <td>African Americans</td>\n      <td>/m/0x67</td>\n      <td>Black</td>\n      <td>2001-08-24</td>\n      <td>2001</td>\n    </tr>\n    <tr>\n      <th>1145</th>\n      <td>/m/0x67</td>\n      <td>African Americans</td>\n      <td>/m/0x67</td>\n      <td>Black</td>\n      <td>2001-08-24</td>\n      <td>2001</td>\n    </tr>\n    <tr>\n      <th>1146</th>\n      <td>/m/0x67</td>\n      <td>African Americans</td>\n      <td>/m/0x67</td>\n      <td>Black</td>\n      <td>2000-02-16</td>\n      <td>2000</td>\n    </tr>\n    <tr>\n      <th>1147</th>\n      <td>/m/0x67</td>\n      <td>African Americans</td>\n      <td>/m/0x67</td>\n      <td>Black</td>\n      <td>2001-06-27</td>\n      <td>2001</td>\n    </tr>\n    <tr>\n      <th>1148</th>\n      <td>/m/0x67</td>\n      <td>African Americans</td>\n      <td>/m/0x67</td>\n      <td>Black</td>\n      <td>2001-06-27</td>\n      <td>2001</td>\n    </tr>\n    <tr>\n      <th>...</th>\n      <td>...</td>\n      <td>...</td>\n      <td>...</td>\n      <td>...</td>\n      <td>...</td>\n      <td>...</td>\n    </tr>\n    <tr>\n      <th>10318</th>\n      <td>/m/0x67</td>\n      <td>African Americans</td>\n      <td>/m/0x67</td>\n      <td>Black</td>\n      <td>2000</td>\n      <td>2000</td>\n    </tr>\n    <tr>\n      <th>10319</th>\n      <td>/m/0x67</td>\n      <td>African Americans</td>\n      <td>/m/0x67</td>\n      <td>Black</td>\n      <td>2000</td>\n      <td>2000</td>\n    </tr>\n    <tr>\n      <th>10320</th>\n      <td>/m/0x67</td>\n      <td>African Americans</td>\n      <td>/m/0x67</td>\n      <td>Black</td>\n      <td>2000</td>\n      <td>2000</td>\n    </tr>\n    <tr>\n      <th>10321</th>\n      <td>/m/0x67</td>\n      <td>African Americans</td>\n      <td>/m/0x67</td>\n      <td>Black</td>\n      <td>2011-03-11</td>\n      <td>2011</td>\n    </tr>\n    <tr>\n      <th>10322</th>\n      <td>/m/0x67</td>\n      <td>African Americans</td>\n      <td>/m/0x67</td>\n      <td>Black</td>\n      <td>1948-04</td>\n      <td>1948</td>\n    </tr>\n  </tbody>\n</table>\n<p>9083 rows × 6 columns</p>\n</div>"
     },
     "execution_count": 30,
     "metadata": {},
     "output_type": "execute_result"
    }
   ],
   "source": [
    "black = merged_df[merged_df['Ethnicity String'] == 'African Americans']\n",
    "black"
   ],
   "metadata": {
    "collapsed": false
   }
  },
  {
   "cell_type": "code",
   "execution_count": 31,
   "outputs": [
    {
     "data": {
      "text/plain": "      Actor ethnicity (Freebase ID) Ethnicity String        ID   Race  \\\n10330                      /m/041rx    Jewish people  /m/041rx  White   \n10331                      /m/041rx    Jewish people  /m/041rx  White   \n10332                      /m/041rx    Jewish people  /m/041rx  White   \n10333                      /m/041rx    Jewish people  /m/041rx  White   \n10334                      /m/041rx    Jewish people  /m/041rx  White   \n...                             ...              ...       ...    ...   \n18659                      /m/041rx    Jewish people  /m/041rx  White   \n18660                      /m/041rx    Jewish people  /m/041rx  White   \n18661                      /m/041rx    Jewish people  /m/041rx  White   \n18662                      /m/041rx    Jewish people  /m/041rx  White   \n18663                      /m/041rx    Jewish people  /m/041rx  White   \n\n      Movie release date  Year  \n10330               2006  2006  \n10331         1938-07-05  1938  \n10332               1982  1982  \n10333         1989-04-28  1989  \n10334               1939  1939  \n...                  ...   ...  \n18659         1997-01-10  1997  \n18660         2009-01-20  2009  \n18661         1996-10-25  1996  \n18662            1948-04  1948  \n18663            1948-04  1948  \n\n[8121 rows x 6 columns]",
      "text/html": "<div>\n<style scoped>\n    .dataframe tbody tr th:only-of-type {\n        vertical-align: middle;\n    }\n\n    .dataframe tbody tr th {\n        vertical-align: top;\n    }\n\n    .dataframe thead th {\n        text-align: right;\n    }\n</style>\n<table border=\"1\" class=\"dataframe\">\n  <thead>\n    <tr style=\"text-align: right;\">\n      <th></th>\n      <th>Actor ethnicity (Freebase ID)</th>\n      <th>Ethnicity String</th>\n      <th>ID</th>\n      <th>Race</th>\n      <th>Movie release date</th>\n      <th>Year</th>\n    </tr>\n  </thead>\n  <tbody>\n    <tr>\n      <th>10330</th>\n      <td>/m/041rx</td>\n      <td>Jewish people</td>\n      <td>/m/041rx</td>\n      <td>White</td>\n      <td>2006</td>\n      <td>2006</td>\n    </tr>\n    <tr>\n      <th>10331</th>\n      <td>/m/041rx</td>\n      <td>Jewish people</td>\n      <td>/m/041rx</td>\n      <td>White</td>\n      <td>1938-07-05</td>\n      <td>1938</td>\n    </tr>\n    <tr>\n      <th>10332</th>\n      <td>/m/041rx</td>\n      <td>Jewish people</td>\n      <td>/m/041rx</td>\n      <td>White</td>\n      <td>1982</td>\n      <td>1982</td>\n    </tr>\n    <tr>\n      <th>10333</th>\n      <td>/m/041rx</td>\n      <td>Jewish people</td>\n      <td>/m/041rx</td>\n      <td>White</td>\n      <td>1989-04-28</td>\n      <td>1989</td>\n    </tr>\n    <tr>\n      <th>10334</th>\n      <td>/m/041rx</td>\n      <td>Jewish people</td>\n      <td>/m/041rx</td>\n      <td>White</td>\n      <td>1939</td>\n      <td>1939</td>\n    </tr>\n    <tr>\n      <th>...</th>\n      <td>...</td>\n      <td>...</td>\n      <td>...</td>\n      <td>...</td>\n      <td>...</td>\n      <td>...</td>\n    </tr>\n    <tr>\n      <th>18659</th>\n      <td>/m/041rx</td>\n      <td>Jewish people</td>\n      <td>/m/041rx</td>\n      <td>White</td>\n      <td>1997-01-10</td>\n      <td>1997</td>\n    </tr>\n    <tr>\n      <th>18660</th>\n      <td>/m/041rx</td>\n      <td>Jewish people</td>\n      <td>/m/041rx</td>\n      <td>White</td>\n      <td>2009-01-20</td>\n      <td>2009</td>\n    </tr>\n    <tr>\n      <th>18661</th>\n      <td>/m/041rx</td>\n      <td>Jewish people</td>\n      <td>/m/041rx</td>\n      <td>White</td>\n      <td>1996-10-25</td>\n      <td>1996</td>\n    </tr>\n    <tr>\n      <th>18662</th>\n      <td>/m/041rx</td>\n      <td>Jewish people</td>\n      <td>/m/041rx</td>\n      <td>White</td>\n      <td>1948-04</td>\n      <td>1948</td>\n    </tr>\n    <tr>\n      <th>18663</th>\n      <td>/m/041rx</td>\n      <td>Jewish people</td>\n      <td>/m/041rx</td>\n      <td>White</td>\n      <td>1948-04</td>\n      <td>1948</td>\n    </tr>\n  </tbody>\n</table>\n<p>8121 rows × 6 columns</p>\n</div>"
     },
     "execution_count": 31,
     "metadata": {},
     "output_type": "execute_result"
    }
   ],
   "source": [
    "jewish = merged_df[merged_df['Ethnicity String'] == 'Jewish people']\n",
    "jewish"
   ],
   "metadata": {
    "collapsed": false
   }
  },
  {
   "cell_type": "code",
   "execution_count": 32,
   "outputs": [
    {
     "data": {
      "text/plain": "<Figure size 842.4x595.44 with 1 Axes>",
      "image/png": "[encoded data removed]"
     },
     "metadata": {},
     "output_type": "display_data"
    }
   ],
   "source": [
    "sns.set(rc={'figure.figsize':(11.7,8.27)})\n",
    "ax = sns.histplot(jewish, x='Year', hue='Ethnicity String', multiple='stack')\n",
    "ax.set(xlabel='Year when the movie was released', ylabel='Number of characters of different ethnicities')\n",
    "plt.show()"
   ],
   "metadata": {
    "collapsed": false
   }
  },
  {
   "cell_type": "code",
   "execution_count": 33,
   "outputs": [
    {
     "data": {
      "text/plain": "White                                35621\nBlack                                 9300\nHispanic                              2048\nAsian and Pacific Islander            1988\nOther                                 1590\nAmerican Indian Eskimo and Aleut       605\nName: Race, dtype: int64"
     },
     "execution_count": 33,
     "metadata": {},
     "output_type": "execute_result"
    }
   ],
   "source": [
    "merged_df['Race'].value_counts()"
   ],
   "metadata": {
    "collapsed": false
   }
  },
  {
   "cell_type": "code",
   "execution_count": 53,
   "outputs": [
    {
     "data": {
      "text/plain": "<Figure size 842.4x595.44 with 1 Axes>",
      "image/png": "[encoded data removed]"
     },
     "metadata": {},
     "output_type": "display_data"
    }
   ],
   "source": [
    "sns.set(rc={'figure.figsize':(11.7,8.27)})\n",
    "ax = sns.histplot(df_plot, x='Year', hue='Race', multiple='stack')\n",
    "ax.set(xlabel='Year when the movie was released', ylabel='Number of characters of different ethnicities')\n",
    "plt.show()"
   ],
   "metadata": {
    "collapsed": false
   }
  },
  {
   "cell_type": "code",
   "execution_count": 55,
   "outputs": [
    {
     "data": {
      "text/plain": "     Year                         Race  Count  Percentage\n0    1891                        White      1      100.00\n1    1894                        White      1      100.00\n2    1896                        White      1      100.00\n3    1901                        White      1      100.00\n4    1903                        White      1      100.00\n..    ...                          ...    ...         ...\n528  2014                        Black      1        7.69\n529  2014                        Other      1        7.69\n530  2014                        White     10       76.92\n531  2015  Asian and Pacific Islander       1       50.00\n532  2015                        White      1       50.00\n\n[533 rows x 4 columns]",
      "text/html": "<div>\n<style scoped>\n    .dataframe tbody tr th:only-of-type {\n        vertical-align: middle;\n    }\n\n    .dataframe tbody tr th {\n        vertical-align: top;\n    }\n\n    .dataframe thead th {\n        text-align: right;\n    }\n</style>\n<table border=\"1\" class=\"dataframe\">\n  <thead>\n    <tr style=\"text-align: right;\">\n      <th></th>\n      <th>Year</th>\n      <th>Race</th>\n      <th>Count</th>\n      <th>Percentage</th>\n    </tr>\n  </thead>\n  <tbody>\n    <tr>\n      <th>0</th>\n      <td>1891</td>\n      <td>White</td>\n      <td>1</td>\n      <td>100.00</td>\n    </tr>\n    <tr>\n      <th>1</th>\n      <td>1894</td>\n      <td>White</td>\n      <td>1</td>\n      <td>100.00</td>\n    </tr>\n    <tr>\n      <th>2</th>\n      <td>1896</td>\n      <td>White</td>\n      <td>1</td>\n      <td>100.00</td>\n    </tr>\n    <tr>\n      <th>3</th>\n      <td>1901</td>\n      <td>White</td>\n      <td>1</td>\n      <td>100.00</td>\n    </tr>\n    <tr>\n      <th>4</th>\n      <td>1903</td>\n      <td>White</td>\n      <td>1</td>\n      <td>100.00</td>\n    </tr>\n    <tr>\n      <th>...</th>\n      <td>...</td>\n      <td>...</td>\n      <td>...</td>\n      <td>...</td>\n    </tr>\n    <tr>\n      <th>528</th>\n      <td>2014</td>\n      <td>Black</td>\n      <td>1</td>\n      <td>7.69</td>\n    </tr>\n    <tr>\n      <th>529</th>\n      <td>2014</td>\n      <td>Other</td>\n      <td>1</td>\n      <td>7.69</td>\n    </tr>\n    <tr>\n      <th>530</th>\n      <td>2014</td>\n      <td>White</td>\n      <td>10</td>\n      <td>76.92</td>\n    </tr>\n    <tr>\n      <th>531</th>\n      <td>2015</td>\n      <td>Asian and Pacific Islander</td>\n      <td>1</td>\n      <td>50.00</td>\n    </tr>\n    <tr>\n      <th>532</th>\n      <td>2015</td>\n      <td>White</td>\n      <td>1</td>\n      <td>50.00</td>\n    </tr>\n  </tbody>\n</table>\n<p>533 rows × 4 columns</p>\n</div>"
     },
     "execution_count": 55,
     "metadata": {},
     "output_type": "execute_result"
    }
   ],
   "source": [
    "simple_data = df_plot.groupby([\"Year\", \"Race\"]).size().reset_index(name='Count')\n",
    "simple_data['Percentage']= simple_data['Count'] / simple_data.groupby('Year')['Count'].transform('sum')\n",
    "simple_data['Percentage'] = simple_data['Percentage'].mul(100).round(2)\n",
    "simple_data"
   ],
   "metadata": {
    "collapsed": false
   }
  },
  {
   "cell_type": "code",
   "execution_count": 67,
   "outputs": [
    {
     "data": {
      "application/vnd.plotly.v1+json": {
       "data": [
        {
         "alignmentgroup": "True",
         "hovertemplate": "Race=White<br>Year=%{x}<br>Count=%{y}<extra></extra>",
         "legendgroup": "White",
         "marker": {
          "color": "#4C78A8",
          "pattern": {
           "shape": ""
          }
         },
         "name": "White",
         "offsetgroup": "White",
         "orientation": "v",
         "showlegend": true,
         "textposition": "auto",
         "x": [
          1891,
          1896,
          1901,
          1903,
          1908,
          1909,
          1910,
          1911,
          1912,
          1894,
          1913,
          1955,
          1957,
          1954,
          1948,
          1919,
          1963,
          1951,
          1952,
          1918,
          1931,
          1950,
          1956,
          1960,
          1917,
          1941,
          1959,
          1953,
          1939,
          1946,
          1949,
          1947,
          1966,
          1940,
          1926,
          1962,
          1916,
          1958,
          1921,
          1920,
          1937,
          1932,
          1944,
          1942,
          1961,
          1938,
          1927,
          1925,
          1915,
          1945,
          1965,
          1928,
          1964,
          1943,
          1933,
          1967,
          1935,
          1981,
          1936,
          1934,
          1969,
          1930,
          1980,
          1979,
          1968,
          1982,
          2014,
          1924,
          1977,
          1983,
          1978,
          1971,
          1970,
          1984,
          1985,
          1986,
          1914,
          1992,
          1988,
          1987,
          1994,
          2011,
          1976,
          1929,
          1989,
          1997,
          1990,
          1998,
          2012,
          1993,
          2001,
          1991,
          1999,
          2010,
          2013,
          1975,
          1996,
          1974,
          1995,
          2006,
          2008,
          2009,
          1973,
          2007,
          1922,
          2004,
          2002,
          2000,
          2003,
          1972,
          2005,
          2015,
          1923
         ],
         "xaxis": "x",
         "y": [
          1,
          1,
          1,
          1,
          1,
          4,
          3,
          3,
          8,
          1,
          53,
          200,
          201,
          197,
          198,
          40,
          170,
          159,
          183,
          45,
          97,
          203,
          224,
          131,
          49,
          177,
          182,
          200,
          185,
          151,
          170,
          170,
          166,
          185,
          57,
          176,
          69,
          168,
          36,
          24,
          143,
          119,
          158,
          199,
          141,
          161,
          66,
          43,
          63,
          124,
          168,
          62,
          168,
          174,
          110,
          167,
          128,
          270,
          134,
          132,
          168,
          58,
          316,
          230,
          177,
          298,
          10,
          32,
          213,
          291,
          258,
          180,
          204,
          424,
          385,
          423,
          92,
          594,
          487,
          485,
          743,
          1057,
          230,
          68,
          491,
          954,
          557,
          1119,
          715,
          715,
          1103,
          546,
          1053,
          1188,
          175,
          167,
          889,
          192,
          725,
          1389,
          1263,
          1227,
          173,
          1337,
          24,
          1039,
          966,
          962,
          962,
          165,
          1053,
          1,
          28
         ],
         "yaxis": "y",
         "type": "bar"
        },
        {
         "alignmentgroup": "True",
         "hovertemplate": "Race=Asian and Pacific Islander <br>Year=%{x}<br>Count=%{y}<extra></extra>",
         "legendgroup": "Asian and Pacific Islander ",
         "marker": {
          "color": "#F58518",
          "pattern": {
           "shape": ""
          }
         },
         "name": "Asian and Pacific Islander ",
         "offsetgroup": "Asian and Pacific Islander ",
         "orientation": "v",
         "showlegend": true,
         "textposition": "auto",
         "x": [
          2015,
          2013,
          1928,
          2014,
          2005,
          2008,
          2003,
          2012,
          2007,
          1966,
          2009,
          1993,
          2010,
          2006,
          2011,
          1927,
          1986,
          2004,
          1926,
          1994,
          1991,
          1944,
          2000,
          2002,
          1988,
          2001,
          1997,
          1998,
          1999,
          1920,
          1945,
          1995,
          1990,
          1989,
          1962,
          1932,
          1992,
          1982,
          1955,
          1984,
          1922,
          1968,
          1972,
          1980,
          1964,
          1987,
          1996,
          1961,
          1924,
          1921,
          1975,
          1946,
          1919,
          1933,
          1976,
          1985,
          1971,
          1960,
          1973,
          1913,
          1981,
          1942,
          1974,
          1938,
          1947,
          1983,
          1967,
          1970,
          1930,
          1935,
          1937,
          1934,
          1978,
          1951,
          1949,
          1929,
          1952,
          1965,
          1943,
          1954,
          1931,
          1956,
          1977,
          1979,
          1963,
          1958,
          1941,
          1959,
          1939,
          1969,
          1940,
          1948
         ],
         "xaxis": "x",
         "y": [
          1,
          26,
          6,
          1,
          119,
          129,
          94,
          61,
          121,
          11,
          108,
          58,
          95,
          115,
          79,
          4,
          29,
          79,
          3,
          48,
          36,
          8,
          67,
          65,
          27,
          63,
          53,
          62,
          58,
          1,
          5,
          37,
          26,
          22,
          6,
          4,
          24,
          11,
          6,
          16,
          1,
          6,
          7,
          10,
          5,
          17,
          33,
          4,
          1,
          1,
          6,
          4,
          1,
          3,
          7,
          11,
          5,
          3,
          5,
          1,
          6,
          4,
          5,
          3,
          3,
          6,
          3,
          4,
          1,
          2,
          2,
          2,
          4,
          2,
          2,
          1,
          2,
          2,
          2,
          2,
          1,
          2,
          2,
          2,
          1,
          1,
          1,
          1,
          1,
          1,
          1,
          1
         ],
         "yaxis": "y",
         "type": "bar"
        },
        {
         "alignmentgroup": "True",
         "hovertemplate": "Race=Black<br>Year=%{x}<br>Count=%{y}<extra></extra>",
         "legendgroup": "Black",
         "marker": {
          "color": "#E45756",
          "pattern": {
           "shape": ""
          }
         },
         "name": "Black",
         "offsetgroup": "Black",
         "orientation": "v",
         "showlegend": true,
         "textposition": "auto",
         "x": [
          1923,
          1972,
          1974,
          1973,
          1922,
          1975,
          2000,
          2004,
          1976,
          2005,
          1995,
          1996,
          2002,
          2003,
          1929,
          1991,
          1998,
          1999,
          2007,
          1970,
          1987,
          2008,
          2009,
          1997,
          2006,
          2001,
          1977,
          1978,
          1990,
          1971,
          1993,
          1989,
          2010,
          1992,
          1988,
          1984,
          2012,
          1994,
          1930,
          1985,
          1979,
          2011,
          1936,
          1982,
          1968,
          1986,
          1943,
          1983,
          1980,
          1934,
          1969,
          2013,
          1981,
          1967,
          1935,
          1933,
          1945,
          1920,
          1961,
          1938,
          1946,
          1942,
          1925,
          1958,
          1965,
          1964,
          1926,
          1944,
          1932,
          1940,
          1937,
          1959,
          1941,
          1956,
          2014,
          1939,
          1947,
          1921,
          1924,
          1950,
          1951,
          1949,
          1953,
          1948,
          1962,
          1963,
          1927,
          1952,
          1954,
          1957,
          1960,
          1918,
          1928,
          1931,
          1955,
          1966,
          1916
         ],
         "xaxis": "x",
         "y": [
          24,
          85,
          85,
          78,
          10,
          64,
          378,
          395,
          78,
          419,
          259,
          308,
          351,
          340,
          21,
          172,
          345,
          329,
          434,
          57,
          139,
          392,
          381,
          276,
          428,
          317,
          54,
          66,
          156,
          46,
          199,
          133,
          330,
          154,
          124,
          104,
          189,
          189,
          13,
          91,
          50,
          236,
          26,
          58,
          34,
          87,
          31,
          56,
          57,
          23,
          28,
          34,
          43,
          25,
          19,
          16,
          16,
          3,
          17,
          19,
          17,
          23,
          5,
          19,
          19,
          19,
          6,
          16,
          12,
          18,
          14,
          17,
          16,
          20,
          1,
          16,
          14,
          3,
          3,
          16,
          11,
          12,
          14,
          13,
          12,
          10,
          4,
          10,
          10,
          9,
          6,
          2,
          3,
          4,
          8,
          5,
          2
         ],
         "yaxis": "y",
         "type": "bar"
        },
        {
         "alignmentgroup": "True",
         "hovertemplate": "Race=Other<br>Year=%{x}<br>Count=%{y}<extra></extra>",
         "legendgroup": "Other",
         "marker": {
          "color": "#72B7B2",
          "pattern": {
           "shape": ""
          }
         },
         "name": "Other",
         "offsetgroup": "Other",
         "orientation": "v",
         "showlegend": true,
         "textposition": "auto",
         "x": [
          1914,
          1915,
          1916,
          1917,
          2014,
          1923,
          1919,
          1918,
          2000,
          1983,
          1921,
          2002,
          2013,
          2006,
          2003,
          2001,
          2005,
          1969,
          2009,
          2007,
          2010,
          1999,
          2004,
          1989,
          1990,
          1988,
          1996,
          1980,
          1997,
          1991,
          2008,
          1981,
          1967,
          1995,
          1998,
          1985,
          1993,
          1987,
          1986,
          1928,
          1922,
          2011,
          1973,
          1994,
          1992,
          1965,
          1984,
          1924,
          2012,
          1978,
          1968,
          1958,
          1964,
          1925,
          1972,
          1957,
          1971,
          1975,
          1966,
          1976,
          1962,
          1960,
          1961,
          1963,
          1982,
          1979,
          1931,
          1970,
          1977,
          1974,
          1936,
          1947,
          1952,
          1959,
          1940,
          1956
         ],
         "xaxis": "x",
         "y": [
          36,
          12,
          9,
          5,
          1,
          4,
          3,
          3,
          77,
          19,
          2,
          71,
          12,
          98,
          70,
          70,
          75,
          9,
          80,
          87,
          70,
          59,
          62,
          26,
          29,
          23,
          45,
          13,
          43,
          25,
          58,
          10,
          6,
          32,
          47,
          15,
          30,
          19,
          16,
          2,
          1,
          40,
          7,
          27,
          21,
          5,
          14,
          1,
          25,
          8,
          5,
          4,
          4,
          1,
          5,
          4,
          4,
          4,
          3,
          5,
          3,
          2,
          2,
          2,
          4,
          3,
          1,
          2,
          2,
          2,
          1,
          1,
          1,
          1,
          1,
          1
         ],
         "yaxis": "y",
         "type": "bar"
        },
        {
         "alignmentgroup": "True",
         "hovertemplate": "Race=Hispanic<br>Year=%{x}<br>Count=%{y}<extra></extra>",
         "legendgroup": "Hispanic",
         "marker": {
          "color": "#54A24B",
          "pattern": {
           "shape": ""
          }
         },
         "name": "Hispanic",
         "offsetgroup": "Hispanic",
         "orientation": "v",
         "showlegend": true,
         "textposition": "auto",
         "x": [
          1924,
          1929,
          2013,
          2011,
          1934,
          2008,
          1953,
          1922,
          1927,
          2003,
          1935,
          1990,
          1996,
          2012,
          2002,
          1937,
          1989,
          2005,
          2006,
          1949,
          2007,
          1993,
          1986,
          2009,
          1987,
          2010,
          1994,
          2001,
          1940,
          1995,
          2000,
          2004,
          1975,
          1965,
          1992,
          1925,
          1939,
          1998,
          1931,
          1985,
          1983,
          1991,
          1936,
          1977,
          1997,
          1950,
          1999,
          1988,
          1984,
          1962,
          1960,
          1972,
          1971,
          1969,
          1938,
          1966,
          1982,
          1947,
          1979,
          1941,
          1942,
          1952,
          1964,
          1970,
          1943,
          1976,
          1974,
          1930,
          1928,
          1978,
          1959,
          1967,
          1981,
          1954,
          1948,
          1951,
          1933,
          1973,
          1968,
          1932,
          1963,
          1945,
          1957,
          1917,
          1923,
          1980,
          1944,
          1956,
          1958,
          1955,
          1961
         ],
         "xaxis": "x",
         "y": [
          4,
          7,
          15,
          85,
          9,
          106,
          12,
          2,
          4,
          79,
          8,
          41,
          66,
          51,
          75,
          8,
          34,
          83,
          101,
          9,
          96,
          48,
          26,
          84,
          30,
          77,
          46,
          70,
          9,
          46,
          63,
          67,
          10,
          8,
          33,
          2,
          8,
          62,
          4,
          19,
          14,
          29,
          6,
          10,
          49,
          8,
          55,
          24,
          20,
          7,
          5,
          9,
          8,
          7,
          6,
          6,
          12,
          6,
          9,
          6,
          7,
          6,
          6,
          8,
          6,
          9,
          8,
          2,
          2,
          9,
          5,
          5,
          8,
          5,
          5,
          4,
          3,
          6,
          5,
          3,
          4,
          3,
          4,
          1,
          1,
          7,
          3,
          4,
          3,
          2,
          1
         ],
         "yaxis": "y",
         "type": "bar"
        },
        {
         "alignmentgroup": "True",
         "hovertemplate": "Race=American Indian Eskimo and Aleut <br>Year=%{x}<br>Count=%{y}<extra></extra>",
         "legendgroup": "American Indian Eskimo and Aleut ",
         "marker": {
          "color": "#EECA3B",
          "pattern": {
           "shape": ""
          }
         },
         "name": "American Indian Eskimo and Aleut ",
         "offsetgroup": "American Indian Eskimo and Aleut ",
         "orientation": "v",
         "showlegend": true,
         "textposition": "auto",
         "x": [
          1924,
          1933,
          1995,
          2003,
          2002,
          2009,
          1935,
          2005,
          2006,
          2004,
          2012,
          2011,
          2007,
          1992,
          1999,
          1985,
          1994,
          2010,
          1990,
          1997,
          1996,
          1983,
          2008,
          1998,
          1936,
          2000,
          1974,
          1929,
          1964,
          1993,
          1931,
          2001,
          1981,
          1988,
          1987,
          1991,
          1986,
          1975,
          1982,
          2013,
          1973,
          1970,
          1932,
          1989,
          1979,
          1976,
          1934,
          1961,
          1978,
          1938,
          1963,
          1984,
          1949,
          1966,
          1952,
          1965,
          1980,
          1969,
          1954,
          1968,
          1953,
          1942,
          1972,
          1977
         ],
         "xaxis": "x",
         "y": [
          1,
          3,
          24,
          32,
          30,
          37,
          3,
          31,
          37,
          27,
          17,
          24,
          33,
          13,
          24,
          8,
          16,
          26,
          12,
          19,
          18,
          5,
          24,
          20,
          2,
          17,
          3,
          1,
          2,
          10,
          1,
          15,
          3,
          6,
          6,
          7,
          5,
          2,
          3,
          2,
          2,
          2,
          1,
          5,
          2,
          2,
          1,
          1,
          2,
          1,
          1,
          3,
          1,
          1,
          1,
          1,
          2,
          1,
          1,
          1,
          1,
          1,
          1,
          1
         ],
         "yaxis": "y",
         "type": "bar"
        }
       ],
       "layout": {
        "template": {
         "data": {
          "barpolar": [
           {
            "marker": {
             "line": {
              "color": "rgb(237,237,237)",
              "width": 0.5
             },
             "pattern": {
              "fillmode": "overlay",
              "size": 10,
              "solidity": 0.2
             }
            },
            "type": "barpolar"
           }
          ],
          "bar": [
           {
            "error_x": {
             "color": "rgb(51,51,51)"
            },
            "error_y": {
             "color": "rgb(51,51,51)"
            },
            "marker": {
             "line": {
              "color": "rgb(237,237,237)",
              "width": 0.5
             },
             "pattern": {
              "fillmode": "overlay",
              "size": 10,
              "solidity": 0.2
             }
            },
            "type": "bar"
           }
          ],
          "carpet": [
           {
            "aaxis": {
             "endlinecolor": "rgb(51,51,51)",
             "gridcolor": "white",
             "linecolor": "white",
             "minorgridcolor": "white",
             "startlinecolor": "rgb(51,51,51)"
            },
            "baxis": {
             "endlinecolor": "rgb(51,51,51)",
             "gridcolor": "white",
             "linecolor": "white",
             "minorgridcolor": "white",
             "startlinecolor": "rgb(51,51,51)"
            },
            "type": "carpet"
           }
          ],
          "choropleth": [
           {
            "colorbar": {
             "outlinewidth": 0,
             "tickcolor": "rgb(237,237,237)",
             "ticklen": 6,
             "ticks": "inside"
            },
            "type": "choropleth"
           }
          ],
          "contourcarpet": [
           {
            "colorbar": {
             "outlinewidth": 0,
             "tickcolor": "rgb(237,237,237)",
             "ticklen": 6,
             "ticks": "inside"
            },
            "type": "contourcarpet"
           }
          ],
          "contour": [
           {
            "colorbar": {
             "outlinewidth": 0,
             "tickcolor": "rgb(237,237,237)",
             "ticklen": 6,
             "ticks": "inside"
            },
            "colorscale": [
             [
              0,
              "rgb(20,44,66)"
             ],
             [
              1,
              "rgb(90,179,244)"
             ]
            ],
            "type": "contour"
           }
          ],
          "heatmapgl": [
           {
            "colorbar": {
             "outlinewidth": 0,
             "tickcolor": "rgb(237,237,237)",
             "ticklen": 6,
             "ticks": "inside"
            },
            "colorscale": [
             [
              0,
              "rgb(20,44,66)"
             ],
             [
              1,
              "rgb(90,179,244)"
             ]
            ],
            "type": "heatmapgl"
           }
          ],
          "heatmap": [
           {
            "colorbar": {
             "outlinewidth": 0,
             "tickcolor": "rgb(237,237,237)",
             "ticklen": 6,
             "ticks": "inside"
            },
            "colorscale": [
             [
              0,
              "rgb(20,44,66)"
             ],
             [
              1,
              "rgb(90,179,244)"
             ]
            ],
            "type": "heatmap"
           }
          ],
          "histogram2dcontour": [
           {
            "colorbar": {
             "outlinewidth": 0,
             "tickcolor": "rgb(237,237,237)",
             "ticklen": 6,
             "ticks": "inside"
            },
            "colorscale": [
             [
              0,
              "rgb(20,44,66)"
             ],
             [
              1,
              "rgb(90,179,244)"
             ]
            ],
            "type": "histogram2dcontour"
           }
          ],
          "histogram2d": [
           {
            "colorbar": {
             "outlinewidth": 0,
             "tickcolor": "rgb(237,237,237)",
             "ticklen": 6,
             "ticks": "inside"
            },
            "colorscale": [
             [
              0,
              "rgb(20,44,66)"
             ],
             [
              1,
              "rgb(90,179,244)"
             ]
            ],
            "type": "histogram2d"
           }
          ],
          "histogram": [
           {
            "marker": {
             "pattern": {
              "fillmode": "overlay",
              "size": 10,
              "solidity": 0.2
             }
            },
            "type": "histogram"
           }
          ],
          "mesh3d": [
           {
            "colorbar": {
             "outlinewidth": 0,
             "tickcolor": "rgb(237,237,237)",
             "ticklen": 6,
             "ticks": "inside"
            },
            "type": "mesh3d"
           }
          ],
          "parcoords": [
           {
            "line": {
             "colorbar": {
              "outlinewidth": 0,
              "tickcolor": "rgb(237,237,237)",
              "ticklen": 6,
              "ticks": "inside"
             }
            },
            "type": "parcoords"
           }
          ],
          "pie": [
           {
            "automargin": true,
            "type": "pie"
           }
          ],
          "scatter3d": [
           {
            "line": {
             "colorbar": {
              "outlinewidth": 0,
              "tickcolor": "rgb(237,237,237)",
              "ticklen": 6,
              "ticks": "inside"
             }
            },
            "marker": {
             "colorbar": {
              "outlinewidth": 0,
              "tickcolor": "rgb(237,237,237)",
              "ticklen": 6,
              "ticks": "inside"
             }
            },
            "type": "scatter3d"
           }
          ],
          "scattercarpet": [
           {
            "marker": {
             "colorbar": {
              "outlinewidth": 0,
              "tickcolor": "rgb(237,237,237)",
              "ticklen": 6,
              "ticks": "inside"
             }
            },
            "type": "scattercarpet"
           }
          ],
          "scattergeo": [
           {
            "marker": {
             "colorbar": {
              "outlinewidth": 0,
              "tickcolor": "rgb(237,237,237)",
              "ticklen": 6,
              "ticks": "inside"
             }
            },
            "type": "scattergeo"
           }
          ],
          "scattergl": [
           {
            "marker": {
             "colorbar": {
              "outlinewidth": 0,
              "tickcolor": "rgb(237,237,237)",
              "ticklen": 6,
              "ticks": "inside"
             }
            },
            "type": "scattergl"
           }
          ],
          "scattermapbox": [
           {
            "marker": {
             "colorbar": {
              "outlinewidth": 0,
              "tickcolor": "rgb(237,237,237)",
              "ticklen": 6,
              "ticks": "inside"
             }
            },
            "type": "scattermapbox"
           }
          ],
          "scatterpolargl": [
           {
            "marker": {
             "colorbar": {
              "outlinewidth": 0,
              "tickcolor": "rgb(237,237,237)",
              "ticklen": 6,
              "ticks": "inside"
             }
            },
            "type": "scatterpolargl"
           }
          ],
          "scatterpolar": [
           {
            "marker": {
             "colorbar": {
              "outlinewidth": 0,
              "tickcolor": "rgb(237,237,237)",
              "ticklen": 6,
              "ticks": "inside"
             }
            },
            "type": "scatterpolar"
           }
          ],
          "scatter": [
           {
            "marker": {
             "colorbar": {
              "outlinewidth": 0,
              "tickcolor": "rgb(237,237,237)",
              "ticklen": 6,
              "ticks": "inside"
             }
            },
            "type": "scatter"
           }
          ],
          "scatterternary": [
           {
            "marker": {
             "colorbar": {
              "outlinewidth": 0,
              "tickcolor": "rgb(237,237,237)",
              "ticklen": 6,
              "ticks": "inside"
             }
            },
            "type": "scatterternary"
           }
          ],
          "surface": [
           {
            "colorbar": {
             "outlinewidth": 0,
             "tickcolor": "rgb(237,237,237)",
             "ticklen": 6,
             "ticks": "inside"
            },
            "colorscale": [
             [
              0,
              "rgb(20,44,66)"
             ],
             [
              1,
              "rgb(90,179,244)"
             ]
            ],
            "type": "surface"
           }
          ],
          "table": [
           {
            "cells": {
             "fill": {
              "color": "rgb(237,237,237)"
             },
             "line": {
              "color": "white"
             }
            },
            "header": {
             "fill": {
              "color": "rgb(217,217,217)"
             },
             "line": {
              "color": "white"
             }
            },
            "type": "table"
           }
          ]
         },
         "layout": {
          "annotationdefaults": {
           "arrowhead": 0,
           "arrowwidth": 1
          },
          "autotypenumbers": "strict",
          "coloraxis": {
           "colorbar": {
            "outlinewidth": 0,
            "tickcolor": "rgb(237,237,237)",
            "ticklen": 6,
            "ticks": "inside"
           }
          },
          "colorscale": {
           "sequential": [
            [
             0,
             "rgb(20,44,66)"
            ],
            [
             1,
             "rgb(90,179,244)"
            ]
           ],
           "sequentialminus": [
            [
             0,
             "rgb(20,44,66)"
            ],
            [
             1,
             "rgb(90,179,244)"
            ]
           ]
          },
          "colorway": [
           "#F8766D",
           "#A3A500",
           "#00BF7D",
           "#00B0F6",
           "#E76BF3"
          ],
          "font": {
           "color": "rgb(51,51,51)"
          },
          "geo": {
           "bgcolor": "white",
           "lakecolor": "white",
           "landcolor": "rgb(237,237,237)",
           "showlakes": true,
           "showland": true,
           "subunitcolor": "white"
          },
          "hoverlabel": {
           "align": "left"
          },
          "hovermode": "closest",
          "paper_bgcolor": "white",
          "plot_bgcolor": "rgb(237,237,237)",
          "polar": {
           "angularaxis": {
            "gridcolor": "white",
            "linecolor": "white",
            "showgrid": true,
            "tickcolor": "rgb(51,51,51)",
            "ticks": "outside"
           },
           "bgcolor": "rgb(237,237,237)",
           "radialaxis": {
            "gridcolor": "white",
            "linecolor": "white",
            "showgrid": true,
            "tickcolor": "rgb(51,51,51)",
            "ticks": "outside"
           }
          },
          "scene": {
           "xaxis": {
            "backgroundcolor": "rgb(237,237,237)",
            "gridcolor": "white",
            "gridwidth": 2,
            "linecolor": "white",
            "showbackground": true,
            "showgrid": true,
            "tickcolor": "rgb(51,51,51)",
            "ticks": "outside",
            "zerolinecolor": "white"
           },
           "yaxis": {
            "backgroundcolor": "rgb(237,237,237)",
            "gridcolor": "white",
            "gridwidth": 2,
            "linecolor": "white",
            "showbackground": true,
            "showgrid": true,
            "tickcolor": "rgb(51,51,51)",
            "ticks": "outside",
            "zerolinecolor": "white"
           },
           "zaxis": {
            "backgroundcolor": "rgb(237,237,237)",
            "gridcolor": "white",
            "gridwidth": 2,
            "linecolor": "white",
            "showbackground": true,
            "showgrid": true,
            "tickcolor": "rgb(51,51,51)",
            "ticks": "outside",
            "zerolinecolor": "white"
           }
          },
          "shapedefaults": {
           "fillcolor": "black",
           "line": {
            "width": 0
           },
           "opacity": 0.3
          },
          "ternary": {
           "aaxis": {
            "gridcolor": "white",
            "linecolor": "white",
            "showgrid": true,
            "tickcolor": "rgb(51,51,51)",
            "ticks": "outside"
           },
           "baxis": {
            "gridcolor": "white",
            "linecolor": "white",
            "showgrid": true,
            "tickcolor": "rgb(51,51,51)",
            "ticks": "outside"
           },
           "bgcolor": "rgb(237,237,237)",
           "caxis": {
            "gridcolor": "white",
            "linecolor": "white",
            "showgrid": true,
            "tickcolor": "rgb(51,51,51)",
            "ticks": "outside"
           }
          },
          "xaxis": {
           "automargin": true,
           "gridcolor": "white",
           "linecolor": "white",
           "showgrid": true,
           "tickcolor": "rgb(51,51,51)",
           "ticks": "outside",
           "title": {
            "standoff": 15
           },
           "zerolinecolor": "white"
          },
          "yaxis": {
           "automargin": true,
           "gridcolor": "white",
           "linecolor": "white",
           "showgrid": true,
           "tickcolor": "rgb(51,51,51)",
           "ticks": "outside",
           "title": {
            "standoff": 15
           },
           "zerolinecolor": "white"
          }
         }
        },
        "xaxis": {
         "anchor": "y",
         "domain": [
          0.0,
          1.0
         ],
         "title": {
          "text": "Year"
         },
         "range": [
          1912,
          2012
         ]
        },
        "yaxis": {
         "anchor": "x",
         "domain": [
          0.0,
          1.0
         ],
         "title": {
          "text": "Count"
         }
        },
        "legend": {
         "title": {
          "text": "Race"
         },
         "tracegroupgap": 0
        },
        "title": {
         "text": "Racial Representation of Hollywood Movie Characters"
        },
        "barmode": "relative"
       },
       "config": {
        "plotlyServerURL": "https://plot.ly"
       }
      },
      "text/html": "<div>                            <div id=\"e708e8d5-a8be-4b61-9e01-9ce2b1684f0a\" class=\"plotly-graph-div\" style=\"height:525px; width:100%;\"></div>            <script type=\"text/javascript\">                require([\"plotly\"], function(Plotly) {                    window.PLOTLYENV=window.PLOTLYENV || {};                                    if (document.getElementById(\"e708e8d5-a8be-4b61-9e01-9ce2b1684f0a\")) {                    Plotly.newPlot(                        \"e708e8d5-a8be-4b61-9e01-9ce2b1684f0a\",                        [{\"alignmentgroup\":\"True\",\"hovertemplate\":\"Race=White<br>Year=%{x}<br>Count=%{y}<extra></extra>\",\"legendgroup\":\"White\",\"marker\":{\"color\":\"#4C78A8\",\"pattern\":{\"shape\":\"\"}},\"name\":\"White\",\"offsetgroup\":\"White\",\"orientation\":\"v\",\"showlegend\":true,\"textposition\":\"auto\",\"x\":[1891,1896,1901,1903,1908,1909,1910,1911,1912,1894,1913,1955,1957,1954,1948,1919,1963,1951,1952,1918,1931,1950,1956,1960,1917,1941,1959,1953,1939,1946,1949,1947,1966,1940,1926,1962,1916,1958,1921,1920,1937,1932,1944,1942,1961,1938,1927,1925,1915,1945,1965,1928,1964,1943,1933,1967,1935,1981,1936,1934,1969,1930,1980,1979,1968,1982,2014,1924,1977,1983,1978,1971,1970,1984,1985,1986,1914,1992,1988,1987,1994,2011,1976,1929,1989,1997,1990,1998,2012,1993,2001,1991,1999,2010,2013,1975,1996,1974,1995,2006,2008,2009,1973,2007,1922,2004,2002,2000,2003,1972,2005,2015,1923],\"xaxis\":\"x\",\"y\":[1,1,1,1,1,4,3,3,8,1,53,200,201,197,198,40,170,159,183,45,97,203,224,131,49,177,182,200,185,151,170,170,166,185,57,176,69,168,36,24,143,119,158,199,141,161,66,43,63,124,168,62,168,174,110,167,128,270,134,132,168,58,316,230,177,298,10,32,213,291,258,180,204,424,385,423,92,594,487,485,743,1057,230,68,491,954,557,1119,715,715,1103,546,1053,1188,175,167,889,192,725,1389,1263,1227,173,1337,24,1039,966,962,962,165,1053,1,28],\"yaxis\":\"y\",\"type\":\"bar\"},{\"alignmentgroup\":\"True\",\"hovertemplate\":\"Race=Asian and Pacific Islander <br>Year=%{x}<br>Count=%{y}<extra></extra>\",\"legendgroup\":\"Asian and Pacific Islander \",\"marker\":{\"color\":\"#F58518\",\"pattern\":{\"shape\":\"\"}},\"name\":\"Asian and Pacific Islander \",\"offsetgroup\":\"Asian and Pacific Islander \",\"orientation\":\"v\",\"showlegend\":true,\"textposition\":\"auto\",\"x\":[2015,2013,1928,2014,2005,2008,2003,2012,2007,1966,2009,1993,2010,2006,2011,1927,1986,2004,1926,1994,1991,1944,2000,2002,1988,2001,1997,1998,1999,1920,1945,1995,1990,1989,1962,1932,1992,1982,1955,1984,1922,1968,1972,1980,1964,1987,1996,1961,1924,1921,1975,1946,1919,1933,1976,1985,1971,1960,1973,1913,1981,1942,1974,1938,1947,1983,1967,1970,1930,1935,1937,1934,1978,1951,1949,1929,1952,1965,1943,1954,1931,1956,1977,1979,1963,1958,1941,1959,1939,1969,1940,1948],\"xaxis\":\"x\",\"y\":[1,26,6,1,119,129,94,61,121,11,108,58,95,115,79,4,29,79,3,48,36,8,67,65,27,63,53,62,58,1,5,37,26,22,6,4,24,11,6,16,1,6,7,10,5,17,33,4,1,1,6,4,1,3,7,11,5,3,5,1,6,4,5,3,3,6,3,4,1,2,2,2,4,2,2,1,2,2,2,2,1,2,2,2,1,1,1,1,1,1,1,1],\"yaxis\":\"y\",\"type\":\"bar\"},{\"alignmentgroup\":\"True\",\"hovertemplate\":\"Race=Black<br>Year=%{x}<br>Count=%{y}<extra></extra>\",\"legendgroup\":\"Black\",\"marker\":{\"color\":\"#E45756\",\"pattern\":{\"shape\":\"\"}},\"name\":\"Black\",\"offsetgroup\":\"Black\",\"orientation\":\"v\",\"showlegend\":true,\"textposition\":\"auto\",\"x\":[1923,1972,1974,1973,1922,1975,2000,2004,1976,2005,1995,1996,2002,2003,1929,1991,1998,1999,2007,1970,1987,2008,2009,1997,2006,2001,1977,1978,1990,1971,1993,1989,2010,1992,1988,1984,2012,1994,1930,1985,1979,2011,1936,1982,1968,1986,1943,1983,1980,1934,1969,2013,1981,1967,1935,1933,1945,1920,1961,1938,1946,1942,1925,1958,1965,1964,1926,1944,1932,1940,1937,1959,1941,1956,2014,1939,1947,1921,1924,1950,1951,1949,1953,1948,1962,1963,1927,1952,1954,1957,1960,1918,1928,1931,1955,1966,1916],\"xaxis\":\"x\",\"y\":[24,85,85,78,10,64,378,395,78,419,259,308,351,340,21,172,345,329,434,57,139,392,381,276,428,317,54,66,156,46,199,133,330,154,124,104,189,189,13,91,50,236,26,58,34,87,31,56,57,23,28,34,43,25,19,16,16,3,17,19,17,23,5,19,19,19,6,16,12,18,14,17,16,20,1,16,14,3,3,16,11,12,14,13,12,10,4,10,10,9,6,2,3,4,8,5,2],\"yaxis\":\"y\",\"type\":\"bar\"},{\"alignmentgroup\":\"True\",\"hovertemplate\":\"Race=Other<br>Year=%{x}<br>Count=%{y}<extra></extra>\",\"legendgroup\":\"Other\",\"marker\":{\"color\":\"#72B7B2\",\"pattern\":{\"shape\":\"\"}},\"name\":\"Other\",\"offsetgroup\":\"Other\",\"orientation\":\"v\",\"showlegend\":true,\"textposition\":\"auto\",\"x\":[1914,1915,1916,1917,2014,1923,1919,1918,2000,1983,1921,2002,2013,2006,2003,2001,2005,1969,2009,2007,2010,1999,2004,1989,1990,1988,1996,1980,1997,1991,2008,1981,1967,1995,1998,1985,1993,1987,1986,1928,1922,2011,1973,1994,1992,1965,1984,1924,2012,1978,1968,1958,1964,1925,1972,1957,1971,1975,1966,1976,1962,1960,1961,1963,1982,1979,1931,1970,1977,1974,1936,1947,1952,1959,1940,1956],\"xaxis\":\"x\",\"y\":[36,12,9,5,1,4,3,3,77,19,2,71,12,98,70,70,75,9,80,87,70,59,62,26,29,23,45,13,43,25,58,10,6,32,47,15,30,19,16,2,1,40,7,27,21,5,14,1,25,8,5,4,4,1,5,4,4,4,3,5,3,2,2,2,4,3,1,2,2,2,1,1,1,1,1,1],\"yaxis\":\"y\",\"type\":\"bar\"},{\"alignmentgroup\":\"True\",\"hovertemplate\":\"Race=Hispanic<br>Year=%{x}<br>Count=%{y}<extra></extra>\",\"legendgroup\":\"Hispanic\",\"marker\":{\"color\":\"#54A24B\",\"pattern\":{\"shape\":\"\"}},\"name\":\"Hispanic\",\"offsetgroup\":\"Hispanic\",\"orientation\":\"v\",\"showlegend\":true,\"textposition\":\"auto\",\"x\":[1924,1929,2013,2011,1934,2008,1953,1922,1927,2003,1935,1990,1996,2012,2002,1937,1989,2005,2006,1949,2007,1993,1986,2009,1987,2010,1994,2001,1940,1995,2000,2004,1975,1965,1992,1925,1939,1998,1931,1985,1983,1991,1936,1977,1997,1950,1999,1988,1984,1962,1960,1972,1971,1969,1938,1966,1982,1947,1979,1941,1942,1952,1964,1970,1943,1976,1974,1930,1928,1978,1959,1967,1981,1954,1948,1951,1933,1973,1968,1932,1963,1945,1957,1917,1923,1980,1944,1956,1958,1955,1961],\"xaxis\":\"x\",\"y\":[4,7,15,85,9,106,12,2,4,79,8,41,66,51,75,8,34,83,101,9,96,48,26,84,30,77,46,70,9,46,63,67,10,8,33,2,8,62,4,19,14,29,6,10,49,8,55,24,20,7,5,9,8,7,6,6,12,6,9,6,7,6,6,8,6,9,8,2,2,9,5,5,8,5,5,4,3,6,5,3,4,3,4,1,1,7,3,4,3,2,1],\"yaxis\":\"y\",\"type\":\"bar\"},{\"alignmentgroup\":\"True\",\"hovertemplate\":\"Race=American Indian Eskimo and Aleut <br>Year=%{x}<br>Count=%{y}<extra></extra>\",\"legendgroup\":\"American Indian Eskimo and Aleut \",\"marker\":{\"color\":\"#EECA3B\",\"pattern\":{\"shape\":\"\"}},\"name\":\"American Indian Eskimo and Aleut \",\"offsetgroup\":\"American Indian Eskimo and Aleut \",\"orientation\":\"v\",\"showlegend\":true,\"textposition\":\"auto\",\"x\":[1924,1933,1995,2003,2002,2009,1935,2005,2006,2004,2012,2011,2007,1992,1999,1985,1994,2010,1990,1997,1996,1983,2008,1998,1936,2000,1974,1929,1964,1993,1931,2001,1981,1988,1987,1991,1986,1975,1982,2013,1973,1970,1932,1989,1979,1976,1934,1961,1978,1938,1963,1984,1949,1966,1952,1965,1980,1969,1954,1968,1953,1942,1972,1977],\"xaxis\":\"x\",\"y\":[1,3,24,32,30,37,3,31,37,27,17,24,33,13,24,8,16,26,12,19,18,5,24,20,2,17,3,1,2,10,1,15,3,6,6,7,5,2,3,2,2,2,1,5,2,2,1,1,2,1,1,3,1,1,1,1,2,1,1,1,1,1,1,1],\"yaxis\":\"y\",\"type\":\"bar\"}],                        {\"template\":{\"data\":{\"barpolar\":[{\"marker\":{\"line\":{\"color\":\"rgb(237,237,237)\",\"width\":0.5},\"pattern\":{\"fillmode\":\"overlay\",\"size\":10,\"solidity\":0.2}},\"type\":\"barpolar\"}],\"bar\":[{\"error_x\":{\"color\":\"rgb(51,51,51)\"},\"error_y\":{\"color\":\"rgb(51,51,51)\"},\"marker\":{\"line\":{\"color\":\"rgb(237,237,237)\",\"width\":0.5},\"pattern\":{\"fillmode\":\"overlay\",\"size\":10,\"solidity\":0.2}},\"type\":\"bar\"}],\"carpet\":[{\"aaxis\":{\"endlinecolor\":\"rgb(51,51,51)\",\"gridcolor\":\"white\",\"linecolor\":\"white\",\"minorgridcolor\":\"white\",\"startlinecolor\":\"rgb(51,51,51)\"},\"baxis\":{\"endlinecolor\":\"rgb(51,51,51)\",\"gridcolor\":\"white\",\"linecolor\":\"white\",\"minorgridcolor\":\"white\",\"startlinecolor\":\"rgb(51,51,51)\"},\"type\":\"carpet\"}],\"choropleth\":[{\"colorbar\":{\"outlinewidth\":0,\"tickcolor\":\"rgb(237,237,237)\",\"ticklen\":6,\"ticks\":\"inside\"},\"type\":\"choropleth\"}],\"contourcarpet\":[{\"colorbar\":{\"outlinewidth\":0,\"tickcolor\":\"rgb(237,237,237)\",\"ticklen\":6,\"ticks\":\"inside\"},\"type\":\"contourcarpet\"}],\"contour\":[{\"colorbar\":{\"outlinewidth\":0,\"tickcolor\":\"rgb(237,237,237)\",\"ticklen\":6,\"ticks\":\"inside\"},\"colorscale\":[[0,\"rgb(20,44,66)\"],[1,\"rgb(90,179,244)\"]],\"type\":\"contour\"}],\"heatmapgl\":[{\"colorbar\":{\"outlinewidth\":0,\"tickcolor\":\"rgb(237,237,237)\",\"ticklen\":6,\"ticks\":\"inside\"},\"colorscale\":[[0,\"rgb(20,44,66)\"],[1,\"rgb(90,179,244)\"]],\"type\":\"heatmapgl\"}],\"heatmap\":[{\"colorbar\":{\"outlinewidth\":0,\"tickcolor\":\"rgb(237,237,237)\",\"ticklen\":6,\"ticks\":\"inside\"},\"colorscale\":[[0,\"rgb(20,44,66)\"],[1,\"rgb(90,179,244)\"]],\"type\":\"heatmap\"}],\"histogram2dcontour\":[{\"colorbar\":{\"outlinewidth\":0,\"tickcolor\":\"rgb(237,237,237)\",\"ticklen\":6,\"ticks\":\"inside\"},\"colorscale\":[[0,\"rgb(20,44,66)\"],[1,\"rgb(90,179,244)\"]],\"type\":\"histogram2dcontour\"}],\"histogram2d\":[{\"colorbar\":{\"outlinewidth\":0,\"tickcolor\":\"rgb(237,237,237)\",\"ticklen\":6,\"ticks\":\"inside\"},\"colorscale\":[[0,\"rgb(20,44,66)\"],[1,\"rgb(90,179,244)\"]],\"type\":\"histogram2d\"}],\"histogram\":[{\"marker\":{\"pattern\":{\"fillmode\":\"overlay\",\"size\":10,\"solidity\":0.2}},\"type\":\"histogram\"}],\"mesh3d\":[{\"colorbar\":{\"outlinewidth\":0,\"tickcolor\":\"rgb(237,237,237)\",\"ticklen\":6,\"ticks\":\"inside\"},\"type\":\"mesh3d\"}],\"parcoords\":[{\"line\":{\"colorbar\":{\"outlinewidth\":0,\"tickcolor\":\"rgb(237,237,237)\",\"ticklen\":6,\"ticks\":\"inside\"}},\"type\":\"parcoords\"}],\"pie\":[{\"automargin\":true,\"type\":\"pie\"}],\"scatter3d\":[{\"line\":{\"colorbar\":{\"outlinewidth\":0,\"tickcolor\":\"rgb(237,237,237)\",\"ticklen\":6,\"ticks\":\"inside\"}},\"marker\":{\"colorbar\":{\"outlinewidth\":0,\"tickcolor\":\"rgb(237,237,237)\",\"ticklen\":6,\"ticks\":\"inside\"}},\"type\":\"scatter3d\"}],\"scattercarpet\":[{\"marker\":{\"colorbar\":{\"outlinewidth\":0,\"tickcolor\":\"rgb(237,237,237)\",\"ticklen\":6,\"ticks\":\"inside\"}},\"type\":\"scattercarpet\"}],\"scattergeo\":[{\"marker\":{\"colorbar\":{\"outlinewidth\":0,\"tickcolor\":\"rgb(237,237,237)\",\"ticklen\":6,\"ticks\":\"inside\"}},\"type\":\"scattergeo\"}],\"scattergl\":[{\"marker\":{\"colorbar\":{\"outlinewidth\":0,\"tickcolor\":\"rgb(237,237,237)\",\"ticklen\":6,\"ticks\":\"inside\"}},\"type\":\"scattergl\"}],\"scattermapbox\":[{\"marker\":{\"colorbar\":{\"outlinewidth\":0,\"tickcolor\":\"rgb(237,237,237)\",\"ticklen\":6,\"ticks\":\"inside\"}},\"type\":\"scattermapbox\"}],\"scatterpolargl\":[{\"marker\":{\"colorbar\":{\"outlinewidth\":0,\"tickcolor\":\"rgb(237,237,237)\",\"ticklen\":6,\"ticks\":\"inside\"}},\"type\":\"scatterpolargl\"}],\"scatterpolar\":[{\"marker\":{\"colorbar\":{\"outlinewidth\":0,\"tickcolor\":\"rgb(237,237,237)\",\"ticklen\":6,\"ticks\":\"inside\"}},\"type\":\"scatterpolar\"}],\"scatter\":[{\"marker\":{\"colorbar\":{\"outlinewidth\":0,\"tickcolor\":\"rgb(237,237,237)\",\"ticklen\":6,\"ticks\":\"inside\"}},\"type\":\"scatter\"}],\"scatterternary\":[{\"marker\":{\"colorbar\":{\"outlinewidth\":0,\"tickcolor\":\"rgb(237,237,237)\",\"ticklen\":6,\"ticks\":\"inside\"}},\"type\":\"scatterternary\"}],\"surface\":[{\"colorbar\":{\"outlinewidth\":0,\"tickcolor\":\"rgb(237,237,237)\",\"ticklen\":6,\"ticks\":\"inside\"},\"colorscale\":[[0,\"rgb(20,44,66)\"],[1,\"rgb(90,179,244)\"]],\"type\":\"surface\"}],\"table\":[{\"cells\":{\"fill\":{\"color\":\"rgb(237,237,237)\"},\"line\":{\"color\":\"white\"}},\"header\":{\"fill\":{\"color\":\"rgb(217,217,217)\"},\"line\":{\"color\":\"white\"}},\"type\":\"table\"}]},\"layout\":{\"annotationdefaults\":{\"arrowhead\":0,\"arrowwidth\":1},\"autotypenumbers\":\"strict\",\"coloraxis\":{\"colorbar\":{\"outlinewidth\":0,\"tickcolor\":\"rgb(237,237,237)\",\"ticklen\":6,\"ticks\":\"inside\"}},\"colorscale\":{\"sequential\":[[0,\"rgb(20,44,66)\"],[1,\"rgb(90,179,244)\"]],\"sequentialminus\":[[0,\"rgb(20,44,66)\"],[1,\"rgb(90,179,244)\"]]},\"colorway\":[\"#F8766D\",\"#A3A500\",\"#00BF7D\",\"#00B0F6\",\"#E76BF3\"],\"font\":{\"color\":\"rgb(51,51,51)\"},\"geo\":{\"bgcolor\":\"white\",\"lakecolor\":\"white\",\"landcolor\":\"rgb(237,237,237)\",\"showlakes\":true,\"showland\":true,\"subunitcolor\":\"white\"},\"hoverlabel\":{\"align\":\"left\"},\"hovermode\":\"closest\",\"paper_bgcolor\":\"white\",\"plot_bgcolor\":\"rgb(237,237,237)\",\"polar\":{\"angularaxis\":{\"gridcolor\":\"white\",\"linecolor\":\"white\",\"showgrid\":true,\"tickcolor\":\"rgb(51,51,51)\",\"ticks\":\"outside\"},\"bgcolor\":\"rgb(237,237,237)\",\"radialaxis\":{\"gridcolor\":\"white\",\"linecolor\":\"white\",\"showgrid\":true,\"tickcolor\":\"rgb(51,51,51)\",\"ticks\":\"outside\"}},\"scene\":{\"xaxis\":{\"backgroundcolor\":\"rgb(237,237,237)\",\"gridcolor\":\"white\",\"gridwidth\":2,\"linecolor\":\"white\",\"showbackground\":true,\"showgrid\":true,\"tickcolor\":\"rgb(51,51,51)\",\"ticks\":\"outside\",\"zerolinecolor\":\"white\"},\"yaxis\":{\"backgroundcolor\":\"rgb(237,237,237)\",\"gridcolor\":\"white\",\"gridwidth\":2,\"linecolor\":\"white\",\"showbackground\":true,\"showgrid\":true,\"tickcolor\":\"rgb(51,51,51)\",\"ticks\":\"outside\",\"zerolinecolor\":\"white\"},\"zaxis\":{\"backgroundcolor\":\"rgb(237,237,237)\",\"gridcolor\":\"white\",\"gridwidth\":2,\"linecolor\":\"white\",\"showbackground\":true,\"showgrid\":true,\"tickcolor\":\"rgb(51,51,51)\",\"ticks\":\"outside\",\"zerolinecolor\":\"white\"}},\"shapedefaults\":{\"fillcolor\":\"black\",\"line\":{\"width\":0},\"opacity\":0.3},\"ternary\":{\"aaxis\":{\"gridcolor\":\"white\",\"linecolor\":\"white\",\"showgrid\":true,\"tickcolor\":\"rgb(51,51,51)\",\"ticks\":\"outside\"},\"baxis\":{\"gridcolor\":\"white\",\"linecolor\":\"white\",\"showgrid\":true,\"tickcolor\":\"rgb(51,51,51)\",\"ticks\":\"outside\"},\"bgcolor\":\"rgb(237,237,237)\",\"caxis\":{\"gridcolor\":\"white\",\"linecolor\":\"white\",\"showgrid\":true,\"tickcolor\":\"rgb(51,51,51)\",\"ticks\":\"outside\"}},\"xaxis\":{\"automargin\":true,\"gridcolor\":\"white\",\"linecolor\":\"white\",\"showgrid\":true,\"tickcolor\":\"rgb(51,51,51)\",\"ticks\":\"outside\",\"title\":{\"standoff\":15},\"zerolinecolor\":\"white\"},\"yaxis\":{\"automargin\":true,\"gridcolor\":\"white\",\"linecolor\":\"white\",\"showgrid\":true,\"tickcolor\":\"rgb(51,51,51)\",\"ticks\":\"outside\",\"title\":{\"standoff\":15},\"zerolinecolor\":\"white\"}}},\"xaxis\":{\"anchor\":\"y\",\"domain\":[0.0,1.0],\"title\":{\"text\":\"Year\"},\"range\":[1912,2012]},\"yaxis\":{\"anchor\":\"x\",\"domain\":[0.0,1.0],\"title\":{\"text\":\"Count\"}},\"legend\":{\"title\":{\"text\":\"Race\"},\"tracegroupgap\":0},\"title\":{\"text\":\"Racial Representation of Hollywood Movie Characters\"},\"barmode\":\"relative\"},                        {\"responsive\": true}                    ).then(function(){\n                            \nvar gd = document.getElementById('e708e8d5-a8be-4b61-9e01-9ce2b1684f0a');\nvar x = new MutationObserver(function (mutations, observer) {{\n        var display = window.getComputedStyle(gd).display;\n        if (!display || display === 'none') {{\n            console.log([gd, 'removed!']);\n            Plotly.purge(gd);\n            observer.disconnect();\n        }}\n}});\n\n// Listen for the removal of the full notebook cells\nvar notebookContainer = gd.closest('#notebook-container');\nif (notebookContainer) {{\n    x.observe(notebookContainer, {childList: true});\n}}\n\n// Listen for the clearing of the current output cell\nvar outputEl = gd.closest('.output');\nif (outputEl) {{\n    x.observe(outputEl, {childList: true});\n}}\n\n                        })                };                });            </script>        </div>"
     },
     "metadata": {},
     "output_type": "display_data"
    }
   ],
   "source": [
    "import plotly.express as px\n",
    "\n",
    "wide_df = px.data.medals_wide()\n",
    "\n",
    "fig = px.bar(simple_data, x=\"Year\",y='Count', color=\"Race\", range_x=[1912, 2012], title=\"Racial Representation of Hollywood Movie Characters\",                                                                                                 color_discrete_sequence=px.colors.qualitative.T10, template= 'ggplot2')\n",
    "fig.show()\n",
    "fig.write_html((Path('/Users/ianapeix/ADA2022/html/movie_chars_race_count.html')))"
   ],
   "metadata": {
    "collapsed": false
   }
  },
  {
   "cell_type": "code",
   "execution_count": 64,
   "outputs": [
    {
     "data": {
      "application/vnd.plotly.v1+json": {
       "data": [
        {
         "alignmentgroup": "True",
         "hovertemplate": "Race=White<br>Year=%{x}<br>Percentage=%{y}<extra></extra>",
         "legendgroup": "White",
         "marker": {
          "color": "#4C78A8",
          "pattern": {
           "shape": ""
          }
         },
         "name": "White",
         "offsetgroup": "White",
         "orientation": "v",
         "showlegend": true,
         "textposition": "auto",
         "x": [
          1891,
          1896,
          1901,
          1903,
          1908,
          1909,
          1910,
          1911,
          1912,
          1894,
          1913,
          1955,
          1957,
          1954,
          1948,
          1919,
          1963,
          1951,
          1952,
          1918,
          1931,
          1950,
          1956,
          1960,
          1917,
          1941,
          1959,
          1953,
          1939,
          1946,
          1949,
          1947,
          1966,
          1940,
          1926,
          1962,
          1916,
          1958,
          1921,
          1920,
          1937,
          1932,
          1944,
          1942,
          1961,
          1938,
          1927,
          1925,
          1915,
          1945,
          1965,
          1928,
          1964,
          1943,
          1933,
          1967,
          1935,
          1981,
          1936,
          1934,
          1969,
          1930,
          1980,
          1979,
          1968,
          1982,
          2014,
          1924,
          1977,
          1983,
          1978,
          1971,
          1970,
          1984,
          1985,
          1986,
          1914,
          1992,
          1988,
          1987,
          1994,
          2011,
          1976,
          1929,
          1989,
          1997,
          1990,
          1998,
          2012,
          1993,
          2001,
          1991,
          1999,
          2010,
          2013,
          1975,
          1996,
          1974,
          1995,
          2006,
          2008,
          2009,
          1973,
          2007,
          1922,
          2004,
          2002,
          2000,
          2003,
          1972,
          2005,
          2015,
          1923
         ],
         "xaxis": "x",
         "y": [
          100.0,
          100.0,
          100.0,
          100.0,
          100.0,
          100.0,
          100.0,
          100.0,
          100.0,
          100.0,
          98.15,
          92.59,
          92.2,
          91.63,
          91.24,
          90.91,
          90.43,
          90.34,
          90.15,
          90.0,
          89.81,
          89.43,
          89.24,
          89.12,
          89.09,
          88.5,
          88.35,
          88.11,
          88.1,
          87.79,
          87.63,
          87.63,
          86.46,
          86.45,
          86.36,
          86.27,
          86.25,
          86.15,
          85.71,
          85.71,
          85.63,
          85.61,
          85.41,
          85.04,
          84.94,
          84.74,
          84.62,
          84.31,
          84.0,
          83.78,
          82.76,
          82.67,
          82.35,
          81.69,
          81.48,
          81.07,
          80.0,
          79.41,
          79.29,
          79.04,
          78.5,
          78.38,
          78.02,
          77.7,
          77.63,
          77.2,
          76.92,
          76.19,
          75.53,
          74.42,
          74.35,
          74.07,
          73.65,
          72.98,
          72.78,
          72.18,
          71.88,
          70.8,
          70.48,
          69.68,
          69.5,
          69.49,
          69.49,
          69.39,
          69.06,
          68.44,
          67.84,
          67.61,
          67.58,
          67.45,
          67.34,
          66.99,
          66.73,
          66.52,
          66.29,
          66.01,
          65.42,
          65.08,
          64.56,
          64.07,
          64.05,
          64.01,
          63.84,
          63.43,
          63.16,
          62.25,
          62.0,
          61.51,
          61.0,
          60.66,
          59.16,
          50.0,
          49.12
         ],
         "yaxis": "y",
         "type": "bar"
        },
        {
         "alignmentgroup": "True",
         "hovertemplate": "Race=Asian and Pacific Islander <br>Year=%{x}<br>Percentage=%{y}<extra></extra>",
         "legendgroup": "Asian and Pacific Islander ",
         "marker": {
          "color": "#F58518",
          "pattern": {
           "shape": ""
          }
         },
         "name": "Asian and Pacific Islander ",
         "offsetgroup": "Asian and Pacific Islander ",
         "orientation": "v",
         "showlegend": true,
         "textposition": "auto",
         "x": [
          2015,
          2013,
          1928,
          2014,
          2005,
          2008,
          2003,
          2012,
          2007,
          1966,
          2009,
          1993,
          2010,
          2006,
          2011,
          1927,
          1986,
          2004,
          1926,
          1994,
          1991,
          1944,
          2000,
          2002,
          1988,
          2001,
          1997,
          1998,
          1999,
          1920,
          1945,
          1995,
          1990,
          1989,
          1962,
          1932,
          1992,
          1982,
          1955,
          1984,
          1922,
          1968,
          1972,
          1980,
          1964,
          1987,
          1996,
          1961,
          1924,
          1921,
          1975,
          1946,
          1919,
          1933,
          1976,
          1985,
          1971,
          1960,
          1973,
          1913,
          1981,
          1942,
          1974,
          1938,
          1947,
          1983,
          1967,
          1970,
          1930,
          1935,
          1937,
          1934,
          1978,
          1951,
          1949,
          1929,
          1952,
          1965,
          1943,
          1954,
          1931,
          1956,
          1977,
          1979,
          1963,
          1958,
          1941,
          1959,
          1939,
          1969,
          1940,
          1948
         ],
         "xaxis": "x",
         "y": [
          50.0,
          9.85,
          8.0,
          7.69,
          6.69,
          6.54,
          5.96,
          5.77,
          5.74,
          5.73,
          5.63,
          5.47,
          5.32,
          5.3,
          5.19,
          5.13,
          4.95,
          4.73,
          4.55,
          4.49,
          4.42,
          4.32,
          4.28,
          4.17,
          3.91,
          3.85,
          3.8,
          3.75,
          3.68,
          3.57,
          3.38,
          3.29,
          3.17,
          3.09,
          2.94,
          2.88,
          2.86,
          2.85,
          2.78,
          2.75,
          2.63,
          2.63,
          2.57,
          2.47,
          2.45,
          2.44,
          2.43,
          2.41,
          2.38,
          2.38,
          2.37,
          2.33,
          2.27,
          2.22,
          2.11,
          2.08,
          2.06,
          2.04,
          1.85,
          1.85,
          1.76,
          1.71,
          1.69,
          1.58,
          1.55,
          1.53,
          1.46,
          1.44,
          1.35,
          1.25,
          1.2,
          1.2,
          1.15,
          1.14,
          1.03,
          1.02,
          0.99,
          0.99,
          0.94,
          0.93,
          0.93,
          0.8,
          0.71,
          0.68,
          0.53,
          0.51,
          0.5,
          0.49,
          0.48,
          0.47,
          0.47,
          0.46
         ],
         "yaxis": "y",
         "type": "bar"
        },
        {
         "alignmentgroup": "True",
         "hovertemplate": "Race=Black<br>Year=%{x}<br>Percentage=%{y}<extra></extra>",
         "legendgroup": "Black",
         "marker": {
          "color": "#E45756",
          "pattern": {
           "shape": ""
          }
         },
         "name": "Black",
         "offsetgroup": "Black",
         "orientation": "v",
         "showlegend": true,
         "textposition": "auto",
         "x": [
          1923,
          1972,
          1974,
          1973,
          1922,
          1975,
          2000,
          2004,
          1976,
          2005,
          1995,
          1996,
          2002,
          2003,
          1929,
          1991,
          1998,
          1999,
          2007,
          1970,
          1987,
          2008,
          2009,
          1997,
          2006,
          2001,
          1977,
          1978,
          1990,
          1971,
          1993,
          1989,
          2010,
          1992,
          1988,
          1984,
          2012,
          1994,
          1930,
          1985,
          1979,
          2011,
          1936,
          1982,
          1968,
          1986,
          1943,
          1983,
          1980,
          1934,
          1969,
          2013,
          1981,
          1967,
          1935,
          1933,
          1945,
          1920,
          1961,
          1938,
          1946,
          1942,
          1925,
          1958,
          1965,
          1964,
          1926,
          1944,
          1932,
          1940,
          1937,
          1959,
          1941,
          1956,
          2014,
          1939,
          1947,
          1921,
          1924,
          1950,
          1951,
          1949,
          1953,
          1948,
          1962,
          1963,
          1927,
          1952,
          1954,
          1957,
          1960,
          1918,
          1928,
          1931,
          1955,
          1966,
          1916
         ],
         "xaxis": "x",
         "y": [
          42.11,
          31.25,
          28.81,
          28.78,
          26.32,
          25.3,
          24.17,
          23.67,
          23.56,
          23.54,
          23.06,
          22.66,
          22.53,
          21.56,
          21.43,
          21.1,
          20.85,
          20.85,
          20.59,
          20.58,
          19.97,
          19.88,
          19.87,
          19.8,
          19.74,
          19.35,
          19.15,
          19.02,
          19.0,
          18.93,
          18.77,
          18.71,
          18.48,
          18.36,
          17.95,
          17.9,
          17.86,
          17.68,
          17.57,
          17.2,
          16.89,
          15.52,
          15.38,
          15.03,
          14.91,
          14.85,
          14.55,
          14.32,
          14.07,
          13.77,
          13.08,
          12.88,
          12.65,
          12.14,
          11.88,
          11.85,
          10.81,
          10.71,
          10.24,
          10.0,
          9.88,
          9.83,
          9.8,
          9.74,
          9.36,
          9.31,
          9.09,
          8.65,
          8.63,
          8.41,
          8.38,
          8.25,
          8.0,
          7.97,
          7.69,
          7.62,
          7.22,
          7.14,
          7.14,
          7.05,
          6.25,
          6.19,
          6.17,
          5.99,
          5.88,
          5.32,
          5.13,
          4.93,
          4.65,
          4.13,
          4.08,
          4.0,
          4.0,
          3.7,
          3.7,
          2.6,
          2.5
         ],
         "yaxis": "y",
         "type": "bar"
        },
        {
         "alignmentgroup": "True",
         "hovertemplate": "Race=Other<br>Year=%{x}<br>Percentage=%{y}<extra></extra>",
         "legendgroup": "Other",
         "marker": {
          "color": "#72B7B2",
          "pattern": {
           "shape": ""
          }
         },
         "name": "Other",
         "offsetgroup": "Other",
         "orientation": "v",
         "showlegend": true,
         "textposition": "auto",
         "x": [
          1914,
          1915,
          1916,
          1917,
          2014,
          1923,
          1919,
          1918,
          2000,
          1983,
          1921,
          2002,
          2013,
          2006,
          2003,
          2001,
          2005,
          1969,
          2009,
          2007,
          2010,
          1999,
          2004,
          1989,
          1990,
          1988,
          1996,
          1980,
          1997,
          1991,
          2008,
          1981,
          1967,
          1995,
          1998,
          1985,
          1993,
          1987,
          1986,
          1928,
          1922,
          2011,
          1973,
          1994,
          1992,
          1965,
          1984,
          1924,
          2012,
          1978,
          1968,
          1958,
          1964,
          1925,
          1972,
          1957,
          1971,
          1975,
          1966,
          1976,
          1962,
          1960,
          1961,
          1963,
          1982,
          1979,
          1931,
          1970,
          1977,
          1974,
          1936,
          1947,
          1952,
          1959,
          1940,
          1956
         ],
         "xaxis": "x",
         "y": [
          28.12,
          16.0,
          11.25,
          9.09,
          7.69,
          7.02,
          6.82,
          6.0,
          4.92,
          4.86,
          4.76,
          4.56,
          4.55,
          4.52,
          4.44,
          4.27,
          4.21,
          4.21,
          4.17,
          4.13,
          3.92,
          3.74,
          3.71,
          3.66,
          3.53,
          3.33,
          3.31,
          3.21,
          3.08,
          3.07,
          2.94,
          2.94,
          2.91,
          2.85,
          2.84,
          2.84,
          2.83,
          2.73,
          2.73,
          2.67,
          2.63,
          2.63,
          2.58,
          2.53,
          2.5,
          2.46,
          2.41,
          2.38,
          2.36,
          2.31,
          2.19,
          2.05,
          1.96,
          1.96,
          1.84,
          1.83,
          1.65,
          1.58,
          1.56,
          1.51,
          1.47,
          1.36,
          1.2,
          1.06,
          1.04,
          1.01,
          0.93,
          0.72,
          0.71,
          0.68,
          0.59,
          0.52,
          0.49,
          0.49,
          0.47,
          0.4
         ],
         "yaxis": "y",
         "type": "bar"
        },
        {
         "alignmentgroup": "True",
         "hovertemplate": "Race=Hispanic<br>Year=%{x}<br>Percentage=%{y}<extra></extra>",
         "legendgroup": "Hispanic",
         "marker": {
          "color": "#54A24B",
          "pattern": {
           "shape": ""
          }
         },
         "name": "Hispanic",
         "offsetgroup": "Hispanic",
         "orientation": "v",
         "showlegend": true,
         "textposition": "auto",
         "x": [
          1924,
          1929,
          2013,
          2011,
          1934,
          2008,
          1953,
          1922,
          1927,
          2003,
          1935,
          1990,
          1996,
          2012,
          2002,
          1937,
          1989,
          2005,
          2006,
          1949,
          2007,
          1993,
          1986,
          2009,
          1987,
          2010,
          1994,
          2001,
          1940,
          1995,
          2000,
          2004,
          1975,
          1965,
          1992,
          1925,
          1939,
          1998,
          1931,
          1985,
          1983,
          1991,
          1936,
          1977,
          1997,
          1950,
          1999,
          1988,
          1984,
          1962,
          1960,
          1972,
          1971,
          1969,
          1938,
          1966,
          1982,
          1947,
          1979,
          1941,
          1942,
          1952,
          1964,
          1970,
          1943,
          1976,
          1974,
          1930,
          1928,
          1978,
          1959,
          1967,
          1981,
          1954,
          1948,
          1951,
          1933,
          1973,
          1968,
          1932,
          1963,
          1945,
          1957,
          1917,
          1923,
          1980,
          1944,
          1956,
          1958,
          1955,
          1961
         ],
         "xaxis": "x",
         "y": [
          9.52,
          7.14,
          5.68,
          5.59,
          5.39,
          5.38,
          5.29,
          5.26,
          5.13,
          5.01,
          5.0,
          4.99,
          4.86,
          4.82,
          4.81,
          4.79,
          4.78,
          4.66,
          4.66,
          4.64,
          4.55,
          4.53,
          4.44,
          4.38,
          4.31,
          4.31,
          4.3,
          4.27,
          4.21,
          4.1,
          4.03,
          4.01,
          3.95,
          3.94,
          3.93,
          3.92,
          3.81,
          3.75,
          3.7,
          3.59,
          3.58,
          3.56,
          3.55,
          3.55,
          3.52,
          3.52,
          3.49,
          3.47,
          3.44,
          3.43,
          3.4,
          3.31,
          3.29,
          3.27,
          3.16,
          3.12,
          3.11,
          3.09,
          3.04,
          3.0,
          2.99,
          2.96,
          2.94,
          2.89,
          2.82,
          2.72,
          2.71,
          2.7,
          2.67,
          2.59,
          2.43,
          2.43,
          2.35,
          2.33,
          2.3,
          2.27,
          2.22,
          2.21,
          2.19,
          2.16,
          2.13,
          2.03,
          1.83,
          1.82,
          1.75,
          1.73,
          1.62,
          1.59,
          1.54,
          0.93,
          0.6
         ],
         "yaxis": "y",
         "type": "bar"
        },
        {
         "alignmentgroup": "True",
         "hovertemplate": "Race=American Indian Eskimo and Aleut <br>Year=%{x}<br>Percentage=%{y}<extra></extra>",
         "legendgroup": "American Indian Eskimo and Aleut ",
         "marker": {
          "color": "#EECA3B",
          "pattern": {
           "shape": ""
          }
         },
         "name": "American Indian Eskimo and Aleut ",
         "offsetgroup": "American Indian Eskimo and Aleut ",
         "orientation": "v",
         "showlegend": true,
         "textposition": "auto",
         "x": [
          1924,
          1933,
          1995,
          2003,
          2002,
          2009,
          1935,
          2005,
          2006,
          2004,
          2012,
          2011,
          2007,
          1992,
          1999,
          1985,
          1994,
          2010,
          1990,
          1997,
          1996,
          1983,
          2008,
          1998,
          1936,
          2000,
          1974,
          1929,
          1964,
          1993,
          1931,
          2001,
          1981,
          1988,
          1987,
          1991,
          1986,
          1975,
          1982,
          2013,
          1973,
          1970,
          1932,
          1989,
          1979,
          1976,
          1934,
          1961,
          1978,
          1938,
          1963,
          1984,
          1949,
          1966,
          1952,
          1965,
          1980,
          1969,
          1954,
          1968,
          1953,
          1942,
          1972,
          1977
         ],
         "xaxis": "x",
         "y": [
          2.38,
          2.22,
          2.14,
          2.03,
          1.93,
          1.93,
          1.88,
          1.74,
          1.71,
          1.62,
          1.61,
          1.58,
          1.57,
          1.55,
          1.52,
          1.51,
          1.5,
          1.46,
          1.46,
          1.36,
          1.32,
          1.28,
          1.22,
          1.21,
          1.18,
          1.09,
          1.02,
          1.02,
          0.98,
          0.94,
          0.93,
          0.92,
          0.88,
          0.87,
          0.86,
          0.86,
          0.85,
          0.79,
          0.78,
          0.76,
          0.74,
          0.72,
          0.72,
          0.7,
          0.68,
          0.6,
          0.6,
          0.6,
          0.58,
          0.53,
          0.53,
          0.52,
          0.52,
          0.52,
          0.49,
          0.49,
          0.49,
          0.47,
          0.47,
          0.44,
          0.44,
          0.43,
          0.37,
          0.35
         ],
         "yaxis": "y",
         "type": "bar"
        }
       ],
       "layout": {
        "template": {
         "data": {
          "barpolar": [
           {
            "marker": {
             "line": {
              "color": "rgb(237,237,237)",
              "width": 0.5
             },
             "pattern": {
              "fillmode": "overlay",
              "size": 10,
              "solidity": 0.2
             }
            },
            "type": "barpolar"
           }
          ],
          "bar": [
           {
            "error_x": {
             "color": "rgb(51,51,51)"
            },
            "error_y": {
             "color": "rgb(51,51,51)"
            },
            "marker": {
             "line": {
              "color": "rgb(237,237,237)",
              "width": 0.5
             },
             "pattern": {
              "fillmode": "overlay",
              "size": 10,
              "solidity": 0.2
             }
            },
            "type": "bar"
           }
          ],
          "carpet": [
           {
            "aaxis": {
             "endlinecolor": "rgb(51,51,51)",
             "gridcolor": "white",
             "linecolor": "white",
             "minorgridcolor": "white",
             "startlinecolor": "rgb(51,51,51)"
            },
            "baxis": {
             "endlinecolor": "rgb(51,51,51)",
             "gridcolor": "white",
             "linecolor": "white",
             "minorgridcolor": "white",
             "startlinecolor": "rgb(51,51,51)"
            },
            "type": "carpet"
           }
          ],
          "choropleth": [
           {
            "colorbar": {
             "outlinewidth": 0,
             "tickcolor": "rgb(237,237,237)",
             "ticklen": 6,
             "ticks": "inside"
            },
            "type": "choropleth"
           }
          ],
          "contourcarpet": [
           {
            "colorbar": {
             "outlinewidth": 0,
             "tickcolor": "rgb(237,237,237)",
             "ticklen": 6,
             "ticks": "inside"
            },
            "type": "contourcarpet"
           }
          ],
          "contour": [
           {
            "colorbar": {
             "outlinewidth": 0,
             "tickcolor": "rgb(237,237,237)",
             "ticklen": 6,
             "ticks": "inside"
            },
            "colorscale": [
             [
              0,
              "rgb(20,44,66)"
             ],
             [
              1,
              "rgb(90,179,244)"
             ]
            ],
            "type": "contour"
           }
          ],
          "heatmapgl": [
           {
            "colorbar": {
             "outlinewidth": 0,
             "tickcolor": "rgb(237,237,237)",
             "ticklen": 6,
             "ticks": "inside"
            },
            "colorscale": [
             [
              0,
              "rgb(20,44,66)"
             ],
             [
              1,
              "rgb(90,179,244)"
             ]
            ],
            "type": "heatmapgl"
           }
          ],
          "heatmap": [
           {
            "colorbar": {
             "outlinewidth": 0,
             "tickcolor": "rgb(237,237,237)",
             "ticklen": 6,
             "ticks": "inside"
            },
            "colorscale": [
             [
              0,
              "rgb(20,44,66)"
             ],
             [
              1,
              "rgb(90,179,244)"
             ]
            ],
            "type": "heatmap"
           }
          ],
          "histogram2dcontour": [
           {
            "colorbar": {
             "outlinewidth": 0,
             "tickcolor": "rgb(237,237,237)",
             "ticklen": 6,
             "ticks": "inside"
            },
            "colorscale": [
             [
              0,
              "rgb(20,44,66)"
             ],
             [
              1,
              "rgb(90,179,244)"
             ]
            ],
            "type": "histogram2dcontour"
           }
          ],
          "histogram2d": [
           {
            "colorbar": {
             "outlinewidth": 0,
             "tickcolor": "rgb(237,237,237)",
             "ticklen": 6,
             "ticks": "inside"
            },
            "colorscale": [
             [
              0,
              "rgb(20,44,66)"
             ],
             [
              1,
              "rgb(90,179,244)"
             ]
            ],
            "type": "histogram2d"
           }
          ],
          "histogram": [
           {
            "marker": {
             "pattern": {
              "fillmode": "overlay",
              "size": 10,
              "solidity": 0.2
             }
            },
            "type": "histogram"
           }
          ],
          "mesh3d": [
           {
            "colorbar": {
             "outlinewidth": 0,
             "tickcolor": "rgb(237,237,237)",
             "ticklen": 6,
             "ticks": "inside"
            },
            "type": "mesh3d"
           }
          ],
          "parcoords": [
           {
            "line": {
             "colorbar": {
              "outlinewidth": 0,
              "tickcolor": "rgb(237,237,237)",
              "ticklen": 6,
              "ticks": "inside"
             }
            },
            "type": "parcoords"
           }
          ],
          "pie": [
           {
            "automargin": true,
            "type": "pie"
           }
          ],
          "scatter3d": [
           {
            "line": {
             "colorbar": {
              "outlinewidth": 0,
              "tickcolor": "rgb(237,237,237)",
              "ticklen": 6,
              "ticks": "inside"
             }
            },
            "marker": {
             "colorbar": {
              "outlinewidth": 0,
              "tickcolor": "rgb(237,237,237)",
              "ticklen": 6,
              "ticks": "inside"
             }
            },
            "type": "scatter3d"
           }
          ],
          "scattercarpet": [
           {
            "marker": {
             "colorbar": {
              "outlinewidth": 0,
              "tickcolor": "rgb(237,237,237)",
              "ticklen": 6,
              "ticks": "inside"
             }
            },
            "type": "scattercarpet"
           }
          ],
          "scattergeo": [
           {
            "marker": {
             "colorbar": {
              "outlinewidth": 0,
              "tickcolor": "rgb(237,237,237)",
              "ticklen": 6,
              "ticks": "inside"
             }
            },
            "type": "scattergeo"
           }
          ],
          "scattergl": [
           {
            "marker": {
             "colorbar": {
              "outlinewidth": 0,
              "tickcolor": "rgb(237,237,237)",
              "ticklen": 6,
              "ticks": "inside"
             }
            },
            "type": "scattergl"
           }
          ],
          "scattermapbox": [
           {
            "marker": {
             "colorbar": {
              "outlinewidth": 0,
              "tickcolor": "rgb(237,237,237)",
              "ticklen": 6,
              "ticks": "inside"
             }
            },
            "type": "scattermapbox"
           }
          ],
          "scatterpolargl": [
           {
            "marker": {
             "colorbar": {
              "outlinewidth": 0,
              "tickcolor": "rgb(237,237,237)",
              "ticklen": 6,
              "ticks": "inside"
             }
            },
            "type": "scatterpolargl"
           }
          ],
          "scatterpolar": [
           {
            "marker": {
             "colorbar": {
              "outlinewidth": 0,
              "tickcolor": "rgb(237,237,237)",
              "ticklen": 6,
              "ticks": "inside"
             }
            },
            "type": "scatterpolar"
           }
          ],
          "scatter": [
           {
            "marker": {
             "colorbar": {
              "outlinewidth": 0,
              "tickcolor": "rgb(237,237,237)",
              "ticklen": 6,
              "ticks": "inside"
             }
            },
            "type": "scatter"
           }
          ],
          "scatterternary": [
           {
            "marker": {
             "colorbar": {
              "outlinewidth": 0,
              "tickcolor": "rgb(237,237,237)",
              "ticklen": 6,
              "ticks": "inside"
             }
            },
            "type": "scatterternary"
           }
          ],
          "surface": [
           {
            "colorbar": {
             "outlinewidth": 0,
             "tickcolor": "rgb(237,237,237)",
             "ticklen": 6,
             "ticks": "inside"
            },
            "colorscale": [
             [
              0,
              "rgb(20,44,66)"
             ],
             [
              1,
              "rgb(90,179,244)"
             ]
            ],
            "type": "surface"
           }
          ],
          "table": [
           {
            "cells": {
             "fill": {
              "color": "rgb(237,237,237)"
             },
             "line": {
              "color": "white"
             }
            },
            "header": {
             "fill": {
              "color": "rgb(217,217,217)"
             },
             "line": {
              "color": "white"
             }
            },
            "type": "table"
           }
          ]
         },
         "layout": {
          "annotationdefaults": {
           "arrowhead": 0,
           "arrowwidth": 1
          },
          "autotypenumbers": "strict",
          "coloraxis": {
           "colorbar": {
            "outlinewidth": 0,
            "tickcolor": "rgb(237,237,237)",
            "ticklen": 6,
            "ticks": "inside"
           }
          },
          "colorscale": {
           "sequential": [
            [
             0,
             "rgb(20,44,66)"
            ],
            [
             1,
             "rgb(90,179,244)"
            ]
           ],
           "sequentialminus": [
            [
             0,
             "rgb(20,44,66)"
            ],
            [
             1,
             "rgb(90,179,244)"
            ]
           ]
          },
          "colorway": [
           "#F8766D",
           "#A3A500",
           "#00BF7D",
           "#00B0F6",
           "#E76BF3"
          ],
          "font": {
           "color": "rgb(51,51,51)"
          },
          "geo": {
           "bgcolor": "white",
           "lakecolor": "white",
           "landcolor": "rgb(237,237,237)",
           "showlakes": true,
           "showland": true,
           "subunitcolor": "white"
          },
          "hoverlabel": {
           "align": "left"
          },
          "hovermode": "closest",
          "paper_bgcolor": "white",
          "plot_bgcolor": "rgb(237,237,237)",
          "polar": {
           "angularaxis": {
            "gridcolor": "white",
            "linecolor": "white",
            "showgrid": true,
            "tickcolor": "rgb(51,51,51)",
            "ticks": "outside"
           },
           "bgcolor": "rgb(237,237,237)",
           "radialaxis": {
            "gridcolor": "white",
            "linecolor": "white",
            "showgrid": true,
            "tickcolor": "rgb(51,51,51)",
            "ticks": "outside"
           }
          },
          "scene": {
           "xaxis": {
            "backgroundcolor": "rgb(237,237,237)",
            "gridcolor": "white",
            "gridwidth": 2,
            "linecolor": "white",
            "showbackground": true,
            "showgrid": true,
            "tickcolor": "rgb(51,51,51)",
            "ticks": "outside",
            "zerolinecolor": "white"
           },
           "yaxis": {
            "backgroundcolor": "rgb(237,237,237)",
            "gridcolor": "white",
            "gridwidth": 2,
            "linecolor": "white",
            "showbackground": true,
            "showgrid": true,
            "tickcolor": "rgb(51,51,51)",
            "ticks": "outside",
            "zerolinecolor": "white"
           },
           "zaxis": {
            "backgroundcolor": "rgb(237,237,237)",
            "gridcolor": "white",
            "gridwidth": 2,
            "linecolor": "white",
            "showbackground": true,
            "showgrid": true,
            "tickcolor": "rgb(51,51,51)",
            "ticks": "outside",
            "zerolinecolor": "white"
           }
          },
          "shapedefaults": {
           "fillcolor": "black",
           "line": {
            "width": 0
           },
           "opacity": 0.3
          },
          "ternary": {
           "aaxis": {
            "gridcolor": "white",
            "linecolor": "white",
            "showgrid": true,
            "tickcolor": "rgb(51,51,51)",
            "ticks": "outside"
           },
           "baxis": {
            "gridcolor": "white",
            "linecolor": "white",
            "showgrid": true,
            "tickcolor": "rgb(51,51,51)",
            "ticks": "outside"
           },
           "bgcolor": "rgb(237,237,237)",
           "caxis": {
            "gridcolor": "white",
            "linecolor": "white",
            "showgrid": true,
            "tickcolor": "rgb(51,51,51)",
            "ticks": "outside"
           }
          },
          "xaxis": {
           "automargin": true,
           "gridcolor": "white",
           "linecolor": "white",
           "showgrid": true,
           "tickcolor": "rgb(51,51,51)",
           "ticks": "outside",
           "title": {
            "standoff": 15
           },
           "zerolinecolor": "white"
          },
          "yaxis": {
           "automargin": true,
           "gridcolor": "white",
           "linecolor": "white",
           "showgrid": true,
           "tickcolor": "rgb(51,51,51)",
           "ticks": "outside",
           "title": {
            "standoff": 15
           },
           "zerolinecolor": "white"
          }
         }
        },
        "xaxis": {
         "anchor": "y",
         "domain": [
          0.0,
          1.0
         ],
         "title": {
          "text": "Year"
         },
         "range": [
          1912,
          2013
         ]
        },
        "yaxis": {
         "anchor": "x",
         "domain": [
          0.0,
          1.0
         ],
         "title": {
          "text": "Percentage"
         }
        },
        "legend": {
         "title": {
          "text": "Race"
         },
         "tracegroupgap": 0
        },
        "title": {
         "text": "Racial Representation of Hollywood Movie Characters"
        },
        "barmode": "relative"
       },
       "config": {
        "plotlyServerURL": "https://plot.ly"
       }
      },
      "text/html": "<div>                            <div id=\"23e199dd-6f3a-4afd-b848-3e816aba8ebe\" class=\"plotly-graph-div\" style=\"height:525px; width:100%;\"></div>            <script type=\"text/javascript\">                require([\"plotly\"], function(Plotly) {                    window.PLOTLYENV=window.PLOTLYENV || {};                                    if (document.getElementById(\"23e199dd-6f3a-4afd-b848-3e816aba8ebe\")) {                    Plotly.newPlot(                        \"23e199dd-6f3a-4afd-b848-3e816aba8ebe\",                        [{\"alignmentgroup\":\"True\",\"hovertemplate\":\"Race=White<br>Year=%{x}<br>Percentage=%{y}<extra></extra>\",\"legendgroup\":\"White\",\"marker\":{\"color\":\"#4C78A8\",\"pattern\":{\"shape\":\"\"}},\"name\":\"White\",\"offsetgroup\":\"White\",\"orientation\":\"v\",\"showlegend\":true,\"textposition\":\"auto\",\"x\":[1891,1896,1901,1903,1908,1909,1910,1911,1912,1894,1913,1955,1957,1954,1948,1919,1963,1951,1952,1918,1931,1950,1956,1960,1917,1941,1959,1953,1939,1946,1949,1947,1966,1940,1926,1962,1916,1958,1921,1920,1937,1932,1944,1942,1961,1938,1927,1925,1915,1945,1965,1928,1964,1943,1933,1967,1935,1981,1936,1934,1969,1930,1980,1979,1968,1982,2014,1924,1977,1983,1978,1971,1970,1984,1985,1986,1914,1992,1988,1987,1994,2011,1976,1929,1989,1997,1990,1998,2012,1993,2001,1991,1999,2010,2013,1975,1996,1974,1995,2006,2008,2009,1973,2007,1922,2004,2002,2000,2003,1972,2005,2015,1923],\"xaxis\":\"x\",\"y\":[100.0,100.0,100.0,100.0,100.0,100.0,100.0,100.0,100.0,100.0,98.15,92.59,92.2,91.63,91.24,90.91,90.43,90.34,90.15,90.0,89.81,89.43,89.24,89.12,89.09,88.5,88.35,88.11,88.1,87.79,87.63,87.63,86.46,86.45,86.36,86.27,86.25,86.15,85.71,85.71,85.63,85.61,85.41,85.04,84.94,84.74,84.62,84.31,84.0,83.78,82.76,82.67,82.35,81.69,81.48,81.07,80.0,79.41,79.29,79.04,78.5,78.38,78.02,77.7,77.63,77.2,76.92,76.19,75.53,74.42,74.35,74.07,73.65,72.98,72.78,72.18,71.88,70.8,70.48,69.68,69.5,69.49,69.49,69.39,69.06,68.44,67.84,67.61,67.58,67.45,67.34,66.99,66.73,66.52,66.29,66.01,65.42,65.08,64.56,64.07,64.05,64.01,63.84,63.43,63.16,62.25,62.0,61.51,61.0,60.66,59.16,50.0,49.12],\"yaxis\":\"y\",\"type\":\"bar\"},{\"alignmentgroup\":\"True\",\"hovertemplate\":\"Race=Asian and Pacific Islander <br>Year=%{x}<br>Percentage=%{y}<extra></extra>\",\"legendgroup\":\"Asian and Pacific Islander \",\"marker\":{\"color\":\"#F58518\",\"pattern\":{\"shape\":\"\"}},\"name\":\"Asian and Pacific Islander \",\"offsetgroup\":\"Asian and Pacific Islander \",\"orientation\":\"v\",\"showlegend\":true,\"textposition\":\"auto\",\"x\":[2015,2013,1928,2014,2005,2008,2003,2012,2007,1966,2009,1993,2010,2006,2011,1927,1986,2004,1926,1994,1991,1944,2000,2002,1988,2001,1997,1998,1999,1920,1945,1995,1990,1989,1962,1932,1992,1982,1955,1984,1922,1968,1972,1980,1964,1987,1996,1961,1924,1921,1975,1946,1919,1933,1976,1985,1971,1960,1973,1913,1981,1942,1974,1938,1947,1983,1967,1970,1930,1935,1937,1934,1978,1951,1949,1929,1952,1965,1943,1954,1931,1956,1977,1979,1963,1958,1941,1959,1939,1969,1940,1948],\"xaxis\":\"x\",\"y\":[50.0,9.85,8.0,7.69,6.69,6.54,5.96,5.77,5.74,5.73,5.63,5.47,5.32,5.3,5.19,5.13,4.95,4.73,4.55,4.49,4.42,4.32,4.28,4.17,3.91,3.85,3.8,3.75,3.68,3.57,3.38,3.29,3.17,3.09,2.94,2.88,2.86,2.85,2.78,2.75,2.63,2.63,2.57,2.47,2.45,2.44,2.43,2.41,2.38,2.38,2.37,2.33,2.27,2.22,2.11,2.08,2.06,2.04,1.85,1.85,1.76,1.71,1.69,1.58,1.55,1.53,1.46,1.44,1.35,1.25,1.2,1.2,1.15,1.14,1.03,1.02,0.99,0.99,0.94,0.93,0.93,0.8,0.71,0.68,0.53,0.51,0.5,0.49,0.48,0.47,0.47,0.46],\"yaxis\":\"y\",\"type\":\"bar\"},{\"alignmentgroup\":\"True\",\"hovertemplate\":\"Race=Black<br>Year=%{x}<br>Percentage=%{y}<extra></extra>\",\"legendgroup\":\"Black\",\"marker\":{\"color\":\"#E45756\",\"pattern\":{\"shape\":\"\"}},\"name\":\"Black\",\"offsetgroup\":\"Black\",\"orientation\":\"v\",\"showlegend\":true,\"textposition\":\"auto\",\"x\":[1923,1972,1974,1973,1922,1975,2000,2004,1976,2005,1995,1996,2002,2003,1929,1991,1998,1999,2007,1970,1987,2008,2009,1997,2006,2001,1977,1978,1990,1971,1993,1989,2010,1992,1988,1984,2012,1994,1930,1985,1979,2011,1936,1982,1968,1986,1943,1983,1980,1934,1969,2013,1981,1967,1935,1933,1945,1920,1961,1938,1946,1942,1925,1958,1965,1964,1926,1944,1932,1940,1937,1959,1941,1956,2014,1939,1947,1921,1924,1950,1951,1949,1953,1948,1962,1963,1927,1952,1954,1957,1960,1918,1928,1931,1955,1966,1916],\"xaxis\":\"x\",\"y\":[42.11,31.25,28.81,28.78,26.32,25.3,24.17,23.67,23.56,23.54,23.06,22.66,22.53,21.56,21.43,21.1,20.85,20.85,20.59,20.58,19.97,19.88,19.87,19.8,19.74,19.35,19.15,19.02,19.0,18.93,18.77,18.71,18.48,18.36,17.95,17.9,17.86,17.68,17.57,17.2,16.89,15.52,15.38,15.03,14.91,14.85,14.55,14.32,14.07,13.77,13.08,12.88,12.65,12.14,11.88,11.85,10.81,10.71,10.24,10.0,9.88,9.83,9.8,9.74,9.36,9.31,9.09,8.65,8.63,8.41,8.38,8.25,8.0,7.97,7.69,7.62,7.22,7.14,7.14,7.05,6.25,6.19,6.17,5.99,5.88,5.32,5.13,4.93,4.65,4.13,4.08,4.0,4.0,3.7,3.7,2.6,2.5],\"yaxis\":\"y\",\"type\":\"bar\"},{\"alignmentgroup\":\"True\",\"hovertemplate\":\"Race=Other<br>Year=%{x}<br>Percentage=%{y}<extra></extra>\",\"legendgroup\":\"Other\",\"marker\":{\"color\":\"#72B7B2\",\"pattern\":{\"shape\":\"\"}},\"name\":\"Other\",\"offsetgroup\":\"Other\",\"orientation\":\"v\",\"showlegend\":true,\"textposition\":\"auto\",\"x\":[1914,1915,1916,1917,2014,1923,1919,1918,2000,1983,1921,2002,2013,2006,2003,2001,2005,1969,2009,2007,2010,1999,2004,1989,1990,1988,1996,1980,1997,1991,2008,1981,1967,1995,1998,1985,1993,1987,1986,1928,1922,2011,1973,1994,1992,1965,1984,1924,2012,1978,1968,1958,1964,1925,1972,1957,1971,1975,1966,1976,1962,1960,1961,1963,1982,1979,1931,1970,1977,1974,1936,1947,1952,1959,1940,1956],\"xaxis\":\"x\",\"y\":[28.12,16.0,11.25,9.09,7.69,7.02,6.82,6.0,4.92,4.86,4.76,4.56,4.55,4.52,4.44,4.27,4.21,4.21,4.17,4.13,3.92,3.74,3.71,3.66,3.53,3.33,3.31,3.21,3.08,3.07,2.94,2.94,2.91,2.85,2.84,2.84,2.83,2.73,2.73,2.67,2.63,2.63,2.58,2.53,2.5,2.46,2.41,2.38,2.36,2.31,2.19,2.05,1.96,1.96,1.84,1.83,1.65,1.58,1.56,1.51,1.47,1.36,1.2,1.06,1.04,1.01,0.93,0.72,0.71,0.68,0.59,0.52,0.49,0.49,0.47,0.4],\"yaxis\":\"y\",\"type\":\"bar\"},{\"alignmentgroup\":\"True\",\"hovertemplate\":\"Race=Hispanic<br>Year=%{x}<br>Percentage=%{y}<extra></extra>\",\"legendgroup\":\"Hispanic\",\"marker\":{\"color\":\"#54A24B\",\"pattern\":{\"shape\":\"\"}},\"name\":\"Hispanic\",\"offsetgroup\":\"Hispanic\",\"orientation\":\"v\",\"showlegend\":true,\"textposition\":\"auto\",\"x\":[1924,1929,2013,2011,1934,2008,1953,1922,1927,2003,1935,1990,1996,2012,2002,1937,1989,2005,2006,1949,2007,1993,1986,2009,1987,2010,1994,2001,1940,1995,2000,2004,1975,1965,1992,1925,1939,1998,1931,1985,1983,1991,1936,1977,1997,1950,1999,1988,1984,1962,1960,1972,1971,1969,1938,1966,1982,1947,1979,1941,1942,1952,1964,1970,1943,1976,1974,1930,1928,1978,1959,1967,1981,1954,1948,1951,1933,1973,1968,1932,1963,1945,1957,1917,1923,1980,1944,1956,1958,1955,1961],\"xaxis\":\"x\",\"y\":[9.52,7.14,5.68,5.59,5.39,5.38,5.29,5.26,5.13,5.01,5.0,4.99,4.86,4.82,4.81,4.79,4.78,4.66,4.66,4.64,4.55,4.53,4.44,4.38,4.31,4.31,4.3,4.27,4.21,4.1,4.03,4.01,3.95,3.94,3.93,3.92,3.81,3.75,3.7,3.59,3.58,3.56,3.55,3.55,3.52,3.52,3.49,3.47,3.44,3.43,3.4,3.31,3.29,3.27,3.16,3.12,3.11,3.09,3.04,3.0,2.99,2.96,2.94,2.89,2.82,2.72,2.71,2.7,2.67,2.59,2.43,2.43,2.35,2.33,2.3,2.27,2.22,2.21,2.19,2.16,2.13,2.03,1.83,1.82,1.75,1.73,1.62,1.59,1.54,0.93,0.6],\"yaxis\":\"y\",\"type\":\"bar\"},{\"alignmentgroup\":\"True\",\"hovertemplate\":\"Race=American Indian Eskimo and Aleut <br>Year=%{x}<br>Percentage=%{y}<extra></extra>\",\"legendgroup\":\"American Indian Eskimo and Aleut \",\"marker\":{\"color\":\"#EECA3B\",\"pattern\":{\"shape\":\"\"}},\"name\":\"American Indian Eskimo and Aleut \",\"offsetgroup\":\"American Indian Eskimo and Aleut \",\"orientation\":\"v\",\"showlegend\":true,\"textposition\":\"auto\",\"x\":[1924,1933,1995,2003,2002,2009,1935,2005,2006,2004,2012,2011,2007,1992,1999,1985,1994,2010,1990,1997,1996,1983,2008,1998,1936,2000,1974,1929,1964,1993,1931,2001,1981,1988,1987,1991,1986,1975,1982,2013,1973,1970,1932,1989,1979,1976,1934,1961,1978,1938,1963,1984,1949,1966,1952,1965,1980,1969,1954,1968,1953,1942,1972,1977],\"xaxis\":\"x\",\"y\":[2.38,2.22,2.14,2.03,1.93,1.93,1.88,1.74,1.71,1.62,1.61,1.58,1.57,1.55,1.52,1.51,1.5,1.46,1.46,1.36,1.32,1.28,1.22,1.21,1.18,1.09,1.02,1.02,0.98,0.94,0.93,0.92,0.88,0.87,0.86,0.86,0.85,0.79,0.78,0.76,0.74,0.72,0.72,0.7,0.68,0.6,0.6,0.6,0.58,0.53,0.53,0.52,0.52,0.52,0.49,0.49,0.49,0.47,0.47,0.44,0.44,0.43,0.37,0.35],\"yaxis\":\"y\",\"type\":\"bar\"}],                        {\"template\":{\"data\":{\"barpolar\":[{\"marker\":{\"line\":{\"color\":\"rgb(237,237,237)\",\"width\":0.5},\"pattern\":{\"fillmode\":\"overlay\",\"size\":10,\"solidity\":0.2}},\"type\":\"barpolar\"}],\"bar\":[{\"error_x\":{\"color\":\"rgb(51,51,51)\"},\"error_y\":{\"color\":\"rgb(51,51,51)\"},\"marker\":{\"line\":{\"color\":\"rgb(237,237,237)\",\"width\":0.5},\"pattern\":{\"fillmode\":\"overlay\",\"size\":10,\"solidity\":0.2}},\"type\":\"bar\"}],\"carpet\":[{\"aaxis\":{\"endlinecolor\":\"rgb(51,51,51)\",\"gridcolor\":\"white\",\"linecolor\":\"white\",\"minorgridcolor\":\"white\",\"startlinecolor\":\"rgb(51,51,51)\"},\"baxis\":{\"endlinecolor\":\"rgb(51,51,51)\",\"gridcolor\":\"white\",\"linecolor\":\"white\",\"minorgridcolor\":\"white\",\"startlinecolor\":\"rgb(51,51,51)\"},\"type\":\"carpet\"}],\"choropleth\":[{\"colorbar\":{\"outlinewidth\":0,\"tickcolor\":\"rgb(237,237,237)\",\"ticklen\":6,\"ticks\":\"inside\"},\"type\":\"choropleth\"}],\"contourcarpet\":[{\"colorbar\":{\"outlinewidth\":0,\"tickcolor\":\"rgb(237,237,237)\",\"ticklen\":6,\"ticks\":\"inside\"},\"type\":\"contourcarpet\"}],\"contour\":[{\"colorbar\":{\"outlinewidth\":0,\"tickcolor\":\"rgb(237,237,237)\",\"ticklen\":6,\"ticks\":\"inside\"},\"colorscale\":[[0,\"rgb(20,44,66)\"],[1,\"rgb(90,179,244)\"]],\"type\":\"contour\"}],\"heatmapgl\":[{\"colorbar\":{\"outlinewidth\":0,\"tickcolor\":\"rgb(237,237,237)\",\"ticklen\":6,\"ticks\":\"inside\"},\"colorscale\":[[0,\"rgb(20,44,66)\"],[1,\"rgb(90,179,244)\"]],\"type\":\"heatmapgl\"}],\"heatmap\":[{\"colorbar\":{\"outlinewidth\":0,\"tickcolor\":\"rgb(237,237,237)\",\"ticklen\":6,\"ticks\":\"inside\"},\"colorscale\":[[0,\"rgb(20,44,66)\"],[1,\"rgb(90,179,244)\"]],\"type\":\"heatmap\"}],\"histogram2dcontour\":[{\"colorbar\":{\"outlinewidth\":0,\"tickcolor\":\"rgb(237,237,237)\",\"ticklen\":6,\"ticks\":\"inside\"},\"colorscale\":[[0,\"rgb(20,44,66)\"],[1,\"rgb(90,179,244)\"]],\"type\":\"histogram2dcontour\"}],\"histogram2d\":[{\"colorbar\":{\"outlinewidth\":0,\"tickcolor\":\"rgb(237,237,237)\",\"ticklen\":6,\"ticks\":\"inside\"},\"colorscale\":[[0,\"rgb(20,44,66)\"],[1,\"rgb(90,179,244)\"]],\"type\":\"histogram2d\"}],\"histogram\":[{\"marker\":{\"pattern\":{\"fillmode\":\"overlay\",\"size\":10,\"solidity\":0.2}},\"type\":\"histogram\"}],\"mesh3d\":[{\"colorbar\":{\"outlinewidth\":0,\"tickcolor\":\"rgb(237,237,237)\",\"ticklen\":6,\"ticks\":\"inside\"},\"type\":\"mesh3d\"}],\"parcoords\":[{\"line\":{\"colorbar\":{\"outlinewidth\":0,\"tickcolor\":\"rgb(237,237,237)\",\"ticklen\":6,\"ticks\":\"inside\"}},\"type\":\"parcoords\"}],\"pie\":[{\"automargin\":true,\"type\":\"pie\"}],\"scatter3d\":[{\"line\":{\"colorbar\":{\"outlinewidth\":0,\"tickcolor\":\"rgb(237,237,237)\",\"ticklen\":6,\"ticks\":\"inside\"}},\"marker\":{\"colorbar\":{\"outlinewidth\":0,\"tickcolor\":\"rgb(237,237,237)\",\"ticklen\":6,\"ticks\":\"inside\"}},\"type\":\"scatter3d\"}],\"scattercarpet\":[{\"marker\":{\"colorbar\":{\"outlinewidth\":0,\"tickcolor\":\"rgb(237,237,237)\",\"ticklen\":6,\"ticks\":\"inside\"}},\"type\":\"scattercarpet\"}],\"scattergeo\":[{\"marker\":{\"colorbar\":{\"outlinewidth\":0,\"tickcolor\":\"rgb(237,237,237)\",\"ticklen\":6,\"ticks\":\"inside\"}},\"type\":\"scattergeo\"}],\"scattergl\":[{\"marker\":{\"colorbar\":{\"outlinewidth\":0,\"tickcolor\":\"rgb(237,237,237)\",\"ticklen\":6,\"ticks\":\"inside\"}},\"type\":\"scattergl\"}],\"scattermapbox\":[{\"marker\":{\"colorbar\":{\"outlinewidth\":0,\"tickcolor\":\"rgb(237,237,237)\",\"ticklen\":6,\"ticks\":\"inside\"}},\"type\":\"scattermapbox\"}],\"scatterpolargl\":[{\"marker\":{\"colorbar\":{\"outlinewidth\":0,\"tickcolor\":\"rgb(237,237,237)\",\"ticklen\":6,\"ticks\":\"inside\"}},\"type\":\"scatterpolargl\"}],\"scatterpolar\":[{\"marker\":{\"colorbar\":{\"outlinewidth\":0,\"tickcolor\":\"rgb(237,237,237)\",\"ticklen\":6,\"ticks\":\"inside\"}},\"type\":\"scatterpolar\"}],\"scatter\":[{\"marker\":{\"colorbar\":{\"outlinewidth\":0,\"tickcolor\":\"rgb(237,237,237)\",\"ticklen\":6,\"ticks\":\"inside\"}},\"type\":\"scatter\"}],\"scatterternary\":[{\"marker\":{\"colorbar\":{\"outlinewidth\":0,\"tickcolor\":\"rgb(237,237,237)\",\"ticklen\":6,\"ticks\":\"inside\"}},\"type\":\"scatterternary\"}],\"surface\":[{\"colorbar\":{\"outlinewidth\":0,\"tickcolor\":\"rgb(237,237,237)\",\"ticklen\":6,\"ticks\":\"inside\"},\"colorscale\":[[0,\"rgb(20,44,66)\"],[1,\"rgb(90,179,244)\"]],\"type\":\"surface\"}],\"table\":[{\"cells\":{\"fill\":{\"color\":\"rgb(237,237,237)\"},\"line\":{\"color\":\"white\"}},\"header\":{\"fill\":{\"color\":\"rgb(217,217,217)\"},\"line\":{\"color\":\"white\"}},\"type\":\"table\"}]},\"layout\":{\"annotationdefaults\":{\"arrowhead\":0,\"arrowwidth\":1},\"autotypenumbers\":\"strict\",\"coloraxis\":{\"colorbar\":{\"outlinewidth\":0,\"tickcolor\":\"rgb(237,237,237)\",\"ticklen\":6,\"ticks\":\"inside\"}},\"colorscale\":{\"sequential\":[[0,\"rgb(20,44,66)\"],[1,\"rgb(90,179,244)\"]],\"sequentialminus\":[[0,\"rgb(20,44,66)\"],[1,\"rgb(90,179,244)\"]]},\"colorway\":[\"#F8766D\",\"#A3A500\",\"#00BF7D\",\"#00B0F6\",\"#E76BF3\"],\"font\":{\"color\":\"rgb(51,51,51)\"},\"geo\":{\"bgcolor\":\"white\",\"lakecolor\":\"white\",\"landcolor\":\"rgb(237,237,237)\",\"showlakes\":true,\"showland\":true,\"subunitcolor\":\"white\"},\"hoverlabel\":{\"align\":\"left\"},\"hovermode\":\"closest\",\"paper_bgcolor\":\"white\",\"plot_bgcolor\":\"rgb(237,237,237)\",\"polar\":{\"angularaxis\":{\"gridcolor\":\"white\",\"linecolor\":\"white\",\"showgrid\":true,\"tickcolor\":\"rgb(51,51,51)\",\"ticks\":\"outside\"},\"bgcolor\":\"rgb(237,237,237)\",\"radialaxis\":{\"gridcolor\":\"white\",\"linecolor\":\"white\",\"showgrid\":true,\"tickcolor\":\"rgb(51,51,51)\",\"ticks\":\"outside\"}},\"scene\":{\"xaxis\":{\"backgroundcolor\":\"rgb(237,237,237)\",\"gridcolor\":\"white\",\"gridwidth\":2,\"linecolor\":\"white\",\"showbackground\":true,\"showgrid\":true,\"tickcolor\":\"rgb(51,51,51)\",\"ticks\":\"outside\",\"zerolinecolor\":\"white\"},\"yaxis\":{\"backgroundcolor\":\"rgb(237,237,237)\",\"gridcolor\":\"white\",\"gridwidth\":2,\"linecolor\":\"white\",\"showbackground\":true,\"showgrid\":true,\"tickcolor\":\"rgb(51,51,51)\",\"ticks\":\"outside\",\"zerolinecolor\":\"white\"},\"zaxis\":{\"backgroundcolor\":\"rgb(237,237,237)\",\"gridcolor\":\"white\",\"gridwidth\":2,\"linecolor\":\"white\",\"showbackground\":true,\"showgrid\":true,\"tickcolor\":\"rgb(51,51,51)\",\"ticks\":\"outside\",\"zerolinecolor\":\"white\"}},\"shapedefaults\":{\"fillcolor\":\"black\",\"line\":{\"width\":0},\"opacity\":0.3},\"ternary\":{\"aaxis\":{\"gridcolor\":\"white\",\"linecolor\":\"white\",\"showgrid\":true,\"tickcolor\":\"rgb(51,51,51)\",\"ticks\":\"outside\"},\"baxis\":{\"gridcolor\":\"white\",\"linecolor\":\"white\",\"showgrid\":true,\"tickcolor\":\"rgb(51,51,51)\",\"ticks\":\"outside\"},\"bgcolor\":\"rgb(237,237,237)\",\"caxis\":{\"gridcolor\":\"white\",\"linecolor\":\"white\",\"showgrid\":true,\"tickcolor\":\"rgb(51,51,51)\",\"ticks\":\"outside\"}},\"xaxis\":{\"automargin\":true,\"gridcolor\":\"white\",\"linecolor\":\"white\",\"showgrid\":true,\"tickcolor\":\"rgb(51,51,51)\",\"ticks\":\"outside\",\"title\":{\"standoff\":15},\"zerolinecolor\":\"white\"},\"yaxis\":{\"automargin\":true,\"gridcolor\":\"white\",\"linecolor\":\"white\",\"showgrid\":true,\"tickcolor\":\"rgb(51,51,51)\",\"ticks\":\"outside\",\"title\":{\"standoff\":15},\"zerolinecolor\":\"white\"}}},\"xaxis\":{\"anchor\":\"y\",\"domain\":[0.0,1.0],\"title\":{\"text\":\"Year\"},\"range\":[1912,2013]},\"yaxis\":{\"anchor\":\"x\",\"domain\":[0.0,1.0],\"title\":{\"text\":\"Percentage\"}},\"legend\":{\"title\":{\"text\":\"Race\"},\"tracegroupgap\":0},\"title\":{\"text\":\"Racial Representation of Hollywood Movie Characters\"},\"barmode\":\"relative\"},                        {\"responsive\": true}                    ).then(function(){\n                            \nvar gd = document.getElementById('23e199dd-6f3a-4afd-b848-3e816aba8ebe');\nvar x = new MutationObserver(function (mutations, observer) {{\n        var display = window.getComputedStyle(gd).display;\n        if (!display || display === 'none') {{\n            console.log([gd, 'removed!']);\n            Plotly.purge(gd);\n            observer.disconnect();\n        }}\n}});\n\n// Listen for the removal of the full notebook cells\nvar notebookContainer = gd.closest('#notebook-container');\nif (notebookContainer) {{\n    x.observe(notebookContainer, {childList: true});\n}}\n\n// Listen for the clearing of the current output cell\nvar outputEl = gd.closest('.output');\nif (outputEl) {{\n    x.observe(outputEl, {childList: true});\n}}\n\n                        })                };                });            </script>        </div>"
     },
     "metadata": {},
     "output_type": "display_data"
    }
   ],
   "source": [
    "import plotly.express as px\n",
    "\n",
    "wide_df = px.data.medals_wide()\n",
    "simple_data = simple_data.sort_values(by='Percentage', ascending=False)\n",
    "fig = px.bar(simple_data, x=\"Year\",y='Percentage', range_x=[1912, 2013], color=\"Race\", title=\"Racial Representation of Hollywood Movie Characters\",                                                                                                 color_discrete_sequence=px.colors.qualitative.T10, template= 'ggplot2')\n",
    "fig.show()\n",
    "fig.write_html((Path('/Users/ianapeix/ADA2022/html/movie_chars_race.html')))"
   ],
   "metadata": {
    "collapsed": false
   }
  },
  {
   "cell_type": "code",
   "execution_count": 58,
   "outputs": [
    {
     "data": {
      "text/plain": "                       Race  Population  Year  Percentage\n0    Hispanic (of any race)      116943  1850        0.50\n1    Hispanic (of any race)      155000  1860        0.64\n2    Hispanic (of any race)      155000  1870        0.63\n3    Hispanic (of any race)      393555  1880        0.78\n4    Hispanic (of any race)      393555  1890        0.77\n..                      ...         ...   ...         ...\n103                  Black     26495025  1980       11.37\n104                  Black     29986060  1990       11.56\n105                  Black     34658190  2000       11.56\n106                  Black     38929319  2010       11.71\n107                  Black     41104200  2020       10.79\n\n[108 rows x 4 columns]",
      "text/html": "<div>\n<style scoped>\n    .dataframe tbody tr th:only-of-type {\n        vertical-align: middle;\n    }\n\n    .dataframe tbody tr th {\n        vertical-align: top;\n    }\n\n    .dataframe thead th {\n        text-align: right;\n    }\n</style>\n<table border=\"1\" class=\"dataframe\">\n  <thead>\n    <tr style=\"text-align: right;\">\n      <th></th>\n      <th>Race</th>\n      <th>Population</th>\n      <th>Year</th>\n      <th>Percentage</th>\n    </tr>\n  </thead>\n  <tbody>\n    <tr>\n      <th>0</th>\n      <td>Hispanic (of any race)</td>\n      <td>116943</td>\n      <td>1850</td>\n      <td>0.50</td>\n    </tr>\n    <tr>\n      <th>1</th>\n      <td>Hispanic (of any race)</td>\n      <td>155000</td>\n      <td>1860</td>\n      <td>0.64</td>\n    </tr>\n    <tr>\n      <th>2</th>\n      <td>Hispanic (of any race)</td>\n      <td>155000</td>\n      <td>1870</td>\n      <td>0.63</td>\n    </tr>\n    <tr>\n      <th>3</th>\n      <td>Hispanic (of any race)</td>\n      <td>393555</td>\n      <td>1880</td>\n      <td>0.78</td>\n    </tr>\n    <tr>\n      <th>4</th>\n      <td>Hispanic (of any race)</td>\n      <td>393555</td>\n      <td>1890</td>\n      <td>0.77</td>\n    </tr>\n    <tr>\n      <th>...</th>\n      <td>...</td>\n      <td>...</td>\n      <td>...</td>\n      <td>...</td>\n    </tr>\n    <tr>\n      <th>103</th>\n      <td>Black</td>\n      <td>26495025</td>\n      <td>1980</td>\n      <td>11.37</td>\n    </tr>\n    <tr>\n      <th>104</th>\n      <td>Black</td>\n      <td>29986060</td>\n      <td>1990</td>\n      <td>11.56</td>\n    </tr>\n    <tr>\n      <th>105</th>\n      <td>Black</td>\n      <td>34658190</td>\n      <td>2000</td>\n      <td>11.56</td>\n    </tr>\n    <tr>\n      <th>106</th>\n      <td>Black</td>\n      <td>38929319</td>\n      <td>2010</td>\n      <td>11.71</td>\n    </tr>\n    <tr>\n      <th>107</th>\n      <td>Black</td>\n      <td>41104200</td>\n      <td>2020</td>\n      <td>10.79</td>\n    </tr>\n  </tbody>\n</table>\n<p>108 rows × 4 columns</p>\n</div>"
     },
     "execution_count": 58,
     "metadata": {},
     "output_type": "execute_result"
    }
   ],
   "source": [
    "usa_pop = pd.read_csv('/Users/ianapeix/ADA2022/USA_Ethnicity.csv', sep=',')\n",
    "usa_pop = usa_pop[['Race','Population','Year']]\n",
    "usa_pop['Percentage']= usa_pop['Population'] / usa_pop.groupby('Year')['Population'].transform('sum')\n",
    "usa_pop['Percentage'] = usa_pop['Percentage'].mul(100).round(2)\n",
    "usa_pop"
   ],
   "metadata": {
    "collapsed": false
   }
  },
  {
   "cell_type": "code",
   "execution_count": 61,
   "outputs": [
    {
     "data": {
      "application/vnd.plotly.v1+json": {
       "data": [
        {
         "alignmentgroup": "True",
         "hovertemplate": "Race=Other<br>Year=%{x}<br>Population=%{y}<extra></extra>",
         "legendgroup": "Other",
         "marker": {
          "color": "#4C78A8",
          "pattern": {
           "shape": ""
          }
         },
         "name": "Other",
         "offsetgroup": "Other",
         "orientation": "v",
         "showlegend": true,
         "textposition": "auto",
         "x": [
          1930,
          1920,
          1940,
          1850,
          1860,
          1880,
          1890,
          1900,
          1910,
          1870,
          1950,
          1960,
          1970,
          1980,
          1990,
          2000,
          2010,
          2020
         ],
         "xaxis": "x",
         "y": [
          0,
          0,
          0,
          0,
          0,
          0,
          0,
          0,
          0,
          0,
          48604,
          87606,
          230064,
          6758319,
          9804847,
          22185301,
          28116441,
          61764658
         ],
         "yaxis": "y",
         "type": "bar"
        },
        {
         "alignmentgroup": "True",
         "hovertemplate": "Race=American Indian Eskimo and Aleut <br>Year=%{x}<br>Population=%{y}<extra></extra>",
         "legendgroup": "American Indian Eskimo and Aleut ",
         "marker": {
          "color": "#F58518",
          "pattern": {
           "shape": ""
          }
         },
         "name": "American Indian Eskimo and Aleut ",
         "offsetgroup": "American Indian Eskimo and Aleut ",
         "orientation": "v",
         "showlegend": true,
         "textposition": "auto",
         "x": [
          1850,
          1870,
          1880,
          1860,
          1950,
          1920,
          1940,
          1910,
          1900,
          1930,
          1960,
          1970,
          1890,
          1980,
          1990,
          2000,
          2010,
          2020
         ],
         "xaxis": "x",
         "y": [
          0,
          25731,
          66407,
          44021,
          343410,
          244437,
          333969,
          265683,
          237196,
          332397,
          551669,
          795110,
          248253,
          1420400,
          1959234,
          2475956,
          2932248,
          3727135
         ],
         "yaxis": "y",
         "type": "bar"
        },
        {
         "alignmentgroup": "True",
         "hovertemplate": "Race=Asian and Pacific Islander <br>Year=%{x}<br>Population=%{y}<extra></extra>",
         "legendgroup": "Asian and Pacific Islander ",
         "marker": {
          "color": "#E45756",
          "pattern": {
           "shape": ""
          }
         },
         "name": "Asian and Pacific Islander ",
         "offsetgroup": "Asian and Pacific Islander ",
         "orientation": "v",
         "showlegend": true,
         "textposition": "auto",
         "x": [
          1850,
          1860,
          1900,
          1910,
          1920,
          1940,
          1880,
          1950,
          1890,
          1930,
          1870,
          1960,
          1970,
          1980,
          1990,
          2000,
          2010,
          2020
         ],
         "xaxis": "x",
         "y": [
          0,
          34933,
          114189,
          146863,
          182137,
          254918,
          105613,
          321033,
          109527,
          264766,
          63254,
          980337,
          1526401,
          3500439,
          7273662,
          10641833,
          15214265,
          20576015
         ],
         "yaxis": "y",
         "type": "bar"
        },
        {
         "alignmentgroup": "True",
         "hovertemplate": "Race=Hispanic (of any race)<br>Year=%{x}<br>Population=%{y}<extra></extra>",
         "legendgroup": "Hispanic (of any race)",
         "marker": {
          "color": "#72B7B2",
          "pattern": {
           "shape": ""
          }
         },
         "name": "Hispanic (of any race)",
         "offsetgroup": "Hispanic (of any race)",
         "orientation": "v",
         "showlegend": true,
         "textposition": "auto",
         "x": [
          1850,
          1870,
          1860,
          1900,
          1890,
          1880,
          1910,
          1930,
          1920,
          1940,
          1950,
          1960,
          1970,
          1980,
          1990,
          2000,
          2010,
          2020
         ],
         "xaxis": "x",
         "y": [
          116943,
          155000,
          155000,
          503189,
          393555,
          393555,
          797994,
          1286154,
          1286154,
          2021820,
          3231409,
          5814784,
          8920940,
          14608673,
          22354059,
          35305818,
          50477594,
          62080044
         ],
         "yaxis": "y",
         "type": "bar"
        },
        {
         "alignmentgroup": "True",
         "hovertemplate": "Race=Black <br>Year=%{x}<br>Population=%{y}<extra></extra>",
         "legendgroup": "Black ",
         "marker": {
          "color": "#54A24B",
          "pattern": {
           "shape": ""
          }
         },
         "name": "Black ",
         "offsetgroup": "Black ",
         "orientation": "v",
         "showlegend": true,
         "textposition": "auto",
         "x": [
          1940,
          1920,
          1950,
          1960,
          1910,
          2020,
          1930,
          1970,
          1980,
          1990,
          2000,
          1900,
          2010,
          1880,
          1890,
          1850,
          1860,
          1870
         ],
         "xaxis": "x",
         "y": [
          12865518,
          10463131,
          15042286,
          18871831,
          9827763,
          41104200,
          11891143,
          22539362,
          26495025,
          29986060,
          34658190,
          8833994,
          38929319,
          6580793,
          7488676,
          3638808,
          4441830,
          4880009
         ],
         "yaxis": "y",
         "type": "bar"
        },
        {
         "alignmentgroup": "True",
         "hovertemplate": "Race=Non-Hispanic White<br>Year=%{x}<br>Population=%{y}<extra></extra>",
         "legendgroup": "Non-Hispanic White",
         "marker": {
          "color": "#EECA3B",
          "pattern": {
           "shape": ""
          }
         },
         "name": "Non-Hispanic White",
         "offsetgroup": "Non-Hispanic White",
         "orientation": "v",
         "showlegend": true,
         "textposition": "auto",
         "x": [
          2020,
          2010,
          2000,
          1990,
          1980,
          1870,
          1860,
          1970,
          1850,
          1890,
          1960,
          1880,
          1930,
          1900,
          1950,
          1910,
          1940,
          1920
         ],
         "xaxis": "x",
         "y": [
          191697647,
          196817552,
          194552774,
          188128296,
          180256366,
          19438451,
          19438451,
          169622593,
          19438451,
          43065679,
          153217498,
          43065679,
          93604612,
          66374317,
          131805405,
          81043248,
          116261189,
          93604612
         ],
         "yaxis": "y",
         "type": "bar"
        }
       ],
       "layout": {
        "template": {
         "data": {
          "barpolar": [
           {
            "marker": {
             "line": {
              "color": "rgb(237,237,237)",
              "width": 0.5
             },
             "pattern": {
              "fillmode": "overlay",
              "size": 10,
              "solidity": 0.2
             }
            },
            "type": "barpolar"
           }
          ],
          "bar": [
           {
            "error_x": {
             "color": "rgb(51,51,51)"
            },
            "error_y": {
             "color": "rgb(51,51,51)"
            },
            "marker": {
             "line": {
              "color": "rgb(237,237,237)",
              "width": 0.5
             },
             "pattern": {
              "fillmode": "overlay",
              "size": 10,
              "solidity": 0.2
             }
            },
            "type": "bar"
           }
          ],
          "carpet": [
           {
            "aaxis": {
             "endlinecolor": "rgb(51,51,51)",
             "gridcolor": "white",
             "linecolor": "white",
             "minorgridcolor": "white",
             "startlinecolor": "rgb(51,51,51)"
            },
            "baxis": {
             "endlinecolor": "rgb(51,51,51)",
             "gridcolor": "white",
             "linecolor": "white",
             "minorgridcolor": "white",
             "startlinecolor": "rgb(51,51,51)"
            },
            "type": "carpet"
           }
          ],
          "choropleth": [
           {
            "colorbar": {
             "outlinewidth": 0,
             "tickcolor": "rgb(237,237,237)",
             "ticklen": 6,
             "ticks": "inside"
            },
            "type": "choropleth"
           }
          ],
          "contourcarpet": [
           {
            "colorbar": {
             "outlinewidth": 0,
             "tickcolor": "rgb(237,237,237)",
             "ticklen": 6,
             "ticks": "inside"
            },
            "type": "contourcarpet"
           }
          ],
          "contour": [
           {
            "colorbar": {
             "outlinewidth": 0,
             "tickcolor": "rgb(237,237,237)",
             "ticklen": 6,
             "ticks": "inside"
            },
            "colorscale": [
             [
              0,
              "rgb(20,44,66)"
             ],
             [
              1,
              "rgb(90,179,244)"
             ]
            ],
            "type": "contour"
           }
          ],
          "heatmapgl": [
           {
            "colorbar": {
             "outlinewidth": 0,
             "tickcolor": "rgb(237,237,237)",
             "ticklen": 6,
             "ticks": "inside"
            },
            "colorscale": [
             [
              0,
              "rgb(20,44,66)"
             ],
             [
              1,
              "rgb(90,179,244)"
             ]
            ],
            "type": "heatmapgl"
           }
          ],
          "heatmap": [
           {
            "colorbar": {
             "outlinewidth": 0,
             "tickcolor": "rgb(237,237,237)",
             "ticklen": 6,
             "ticks": "inside"
            },
            "colorscale": [
             [
              0,
              "rgb(20,44,66)"
             ],
             [
              1,
              "rgb(90,179,244)"
             ]
            ],
            "type": "heatmap"
           }
          ],
          "histogram2dcontour": [
           {
            "colorbar": {
             "outlinewidth": 0,
             "tickcolor": "rgb(237,237,237)",
             "ticklen": 6,
             "ticks": "inside"
            },
            "colorscale": [
             [
              0,
              "rgb(20,44,66)"
             ],
             [
              1,
              "rgb(90,179,244)"
             ]
            ],
            "type": "histogram2dcontour"
           }
          ],
          "histogram2d": [
           {
            "colorbar": {
             "outlinewidth": 0,
             "tickcolor": "rgb(237,237,237)",
             "ticklen": 6,
             "ticks": "inside"
            },
            "colorscale": [
             [
              0,
              "rgb(20,44,66)"
             ],
             [
              1,
              "rgb(90,179,244)"
             ]
            ],
            "type": "histogram2d"
           }
          ],
          "histogram": [
           {
            "marker": {
             "pattern": {
              "fillmode": "overlay",
              "size": 10,
              "solidity": 0.2
             }
            },
            "type": "histogram"
           }
          ],
          "mesh3d": [
           {
            "colorbar": {
             "outlinewidth": 0,
             "tickcolor": "rgb(237,237,237)",
             "ticklen": 6,
             "ticks": "inside"
            },
            "type": "mesh3d"
           }
          ],
          "parcoords": [
           {
            "line": {
             "colorbar": {
              "outlinewidth": 0,
              "tickcolor": "rgb(237,237,237)",
              "ticklen": 6,
              "ticks": "inside"
             }
            },
            "type": "parcoords"
           }
          ],
          "pie": [
           {
            "automargin": true,
            "type": "pie"
           }
          ],
          "scatter3d": [
           {
            "line": {
             "colorbar": {
              "outlinewidth": 0,
              "tickcolor": "rgb(237,237,237)",
              "ticklen": 6,
              "ticks": "inside"
             }
            },
            "marker": {
             "colorbar": {
              "outlinewidth": 0,
              "tickcolor": "rgb(237,237,237)",
              "ticklen": 6,
              "ticks": "inside"
             }
            },
            "type": "scatter3d"
           }
          ],
          "scattercarpet": [
           {
            "marker": {
             "colorbar": {
              "outlinewidth": 0,
              "tickcolor": "rgb(237,237,237)",
              "ticklen": 6,
              "ticks": "inside"
             }
            },
            "type": "scattercarpet"
           }
          ],
          "scattergeo": [
           {
            "marker": {
             "colorbar": {
              "outlinewidth": 0,
              "tickcolor": "rgb(237,237,237)",
              "ticklen": 6,
              "ticks": "inside"
             }
            },
            "type": "scattergeo"
           }
          ],
          "scattergl": [
           {
            "marker": {
             "colorbar": {
              "outlinewidth": 0,
              "tickcolor": "rgb(237,237,237)",
              "ticklen": 6,
              "ticks": "inside"
             }
            },
            "type": "scattergl"
           }
          ],
          "scattermapbox": [
           {
            "marker": {
             "colorbar": {
              "outlinewidth": 0,
              "tickcolor": "rgb(237,237,237)",
              "ticklen": 6,
              "ticks": "inside"
             }
            },
            "type": "scattermapbox"
           }
          ],
          "scatterpolargl": [
           {
            "marker": {
             "colorbar": {
              "outlinewidth": 0,
              "tickcolor": "rgb(237,237,237)",
              "ticklen": 6,
              "ticks": "inside"
             }
            },
            "type": "scatterpolargl"
           }
          ],
          "scatterpolar": [
           {
            "marker": {
             "colorbar": {
              "outlinewidth": 0,
              "tickcolor": "rgb(237,237,237)",
              "ticklen": 6,
              "ticks": "inside"
             }
            },
            "type": "scatterpolar"
           }
          ],
          "scatter": [
           {
            "marker": {
             "colorbar": {
              "outlinewidth": 0,
              "tickcolor": "rgb(237,237,237)",
              "ticklen": 6,
              "ticks": "inside"
             }
            },
            "type": "scatter"
           }
          ],
          "scatterternary": [
           {
            "marker": {
             "colorbar": {
              "outlinewidth": 0,
              "tickcolor": "rgb(237,237,237)",
              "ticklen": 6,
              "ticks": "inside"
             }
            },
            "type": "scatterternary"
           }
          ],
          "surface": [
           {
            "colorbar": {
             "outlinewidth": 0,
             "tickcolor": "rgb(237,237,237)",
             "ticklen": 6,
             "ticks": "inside"
            },
            "colorscale": [
             [
              0,
              "rgb(20,44,66)"
             ],
             [
              1,
              "rgb(90,179,244)"
             ]
            ],
            "type": "surface"
           }
          ],
          "table": [
           {
            "cells": {
             "fill": {
              "color": "rgb(237,237,237)"
             },
             "line": {
              "color": "white"
             }
            },
            "header": {
             "fill": {
              "color": "rgb(217,217,217)"
             },
             "line": {
              "color": "white"
             }
            },
            "type": "table"
           }
          ]
         },
         "layout": {
          "annotationdefaults": {
           "arrowhead": 0,
           "arrowwidth": 1
          },
          "autotypenumbers": "strict",
          "coloraxis": {
           "colorbar": {
            "outlinewidth": 0,
            "tickcolor": "rgb(237,237,237)",
            "ticklen": 6,
            "ticks": "inside"
           }
          },
          "colorscale": {
           "sequential": [
            [
             0,
             "rgb(20,44,66)"
            ],
            [
             1,
             "rgb(90,179,244)"
            ]
           ],
           "sequentialminus": [
            [
             0,
             "rgb(20,44,66)"
            ],
            [
             1,
             "rgb(90,179,244)"
            ]
           ]
          },
          "colorway": [
           "#F8766D",
           "#A3A500",
           "#00BF7D",
           "#00B0F6",
           "#E76BF3"
          ],
          "font": {
           "color": "rgb(51,51,51)"
          },
          "geo": {
           "bgcolor": "white",
           "lakecolor": "white",
           "landcolor": "rgb(237,237,237)",
           "showlakes": true,
           "showland": true,
           "subunitcolor": "white"
          },
          "hoverlabel": {
           "align": "left"
          },
          "hovermode": "closest",
          "paper_bgcolor": "white",
          "plot_bgcolor": "rgb(237,237,237)",
          "polar": {
           "angularaxis": {
            "gridcolor": "white",
            "linecolor": "white",
            "showgrid": true,
            "tickcolor": "rgb(51,51,51)",
            "ticks": "outside"
           },
           "bgcolor": "rgb(237,237,237)",
           "radialaxis": {
            "gridcolor": "white",
            "linecolor": "white",
            "showgrid": true,
            "tickcolor": "rgb(51,51,51)",
            "ticks": "outside"
           }
          },
          "scene": {
           "xaxis": {
            "backgroundcolor": "rgb(237,237,237)",
            "gridcolor": "white",
            "gridwidth": 2,
            "linecolor": "white",
            "showbackground": true,
            "showgrid": true,
            "tickcolor": "rgb(51,51,51)",
            "ticks": "outside",
            "zerolinecolor": "white"
           },
           "yaxis": {
            "backgroundcolor": "rgb(237,237,237)",
            "gridcolor": "white",
            "gridwidth": 2,
            "linecolor": "white",
            "showbackground": true,
            "showgrid": true,
            "tickcolor": "rgb(51,51,51)",
            "ticks": "outside",
            "zerolinecolor": "white"
           },
           "zaxis": {
            "backgroundcolor": "rgb(237,237,237)",
            "gridcolor": "white",
            "gridwidth": 2,
            "linecolor": "white",
            "showbackground": true,
            "showgrid": true,
            "tickcolor": "rgb(51,51,51)",
            "ticks": "outside",
            "zerolinecolor": "white"
           }
          },
          "shapedefaults": {
           "fillcolor": "black",
           "line": {
            "width": 0
           },
           "opacity": 0.3
          },
          "ternary": {
           "aaxis": {
            "gridcolor": "white",
            "linecolor": "white",
            "showgrid": true,
            "tickcolor": "rgb(51,51,51)",
            "ticks": "outside"
           },
           "baxis": {
            "gridcolor": "white",
            "linecolor": "white",
            "showgrid": true,
            "tickcolor": "rgb(51,51,51)",
            "ticks": "outside"
           },
           "bgcolor": "rgb(237,237,237)",
           "caxis": {
            "gridcolor": "white",
            "linecolor": "white",
            "showgrid": true,
            "tickcolor": "rgb(51,51,51)",
            "ticks": "outside"
           }
          },
          "xaxis": {
           "automargin": true,
           "gridcolor": "white",
           "linecolor": "white",
           "showgrid": true,
           "tickcolor": "rgb(51,51,51)",
           "ticks": "outside",
           "title": {
            "standoff": 15
           },
           "zerolinecolor": "white"
          },
          "yaxis": {
           "automargin": true,
           "gridcolor": "white",
           "linecolor": "white",
           "showgrid": true,
           "tickcolor": "rgb(51,51,51)",
           "ticks": "outside",
           "title": {
            "standoff": 15
           },
           "zerolinecolor": "white"
          }
         }
        },
        "xaxis": {
         "anchor": "y",
         "domain": [
          0.0,
          1.0
         ],
         "title": {
          "text": "Year"
         },
         "range": [
          1895,
          2025
         ]
        },
        "yaxis": {
         "anchor": "x",
         "domain": [
          0.0,
          1.0
         ],
         "title": {
          "text": "Population"
         }
        },
        "legend": {
         "title": {
          "text": "Race"
         },
         "tracegroupgap": 0
        },
        "title": {
         "text": "U.S. Census Population by Race"
        },
        "barmode": "relative"
       },
       "config": {
        "plotlyServerURL": "https://plot.ly"
       }
      },
      "text/html": "<div>                            <div id=\"1eb726b5-8706-4802-9ab3-7edd7696640e\" class=\"plotly-graph-div\" style=\"height:525px; width:100%;\"></div>            <script type=\"text/javascript\">                require([\"plotly\"], function(Plotly) {                    window.PLOTLYENV=window.PLOTLYENV || {};                                    if (document.getElementById(\"1eb726b5-8706-4802-9ab3-7edd7696640e\")) {                    Plotly.newPlot(                        \"1eb726b5-8706-4802-9ab3-7edd7696640e\",                        [{\"alignmentgroup\":\"True\",\"hovertemplate\":\"Race=Other<br>Year=%{x}<br>Population=%{y}<extra></extra>\",\"legendgroup\":\"Other\",\"marker\":{\"color\":\"#4C78A8\",\"pattern\":{\"shape\":\"\"}},\"name\":\"Other\",\"offsetgroup\":\"Other\",\"orientation\":\"v\",\"showlegend\":true,\"textposition\":\"auto\",\"x\":[1930,1920,1940,1850,1860,1880,1890,1900,1910,1870,1950,1960,1970,1980,1990,2000,2010,2020],\"xaxis\":\"x\",\"y\":[0,0,0,0,0,0,0,0,0,0,48604,87606,230064,6758319,9804847,22185301,28116441,61764658],\"yaxis\":\"y\",\"type\":\"bar\"},{\"alignmentgroup\":\"True\",\"hovertemplate\":\"Race=American Indian Eskimo and Aleut\\u00a0<br>Year=%{x}<br>Population=%{y}<extra></extra>\",\"legendgroup\":\"American Indian Eskimo and Aleut\\u00a0\",\"marker\":{\"color\":\"#F58518\",\"pattern\":{\"shape\":\"\"}},\"name\":\"American Indian Eskimo and Aleut\\u00a0\",\"offsetgroup\":\"American Indian Eskimo and Aleut\\u00a0\",\"orientation\":\"v\",\"showlegend\":true,\"textposition\":\"auto\",\"x\":[1850,1870,1880,1860,1950,1920,1940,1910,1900,1930,1960,1970,1890,1980,1990,2000,2010,2020],\"xaxis\":\"x\",\"y\":[0,25731,66407,44021,343410,244437,333969,265683,237196,332397,551669,795110,248253,1420400,1959234,2475956,2932248,3727135],\"yaxis\":\"y\",\"type\":\"bar\"},{\"alignmentgroup\":\"True\",\"hovertemplate\":\"Race=Asian and Pacific Islander\\u00a0<br>Year=%{x}<br>Population=%{y}<extra></extra>\",\"legendgroup\":\"Asian and Pacific Islander\\u00a0\",\"marker\":{\"color\":\"#E45756\",\"pattern\":{\"shape\":\"\"}},\"name\":\"Asian and Pacific Islander\\u00a0\",\"offsetgroup\":\"Asian and Pacific Islander\\u00a0\",\"orientation\":\"v\",\"showlegend\":true,\"textposition\":\"auto\",\"x\":[1850,1860,1900,1910,1920,1940,1880,1950,1890,1930,1870,1960,1970,1980,1990,2000,2010,2020],\"xaxis\":\"x\",\"y\":[0,34933,114189,146863,182137,254918,105613,321033,109527,264766,63254,980337,1526401,3500439,7273662,10641833,15214265,20576015],\"yaxis\":\"y\",\"type\":\"bar\"},{\"alignmentgroup\":\"True\",\"hovertemplate\":\"Race=Hispanic (of any race)<br>Year=%{x}<br>Population=%{y}<extra></extra>\",\"legendgroup\":\"Hispanic (of any race)\",\"marker\":{\"color\":\"#72B7B2\",\"pattern\":{\"shape\":\"\"}},\"name\":\"Hispanic (of any race)\",\"offsetgroup\":\"Hispanic (of any race)\",\"orientation\":\"v\",\"showlegend\":true,\"textposition\":\"auto\",\"x\":[1850,1870,1860,1900,1890,1880,1910,1930,1920,1940,1950,1960,1970,1980,1990,2000,2010,2020],\"xaxis\":\"x\",\"y\":[116943,155000,155000,503189,393555,393555,797994,1286154,1286154,2021820,3231409,5814784,8920940,14608673,22354059,35305818,50477594,62080044],\"yaxis\":\"y\",\"type\":\"bar\"},{\"alignmentgroup\":\"True\",\"hovertemplate\":\"Race=Black\\u00a0<br>Year=%{x}<br>Population=%{y}<extra></extra>\",\"legendgroup\":\"Black\\u00a0\",\"marker\":{\"color\":\"#54A24B\",\"pattern\":{\"shape\":\"\"}},\"name\":\"Black\\u00a0\",\"offsetgroup\":\"Black\\u00a0\",\"orientation\":\"v\",\"showlegend\":true,\"textposition\":\"auto\",\"x\":[1940,1920,1950,1960,1910,2020,1930,1970,1980,1990,2000,1900,2010,1880,1890,1850,1860,1870],\"xaxis\":\"x\",\"y\":[12865518,10463131,15042286,18871831,9827763,41104200,11891143,22539362,26495025,29986060,34658190,8833994,38929319,6580793,7488676,3638808,4441830,4880009],\"yaxis\":\"y\",\"type\":\"bar\"},{\"alignmentgroup\":\"True\",\"hovertemplate\":\"Race=Non-Hispanic White<br>Year=%{x}<br>Population=%{y}<extra></extra>\",\"legendgroup\":\"Non-Hispanic White\",\"marker\":{\"color\":\"#EECA3B\",\"pattern\":{\"shape\":\"\"}},\"name\":\"Non-Hispanic White\",\"offsetgroup\":\"Non-Hispanic White\",\"orientation\":\"v\",\"showlegend\":true,\"textposition\":\"auto\",\"x\":[2020,2010,2000,1990,1980,1870,1860,1970,1850,1890,1960,1880,1930,1900,1950,1910,1940,1920],\"xaxis\":\"x\",\"y\":[191697647,196817552,194552774,188128296,180256366,19438451,19438451,169622593,19438451,43065679,153217498,43065679,93604612,66374317,131805405,81043248,116261189,93604612],\"yaxis\":\"y\",\"type\":\"bar\"}],                        {\"template\":{\"data\":{\"barpolar\":[{\"marker\":{\"line\":{\"color\":\"rgb(237,237,237)\",\"width\":0.5},\"pattern\":{\"fillmode\":\"overlay\",\"size\":10,\"solidity\":0.2}},\"type\":\"barpolar\"}],\"bar\":[{\"error_x\":{\"color\":\"rgb(51,51,51)\"},\"error_y\":{\"color\":\"rgb(51,51,51)\"},\"marker\":{\"line\":{\"color\":\"rgb(237,237,237)\",\"width\":0.5},\"pattern\":{\"fillmode\":\"overlay\",\"size\":10,\"solidity\":0.2}},\"type\":\"bar\"}],\"carpet\":[{\"aaxis\":{\"endlinecolor\":\"rgb(51,51,51)\",\"gridcolor\":\"white\",\"linecolor\":\"white\",\"minorgridcolor\":\"white\",\"startlinecolor\":\"rgb(51,51,51)\"},\"baxis\":{\"endlinecolor\":\"rgb(51,51,51)\",\"gridcolor\":\"white\",\"linecolor\":\"white\",\"minorgridcolor\":\"white\",\"startlinecolor\":\"rgb(51,51,51)\"},\"type\":\"carpet\"}],\"choropleth\":[{\"colorbar\":{\"outlinewidth\":0,\"tickcolor\":\"rgb(237,237,237)\",\"ticklen\":6,\"ticks\":\"inside\"},\"type\":\"choropleth\"}],\"contourcarpet\":[{\"colorbar\":{\"outlinewidth\":0,\"tickcolor\":\"rgb(237,237,237)\",\"ticklen\":6,\"ticks\":\"inside\"},\"type\":\"contourcarpet\"}],\"contour\":[{\"colorbar\":{\"outlinewidth\":0,\"tickcolor\":\"rgb(237,237,237)\",\"ticklen\":6,\"ticks\":\"inside\"},\"colorscale\":[[0,\"rgb(20,44,66)\"],[1,\"rgb(90,179,244)\"]],\"type\":\"contour\"}],\"heatmapgl\":[{\"colorbar\":{\"outlinewidth\":0,\"tickcolor\":\"rgb(237,237,237)\",\"ticklen\":6,\"ticks\":\"inside\"},\"colorscale\":[[0,\"rgb(20,44,66)\"],[1,\"rgb(90,179,244)\"]],\"type\":\"heatmapgl\"}],\"heatmap\":[{\"colorbar\":{\"outlinewidth\":0,\"tickcolor\":\"rgb(237,237,237)\",\"ticklen\":6,\"ticks\":\"inside\"},\"colorscale\":[[0,\"rgb(20,44,66)\"],[1,\"rgb(90,179,244)\"]],\"type\":\"heatmap\"}],\"histogram2dcontour\":[{\"colorbar\":{\"outlinewidth\":0,\"tickcolor\":\"rgb(237,237,237)\",\"ticklen\":6,\"ticks\":\"inside\"},\"colorscale\":[[0,\"rgb(20,44,66)\"],[1,\"rgb(90,179,244)\"]],\"type\":\"histogram2dcontour\"}],\"histogram2d\":[{\"colorbar\":{\"outlinewidth\":0,\"tickcolor\":\"rgb(237,237,237)\",\"ticklen\":6,\"ticks\":\"inside\"},\"colorscale\":[[0,\"rgb(20,44,66)\"],[1,\"rgb(90,179,244)\"]],\"type\":\"histogram2d\"}],\"histogram\":[{\"marker\":{\"pattern\":{\"fillmode\":\"overlay\",\"size\":10,\"solidity\":0.2}},\"type\":\"histogram\"}],\"mesh3d\":[{\"colorbar\":{\"outlinewidth\":0,\"tickcolor\":\"rgb(237,237,237)\",\"ticklen\":6,\"ticks\":\"inside\"},\"type\":\"mesh3d\"}],\"parcoords\":[{\"line\":{\"colorbar\":{\"outlinewidth\":0,\"tickcolor\":\"rgb(237,237,237)\",\"ticklen\":6,\"ticks\":\"inside\"}},\"type\":\"parcoords\"}],\"pie\":[{\"automargin\":true,\"type\":\"pie\"}],\"scatter3d\":[{\"line\":{\"colorbar\":{\"outlinewidth\":0,\"tickcolor\":\"rgb(237,237,237)\",\"ticklen\":6,\"ticks\":\"inside\"}},\"marker\":{\"colorbar\":{\"outlinewidth\":0,\"tickcolor\":\"rgb(237,237,237)\",\"ticklen\":6,\"ticks\":\"inside\"}},\"type\":\"scatter3d\"}],\"scattercarpet\":[{\"marker\":{\"colorbar\":{\"outlinewidth\":0,\"tickcolor\":\"rgb(237,237,237)\",\"ticklen\":6,\"ticks\":\"inside\"}},\"type\":\"scattercarpet\"}],\"scattergeo\":[{\"marker\":{\"colorbar\":{\"outlinewidth\":0,\"tickcolor\":\"rgb(237,237,237)\",\"ticklen\":6,\"ticks\":\"inside\"}},\"type\":\"scattergeo\"}],\"scattergl\":[{\"marker\":{\"colorbar\":{\"outlinewidth\":0,\"tickcolor\":\"rgb(237,237,237)\",\"ticklen\":6,\"ticks\":\"inside\"}},\"type\":\"scattergl\"}],\"scattermapbox\":[{\"marker\":{\"colorbar\":{\"outlinewidth\":0,\"tickcolor\":\"rgb(237,237,237)\",\"ticklen\":6,\"ticks\":\"inside\"}},\"type\":\"scattermapbox\"}],\"scatterpolargl\":[{\"marker\":{\"colorbar\":{\"outlinewidth\":0,\"tickcolor\":\"rgb(237,237,237)\",\"ticklen\":6,\"ticks\":\"inside\"}},\"type\":\"scatterpolargl\"}],\"scatterpolar\":[{\"marker\":{\"colorbar\":{\"outlinewidth\":0,\"tickcolor\":\"rgb(237,237,237)\",\"ticklen\":6,\"ticks\":\"inside\"}},\"type\":\"scatterpolar\"}],\"scatter\":[{\"marker\":{\"colorbar\":{\"outlinewidth\":0,\"tickcolor\":\"rgb(237,237,237)\",\"ticklen\":6,\"ticks\":\"inside\"}},\"type\":\"scatter\"}],\"scatterternary\":[{\"marker\":{\"colorbar\":{\"outlinewidth\":0,\"tickcolor\":\"rgb(237,237,237)\",\"ticklen\":6,\"ticks\":\"inside\"}},\"type\":\"scatterternary\"}],\"surface\":[{\"colorbar\":{\"outlinewidth\":0,\"tickcolor\":\"rgb(237,237,237)\",\"ticklen\":6,\"ticks\":\"inside\"},\"colorscale\":[[0,\"rgb(20,44,66)\"],[1,\"rgb(90,179,244)\"]],\"type\":\"surface\"}],\"table\":[{\"cells\":{\"fill\":{\"color\":\"rgb(237,237,237)\"},\"line\":{\"color\":\"white\"}},\"header\":{\"fill\":{\"color\":\"rgb(217,217,217)\"},\"line\":{\"color\":\"white\"}},\"type\":\"table\"}]},\"layout\":{\"annotationdefaults\":{\"arrowhead\":0,\"arrowwidth\":1},\"autotypenumbers\":\"strict\",\"coloraxis\":{\"colorbar\":{\"outlinewidth\":0,\"tickcolor\":\"rgb(237,237,237)\",\"ticklen\":6,\"ticks\":\"inside\"}},\"colorscale\":{\"sequential\":[[0,\"rgb(20,44,66)\"],[1,\"rgb(90,179,244)\"]],\"sequentialminus\":[[0,\"rgb(20,44,66)\"],[1,\"rgb(90,179,244)\"]]},\"colorway\":[\"#F8766D\",\"#A3A500\",\"#00BF7D\",\"#00B0F6\",\"#E76BF3\"],\"font\":{\"color\":\"rgb(51,51,51)\"},\"geo\":{\"bgcolor\":\"white\",\"lakecolor\":\"white\",\"landcolor\":\"rgb(237,237,237)\",\"showlakes\":true,\"showland\":true,\"subunitcolor\":\"white\"},\"hoverlabel\":{\"align\":\"left\"},\"hovermode\":\"closest\",\"paper_bgcolor\":\"white\",\"plot_bgcolor\":\"rgb(237,237,237)\",\"polar\":{\"angularaxis\":{\"gridcolor\":\"white\",\"linecolor\":\"white\",\"showgrid\":true,\"tickcolor\":\"rgb(51,51,51)\",\"ticks\":\"outside\"},\"bgcolor\":\"rgb(237,237,237)\",\"radialaxis\":{\"gridcolor\":\"white\",\"linecolor\":\"white\",\"showgrid\":true,\"tickcolor\":\"rgb(51,51,51)\",\"ticks\":\"outside\"}},\"scene\":{\"xaxis\":{\"backgroundcolor\":\"rgb(237,237,237)\",\"gridcolor\":\"white\",\"gridwidth\":2,\"linecolor\":\"white\",\"showbackground\":true,\"showgrid\":true,\"tickcolor\":\"rgb(51,51,51)\",\"ticks\":\"outside\",\"zerolinecolor\":\"white\"},\"yaxis\":{\"backgroundcolor\":\"rgb(237,237,237)\",\"gridcolor\":\"white\",\"gridwidth\":2,\"linecolor\":\"white\",\"showbackground\":true,\"showgrid\":true,\"tickcolor\":\"rgb(51,51,51)\",\"ticks\":\"outside\",\"zerolinecolor\":\"white\"},\"zaxis\":{\"backgroundcolor\":\"rgb(237,237,237)\",\"gridcolor\":\"white\",\"gridwidth\":2,\"linecolor\":\"white\",\"showbackground\":true,\"showgrid\":true,\"tickcolor\":\"rgb(51,51,51)\",\"ticks\":\"outside\",\"zerolinecolor\":\"white\"}},\"shapedefaults\":{\"fillcolor\":\"black\",\"line\":{\"width\":0},\"opacity\":0.3},\"ternary\":{\"aaxis\":{\"gridcolor\":\"white\",\"linecolor\":\"white\",\"showgrid\":true,\"tickcolor\":\"rgb(51,51,51)\",\"ticks\":\"outside\"},\"baxis\":{\"gridcolor\":\"white\",\"linecolor\":\"white\",\"showgrid\":true,\"tickcolor\":\"rgb(51,51,51)\",\"ticks\":\"outside\"},\"bgcolor\":\"rgb(237,237,237)\",\"caxis\":{\"gridcolor\":\"white\",\"linecolor\":\"white\",\"showgrid\":true,\"tickcolor\":\"rgb(51,51,51)\",\"ticks\":\"outside\"}},\"xaxis\":{\"automargin\":true,\"gridcolor\":\"white\",\"linecolor\":\"white\",\"showgrid\":true,\"tickcolor\":\"rgb(51,51,51)\",\"ticks\":\"outside\",\"title\":{\"standoff\":15},\"zerolinecolor\":\"white\"},\"yaxis\":{\"automargin\":true,\"gridcolor\":\"white\",\"linecolor\":\"white\",\"showgrid\":true,\"tickcolor\":\"rgb(51,51,51)\",\"ticks\":\"outside\",\"title\":{\"standoff\":15},\"zerolinecolor\":\"white\"}}},\"xaxis\":{\"anchor\":\"y\",\"domain\":[0.0,1.0],\"title\":{\"text\":\"Year\"},\"range\":[1895,2025]},\"yaxis\":{\"anchor\":\"x\",\"domain\":[0.0,1.0],\"title\":{\"text\":\"Population\"}},\"legend\":{\"title\":{\"text\":\"Race\"},\"tracegroupgap\":0},\"title\":{\"text\":\"U.S. Census Population by Race\"},\"barmode\":\"relative\"},                        {\"responsive\": true}                    ).then(function(){\n                            \nvar gd = document.getElementById('1eb726b5-8706-4802-9ab3-7edd7696640e');\nvar x = new MutationObserver(function (mutations, observer) {{\n        var display = window.getComputedStyle(gd).display;\n        if (!display || display === 'none') {{\n            console.log([gd, 'removed!']);\n            Plotly.purge(gd);\n            observer.disconnect();\n        }}\n}});\n\n// Listen for the removal of the full notebook cells\nvar notebookContainer = gd.closest('#notebook-container');\nif (notebookContainer) {{\n    x.observe(notebookContainer, {childList: true});\n}}\n\n// Listen for the clearing of the current output cell\nvar outputEl = gd.closest('.output');\nif (outputEl) {{\n    x.observe(outputEl, {childList: true});\n}}\n\n                        })                };                });            </script>        </div>"
     },
     "metadata": {},
     "output_type": "display_data"
    }
   ],
   "source": [
    "wide_df = px.data.medals_wide()\n",
    "\n",
    "\n",
    "fig = px.bar(usa_pop, x=\"Year\",y='Population', color=\"Race\", title=\"U.S. Census Population by Race\", range_x=[1895, 2025],                                                                                                   color_discrete_sequence=px.colors.qualitative.T10, template= 'ggplot2')\n",
    "fig.show()\n",
    "fig.write_html((Path('/Users/ianapeix/ADA2022/html/US_Census.html')))"
   ],
   "metadata": {
    "collapsed": false
   }
  },
  {
   "cell_type": "code",
   "execution_count": 60,
   "outputs": [
    {
     "data": {
      "application/vnd.plotly.v1+json": {
       "data": [
        {
         "alignmentgroup": "True",
         "hovertemplate": "Race=Other<br>Year=%{x}<br>Percentage=%{y}<extra></extra>",
         "legendgroup": "Other",
         "marker": {
          "color": "#4C78A8",
          "pattern": {
           "shape": ""
          }
         },
         "name": "Other",
         "offsetgroup": "Other",
         "orientation": "v",
         "showlegend": true,
         "textposition": "auto",
         "x": [
          1930,
          1920,
          1940,
          1850,
          1860,
          1880,
          1890,
          1900,
          1910,
          1870,
          1950,
          1960,
          1970,
          1980,
          1990,
          2000,
          2010,
          2020
         ],
         "xaxis": "x",
         "y": [
          0.0,
          0.0,
          0.0,
          0.0,
          0.0,
          0.0,
          0.0,
          0.0,
          0.0,
          0.0,
          0.03,
          0.05,
          0.11,
          2.9,
          3.78,
          7.4,
          8.46,
          16.21
         ],
         "yaxis": "y",
         "type": "bar"
        },
        {
         "alignmentgroup": "True",
         "hovertemplate": "Race=American Indian Eskimo and Aleut <br>Year=%{x}<br>Percentage=%{y}<extra></extra>",
         "legendgroup": "American Indian Eskimo and Aleut ",
         "marker": {
          "color": "#F58518",
          "pattern": {
           "shape": ""
          }
         },
         "name": "American Indian Eskimo and Aleut ",
         "offsetgroup": "American Indian Eskimo and Aleut ",
         "orientation": "v",
         "showlegend": true,
         "textposition": "auto",
         "x": [
          1850,
          1870,
          1880,
          1860,
          1950,
          1920,
          1940,
          1910,
          1900,
          1930,
          1960,
          1970,
          1890,
          1980,
          1990,
          2000,
          2010,
          2020
         ],
         "xaxis": "x",
         "y": [
          0.0,
          0.1,
          0.13,
          0.18,
          0.23,
          0.23,
          0.25,
          0.29,
          0.31,
          0.31,
          0.31,
          0.39,
          0.48,
          0.61,
          0.75,
          0.83,
          0.88,
          0.98
         ],
         "yaxis": "y",
         "type": "bar"
        },
        {
         "alignmentgroup": "True",
         "hovertemplate": "Race=Asian and Pacific Islander <br>Year=%{x}<br>Percentage=%{y}<extra></extra>",
         "legendgroup": "Asian and Pacific Islander ",
         "marker": {
          "color": "#E45756",
          "pattern": {
           "shape": ""
          }
         },
         "name": "Asian and Pacific Islander ",
         "offsetgroup": "Asian and Pacific Islander ",
         "orientation": "v",
         "showlegend": true,
         "textposition": "auto",
         "x": [
          1850,
          1860,
          1900,
          1910,
          1920,
          1940,
          1880,
          1950,
          1890,
          1930,
          1870,
          1960,
          1970,
          1980,
          1990,
          2000,
          2010,
          2020
         ],
         "xaxis": "x",
         "y": [
          0.0,
          0.14,
          0.15,
          0.16,
          0.17,
          0.19,
          0.21,
          0.21,
          0.21,
          0.25,
          0.26,
          0.55,
          0.75,
          1.5,
          2.8,
          3.55,
          4.58,
          5.4
         ],
         "yaxis": "y",
         "type": "bar"
        },
        {
         "alignmentgroup": "True",
         "hovertemplate": "Race=Hispanic (of any race)<br>Year=%{x}<br>Percentage=%{y}<extra></extra>",
         "legendgroup": "Hispanic (of any race)",
         "marker": {
          "color": "#72B7B2",
          "pattern": {
           "shape": ""
          }
         },
         "name": "Hispanic (of any race)",
         "offsetgroup": "Hispanic (of any race)",
         "orientation": "v",
         "showlegend": true,
         "textposition": "auto",
         "x": [
          1850,
          1870,
          1860,
          1900,
          1890,
          1880,
          1910,
          1930,
          1920,
          1940,
          1950,
          1960,
          1970,
          1980,
          1990,
          2000,
          2010,
          2020
         ],
         "xaxis": "x",
         "y": [
          0.5,
          0.63,
          0.64,
          0.66,
          0.77,
          0.78,
          0.87,
          1.2,
          1.22,
          1.53,
          2.14,
          3.24,
          4.38,
          6.27,
          8.61,
          11.78,
          15.18,
          16.3
         ],
         "yaxis": "y",
         "type": "bar"
        },
        {
         "alignmentgroup": "True",
         "hovertemplate": "Race=Black <br>Year=%{x}<br>Percentage=%{y}<extra></extra>",
         "legendgroup": "Black ",
         "marker": {
          "color": "#54A24B",
          "pattern": {
           "shape": ""
          }
         },
         "name": "Black ",
         "offsetgroup": "Black ",
         "orientation": "v",
         "showlegend": true,
         "textposition": "auto",
         "x": [
          1940,
          1920,
          1950,
          1960,
          1910,
          2020,
          1930,
          1970,
          1980,
          1990,
          2000,
          1900,
          2010,
          1880,
          1890,
          1850,
          1860,
          1870
         ],
         "xaxis": "x",
         "y": [
          9.77,
          9.89,
          9.98,
          10.51,
          10.67,
          10.79,
          11.07,
          11.07,
          11.37,
          11.56,
          11.56,
          11.61,
          11.71,
          13.11,
          14.6,
          15.69,
          18.42,
          19.87
         ],
         "yaxis": "y",
         "type": "bar"
        },
        {
         "alignmentgroup": "True",
         "hovertemplate": "Race=Non-Hispanic White<br>Year=%{x}<br>Percentage=%{y}<extra></extra>",
         "legendgroup": "Non-Hispanic White",
         "marker": {
          "color": "#EECA3B",
          "pattern": {
           "shape": ""
          }
         },
         "name": "Non-Hispanic White",
         "offsetgroup": "Non-Hispanic White",
         "orientation": "v",
         "showlegend": true,
         "textposition": "auto",
         "x": [
          2020,
          2010,
          2000,
          1990,
          1980,
          1870,
          1860,
          1970,
          1850,
          1890,
          1960,
          1880,
          1930,
          1900,
          1950,
          1910,
          1940,
          1920
         ],
         "xaxis": "x",
         "y": [
          50.32,
          59.2,
          64.89,
          72.49,
          77.35,
          79.14,
          80.61,
          83.3,
          83.81,
          83.94,
          85.35,
          85.77,
          87.17,
          87.26,
          87.41,
          88.01,
          88.25,
          88.49
         ],
         "yaxis": "y",
         "type": "bar"
        }
       ],
       "layout": {
        "template": {
         "data": {
          "barpolar": [
           {
            "marker": {
             "line": {
              "color": "rgb(237,237,237)",
              "width": 0.5
             },
             "pattern": {
              "fillmode": "overlay",
              "size": 10,
              "solidity": 0.2
             }
            },
            "type": "barpolar"
           }
          ],
          "bar": [
           {
            "error_x": {
             "color": "rgb(51,51,51)"
            },
            "error_y": {
             "color": "rgb(51,51,51)"
            },
            "marker": {
             "line": {
              "color": "rgb(237,237,237)",
              "width": 0.5
             },
             "pattern": {
              "fillmode": "overlay",
              "size": 10,
              "solidity": 0.2
             }
            },
            "type": "bar"
           }
          ],
          "carpet": [
           {
            "aaxis": {
             "endlinecolor": "rgb(51,51,51)",
             "gridcolor": "white",
             "linecolor": "white",
             "minorgridcolor": "white",
             "startlinecolor": "rgb(51,51,51)"
            },
            "baxis": {
             "endlinecolor": "rgb(51,51,51)",
             "gridcolor": "white",
             "linecolor": "white",
             "minorgridcolor": "white",
             "startlinecolor": "rgb(51,51,51)"
            },
            "type": "carpet"
           }
          ],
          "choropleth": [
           {
            "colorbar": {
             "outlinewidth": 0,
             "tickcolor": "rgb(237,237,237)",
             "ticklen": 6,
             "ticks": "inside"
            },
            "type": "choropleth"
           }
          ],
          "contourcarpet": [
           {
            "colorbar": {
             "outlinewidth": 0,
             "tickcolor": "rgb(237,237,237)",
             "ticklen": 6,
             "ticks": "inside"
            },
            "type": "contourcarpet"
           }
          ],
          "contour": [
           {
            "colorbar": {
             "outlinewidth": 0,
             "tickcolor": "rgb(237,237,237)",
             "ticklen": 6,
             "ticks": "inside"
            },
            "colorscale": [
             [
              0,
              "rgb(20,44,66)"
             ],
             [
              1,
              "rgb(90,179,244)"
             ]
            ],
            "type": "contour"
           }
          ],
          "heatmapgl": [
           {
            "colorbar": {
             "outlinewidth": 0,
             "tickcolor": "rgb(237,237,237)",
             "ticklen": 6,
             "ticks": "inside"
            },
            "colorscale": [
             [
              0,
              "rgb(20,44,66)"
             ],
             [
              1,
              "rgb(90,179,244)"
             ]
            ],
            "type": "heatmapgl"
           }
          ],
          "heatmap": [
           {
            "colorbar": {
             "outlinewidth": 0,
             "tickcolor": "rgb(237,237,237)",
             "ticklen": 6,
             "ticks": "inside"
            },
            "colorscale": [
             [
              0,
              "rgb(20,44,66)"
             ],
             [
              1,
              "rgb(90,179,244)"
             ]
            ],
            "type": "heatmap"
           }
          ],
          "histogram2dcontour": [
           {
            "colorbar": {
             "outlinewidth": 0,
             "tickcolor": "rgb(237,237,237)",
             "ticklen": 6,
             "ticks": "inside"
            },
            "colorscale": [
             [
              0,
              "rgb(20,44,66)"
             ],
             [
              1,
              "rgb(90,179,244)"
             ]
            ],
            "type": "histogram2dcontour"
           }
          ],
          "histogram2d": [
           {
            "colorbar": {
             "outlinewidth": 0,
             "tickcolor": "rgb(237,237,237)",
             "ticklen": 6,
             "ticks": "inside"
            },
            "colorscale": [
             [
              0,
              "rgb(20,44,66)"
             ],
             [
              1,
              "rgb(90,179,244)"
             ]
            ],
            "type": "histogram2d"
           }
          ],
          "histogram": [
           {
            "marker": {
             "pattern": {
              "fillmode": "overlay",
              "size": 10,
              "solidity": 0.2
             }
            },
            "type": "histogram"
           }
          ],
          "mesh3d": [
           {
            "colorbar": {
             "outlinewidth": 0,
             "tickcolor": "rgb(237,237,237)",
             "ticklen": 6,
             "ticks": "inside"
            },
            "type": "mesh3d"
           }
          ],
          "parcoords": [
           {
            "line": {
             "colorbar": {
              "outlinewidth": 0,
              "tickcolor": "rgb(237,237,237)",
              "ticklen": 6,
              "ticks": "inside"
             }
            },
            "type": "parcoords"
           }
          ],
          "pie": [
           {
            "automargin": true,
            "type": "pie"
           }
          ],
          "scatter3d": [
           {
            "line": {
             "colorbar": {
              "outlinewidth": 0,
              "tickcolor": "rgb(237,237,237)",
              "ticklen": 6,
              "ticks": "inside"
             }
            },
            "marker": {
             "colorbar": {
              "outlinewidth": 0,
              "tickcolor": "rgb(237,237,237)",
              "ticklen": 6,
              "ticks": "inside"
             }
            },
            "type": "scatter3d"
           }
          ],
          "scattercarpet": [
           {
            "marker": {
             "colorbar": {
              "outlinewidth": 0,
              "tickcolor": "rgb(237,237,237)",
              "ticklen": 6,
              "ticks": "inside"
             }
            },
            "type": "scattercarpet"
           }
          ],
          "scattergeo": [
           {
            "marker": {
             "colorbar": {
              "outlinewidth": 0,
              "tickcolor": "rgb(237,237,237)",
              "ticklen": 6,
              "ticks": "inside"
             }
            },
            "type": "scattergeo"
           }
          ],
          "scattergl": [
           {
            "marker": {
             "colorbar": {
              "outlinewidth": 0,
              "tickcolor": "rgb(237,237,237)",
              "ticklen": 6,
              "ticks": "inside"
             }
            },
            "type": "scattergl"
           }
          ],
          "scattermapbox": [
           {
            "marker": {
             "colorbar": {
              "outlinewidth": 0,
              "tickcolor": "rgb(237,237,237)",
              "ticklen": 6,
              "ticks": "inside"
             }
            },
            "type": "scattermapbox"
           }
          ],
          "scatterpolargl": [
           {
            "marker": {
             "colorbar": {
              "outlinewidth": 0,
              "tickcolor": "rgb(237,237,237)",
              "ticklen": 6,
              "ticks": "inside"
             }
            },
            "type": "scatterpolargl"
           }
          ],
          "scatterpolar": [
           {
            "marker": {
             "colorbar": {
              "outlinewidth": 0,
              "tickcolor": "rgb(237,237,237)",
              "ticklen": 6,
              "ticks": "inside"
             }
            },
            "type": "scatterpolar"
           }
          ],
          "scatter": [
           {
            "marker": {
             "colorbar": {
              "outlinewidth": 0,
              "tickcolor": "rgb(237,237,237)",
              "ticklen": 6,
              "ticks": "inside"
             }
            },
            "type": "scatter"
           }
          ],
          "scatterternary": [
           {
            "marker": {
             "colorbar": {
              "outlinewidth": 0,
              "tickcolor": "rgb(237,237,237)",
              "ticklen": 6,
              "ticks": "inside"
             }
            },
            "type": "scatterternary"
           }
          ],
          "surface": [
           {
            "colorbar": {
             "outlinewidth": 0,
             "tickcolor": "rgb(237,237,237)",
             "ticklen": 6,
             "ticks": "inside"
            },
            "colorscale": [
             [
              0,
              "rgb(20,44,66)"
             ],
             [
              1,
              "rgb(90,179,244)"
             ]
            ],
            "type": "surface"
           }
          ],
          "table": [
           {
            "cells": {
             "fill": {
              "color": "rgb(237,237,237)"
             },
             "line": {
              "color": "white"
             }
            },
            "header": {
             "fill": {
              "color": "rgb(217,217,217)"
             },
             "line": {
              "color": "white"
             }
            },
            "type": "table"
           }
          ]
         },
         "layout": {
          "annotationdefaults": {
           "arrowhead": 0,
           "arrowwidth": 1
          },
          "autotypenumbers": "strict",
          "coloraxis": {
           "colorbar": {
            "outlinewidth": 0,
            "tickcolor": "rgb(237,237,237)",
            "ticklen": 6,
            "ticks": "inside"
           }
          },
          "colorscale": {
           "sequential": [
            [
             0,
             "rgb(20,44,66)"
            ],
            [
             1,
             "rgb(90,179,244)"
            ]
           ],
           "sequentialminus": [
            [
             0,
             "rgb(20,44,66)"
            ],
            [
             1,
             "rgb(90,179,244)"
            ]
           ]
          },
          "colorway": [
           "#F8766D",
           "#A3A500",
           "#00BF7D",
           "#00B0F6",
           "#E76BF3"
          ],
          "font": {
           "color": "rgb(51,51,51)"
          },
          "geo": {
           "bgcolor": "white",
           "lakecolor": "white",
           "landcolor": "rgb(237,237,237)",
           "showlakes": true,
           "showland": true,
           "subunitcolor": "white"
          },
          "hoverlabel": {
           "align": "left"
          },
          "hovermode": "closest",
          "paper_bgcolor": "white",
          "plot_bgcolor": "rgb(237,237,237)",
          "polar": {
           "angularaxis": {
            "gridcolor": "white",
            "linecolor": "white",
            "showgrid": true,
            "tickcolor": "rgb(51,51,51)",
            "ticks": "outside"
           },
           "bgcolor": "rgb(237,237,237)",
           "radialaxis": {
            "gridcolor": "white",
            "linecolor": "white",
            "showgrid": true,
            "tickcolor": "rgb(51,51,51)",
            "ticks": "outside"
           }
          },
          "scene": {
           "xaxis": {
            "backgroundcolor": "rgb(237,237,237)",
            "gridcolor": "white",
            "gridwidth": 2,
            "linecolor": "white",
            "showbackground": true,
            "showgrid": true,
            "tickcolor": "rgb(51,51,51)",
            "ticks": "outside",
            "zerolinecolor": "white"
           },
           "yaxis": {
            "backgroundcolor": "rgb(237,237,237)",
            "gridcolor": "white",
            "gridwidth": 2,
            "linecolor": "white",
            "showbackground": true,
            "showgrid": true,
            "tickcolor": "rgb(51,51,51)",
            "ticks": "outside",
            "zerolinecolor": "white"
           },
           "zaxis": {
            "backgroundcolor": "rgb(237,237,237)",
            "gridcolor": "white",
            "gridwidth": 2,
            "linecolor": "white",
            "showbackground": true,
            "showgrid": true,
            "tickcolor": "rgb(51,51,51)",
            "ticks": "outside",
            "zerolinecolor": "white"
           }
          },
          "shapedefaults": {
           "fillcolor": "black",
           "line": {
            "width": 0
           },
           "opacity": 0.3
          },
          "ternary": {
           "aaxis": {
            "gridcolor": "white",
            "linecolor": "white",
            "showgrid": true,
            "tickcolor": "rgb(51,51,51)",
            "ticks": "outside"
           },
           "baxis": {
            "gridcolor": "white",
            "linecolor": "white",
            "showgrid": true,
            "tickcolor": "rgb(51,51,51)",
            "ticks": "outside"
           },
           "bgcolor": "rgb(237,237,237)",
           "caxis": {
            "gridcolor": "white",
            "linecolor": "white",
            "showgrid": true,
            "tickcolor": "rgb(51,51,51)",
            "ticks": "outside"
           }
          },
          "xaxis": {
           "automargin": true,
           "gridcolor": "white",
           "linecolor": "white",
           "showgrid": true,
           "tickcolor": "rgb(51,51,51)",
           "ticks": "outside",
           "title": {
            "standoff": 15
           },
           "zerolinecolor": "white"
          },
          "yaxis": {
           "automargin": true,
           "gridcolor": "white",
           "linecolor": "white",
           "showgrid": true,
           "tickcolor": "rgb(51,51,51)",
           "ticks": "outside",
           "title": {
            "standoff": 15
           },
           "zerolinecolor": "white"
          }
         }
        },
        "xaxis": {
         "anchor": "y",
         "domain": [
          0.0,
          1.0
         ],
         "title": {
          "text": "Year"
         },
         "range": [
          1895,
          2025
         ]
        },
        "yaxis": {
         "anchor": "x",
         "domain": [
          0.0,
          1.0
         ],
         "title": {
          "text": "Percentage"
         }
        },
        "legend": {
         "title": {
          "text": "Race"
         },
         "tracegroupgap": 0
        },
        "title": {
         "text": "U.S. Census Population by Race as a Percentage of Total Population"
        },
        "barmode": "relative"
       },
       "config": {
        "plotlyServerURL": "https://plot.ly"
       }
      },
      "text/html": "<div>                            <div id=\"8ae97345-ea7b-4a5a-84fd-170bc772e1f2\" class=\"plotly-graph-div\" style=\"height:525px; width:100%;\"></div>            <script type=\"text/javascript\">                require([\"plotly\"], function(Plotly) {                    window.PLOTLYENV=window.PLOTLYENV || {};                                    if (document.getElementById(\"8ae97345-ea7b-4a5a-84fd-170bc772e1f2\")) {                    Plotly.newPlot(                        \"8ae97345-ea7b-4a5a-84fd-170bc772e1f2\",                        [{\"alignmentgroup\":\"True\",\"hovertemplate\":\"Race=Other<br>Year=%{x}<br>Percentage=%{y}<extra></extra>\",\"legendgroup\":\"Other\",\"marker\":{\"color\":\"#4C78A8\",\"pattern\":{\"shape\":\"\"}},\"name\":\"Other\",\"offsetgroup\":\"Other\",\"orientation\":\"v\",\"showlegend\":true,\"textposition\":\"auto\",\"x\":[1930,1920,1940,1850,1860,1880,1890,1900,1910,1870,1950,1960,1970,1980,1990,2000,2010,2020],\"xaxis\":\"x\",\"y\":[0.0,0.0,0.0,0.0,0.0,0.0,0.0,0.0,0.0,0.0,0.03,0.05,0.11,2.9,3.78,7.4,8.46,16.21],\"yaxis\":\"y\",\"type\":\"bar\"},{\"alignmentgroup\":\"True\",\"hovertemplate\":\"Race=American Indian Eskimo and Aleut\\u00a0<br>Year=%{x}<br>Percentage=%{y}<extra></extra>\",\"legendgroup\":\"American Indian Eskimo and Aleut\\u00a0\",\"marker\":{\"color\":\"#F58518\",\"pattern\":{\"shape\":\"\"}},\"name\":\"American Indian Eskimo and Aleut\\u00a0\",\"offsetgroup\":\"American Indian Eskimo and Aleut\\u00a0\",\"orientation\":\"v\",\"showlegend\":true,\"textposition\":\"auto\",\"x\":[1850,1870,1880,1860,1950,1920,1940,1910,1900,1930,1960,1970,1890,1980,1990,2000,2010,2020],\"xaxis\":\"x\",\"y\":[0.0,0.1,0.13,0.18,0.23,0.23,0.25,0.29,0.31,0.31,0.31,0.39,0.48,0.61,0.75,0.83,0.88,0.98],\"yaxis\":\"y\",\"type\":\"bar\"},{\"alignmentgroup\":\"True\",\"hovertemplate\":\"Race=Asian and Pacific Islander\\u00a0<br>Year=%{x}<br>Percentage=%{y}<extra></extra>\",\"legendgroup\":\"Asian and Pacific Islander\\u00a0\",\"marker\":{\"color\":\"#E45756\",\"pattern\":{\"shape\":\"\"}},\"name\":\"Asian and Pacific Islander\\u00a0\",\"offsetgroup\":\"Asian and Pacific Islander\\u00a0\",\"orientation\":\"v\",\"showlegend\":true,\"textposition\":\"auto\",\"x\":[1850,1860,1900,1910,1920,1940,1880,1950,1890,1930,1870,1960,1970,1980,1990,2000,2010,2020],\"xaxis\":\"x\",\"y\":[0.0,0.14,0.15,0.16,0.17,0.19,0.21,0.21,0.21,0.25,0.26,0.55,0.75,1.5,2.8,3.55,4.58,5.4],\"yaxis\":\"y\",\"type\":\"bar\"},{\"alignmentgroup\":\"True\",\"hovertemplate\":\"Race=Hispanic (of any race)<br>Year=%{x}<br>Percentage=%{y}<extra></extra>\",\"legendgroup\":\"Hispanic (of any race)\",\"marker\":{\"color\":\"#72B7B2\",\"pattern\":{\"shape\":\"\"}},\"name\":\"Hispanic (of any race)\",\"offsetgroup\":\"Hispanic (of any race)\",\"orientation\":\"v\",\"showlegend\":true,\"textposition\":\"auto\",\"x\":[1850,1870,1860,1900,1890,1880,1910,1930,1920,1940,1950,1960,1970,1980,1990,2000,2010,2020],\"xaxis\":\"x\",\"y\":[0.5,0.63,0.64,0.66,0.77,0.78,0.87,1.2,1.22,1.53,2.14,3.24,4.38,6.27,8.61,11.78,15.18,16.3],\"yaxis\":\"y\",\"type\":\"bar\"},{\"alignmentgroup\":\"True\",\"hovertemplate\":\"Race=Black\\u00a0<br>Year=%{x}<br>Percentage=%{y}<extra></extra>\",\"legendgroup\":\"Black\\u00a0\",\"marker\":{\"color\":\"#54A24B\",\"pattern\":{\"shape\":\"\"}},\"name\":\"Black\\u00a0\",\"offsetgroup\":\"Black\\u00a0\",\"orientation\":\"v\",\"showlegend\":true,\"textposition\":\"auto\",\"x\":[1940,1920,1950,1960,1910,2020,1930,1970,1980,1990,2000,1900,2010,1880,1890,1850,1860,1870],\"xaxis\":\"x\",\"y\":[9.77,9.89,9.98,10.51,10.67,10.79,11.07,11.07,11.37,11.56,11.56,11.61,11.71,13.11,14.6,15.69,18.42,19.87],\"yaxis\":\"y\",\"type\":\"bar\"},{\"alignmentgroup\":\"True\",\"hovertemplate\":\"Race=Non-Hispanic White<br>Year=%{x}<br>Percentage=%{y}<extra></extra>\",\"legendgroup\":\"Non-Hispanic White\",\"marker\":{\"color\":\"#EECA3B\",\"pattern\":{\"shape\":\"\"}},\"name\":\"Non-Hispanic White\",\"offsetgroup\":\"Non-Hispanic White\",\"orientation\":\"v\",\"showlegend\":true,\"textposition\":\"auto\",\"x\":[2020,2010,2000,1990,1980,1870,1860,1970,1850,1890,1960,1880,1930,1900,1950,1910,1940,1920],\"xaxis\":\"x\",\"y\":[50.32,59.2,64.89,72.49,77.35,79.14,80.61,83.3,83.81,83.94,85.35,85.77,87.17,87.26,87.41,88.01,88.25,88.49],\"yaxis\":\"y\",\"type\":\"bar\"}],                        {\"template\":{\"data\":{\"barpolar\":[{\"marker\":{\"line\":{\"color\":\"rgb(237,237,237)\",\"width\":0.5},\"pattern\":{\"fillmode\":\"overlay\",\"size\":10,\"solidity\":0.2}},\"type\":\"barpolar\"}],\"bar\":[{\"error_x\":{\"color\":\"rgb(51,51,51)\"},\"error_y\":{\"color\":\"rgb(51,51,51)\"},\"marker\":{\"line\":{\"color\":\"rgb(237,237,237)\",\"width\":0.5},\"pattern\":{\"fillmode\":\"overlay\",\"size\":10,\"solidity\":0.2}},\"type\":\"bar\"}],\"carpet\":[{\"aaxis\":{\"endlinecolor\":\"rgb(51,51,51)\",\"gridcolor\":\"white\",\"linecolor\":\"white\",\"minorgridcolor\":\"white\",\"startlinecolor\":\"rgb(51,51,51)\"},\"baxis\":{\"endlinecolor\":\"rgb(51,51,51)\",\"gridcolor\":\"white\",\"linecolor\":\"white\",\"minorgridcolor\":\"white\",\"startlinecolor\":\"rgb(51,51,51)\"},\"type\":\"carpet\"}],\"choropleth\":[{\"colorbar\":{\"outlinewidth\":0,\"tickcolor\":\"rgb(237,237,237)\",\"ticklen\":6,\"ticks\":\"inside\"},\"type\":\"choropleth\"}],\"contourcarpet\":[{\"colorbar\":{\"outlinewidth\":0,\"tickcolor\":\"rgb(237,237,237)\",\"ticklen\":6,\"ticks\":\"inside\"},\"type\":\"contourcarpet\"}],\"contour\":[{\"colorbar\":{\"outlinewidth\":0,\"tickcolor\":\"rgb(237,237,237)\",\"ticklen\":6,\"ticks\":\"inside\"},\"colorscale\":[[0,\"rgb(20,44,66)\"],[1,\"rgb(90,179,244)\"]],\"type\":\"contour\"}],\"heatmapgl\":[{\"colorbar\":{\"outlinewidth\":0,\"tickcolor\":\"rgb(237,237,237)\",\"ticklen\":6,\"ticks\":\"inside\"},\"colorscale\":[[0,\"rgb(20,44,66)\"],[1,\"rgb(90,179,244)\"]],\"type\":\"heatmapgl\"}],\"heatmap\":[{\"colorbar\":{\"outlinewidth\":0,\"tickcolor\":\"rgb(237,237,237)\",\"ticklen\":6,\"ticks\":\"inside\"},\"colorscale\":[[0,\"rgb(20,44,66)\"],[1,\"rgb(90,179,244)\"]],\"type\":\"heatmap\"}],\"histogram2dcontour\":[{\"colorbar\":{\"outlinewidth\":0,\"tickcolor\":\"rgb(237,237,237)\",\"ticklen\":6,\"ticks\":\"inside\"},\"colorscale\":[[0,\"rgb(20,44,66)\"],[1,\"rgb(90,179,244)\"]],\"type\":\"histogram2dcontour\"}],\"histogram2d\":[{\"colorbar\":{\"outlinewidth\":0,\"tickcolor\":\"rgb(237,237,237)\",\"ticklen\":6,\"ticks\":\"inside\"},\"colorscale\":[[0,\"rgb(20,44,66)\"],[1,\"rgb(90,179,244)\"]],\"type\":\"histogram2d\"}],\"histogram\":[{\"marker\":{\"pattern\":{\"fillmode\":\"overlay\",\"size\":10,\"solidity\":0.2}},\"type\":\"histogram\"}],\"mesh3d\":[{\"colorbar\":{\"outlinewidth\":0,\"tickcolor\":\"rgb(237,237,237)\",\"ticklen\":6,\"ticks\":\"inside\"},\"type\":\"mesh3d\"}],\"parcoords\":[{\"line\":{\"colorbar\":{\"outlinewidth\":0,\"tickcolor\":\"rgb(237,237,237)\",\"ticklen\":6,\"ticks\":\"inside\"}},\"type\":\"parcoords\"}],\"pie\":[{\"automargin\":true,\"type\":\"pie\"}],\"scatter3d\":[{\"line\":{\"colorbar\":{\"outlinewidth\":0,\"tickcolor\":\"rgb(237,237,237)\",\"ticklen\":6,\"ticks\":\"inside\"}},\"marker\":{\"colorbar\":{\"outlinewidth\":0,\"tickcolor\":\"rgb(237,237,237)\",\"ticklen\":6,\"ticks\":\"inside\"}},\"type\":\"scatter3d\"}],\"scattercarpet\":[{\"marker\":{\"colorbar\":{\"outlinewidth\":0,\"tickcolor\":\"rgb(237,237,237)\",\"ticklen\":6,\"ticks\":\"inside\"}},\"type\":\"scattercarpet\"}],\"scattergeo\":[{\"marker\":{\"colorbar\":{\"outlinewidth\":0,\"tickcolor\":\"rgb(237,237,237)\",\"ticklen\":6,\"ticks\":\"inside\"}},\"type\":\"scattergeo\"}],\"scattergl\":[{\"marker\":{\"colorbar\":{\"outlinewidth\":0,\"tickcolor\":\"rgb(237,237,237)\",\"ticklen\":6,\"ticks\":\"inside\"}},\"type\":\"scattergl\"}],\"scattermapbox\":[{\"marker\":{\"colorbar\":{\"outlinewidth\":0,\"tickcolor\":\"rgb(237,237,237)\",\"ticklen\":6,\"ticks\":\"inside\"}},\"type\":\"scattermapbox\"}],\"scatterpolargl\":[{\"marker\":{\"colorbar\":{\"outlinewidth\":0,\"tickcolor\":\"rgb(237,237,237)\",\"ticklen\":6,\"ticks\":\"inside\"}},\"type\":\"scatterpolargl\"}],\"scatterpolar\":[{\"marker\":{\"colorbar\":{\"outlinewidth\":0,\"tickcolor\":\"rgb(237,237,237)\",\"ticklen\":6,\"ticks\":\"inside\"}},\"type\":\"scatterpolar\"}],\"scatter\":[{\"marker\":{\"colorbar\":{\"outlinewidth\":0,\"tickcolor\":\"rgb(237,237,237)\",\"ticklen\":6,\"ticks\":\"inside\"}},\"type\":\"scatter\"}],\"scatterternary\":[{\"marker\":{\"colorbar\":{\"outlinewidth\":0,\"tickcolor\":\"rgb(237,237,237)\",\"ticklen\":6,\"ticks\":\"inside\"}},\"type\":\"scatterternary\"}],\"surface\":[{\"colorbar\":{\"outlinewidth\":0,\"tickcolor\":\"rgb(237,237,237)\",\"ticklen\":6,\"ticks\":\"inside\"},\"colorscale\":[[0,\"rgb(20,44,66)\"],[1,\"rgb(90,179,244)\"]],\"type\":\"surface\"}],\"table\":[{\"cells\":{\"fill\":{\"color\":\"rgb(237,237,237)\"},\"line\":{\"color\":\"white\"}},\"header\":{\"fill\":{\"color\":\"rgb(217,217,217)\"},\"line\":{\"color\":\"white\"}},\"type\":\"table\"}]},\"layout\":{\"annotationdefaults\":{\"arrowhead\":0,\"arrowwidth\":1},\"autotypenumbers\":\"strict\",\"coloraxis\":{\"colorbar\":{\"outlinewidth\":0,\"tickcolor\":\"rgb(237,237,237)\",\"ticklen\":6,\"ticks\":\"inside\"}},\"colorscale\":{\"sequential\":[[0,\"rgb(20,44,66)\"],[1,\"rgb(90,179,244)\"]],\"sequentialminus\":[[0,\"rgb(20,44,66)\"],[1,\"rgb(90,179,244)\"]]},\"colorway\":[\"#F8766D\",\"#A3A500\",\"#00BF7D\",\"#00B0F6\",\"#E76BF3\"],\"font\":{\"color\":\"rgb(51,51,51)\"},\"geo\":{\"bgcolor\":\"white\",\"lakecolor\":\"white\",\"landcolor\":\"rgb(237,237,237)\",\"showlakes\":true,\"showland\":true,\"subunitcolor\":\"white\"},\"hoverlabel\":{\"align\":\"left\"},\"hovermode\":\"closest\",\"paper_bgcolor\":\"white\",\"plot_bgcolor\":\"rgb(237,237,237)\",\"polar\":{\"angularaxis\":{\"gridcolor\":\"white\",\"linecolor\":\"white\",\"showgrid\":true,\"tickcolor\":\"rgb(51,51,51)\",\"ticks\":\"outside\"},\"bgcolor\":\"rgb(237,237,237)\",\"radialaxis\":{\"gridcolor\":\"white\",\"linecolor\":\"white\",\"showgrid\":true,\"tickcolor\":\"rgb(51,51,51)\",\"ticks\":\"outside\"}},\"scene\":{\"xaxis\":{\"backgroundcolor\":\"rgb(237,237,237)\",\"gridcolor\":\"white\",\"gridwidth\":2,\"linecolor\":\"white\",\"showbackground\":true,\"showgrid\":true,\"tickcolor\":\"rgb(51,51,51)\",\"ticks\":\"outside\",\"zerolinecolor\":\"white\"},\"yaxis\":{\"backgroundcolor\":\"rgb(237,237,237)\",\"gridcolor\":\"white\",\"gridwidth\":2,\"linecolor\":\"white\",\"showbackground\":true,\"showgrid\":true,\"tickcolor\":\"rgb(51,51,51)\",\"ticks\":\"outside\",\"zerolinecolor\":\"white\"},\"zaxis\":{\"backgroundcolor\":\"rgb(237,237,237)\",\"gridcolor\":\"white\",\"gridwidth\":2,\"linecolor\":\"white\",\"showbackground\":true,\"showgrid\":true,\"tickcolor\":\"rgb(51,51,51)\",\"ticks\":\"outside\",\"zerolinecolor\":\"white\"}},\"shapedefaults\":{\"fillcolor\":\"black\",\"line\":{\"width\":0},\"opacity\":0.3},\"ternary\":{\"aaxis\":{\"gridcolor\":\"white\",\"linecolor\":\"white\",\"showgrid\":true,\"tickcolor\":\"rgb(51,51,51)\",\"ticks\":\"outside\"},\"baxis\":{\"gridcolor\":\"white\",\"linecolor\":\"white\",\"showgrid\":true,\"tickcolor\":\"rgb(51,51,51)\",\"ticks\":\"outside\"},\"bgcolor\":\"rgb(237,237,237)\",\"caxis\":{\"gridcolor\":\"white\",\"linecolor\":\"white\",\"showgrid\":true,\"tickcolor\":\"rgb(51,51,51)\",\"ticks\":\"outside\"}},\"xaxis\":{\"automargin\":true,\"gridcolor\":\"white\",\"linecolor\":\"white\",\"showgrid\":true,\"tickcolor\":\"rgb(51,51,51)\",\"ticks\":\"outside\",\"title\":{\"standoff\":15},\"zerolinecolor\":\"white\"},\"yaxis\":{\"automargin\":true,\"gridcolor\":\"white\",\"linecolor\":\"white\",\"showgrid\":true,\"tickcolor\":\"rgb(51,51,51)\",\"ticks\":\"outside\",\"title\":{\"standoff\":15},\"zerolinecolor\":\"white\"}}},\"xaxis\":{\"anchor\":\"y\",\"domain\":[0.0,1.0],\"title\":{\"text\":\"Year\"},\"range\":[1895,2025]},\"yaxis\":{\"anchor\":\"x\",\"domain\":[0.0,1.0],\"title\":{\"text\":\"Percentage\"}},\"legend\":{\"title\":{\"text\":\"Race\"},\"tracegroupgap\":0},\"title\":{\"text\":\"U.S. Census Population by Race as a Percentage of Total Population\"},\"barmode\":\"relative\"},                        {\"responsive\": true}                    ).then(function(){\n                            \nvar gd = document.getElementById('8ae97345-ea7b-4a5a-84fd-170bc772e1f2');\nvar x = new MutationObserver(function (mutations, observer) {{\n        var display = window.getComputedStyle(gd).display;\n        if (!display || display === 'none') {{\n            console.log([gd, 'removed!']);\n            Plotly.purge(gd);\n            observer.disconnect();\n        }}\n}});\n\n// Listen for the removal of the full notebook cells\nvar notebookContainer = gd.closest('#notebook-container');\nif (notebookContainer) {{\n    x.observe(notebookContainer, {childList: true});\n}}\n\n// Listen for the clearing of the current output cell\nvar outputEl = gd.closest('.output');\nif (outputEl) {{\n    x.observe(outputEl, {childList: true});\n}}\n\n                        })                };                });            </script>        </div>"
     },
     "metadata": {},
     "output_type": "display_data"
    }
   ],
   "source": [
    "wide_df = px.data.medals_wide()\n",
    "\n",
    "usa_pop = usa_pop.sort_values(by='Percentage', ascending = True)\n",
    "fig = px.bar(usa_pop, x=\"Year\",y='Percentage', color=\"Race\", title=\"U.S. Census Population by Race as a Percentage of Total Population\", range_x=[1895, 2025],\n",
    "      color_discrete_sequence=px.colors.qualitative.T10, template= 'ggplot2')\n",
    "fig.show()\n",
    "fig.write_html((Path('/Users/ianapeix/ADA2022/html/US_Census_Percentage')))"
   ],
   "metadata": {
    "collapsed": false
   }
  },
  {
   "cell_type": "code",
   "execution_count": 69,
   "outputs": [
    {
     "data": {
      "text/plain": "              Entity Code  Year  Mean male height (cm)  \\\n19998  United States  USA  1896             171.079272   \n19999  United States  USA  1897             171.179657   \n20000  United States  USA  1898             171.280292   \n20001  United States  USA  1899             171.381148   \n20002  United States  USA  1900             171.482114   \n...              ...  ...   ...                    ...   \n20094  United States  USA  1992             177.243253   \n20095  United States  USA  1993             177.214932   \n20096  United States  USA  1994             177.186675   \n20097  United States  USA  1995             177.158675   \n20098  United States  USA  1996             177.130396   \n\n       Mean female height (cm)  \n19998               158.514920  \n19999               158.570227  \n20000               158.625834  \n20001               158.681789  \n20002               158.737983  \n...                        ...  \n20094               163.613066  \n20095               163.594907  \n20096               163.575945  \n20097               163.557090  \n20098               163.538137  \n\n[101 rows x 5 columns]",
      "text/html": "<div>\n<style scoped>\n    .dataframe tbody tr th:only-of-type {\n        vertical-align: middle;\n    }\n\n    .dataframe tbody tr th {\n        vertical-align: top;\n    }\n\n    .dataframe thead th {\n        text-align: right;\n    }\n</style>\n<table border=\"1\" class=\"dataframe\">\n  <thead>\n    <tr style=\"text-align: right;\">\n      <th></th>\n      <th>Entity</th>\n      <th>Code</th>\n      <th>Year</th>\n      <th>Mean male height (cm)</th>\n      <th>Mean female height (cm)</th>\n    </tr>\n  </thead>\n  <tbody>\n    <tr>\n      <th>19998</th>\n      <td>United States</td>\n      <td>USA</td>\n      <td>1896</td>\n      <td>171.079272</td>\n      <td>158.514920</td>\n    </tr>\n    <tr>\n      <th>19999</th>\n      <td>United States</td>\n      <td>USA</td>\n      <td>1897</td>\n      <td>171.179657</td>\n      <td>158.570227</td>\n    </tr>\n    <tr>\n      <th>20000</th>\n      <td>United States</td>\n      <td>USA</td>\n      <td>1898</td>\n      <td>171.280292</td>\n      <td>158.625834</td>\n    </tr>\n    <tr>\n      <th>20001</th>\n      <td>United States</td>\n      <td>USA</td>\n      <td>1899</td>\n      <td>171.381148</td>\n      <td>158.681789</td>\n    </tr>\n    <tr>\n      <th>20002</th>\n      <td>United States</td>\n      <td>USA</td>\n      <td>1900</td>\n      <td>171.482114</td>\n      <td>158.737983</td>\n    </tr>\n    <tr>\n      <th>...</th>\n      <td>...</td>\n      <td>...</td>\n      <td>...</td>\n      <td>...</td>\n      <td>...</td>\n    </tr>\n    <tr>\n      <th>20094</th>\n      <td>United States</td>\n      <td>USA</td>\n      <td>1992</td>\n      <td>177.243253</td>\n      <td>163.613066</td>\n    </tr>\n    <tr>\n      <th>20095</th>\n      <td>United States</td>\n      <td>USA</td>\n      <td>1993</td>\n      <td>177.214932</td>\n      <td>163.594907</td>\n    </tr>\n    <tr>\n      <th>20096</th>\n      <td>United States</td>\n      <td>USA</td>\n      <td>1994</td>\n      <td>177.186675</td>\n      <td>163.575945</td>\n    </tr>\n    <tr>\n      <th>20097</th>\n      <td>United States</td>\n      <td>USA</td>\n      <td>1995</td>\n      <td>177.158675</td>\n      <td>163.557090</td>\n    </tr>\n    <tr>\n      <th>20098</th>\n      <td>United States</td>\n      <td>USA</td>\n      <td>1996</td>\n      <td>177.130396</td>\n      <td>163.538137</td>\n    </tr>\n  </tbody>\n</table>\n<p>101 rows × 5 columns</p>\n</div>"
     },
     "execution_count": 69,
     "metadata": {},
     "output_type": "execute_result"
    }
   ],
   "source": [
    "#Get movie height\n",
    "height = pd.read_csv('/Users/ianapeix/Downloads/average-height-by-year-of-birth.csv', sep=',')\n",
    "height = height[height['Code']== 'USA']\n",
    "height"
   ],
   "metadata": {
    "collapsed": false
   }
  },
  {
   "cell_type": "code",
   "execution_count": 121,
   "outputs": [
    {
     "data": {
      "application/vnd.plotly.v1+json": {
       "data": [
        {
         "hovertemplate": "variable=Mean male height (cm)<br>Year=%{x}<br>value=%{y}<extra></extra>",
         "legendgroup": "Mean male height (cm)",
         "line": {
          "color": "#4C78A8",
          "dash": "solid"
         },
         "marker": {
          "symbol": "circle"
         },
         "mode": "lines",
         "name": "Mean male height (cm)",
         "orientation": "v",
         "showlegend": true,
         "x": [
          1896,
          1897,
          1898,
          1899,
          1900,
          1901,
          1902,
          1903,
          1904,
          1905,
          1906,
          1907,
          1908,
          1909,
          1910,
          1911,
          1912,
          1913,
          1914,
          1915,
          1916,
          1917,
          1918,
          1919,
          1920,
          1921,
          1922,
          1923,
          1924,
          1925,
          1926,
          1927,
          1928,
          1929,
          1930,
          1931,
          1932,
          1933,
          1934,
          1935,
          1936,
          1937,
          1938,
          1939,
          1940,
          1941,
          1942,
          1943,
          1944,
          1945,
          1946,
          1947,
          1948,
          1949,
          1950,
          1951,
          1952,
          1953,
          1954,
          1955,
          1956,
          1957,
          1958,
          1959,
          1960,
          1961,
          1962,
          1963,
          1964,
          1965,
          1966,
          1967,
          1968,
          1969,
          1970,
          1971,
          1972,
          1973,
          1974,
          1975,
          1976,
          1977,
          1978,
          1979,
          1980,
          1981,
          1982,
          1983,
          1984,
          1985,
          1986,
          1987,
          1988,
          1989,
          1990,
          1991,
          1992,
          1993,
          1994,
          1995,
          1996
         ],
         "xaxis": "x",
         "y": [
          171.0792721,
          171.1796572,
          171.2802918,
          171.3811476,
          171.4821139,
          171.5842776,
          171.6877163,
          171.7917872,
          171.89591,
          171.9994376,
          172.1018035,
          172.2037162,
          172.3069582,
          172.4116197,
          172.5187618,
          172.6304706,
          172.7483194,
          172.8716868,
          172.9999456,
          173.1324354,
          173.2680352,
          173.4056226,
          173.5448845,
          173.6839404,
          173.8238223,
          173.9646163,
          174.1059074,
          174.2465171,
          174.3868179,
          174.5285967,
          174.6722115,
          174.8173683,
          174.9630382,
          175.107599,
          175.2495456,
          175.386848,
          175.5174002,
          175.641858,
          175.7623659,
          175.8794915,
          175.9925714,
          176.1019456,
          176.2081263,
          176.3090962,
          176.4034355,
          176.4906101,
          176.5717426,
          176.6488946,
          176.7214462,
          176.7894872,
          176.8535929,
          176.9128913,
          176.9676452,
          177.0172314,
          177.0620321,
          177.1013946,
          177.1354648,
          177.1665777,
          177.1939796,
          177.2172584,
          177.2352932,
          177.2500463,
          177.262802,
          177.2741932,
          177.2857682,
          177.2983877,
          177.3116616,
          177.3245309,
          177.3346537,
          177.3427059,
          177.3497888,
          177.3575012,
          177.3670229,
          177.3800515,
          177.3966703,
          177.4162612,
          177.4386136,
          177.4626156,
          177.4863176,
          177.5074667,
          177.5245603,
          177.5357707,
          177.5404138,
          177.5386477,
          177.5316749,
          177.521189,
          177.5084911,
          177.4927975,
          177.4738922,
          177.4512224,
          177.4249189,
          177.395842,
          177.3650173,
          177.3342194,
          177.3029732,
          177.2726301,
          177.2432528,
          177.214932,
          177.1866753,
          177.1586751,
          177.1303957
         ],
         "yaxis": "y",
         "type": "scatter"
        },
        {
         "hovertemplate": "variable=Mean female height (cm)<br>Year=%{x}<br>value=%{y}<extra></extra>",
         "legendgroup": "Mean female height (cm)",
         "line": {
          "color": "#F58518",
          "dash": "solid"
         },
         "marker": {
          "symbol": "circle"
         },
         "mode": "lines",
         "name": "Mean female height (cm)",
         "orientation": "v",
         "showlegend": true,
         "x": [
          1896,
          1897,
          1898,
          1899,
          1900,
          1901,
          1902,
          1903,
          1904,
          1905,
          1906,
          1907,
          1908,
          1909,
          1910,
          1911,
          1912,
          1913,
          1914,
          1915,
          1916,
          1917,
          1918,
          1919,
          1920,
          1921,
          1922,
          1923,
          1924,
          1925,
          1926,
          1927,
          1928,
          1929,
          1930,
          1931,
          1932,
          1933,
          1934,
          1935,
          1936,
          1937,
          1938,
          1939,
          1940,
          1941,
          1942,
          1943,
          1944,
          1945,
          1946,
          1947,
          1948,
          1949,
          1950,
          1951,
          1952,
          1953,
          1954,
          1955,
          1956,
          1957,
          1958,
          1959,
          1960,
          1961,
          1962,
          1963,
          1964,
          1965,
          1966,
          1967,
          1968,
          1969,
          1970,
          1971,
          1972,
          1973,
          1974,
          1975,
          1976,
          1977,
          1978,
          1979,
          1980,
          1981,
          1982,
          1983,
          1984,
          1985,
          1986,
          1987,
          1988,
          1989,
          1990,
          1991,
          1992,
          1993,
          1994,
          1995,
          1996
         ],
         "xaxis": "x",
         "y": [
          158.5149202,
          158.570227,
          158.6258337,
          158.6817892,
          158.7379826,
          158.7946488,
          158.8519307,
          158.9097148,
          158.9674902,
          159.0254013,
          159.0842634,
          159.1443021,
          159.205684,
          159.2686861,
          159.3352641,
          159.4073437,
          159.4860895,
          159.5714226,
          159.6632137,
          159.7612472,
          159.8653048,
          159.9744871,
          160.0877143,
          160.203785,
          160.3230439,
          160.4455993,
          160.571542,
          160.6999815,
          160.8310457,
          160.9667454,
          161.1063878,
          161.2491793,
          161.3947889,
          161.5424551,
          161.6903618,
          161.8342713,
          161.9731121,
          162.1072319,
          162.2375146,
          162.3643622,
          162.4875695,
          162.6063426,
          162.7182057,
          162.8207812,
          162.9116466,
          162.9892962,
          163.0547284,
          163.109915,
          163.156598,
          163.1969444,
          163.2328798,
          163.2653777,
          163.2955378,
          163.3249536,
          163.3556881,
          163.3884336,
          163.4227891,
          163.4599088,
          163.4993304,
          163.5402475,
          163.581138,
          163.6229608,
          163.6660956,
          163.7103523,
          163.7560413,
          163.8033713,
          163.8504799,
          163.8946344,
          163.9329369,
          163.9635679,
          163.9858822,
          164.001392,
          164.010634,
          164.0151908,
          164.0152413,
          164.011885,
          164.0057858,
          163.9972252,
          163.9858725,
          163.9710964,
          163.9522138,
          163.9289888,
          163.9012199,
          163.8704795,
          163.8395878,
          163.810141,
          163.7839652,
          163.7623237,
          163.7440451,
          163.7280746,
          163.713464,
          163.6990998,
          163.6833993,
          163.666719,
          163.6487848,
          163.6310216,
          163.613066,
          163.5949072,
          163.5759447,
          163.55709,
          163.5381372
         ],
         "yaxis": "y",
         "type": "scatter"
        }
       ],
       "layout": {
        "template": {
         "data": {
          "barpolar": [
           {
            "marker": {
             "line": {
              "color": "rgb(237,237,237)",
              "width": 0.5
             },
             "pattern": {
              "fillmode": "overlay",
              "size": 10,
              "solidity": 0.2
             }
            },
            "type": "barpolar"
           }
          ],
          "bar": [
           {
            "error_x": {
             "color": "rgb(51,51,51)"
            },
            "error_y": {
             "color": "rgb(51,51,51)"
            },
            "marker": {
             "line": {
              "color": "rgb(237,237,237)",
              "width": 0.5
             },
             "pattern": {
              "fillmode": "overlay",
              "size": 10,
              "solidity": 0.2
             }
            },
            "type": "bar"
           }
          ],
          "carpet": [
           {
            "aaxis": {
             "endlinecolor": "rgb(51,51,51)",
             "gridcolor": "white",
             "linecolor": "white",
             "minorgridcolor": "white",
             "startlinecolor": "rgb(51,51,51)"
            },
            "baxis": {
             "endlinecolor": "rgb(51,51,51)",
             "gridcolor": "white",
             "linecolor": "white",
             "minorgridcolor": "white",
             "startlinecolor": "rgb(51,51,51)"
            },
            "type": "carpet"
           }
          ],
          "choropleth": [
           {
            "colorbar": {
             "outlinewidth": 0,
             "tickcolor": "rgb(237,237,237)",
             "ticklen": 6,
             "ticks": "inside"
            },
            "type": "choropleth"
           }
          ],
          "contourcarpet": [
           {
            "colorbar": {
             "outlinewidth": 0,
             "tickcolor": "rgb(237,237,237)",
             "ticklen": 6,
             "ticks": "inside"
            },
            "type": "contourcarpet"
           }
          ],
          "contour": [
           {
            "colorbar": {
             "outlinewidth": 0,
             "tickcolor": "rgb(237,237,237)",
             "ticklen": 6,
             "ticks": "inside"
            },
            "colorscale": [
             [
              0,
              "rgb(20,44,66)"
             ],
             [
              1,
              "rgb(90,179,244)"
             ]
            ],
            "type": "contour"
           }
          ],
          "heatmapgl": [
           {
            "colorbar": {
             "outlinewidth": 0,
             "tickcolor": "rgb(237,237,237)",
             "ticklen": 6,
             "ticks": "inside"
            },
            "colorscale": [
             [
              0,
              "rgb(20,44,66)"
             ],
             [
              1,
              "rgb(90,179,244)"
             ]
            ],
            "type": "heatmapgl"
           }
          ],
          "heatmap": [
           {
            "colorbar": {
             "outlinewidth": 0,
             "tickcolor": "rgb(237,237,237)",
             "ticklen": 6,
             "ticks": "inside"
            },
            "colorscale": [
             [
              0,
              "rgb(20,44,66)"
             ],
             [
              1,
              "rgb(90,179,244)"
             ]
            ],
            "type": "heatmap"
           }
          ],
          "histogram2dcontour": [
           {
            "colorbar": {
             "outlinewidth": 0,
             "tickcolor": "rgb(237,237,237)",
             "ticklen": 6,
             "ticks": "inside"
            },
            "colorscale": [
             [
              0,
              "rgb(20,44,66)"
             ],
             [
              1,
              "rgb(90,179,244)"
             ]
            ],
            "type": "histogram2dcontour"
           }
          ],
          "histogram2d": [
           {
            "colorbar": {
             "outlinewidth": 0,
             "tickcolor": "rgb(237,237,237)",
             "ticklen": 6,
             "ticks": "inside"
            },
            "colorscale": [
             [
              0,
              "rgb(20,44,66)"
             ],
             [
              1,
              "rgb(90,179,244)"
             ]
            ],
            "type": "histogram2d"
           }
          ],
          "histogram": [
           {
            "marker": {
             "pattern": {
              "fillmode": "overlay",
              "size": 10,
              "solidity": 0.2
             }
            },
            "type": "histogram"
           }
          ],
          "mesh3d": [
           {
            "colorbar": {
             "outlinewidth": 0,
             "tickcolor": "rgb(237,237,237)",
             "ticklen": 6,
             "ticks": "inside"
            },
            "type": "mesh3d"
           }
          ],
          "parcoords": [
           {
            "line": {
             "colorbar": {
              "outlinewidth": 0,
              "tickcolor": "rgb(237,237,237)",
              "ticklen": 6,
              "ticks": "inside"
             }
            },
            "type": "parcoords"
           }
          ],
          "pie": [
           {
            "automargin": true,
            "type": "pie"
           }
          ],
          "scatter3d": [
           {
            "line": {
             "colorbar": {
              "outlinewidth": 0,
              "tickcolor": "rgb(237,237,237)",
              "ticklen": 6,
              "ticks": "inside"
             }
            },
            "marker": {
             "colorbar": {
              "outlinewidth": 0,
              "tickcolor": "rgb(237,237,237)",
              "ticklen": 6,
              "ticks": "inside"
             }
            },
            "type": "scatter3d"
           }
          ],
          "scattercarpet": [
           {
            "marker": {
             "colorbar": {
              "outlinewidth": 0,
              "tickcolor": "rgb(237,237,237)",
              "ticklen": 6,
              "ticks": "inside"
             }
            },
            "type": "scattercarpet"
           }
          ],
          "scattergeo": [
           {
            "marker": {
             "colorbar": {
              "outlinewidth": 0,
              "tickcolor": "rgb(237,237,237)",
              "ticklen": 6,
              "ticks": "inside"
             }
            },
            "type": "scattergeo"
           }
          ],
          "scattergl": [
           {
            "marker": {
             "colorbar": {
              "outlinewidth": 0,
              "tickcolor": "rgb(237,237,237)",
              "ticklen": 6,
              "ticks": "inside"
             }
            },
            "type": "scattergl"
           }
          ],
          "scattermapbox": [
           {
            "marker": {
             "colorbar": {
              "outlinewidth": 0,
              "tickcolor": "rgb(237,237,237)",
              "ticklen": 6,
              "ticks": "inside"
             }
            },
            "type": "scattermapbox"
           }
          ],
          "scatterpolargl": [
           {
            "marker": {
             "colorbar": {
              "outlinewidth": 0,
              "tickcolor": "rgb(237,237,237)",
              "ticklen": 6,
              "ticks": "inside"
             }
            },
            "type": "scatterpolargl"
           }
          ],
          "scatterpolar": [
           {
            "marker": {
             "colorbar": {
              "outlinewidth": 0,
              "tickcolor": "rgb(237,237,237)",
              "ticklen": 6,
              "ticks": "inside"
             }
            },
            "type": "scatterpolar"
           }
          ],
          "scatter": [
           {
            "marker": {
             "colorbar": {
              "outlinewidth": 0,
              "tickcolor": "rgb(237,237,237)",
              "ticklen": 6,
              "ticks": "inside"
             }
            },
            "type": "scatter"
           }
          ],
          "scatterternary": [
           {
            "marker": {
             "colorbar": {
              "outlinewidth": 0,
              "tickcolor": "rgb(237,237,237)",
              "ticklen": 6,
              "ticks": "inside"
             }
            },
            "type": "scatterternary"
           }
          ],
          "surface": [
           {
            "colorbar": {
             "outlinewidth": 0,
             "tickcolor": "rgb(237,237,237)",
             "ticklen": 6,
             "ticks": "inside"
            },
            "colorscale": [
             [
              0,
              "rgb(20,44,66)"
             ],
             [
              1,
              "rgb(90,179,244)"
             ]
            ],
            "type": "surface"
           }
          ],
          "table": [
           {
            "cells": {
             "fill": {
              "color": "rgb(237,237,237)"
             },
             "line": {
              "color": "white"
             }
            },
            "header": {
             "fill": {
              "color": "rgb(217,217,217)"
             },
             "line": {
              "color": "white"
             }
            },
            "type": "table"
           }
          ]
         },
         "layout": {
          "annotationdefaults": {
           "arrowhead": 0,
           "arrowwidth": 1
          },
          "autotypenumbers": "strict",
          "coloraxis": {
           "colorbar": {
            "outlinewidth": 0,
            "tickcolor": "rgb(237,237,237)",
            "ticklen": 6,
            "ticks": "inside"
           }
          },
          "colorscale": {
           "sequential": [
            [
             0,
             "rgb(20,44,66)"
            ],
            [
             1,
             "rgb(90,179,244)"
            ]
           ],
           "sequentialminus": [
            [
             0,
             "rgb(20,44,66)"
            ],
            [
             1,
             "rgb(90,179,244)"
            ]
           ]
          },
          "colorway": [
           "#F8766D",
           "#A3A500",
           "#00BF7D",
           "#00B0F6",
           "#E76BF3"
          ],
          "font": {
           "color": "rgb(51,51,51)"
          },
          "geo": {
           "bgcolor": "white",
           "lakecolor": "white",
           "landcolor": "rgb(237,237,237)",
           "showlakes": true,
           "showland": true,
           "subunitcolor": "white"
          },
          "hoverlabel": {
           "align": "left"
          },
          "hovermode": "closest",
          "paper_bgcolor": "white",
          "plot_bgcolor": "rgb(237,237,237)",
          "polar": {
           "angularaxis": {
            "gridcolor": "white",
            "linecolor": "white",
            "showgrid": true,
            "tickcolor": "rgb(51,51,51)",
            "ticks": "outside"
           },
           "bgcolor": "rgb(237,237,237)",
           "radialaxis": {
            "gridcolor": "white",
            "linecolor": "white",
            "showgrid": true,
            "tickcolor": "rgb(51,51,51)",
            "ticks": "outside"
           }
          },
          "scene": {
           "xaxis": {
            "backgroundcolor": "rgb(237,237,237)",
            "gridcolor": "white",
            "gridwidth": 2,
            "linecolor": "white",
            "showbackground": true,
            "showgrid": true,
            "tickcolor": "rgb(51,51,51)",
            "ticks": "outside",
            "zerolinecolor": "white"
           },
           "yaxis": {
            "backgroundcolor": "rgb(237,237,237)",
            "gridcolor": "white",
            "gridwidth": 2,
            "linecolor": "white",
            "showbackground": true,
            "showgrid": true,
            "tickcolor": "rgb(51,51,51)",
            "ticks": "outside",
            "zerolinecolor": "white"
           },
           "zaxis": {
            "backgroundcolor": "rgb(237,237,237)",
            "gridcolor": "white",
            "gridwidth": 2,
            "linecolor": "white",
            "showbackground": true,
            "showgrid": true,
            "tickcolor": "rgb(51,51,51)",
            "ticks": "outside",
            "zerolinecolor": "white"
           }
          },
          "shapedefaults": {
           "fillcolor": "black",
           "line": {
            "width": 0
           },
           "opacity": 0.3
          },
          "ternary": {
           "aaxis": {
            "gridcolor": "white",
            "linecolor": "white",
            "showgrid": true,
            "tickcolor": "rgb(51,51,51)",
            "ticks": "outside"
           },
           "baxis": {
            "gridcolor": "white",
            "linecolor": "white",
            "showgrid": true,
            "tickcolor": "rgb(51,51,51)",
            "ticks": "outside"
           },
           "bgcolor": "rgb(237,237,237)",
           "caxis": {
            "gridcolor": "white",
            "linecolor": "white",
            "showgrid": true,
            "tickcolor": "rgb(51,51,51)",
            "ticks": "outside"
           }
          },
          "xaxis": {
           "automargin": true,
           "gridcolor": "white",
           "linecolor": "white",
           "showgrid": true,
           "tickcolor": "rgb(51,51,51)",
           "ticks": "outside",
           "title": {
            "standoff": 15
           },
           "zerolinecolor": "white"
          },
          "yaxis": {
           "automargin": true,
           "gridcolor": "white",
           "linecolor": "white",
           "showgrid": true,
           "tickcolor": "rgb(51,51,51)",
           "ticks": "outside",
           "title": {
            "standoff": 15
           },
           "zerolinecolor": "white"
          }
         }
        },
        "xaxis": {
         "anchor": "y",
         "domain": [
          0.0,
          1.0
         ],
         "title": {
          "text": "Year"
         }
        },
        "yaxis": {
         "anchor": "x",
         "domain": [
          0.0,
          1.0
         ],
         "title": {
          "text": "value"
         }
        },
        "legend": {
         "title": {
          "text": "variable"
         },
         "tracegroupgap": 0
        },
        "title": {
         "text": "Average Height by Year of Birth in USA"
        }
       },
       "config": {
        "plotlyServerURL": "https://plot.ly"
       }
      },
      "text/html": "<div>                            <div id=\"3f0e33b0-5588-48aa-a730-17059372d0ba\" class=\"plotly-graph-div\" style=\"height:525px; width:100%;\"></div>            <script type=\"text/javascript\">                require([\"plotly\"], function(Plotly) {                    window.PLOTLYENV=window.PLOTLYENV || {};                                    if (document.getElementById(\"3f0e33b0-5588-48aa-a730-17059372d0ba\")) {                    Plotly.newPlot(                        \"3f0e33b0-5588-48aa-a730-17059372d0ba\",                        [{\"hovertemplate\":\"variable=Mean male height (cm)<br>Year=%{x}<br>value=%{y}<extra></extra>\",\"legendgroup\":\"Mean male height (cm)\",\"line\":{\"color\":\"#4C78A8\",\"dash\":\"solid\"},\"marker\":{\"symbol\":\"circle\"},\"mode\":\"lines\",\"name\":\"Mean male height (cm)\",\"orientation\":\"v\",\"showlegend\":true,\"x\":[1896,1897,1898,1899,1900,1901,1902,1903,1904,1905,1906,1907,1908,1909,1910,1911,1912,1913,1914,1915,1916,1917,1918,1919,1920,1921,1922,1923,1924,1925,1926,1927,1928,1929,1930,1931,1932,1933,1934,1935,1936,1937,1938,1939,1940,1941,1942,1943,1944,1945,1946,1947,1948,1949,1950,1951,1952,1953,1954,1955,1956,1957,1958,1959,1960,1961,1962,1963,1964,1965,1966,1967,1968,1969,1970,1971,1972,1973,1974,1975,1976,1977,1978,1979,1980,1981,1982,1983,1984,1985,1986,1987,1988,1989,1990,1991,1992,1993,1994,1995,1996],\"xaxis\":\"x\",\"y\":[171.0792721,171.1796572,171.2802918,171.3811476,171.4821139,171.5842776,171.6877163,171.7917872,171.89591,171.9994376,172.1018035,172.2037162,172.3069582,172.4116197,172.5187618,172.6304706,172.7483194,172.8716868,172.9999456,173.1324354,173.2680352,173.4056226,173.5448845,173.6839404,173.8238223,173.9646163,174.1059074,174.2465171,174.3868179,174.5285967,174.6722115,174.8173683,174.9630382,175.107599,175.2495456,175.386848,175.5174002,175.641858,175.7623659,175.8794915,175.9925714,176.1019456,176.2081263,176.3090962,176.4034355,176.4906101,176.5717426,176.6488946,176.7214462,176.7894872,176.8535929,176.9128913,176.9676452,177.0172314,177.0620321,177.1013946,177.1354648,177.1665777,177.1939796,177.2172584,177.2352932,177.2500463,177.262802,177.2741932,177.2857682,177.2983877,177.3116616,177.3245309,177.3346537,177.3427059,177.3497888,177.3575012,177.3670229,177.3800515,177.3966703,177.4162612,177.4386136,177.4626156,177.4863176,177.5074667,177.5245603,177.5357707,177.5404138,177.5386477,177.5316749,177.521189,177.5084911,177.4927975,177.4738922,177.4512224,177.4249189,177.395842,177.3650173,177.3342194,177.3029732,177.2726301,177.2432528,177.214932,177.1866753,177.1586751,177.1303957],\"yaxis\":\"y\",\"type\":\"scatter\"},{\"hovertemplate\":\"variable=Mean female height (cm)<br>Year=%{x}<br>value=%{y}<extra></extra>\",\"legendgroup\":\"Mean female height (cm)\",\"line\":{\"color\":\"#F58518\",\"dash\":\"solid\"},\"marker\":{\"symbol\":\"circle\"},\"mode\":\"lines\",\"name\":\"Mean female height (cm)\",\"orientation\":\"v\",\"showlegend\":true,\"x\":[1896,1897,1898,1899,1900,1901,1902,1903,1904,1905,1906,1907,1908,1909,1910,1911,1912,1913,1914,1915,1916,1917,1918,1919,1920,1921,1922,1923,1924,1925,1926,1927,1928,1929,1930,1931,1932,1933,1934,1935,1936,1937,1938,1939,1940,1941,1942,1943,1944,1945,1946,1947,1948,1949,1950,1951,1952,1953,1954,1955,1956,1957,1958,1959,1960,1961,1962,1963,1964,1965,1966,1967,1968,1969,1970,1971,1972,1973,1974,1975,1976,1977,1978,1979,1980,1981,1982,1983,1984,1985,1986,1987,1988,1989,1990,1991,1992,1993,1994,1995,1996],\"xaxis\":\"x\",\"y\":[158.5149202,158.570227,158.6258337,158.6817892,158.7379826,158.7946488,158.8519307,158.9097148,158.9674902,159.0254013,159.0842634,159.1443021,159.205684,159.2686861,159.3352641,159.4073437,159.4860895,159.5714226,159.6632137,159.7612472,159.8653048,159.9744871,160.0877143,160.203785,160.3230439,160.4455993,160.571542,160.6999815,160.8310457,160.9667454,161.1063878,161.2491793,161.3947889,161.5424551,161.6903618,161.8342713,161.9731121,162.1072319,162.2375146,162.3643622,162.4875695,162.6063426,162.7182057,162.8207812,162.9116466,162.9892962,163.0547284,163.109915,163.156598,163.1969444,163.2328798,163.2653777,163.2955378,163.3249536,163.3556881,163.3884336,163.4227891,163.4599088,163.4993304,163.5402475,163.581138,163.6229608,163.6660956,163.7103523,163.7560413,163.8033713,163.8504799,163.8946344,163.9329369,163.9635679,163.9858822,164.001392,164.010634,164.0151908,164.0152413,164.011885,164.0057858,163.9972252,163.9858725,163.9710964,163.9522138,163.9289888,163.9012199,163.8704795,163.8395878,163.810141,163.7839652,163.7623237,163.7440451,163.7280746,163.713464,163.6990998,163.6833993,163.666719,163.6487848,163.6310216,163.613066,163.5949072,163.5759447,163.55709,163.5381372],\"yaxis\":\"y\",\"type\":\"scatter\"}],                        {\"template\":{\"data\":{\"barpolar\":[{\"marker\":{\"line\":{\"color\":\"rgb(237,237,237)\",\"width\":0.5},\"pattern\":{\"fillmode\":\"overlay\",\"size\":10,\"solidity\":0.2}},\"type\":\"barpolar\"}],\"bar\":[{\"error_x\":{\"color\":\"rgb(51,51,51)\"},\"error_y\":{\"color\":\"rgb(51,51,51)\"},\"marker\":{\"line\":{\"color\":\"rgb(237,237,237)\",\"width\":0.5},\"pattern\":{\"fillmode\":\"overlay\",\"size\":10,\"solidity\":0.2}},\"type\":\"bar\"}],\"carpet\":[{\"aaxis\":{\"endlinecolor\":\"rgb(51,51,51)\",\"gridcolor\":\"white\",\"linecolor\":\"white\",\"minorgridcolor\":\"white\",\"startlinecolor\":\"rgb(51,51,51)\"},\"baxis\":{\"endlinecolor\":\"rgb(51,51,51)\",\"gridcolor\":\"white\",\"linecolor\":\"white\",\"minorgridcolor\":\"white\",\"startlinecolor\":\"rgb(51,51,51)\"},\"type\":\"carpet\"}],\"choropleth\":[{\"colorbar\":{\"outlinewidth\":0,\"tickcolor\":\"rgb(237,237,237)\",\"ticklen\":6,\"ticks\":\"inside\"},\"type\":\"choropleth\"}],\"contourcarpet\":[{\"colorbar\":{\"outlinewidth\":0,\"tickcolor\":\"rgb(237,237,237)\",\"ticklen\":6,\"ticks\":\"inside\"},\"type\":\"contourcarpet\"}],\"contour\":[{\"colorbar\":{\"outlinewidth\":0,\"tickcolor\":\"rgb(237,237,237)\",\"ticklen\":6,\"ticks\":\"inside\"},\"colorscale\":[[0,\"rgb(20,44,66)\"],[1,\"rgb(90,179,244)\"]],\"type\":\"contour\"}],\"heatmapgl\":[{\"colorbar\":{\"outlinewidth\":0,\"tickcolor\":\"rgb(237,237,237)\",\"ticklen\":6,\"ticks\":\"inside\"},\"colorscale\":[[0,\"rgb(20,44,66)\"],[1,\"rgb(90,179,244)\"]],\"type\":\"heatmapgl\"}],\"heatmap\":[{\"colorbar\":{\"outlinewidth\":0,\"tickcolor\":\"rgb(237,237,237)\",\"ticklen\":6,\"ticks\":\"inside\"},\"colorscale\":[[0,\"rgb(20,44,66)\"],[1,\"rgb(90,179,244)\"]],\"type\":\"heatmap\"}],\"histogram2dcontour\":[{\"colorbar\":{\"outlinewidth\":0,\"tickcolor\":\"rgb(237,237,237)\",\"ticklen\":6,\"ticks\":\"inside\"},\"colorscale\":[[0,\"rgb(20,44,66)\"],[1,\"rgb(90,179,244)\"]],\"type\":\"histogram2dcontour\"}],\"histogram2d\":[{\"colorbar\":{\"outlinewidth\":0,\"tickcolor\":\"rgb(237,237,237)\",\"ticklen\":6,\"ticks\":\"inside\"},\"colorscale\":[[0,\"rgb(20,44,66)\"],[1,\"rgb(90,179,244)\"]],\"type\":\"histogram2d\"}],\"histogram\":[{\"marker\":{\"pattern\":{\"fillmode\":\"overlay\",\"size\":10,\"solidity\":0.2}},\"type\":\"histogram\"}],\"mesh3d\":[{\"colorbar\":{\"outlinewidth\":0,\"tickcolor\":\"rgb(237,237,237)\",\"ticklen\":6,\"ticks\":\"inside\"},\"type\":\"mesh3d\"}],\"parcoords\":[{\"line\":{\"colorbar\":{\"outlinewidth\":0,\"tickcolor\":\"rgb(237,237,237)\",\"ticklen\":6,\"ticks\":\"inside\"}},\"type\":\"parcoords\"}],\"pie\":[{\"automargin\":true,\"type\":\"pie\"}],\"scatter3d\":[{\"line\":{\"colorbar\":{\"outlinewidth\":0,\"tickcolor\":\"rgb(237,237,237)\",\"ticklen\":6,\"ticks\":\"inside\"}},\"marker\":{\"colorbar\":{\"outlinewidth\":0,\"tickcolor\":\"rgb(237,237,237)\",\"ticklen\":6,\"ticks\":\"inside\"}},\"type\":\"scatter3d\"}],\"scattercarpet\":[{\"marker\":{\"colorbar\":{\"outlinewidth\":0,\"tickcolor\":\"rgb(237,237,237)\",\"ticklen\":6,\"ticks\":\"inside\"}},\"type\":\"scattercarpet\"}],\"scattergeo\":[{\"marker\":{\"colorbar\":{\"outlinewidth\":0,\"tickcolor\":\"rgb(237,237,237)\",\"ticklen\":6,\"ticks\":\"inside\"}},\"type\":\"scattergeo\"}],\"scattergl\":[{\"marker\":{\"colorbar\":{\"outlinewidth\":0,\"tickcolor\":\"rgb(237,237,237)\",\"ticklen\":6,\"ticks\":\"inside\"}},\"type\":\"scattergl\"}],\"scattermapbox\":[{\"marker\":{\"colorbar\":{\"outlinewidth\":0,\"tickcolor\":\"rgb(237,237,237)\",\"ticklen\":6,\"ticks\":\"inside\"}},\"type\":\"scattermapbox\"}],\"scatterpolargl\":[{\"marker\":{\"colorbar\":{\"outlinewidth\":0,\"tickcolor\":\"rgb(237,237,237)\",\"ticklen\":6,\"ticks\":\"inside\"}},\"type\":\"scatterpolargl\"}],\"scatterpolar\":[{\"marker\":{\"colorbar\":{\"outlinewidth\":0,\"tickcolor\":\"rgb(237,237,237)\",\"ticklen\":6,\"ticks\":\"inside\"}},\"type\":\"scatterpolar\"}],\"scatter\":[{\"marker\":{\"colorbar\":{\"outlinewidth\":0,\"tickcolor\":\"rgb(237,237,237)\",\"ticklen\":6,\"ticks\":\"inside\"}},\"type\":\"scatter\"}],\"scatterternary\":[{\"marker\":{\"colorbar\":{\"outlinewidth\":0,\"tickcolor\":\"rgb(237,237,237)\",\"ticklen\":6,\"ticks\":\"inside\"}},\"type\":\"scatterternary\"}],\"surface\":[{\"colorbar\":{\"outlinewidth\":0,\"tickcolor\":\"rgb(237,237,237)\",\"ticklen\":6,\"ticks\":\"inside\"},\"colorscale\":[[0,\"rgb(20,44,66)\"],[1,\"rgb(90,179,244)\"]],\"type\":\"surface\"}],\"table\":[{\"cells\":{\"fill\":{\"color\":\"rgb(237,237,237)\"},\"line\":{\"color\":\"white\"}},\"header\":{\"fill\":{\"color\":\"rgb(217,217,217)\"},\"line\":{\"color\":\"white\"}},\"type\":\"table\"}]},\"layout\":{\"annotationdefaults\":{\"arrowhead\":0,\"arrowwidth\":1},\"autotypenumbers\":\"strict\",\"coloraxis\":{\"colorbar\":{\"outlinewidth\":0,\"tickcolor\":\"rgb(237,237,237)\",\"ticklen\":6,\"ticks\":\"inside\"}},\"colorscale\":{\"sequential\":[[0,\"rgb(20,44,66)\"],[1,\"rgb(90,179,244)\"]],\"sequentialminus\":[[0,\"rgb(20,44,66)\"],[1,\"rgb(90,179,244)\"]]},\"colorway\":[\"#F8766D\",\"#A3A500\",\"#00BF7D\",\"#00B0F6\",\"#E76BF3\"],\"font\":{\"color\":\"rgb(51,51,51)\"},\"geo\":{\"bgcolor\":\"white\",\"lakecolor\":\"white\",\"landcolor\":\"rgb(237,237,237)\",\"showlakes\":true,\"showland\":true,\"subunitcolor\":\"white\"},\"hoverlabel\":{\"align\":\"left\"},\"hovermode\":\"closest\",\"paper_bgcolor\":\"white\",\"plot_bgcolor\":\"rgb(237,237,237)\",\"polar\":{\"angularaxis\":{\"gridcolor\":\"white\",\"linecolor\":\"white\",\"showgrid\":true,\"tickcolor\":\"rgb(51,51,51)\",\"ticks\":\"outside\"},\"bgcolor\":\"rgb(237,237,237)\",\"radialaxis\":{\"gridcolor\":\"white\",\"linecolor\":\"white\",\"showgrid\":true,\"tickcolor\":\"rgb(51,51,51)\",\"ticks\":\"outside\"}},\"scene\":{\"xaxis\":{\"backgroundcolor\":\"rgb(237,237,237)\",\"gridcolor\":\"white\",\"gridwidth\":2,\"linecolor\":\"white\",\"showbackground\":true,\"showgrid\":true,\"tickcolor\":\"rgb(51,51,51)\",\"ticks\":\"outside\",\"zerolinecolor\":\"white\"},\"yaxis\":{\"backgroundcolor\":\"rgb(237,237,237)\",\"gridcolor\":\"white\",\"gridwidth\":2,\"linecolor\":\"white\",\"showbackground\":true,\"showgrid\":true,\"tickcolor\":\"rgb(51,51,51)\",\"ticks\":\"outside\",\"zerolinecolor\":\"white\"},\"zaxis\":{\"backgroundcolor\":\"rgb(237,237,237)\",\"gridcolor\":\"white\",\"gridwidth\":2,\"linecolor\":\"white\",\"showbackground\":true,\"showgrid\":true,\"tickcolor\":\"rgb(51,51,51)\",\"ticks\":\"outside\",\"zerolinecolor\":\"white\"}},\"shapedefaults\":{\"fillcolor\":\"black\",\"line\":{\"width\":0},\"opacity\":0.3},\"ternary\":{\"aaxis\":{\"gridcolor\":\"white\",\"linecolor\":\"white\",\"showgrid\":true,\"tickcolor\":\"rgb(51,51,51)\",\"ticks\":\"outside\"},\"baxis\":{\"gridcolor\":\"white\",\"linecolor\":\"white\",\"showgrid\":true,\"tickcolor\":\"rgb(51,51,51)\",\"ticks\":\"outside\"},\"bgcolor\":\"rgb(237,237,237)\",\"caxis\":{\"gridcolor\":\"white\",\"linecolor\":\"white\",\"showgrid\":true,\"tickcolor\":\"rgb(51,51,51)\",\"ticks\":\"outside\"}},\"xaxis\":{\"automargin\":true,\"gridcolor\":\"white\",\"linecolor\":\"white\",\"showgrid\":true,\"tickcolor\":\"rgb(51,51,51)\",\"ticks\":\"outside\",\"title\":{\"standoff\":15},\"zerolinecolor\":\"white\"},\"yaxis\":{\"automargin\":true,\"gridcolor\":\"white\",\"linecolor\":\"white\",\"showgrid\":true,\"tickcolor\":\"rgb(51,51,51)\",\"ticks\":\"outside\",\"title\":{\"standoff\":15},\"zerolinecolor\":\"white\"}}},\"xaxis\":{\"anchor\":\"y\",\"domain\":[0.0,1.0],\"title\":{\"text\":\"Year\"}},\"yaxis\":{\"anchor\":\"x\",\"domain\":[0.0,1.0],\"title\":{\"text\":\"value\"}},\"legend\":{\"title\":{\"text\":\"variable\"},\"tracegroupgap\":0},\"title\":{\"text\":\"Average Height by Year of Birth in USA\"}},                        {\"responsive\": true}                    ).then(function(){\n                            \nvar gd = document.getElementById('3f0e33b0-5588-48aa-a730-17059372d0ba');\nvar x = new MutationObserver(function (mutations, observer) {{\n        var display = window.getComputedStyle(gd).display;\n        if (!display || display === 'none') {{\n            console.log([gd, 'removed!']);\n            Plotly.purge(gd);\n            observer.disconnect();\n        }}\n}});\n\n// Listen for the removal of the full notebook cells\nvar notebookContainer = gd.closest('#notebook-container');\nif (notebookContainer) {{\n    x.observe(notebookContainer, {childList: true});\n}}\n\n// Listen for the clearing of the current output cell\nvar outputEl = gd.closest('.output');\nif (outputEl) {{\n    x.observe(outputEl, {childList: true});\n}}\n\n                        })                };                });            </script>        </div>"
     },
     "metadata": {},
     "output_type": "display_data"
    }
   ],
   "source": [
    "wide_df = px.data.medals_wide()\n",
    "fig = px.line(height, x=\"Year\",y=['Mean male height (cm)', 'Mean female height (cm)'], title=\"Average Height by Year of Birth in USA\",\n",
    "             color_discrete_sequence=px.colors.qualitative.T10, template= 'ggplot2')\n",
    "fig.show()\n",
    "fig.write_html((Path('/Users/ianapeix/ADA2022/html/USA_Height.html')))"
   ],
   "metadata": {
    "collapsed": false
   }
  },
  {
   "cell_type": "code",
   "execution_count": 99,
   "outputs": [
    {
     "data": {
      "text/plain": "         Year  Actor height (in meters) Actor gender\n0      2001.0                     1.780            F\n1      2007.0                     1.778            M\n2      2010.0                     1.770            M\n3      1995.0                     1.778            M\n4      1997.0                     1.730            F\n...       ...                       ...          ...\n53464  2006.0                       NaN            M\n53465  1986.0                     1.870            M\n53466  1988.0                       NaN            M\n53467  2008.0                       NaN            M\n53468  2011.0                     1.800            M\n\n[52771 rows x 3 columns]",
      "text/html": "<div>\n<style scoped>\n    .dataframe tbody tr th:only-of-type {\n        vertical-align: middle;\n    }\n\n    .dataframe tbody tr th {\n        vertical-align: top;\n    }\n\n    .dataframe thead th {\n        text-align: right;\n    }\n</style>\n<table border=\"1\" class=\"dataframe\">\n  <thead>\n    <tr style=\"text-align: right;\">\n      <th></th>\n      <th>Year</th>\n      <th>Actor height (in meters)</th>\n      <th>Actor gender</th>\n    </tr>\n  </thead>\n  <tbody>\n    <tr>\n      <th>0</th>\n      <td>2001.0</td>\n      <td>1.780</td>\n      <td>F</td>\n    </tr>\n    <tr>\n      <th>1</th>\n      <td>2007.0</td>\n      <td>1.778</td>\n      <td>M</td>\n    </tr>\n    <tr>\n      <th>2</th>\n      <td>2010.0</td>\n      <td>1.770</td>\n      <td>M</td>\n    </tr>\n    <tr>\n      <th>3</th>\n      <td>1995.0</td>\n      <td>1.778</td>\n      <td>M</td>\n    </tr>\n    <tr>\n      <th>4</th>\n      <td>1997.0</td>\n      <td>1.730</td>\n      <td>F</td>\n    </tr>\n    <tr>\n      <th>...</th>\n      <td>...</td>\n      <td>...</td>\n      <td>...</td>\n    </tr>\n    <tr>\n      <th>53464</th>\n      <td>2006.0</td>\n      <td>NaN</td>\n      <td>M</td>\n    </tr>\n    <tr>\n      <th>53465</th>\n      <td>1986.0</td>\n      <td>1.870</td>\n      <td>M</td>\n    </tr>\n    <tr>\n      <th>53466</th>\n      <td>1988.0</td>\n      <td>NaN</td>\n      <td>M</td>\n    </tr>\n    <tr>\n      <th>53467</th>\n      <td>2008.0</td>\n      <td>NaN</td>\n      <td>M</td>\n    </tr>\n    <tr>\n      <th>53468</th>\n      <td>2011.0</td>\n      <td>1.800</td>\n      <td>M</td>\n    </tr>\n  </tbody>\n</table>\n<p>52771 rows × 3 columns</p>\n</div>"
     },
     "execution_count": 99,
     "metadata": {},
     "output_type": "execute_result"
    }
   ],
   "source": [
    "height_df['Year'] = pd.to_numeric(merged_df['Movie release date'].str[:4])\n",
    "height_df = height_df[(height_df['Year'] > 1800) & (height_df['Year'] < 2018)]\n",
    "height_df = height_df[['Year', 'Actor height (in meters)','Actor gender']]"
   ],
   "metadata": {
    "collapsed": false
   }
  },
  {
   "cell_type": "code",
   "execution_count": 112,
   "outputs": [
    {
     "data": {
      "text/plain": "         Year  Actor height (in meters) Actor gender\n0      2001.0                    1.7800            F\n1      2007.0                    1.7780            M\n2      2010.0                    1.7700            M\n3      1995.0                    1.7780            M\n4      1997.0                    1.7300            F\n...       ...                       ...          ...\n53459  2005.0                    1.6764            F\n53461  2011.0                    1.6800            F\n53463  1943.0                    1.6760            M\n53465  1986.0                    1.8700            M\n53468  2011.0                    1.8000            M\n\n[42904 rows x 3 columns]",
      "text/html": "<div>\n<style scoped>\n    .dataframe tbody tr th:only-of-type {\n        vertical-align: middle;\n    }\n\n    .dataframe tbody tr th {\n        vertical-align: top;\n    }\n\n    .dataframe thead th {\n        text-align: right;\n    }\n</style>\n<table border=\"1\" class=\"dataframe\">\n  <thead>\n    <tr style=\"text-align: right;\">\n      <th></th>\n      <th>Year</th>\n      <th>Actor height (in meters)</th>\n      <th>Actor gender</th>\n    </tr>\n  </thead>\n  <tbody>\n    <tr>\n      <th>0</th>\n      <td>2001.0</td>\n      <td>1.7800</td>\n      <td>F</td>\n    </tr>\n    <tr>\n      <th>1</th>\n      <td>2007.0</td>\n      <td>1.7780</td>\n      <td>M</td>\n    </tr>\n    <tr>\n      <th>2</th>\n      <td>2010.0</td>\n      <td>1.7700</td>\n      <td>M</td>\n    </tr>\n    <tr>\n      <th>3</th>\n      <td>1995.0</td>\n      <td>1.7780</td>\n      <td>M</td>\n    </tr>\n    <tr>\n      <th>4</th>\n      <td>1997.0</td>\n      <td>1.7300</td>\n      <td>F</td>\n    </tr>\n    <tr>\n      <th>...</th>\n      <td>...</td>\n      <td>...</td>\n      <td>...</td>\n    </tr>\n    <tr>\n      <th>53459</th>\n      <td>2005.0</td>\n      <td>1.6764</td>\n      <td>F</td>\n    </tr>\n    <tr>\n      <th>53461</th>\n      <td>2011.0</td>\n      <td>1.6800</td>\n      <td>F</td>\n    </tr>\n    <tr>\n      <th>53463</th>\n      <td>1943.0</td>\n      <td>1.6760</td>\n      <td>M</td>\n    </tr>\n    <tr>\n      <th>53465</th>\n      <td>1986.0</td>\n      <td>1.8700</td>\n      <td>M</td>\n    </tr>\n    <tr>\n      <th>53468</th>\n      <td>2011.0</td>\n      <td>1.8000</td>\n      <td>M</td>\n    </tr>\n  </tbody>\n</table>\n<p>42904 rows × 3 columns</p>\n</div>"
     },
     "execution_count": 112,
     "metadata": {},
     "output_type": "execute_result"
    }
   ],
   "source": [
    "height_df = height_df[(height_df['Actor height (in meters)'] > 1.00) & (height_df['Actor height (in meters)'] < 2.5)]\n",
    "height_df"
   ],
   "metadata": {
    "collapsed": false
   }
  },
  {
   "cell_type": "code",
   "execution_count": 113,
   "outputs": [
    {
     "ename": "AttributeError",
     "evalue": "'DataFrameGroupBy' object has no attribute 'average'",
     "output_type": "error",
     "traceback": [
      "\u001B[0;31m---------------------------------------------------------------------------\u001B[0m",
      "\u001B[0;31mAttributeError\u001B[0m                            Traceback (most recent call last)",
      "Input \u001B[0;32mIn [113]\u001B[0m, in \u001B[0;36m<cell line: 2>\u001B[0;34m()\u001B[0m\n\u001B[1;32m      1\u001B[0m height_df\u001B[38;5;241m.\u001B[39mgroupby(\u001B[38;5;124m'\u001B[39m\u001B[38;5;124mYear\u001B[39m\u001B[38;5;124m'\u001B[39m)\n\u001B[0;32m----> 2\u001B[0m simple_height \u001B[38;5;241m=\u001B[39m \u001B[43mheight_df\u001B[49m\u001B[38;5;241;43m.\u001B[39;49m\u001B[43mgroupby\u001B[49m\u001B[43m(\u001B[49m\u001B[43m[\u001B[49m\u001B[38;5;124;43m\"\u001B[39;49m\u001B[38;5;124;43mYear\u001B[39;49m\u001B[38;5;124;43m\"\u001B[39;49m\u001B[43m,\u001B[49m\u001B[43m \u001B[49m\u001B[38;5;124;43m\"\u001B[39;49m\u001B[38;5;124;43mActor height (in meters)\u001B[39;49m\u001B[38;5;124;43m\"\u001B[39;49m\u001B[43m]\u001B[49m\u001B[43m)\u001B[49m\u001B[38;5;241;43m.\u001B[39;49m\u001B[43maverage\u001B[49m()\u001B[38;5;241m.\u001B[39mreset_index(name\u001B[38;5;241m=\u001B[39m\u001B[38;5;124m'\u001B[39m\u001B[38;5;124mAverage\u001B[39m\u001B[38;5;124m'\u001B[39m)\n",
      "File \u001B[0;32m~/opt/anaconda3/lib/python3.9/site-packages/pandas/core/groupby/groupby.py:904\u001B[0m, in \u001B[0;36mGroupBy.__getattr__\u001B[0;34m(self, attr)\u001B[0m\n\u001B[1;32m    901\u001B[0m \u001B[38;5;28;01mif\u001B[39;00m attr \u001B[38;5;129;01min\u001B[39;00m \u001B[38;5;28mself\u001B[39m\u001B[38;5;241m.\u001B[39mobj:\n\u001B[1;32m    902\u001B[0m     \u001B[38;5;28;01mreturn\u001B[39;00m \u001B[38;5;28mself\u001B[39m[attr]\n\u001B[0;32m--> 904\u001B[0m \u001B[38;5;28;01mraise\u001B[39;00m \u001B[38;5;167;01mAttributeError\u001B[39;00m(\n\u001B[1;32m    905\u001B[0m     \u001B[38;5;124mf\u001B[39m\u001B[38;5;124m\"\u001B[39m\u001B[38;5;124m'\u001B[39m\u001B[38;5;132;01m{\u001B[39;00m\u001B[38;5;28mtype\u001B[39m(\u001B[38;5;28mself\u001B[39m)\u001B[38;5;241m.\u001B[39m\u001B[38;5;18m__name__\u001B[39m\u001B[38;5;132;01m}\u001B[39;00m\u001B[38;5;124m'\u001B[39m\u001B[38;5;124m object has no attribute \u001B[39m\u001B[38;5;124m'\u001B[39m\u001B[38;5;132;01m{\u001B[39;00mattr\u001B[38;5;132;01m}\u001B[39;00m\u001B[38;5;124m'\u001B[39m\u001B[38;5;124m\"\u001B[39m\n\u001B[1;32m    906\u001B[0m )\n",
      "\u001B[0;31mAttributeError\u001B[0m: 'DataFrameGroupBy' object has no attribute 'average'"
     ]
    }
   ],
   "source": [
    "height_df.groupby('Year')\n",
    "simple_height = height_df.groupby([\"Year\", \"Actor height (in meters)\"]).average().reset_index(name='Average')\n"
   ],
   "metadata": {
    "collapsed": false
   }
  },
  {
   "cell_type": "code",
   "execution_count": 114,
   "outputs": [
    {
     "ename": "ValueError",
     "evalue": "Could not interpret value `Race` for parameter `hue`",
     "output_type": "error",
     "traceback": [
      "\u001B[0;31m---------------------------------------------------------------------------\u001B[0m",
      "\u001B[0;31mValueError\u001B[0m                                Traceback (most recent call last)",
      "Input \u001B[0;32mIn [114]\u001B[0m, in \u001B[0;36m<cell line: 1>\u001B[0;34m()\u001B[0m\n\u001B[0;32m----> 1\u001B[0m \u001B[43msns\u001B[49m\u001B[38;5;241;43m.\u001B[39;49m\u001B[43mhistplot\u001B[49m\u001B[43m(\u001B[49m\u001B[43mheight_df\u001B[49m\u001B[43m[\u001B[49m\u001B[43mheight_df\u001B[49m\u001B[43m[\u001B[49m\u001B[38;5;124;43m'\u001B[39;49m\u001B[38;5;124;43mActor gender\u001B[39;49m\u001B[38;5;124;43m'\u001B[39;49m\u001B[43m]\u001B[49m\u001B[38;5;241;43m==\u001B[39;49m\u001B[38;5;124;43m'\u001B[39;49m\u001B[38;5;124;43mF\u001B[39;49m\u001B[38;5;124;43m'\u001B[39;49m\u001B[43m]\u001B[49m\u001B[43m,\u001B[49m\u001B[43m \u001B[49m\u001B[43mx\u001B[49m\u001B[38;5;241;43m=\u001B[39;49m\u001B[38;5;124;43m\"\u001B[39;49m\u001B[38;5;124;43mYear\u001B[39;49m\u001B[38;5;124;43m\"\u001B[39;49m\u001B[43m,\u001B[49m\u001B[43m \u001B[49m\u001B[43mhue\u001B[49m\u001B[38;5;241;43m=\u001B[39;49m\u001B[38;5;124;43m\"\u001B[39;49m\u001B[38;5;124;43mRace\u001B[39;49m\u001B[38;5;124;43m\"\u001B[39;49m\u001B[43m,\u001B[49m\u001B[43m \u001B[49m\u001B[43mstat\u001B[49m\u001B[38;5;241;43m=\u001B[39;49m\u001B[38;5;124;43m\"\u001B[39;49m\u001B[38;5;124;43mprobability\u001B[39;49m\u001B[38;5;124;43m\"\u001B[39;49m\u001B[43m,\u001B[49m\u001B[43m \u001B[49m\u001B[43mmultiple\u001B[49m\u001B[38;5;241;43m=\u001B[39;49m\u001B[38;5;124;43m\"\u001B[39;49m\u001B[38;5;124;43mfill\u001B[39;49m\u001B[38;5;124;43m\"\u001B[39;49m\u001B[43m,\u001B[49m\u001B[43m \u001B[49m\u001B[43mshrink\u001B[49m\u001B[38;5;241;43m=\u001B[39;49m\u001B[38;5;241;43m.8\u001B[39;49m\u001B[43m)\u001B[49m\n",
      "File \u001B[0;32m~/opt/anaconda3/lib/python3.9/site-packages/seaborn/distributions.py:1430\u001B[0m, in \u001B[0;36mhistplot\u001B[0;34m(data, x, y, hue, weights, stat, bins, binwidth, binrange, discrete, cumulative, common_bins, common_norm, multiple, element, fill, shrink, kde, kde_kws, line_kws, thresh, pthresh, pmax, cbar, cbar_ax, cbar_kws, palette, hue_order, hue_norm, color, log_scale, legend, ax, **kwargs)\u001B[0m\n\u001B[1;32m   1409\u001B[0m \u001B[38;5;28;01mdef\u001B[39;00m \u001B[38;5;21mhistplot\u001B[39m(\n\u001B[1;32m   1410\u001B[0m     data\u001B[38;5;241m=\u001B[39m\u001B[38;5;28;01mNone\u001B[39;00m, \u001B[38;5;241m*\u001B[39m,\n\u001B[1;32m   1411\u001B[0m     \u001B[38;5;66;03m# Vector variables\u001B[39;00m\n\u001B[0;32m   (...)\u001B[0m\n\u001B[1;32m   1427\u001B[0m     \u001B[38;5;241m*\u001B[39m\u001B[38;5;241m*\u001B[39mkwargs,\n\u001B[1;32m   1428\u001B[0m ):\n\u001B[0;32m-> 1430\u001B[0m     p \u001B[38;5;241m=\u001B[39m \u001B[43m_DistributionPlotter\u001B[49m\u001B[43m(\u001B[49m\n\u001B[1;32m   1431\u001B[0m \u001B[43m        \u001B[49m\u001B[43mdata\u001B[49m\u001B[38;5;241;43m=\u001B[39;49m\u001B[43mdata\u001B[49m\u001B[43m,\u001B[49m\n\u001B[1;32m   1432\u001B[0m \u001B[43m        \u001B[49m\u001B[43mvariables\u001B[49m\u001B[38;5;241;43m=\u001B[39;49m\u001B[43m_DistributionPlotter\u001B[49m\u001B[38;5;241;43m.\u001B[39;49m\u001B[43mget_semantics\u001B[49m\u001B[43m(\u001B[49m\u001B[38;5;28;43mlocals\u001B[39;49m\u001B[43m(\u001B[49m\u001B[43m)\u001B[49m\u001B[43m)\u001B[49m\n\u001B[1;32m   1433\u001B[0m \u001B[43m    \u001B[49m\u001B[43m)\u001B[49m\n\u001B[1;32m   1435\u001B[0m     p\u001B[38;5;241m.\u001B[39mmap_hue(palette\u001B[38;5;241m=\u001B[39mpalette, order\u001B[38;5;241m=\u001B[39mhue_order, norm\u001B[38;5;241m=\u001B[39mhue_norm)\n\u001B[1;32m   1437\u001B[0m     \u001B[38;5;28;01mif\u001B[39;00m ax \u001B[38;5;129;01mis\u001B[39;00m \u001B[38;5;28;01mNone\u001B[39;00m:\n",
      "File \u001B[0;32m~/opt/anaconda3/lib/python3.9/site-packages/seaborn/distributions.py:111\u001B[0m, in \u001B[0;36m_DistributionPlotter.__init__\u001B[0;34m(self, data, variables)\u001B[0m\n\u001B[1;32m    105\u001B[0m \u001B[38;5;28;01mdef\u001B[39;00m \u001B[38;5;21m__init__\u001B[39m(\n\u001B[1;32m    106\u001B[0m     \u001B[38;5;28mself\u001B[39m,\n\u001B[1;32m    107\u001B[0m     data\u001B[38;5;241m=\u001B[39m\u001B[38;5;28;01mNone\u001B[39;00m,\n\u001B[1;32m    108\u001B[0m     variables\u001B[38;5;241m=\u001B[39m{},\n\u001B[1;32m    109\u001B[0m ):\n\u001B[0;32m--> 111\u001B[0m     \u001B[38;5;28;43msuper\u001B[39;49m\u001B[43m(\u001B[49m\u001B[43m)\u001B[49m\u001B[38;5;241;43m.\u001B[39;49m\u001B[38;5;21;43m__init__\u001B[39;49m\u001B[43m(\u001B[49m\u001B[43mdata\u001B[49m\u001B[38;5;241;43m=\u001B[39;49m\u001B[43mdata\u001B[49m\u001B[43m,\u001B[49m\u001B[43m \u001B[49m\u001B[43mvariables\u001B[49m\u001B[38;5;241;43m=\u001B[39;49m\u001B[43mvariables\u001B[49m\u001B[43m)\u001B[49m\n",
      "File \u001B[0;32m~/opt/anaconda3/lib/python3.9/site-packages/seaborn/_core.py:605\u001B[0m, in \u001B[0;36mVectorPlotter.__init__\u001B[0;34m(self, data, variables)\u001B[0m\n\u001B[1;32m    603\u001B[0m \u001B[38;5;28;01mdef\u001B[39;00m \u001B[38;5;21m__init__\u001B[39m(\u001B[38;5;28mself\u001B[39m, data\u001B[38;5;241m=\u001B[39m\u001B[38;5;28;01mNone\u001B[39;00m, variables\u001B[38;5;241m=\u001B[39m{}):\n\u001B[0;32m--> 605\u001B[0m     \u001B[38;5;28;43mself\u001B[39;49m\u001B[38;5;241;43m.\u001B[39;49m\u001B[43massign_variables\u001B[49m\u001B[43m(\u001B[49m\u001B[43mdata\u001B[49m\u001B[43m,\u001B[49m\u001B[43m \u001B[49m\u001B[43mvariables\u001B[49m\u001B[43m)\u001B[49m\n\u001B[1;32m    607\u001B[0m     \u001B[38;5;28;01mfor\u001B[39;00m var, \u001B[38;5;28mcls\u001B[39m \u001B[38;5;129;01min\u001B[39;00m \u001B[38;5;28mself\u001B[39m\u001B[38;5;241m.\u001B[39m_semantic_mappings\u001B[38;5;241m.\u001B[39mitems():\n\u001B[1;32m    608\u001B[0m \n\u001B[1;32m    609\u001B[0m         \u001B[38;5;66;03m# Create the mapping function\u001B[39;00m\n\u001B[1;32m    610\u001B[0m         map_func \u001B[38;5;241m=\u001B[39m partial(\u001B[38;5;28mcls\u001B[39m\u001B[38;5;241m.\u001B[39mmap, plotter\u001B[38;5;241m=\u001B[39m\u001B[38;5;28mself\u001B[39m)\n",
      "File \u001B[0;32m~/opt/anaconda3/lib/python3.9/site-packages/seaborn/_core.py:668\u001B[0m, in \u001B[0;36mVectorPlotter.assign_variables\u001B[0;34m(self, data, variables)\u001B[0m\n\u001B[1;32m    666\u001B[0m \u001B[38;5;28;01melse\u001B[39;00m:\n\u001B[1;32m    667\u001B[0m     \u001B[38;5;28mself\u001B[39m\u001B[38;5;241m.\u001B[39minput_format \u001B[38;5;241m=\u001B[39m \u001B[38;5;124m\"\u001B[39m\u001B[38;5;124mlong\u001B[39m\u001B[38;5;124m\"\u001B[39m\n\u001B[0;32m--> 668\u001B[0m     plot_data, variables \u001B[38;5;241m=\u001B[39m \u001B[38;5;28;43mself\u001B[39;49m\u001B[38;5;241;43m.\u001B[39;49m\u001B[43m_assign_variables_longform\u001B[49m\u001B[43m(\u001B[49m\n\u001B[1;32m    669\u001B[0m \u001B[43m        \u001B[49m\u001B[43mdata\u001B[49m\u001B[43m,\u001B[49m\u001B[43m \u001B[49m\u001B[38;5;241;43m*\u001B[39;49m\u001B[38;5;241;43m*\u001B[39;49m\u001B[43mvariables\u001B[49m\u001B[43m,\u001B[49m\n\u001B[1;32m    670\u001B[0m \u001B[43m    \u001B[49m\u001B[43m)\u001B[49m\n\u001B[1;32m    672\u001B[0m \u001B[38;5;28mself\u001B[39m\u001B[38;5;241m.\u001B[39mplot_data \u001B[38;5;241m=\u001B[39m plot_data\n\u001B[1;32m    673\u001B[0m \u001B[38;5;28mself\u001B[39m\u001B[38;5;241m.\u001B[39mvariables \u001B[38;5;241m=\u001B[39m variables\n",
      "File \u001B[0;32m~/opt/anaconda3/lib/python3.9/site-packages/seaborn/_core.py:903\u001B[0m, in \u001B[0;36mVectorPlotter._assign_variables_longform\u001B[0;34m(self, data, **kwargs)\u001B[0m\n\u001B[1;32m    898\u001B[0m \u001B[38;5;28;01melif\u001B[39;00m \u001B[38;5;28misinstance\u001B[39m(val, (\u001B[38;5;28mstr\u001B[39m, \u001B[38;5;28mbytes\u001B[39m)):\n\u001B[1;32m    899\u001B[0m \n\u001B[1;32m    900\u001B[0m     \u001B[38;5;66;03m# This looks like a column name but we don't know what it means!\u001B[39;00m\n\u001B[1;32m    902\u001B[0m     err \u001B[38;5;241m=\u001B[39m \u001B[38;5;124mf\u001B[39m\u001B[38;5;124m\"\u001B[39m\u001B[38;5;124mCould not interpret value `\u001B[39m\u001B[38;5;132;01m{\u001B[39;00mval\u001B[38;5;132;01m}\u001B[39;00m\u001B[38;5;124m` for parameter `\u001B[39m\u001B[38;5;132;01m{\u001B[39;00mkey\u001B[38;5;132;01m}\u001B[39;00m\u001B[38;5;124m`\u001B[39m\u001B[38;5;124m\"\u001B[39m\n\u001B[0;32m--> 903\u001B[0m     \u001B[38;5;28;01mraise\u001B[39;00m \u001B[38;5;167;01mValueError\u001B[39;00m(err)\n\u001B[1;32m    905\u001B[0m \u001B[38;5;28;01melse\u001B[39;00m:\n\u001B[1;32m    906\u001B[0m \n\u001B[1;32m    907\u001B[0m     \u001B[38;5;66;03m# Otherwise, assume the value is itself data\u001B[39;00m\n\u001B[1;32m    908\u001B[0m \n\u001B[1;32m    909\u001B[0m     \u001B[38;5;66;03m# Raise when data object is present and a vector can't matched\u001B[39;00m\n\u001B[1;32m    910\u001B[0m     \u001B[38;5;28;01mif\u001B[39;00m \u001B[38;5;28misinstance\u001B[39m(data, pd\u001B[38;5;241m.\u001B[39mDataFrame) \u001B[38;5;129;01mand\u001B[39;00m \u001B[38;5;129;01mnot\u001B[39;00m \u001B[38;5;28misinstance\u001B[39m(val, pd\u001B[38;5;241m.\u001B[39mSeries):\n",
      "\u001B[0;31mValueError\u001B[0m: Could not interpret value `Race` for parameter `hue`"
     ]
    }
   ],
   "source": [
    "sns.histplot(height_df[height_df['Actor gender']=='F'], x=\"Year\", hue=\"Race\", stat=\"probability\", multiple=\"fill\", shrink=.8)"
   ],
   "metadata": {
    "collapsed": false
   }
  },
  {
   "cell_type": "code",
   "execution_count": 116,
   "outputs": [
    {
     "data": {
      "text/plain": "       Year Actor gender  Actor height (in meters)\n0    1896.0            M                  1.700000\n1    1901.0            M                  1.700000\n2    1909.0            F                  1.630000\n3    1909.0            M                  1.780000\n4    1910.0            F                  1.550000\n..      ...          ...                       ...\n210  2013.0            M                  1.807675\n211  2014.0            F                  1.661667\n212  2014.0            M                  1.819000\n213  2015.0            F                  1.700000\n214  2015.0            M                  1.780000\n\n[215 rows x 3 columns]",
      "text/html": "<div>\n<style scoped>\n    .dataframe tbody tr th:only-of-type {\n        vertical-align: middle;\n    }\n\n    .dataframe tbody tr th {\n        vertical-align: top;\n    }\n\n    .dataframe thead th {\n        text-align: right;\n    }\n</style>\n<table border=\"1\" class=\"dataframe\">\n  <thead>\n    <tr style=\"text-align: right;\">\n      <th></th>\n      <th>Year</th>\n      <th>Actor gender</th>\n      <th>Actor height (in meters)</th>\n    </tr>\n  </thead>\n  <tbody>\n    <tr>\n      <th>0</th>\n      <td>1896.0</td>\n      <td>M</td>\n      <td>1.700000</td>\n    </tr>\n    <tr>\n      <th>1</th>\n      <td>1901.0</td>\n      <td>M</td>\n      <td>1.700000</td>\n    </tr>\n    <tr>\n      <th>2</th>\n      <td>1909.0</td>\n      <td>F</td>\n      <td>1.630000</td>\n    </tr>\n    <tr>\n      <th>3</th>\n      <td>1909.0</td>\n      <td>M</td>\n      <td>1.780000</td>\n    </tr>\n    <tr>\n      <th>4</th>\n      <td>1910.0</td>\n      <td>F</td>\n      <td>1.550000</td>\n    </tr>\n    <tr>\n      <th>...</th>\n      <td>...</td>\n      <td>...</td>\n      <td>...</td>\n    </tr>\n    <tr>\n      <th>210</th>\n      <td>2013.0</td>\n      <td>M</td>\n      <td>1.807675</td>\n    </tr>\n    <tr>\n      <th>211</th>\n      <td>2014.0</td>\n      <td>F</td>\n      <td>1.661667</td>\n    </tr>\n    <tr>\n      <th>212</th>\n      <td>2014.0</td>\n      <td>M</td>\n      <td>1.819000</td>\n    </tr>\n    <tr>\n      <th>213</th>\n      <td>2015.0</td>\n      <td>F</td>\n      <td>1.700000</td>\n    </tr>\n    <tr>\n      <th>214</th>\n      <td>2015.0</td>\n      <td>M</td>\n      <td>1.780000</td>\n    </tr>\n  </tbody>\n</table>\n<p>215 rows × 3 columns</p>\n</div>"
     },
     "execution_count": 116,
     "metadata": {},
     "output_type": "execute_result"
    }
   ],
   "source": [
    "simple_data = df_plot.groupby([\"Year\", \"Race\"]).size().reset_index(name='Count')\n",
    "simple_height = height_df.groupby([\"Year\", \"Actor gender\"], as_index=False).mean()\n",
    "simple_height"
   ],
   "metadata": {
    "collapsed": false
   }
  },
  {
   "cell_type": "code",
   "execution_count": 120,
   "outputs": [
    {
     "data": {
      "application/vnd.plotly.v1+json": {
       "data": [
        {
         "hovertemplate": "Actor gender=M<br>Year=%{x}<br>Actor height (in meters)=%{y}<extra></extra>",
         "legendgroup": "M",
         "line": {
          "color": "#4C78A8",
          "dash": "solid"
         },
         "marker": {
          "symbol": "circle"
         },
         "mode": "lines",
         "name": "M",
         "orientation": "v",
         "showlegend": true,
         "x": [
          1896.0,
          1901.0,
          1909.0,
          1910.0,
          1912.0,
          1913.0,
          1914.0,
          1915.0,
          1916.0,
          1917.0,
          1918.0,
          1919.0,
          1920.0,
          1921.0,
          1922.0,
          1923.0,
          1924.0,
          1925.0,
          1926.0,
          1927.0,
          1928.0,
          1929.0,
          1930.0,
          1931.0,
          1932.0,
          1933.0,
          1934.0,
          1935.0,
          1936.0,
          1937.0,
          1938.0,
          1939.0,
          1940.0,
          1941.0,
          1942.0,
          1943.0,
          1944.0,
          1945.0,
          1946.0,
          1947.0,
          1948.0,
          1949.0,
          1950.0,
          1951.0,
          1952.0,
          1953.0,
          1954.0,
          1955.0,
          1956.0,
          1957.0,
          1958.0,
          1959.0,
          1960.0,
          1961.0,
          1962.0,
          1963.0,
          1964.0,
          1965.0,
          1966.0,
          1967.0,
          1968.0,
          1969.0,
          1970.0,
          1971.0,
          1972.0,
          1973.0,
          1974.0,
          1975.0,
          1976.0,
          1977.0,
          1978.0,
          1979.0,
          1980.0,
          1981.0,
          1982.0,
          1983.0,
          1984.0,
          1985.0,
          1986.0,
          1987.0,
          1988.0,
          1989.0,
          1990.0,
          1991.0,
          1992.0,
          1993.0,
          1994.0,
          1995.0,
          1996.0,
          1997.0,
          1998.0,
          1999.0,
          2000.0,
          2001.0,
          2002.0,
          2003.0,
          2004.0,
          2005.0,
          2006.0,
          2007.0,
          2008.0,
          2009.0,
          2010.0,
          2011.0,
          2012.0,
          2013.0,
          2014.0,
          2015.0
         ],
         "xaxis": "x",
         "y": [
          1.7,
          1.7,
          1.78,
          1.78,
          1.78,
          1.78,
          1.7255813953488373,
          1.7341176470588235,
          1.7020000000000002,
          1.7303333333333333,
          1.7475,
          1.753076923076923,
          1.8080000000000003,
          1.7458333333333333,
          1.67,
          1.723111111111111,
          1.7577777777777779,
          1.78,
          1.8555555555555554,
          1.776923076923077,
          1.7645185185185186,
          1.7690000000000001,
          1.7439117647058824,
          1.774212765957447,
          1.795936507936508,
          1.7707464788732394,
          1.7738571428571428,
          1.79474358974359,
          1.8184210526315787,
          1.78532,
          1.790406976744186,
          1.7988761904761905,
          1.777709090909091,
          1.7913176470588235,
          1.8034950495049504,
          1.7922285714285715,
          1.7856578947368422,
          1.7920634920634921,
          1.787920634920635,
          1.8050941176470587,
          1.7867906976744186,
          1.7903023255813955,
          1.7944433962264152,
          1.794835294117647,
          1.8173979591836733,
          1.8015517241379309,
          1.7925555555555555,
          1.793892156862745,
          1.80005,
          1.8136923076923077,
          1.806151515151515,
          1.8134489795918367,
          1.7688115942028986,
          1.7968076923076925,
          1.8050935714285714,
          1.78543,
          1.7892033898305084,
          1.8042636363636364,
          1.8016190476190477,
          1.8044247787610619,
          1.8008863636363637,
          1.8114654867256637,
          1.815379746835443,
          1.8177488721804511,
          1.8138042857142858,
          1.8171986394557822,
          1.8049310344827585,
          1.8076041666666667,
          1.7996222222222222,
          1.8058333333333334,
          1.8104467005076144,
          1.8054838323353295,
          1.8031802690582959,
          1.8063186602870813,
          1.8078715596330275,
          1.806697435897436,
          1.8014689855072463,
          1.806336075949367,
          1.7935263157894736,
          1.8011704485488127,
          1.8149468982630272,
          1.7948846889952152,
          1.8055504065040648,
          1.807307430997877,
          1.8038673346693388,
          1.8087432739059968,
          1.799881185185185,
          1.8018766816143499,
          1.8079125786163524,
          1.802191452991453,
          1.8022036958817318,
          1.8011343434343434,
          1.8060735849056604,
          1.8004678423236515,
          1.8031538983050845,
          1.800956833712984,
          1.8014256059009484,
          1.8072882828282828,
          1.7982046228710462,
          1.7989717842323651,
          1.7959515370705244,
          1.8024136534839925,
          1.8070616979269496,
          1.8004908361970218,
          1.8042012232415903,
          1.8076747311827959,
          1.819,
          1.78
         ],
         "yaxis": "y",
         "type": "scatter"
        },
        {
         "hovertemplate": "Actor gender=F<br>Year=%{x}<br>Actor height (in meters)=%{y}<extra></extra>",
         "legendgroup": "F",
         "line": {
          "color": "#F58518",
          "dash": "solid"
         },
         "marker": {
          "symbol": "circle"
         },
         "mode": "lines",
         "name": "F",
         "orientation": "v",
         "showlegend": true,
         "x": [
          1909.0,
          1910.0,
          1911.0,
          1912.0,
          1913.0,
          1914.0,
          1915.0,
          1916.0,
          1917.0,
          1918.0,
          1919.0,
          1920.0,
          1921.0,
          1922.0,
          1923.0,
          1924.0,
          1925.0,
          1926.0,
          1927.0,
          1928.0,
          1929.0,
          1930.0,
          1931.0,
          1932.0,
          1933.0,
          1934.0,
          1935.0,
          1936.0,
          1937.0,
          1938.0,
          1939.0,
          1940.0,
          1941.0,
          1942.0,
          1943.0,
          1944.0,
          1945.0,
          1946.0,
          1947.0,
          1948.0,
          1949.0,
          1950.0,
          1951.0,
          1952.0,
          1953.0,
          1954.0,
          1955.0,
          1956.0,
          1957.0,
          1958.0,
          1959.0,
          1960.0,
          1961.0,
          1962.0,
          1963.0,
          1964.0,
          1965.0,
          1966.0,
          1967.0,
          1968.0,
          1969.0,
          1970.0,
          1971.0,
          1972.0,
          1973.0,
          1974.0,
          1975.0,
          1976.0,
          1977.0,
          1978.0,
          1979.0,
          1980.0,
          1981.0,
          1982.0,
          1983.0,
          1984.0,
          1985.0,
          1986.0,
          1987.0,
          1988.0,
          1989.0,
          1990.0,
          1991.0,
          1992.0,
          1993.0,
          1994.0,
          1995.0,
          1996.0,
          1997.0,
          1998.0,
          1999.0,
          2000.0,
          2001.0,
          2002.0,
          2003.0,
          2004.0,
          2005.0,
          2006.0,
          2007.0,
          2008.0,
          2009.0,
          2010.0,
          2011.0,
          2012.0,
          2013.0,
          2014.0,
          2015.0
         ],
         "xaxis": "x",
         "y": [
          1.63,
          1.55,
          1.5667333333333335,
          1.55,
          1.55,
          1.552281818181818,
          1.5918272727272729,
          1.596688888888889,
          1.6043875,
          1.586336842105263,
          1.5333666666666668,
          1.5334,
          1.567525,
          1.542525,
          1.56008,
          1.5725166666666668,
          1.5482,
          1.6257909090909093,
          1.5969052631578948,
          1.628790909090909,
          1.6132083333333334,
          1.6454333333333333,
          1.6189,
          1.6163157894736842,
          1.6138666666666668,
          1.6085250000000002,
          1.63228125,
          1.6243863636363636,
          1.6213529411764704,
          1.6221818181818184,
          1.6246046511627907,
          1.6318,
          1.6469183673469387,
          1.6376981132075472,
          1.6381666666666665,
          1.6421666666666668,
          1.6698275862068965,
          1.628952380952381,
          1.642341463414634,
          1.6262553191489362,
          1.6327619047619049,
          1.634153846153846,
          1.6314285714285715,
          1.641086956521739,
          1.6618000000000002,
          1.6376046511627906,
          1.6576511627906976,
          1.6564146341463415,
          1.65605,
          1.648341463414634,
          1.6465555555555556,
          1.6548620689655171,
          1.6375882352941176,
          1.65746875,
          1.6444242424242423,
          1.6530476190476189,
          1.639228292682927,
          1.6614042553191488,
          1.6540588235294118,
          1.663615,
          1.6750345098039217,
          1.6539739130434783,
          1.6532740425531915,
          1.6622040816326529,
          1.6619175999999998,
          1.6481346153846155,
          1.6799169811320755,
          1.661678787878788,
          1.6518737931034482,
          1.655547951807229,
          1.64804375,
          1.6592941176470588,
          1.6624938271604939,
          1.6618064516129032,
          1.6737666666666668,
          1.676791366906475,
          1.677674418604651,
          1.6609933333333333,
          1.673325966850829,
          1.6774761581920903,
          1.6719444444444445,
          1.666868778280543,
          1.6712139917695474,
          1.6701787234042553,
          1.6652352941176471,
          1.666559706959707,
          1.667024844720497,
          1.6699630317848408,
          1.6683519417475727,
          1.6672270058708414,
          1.6657160541586074,
          1.6705595652173912,
          1.6731508771929826,
          1.6702685950413223,
          1.6663593155893537,
          1.6646141263940522,
          1.6616106489184692,
          1.6653156834532372,
          1.6593902718168814,
          1.6601043076923077,
          1.6598171428571427,
          1.659345435897436,
          1.6599895551257253,
          1.6628351585014407,
          1.6642376470588234,
          1.6616666666666664,
          1.7
         ],
         "yaxis": "y",
         "type": "scatter"
        }
       ],
       "layout": {
        "template": {
         "data": {
          "barpolar": [
           {
            "marker": {
             "line": {
              "color": "rgb(237,237,237)",
              "width": 0.5
             },
             "pattern": {
              "fillmode": "overlay",
              "size": 10,
              "solidity": 0.2
             }
            },
            "type": "barpolar"
           }
          ],
          "bar": [
           {
            "error_x": {
             "color": "rgb(51,51,51)"
            },
            "error_y": {
             "color": "rgb(51,51,51)"
            },
            "marker": {
             "line": {
              "color": "rgb(237,237,237)",
              "width": 0.5
             },
             "pattern": {
              "fillmode": "overlay",
              "size": 10,
              "solidity": 0.2
             }
            },
            "type": "bar"
           }
          ],
          "carpet": [
           {
            "aaxis": {
             "endlinecolor": "rgb(51,51,51)",
             "gridcolor": "white",
             "linecolor": "white",
             "minorgridcolor": "white",
             "startlinecolor": "rgb(51,51,51)"
            },
            "baxis": {
             "endlinecolor": "rgb(51,51,51)",
             "gridcolor": "white",
             "linecolor": "white",
             "minorgridcolor": "white",
             "startlinecolor": "rgb(51,51,51)"
            },
            "type": "carpet"
           }
          ],
          "choropleth": [
           {
            "colorbar": {
             "outlinewidth": 0,
             "tickcolor": "rgb(237,237,237)",
             "ticklen": 6,
             "ticks": "inside"
            },
            "type": "choropleth"
           }
          ],
          "contourcarpet": [
           {
            "colorbar": {
             "outlinewidth": 0,
             "tickcolor": "rgb(237,237,237)",
             "ticklen": 6,
             "ticks": "inside"
            },
            "type": "contourcarpet"
           }
          ],
          "contour": [
           {
            "colorbar": {
             "outlinewidth": 0,
             "tickcolor": "rgb(237,237,237)",
             "ticklen": 6,
             "ticks": "inside"
            },
            "colorscale": [
             [
              0,
              "rgb(20,44,66)"
             ],
             [
              1,
              "rgb(90,179,244)"
             ]
            ],
            "type": "contour"
           }
          ],
          "heatmapgl": [
           {
            "colorbar": {
             "outlinewidth": 0,
             "tickcolor": "rgb(237,237,237)",
             "ticklen": 6,
             "ticks": "inside"
            },
            "colorscale": [
             [
              0,
              "rgb(20,44,66)"
             ],
             [
              1,
              "rgb(90,179,244)"
             ]
            ],
            "type": "heatmapgl"
           }
          ],
          "heatmap": [
           {
            "colorbar": {
             "outlinewidth": 0,
             "tickcolor": "rgb(237,237,237)",
             "ticklen": 6,
             "ticks": "inside"
            },
            "colorscale": [
             [
              0,
              "rgb(20,44,66)"
             ],
             [
              1,
              "rgb(90,179,244)"
             ]
            ],
            "type": "heatmap"
           }
          ],
          "histogram2dcontour": [
           {
            "colorbar": {
             "outlinewidth": 0,
             "tickcolor": "rgb(237,237,237)",
             "ticklen": 6,
             "ticks": "inside"
            },
            "colorscale": [
             [
              0,
              "rgb(20,44,66)"
             ],
             [
              1,
              "rgb(90,179,244)"
             ]
            ],
            "type": "histogram2dcontour"
           }
          ],
          "histogram2d": [
           {
            "colorbar": {
             "outlinewidth": 0,
             "tickcolor": "rgb(237,237,237)",
             "ticklen": 6,
             "ticks": "inside"
            },
            "colorscale": [
             [
              0,
              "rgb(20,44,66)"
             ],
             [
              1,
              "rgb(90,179,244)"
             ]
            ],
            "type": "histogram2d"
           }
          ],
          "histogram": [
           {
            "marker": {
             "pattern": {
              "fillmode": "overlay",
              "size": 10,
              "solidity": 0.2
             }
            },
            "type": "histogram"
           }
          ],
          "mesh3d": [
           {
            "colorbar": {
             "outlinewidth": 0,
             "tickcolor": "rgb(237,237,237)",
             "ticklen": 6,
             "ticks": "inside"
            },
            "type": "mesh3d"
           }
          ],
          "parcoords": [
           {
            "line": {
             "colorbar": {
              "outlinewidth": 0,
              "tickcolor": "rgb(237,237,237)",
              "ticklen": 6,
              "ticks": "inside"
             }
            },
            "type": "parcoords"
           }
          ],
          "pie": [
           {
            "automargin": true,
            "type": "pie"
           }
          ],
          "scatter3d": [
           {
            "line": {
             "colorbar": {
              "outlinewidth": 0,
              "tickcolor": "rgb(237,237,237)",
              "ticklen": 6,
              "ticks": "inside"
             }
            },
            "marker": {
             "colorbar": {
              "outlinewidth": 0,
              "tickcolor": "rgb(237,237,237)",
              "ticklen": 6,
              "ticks": "inside"
             }
            },
            "type": "scatter3d"
           }
          ],
          "scattercarpet": [
           {
            "marker": {
             "colorbar": {
              "outlinewidth": 0,
              "tickcolor": "rgb(237,237,237)",
              "ticklen": 6,
              "ticks": "inside"
             }
            },
            "type": "scattercarpet"
           }
          ],
          "scattergeo": [
           {
            "marker": {
             "colorbar": {
              "outlinewidth": 0,
              "tickcolor": "rgb(237,237,237)",
              "ticklen": 6,
              "ticks": "inside"
             }
            },
            "type": "scattergeo"
           }
          ],
          "scattergl": [
           {
            "marker": {
             "colorbar": {
              "outlinewidth": 0,
              "tickcolor": "rgb(237,237,237)",
              "ticklen": 6,
              "ticks": "inside"
             }
            },
            "type": "scattergl"
           }
          ],
          "scattermapbox": [
           {
            "marker": {
             "colorbar": {
              "outlinewidth": 0,
              "tickcolor": "rgb(237,237,237)",
              "ticklen": 6,
              "ticks": "inside"
             }
            },
            "type": "scattermapbox"
           }
          ],
          "scatterpolargl": [
           {
            "marker": {
             "colorbar": {
              "outlinewidth": 0,
              "tickcolor": "rgb(237,237,237)",
              "ticklen": 6,
              "ticks": "inside"
             }
            },
            "type": "scatterpolargl"
           }
          ],
          "scatterpolar": [
           {
            "marker": {
             "colorbar": {
              "outlinewidth": 0,
              "tickcolor": "rgb(237,237,237)",
              "ticklen": 6,
              "ticks": "inside"
             }
            },
            "type": "scatterpolar"
           }
          ],
          "scatter": [
           {
            "marker": {
             "colorbar": {
              "outlinewidth": 0,
              "tickcolor": "rgb(237,237,237)",
              "ticklen": 6,
              "ticks": "inside"
             }
            },
            "type": "scatter"
           }
          ],
          "scatterternary": [
           {
            "marker": {
             "colorbar": {
              "outlinewidth": 0,
              "tickcolor": "rgb(237,237,237)",
              "ticklen": 6,
              "ticks": "inside"
             }
            },
            "type": "scatterternary"
           }
          ],
          "surface": [
           {
            "colorbar": {
             "outlinewidth": 0,
             "tickcolor": "rgb(237,237,237)",
             "ticklen": 6,
             "ticks": "inside"
            },
            "colorscale": [
             [
              0,
              "rgb(20,44,66)"
             ],
             [
              1,
              "rgb(90,179,244)"
             ]
            ],
            "type": "surface"
           }
          ],
          "table": [
           {
            "cells": {
             "fill": {
              "color": "rgb(237,237,237)"
             },
             "line": {
              "color": "white"
             }
            },
            "header": {
             "fill": {
              "color": "rgb(217,217,217)"
             },
             "line": {
              "color": "white"
             }
            },
            "type": "table"
           }
          ]
         },
         "layout": {
          "annotationdefaults": {
           "arrowhead": 0,
           "arrowwidth": 1
          },
          "autotypenumbers": "strict",
          "coloraxis": {
           "colorbar": {
            "outlinewidth": 0,
            "tickcolor": "rgb(237,237,237)",
            "ticklen": 6,
            "ticks": "inside"
           }
          },
          "colorscale": {
           "sequential": [
            [
             0,
             "rgb(20,44,66)"
            ],
            [
             1,
             "rgb(90,179,244)"
            ]
           ],
           "sequentialminus": [
            [
             0,
             "rgb(20,44,66)"
            ],
            [
             1,
             "rgb(90,179,244)"
            ]
           ]
          },
          "colorway": [
           "#F8766D",
           "#A3A500",
           "#00BF7D",
           "#00B0F6",
           "#E76BF3"
          ],
          "font": {
           "color": "rgb(51,51,51)"
          },
          "geo": {
           "bgcolor": "white",
           "lakecolor": "white",
           "landcolor": "rgb(237,237,237)",
           "showlakes": true,
           "showland": true,
           "subunitcolor": "white"
          },
          "hoverlabel": {
           "align": "left"
          },
          "hovermode": "closest",
          "paper_bgcolor": "white",
          "plot_bgcolor": "rgb(237,237,237)",
          "polar": {
           "angularaxis": {
            "gridcolor": "white",
            "linecolor": "white",
            "showgrid": true,
            "tickcolor": "rgb(51,51,51)",
            "ticks": "outside"
           },
           "bgcolor": "rgb(237,237,237)",
           "radialaxis": {
            "gridcolor": "white",
            "linecolor": "white",
            "showgrid": true,
            "tickcolor": "rgb(51,51,51)",
            "ticks": "outside"
           }
          },
          "scene": {
           "xaxis": {
            "backgroundcolor": "rgb(237,237,237)",
            "gridcolor": "white",
            "gridwidth": 2,
            "linecolor": "white",
            "showbackground": true,
            "showgrid": true,
            "tickcolor": "rgb(51,51,51)",
            "ticks": "outside",
            "zerolinecolor": "white"
           },
           "yaxis": {
            "backgroundcolor": "rgb(237,237,237)",
            "gridcolor": "white",
            "gridwidth": 2,
            "linecolor": "white",
            "showbackground": true,
            "showgrid": true,
            "tickcolor": "rgb(51,51,51)",
            "ticks": "outside",
            "zerolinecolor": "white"
           },
           "zaxis": {
            "backgroundcolor": "rgb(237,237,237)",
            "gridcolor": "white",
            "gridwidth": 2,
            "linecolor": "white",
            "showbackground": true,
            "showgrid": true,
            "tickcolor": "rgb(51,51,51)",
            "ticks": "outside",
            "zerolinecolor": "white"
           }
          },
          "shapedefaults": {
           "fillcolor": "black",
           "line": {
            "width": 0
           },
           "opacity": 0.3
          },
          "ternary": {
           "aaxis": {
            "gridcolor": "white",
            "linecolor": "white",
            "showgrid": true,
            "tickcolor": "rgb(51,51,51)",
            "ticks": "outside"
           },
           "baxis": {
            "gridcolor": "white",
            "linecolor": "white",
            "showgrid": true,
            "tickcolor": "rgb(51,51,51)",
            "ticks": "outside"
           },
           "bgcolor": "rgb(237,237,237)",
           "caxis": {
            "gridcolor": "white",
            "linecolor": "white",
            "showgrid": true,
            "tickcolor": "rgb(51,51,51)",
            "ticks": "outside"
           }
          },
          "xaxis": {
           "automargin": true,
           "gridcolor": "white",
           "linecolor": "white",
           "showgrid": true,
           "tickcolor": "rgb(51,51,51)",
           "ticks": "outside",
           "title": {
            "standoff": 15
           },
           "zerolinecolor": "white"
          },
          "yaxis": {
           "automargin": true,
           "gridcolor": "white",
           "linecolor": "white",
           "showgrid": true,
           "tickcolor": "rgb(51,51,51)",
           "ticks": "outside",
           "title": {
            "standoff": 15
           },
           "zerolinecolor": "white"
          }
         }
        },
        "xaxis": {
         "anchor": "y",
         "domain": [
          0.0,
          1.0
         ],
         "title": {
          "text": "Year"
         },
         "range": [
          1912,
          2012
         ]
        },
        "yaxis": {
         "anchor": "x",
         "domain": [
          0.0,
          1.0
         ],
         "title": {
          "text": "Actor height (in meters)"
         }
        },
        "legend": {
         "title": {
          "text": "Actor gender"
         },
         "tracegroupgap": 0
        },
        "title": {
         "text": "Averege Height of Hollywood Characters"
        }
       },
       "config": {
        "plotlyServerURL": "https://plot.ly"
       }
      },
      "text/html": "<div>                            <div id=\"3dc6dc48-c069-4432-9b29-43dce57247f9\" class=\"plotly-graph-div\" style=\"height:525px; width:100%;\"></div>            <script type=\"text/javascript\">                require([\"plotly\"], function(Plotly) {                    window.PLOTLYENV=window.PLOTLYENV || {};                                    if (document.getElementById(\"3dc6dc48-c069-4432-9b29-43dce57247f9\")) {                    Plotly.newPlot(                        \"3dc6dc48-c069-4432-9b29-43dce57247f9\",                        [{\"hovertemplate\":\"Actor gender=M<br>Year=%{x}<br>Actor height (in meters)=%{y}<extra></extra>\",\"legendgroup\":\"M\",\"line\":{\"color\":\"#4C78A8\",\"dash\":\"solid\"},\"marker\":{\"symbol\":\"circle\"},\"mode\":\"lines\",\"name\":\"M\",\"orientation\":\"v\",\"showlegend\":true,\"x\":[1896.0,1901.0,1909.0,1910.0,1912.0,1913.0,1914.0,1915.0,1916.0,1917.0,1918.0,1919.0,1920.0,1921.0,1922.0,1923.0,1924.0,1925.0,1926.0,1927.0,1928.0,1929.0,1930.0,1931.0,1932.0,1933.0,1934.0,1935.0,1936.0,1937.0,1938.0,1939.0,1940.0,1941.0,1942.0,1943.0,1944.0,1945.0,1946.0,1947.0,1948.0,1949.0,1950.0,1951.0,1952.0,1953.0,1954.0,1955.0,1956.0,1957.0,1958.0,1959.0,1960.0,1961.0,1962.0,1963.0,1964.0,1965.0,1966.0,1967.0,1968.0,1969.0,1970.0,1971.0,1972.0,1973.0,1974.0,1975.0,1976.0,1977.0,1978.0,1979.0,1980.0,1981.0,1982.0,1983.0,1984.0,1985.0,1986.0,1987.0,1988.0,1989.0,1990.0,1991.0,1992.0,1993.0,1994.0,1995.0,1996.0,1997.0,1998.0,1999.0,2000.0,2001.0,2002.0,2003.0,2004.0,2005.0,2006.0,2007.0,2008.0,2009.0,2010.0,2011.0,2012.0,2013.0,2014.0,2015.0],\"xaxis\":\"x\",\"y\":[1.7,1.7,1.78,1.78,1.78,1.78,1.7255813953488373,1.7341176470588235,1.7020000000000002,1.7303333333333333,1.7475,1.753076923076923,1.8080000000000003,1.7458333333333333,1.67,1.723111111111111,1.7577777777777779,1.78,1.8555555555555554,1.776923076923077,1.7645185185185186,1.7690000000000001,1.7439117647058824,1.774212765957447,1.795936507936508,1.7707464788732394,1.7738571428571428,1.79474358974359,1.8184210526315787,1.78532,1.790406976744186,1.7988761904761905,1.777709090909091,1.7913176470588235,1.8034950495049504,1.7922285714285715,1.7856578947368422,1.7920634920634921,1.787920634920635,1.8050941176470587,1.7867906976744186,1.7903023255813955,1.7944433962264152,1.794835294117647,1.8173979591836733,1.8015517241379309,1.7925555555555555,1.793892156862745,1.80005,1.8136923076923077,1.806151515151515,1.8134489795918367,1.7688115942028986,1.7968076923076925,1.8050935714285714,1.78543,1.7892033898305084,1.8042636363636364,1.8016190476190477,1.8044247787610619,1.8008863636363637,1.8114654867256637,1.815379746835443,1.8177488721804511,1.8138042857142858,1.8171986394557822,1.8049310344827585,1.8076041666666667,1.7996222222222222,1.8058333333333334,1.8104467005076144,1.8054838323353295,1.8031802690582959,1.8063186602870813,1.8078715596330275,1.806697435897436,1.8014689855072463,1.806336075949367,1.7935263157894736,1.8011704485488127,1.8149468982630272,1.7948846889952152,1.8055504065040648,1.807307430997877,1.8038673346693388,1.8087432739059968,1.799881185185185,1.8018766816143499,1.8079125786163524,1.802191452991453,1.8022036958817318,1.8011343434343434,1.8060735849056604,1.8004678423236515,1.8031538983050845,1.800956833712984,1.8014256059009484,1.8072882828282828,1.7982046228710462,1.7989717842323651,1.7959515370705244,1.8024136534839925,1.8070616979269496,1.8004908361970218,1.8042012232415903,1.8076747311827959,1.819,1.78],\"yaxis\":\"y\",\"type\":\"scatter\"},{\"hovertemplate\":\"Actor gender=F<br>Year=%{x}<br>Actor height (in meters)=%{y}<extra></extra>\",\"legendgroup\":\"F\",\"line\":{\"color\":\"#F58518\",\"dash\":\"solid\"},\"marker\":{\"symbol\":\"circle\"},\"mode\":\"lines\",\"name\":\"F\",\"orientation\":\"v\",\"showlegend\":true,\"x\":[1909.0,1910.0,1911.0,1912.0,1913.0,1914.0,1915.0,1916.0,1917.0,1918.0,1919.0,1920.0,1921.0,1922.0,1923.0,1924.0,1925.0,1926.0,1927.0,1928.0,1929.0,1930.0,1931.0,1932.0,1933.0,1934.0,1935.0,1936.0,1937.0,1938.0,1939.0,1940.0,1941.0,1942.0,1943.0,1944.0,1945.0,1946.0,1947.0,1948.0,1949.0,1950.0,1951.0,1952.0,1953.0,1954.0,1955.0,1956.0,1957.0,1958.0,1959.0,1960.0,1961.0,1962.0,1963.0,1964.0,1965.0,1966.0,1967.0,1968.0,1969.0,1970.0,1971.0,1972.0,1973.0,1974.0,1975.0,1976.0,1977.0,1978.0,1979.0,1980.0,1981.0,1982.0,1983.0,1984.0,1985.0,1986.0,1987.0,1988.0,1989.0,1990.0,1991.0,1992.0,1993.0,1994.0,1995.0,1996.0,1997.0,1998.0,1999.0,2000.0,2001.0,2002.0,2003.0,2004.0,2005.0,2006.0,2007.0,2008.0,2009.0,2010.0,2011.0,2012.0,2013.0,2014.0,2015.0],\"xaxis\":\"x\",\"y\":[1.63,1.55,1.5667333333333335,1.55,1.55,1.552281818181818,1.5918272727272729,1.596688888888889,1.6043875,1.586336842105263,1.5333666666666668,1.5334,1.567525,1.542525,1.56008,1.5725166666666668,1.5482,1.6257909090909093,1.5969052631578948,1.628790909090909,1.6132083333333334,1.6454333333333333,1.6189,1.6163157894736842,1.6138666666666668,1.6085250000000002,1.63228125,1.6243863636363636,1.6213529411764704,1.6221818181818184,1.6246046511627907,1.6318,1.6469183673469387,1.6376981132075472,1.6381666666666665,1.6421666666666668,1.6698275862068965,1.628952380952381,1.642341463414634,1.6262553191489362,1.6327619047619049,1.634153846153846,1.6314285714285715,1.641086956521739,1.6618000000000002,1.6376046511627906,1.6576511627906976,1.6564146341463415,1.65605,1.648341463414634,1.6465555555555556,1.6548620689655171,1.6375882352941176,1.65746875,1.6444242424242423,1.6530476190476189,1.639228292682927,1.6614042553191488,1.6540588235294118,1.663615,1.6750345098039217,1.6539739130434783,1.6532740425531915,1.6622040816326529,1.6619175999999998,1.6481346153846155,1.6799169811320755,1.661678787878788,1.6518737931034482,1.655547951807229,1.64804375,1.6592941176470588,1.6624938271604939,1.6618064516129032,1.6737666666666668,1.676791366906475,1.677674418604651,1.6609933333333333,1.673325966850829,1.6774761581920903,1.6719444444444445,1.666868778280543,1.6712139917695474,1.6701787234042553,1.6652352941176471,1.666559706959707,1.667024844720497,1.6699630317848408,1.6683519417475727,1.6672270058708414,1.6657160541586074,1.6705595652173912,1.6731508771929826,1.6702685950413223,1.6663593155893537,1.6646141263940522,1.6616106489184692,1.6653156834532372,1.6593902718168814,1.6601043076923077,1.6598171428571427,1.659345435897436,1.6599895551257253,1.6628351585014407,1.6642376470588234,1.6616666666666664,1.7],\"yaxis\":\"y\",\"type\":\"scatter\"}],                        {\"template\":{\"data\":{\"barpolar\":[{\"marker\":{\"line\":{\"color\":\"rgb(237,237,237)\",\"width\":0.5},\"pattern\":{\"fillmode\":\"overlay\",\"size\":10,\"solidity\":0.2}},\"type\":\"barpolar\"}],\"bar\":[{\"error_x\":{\"color\":\"rgb(51,51,51)\"},\"error_y\":{\"color\":\"rgb(51,51,51)\"},\"marker\":{\"line\":{\"color\":\"rgb(237,237,237)\",\"width\":0.5},\"pattern\":{\"fillmode\":\"overlay\",\"size\":10,\"solidity\":0.2}},\"type\":\"bar\"}],\"carpet\":[{\"aaxis\":{\"endlinecolor\":\"rgb(51,51,51)\",\"gridcolor\":\"white\",\"linecolor\":\"white\",\"minorgridcolor\":\"white\",\"startlinecolor\":\"rgb(51,51,51)\"},\"baxis\":{\"endlinecolor\":\"rgb(51,51,51)\",\"gridcolor\":\"white\",\"linecolor\":\"white\",\"minorgridcolor\":\"white\",\"startlinecolor\":\"rgb(51,51,51)\"},\"type\":\"carpet\"}],\"choropleth\":[{\"colorbar\":{\"outlinewidth\":0,\"tickcolor\":\"rgb(237,237,237)\",\"ticklen\":6,\"ticks\":\"inside\"},\"type\":\"choropleth\"}],\"contourcarpet\":[{\"colorbar\":{\"outlinewidth\":0,\"tickcolor\":\"rgb(237,237,237)\",\"ticklen\":6,\"ticks\":\"inside\"},\"type\":\"contourcarpet\"}],\"contour\":[{\"colorbar\":{\"outlinewidth\":0,\"tickcolor\":\"rgb(237,237,237)\",\"ticklen\":6,\"ticks\":\"inside\"},\"colorscale\":[[0,\"rgb(20,44,66)\"],[1,\"rgb(90,179,244)\"]],\"type\":\"contour\"}],\"heatmapgl\":[{\"colorbar\":{\"outlinewidth\":0,\"tickcolor\":\"rgb(237,237,237)\",\"ticklen\":6,\"ticks\":\"inside\"},\"colorscale\":[[0,\"rgb(20,44,66)\"],[1,\"rgb(90,179,244)\"]],\"type\":\"heatmapgl\"}],\"heatmap\":[{\"colorbar\":{\"outlinewidth\":0,\"tickcolor\":\"rgb(237,237,237)\",\"ticklen\":6,\"ticks\":\"inside\"},\"colorscale\":[[0,\"rgb(20,44,66)\"],[1,\"rgb(90,179,244)\"]],\"type\":\"heatmap\"}],\"histogram2dcontour\":[{\"colorbar\":{\"outlinewidth\":0,\"tickcolor\":\"rgb(237,237,237)\",\"ticklen\":6,\"ticks\":\"inside\"},\"colorscale\":[[0,\"rgb(20,44,66)\"],[1,\"rgb(90,179,244)\"]],\"type\":\"histogram2dcontour\"}],\"histogram2d\":[{\"colorbar\":{\"outlinewidth\":0,\"tickcolor\":\"rgb(237,237,237)\",\"ticklen\":6,\"ticks\":\"inside\"},\"colorscale\":[[0,\"rgb(20,44,66)\"],[1,\"rgb(90,179,244)\"]],\"type\":\"histogram2d\"}],\"histogram\":[{\"marker\":{\"pattern\":{\"fillmode\":\"overlay\",\"size\":10,\"solidity\":0.2}},\"type\":\"histogram\"}],\"mesh3d\":[{\"colorbar\":{\"outlinewidth\":0,\"tickcolor\":\"rgb(237,237,237)\",\"ticklen\":6,\"ticks\":\"inside\"},\"type\":\"mesh3d\"}],\"parcoords\":[{\"line\":{\"colorbar\":{\"outlinewidth\":0,\"tickcolor\":\"rgb(237,237,237)\",\"ticklen\":6,\"ticks\":\"inside\"}},\"type\":\"parcoords\"}],\"pie\":[{\"automargin\":true,\"type\":\"pie\"}],\"scatter3d\":[{\"line\":{\"colorbar\":{\"outlinewidth\":0,\"tickcolor\":\"rgb(237,237,237)\",\"ticklen\":6,\"ticks\":\"inside\"}},\"marker\":{\"colorbar\":{\"outlinewidth\":0,\"tickcolor\":\"rgb(237,237,237)\",\"ticklen\":6,\"ticks\":\"inside\"}},\"type\":\"scatter3d\"}],\"scattercarpet\":[{\"marker\":{\"colorbar\":{\"outlinewidth\":0,\"tickcolor\":\"rgb(237,237,237)\",\"ticklen\":6,\"ticks\":\"inside\"}},\"type\":\"scattercarpet\"}],\"scattergeo\":[{\"marker\":{\"colorbar\":{\"outlinewidth\":0,\"tickcolor\":\"rgb(237,237,237)\",\"ticklen\":6,\"ticks\":\"inside\"}},\"type\":\"scattergeo\"}],\"scattergl\":[{\"marker\":{\"colorbar\":{\"outlinewidth\":0,\"tickcolor\":\"rgb(237,237,237)\",\"ticklen\":6,\"ticks\":\"inside\"}},\"type\":\"scattergl\"}],\"scattermapbox\":[{\"marker\":{\"colorbar\":{\"outlinewidth\":0,\"tickcolor\":\"rgb(237,237,237)\",\"ticklen\":6,\"ticks\":\"inside\"}},\"type\":\"scattermapbox\"}],\"scatterpolargl\":[{\"marker\":{\"colorbar\":{\"outlinewidth\":0,\"tickcolor\":\"rgb(237,237,237)\",\"ticklen\":6,\"ticks\":\"inside\"}},\"type\":\"scatterpolargl\"}],\"scatterpolar\":[{\"marker\":{\"colorbar\":{\"outlinewidth\":0,\"tickcolor\":\"rgb(237,237,237)\",\"ticklen\":6,\"ticks\":\"inside\"}},\"type\":\"scatterpolar\"}],\"scatter\":[{\"marker\":{\"colorbar\":{\"outlinewidth\":0,\"tickcolor\":\"rgb(237,237,237)\",\"ticklen\":6,\"ticks\":\"inside\"}},\"type\":\"scatter\"}],\"scatterternary\":[{\"marker\":{\"colorbar\":{\"outlinewidth\":0,\"tickcolor\":\"rgb(237,237,237)\",\"ticklen\":6,\"ticks\":\"inside\"}},\"type\":\"scatterternary\"}],\"surface\":[{\"colorbar\":{\"outlinewidth\":0,\"tickcolor\":\"rgb(237,237,237)\",\"ticklen\":6,\"ticks\":\"inside\"},\"colorscale\":[[0,\"rgb(20,44,66)\"],[1,\"rgb(90,179,244)\"]],\"type\":\"surface\"}],\"table\":[{\"cells\":{\"fill\":{\"color\":\"rgb(237,237,237)\"},\"line\":{\"color\":\"white\"}},\"header\":{\"fill\":{\"color\":\"rgb(217,217,217)\"},\"line\":{\"color\":\"white\"}},\"type\":\"table\"}]},\"layout\":{\"annotationdefaults\":{\"arrowhead\":0,\"arrowwidth\":1},\"autotypenumbers\":\"strict\",\"coloraxis\":{\"colorbar\":{\"outlinewidth\":0,\"tickcolor\":\"rgb(237,237,237)\",\"ticklen\":6,\"ticks\":\"inside\"}},\"colorscale\":{\"sequential\":[[0,\"rgb(20,44,66)\"],[1,\"rgb(90,179,244)\"]],\"sequentialminus\":[[0,\"rgb(20,44,66)\"],[1,\"rgb(90,179,244)\"]]},\"colorway\":[\"#F8766D\",\"#A3A500\",\"#00BF7D\",\"#00B0F6\",\"#E76BF3\"],\"font\":{\"color\":\"rgb(51,51,51)\"},\"geo\":{\"bgcolor\":\"white\",\"lakecolor\":\"white\",\"landcolor\":\"rgb(237,237,237)\",\"showlakes\":true,\"showland\":true,\"subunitcolor\":\"white\"},\"hoverlabel\":{\"align\":\"left\"},\"hovermode\":\"closest\",\"paper_bgcolor\":\"white\",\"plot_bgcolor\":\"rgb(237,237,237)\",\"polar\":{\"angularaxis\":{\"gridcolor\":\"white\",\"linecolor\":\"white\",\"showgrid\":true,\"tickcolor\":\"rgb(51,51,51)\",\"ticks\":\"outside\"},\"bgcolor\":\"rgb(237,237,237)\",\"radialaxis\":{\"gridcolor\":\"white\",\"linecolor\":\"white\",\"showgrid\":true,\"tickcolor\":\"rgb(51,51,51)\",\"ticks\":\"outside\"}},\"scene\":{\"xaxis\":{\"backgroundcolor\":\"rgb(237,237,237)\",\"gridcolor\":\"white\",\"gridwidth\":2,\"linecolor\":\"white\",\"showbackground\":true,\"showgrid\":true,\"tickcolor\":\"rgb(51,51,51)\",\"ticks\":\"outside\",\"zerolinecolor\":\"white\"},\"yaxis\":{\"backgroundcolor\":\"rgb(237,237,237)\",\"gridcolor\":\"white\",\"gridwidth\":2,\"linecolor\":\"white\",\"showbackground\":true,\"showgrid\":true,\"tickcolor\":\"rgb(51,51,51)\",\"ticks\":\"outside\",\"zerolinecolor\":\"white\"},\"zaxis\":{\"backgroundcolor\":\"rgb(237,237,237)\",\"gridcolor\":\"white\",\"gridwidth\":2,\"linecolor\":\"white\",\"showbackground\":true,\"showgrid\":true,\"tickcolor\":\"rgb(51,51,51)\",\"ticks\":\"outside\",\"zerolinecolor\":\"white\"}},\"shapedefaults\":{\"fillcolor\":\"black\",\"line\":{\"width\":0},\"opacity\":0.3},\"ternary\":{\"aaxis\":{\"gridcolor\":\"white\",\"linecolor\":\"white\",\"showgrid\":true,\"tickcolor\":\"rgb(51,51,51)\",\"ticks\":\"outside\"},\"baxis\":{\"gridcolor\":\"white\",\"linecolor\":\"white\",\"showgrid\":true,\"tickcolor\":\"rgb(51,51,51)\",\"ticks\":\"outside\"},\"bgcolor\":\"rgb(237,237,237)\",\"caxis\":{\"gridcolor\":\"white\",\"linecolor\":\"white\",\"showgrid\":true,\"tickcolor\":\"rgb(51,51,51)\",\"ticks\":\"outside\"}},\"xaxis\":{\"automargin\":true,\"gridcolor\":\"white\",\"linecolor\":\"white\",\"showgrid\":true,\"tickcolor\":\"rgb(51,51,51)\",\"ticks\":\"outside\",\"title\":{\"standoff\":15},\"zerolinecolor\":\"white\"},\"yaxis\":{\"automargin\":true,\"gridcolor\":\"white\",\"linecolor\":\"white\",\"showgrid\":true,\"tickcolor\":\"rgb(51,51,51)\",\"ticks\":\"outside\",\"title\":{\"standoff\":15},\"zerolinecolor\":\"white\"}}},\"xaxis\":{\"anchor\":\"y\",\"domain\":[0.0,1.0],\"title\":{\"text\":\"Year\"},\"range\":[1912,2012]},\"yaxis\":{\"anchor\":\"x\",\"domain\":[0.0,1.0],\"title\":{\"text\":\"Actor height (in meters)\"}},\"legend\":{\"title\":{\"text\":\"Actor gender\"},\"tracegroupgap\":0},\"title\":{\"text\":\"Averege Height of Hollywood Characters\"}},                        {\"responsive\": true}                    ).then(function(){\n                            \nvar gd = document.getElementById('3dc6dc48-c069-4432-9b29-43dce57247f9');\nvar x = new MutationObserver(function (mutations, observer) {{\n        var display = window.getComputedStyle(gd).display;\n        if (!display || display === 'none') {{\n            console.log([gd, 'removed!']);\n            Plotly.purge(gd);\n            observer.disconnect();\n        }}\n}});\n\n// Listen for the removal of the full notebook cells\nvar notebookContainer = gd.closest('#notebook-container');\nif (notebookContainer) {{\n    x.observe(notebookContainer, {childList: true});\n}}\n\n// Listen for the clearing of the current output cell\nvar outputEl = gd.closest('.output');\nif (outputEl) {{\n    x.observe(outputEl, {childList: true});\n}}\n\n                        })                };                });            </script>        </div>"
     },
     "metadata": {},
     "output_type": "display_data"
    }
   ],
   "source": [
    "wide_df = px.data.medals_wide()\n",
    "fig = px.line(simple_height, x=\"Year\",y='Actor height (in meters)',color='Actor gender', title=\"Averege Height of Hollywood Characters\", range_x=[1912, 2012],\n",
    "              color_discrete_sequence=px.colors.qualitative.T10, template= 'ggplot2')\n",
    "fig.show()\n",
    "fig.write_html((Path('/Users/ianapeix/ADA2022/html/Hollywood_Height.html')))"
   ],
   "metadata": {
    "collapsed": false
   }
  }
 ],
 "metadata": {
  "kernelspec": {
   "display_name": "Python 3",
   "language": "python",
   "name": "python3"
  },
  "language_info": {
   "codemirror_mode": {
    "name": "ipython",
    "version": 2
   },
   "file_extension": ".py",
   "mimetype": "text/x-python",
   "name": "python",
   "nbconvert_exporter": "python",
   "pygments_lexer": "ipython2",
   "version": "2.7.6"
  }
 },
 "nbformat": 4,
 "nbformat_minor": 0
}
