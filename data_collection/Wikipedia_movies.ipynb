{
 "cells": [
  {
   "cell_type": "markdown",
   "metadata": {
    "cell_id": "9d454fae32e548e0b95d5dd400efbb90",
    "deepnote_cell_type": "text-cell-h2",
    "formattedRanges": [],
    "is_collapsed": false,
    "tags": []
   },
   "source": [
    "## Collecting data from Wikidata"
   ]
  },
  {
   "cell_type": "markdown",
   "metadata": {
    "cell_id": "e90bd2b8af984019a1aa5a0dacd5bbf9",
    "deepnote_cell_type": "markdown",
    "tags": []
   },
   "source": [
    "Methodology: For each movie in the our database, we send a query to Wikidata using its Freebase ID. \n",
    "If we can retrieve a single result, we record the included Wikidata URI and send another GET request and record everyting as a JSON file.\n",
    "We also record a dataframe index by Freebase ID consisting of Wikidata URI, Wikidata ID and IMDb ID."
   ]
  },
  {
   "cell_type": "markdown",
   "metadata": {
    "cell_id": "1968d7cc47184ffdb3195e44bdc0c112",
    "deepnote_cell_type": "markdown",
    "tags": []
   },
   "source": [
    "Here we show the resulting dataframes only. You can check the processed dataset at [here](https://drive.google.com/drive/folders/1FycaszmTdI2UjO06tgsg5nqvtpLG_z4s?usp=sharing)."
   ]
  },
  {
   "cell_type": "markdown",
   "metadata": {
    "cell_id": "71d26b5caaae4ecf8beefe6150080d95",
    "deepnote_cell_type": "text-cell-h3",
    "formattedRanges": [],
    "is_collapsed": false,
    "tags": []
   },
   "source": [
    "### Libraries used and imports"
   ]
  },
  {
   "cell_type": "code",
   "execution_count": 133,
   "metadata": {
    "cell_id": "ed88339fe30148bdbfb4b89034743305",
    "deepnote_cell_type": "code",
    "deepnote_to_be_reexecuted": false,
    "execution_millis": 44,
    "execution_start": 1668810559850,
    "source_hash": "beeb9fc6",
    "tags": []
   },
   "outputs": [],
   "source": [
    "from typing import Tuple\n",
    "from pathlib import Path\n",
    "import shutil\n",
    "import requests\n",
    "import json\n",
    "import numpy as np\n",
    "import pandas as pd\n",
    "from tqdm.notebook import tqdm"
   ]
  },
  {
   "cell_type": "markdown",
   "metadata": {
    "cell_id": "9de4967e8ae04be8888707269c7b2726",
    "deepnote_cell_type": "text-cell-h3",
    "formattedRanges": [],
    "is_collapsed": false,
    "tags": []
   },
   "source": [
    "### Loading data"
   ]
  },
  {
   "cell_type": "code",
   "execution_count": 116,
   "metadata": {
    "cell_id": "7c3ae293ae9d422cbe9e482c22ae30fe",
    "deepnote_cell_type": "code",
    "deepnote_to_be_reexecuted": false,
    "execution_millis": 2,
    "execution_start": 1668810127403,
    "source_hash": "86a872e5",
    "tags": []
   },
   "outputs": [],
   "source": [
    "cmu_path = Path('../data/raw/MovieSummaries/')"
   ]
  },
  {
   "cell_type": "code",
   "execution_count": 5,
   "metadata": {
    "cell_id": "54e2dc885d5c4d56adbb2db28bea03bb",
    "deepnote_cell_type": "code",
    "deepnote_to_be_reexecuted": false,
    "execution_millis": 799,
    "execution_start": 1668801692577,
    "source_hash": "71e6ef02",
    "tags": []
   },
   "outputs": [],
   "source": [
    "col_names = [\n",
    "    'Wikipedia movie ID',\n",
    "    'Freebase movie ID',\n",
    "    'Movie name',\n",
    "    'Movie release date',\n",
    "    'Movie box office revenue',\n",
    "    'Movie runtime',\n",
    "    'Movie languages (Freebase ID:name tuples)',\n",
    "    'Movie countries (Freebase ID:name tuples)',\n",
    "    'Movie genres (Freebase ID:name tuples)'\n",
    "]\n",
    "\n",
    "df_movie = pd.read_csv(cmu_path.joinpath('movie.metadata.tsv'), delimiter='\\t', names=col_names)"
   ]
  },
  {
   "cell_type": "markdown",
   "metadata": {
    "cell_id": "c223427a4e7641d89cd4d45873acd970",
    "deepnote_cell_type": "text-cell-h3",
    "formattedRanges": [],
    "is_collapsed": false,
    "tags": []
   },
   "source": [
    "### Variables"
   ]
  },
  {
   "cell_type": "code",
   "execution_count": 87,
   "metadata": {
    "cell_id": "7237a1c83950446cb80fe06df182b718",
    "deepnote_cell_type": "code",
    "deepnote_to_be_reexecuted": false,
    "execution_millis": 1,
    "execution_start": 1668807578205,
    "source_hash": "a8de953",
    "tags": []
   },
   "outputs": [],
   "source": [
    "WIKIPEDIA_QUERY_URL = 'https://query.wikidata.org/sparql'\n",
    "\n",
    "QUERY_PAYLOAD = ''.join([\n",
    "'SELECT DISTINCT ?item ?itemLabel WHERE {{',\n",
    "'  SERVICE wikibase:label {{ bd:serviceParam wikibase:language \"en\". }}',\n",
    "'  {{',\n",
    "'    SELECT DISTINCT ?item WHERE {{',\n",
    "'      ?item p:P646 ?statement0.',\n",
    "'      ?statement0 (ps:P646) \"{0}\".',\n",
    "'    }} LIMIT 100',\n",
    "'  }}',\n",
    "'}}'])\n",
    "\n",
    "\n",
    "DST_PATH = '../data/raw/wikidata/'\n",
    "\n",
    "USER_AGENT = 'akgokce'"
   ]
  },
  {
   "cell_type": "markdown",
   "metadata": {
    "cell_id": "1a4ee3973753454990280597d1eb21bb",
    "deepnote_cell_type": "text-cell-h3",
    "formattedRanges": [],
    "is_collapsed": false,
    "tags": []
   },
   "source": [
    "### Helper functions"
   ]
  },
  {
   "cell_type": "code",
   "execution_count": null,
   "metadata": {
    "cell_id": "538557568bab45b39938315cfb4f9c8f",
    "deepnote_cell_type": "code",
    "tags": []
   },
   "outputs": [],
   "source": [
    "def post_query(freebase_id:str) -> dict:\n",
    "    '''\n",
    "    Posts a query to Wikidata and returns the response as a dict.\n",
    "    '''\n",
    "    query = QUERY_PAYLOAD.format(freebase_id)\n",
    "    r = requests.post(WIKIPEDIA_QUERY_URL, data={'format':'json', 'query':query}, headers={'User-Agent': USER_AGENT})\n",
    "    return r.json()\n",
    "\n",
    "def get_wikidata(wikidata_uri: str) -> dict:\n",
    "    r = requests.get(wikidata_uri, headers={'User-Agent': USER_AGENT})\n",
    "    return r.json()\n",
    "\n",
    "def get_imdb_id(wikidata: dict, wikidata_id: str) -> str:\n",
    "    '''\n",
    "    Read a Wikidata JSON response and return IMDb ID.\n",
    "    '''\n",
    "    try:\n",
    "        claims = wikidata.get('entities').get(wikidata_id).get('claims')\n",
    "        imdb_id = claims.get('P345')[0].get('mainsnak').get('datavalue').get('value')\n",
    "        return imdb_id\n",
    "    except:\n",
    "        return None\n",
    "\n",
    "def get_wikidata_ids(freebase_id:str) -> str:\n",
    "    '''\n",
    "    Using SPARQL statements, posts a query to Wikidata and returns URI.\n",
    "    '''\n",
    "    try:\n",
    "        response = post_query(freebase_id)\n",
    "        results = response.get('results').get('bindings')\n",
    "        if len(results)==0:\n",
    "            print(f'No movies found for {freebase_id}')\n",
    "            raise Exception\n",
    "        elif len(results)>=2:\n",
    "            print(f'Multiple movies found for {freebase_id}')\n",
    "            raise Exception\n",
    "        wikidata_uri = results[0].get('item').get('value')\n",
    "        return wikidata_uri\n",
    "    except:\n",
    "        print(f'Failed to process the response for {freebase_id}')\n",
    "        return None\n",
    "\n",
    "\n",
    "def process_wikidata(wikidata_uri: str, save_json:bool = None):\n",
    "    '''\n",
    "    Given a Wikidata URI, send a GET request and process the response, returning Wikidata URI, Wikidata ID and IMDb ID if possible.\n",
    "    '''\n",
    "    try:\n",
    "        wikidata_id = wikidata_uri.split('/')[-1]\n",
    "        response = get_wikidata(wikidata_uri)\n",
    "        if save_json:\n",
    "            with open(dst_path.joinpath(wikidata_id+'.json'), 'w') as file:\n",
    "                json.dump(response, file, indent=2)\n",
    "        imdb_id = get_imdb_id(response, wikidata_id)\n",
    "        return (wikidata_uri, wikidata_id, imdb_id)\n",
    "    except:\n",
    "        print(f'Failed to a response for {wikidata_uri}')\n",
    "        return (None, None, None)"
   ]
  },
  {
   "cell_type": "markdown",
   "metadata": {
    "cell_id": "bcf825bb2dca4c39a4690f17c7464316",
    "deepnote_cell_type": "text-cell-h3",
    "formattedRanges": [],
    "is_collapsed": false,
    "tags": []
   },
   "source": [
    "### Get data from Wikipedia"
   ]
  },
  {
   "cell_type": "code",
   "execution_count": null,
   "metadata": {
    "cell_id": "41e4f587dabd4ab38a2a723738c63042",
    "deepnote_cell_type": "code",
    "tags": []
   },
   "outputs": [],
   "source": [
    "wikipedia_data = dict()\n",
    "failed_list = []\n",
    "for freebase_id in tqdm(df_movie['Freebase movie ID']):\n",
    "    wikidata_uri = get_wikidata_ids(freebase_id)\n",
    "    if wikidata_uri is None:\n",
    "        failed_list.append(freebase_id)\n",
    "        continue\n",
    "        \n",
    "    _, wikidata_id, imdb_id = process_wikidata(wikidata_uri, True)\n",
    "    wikipedia_data[freebase_id] = wikidata_uri, wikidata_id, imdb_id"
   ]
  },
  {
   "cell_type": "markdown",
   "metadata": {
    "cell_id": "c59f8650bdba40e98e585efd6945df39",
    "deepnote_cell_type": "text-cell-h3",
    "formattedRanges": [],
    "is_collapsed": false,
    "tags": []
   },
   "source": [
    "### Convert to DataFrame and save as CSV"
   ]
  },
  {
   "cell_type": "code",
   "execution_count": null,
   "metadata": {
    "cell_id": "459a95f6b8a040f2b4cc97e09a875fbd",
    "deepnote_cell_type": "code",
    "tags": []
   },
   "outputs": [],
   "source": [
    "df_wiki = pd.DataFrame.from_dict(wikipedia_data, orient='index', columns=['Wikidata URI', 'Wikidata ID', 'IMDb ID'])\n",
    "df_wiki.to_csv('../data/processed/wikipedia_ids.csv')"
   ]
  },
  {
   "cell_type": "code",
   "execution_count": 85,
   "metadata": {
    "cell_id": "8637e64554ec4957bdbbb142251d7abc",
    "deepnote_cell_type": "code",
    "deepnote_to_be_reexecuted": false,
    "execution_millis": 174,
    "execution_start": 1668807473652,
    "source_hash": "61a8d6d5",
    "tags": []
   },
   "outputs": [
    {
     "data": {
      "application/vnd.deepnote.dataframe.v3+json": {
       "column_count": 4,
       "columns": [
        {
         "dtype": "object",
         "name": "Unnamed: 0",
         "stats": {
          "categories": [
           {
            "count": 1,
            "name": "/m/03vyhn"
           },
           {
            "count": 1,
            "name": "/m/08yl5d"
           },
           {
            "count": 3,
            "name": "3 others"
           }
          ],
          "nan_count": 0,
          "unique_count": 5
         }
        },
        {
         "dtype": "object",
         "name": "Wikidata URI",
         "stats": {
          "categories": [
           {
            "count": 1,
            "name": "http://www.wikidata.org/entity/Q261700"
           },
           {
            "count": 1,
            "name": "http://www.wikidata.org/entity/Q16250726"
           },
           {
            "count": 3,
            "name": "3 others"
           }
          ],
          "nan_count": 0,
          "unique_count": 5
         }
        },
        {
         "dtype": "object",
         "name": "Wikidata ID",
         "stats": {
          "categories": [
           {
            "count": 1,
            "name": "Q261700"
           },
           {
            "count": 1,
            "name": "Q16250726"
           },
           {
            "count": 3,
            "name": "3 others"
           }
          ],
          "nan_count": 0,
          "unique_count": 5
         }
        },
        {
         "dtype": "object",
         "name": "IMDb ID",
         "stats": {
          "categories": [
           {
            "count": 1,
            "name": "tt0228333"
           },
           {
            "count": 1,
            "name": "tt0245916"
           },
           {
            "count": 3,
            "name": "3 others"
           }
          ],
          "nan_count": 0,
          "unique_count": 5
         }
        },
        {
         "dtype": "int64",
         "name": "_deepnote_index_column"
        }
       ],
       "row_count": 5,
       "rows": [
        {
         "IMDb ID": "tt0228333",
         "Unnamed: 0": "/m/03vyhn",
         "Wikidata ID": "Q261700",
         "Wikidata URI": "http://www.wikidata.org/entity/Q261700",
         "_deepnote_index_column": "0"
        },
        {
         "IMDb ID": "tt0245916",
         "Unnamed: 0": "/m/08yl5d",
         "Wikidata ID": "Q16250726",
         "Wikidata URI": "http://www.wikidata.org/entity/Q16250726",
         "_deepnote_index_column": "1"
        },
        {
         "IMDb ID": "tt0094806",
         "Unnamed: 0": "/m/0crgdbh",
         "Wikidata ID": "Q4978832",
         "Wikidata URI": "http://www.wikidata.org/entity/Q4978832",
         "_deepnote_index_column": "2"
        },
        {
         "IMDb ID": "tt0094320",
         "Unnamed: 0": "/m/0285_cd",
         "Wikidata ID": "Q7995657",
         "Wikidata URI": "http://www.wikidata.org/entity/Q7995657",
         "_deepnote_index_column": "3"
        },
        {
         "IMDb ID": "tt0083949",
         "Unnamed: 0": "/m/01mrr1",
         "Wikidata ID": "Q869644",
         "Wikidata URI": "http://www.wikidata.org/entity/Q869644",
         "_deepnote_index_column": "4"
        }
       ]
      },
      "text/html": [
       "<div>\n",
       "<style scoped>\n",
       "    .dataframe tbody tr th:only-of-type {\n",
       "        vertical-align: middle;\n",
       "    }\n",
       "\n",
       "    .dataframe tbody tr th {\n",
       "        vertical-align: top;\n",
       "    }\n",
       "\n",
       "    .dataframe thead th {\n",
       "        text-align: right;\n",
       "    }\n",
       "</style>\n",
       "<table border=\"1\" class=\"dataframe\">\n",
       "  <thead>\n",
       "    <tr style=\"text-align: right;\">\n",
       "      <th></th>\n",
       "      <th>Unnamed: 0</th>\n",
       "      <th>Wikidata URI</th>\n",
       "      <th>Wikidata ID</th>\n",
       "      <th>IMDb ID</th>\n",
       "    </tr>\n",
       "  </thead>\n",
       "  <tbody>\n",
       "    <tr>\n",
       "      <th>0</th>\n",
       "      <td>/m/03vyhn</td>\n",
       "      <td>http://www.wikidata.org/entity/Q261700</td>\n",
       "      <td>Q261700</td>\n",
       "      <td>tt0228333</td>\n",
       "    </tr>\n",
       "    <tr>\n",
       "      <th>1</th>\n",
       "      <td>/m/08yl5d</td>\n",
       "      <td>http://www.wikidata.org/entity/Q16250726</td>\n",
       "      <td>Q16250726</td>\n",
       "      <td>tt0245916</td>\n",
       "    </tr>\n",
       "    <tr>\n",
       "      <th>2</th>\n",
       "      <td>/m/0crgdbh</td>\n",
       "      <td>http://www.wikidata.org/entity/Q4978832</td>\n",
       "      <td>Q4978832</td>\n",
       "      <td>tt0094806</td>\n",
       "    </tr>\n",
       "    <tr>\n",
       "      <th>3</th>\n",
       "      <td>/m/0285_cd</td>\n",
       "      <td>http://www.wikidata.org/entity/Q7995657</td>\n",
       "      <td>Q7995657</td>\n",
       "      <td>tt0094320</td>\n",
       "    </tr>\n",
       "    <tr>\n",
       "      <th>4</th>\n",
       "      <td>/m/01mrr1</td>\n",
       "      <td>http://www.wikidata.org/entity/Q869644</td>\n",
       "      <td>Q869644</td>\n",
       "      <td>tt0083949</td>\n",
       "    </tr>\n",
       "  </tbody>\n",
       "</table>\n",
       "</div>"
      ],
      "text/plain": [
       "   Unnamed: 0                              Wikidata URI Wikidata ID    IMDb ID\n",
       "0   /m/03vyhn    http://www.wikidata.org/entity/Q261700     Q261700  tt0228333\n",
       "1   /m/08yl5d  http://www.wikidata.org/entity/Q16250726   Q16250726  tt0245916\n",
       "2  /m/0crgdbh   http://www.wikidata.org/entity/Q4978832    Q4978832  tt0094806\n",
       "3  /m/0285_cd   http://www.wikidata.org/entity/Q7995657    Q7995657  tt0094320\n",
       "4   /m/01mrr1    http://www.wikidata.org/entity/Q869644     Q869644  tt0083949"
      ]
     },
     "execution_count": 85,
     "metadata": {},
     "output_type": "execute_result"
    }
   ],
   "source": [
    "df_wiki = pd.read_csv('../data/processed/wikipedia_ids.csv')\n",
    "df_wiki.head(5)"
   ]
  },
  {
   "cell_type": "markdown",
   "metadata": {
    "cell_id": "6e20352846b645e5abe7368201b79aea",
    "deepnote_cell_type": "text-cell-h3",
    "formattedRanges": [],
    "is_collapsed": false,
    "tags": []
   },
   "source": [
    "### FreebaseID to Ethnicity"
   ]
  },
  {
   "cell_type": "code",
   "execution_count": 88,
   "metadata": {
    "cell_id": "445de46599d2433b9098bebb38d239c2",
    "deepnote_cell_type": "code",
    "deepnote_to_be_reexecuted": false,
    "execution_millis": 1331,
    "execution_start": 1668807582257,
    "source_hash": "9c87e7a0",
    "tags": []
   },
   "outputs": [],
   "source": [
    "# Adapted from https://edstem.org/eu/courses/134/discussion/8415\n",
    "\n",
    "query = '''SELECT ?item ?freebaseID ?name WHERE {\n",
    "  ?item p:P646 [ps:P646 ?freebaseID]. #get the freebaseID\n",
    "  ?item rdfs:label ?name.             #get the name of the enthnic group\n",
    "  ?item p:P31 [ps:P31 wd:Q41710].     #get only the items whose \"instance of\" is \"ethnic group\"\n",
    "  filter(lang(?name) = \"en\")          #get the names in english\n",
    "}'''\n",
    "\n",
    "r = requests.post(WIKIPEDIA_QUERY_URL, data={'format':'json', 'query':query}, headers={'User-Agent': USER_AGENT})\n",
    "response = r.json()"
   ]
  },
  {
   "cell_type": "code",
   "execution_count": 89,
   "metadata": {
    "cell_id": "0f04568da9fa45b6993217db741dd239",
    "deepnote_cell_type": "code",
    "deepnote_to_be_reexecuted": false,
    "execution_millis": 2,
    "execution_start": 1668807586388,
    "source_hash": "8a93f0f",
    "tags": []
   },
   "outputs": [],
   "source": [
    "freebaseID_ethnicity = {}\n",
    "\n",
    "for entry in response['results']['bindings']:\n",
    "    freebaseID = entry['freebaseID']['value']\n",
    "    ethnicity = entry['name']['value']\n",
    "    wikidata_uri = entry['item']['value']\n",
    "    freebaseID_ethnicity[freebaseID] = (ethnicity, wikidata_uri)"
   ]
  },
  {
   "cell_type": "code",
   "execution_count": 92,
   "metadata": {
    "cell_id": "6380660552794d409600d2f538051840",
    "deepnote_cell_type": "code",
    "deepnote_to_be_reexecuted": false,
    "execution_millis": 19,
    "execution_start": 1668807607355,
    "source_hash": "b2b9533b",
    "tags": []
   },
   "outputs": [],
   "source": [
    "df_ethnicity = pd.DataFrame.from_dict(freebaseID_ethnicity, orient='index', columns=['Ethnicity', 'Wikidata URI'])\n",
    "df_ethnicity.to_csv('../data/processed/ethnicity.csv')"
   ]
  },
  {
   "cell_type": "code",
   "execution_count": 93,
   "metadata": {
    "cell_id": "eb12a859f3fa40ca88ea3b501ad784e2",
    "deepnote_cell_type": "code",
    "deepnote_to_be_reexecuted": false,
    "execution_millis": 37,
    "execution_start": 1668807607805,
    "source_hash": "22a7ed1a",
    "tags": []
   },
   "outputs": [
    {
     "data": {
      "application/vnd.deepnote.dataframe.v3+json": {
       "column_count": 3,
       "columns": [
        {
         "dtype": "object",
         "name": "Unnamed: 0",
         "stats": {
          "categories": [
           {
            "count": 1,
            "name": "/m/03c8vzn"
           },
           {
            "count": 1,
            "name": "/m/04g1jdt"
           },
           {
            "count": 3,
            "name": "3 others"
           }
          ],
          "nan_count": 0,
          "unique_count": 5
         }
        },
        {
         "dtype": "object",
         "name": "Ethnicity",
         "stats": {
          "categories": [
           {
            "count": 1,
            "name": "Czech Canadians"
           },
           {
            "count": 1,
            "name": "Chagatai people"
           },
           {
            "count": 3,
            "name": "3 others"
           }
          ],
          "nan_count": 0,
          "unique_count": 5
         }
        },
        {
         "dtype": "object",
         "name": "Wikidata URI",
         "stats": {
          "categories": [
           {
            "count": 1,
            "name": "http://www.wikidata.org/entity/Q3498126"
           },
           {
            "count": 1,
            "name": "http://www.wikidata.org/entity/Q3501965"
           },
           {
            "count": 3,
            "name": "3 others"
           }
          ],
          "nan_count": 0,
          "unique_count": 5
         }
        },
        {
         "dtype": "int64",
         "name": "_deepnote_index_column"
        }
       ],
       "row_count": 5,
       "rows": [
        {
         "Ethnicity": "Czech Canadians",
         "Unnamed: 0": "/m/03c8vzn",
         "Wikidata URI": "http://www.wikidata.org/entity/Q3498126",
         "_deepnote_index_column": "0"
        },
        {
         "Ethnicity": "Chagatai people",
         "Unnamed: 0": "/m/04g1jdt",
         "Wikidata URI": "http://www.wikidata.org/entity/Q3501965",
         "_deepnote_index_column": "1"
        },
        {
         "Ethnicity": "Croatian Chilean",
         "Unnamed: 0": "/m/05q747b",
         "Wikidata URI": "http://www.wikidata.org/entity/Q3503021",
         "_deepnote_index_column": "2"
        },
        {
         "Ethnicity": "Croatian Peruvian",
         "Unnamed: 0": "/m/0g6k0p",
         "Wikidata URI": "http://www.wikidata.org/entity/Q3503027",
         "_deepnote_index_column": "3"
        },
        {
         "Ethnicity": "Croatian Brazilian",
         "Unnamed: 0": "/m/047d03w",
         "Wikidata URI": "http://www.wikidata.org/entity/Q3507533",
         "_deepnote_index_column": "4"
        }
       ]
      },
      "text/html": [
       "<div>\n",
       "<style scoped>\n",
       "    .dataframe tbody tr th:only-of-type {\n",
       "        vertical-align: middle;\n",
       "    }\n",
       "\n",
       "    .dataframe tbody tr th {\n",
       "        vertical-align: top;\n",
       "    }\n",
       "\n",
       "    .dataframe thead th {\n",
       "        text-align: right;\n",
       "    }\n",
       "</style>\n",
       "<table border=\"1\" class=\"dataframe\">\n",
       "  <thead>\n",
       "    <tr style=\"text-align: right;\">\n",
       "      <th></th>\n",
       "      <th>Unnamed: 0</th>\n",
       "      <th>Ethnicity</th>\n",
       "      <th>Wikidata URI</th>\n",
       "    </tr>\n",
       "  </thead>\n",
       "  <tbody>\n",
       "    <tr>\n",
       "      <th>0</th>\n",
       "      <td>/m/03c8vzn</td>\n",
       "      <td>Czech Canadians</td>\n",
       "      <td>http://www.wikidata.org/entity/Q3498126</td>\n",
       "    </tr>\n",
       "    <tr>\n",
       "      <th>1</th>\n",
       "      <td>/m/04g1jdt</td>\n",
       "      <td>Chagatai people</td>\n",
       "      <td>http://www.wikidata.org/entity/Q3501965</td>\n",
       "    </tr>\n",
       "    <tr>\n",
       "      <th>2</th>\n",
       "      <td>/m/05q747b</td>\n",
       "      <td>Croatian Chilean</td>\n",
       "      <td>http://www.wikidata.org/entity/Q3503021</td>\n",
       "    </tr>\n",
       "    <tr>\n",
       "      <th>3</th>\n",
       "      <td>/m/0g6k0p</td>\n",
       "      <td>Croatian Peruvian</td>\n",
       "      <td>http://www.wikidata.org/entity/Q3503027</td>\n",
       "    </tr>\n",
       "    <tr>\n",
       "      <th>4</th>\n",
       "      <td>/m/047d03w</td>\n",
       "      <td>Croatian Brazilian</td>\n",
       "      <td>http://www.wikidata.org/entity/Q3507533</td>\n",
       "    </tr>\n",
       "  </tbody>\n",
       "</table>\n",
       "</div>"
      ],
      "text/plain": [
       "   Unnamed: 0           Ethnicity                             Wikidata URI\n",
       "0  /m/03c8vzn     Czech Canadians  http://www.wikidata.org/entity/Q3498126\n",
       "1  /m/04g1jdt     Chagatai people  http://www.wikidata.org/entity/Q3501965\n",
       "2  /m/05q747b    Croatian Chilean  http://www.wikidata.org/entity/Q3503021\n",
       "3   /m/0g6k0p   Croatian Peruvian  http://www.wikidata.org/entity/Q3503027\n",
       "4  /m/047d03w  Croatian Brazilian  http://www.wikidata.org/entity/Q3507533"
      ]
     },
     "execution_count": 93,
     "metadata": {},
     "output_type": "execute_result"
    }
   ],
   "source": [
    "df_ethnicity = pd.read_csv('../data/processed/ethnicity.csv')\n",
    "df_ethnicity.head(5)"
   ]
  }
 ],
 "metadata": {
  "deepnote": {},
  "deepnote_execution_queue": [
   {
    "cellId": "e356300c249f4f5faaef512f8f0561f2",
    "msgId": "a22403e7-19fc-4f66-825b-dd45405df397",
    "sessionId": "bb1e1cf4-17eb-42c0-9db2-05a665f25dd5"
   }
  ],
  "deepnote_full_width": true,
  "deepnote_notebook_id": "f6921db6448145b780099346a578b7ca",
  "kernelspec": {
   "display_name": "Python 3 (ipykernel)",
   "language": "python",
   "name": "python3"
  },
  "language_info": {
   "codemirror_mode": {
    "name": "ipython",
    "version": 3
   },
   "file_extension": ".py",
   "mimetype": "text/x-python",
   "name": "python",
   "nbconvert_exporter": "python",
   "pygments_lexer": "ipython3",
   "version": "3.9.12"
  }
 },
 "nbformat": 4,
 "nbformat_minor": 1
}
