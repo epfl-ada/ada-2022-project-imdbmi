{
 "cells": [
  {
   "cell_type": "code",
   "execution_count": 104,
   "metadata": {},
   "outputs": [],
   "source": [
    "\n",
    "from collections import Counter\n",
    "from typing import Union, Tuple\n",
    "from pathlib import Path\n",
    "import shutil\n",
    "import requests\n",
    "import json\n",
    "import numpy as np\n",
    "import pandas as pd\n",
    "import matplotlib.pyplot as plt\n",
    "import seaborn as sns\n",
    "from bs4 import BeautifulSoup\n",
    "from tqdm.notebook import tqdm\n",
    "import statsmodels.formula.api as smf\n",
    "import plotly.express as px\n",
    "import plotly.graph_objects as go\n",
    "import plotly.offline as po\n",
    "\n",
    "\n",
    "from ipywidgets import IntSlider, interact\n",
    "%matplotlib inline"
   ]
  },
  {
   "cell_type": "code",
   "execution_count": 105,
   "metadata": {},
   "outputs": [],
   "source": [
    "# data paths\n",
    "data_path = Path('../data/')\n",
    "processed_path = data_path.joinpath('processed')\n",
    "cmu_path = data_path.joinpath('raw/MovieSummaries/')\n",
    "cpi_path = data_path.joinpath('CPIAUCNS.csv')\n"
   ]
  },
  {
   "cell_type": "code",
   "execution_count": 106,
   "metadata": {},
   "outputs": [
    {
     "data": {
      "text/html": [
       "<div>\n",
       "<style scoped>\n",
       "    .dataframe tbody tr th:only-of-type {\n",
       "        vertical-align: middle;\n",
       "    }\n",
       "\n",
       "    .dataframe tbody tr th {\n",
       "        vertical-align: top;\n",
       "    }\n",
       "\n",
       "    .dataframe thead th {\n",
       "        text-align: right;\n",
       "    }\n",
       "</style>\n",
       "<table border=\"1\" class=\"dataframe\">\n",
       "  <thead>\n",
       "    <tr style=\"text-align: right;\">\n",
       "      <th></th>\n",
       "      <th>Unnamed: 0</th>\n",
       "      <th>Character type</th>\n",
       "      <th>char</th>\n",
       "      <th>movie</th>\n",
       "      <th>id</th>\n",
       "      <th>actor</th>\n",
       "    </tr>\n",
       "  </thead>\n",
       "  <tbody>\n",
       "    <tr>\n",
       "      <th>0</th>\n",
       "      <td>0</td>\n",
       "      <td>absent_minded_professor</td>\n",
       "      <td>Professor Philip Brainard</td>\n",
       "      <td>Flubber</td>\n",
       "      <td>/m/0jy9q0</td>\n",
       "      <td>Robin Williams</td>\n",
       "    </tr>\n",
       "    <tr>\n",
       "      <th>1</th>\n",
       "      <td>1</td>\n",
       "      <td>absent_minded_professor</td>\n",
       "      <td>Professor Keenbean</td>\n",
       "      <td>Richie Rich</td>\n",
       "      <td>/m/02vchl3</td>\n",
       "      <td>Michael McShane</td>\n",
       "    </tr>\n",
       "    <tr>\n",
       "      <th>2</th>\n",
       "      <td>2</td>\n",
       "      <td>absent_minded_professor</td>\n",
       "      <td>Dr. Reinhardt Lane</td>\n",
       "      <td>The Shadow</td>\n",
       "      <td>/m/0k6fkc</td>\n",
       "      <td>Ian McKellen</td>\n",
       "    </tr>\n",
       "    <tr>\n",
       "      <th>3</th>\n",
       "      <td>3</td>\n",
       "      <td>absent_minded_professor</td>\n",
       "      <td>Dr. Harold Medford</td>\n",
       "      <td>Them!</td>\n",
       "      <td>/m/0k6_br</td>\n",
       "      <td>Edmund Gwenn</td>\n",
       "    </tr>\n",
       "    <tr>\n",
       "      <th>4</th>\n",
       "      <td>4</td>\n",
       "      <td>absent_minded_professor</td>\n",
       "      <td>Daniel Jackson</td>\n",
       "      <td>Stargate</td>\n",
       "      <td>/m/0k3rhh</td>\n",
       "      <td>James Spader</td>\n",
       "    </tr>\n",
       "    <tr>\n",
       "      <th>...</th>\n",
       "      <td>...</td>\n",
       "      <td>...</td>\n",
       "      <td>...</td>\n",
       "      <td>...</td>\n",
       "      <td>...</td>\n",
       "      <td>...</td>\n",
       "    </tr>\n",
       "    <tr>\n",
       "      <th>496</th>\n",
       "      <td>496</td>\n",
       "      <td>young_gun</td>\n",
       "      <td>Morgan Earp</td>\n",
       "      <td>Tombstone</td>\n",
       "      <td>/m/0k776f</td>\n",
       "      <td>Bill Paxton</td>\n",
       "    </tr>\n",
       "    <tr>\n",
       "      <th>497</th>\n",
       "      <td>497</td>\n",
       "      <td>young_gun</td>\n",
       "      <td>Colorado Ryan</td>\n",
       "      <td>Rio Bravo</td>\n",
       "      <td>/m/0k2kqg</td>\n",
       "      <td>Ricky Nelson</td>\n",
       "    </tr>\n",
       "    <tr>\n",
       "      <th>498</th>\n",
       "      <td>498</td>\n",
       "      <td>young_gun</td>\n",
       "      <td>Tom Sawyer</td>\n",
       "      <td>The League of Extraordinary Gentlemen</td>\n",
       "      <td>/m/0k5nsh</td>\n",
       "      <td>Shane West</td>\n",
       "    </tr>\n",
       "    <tr>\n",
       "      <th>499</th>\n",
       "      <td>499</td>\n",
       "      <td>young_gun</td>\n",
       "      <td>William H. 'Billy the Kid' Bonney</td>\n",
       "      <td>Young Guns II</td>\n",
       "      <td>/m/03lrjk0</td>\n",
       "      <td>Emilio Estevez</td>\n",
       "    </tr>\n",
       "    <tr>\n",
       "      <th>500</th>\n",
       "      <td>500</td>\n",
       "      <td>young_gun</td>\n",
       "      <td>Jake</td>\n",
       "      <td>Silverado</td>\n",
       "      <td>/m/0k39jj</td>\n",
       "      <td>Kevin Costner</td>\n",
       "    </tr>\n",
       "  </tbody>\n",
       "</table>\n",
       "<p>501 rows × 6 columns</p>\n",
       "</div>"
      ],
      "text/plain": [
       "     Unnamed: 0           Character type                               char  \\\n",
       "0             0  absent_minded_professor          Professor Philip Brainard   \n",
       "1             1  absent_minded_professor                 Professor Keenbean   \n",
       "2             2  absent_minded_professor                 Dr. Reinhardt Lane   \n",
       "3             3  absent_minded_professor                 Dr. Harold Medford   \n",
       "4             4  absent_minded_professor                     Daniel Jackson   \n",
       "..          ...                      ...                                ...   \n",
       "496         496                young_gun                        Morgan Earp   \n",
       "497         497                young_gun                      Colorado Ryan   \n",
       "498         498                young_gun                         Tom Sawyer   \n",
       "499         499                young_gun  William H. 'Billy the Kid' Bonney   \n",
       "500         500                young_gun                               Jake   \n",
       "\n",
       "                                     movie          id            actor  \n",
       "0                                  Flubber   /m/0jy9q0   Robin Williams  \n",
       "1                              Richie Rich  /m/02vchl3  Michael McShane  \n",
       "2                               The Shadow   /m/0k6fkc     Ian McKellen  \n",
       "3                                    Them!   /m/0k6_br     Edmund Gwenn  \n",
       "4                                 Stargate   /m/0k3rhh     James Spader  \n",
       "..                                     ...         ...              ...  \n",
       "496                              Tombstone   /m/0k776f      Bill Paxton  \n",
       "497                              Rio Bravo   /m/0k2kqg     Ricky Nelson  \n",
       "498  The League of Extraordinary Gentlemen   /m/0k5nsh       Shane West  \n",
       "499                          Young Guns II  /m/03lrjk0   Emilio Estevez  \n",
       "500                              Silverado   /m/0k39jj    Kevin Costner  \n",
       "\n",
       "[501 rows x 6 columns]"
      ]
     },
     "execution_count": 106,
     "metadata": {},
     "output_type": "execute_result"
    }
   ],
   "source": [
    "# processed data\n",
    "processed_chars_path = processed_path.joinpath('cmu_characters.csv')\n",
    "proc_chars = pd.read_csv(processed_chars_path)\n",
    "proc_chars"
   ]
  },
  {
   "cell_type": "code",
   "execution_count": 107,
   "metadata": {},
   "outputs": [
    {
     "data": {
      "text/html": [
       "<div>\n",
       "<style scoped>\n",
       "    .dataframe tbody tr th:only-of-type {\n",
       "        vertical-align: middle;\n",
       "    }\n",
       "\n",
       "    .dataframe tbody tr th {\n",
       "        vertical-align: top;\n",
       "    }\n",
       "\n",
       "    .dataframe thead th {\n",
       "        text-align: right;\n",
       "    }\n",
       "</style>\n",
       "<table border=\"1\" class=\"dataframe\">\n",
       "  <thead>\n",
       "    <tr style=\"text-align: right;\">\n",
       "      <th></th>\n",
       "      <th>Wikipedia movie ID</th>\n",
       "      <th>Freebase movie ID</th>\n",
       "      <th>Movie release date</th>\n",
       "      <th>Character name</th>\n",
       "      <th>Actor date of birth</th>\n",
       "      <th>Actor gender</th>\n",
       "      <th>Actor height (in meters)</th>\n",
       "      <th>Actor ethnicity (Freebase ID)</th>\n",
       "      <th>Actor name</th>\n",
       "      <th>Actor age at movie release</th>\n",
       "      <th>Freebase character/actor map ID</th>\n",
       "      <th>Freebase character ID</th>\n",
       "      <th>Freebase actor ID</th>\n",
       "    </tr>\n",
       "  </thead>\n",
       "  <tbody>\n",
       "    <tr>\n",
       "      <th>0</th>\n",
       "      <td>975900</td>\n",
       "      <td>/m/03vyhn</td>\n",
       "      <td>2001-08-24</td>\n",
       "      <td>Akooshay</td>\n",
       "      <td>1958-08-26</td>\n",
       "      <td>F</td>\n",
       "      <td>1.620</td>\n",
       "      <td>NaN</td>\n",
       "      <td>Wanda De Jesus</td>\n",
       "      <td>42.0</td>\n",
       "      <td>/m/0bgchxw</td>\n",
       "      <td>/m/0bgcj3x</td>\n",
       "      <td>/m/03wcfv7</td>\n",
       "    </tr>\n",
       "    <tr>\n",
       "      <th>1</th>\n",
       "      <td>975900</td>\n",
       "      <td>/m/03vyhn</td>\n",
       "      <td>2001-08-24</td>\n",
       "      <td>Lieutenant Melanie Ballard</td>\n",
       "      <td>1974-08-15</td>\n",
       "      <td>F</td>\n",
       "      <td>1.780</td>\n",
       "      <td>/m/044038p</td>\n",
       "      <td>Natasha Henstridge</td>\n",
       "      <td>27.0</td>\n",
       "      <td>/m/0jys3m</td>\n",
       "      <td>/m/0bgchn4</td>\n",
       "      <td>/m/0346l4</td>\n",
       "    </tr>\n",
       "    <tr>\n",
       "      <th>2</th>\n",
       "      <td>975900</td>\n",
       "      <td>/m/03vyhn</td>\n",
       "      <td>2001-08-24</td>\n",
       "      <td>Desolation Williams</td>\n",
       "      <td>1969-06-15</td>\n",
       "      <td>M</td>\n",
       "      <td>1.727</td>\n",
       "      <td>/m/0x67</td>\n",
       "      <td>Ice Cube</td>\n",
       "      <td>32.0</td>\n",
       "      <td>/m/0jys3g</td>\n",
       "      <td>/m/0bgchn_</td>\n",
       "      <td>/m/01vw26l</td>\n",
       "    </tr>\n",
       "    <tr>\n",
       "      <th>3</th>\n",
       "      <td>975900</td>\n",
       "      <td>/m/03vyhn</td>\n",
       "      <td>2001-08-24</td>\n",
       "      <td>Sgt Jericho Butler</td>\n",
       "      <td>1967-09-12</td>\n",
       "      <td>M</td>\n",
       "      <td>1.750</td>\n",
       "      <td>NaN</td>\n",
       "      <td>Jason Statham</td>\n",
       "      <td>33.0</td>\n",
       "      <td>/m/02vchl6</td>\n",
       "      <td>/m/0bgchnq</td>\n",
       "      <td>/m/034hyc</td>\n",
       "    </tr>\n",
       "    <tr>\n",
       "      <th>4</th>\n",
       "      <td>975900</td>\n",
       "      <td>/m/03vyhn</td>\n",
       "      <td>2001-08-24</td>\n",
       "      <td>Bashira Kincaid</td>\n",
       "      <td>1977-09-25</td>\n",
       "      <td>F</td>\n",
       "      <td>1.650</td>\n",
       "      <td>NaN</td>\n",
       "      <td>Clea DuVall</td>\n",
       "      <td>23.0</td>\n",
       "      <td>/m/02vbb3r</td>\n",
       "      <td>/m/0bgchp9</td>\n",
       "      <td>/m/01y9xg</td>\n",
       "    </tr>\n",
       "    <tr>\n",
       "      <th>...</th>\n",
       "      <td>...</td>\n",
       "      <td>...</td>\n",
       "      <td>...</td>\n",
       "      <td>...</td>\n",
       "      <td>...</td>\n",
       "      <td>...</td>\n",
       "      <td>...</td>\n",
       "      <td>...</td>\n",
       "      <td>...</td>\n",
       "      <td>...</td>\n",
       "      <td>...</td>\n",
       "      <td>...</td>\n",
       "      <td>...</td>\n",
       "    </tr>\n",
       "    <tr>\n",
       "      <th>450664</th>\n",
       "      <td>913762</td>\n",
       "      <td>/m/03pcrp</td>\n",
       "      <td>1992-05-21</td>\n",
       "      <td>Elensh</td>\n",
       "      <td>1970-05</td>\n",
       "      <td>F</td>\n",
       "      <td>NaN</td>\n",
       "      <td>NaN</td>\n",
       "      <td>Dorothy Elias-Fahn</td>\n",
       "      <td>NaN</td>\n",
       "      <td>/m/0kr406c</td>\n",
       "      <td>/m/0kr406h</td>\n",
       "      <td>/m/0b_vcv</td>\n",
       "    </tr>\n",
       "    <tr>\n",
       "      <th>450665</th>\n",
       "      <td>913762</td>\n",
       "      <td>/m/03pcrp</td>\n",
       "      <td>1992-05-21</td>\n",
       "      <td>Hibiki</td>\n",
       "      <td>1965-04-12</td>\n",
       "      <td>M</td>\n",
       "      <td>NaN</td>\n",
       "      <td>NaN</td>\n",
       "      <td>Jonathan Fahn</td>\n",
       "      <td>27.0</td>\n",
       "      <td>/m/0kr405_</td>\n",
       "      <td>/m/0kr4090</td>\n",
       "      <td>/m/0bx7_j</td>\n",
       "    </tr>\n",
       "    <tr>\n",
       "      <th>450666</th>\n",
       "      <td>28308153</td>\n",
       "      <td>/m/0cp05t9</td>\n",
       "      <td>1957</td>\n",
       "      <td>NaN</td>\n",
       "      <td>1941-11-18</td>\n",
       "      <td>M</td>\n",
       "      <td>1.730</td>\n",
       "      <td>/m/02w7gg</td>\n",
       "      <td>David Hemmings</td>\n",
       "      <td>15.0</td>\n",
       "      <td>/m/0g8ngmc</td>\n",
       "      <td>NaN</td>\n",
       "      <td>/m/022g44</td>\n",
       "    </tr>\n",
       "    <tr>\n",
       "      <th>450667</th>\n",
       "      <td>28308153</td>\n",
       "      <td>/m/0cp05t9</td>\n",
       "      <td>1957</td>\n",
       "      <td>NaN</td>\n",
       "      <td>NaN</td>\n",
       "      <td>NaN</td>\n",
       "      <td>NaN</td>\n",
       "      <td>NaN</td>\n",
       "      <td>Roberta Paterson</td>\n",
       "      <td>NaN</td>\n",
       "      <td>/m/0g8ngmj</td>\n",
       "      <td>NaN</td>\n",
       "      <td>/m/0g8ngmm</td>\n",
       "    </tr>\n",
       "    <tr>\n",
       "      <th>450668</th>\n",
       "      <td>28308153</td>\n",
       "      <td>/m/0cp05t9</td>\n",
       "      <td>1957</td>\n",
       "      <td>NaN</td>\n",
       "      <td>NaN</td>\n",
       "      <td>NaN</td>\n",
       "      <td>NaN</td>\n",
       "      <td>NaN</td>\n",
       "      <td>John Rogers</td>\n",
       "      <td>NaN</td>\n",
       "      <td>/m/0g8ngmw</td>\n",
       "      <td>NaN</td>\n",
       "      <td>/m/0btz19d</td>\n",
       "    </tr>\n",
       "  </tbody>\n",
       "</table>\n",
       "<p>450669 rows × 13 columns</p>\n",
       "</div>"
      ],
      "text/plain": [
       "        Wikipedia movie ID Freebase movie ID Movie release date  \\\n",
       "0                   975900         /m/03vyhn         2001-08-24   \n",
       "1                   975900         /m/03vyhn         2001-08-24   \n",
       "2                   975900         /m/03vyhn         2001-08-24   \n",
       "3                   975900         /m/03vyhn         2001-08-24   \n",
       "4                   975900         /m/03vyhn         2001-08-24   \n",
       "...                    ...               ...                ...   \n",
       "450664              913762         /m/03pcrp         1992-05-21   \n",
       "450665              913762         /m/03pcrp         1992-05-21   \n",
       "450666            28308153        /m/0cp05t9               1957   \n",
       "450667            28308153        /m/0cp05t9               1957   \n",
       "450668            28308153        /m/0cp05t9               1957   \n",
       "\n",
       "                    Character name Actor date of birth Actor gender  \\\n",
       "0                         Akooshay          1958-08-26            F   \n",
       "1       Lieutenant Melanie Ballard          1974-08-15            F   \n",
       "2              Desolation Williams          1969-06-15            M   \n",
       "3               Sgt Jericho Butler          1967-09-12            M   \n",
       "4                  Bashira Kincaid          1977-09-25            F   \n",
       "...                            ...                 ...          ...   \n",
       "450664                      Elensh             1970-05            F   \n",
       "450665                      Hibiki          1965-04-12            M   \n",
       "450666                         NaN          1941-11-18            M   \n",
       "450667                         NaN                 NaN          NaN   \n",
       "450668                         NaN                 NaN          NaN   \n",
       "\n",
       "        Actor height (in meters) Actor ethnicity (Freebase ID)  \\\n",
       "0                          1.620                           NaN   \n",
       "1                          1.780                    /m/044038p   \n",
       "2                          1.727                       /m/0x67   \n",
       "3                          1.750                           NaN   \n",
       "4                          1.650                           NaN   \n",
       "...                          ...                           ...   \n",
       "450664                       NaN                           NaN   \n",
       "450665                       NaN                           NaN   \n",
       "450666                     1.730                     /m/02w7gg   \n",
       "450667                       NaN                           NaN   \n",
       "450668                       NaN                           NaN   \n",
       "\n",
       "                Actor name  Actor age at movie release  \\\n",
       "0           Wanda De Jesus                        42.0   \n",
       "1       Natasha Henstridge                        27.0   \n",
       "2                 Ice Cube                        32.0   \n",
       "3            Jason Statham                        33.0   \n",
       "4              Clea DuVall                        23.0   \n",
       "...                    ...                         ...   \n",
       "450664  Dorothy Elias-Fahn                         NaN   \n",
       "450665       Jonathan Fahn                        27.0   \n",
       "450666      David Hemmings                        15.0   \n",
       "450667    Roberta Paterson                         NaN   \n",
       "450668         John Rogers                         NaN   \n",
       "\n",
       "       Freebase character/actor map ID Freebase character ID Freebase actor ID  \n",
       "0                           /m/0bgchxw            /m/0bgcj3x        /m/03wcfv7  \n",
       "1                            /m/0jys3m            /m/0bgchn4         /m/0346l4  \n",
       "2                            /m/0jys3g            /m/0bgchn_        /m/01vw26l  \n",
       "3                           /m/02vchl6            /m/0bgchnq         /m/034hyc  \n",
       "4                           /m/02vbb3r            /m/0bgchp9         /m/01y9xg  \n",
       "...                                ...                   ...               ...  \n",
       "450664                      /m/0kr406c            /m/0kr406h         /m/0b_vcv  \n",
       "450665                      /m/0kr405_            /m/0kr4090         /m/0bx7_j  \n",
       "450666                      /m/0g8ngmc                   NaN         /m/022g44  \n",
       "450667                      /m/0g8ngmj                   NaN        /m/0g8ngmm  \n",
       "450668                      /m/0g8ngmw                   NaN        /m/0btz19d  \n",
       "\n",
       "[450669 rows x 13 columns]"
      ]
     },
     "execution_count": 107,
     "metadata": {},
     "output_type": "execute_result"
    }
   ],
   "source": [
    "raw_characters = cmu_path.joinpath('character.metadata.tsv')\n",
    "character_header = [\n",
    "    \"Wikipedia movie ID\",\n",
    "    \"Freebase movie ID\",\n",
    "    \"Movie release date\",\n",
    "    \"Character name\",\n",
    "    \"Actor date of birth\",\n",
    "    \"Actor gender\",\n",
    "    \"Actor height (in meters)\",\n",
    "    \"Actor ethnicity (Freebase ID)\",\n",
    "    \"Actor name\",\n",
    "    \"Actor age at movie release\",\n",
    "    \"Freebase character/actor map ID\",\n",
    "    \"Freebase character ID\",\n",
    "    \"Freebase actor ID\"\n",
    "]\n",
    "raw_characters = pd.read_csv(raw_characters, sep='\\t', names=character_header,)\n",
    "raw_characters"
   ]
  },
  {
   "cell_type": "code",
   "execution_count": 108,
   "metadata": {},
   "outputs": [],
   "source": [
    "meta_data = pd.read_csv(cmu_path.joinpath('movie.metadata.tsv'), sep='\\t', \n",
    "                        names=['Wikipedia Movie ID', 'Freebase Movie ID', 'Movie name', 'Movie release date', 'Movie box office revenue', 'Movie runtime', 'Movie languages', 'Movie countries', 'Movie genres'])"
   ]
  },
  {
   "cell_type": "code",
   "execution_count": 109,
   "metadata": {},
   "outputs": [
    {
     "data": {
      "text/html": [
       "<div>\n",
       "<style scoped>\n",
       "    .dataframe tbody tr th:only-of-type {\n",
       "        vertical-align: middle;\n",
       "    }\n",
       "\n",
       "    .dataframe tbody tr th {\n",
       "        vertical-align: top;\n",
       "    }\n",
       "\n",
       "    .dataframe thead th {\n",
       "        text-align: right;\n",
       "    }\n",
       "</style>\n",
       "<table border=\"1\" class=\"dataframe\">\n",
       "  <thead>\n",
       "    <tr style=\"text-align: right;\">\n",
       "      <th></th>\n",
       "      <th>Freebase Movie ID</th>\n",
       "      <th>Movie box office revenue</th>\n",
       "    </tr>\n",
       "  </thead>\n",
       "  <tbody>\n",
       "    <tr>\n",
       "      <th>23702</th>\n",
       "      <td>/m/0bth54</td>\n",
       "      <td>2.782275e+09</td>\n",
       "    </tr>\n",
       "    <tr>\n",
       "      <th>22256</th>\n",
       "      <td>/m/0dr_4</td>\n",
       "      <td>2.185372e+09</td>\n",
       "    </tr>\n",
       "    <tr>\n",
       "      <th>28192</th>\n",
       "      <td>/m/062zm5h</td>\n",
       "      <td>1.511758e+09</td>\n",
       "    </tr>\n",
       "    <tr>\n",
       "      <th>30278</th>\n",
       "      <td>/m/0gvsynb</td>\n",
       "      <td>1.328111e+09</td>\n",
       "    </tr>\n",
       "    <tr>\n",
       "      <th>18645</th>\n",
       "      <td>/m/0872p_c</td>\n",
       "      <td>1.123747e+09</td>\n",
       "    </tr>\n",
       "    <tr>\n",
       "      <th>80920</th>\n",
       "      <td>/m/017jd9</td>\n",
       "      <td>1.119930e+09</td>\n",
       "    </tr>\n",
       "    <tr>\n",
       "      <th>54719</th>\n",
       "      <td>/m/0bpm4yw</td>\n",
       "      <td>1.078009e+09</td>\n",
       "    </tr>\n",
       "    <tr>\n",
       "      <th>69586</th>\n",
       "      <td>/m/04hwbq</td>\n",
       "      <td>1.063172e+09</td>\n",
       "    </tr>\n",
       "    <tr>\n",
       "      <th>14303</th>\n",
       "      <td>/m/09v8clw</td>\n",
       "      <td>1.043872e+09</td>\n",
       "    </tr>\n",
       "    <tr>\n",
       "      <th>50039</th>\n",
       "      <td>/m/0ddt_</td>\n",
       "      <td>1.027045e+09</td>\n",
       "    </tr>\n",
       "  </tbody>\n",
       "</table>\n",
       "</div>"
      ],
      "text/plain": [
       "      Freebase Movie ID  Movie box office revenue\n",
       "23702         /m/0bth54              2.782275e+09\n",
       "22256          /m/0dr_4              2.185372e+09\n",
       "28192        /m/062zm5h              1.511758e+09\n",
       "30278        /m/0gvsynb              1.328111e+09\n",
       "18645        /m/0872p_c              1.123747e+09\n",
       "80920         /m/017jd9              1.119930e+09\n",
       "54719        /m/0bpm4yw              1.078009e+09\n",
       "69586         /m/04hwbq              1.063172e+09\n",
       "14303        /m/09v8clw              1.043872e+09\n",
       "50039          /m/0ddt_              1.027045e+09"
      ]
     },
     "execution_count": 109,
     "metadata": {},
     "output_type": "execute_result"
    }
   ],
   "source": [
    "\n",
    "meta_data = meta_data.sort_values('Movie box office revenue', ascending=False)\n",
    "df_revenue = meta_data[['Freebase Movie ID', 'Movie box office revenue']]\n",
    "df_revenue.head(10)"
   ]
  },
  {
   "cell_type": "code",
   "execution_count": 110,
   "metadata": {},
   "outputs": [
    {
     "data": {
      "text/html": [
       "<div>\n",
       "<style scoped>\n",
       "    .dataframe tbody tr th:only-of-type {\n",
       "        vertical-align: middle;\n",
       "    }\n",
       "\n",
       "    .dataframe tbody tr th {\n",
       "        vertical-align: top;\n",
       "    }\n",
       "\n",
       "    .dataframe thead th {\n",
       "        text-align: right;\n",
       "    }\n",
       "</style>\n",
       "<table border=\"1\" class=\"dataframe\">\n",
       "  <thead>\n",
       "    <tr style=\"text-align: right;\">\n",
       "      <th></th>\n",
       "      <th>Unnamed: 0</th>\n",
       "      <th>Wikidata URI</th>\n",
       "      <th>Wikidata ID</th>\n",
       "      <th>IMDb ID</th>\n",
       "    </tr>\n",
       "  </thead>\n",
       "  <tbody>\n",
       "    <tr>\n",
       "      <th>0</th>\n",
       "      <td>/m/03vyhn</td>\n",
       "      <td>http://www.wikidata.org/entity/Q261700</td>\n",
       "      <td>Q261700</td>\n",
       "      <td>tt0228333</td>\n",
       "    </tr>\n",
       "    <tr>\n",
       "      <th>1</th>\n",
       "      <td>/m/08yl5d</td>\n",
       "      <td>http://www.wikidata.org/entity/Q16250726</td>\n",
       "      <td>Q16250726</td>\n",
       "      <td>tt0245916</td>\n",
       "    </tr>\n",
       "    <tr>\n",
       "      <th>2</th>\n",
       "      <td>/m/0crgdbh</td>\n",
       "      <td>http://www.wikidata.org/entity/Q4978832</td>\n",
       "      <td>Q4978832</td>\n",
       "      <td>tt0094806</td>\n",
       "    </tr>\n",
       "    <tr>\n",
       "      <th>3</th>\n",
       "      <td>/m/0285_cd</td>\n",
       "      <td>http://www.wikidata.org/entity/Q7995657</td>\n",
       "      <td>Q7995657</td>\n",
       "      <td>tt0094320</td>\n",
       "    </tr>\n",
       "    <tr>\n",
       "      <th>4</th>\n",
       "      <td>/m/01mrr1</td>\n",
       "      <td>http://www.wikidata.org/entity/Q869644</td>\n",
       "      <td>Q869644</td>\n",
       "      <td>tt0083949</td>\n",
       "    </tr>\n",
       "    <tr>\n",
       "      <th>...</th>\n",
       "      <td>...</td>\n",
       "      <td>...</td>\n",
       "      <td>...</td>\n",
       "      <td>...</td>\n",
       "    </tr>\n",
       "    <tr>\n",
       "      <th>75188</th>\n",
       "      <td>/m/0j7hxnt</td>\n",
       "      <td>http://www.wikidata.org/entity/Q6819873</td>\n",
       "      <td>Q6819873</td>\n",
       "      <td>tt1816585</td>\n",
       "    </tr>\n",
       "    <tr>\n",
       "      <th>75189</th>\n",
       "      <td>/m/0g4pl34</td>\n",
       "      <td>http://www.wikidata.org/entity/Q12125420</td>\n",
       "      <td>Q12125420</td>\n",
       "      <td>tt1606259</td>\n",
       "    </tr>\n",
       "    <tr>\n",
       "      <th>75190</th>\n",
       "      <td>/m/02pygw1</td>\n",
       "      <td>http://www.wikidata.org/entity/Q4770308</td>\n",
       "      <td>Q4770308</td>\n",
       "      <td>tt0362411</td>\n",
       "    </tr>\n",
       "    <tr>\n",
       "      <th>75191</th>\n",
       "      <td>/m/03pcrp</td>\n",
       "      <td>http://www.wikidata.org/entity/Q2663931</td>\n",
       "      <td>Q2663931</td>\n",
       "      <td>tt0113726</td>\n",
       "    </tr>\n",
       "    <tr>\n",
       "      <th>75192</th>\n",
       "      <td>/m/02w7zz8</td>\n",
       "      <td>http://www.wikidata.org/entity/Q7578560</td>\n",
       "      <td>Q7578560</td>\n",
       "      <td>tt0354216</td>\n",
       "    </tr>\n",
       "  </tbody>\n",
       "</table>\n",
       "<p>75193 rows × 4 columns</p>\n",
       "</div>"
      ],
      "text/plain": [
       "       Unnamed: 0                              Wikidata URI Wikidata ID  \\\n",
       "0       /m/03vyhn    http://www.wikidata.org/entity/Q261700     Q261700   \n",
       "1       /m/08yl5d  http://www.wikidata.org/entity/Q16250726   Q16250726   \n",
       "2      /m/0crgdbh   http://www.wikidata.org/entity/Q4978832    Q4978832   \n",
       "3      /m/0285_cd   http://www.wikidata.org/entity/Q7995657    Q7995657   \n",
       "4       /m/01mrr1    http://www.wikidata.org/entity/Q869644     Q869644   \n",
       "...           ...                                       ...         ...   \n",
       "75188  /m/0j7hxnt   http://www.wikidata.org/entity/Q6819873    Q6819873   \n",
       "75189  /m/0g4pl34  http://www.wikidata.org/entity/Q12125420   Q12125420   \n",
       "75190  /m/02pygw1   http://www.wikidata.org/entity/Q4770308    Q4770308   \n",
       "75191   /m/03pcrp   http://www.wikidata.org/entity/Q2663931    Q2663931   \n",
       "75192  /m/02w7zz8   http://www.wikidata.org/entity/Q7578560    Q7578560   \n",
       "\n",
       "         IMDb ID  \n",
       "0      tt0228333  \n",
       "1      tt0245916  \n",
       "2      tt0094806  \n",
       "3      tt0094320  \n",
       "4      tt0083949  \n",
       "...          ...  \n",
       "75188  tt1816585  \n",
       "75189  tt1606259  \n",
       "75190  tt0362411  \n",
       "75191  tt0113726  \n",
       "75192  tt0354216  \n",
       "\n",
       "[75193 rows x 4 columns]"
      ]
     },
     "execution_count": 110,
     "metadata": {},
     "output_type": "execute_result"
    }
   ],
   "source": [
    "# read wikidata ids\n",
    "pd.read_csv(processed_path.joinpath('wikipedia_ids.csv'))"
   ]
  },
  {
   "cell_type": "code",
   "execution_count": 111,
   "metadata": {},
   "outputs": [],
   "source": [
    "# map freebase id to wikidata id\n",
    "wikipedia_ids = pd.read_csv(processed_path.joinpath('wikipedia_ids.csv'), names=['freebase_id', 'ignore', 'movie_id', 'imdb_id'])\n",
    "wikipedia_ids.head()\n",
    "free_wiki_map = wikipedia_ids[['freebase_id', 'movie_id']].loc[1:]\n",
    "freebase_revenue = df_revenue.join(free_wiki_map.set_index('freebase_id'), on='Freebase Movie ID')"
   ]
  },
  {
   "cell_type": "code",
   "execution_count": 112,
   "metadata": {},
   "outputs": [
    {
     "data": {
      "text/plain": [
       "<matplotlib.legend.Legend at 0x289f71f10>"
      ]
     },
     "execution_count": 112,
     "metadata": {},
     "output_type": "execute_result"
    },
    {
     "data": {
      "image/png": "[encoded data removed]",
      "text/plain": [
       "<Figure size 640x480 with 1 Axes>"
      ]
     },
     "metadata": {},
     "output_type": "display_data"
    }
   ],
   "source": [
    "# load inflation data\n",
    "inflation = pd.read_csv(cpi_path, names=['date', 'cpi'], skiprows=1)\n",
    "inflation['date'] = pd.to_datetime(inflation['date'])\n",
    "# calculate inflation multiplier\n",
    "inflation['multiplier'] = inflation['cpi'].iloc[-1] / inflation['cpi']\n",
    "plt.plot(inflation['date'], inflation['multiplier'], label='Inflation Multiplier')\n",
    "plt.plot(inflation['date'], inflation['cpi'], label='CPI')\n",
    "plt.xlabel('Year')\n",
    "plt.legend()"
   ]
  },
  {
   "cell_type": "code",
   "execution_count": 113,
   "metadata": {},
   "outputs": [
    {
     "data": {
      "application/vnd.plotly.v1+json": {
       "config": {
        "plotlyServerURL": "https://plot.ly"
       },
       "data": [
        {
         "hovertemplate": "date=%{x}<br>cpi=%{y}<extra></extra>",
         "legendgroup": "",
         "line": {
          "color": "#636efa",
          "dash": "solid"
         },
         "marker": {
          "symbol": "circle"
         },
         "mode": "lines",
         "name": "",
         "showlegend": false,
         "type": "scattergl",
         "x": [
          "1913-01-01T00:00:00",
          "1913-02-01T00:00:00",
          "1913-03-01T00:00:00",
          "1913-04-01T00:00:00",
          "1913-05-01T00:00:00",
          "1913-06-01T00:00:00",
          "1913-07-01T00:00:00",
          "1913-08-01T00:00:00",
          "1913-09-01T00:00:00",
          "1913-10-01T00:00:00",
          "1913-11-01T00:00:00",
          "1913-12-01T00:00:00",
          "1914-01-01T00:00:00",
          "1914-02-01T00:00:00",
          "1914-03-01T00:00:00",
          "1914-04-01T00:00:00",
          "1914-05-01T00:00:00",
          "1914-06-01T00:00:00",
          "1914-07-01T00:00:00",
          "1914-08-01T00:00:00",
          "1914-09-01T00:00:00",
          "1914-10-01T00:00:00",
          "1914-11-01T00:00:00",
          "1914-12-01T00:00:00",
          "1915-01-01T00:00:00",
          "1915-02-01T00:00:00",
          "1915-03-01T00:00:00",
          "1915-04-01T00:00:00",
          "1915-05-01T00:00:00",
          "1915-06-01T00:00:00",
          "1915-07-01T00:00:00",
          "1915-08-01T00:00:00",
          "1915-09-01T00:00:00",
          "1915-10-01T00:00:00",
          "1915-11-01T00:00:00",
          "1915-12-01T00:00:00",
          "1916-01-01T00:00:00",
          "1916-02-01T00:00:00",
          "1916-03-01T00:00:00",
          "1916-04-01T00:00:00",
          "1916-05-01T00:00:00",
          "1916-06-01T00:00:00",
          "1916-07-01T00:00:00",
          "1916-08-01T00:00:00",
          "1916-09-01T00:00:00",
          "1916-10-01T00:00:00",
          "1916-11-01T00:00:00",
          "1916-12-01T00:00:00",
          "1917-01-01T00:00:00",
          "1917-02-01T00:00:00",
          "1917-03-01T00:00:00",
          "1917-04-01T00:00:00",
          "1917-05-01T00:00:00",
          "1917-06-01T00:00:00",
          "1917-07-01T00:00:00",
          "1917-08-01T00:00:00",
          "1917-09-01T00:00:00",
          "1917-10-01T00:00:00",
          "1917-11-01T00:00:00",
          "1917-12-01T00:00:00",
          "1918-01-01T00:00:00",
          "1918-02-01T00:00:00",
          "1918-03-01T00:00:00",
          "1918-04-01T00:00:00",
          "1918-05-01T00:00:00",
          "1918-06-01T00:00:00",
          "1918-07-01T00:00:00",
          "1918-08-01T00:00:00",
          "1918-09-01T00:00:00",
          "1918-10-01T00:00:00",
          "1918-11-01T00:00:00",
          "1918-12-01T00:00:00",
          "1919-01-01T00:00:00",
          "1919-02-01T00:00:00",
          "1919-03-01T00:00:00",
          "1919-04-01T00:00:00",
          "1919-05-01T00:00:00",
          "1919-06-01T00:00:00",
          "1919-07-01T00:00:00",
          "1919-08-01T00:00:00",
          "1919-09-01T00:00:00",
          "1919-10-01T00:00:00",
          "1919-11-01T00:00:00",
          "1919-12-01T00:00:00",
          "1920-01-01T00:00:00",
          "1920-02-01T00:00:00",
          "1920-03-01T00:00:00",
          "1920-04-01T00:00:00",
          "1920-05-01T00:00:00",
          "1920-06-01T00:00:00",
          "1920-07-01T00:00:00",
          "1920-08-01T00:00:00",
          "1920-09-01T00:00:00",
          "1920-10-01T00:00:00",
          "1920-11-01T00:00:00",
          "1920-12-01T00:00:00",
          "1921-01-01T00:00:00",
          "1921-02-01T00:00:00",
          "1921-03-01T00:00:00",
          "1921-04-01T00:00:00",
          "1921-05-01T00:00:00",
          "1921-06-01T00:00:00",
          "1921-07-01T00:00:00",
          "1921-08-01T00:00:00",
          "1921-09-01T00:00:00",
          "1921-10-01T00:00:00",
          "1921-11-01T00:00:00",
          "1921-12-01T00:00:00",
          "1922-01-01T00:00:00",
          "1922-02-01T00:00:00",
          "1922-03-01T00:00:00",
          "1922-04-01T00:00:00",
          "1922-05-01T00:00:00",
          "1922-06-01T00:00:00",
          "1922-07-01T00:00:00",
          "1922-08-01T00:00:00",
          "1922-09-01T00:00:00",
          "1922-10-01T00:00:00",
          "1922-11-01T00:00:00",
          "1922-12-01T00:00:00",
          "1923-01-01T00:00:00",
          "1923-02-01T00:00:00",
          "1923-03-01T00:00:00",
          "1923-04-01T00:00:00",
          "1923-05-01T00:00:00",
          "1923-06-01T00:00:00",
          "1923-07-01T00:00:00",
          "1923-08-01T00:00:00",
          "1923-09-01T00:00:00",
          "1923-10-01T00:00:00",
          "1923-11-01T00:00:00",
          "1923-12-01T00:00:00",
          "1924-01-01T00:00:00",
          "1924-02-01T00:00:00",
          "1924-03-01T00:00:00",
          "1924-04-01T00:00:00",
          "1924-05-01T00:00:00",
          "1924-06-01T00:00:00",
          "1924-07-01T00:00:00",
          "1924-08-01T00:00:00",
          "1924-09-01T00:00:00",
          "1924-10-01T00:00:00",
          "1924-11-01T00:00:00",
          "1924-12-01T00:00:00",
          "1925-01-01T00:00:00",
          "1925-02-01T00:00:00",
          "1925-03-01T00:00:00",
          "1925-04-01T00:00:00",
          "1925-05-01T00:00:00",
          "1925-06-01T00:00:00",
          "1925-07-01T00:00:00",
          "1925-08-01T00:00:00",
          "1925-09-01T00:00:00",
          "1925-10-01T00:00:00",
          "1925-11-01T00:00:00",
          "1925-12-01T00:00:00",
          "1926-01-01T00:00:00",
          "1926-02-01T00:00:00",
          "1926-03-01T00:00:00",
          "1926-04-01T00:00:00",
          "1926-05-01T00:00:00",
          "1926-06-01T00:00:00",
          "1926-07-01T00:00:00",
          "1926-08-01T00:00:00",
          "1926-09-01T00:00:00",
          "1926-10-01T00:00:00",
          "1926-11-01T00:00:00",
          "1926-12-01T00:00:00",
          "1927-01-01T00:00:00",
          "1927-02-01T00:00:00",
          "1927-03-01T00:00:00",
          "1927-04-01T00:00:00",
          "1927-05-01T00:00:00",
          "1927-06-01T00:00:00",
          "1927-07-01T00:00:00",
          "1927-08-01T00:00:00",
          "1927-09-01T00:00:00",
          "1927-10-01T00:00:00",
          "1927-11-01T00:00:00",
          "1927-12-01T00:00:00",
          "1928-01-01T00:00:00",
          "1928-02-01T00:00:00",
          "1928-03-01T00:00:00",
          "1928-04-01T00:00:00",
          "1928-05-01T00:00:00",
          "1928-06-01T00:00:00",
          "1928-07-01T00:00:00",
          "1928-08-01T00:00:00",
          "1928-09-01T00:00:00",
          "1928-10-01T00:00:00",
          "1928-11-01T00:00:00",
          "1928-12-01T00:00:00",
          "1929-01-01T00:00:00",
          "1929-02-01T00:00:00",
          "1929-03-01T00:00:00",
          "1929-04-01T00:00:00",
          "1929-05-01T00:00:00",
          "1929-06-01T00:00:00",
          "1929-07-01T00:00:00",
          "1929-08-01T00:00:00",
          "1929-09-01T00:00:00",
          "1929-10-01T00:00:00",
          "1929-11-01T00:00:00",
          "1929-12-01T00:00:00",
          "1930-01-01T00:00:00",
          "1930-02-01T00:00:00",
          "1930-03-01T00:00:00",
          "1930-04-01T00:00:00",
          "1930-05-01T00:00:00",
          "1930-06-01T00:00:00",
          "1930-07-01T00:00:00",
          "1930-08-01T00:00:00",
          "1930-09-01T00:00:00",
          "1930-10-01T00:00:00",
          "1930-11-01T00:00:00",
          "1930-12-01T00:00:00",
          "1931-01-01T00:00:00",
          "1931-02-01T00:00:00",
          "1931-03-01T00:00:00",
          "1931-04-01T00:00:00",
          "1931-05-01T00:00:00",
          "1931-06-01T00:00:00",
          "1931-07-01T00:00:00",
          "1931-08-01T00:00:00",
          "1931-09-01T00:00:00",
          "1931-10-01T00:00:00",
          "1931-11-01T00:00:00",
          "1931-12-01T00:00:00",
          "1932-01-01T00:00:00",
          "1932-02-01T00:00:00",
          "1932-03-01T00:00:00",
          "1932-04-01T00:00:00",
          "1932-05-01T00:00:00",
          "1932-06-01T00:00:00",
          "1932-07-01T00:00:00",
          "1932-08-01T00:00:00",
          "1932-09-01T00:00:00",
          "1932-10-01T00:00:00",
          "1932-11-01T00:00:00",
          "1932-12-01T00:00:00",
          "1933-01-01T00:00:00",
          "1933-02-01T00:00:00",
          "1933-03-01T00:00:00",
          "1933-04-01T00:00:00",
          "1933-05-01T00:00:00",
          "1933-06-01T00:00:00",
          "1933-07-01T00:00:00",
          "1933-08-01T00:00:00",
          "1933-09-01T00:00:00",
          "1933-10-01T00:00:00",
          "1933-11-01T00:00:00",
          "1933-12-01T00:00:00",
          "1934-01-01T00:00:00",
          "1934-02-01T00:00:00",
          "1934-03-01T00:00:00",
          "1934-04-01T00:00:00",
          "1934-05-01T00:00:00",
          "1934-06-01T00:00:00",
          "1934-07-01T00:00:00",
          "1934-08-01T00:00:00",
          "1934-09-01T00:00:00",
          "1934-10-01T00:00:00",
          "1934-11-01T00:00:00",
          "1934-12-01T00:00:00",
          "1935-01-01T00:00:00",
          "1935-02-01T00:00:00",
          "1935-03-01T00:00:00",
          "1935-04-01T00:00:00",
          "1935-05-01T00:00:00",
          "1935-06-01T00:00:00",
          "1935-07-01T00:00:00",
          "1935-08-01T00:00:00",
          "1935-09-01T00:00:00",
          "1935-10-01T00:00:00",
          "1935-11-01T00:00:00",
          "1935-12-01T00:00:00",
          "1936-01-01T00:00:00",
          "1936-02-01T00:00:00",
          "1936-03-01T00:00:00",
          "1936-04-01T00:00:00",
          "1936-05-01T00:00:00",
          "1936-06-01T00:00:00",
          "1936-07-01T00:00:00",
          "1936-08-01T00:00:00",
          "1936-09-01T00:00:00",
          "1936-10-01T00:00:00",
          "1936-11-01T00:00:00",
          "1936-12-01T00:00:00",
          "1937-01-01T00:00:00",
          "1937-02-01T00:00:00",
          "1937-03-01T00:00:00",
          "1937-04-01T00:00:00",
          "1937-05-01T00:00:00",
          "1937-06-01T00:00:00",
          "1937-07-01T00:00:00",
          "1937-08-01T00:00:00",
          "1937-09-01T00:00:00",
          "1937-10-01T00:00:00",
          "1937-11-01T00:00:00",
          "1937-12-01T00:00:00",
          "1938-01-01T00:00:00",
          "1938-02-01T00:00:00",
          "1938-03-01T00:00:00",
          "1938-04-01T00:00:00",
          "1938-05-01T00:00:00",
          "1938-06-01T00:00:00",
          "1938-07-01T00:00:00",
          "1938-08-01T00:00:00",
          "1938-09-01T00:00:00",
          "1938-10-01T00:00:00",
          "1938-11-01T00:00:00",
          "1938-12-01T00:00:00",
          "1939-01-01T00:00:00",
          "1939-02-01T00:00:00",
          "1939-03-01T00:00:00",
          "1939-04-01T00:00:00",
          "1939-05-01T00:00:00",
          "1939-06-01T00:00:00",
          "1939-07-01T00:00:00",
          "1939-08-01T00:00:00",
          "1939-09-01T00:00:00",
          "1939-10-01T00:00:00",
          "1939-11-01T00:00:00",
          "1939-12-01T00:00:00",
          "1940-01-01T00:00:00",
          "1940-02-01T00:00:00",
          "1940-03-01T00:00:00",
          "1940-04-01T00:00:00",
          "1940-05-01T00:00:00",
          "1940-06-01T00:00:00",
          "1940-07-01T00:00:00",
          "1940-08-01T00:00:00",
          "1940-09-01T00:00:00",
          "1940-10-01T00:00:00",
          "1940-11-01T00:00:00",
          "1940-12-01T00:00:00",
          "1941-01-01T00:00:00",
          "1941-02-01T00:00:00",
          "1941-03-01T00:00:00",
          "1941-04-01T00:00:00",
          "1941-05-01T00:00:00",
          "1941-06-01T00:00:00",
          "1941-07-01T00:00:00",
          "1941-08-01T00:00:00",
          "1941-09-01T00:00:00",
          "1941-10-01T00:00:00",
          "1941-11-01T00:00:00",
          "1941-12-01T00:00:00",
          "1942-01-01T00:00:00",
          "1942-02-01T00:00:00",
          "1942-03-01T00:00:00",
          "1942-04-01T00:00:00",
          "1942-05-01T00:00:00",
          "1942-06-01T00:00:00",
          "1942-07-01T00:00:00",
          "1942-08-01T00:00:00",
          "1942-09-01T00:00:00",
          "1942-10-01T00:00:00",
          "1942-11-01T00:00:00",
          "1942-12-01T00:00:00",
          "1943-01-01T00:00:00",
          "1943-02-01T00:00:00",
          "1943-03-01T00:00:00",
          "1943-04-01T00:00:00",
          "1943-05-01T00:00:00",
          "1943-06-01T00:00:00",
          "1943-07-01T00:00:00",
          "1943-08-01T00:00:00",
          "1943-09-01T00:00:00",
          "1943-10-01T00:00:00",
          "1943-11-01T00:00:00",
          "1943-12-01T00:00:00",
          "1944-01-01T00:00:00",
          "1944-02-01T00:00:00",
          "1944-03-01T00:00:00",
          "1944-04-01T00:00:00",
          "1944-05-01T00:00:00",
          "1944-06-01T00:00:00",
          "1944-07-01T00:00:00",
          "1944-08-01T00:00:00",
          "1944-09-01T00:00:00",
          "1944-10-01T00:00:00",
          "1944-11-01T00:00:00",
          "1944-12-01T00:00:00",
          "1945-01-01T00:00:00",
          "1945-02-01T00:00:00",
          "1945-03-01T00:00:00",
          "1945-04-01T00:00:00",
          "1945-05-01T00:00:00",
          "1945-06-01T00:00:00",
          "1945-07-01T00:00:00",
          "1945-08-01T00:00:00",
          "1945-09-01T00:00:00",
          "1945-10-01T00:00:00",
          "1945-11-01T00:00:00",
          "1945-12-01T00:00:00",
          "1946-01-01T00:00:00",
          "1946-02-01T00:00:00",
          "1946-03-01T00:00:00",
          "1946-04-01T00:00:00",
          "1946-05-01T00:00:00",
          "1946-06-01T00:00:00",
          "1946-07-01T00:00:00",
          "1946-08-01T00:00:00",
          "1946-09-01T00:00:00",
          "1946-10-01T00:00:00",
          "1946-11-01T00:00:00",
          "1946-12-01T00:00:00",
          "1947-01-01T00:00:00",
          "1947-02-01T00:00:00",
          "1947-03-01T00:00:00",
          "1947-04-01T00:00:00",
          "1947-05-01T00:00:00",
          "1947-06-01T00:00:00",
          "1947-07-01T00:00:00",
          "1947-08-01T00:00:00",
          "1947-09-01T00:00:00",
          "1947-10-01T00:00:00",
          "1947-11-01T00:00:00",
          "1947-12-01T00:00:00",
          "1948-01-01T00:00:00",
          "1948-02-01T00:00:00",
          "1948-03-01T00:00:00",
          "1948-04-01T00:00:00",
          "1948-05-01T00:00:00",
          "1948-06-01T00:00:00",
          "1948-07-01T00:00:00",
          "1948-08-01T00:00:00",
          "1948-09-01T00:00:00",
          "1948-10-01T00:00:00",
          "1948-11-01T00:00:00",
          "1948-12-01T00:00:00",
          "1949-01-01T00:00:00",
          "1949-02-01T00:00:00",
          "1949-03-01T00:00:00",
          "1949-04-01T00:00:00",
          "1949-05-01T00:00:00",
          "1949-06-01T00:00:00",
          "1949-07-01T00:00:00",
          "1949-08-01T00:00:00",
          "1949-09-01T00:00:00",
          "1949-10-01T00:00:00",
          "1949-11-01T00:00:00",
          "1949-12-01T00:00:00",
          "1950-01-01T00:00:00",
          "1950-02-01T00:00:00",
          "1950-03-01T00:00:00",
          "1950-04-01T00:00:00",
          "1950-05-01T00:00:00",
          "1950-06-01T00:00:00",
          "1950-07-01T00:00:00",
          "1950-08-01T00:00:00",
          "1950-09-01T00:00:00",
          "1950-10-01T00:00:00",
          "1950-11-01T00:00:00",
          "1950-12-01T00:00:00",
          "1951-01-01T00:00:00",
          "1951-02-01T00:00:00",
          "1951-03-01T00:00:00",
          "1951-04-01T00:00:00",
          "1951-05-01T00:00:00",
          "1951-06-01T00:00:00",
          "1951-07-01T00:00:00",
          "1951-08-01T00:00:00",
          "1951-09-01T00:00:00",
          "1951-10-01T00:00:00",
          "1951-11-01T00:00:00",
          "1951-12-01T00:00:00",
          "1952-01-01T00:00:00",
          "1952-02-01T00:00:00",
          "1952-03-01T00:00:00",
          "1952-04-01T00:00:00",
          "1952-05-01T00:00:00",
          "1952-06-01T00:00:00",
          "1952-07-01T00:00:00",
          "1952-08-01T00:00:00",
          "1952-09-01T00:00:00",
          "1952-10-01T00:00:00",
          "1952-11-01T00:00:00",
          "1952-12-01T00:00:00",
          "1953-01-01T00:00:00",
          "1953-02-01T00:00:00",
          "1953-03-01T00:00:00",
          "1953-04-01T00:00:00",
          "1953-05-01T00:00:00",
          "1953-06-01T00:00:00",
          "1953-07-01T00:00:00",
          "1953-08-01T00:00:00",
          "1953-09-01T00:00:00",
          "1953-10-01T00:00:00",
          "1953-11-01T00:00:00",
          "1953-12-01T00:00:00",
          "1954-01-01T00:00:00",
          "1954-02-01T00:00:00",
          "1954-03-01T00:00:00",
          "1954-04-01T00:00:00",
          "1954-05-01T00:00:00",
          "1954-06-01T00:00:00",
          "1954-07-01T00:00:00",
          "1954-08-01T00:00:00",
          "1954-09-01T00:00:00",
          "1954-10-01T00:00:00",
          "1954-11-01T00:00:00",
          "1954-12-01T00:00:00",
          "1955-01-01T00:00:00",
          "1955-02-01T00:00:00",
          "1955-03-01T00:00:00",
          "1955-04-01T00:00:00",
          "1955-05-01T00:00:00",
          "1955-06-01T00:00:00",
          "1955-07-01T00:00:00",
          "1955-08-01T00:00:00",
          "1955-09-01T00:00:00",
          "1955-10-01T00:00:00",
          "1955-11-01T00:00:00",
          "1955-12-01T00:00:00",
          "1956-01-01T00:00:00",
          "1956-02-01T00:00:00",
          "1956-03-01T00:00:00",
          "1956-04-01T00:00:00",
          "1956-05-01T00:00:00",
          "1956-06-01T00:00:00",
          "1956-07-01T00:00:00",
          "1956-08-01T00:00:00",
          "1956-09-01T00:00:00",
          "1956-10-01T00:00:00",
          "1956-11-01T00:00:00",
          "1956-12-01T00:00:00",
          "1957-01-01T00:00:00",
          "1957-02-01T00:00:00",
          "1957-03-01T00:00:00",
          "1957-04-01T00:00:00",
          "1957-05-01T00:00:00",
          "1957-06-01T00:00:00",
          "1957-07-01T00:00:00",
          "1957-08-01T00:00:00",
          "1957-09-01T00:00:00",
          "1957-10-01T00:00:00",
          "1957-11-01T00:00:00",
          "1957-12-01T00:00:00",
          "1958-01-01T00:00:00",
          "1958-02-01T00:00:00",
          "1958-03-01T00:00:00",
          "1958-04-01T00:00:00",
          "1958-05-01T00:00:00",
          "1958-06-01T00:00:00",
          "1958-07-01T00:00:00",
          "1958-08-01T00:00:00",
          "1958-09-01T00:00:00",
          "1958-10-01T00:00:00",
          "1958-11-01T00:00:00",
          "1958-12-01T00:00:00",
          "1959-01-01T00:00:00",
          "1959-02-01T00:00:00",
          "1959-03-01T00:00:00",
          "1959-04-01T00:00:00",
          "1959-05-01T00:00:00",
          "1959-06-01T00:00:00",
          "1959-07-01T00:00:00",
          "1959-08-01T00:00:00",
          "1959-09-01T00:00:00",
          "1959-10-01T00:00:00",
          "1959-11-01T00:00:00",
          "1959-12-01T00:00:00",
          "1960-01-01T00:00:00",
          "1960-02-01T00:00:00",
          "1960-03-01T00:00:00",
          "1960-04-01T00:00:00",
          "1960-05-01T00:00:00",
          "1960-06-01T00:00:00",
          "1960-07-01T00:00:00",
          "1960-08-01T00:00:00",
          "1960-09-01T00:00:00",
          "1960-10-01T00:00:00",
          "1960-11-01T00:00:00",
          "1960-12-01T00:00:00",
          "1961-01-01T00:00:00",
          "1961-02-01T00:00:00",
          "1961-03-01T00:00:00",
          "1961-04-01T00:00:00",
          "1961-05-01T00:00:00",
          "1961-06-01T00:00:00",
          "1961-07-01T00:00:00",
          "1961-08-01T00:00:00",
          "1961-09-01T00:00:00",
          "1961-10-01T00:00:00",
          "1961-11-01T00:00:00",
          "1961-12-01T00:00:00",
          "1962-01-01T00:00:00",
          "1962-02-01T00:00:00",
          "1962-03-01T00:00:00",
          "1962-04-01T00:00:00",
          "1962-05-01T00:00:00",
          "1962-06-01T00:00:00",
          "1962-07-01T00:00:00",
          "1962-08-01T00:00:00",
          "1962-09-01T00:00:00",
          "1962-10-01T00:00:00",
          "1962-11-01T00:00:00",
          "1962-12-01T00:00:00",
          "1963-01-01T00:00:00",
          "1963-02-01T00:00:00",
          "1963-03-01T00:00:00",
          "1963-04-01T00:00:00",
          "1963-05-01T00:00:00",
          "1963-06-01T00:00:00",
          "1963-07-01T00:00:00",
          "1963-08-01T00:00:00",
          "1963-09-01T00:00:00",
          "1963-10-01T00:00:00",
          "1963-11-01T00:00:00",
          "1963-12-01T00:00:00",
          "1964-01-01T00:00:00",
          "1964-02-01T00:00:00",
          "1964-03-01T00:00:00",
          "1964-04-01T00:00:00",
          "1964-05-01T00:00:00",
          "1964-06-01T00:00:00",
          "1964-07-01T00:00:00",
          "1964-08-01T00:00:00",
          "1964-09-01T00:00:00",
          "1964-10-01T00:00:00",
          "1964-11-01T00:00:00",
          "1964-12-01T00:00:00",
          "1965-01-01T00:00:00",
          "1965-02-01T00:00:00",
          "1965-03-01T00:00:00",
          "1965-04-01T00:00:00",
          "1965-05-01T00:00:00",
          "1965-06-01T00:00:00",
          "1965-07-01T00:00:00",
          "1965-08-01T00:00:00",
          "1965-09-01T00:00:00",
          "1965-10-01T00:00:00",
          "1965-11-01T00:00:00",
          "1965-12-01T00:00:00",
          "1966-01-01T00:00:00",
          "1966-02-01T00:00:00",
          "1966-03-01T00:00:00",
          "1966-04-01T00:00:00",
          "1966-05-01T00:00:00",
          "1966-06-01T00:00:00",
          "1966-07-01T00:00:00",
          "1966-08-01T00:00:00",
          "1966-09-01T00:00:00",
          "1966-10-01T00:00:00",
          "1966-11-01T00:00:00",
          "1966-12-01T00:00:00",
          "1967-01-01T00:00:00",
          "1967-02-01T00:00:00",
          "1967-03-01T00:00:00",
          "1967-04-01T00:00:00",
          "1967-05-01T00:00:00",
          "1967-06-01T00:00:00",
          "1967-07-01T00:00:00",
          "1967-08-01T00:00:00",
          "1967-09-01T00:00:00",
          "1967-10-01T00:00:00",
          "1967-11-01T00:00:00",
          "1967-12-01T00:00:00",
          "1968-01-01T00:00:00",
          "1968-02-01T00:00:00",
          "1968-03-01T00:00:00",
          "1968-04-01T00:00:00",
          "1968-05-01T00:00:00",
          "1968-06-01T00:00:00",
          "1968-07-01T00:00:00",
          "1968-08-01T00:00:00",
          "1968-09-01T00:00:00",
          "1968-10-01T00:00:00",
          "1968-11-01T00:00:00",
          "1968-12-01T00:00:00",
          "1969-01-01T00:00:00",
          "1969-02-01T00:00:00",
          "1969-03-01T00:00:00",
          "1969-04-01T00:00:00",
          "1969-05-01T00:00:00",
          "1969-06-01T00:00:00",
          "1969-07-01T00:00:00",
          "1969-08-01T00:00:00",
          "1969-09-01T00:00:00",
          "1969-10-01T00:00:00",
          "1969-11-01T00:00:00",
          "1969-12-01T00:00:00",
          "1970-01-01T00:00:00",
          "1970-02-01T00:00:00",
          "1970-03-01T00:00:00",
          "1970-04-01T00:00:00",
          "1970-05-01T00:00:00",
          "1970-06-01T00:00:00",
          "1970-07-01T00:00:00",
          "1970-08-01T00:00:00",
          "1970-09-01T00:00:00",
          "1970-10-01T00:00:00",
          "1970-11-01T00:00:00",
          "1970-12-01T00:00:00",
          "1971-01-01T00:00:00",
          "1971-02-01T00:00:00",
          "1971-03-01T00:00:00",
          "1971-04-01T00:00:00",
          "1971-05-01T00:00:00",
          "1971-06-01T00:00:00",
          "1971-07-01T00:00:00",
          "1971-08-01T00:00:00",
          "1971-09-01T00:00:00",
          "1971-10-01T00:00:00",
          "1971-11-01T00:00:00",
          "1971-12-01T00:00:00",
          "1972-01-01T00:00:00",
          "1972-02-01T00:00:00",
          "1972-03-01T00:00:00",
          "1972-04-01T00:00:00",
          "1972-05-01T00:00:00",
          "1972-06-01T00:00:00",
          "1972-07-01T00:00:00",
          "1972-08-01T00:00:00",
          "1972-09-01T00:00:00",
          "1972-10-01T00:00:00",
          "1972-11-01T00:00:00",
          "1972-12-01T00:00:00",
          "1973-01-01T00:00:00",
          "1973-02-01T00:00:00",
          "1973-03-01T00:00:00",
          "1973-04-01T00:00:00",
          "1973-05-01T00:00:00",
          "1973-06-01T00:00:00",
          "1973-07-01T00:00:00",
          "1973-08-01T00:00:00",
          "1973-09-01T00:00:00",
          "1973-10-01T00:00:00",
          "1973-11-01T00:00:00",
          "1973-12-01T00:00:00",
          "1974-01-01T00:00:00",
          "1974-02-01T00:00:00",
          "1974-03-01T00:00:00",
          "1974-04-01T00:00:00",
          "1974-05-01T00:00:00",
          "1974-06-01T00:00:00",
          "1974-07-01T00:00:00",
          "1974-08-01T00:00:00",
          "1974-09-01T00:00:00",
          "1974-10-01T00:00:00",
          "1974-11-01T00:00:00",
          "1974-12-01T00:00:00",
          "1975-01-01T00:00:00",
          "1975-02-01T00:00:00",
          "1975-03-01T00:00:00",
          "1975-04-01T00:00:00",
          "1975-05-01T00:00:00",
          "1975-06-01T00:00:00",
          "1975-07-01T00:00:00",
          "1975-08-01T00:00:00",
          "1975-09-01T00:00:00",
          "1975-10-01T00:00:00",
          "1975-11-01T00:00:00",
          "1975-12-01T00:00:00",
          "1976-01-01T00:00:00",
          "1976-02-01T00:00:00",
          "1976-03-01T00:00:00",
          "1976-04-01T00:00:00",
          "1976-05-01T00:00:00",
          "1976-06-01T00:00:00",
          "1976-07-01T00:00:00",
          "1976-08-01T00:00:00",
          "1976-09-01T00:00:00",
          "1976-10-01T00:00:00",
          "1976-11-01T00:00:00",
          "1976-12-01T00:00:00",
          "1977-01-01T00:00:00",
          "1977-02-01T00:00:00",
          "1977-03-01T00:00:00",
          "1977-04-01T00:00:00",
          "1977-05-01T00:00:00",
          "1977-06-01T00:00:00",
          "1977-07-01T00:00:00",
          "1977-08-01T00:00:00",
          "1977-09-01T00:00:00",
          "1977-10-01T00:00:00",
          "1977-11-01T00:00:00",
          "1977-12-01T00:00:00",
          "1978-01-01T00:00:00",
          "1978-02-01T00:00:00",
          "1978-03-01T00:00:00",
          "1978-04-01T00:00:00",
          "1978-05-01T00:00:00",
          "1978-06-01T00:00:00",
          "1978-07-01T00:00:00",
          "1978-08-01T00:00:00",
          "1978-09-01T00:00:00",
          "1978-10-01T00:00:00",
          "1978-11-01T00:00:00",
          "1978-12-01T00:00:00",
          "1979-01-01T00:00:00",
          "1979-02-01T00:00:00",
          "1979-03-01T00:00:00",
          "1979-04-01T00:00:00",
          "1979-05-01T00:00:00",
          "1979-06-01T00:00:00",
          "1979-07-01T00:00:00",
          "1979-08-01T00:00:00",
          "1979-09-01T00:00:00",
          "1979-10-01T00:00:00",
          "1979-11-01T00:00:00",
          "1979-12-01T00:00:00",
          "1980-01-01T00:00:00",
          "1980-02-01T00:00:00",
          "1980-03-01T00:00:00",
          "1980-04-01T00:00:00",
          "1980-05-01T00:00:00",
          "1980-06-01T00:00:00",
          "1980-07-01T00:00:00",
          "1980-08-01T00:00:00",
          "1980-09-01T00:00:00",
          "1980-10-01T00:00:00",
          "1980-11-01T00:00:00",
          "1980-12-01T00:00:00",
          "1981-01-01T00:00:00",
          "1981-02-01T00:00:00",
          "1981-03-01T00:00:00",
          "1981-04-01T00:00:00",
          "1981-05-01T00:00:00",
          "1981-06-01T00:00:00",
          "1981-07-01T00:00:00",
          "1981-08-01T00:00:00",
          "1981-09-01T00:00:00",
          "1981-10-01T00:00:00",
          "1981-11-01T00:00:00",
          "1981-12-01T00:00:00",
          "1982-01-01T00:00:00",
          "1982-02-01T00:00:00",
          "1982-03-01T00:00:00",
          "1982-04-01T00:00:00",
          "1982-05-01T00:00:00",
          "1982-06-01T00:00:00",
          "1982-07-01T00:00:00",
          "1982-08-01T00:00:00",
          "1982-09-01T00:00:00",
          "1982-10-01T00:00:00",
          "1982-11-01T00:00:00",
          "1982-12-01T00:00:00",
          "1983-01-01T00:00:00",
          "1983-02-01T00:00:00",
          "1983-03-01T00:00:00",
          "1983-04-01T00:00:00",
          "1983-05-01T00:00:00",
          "1983-06-01T00:00:00",
          "1983-07-01T00:00:00",
          "1983-08-01T00:00:00",
          "1983-09-01T00:00:00",
          "1983-10-01T00:00:00",
          "1983-11-01T00:00:00",
          "1983-12-01T00:00:00",
          "1984-01-01T00:00:00",
          "1984-02-01T00:00:00",
          "1984-03-01T00:00:00",
          "1984-04-01T00:00:00",
          "1984-05-01T00:00:00",
          "1984-06-01T00:00:00",
          "1984-07-01T00:00:00",
          "1984-08-01T00:00:00",
          "1984-09-01T00:00:00",
          "1984-10-01T00:00:00",
          "1984-11-01T00:00:00",
          "1984-12-01T00:00:00",
          "1985-01-01T00:00:00",
          "1985-02-01T00:00:00",
          "1985-03-01T00:00:00",
          "1985-04-01T00:00:00",
          "1985-05-01T00:00:00",
          "1985-06-01T00:00:00",
          "1985-07-01T00:00:00",
          "1985-08-01T00:00:00",
          "1985-09-01T00:00:00",
          "1985-10-01T00:00:00",
          "1985-11-01T00:00:00",
          "1985-12-01T00:00:00",
          "1986-01-01T00:00:00",
          "1986-02-01T00:00:00",
          "1986-03-01T00:00:00",
          "1986-04-01T00:00:00",
          "1986-05-01T00:00:00",
          "1986-06-01T00:00:00",
          "1986-07-01T00:00:00",
          "1986-08-01T00:00:00",
          "1986-09-01T00:00:00",
          "1986-10-01T00:00:00",
          "1986-11-01T00:00:00",
          "1986-12-01T00:00:00",
          "1987-01-01T00:00:00",
          "1987-02-01T00:00:00",
          "1987-03-01T00:00:00",
          "1987-04-01T00:00:00",
          "1987-05-01T00:00:00",
          "1987-06-01T00:00:00",
          "1987-07-01T00:00:00",
          "1987-08-01T00:00:00",
          "1987-09-01T00:00:00",
          "1987-10-01T00:00:00",
          "1987-11-01T00:00:00",
          "1987-12-01T00:00:00",
          "1988-01-01T00:00:00",
          "1988-02-01T00:00:00",
          "1988-03-01T00:00:00",
          "1988-04-01T00:00:00",
          "1988-05-01T00:00:00",
          "1988-06-01T00:00:00",
          "1988-07-01T00:00:00",
          "1988-08-01T00:00:00",
          "1988-09-01T00:00:00",
          "1988-10-01T00:00:00",
          "1988-11-01T00:00:00",
          "1988-12-01T00:00:00",
          "1989-01-01T00:00:00",
          "1989-02-01T00:00:00",
          "1989-03-01T00:00:00",
          "1989-04-01T00:00:00",
          "1989-05-01T00:00:00",
          "1989-06-01T00:00:00",
          "1989-07-01T00:00:00",
          "1989-08-01T00:00:00",
          "1989-09-01T00:00:00",
          "1989-10-01T00:00:00",
          "1989-11-01T00:00:00",
          "1989-12-01T00:00:00",
          "1990-01-01T00:00:00",
          "1990-02-01T00:00:00",
          "1990-03-01T00:00:00",
          "1990-04-01T00:00:00",
          "1990-05-01T00:00:00",
          "1990-06-01T00:00:00",
          "1990-07-01T00:00:00",
          "1990-08-01T00:00:00",
          "1990-09-01T00:00:00",
          "1990-10-01T00:00:00",
          "1990-11-01T00:00:00",
          "1990-12-01T00:00:00",
          "1991-01-01T00:00:00",
          "1991-02-01T00:00:00",
          "1991-03-01T00:00:00",
          "1991-04-01T00:00:00",
          "1991-05-01T00:00:00",
          "1991-06-01T00:00:00",
          "1991-07-01T00:00:00",
          "1991-08-01T00:00:00",
          "1991-09-01T00:00:00",
          "1991-10-01T00:00:00",
          "1991-11-01T00:00:00",
          "1991-12-01T00:00:00",
          "1992-01-01T00:00:00",
          "1992-02-01T00:00:00",
          "1992-03-01T00:00:00",
          "1992-04-01T00:00:00",
          "1992-05-01T00:00:00",
          "1992-06-01T00:00:00",
          "1992-07-01T00:00:00",
          "1992-08-01T00:00:00",
          "1992-09-01T00:00:00",
          "1992-10-01T00:00:00",
          "1992-11-01T00:00:00",
          "1992-12-01T00:00:00",
          "1993-01-01T00:00:00",
          "1993-02-01T00:00:00",
          "1993-03-01T00:00:00",
          "1993-04-01T00:00:00",
          "1993-05-01T00:00:00",
          "1993-06-01T00:00:00",
          "1993-07-01T00:00:00",
          "1993-08-01T00:00:00",
          "1993-09-01T00:00:00",
          "1993-10-01T00:00:00",
          "1993-11-01T00:00:00",
          "1993-12-01T00:00:00",
          "1994-01-01T00:00:00",
          "1994-02-01T00:00:00",
          "1994-03-01T00:00:00",
          "1994-04-01T00:00:00",
          "1994-05-01T00:00:00",
          "1994-06-01T00:00:00",
          "1994-07-01T00:00:00",
          "1994-08-01T00:00:00",
          "1994-09-01T00:00:00",
          "1994-10-01T00:00:00",
          "1994-11-01T00:00:00",
          "1994-12-01T00:00:00",
          "1995-01-01T00:00:00",
          "1995-02-01T00:00:00",
          "1995-03-01T00:00:00",
          "1995-04-01T00:00:00",
          "1995-05-01T00:00:00",
          "1995-06-01T00:00:00",
          "1995-07-01T00:00:00",
          "1995-08-01T00:00:00",
          "1995-09-01T00:00:00",
          "1995-10-01T00:00:00",
          "1995-11-01T00:00:00",
          "1995-12-01T00:00:00",
          "1996-01-01T00:00:00",
          "1996-02-01T00:00:00",
          "1996-03-01T00:00:00",
          "1996-04-01T00:00:00",
          "1996-05-01T00:00:00",
          "1996-06-01T00:00:00",
          "1996-07-01T00:00:00",
          "1996-08-01T00:00:00",
          "1996-09-01T00:00:00",
          "1996-10-01T00:00:00",
          "1996-11-01T00:00:00",
          "1996-12-01T00:00:00",
          "1997-01-01T00:00:00",
          "1997-02-01T00:00:00",
          "1997-03-01T00:00:00",
          "1997-04-01T00:00:00",
          "1997-05-01T00:00:00",
          "1997-06-01T00:00:00",
          "1997-07-01T00:00:00",
          "1997-08-01T00:00:00",
          "1997-09-01T00:00:00",
          "1997-10-01T00:00:00",
          "1997-11-01T00:00:00",
          "1997-12-01T00:00:00",
          "1998-01-01T00:00:00",
          "1998-02-01T00:00:00",
          "1998-03-01T00:00:00",
          "1998-04-01T00:00:00",
          "1998-05-01T00:00:00",
          "1998-06-01T00:00:00",
          "1998-07-01T00:00:00",
          "1998-08-01T00:00:00",
          "1998-09-01T00:00:00",
          "1998-10-01T00:00:00",
          "1998-11-01T00:00:00",
          "1998-12-01T00:00:00",
          "1999-01-01T00:00:00",
          "1999-02-01T00:00:00",
          "1999-03-01T00:00:00",
          "1999-04-01T00:00:00",
          "1999-05-01T00:00:00",
          "1999-06-01T00:00:00",
          "1999-07-01T00:00:00",
          "1999-08-01T00:00:00",
          "1999-09-01T00:00:00",
          "1999-10-01T00:00:00",
          "1999-11-01T00:00:00",
          "1999-12-01T00:00:00",
          "2000-01-01T00:00:00",
          "2000-02-01T00:00:00",
          "2000-03-01T00:00:00",
          "2000-04-01T00:00:00",
          "2000-05-01T00:00:00",
          "2000-06-01T00:00:00",
          "2000-07-01T00:00:00",
          "2000-08-01T00:00:00",
          "2000-09-01T00:00:00",
          "2000-10-01T00:00:00",
          "2000-11-01T00:00:00",
          "2000-12-01T00:00:00",
          "2001-01-01T00:00:00",
          "2001-02-01T00:00:00",
          "2001-03-01T00:00:00",
          "2001-04-01T00:00:00",
          "2001-05-01T00:00:00",
          "2001-06-01T00:00:00",
          "2001-07-01T00:00:00",
          "2001-08-01T00:00:00",
          "2001-09-01T00:00:00",
          "2001-10-01T00:00:00",
          "2001-11-01T00:00:00",
          "2001-12-01T00:00:00",
          "2002-01-01T00:00:00",
          "2002-02-01T00:00:00",
          "2002-03-01T00:00:00",
          "2002-04-01T00:00:00",
          "2002-05-01T00:00:00",
          "2002-06-01T00:00:00",
          "2002-07-01T00:00:00",
          "2002-08-01T00:00:00",
          "2002-09-01T00:00:00",
          "2002-10-01T00:00:00",
          "2002-11-01T00:00:00",
          "2002-12-01T00:00:00",
          "2003-01-01T00:00:00",
          "2003-02-01T00:00:00",
          "2003-03-01T00:00:00",
          "2003-04-01T00:00:00",
          "2003-05-01T00:00:00",
          "2003-06-01T00:00:00",
          "2003-07-01T00:00:00",
          "2003-08-01T00:00:00",
          "2003-09-01T00:00:00",
          "2003-10-01T00:00:00",
          "2003-11-01T00:00:00",
          "2003-12-01T00:00:00",
          "2004-01-01T00:00:00",
          "2004-02-01T00:00:00",
          "2004-03-01T00:00:00",
          "2004-04-01T00:00:00",
          "2004-05-01T00:00:00",
          "2004-06-01T00:00:00",
          "2004-07-01T00:00:00",
          "2004-08-01T00:00:00",
          "2004-09-01T00:00:00",
          "2004-10-01T00:00:00",
          "2004-11-01T00:00:00",
          "2004-12-01T00:00:00",
          "2005-01-01T00:00:00",
          "2005-02-01T00:00:00",
          "2005-03-01T00:00:00",
          "2005-04-01T00:00:00",
          "2005-05-01T00:00:00",
          "2005-06-01T00:00:00",
          "2005-07-01T00:00:00",
          "2005-08-01T00:00:00",
          "2005-09-01T00:00:00",
          "2005-10-01T00:00:00",
          "2005-11-01T00:00:00",
          "2005-12-01T00:00:00",
          "2006-01-01T00:00:00",
          "2006-02-01T00:00:00",
          "2006-03-01T00:00:00",
          "2006-04-01T00:00:00",
          "2006-05-01T00:00:00",
          "2006-06-01T00:00:00",
          "2006-07-01T00:00:00",
          "2006-08-01T00:00:00",
          "2006-09-01T00:00:00",
          "2006-10-01T00:00:00",
          "2006-11-01T00:00:00",
          "2006-12-01T00:00:00",
          "2007-01-01T00:00:00",
          "2007-02-01T00:00:00",
          "2007-03-01T00:00:00",
          "2007-04-01T00:00:00",
          "2007-05-01T00:00:00",
          "2007-06-01T00:00:00",
          "2007-07-01T00:00:00",
          "2007-08-01T00:00:00",
          "2007-09-01T00:00:00",
          "2007-10-01T00:00:00",
          "2007-11-01T00:00:00",
          "2007-12-01T00:00:00",
          "2008-01-01T00:00:00",
          "2008-02-01T00:00:00",
          "2008-03-01T00:00:00",
          "2008-04-01T00:00:00",
          "2008-05-01T00:00:00",
          "2008-06-01T00:00:00",
          "2008-07-01T00:00:00",
          "2008-08-01T00:00:00",
          "2008-09-01T00:00:00",
          "2008-10-01T00:00:00",
          "2008-11-01T00:00:00",
          "2008-12-01T00:00:00",
          "2009-01-01T00:00:00",
          "2009-02-01T00:00:00",
          "2009-03-01T00:00:00",
          "2009-04-01T00:00:00",
          "2009-05-01T00:00:00",
          "2009-06-01T00:00:00",
          "2009-07-01T00:00:00",
          "2009-08-01T00:00:00",
          "2009-09-01T00:00:00",
          "2009-10-01T00:00:00",
          "2009-11-01T00:00:00",
          "2009-12-01T00:00:00",
          "2010-01-01T00:00:00",
          "2010-02-01T00:00:00",
          "2010-03-01T00:00:00",
          "2010-04-01T00:00:00",
          "2010-05-01T00:00:00",
          "2010-06-01T00:00:00",
          "2010-07-01T00:00:00",
          "2010-08-01T00:00:00",
          "2010-09-01T00:00:00",
          "2010-10-01T00:00:00",
          "2010-11-01T00:00:00",
          "2010-12-01T00:00:00",
          "2011-01-01T00:00:00",
          "2011-02-01T00:00:00",
          "2011-03-01T00:00:00",
          "2011-04-01T00:00:00",
          "2011-05-01T00:00:00",
          "2011-06-01T00:00:00",
          "2011-07-01T00:00:00",
          "2011-08-01T00:00:00",
          "2011-09-01T00:00:00",
          "2011-10-01T00:00:00",
          "2011-11-01T00:00:00",
          "2011-12-01T00:00:00",
          "2012-01-01T00:00:00",
          "2012-02-01T00:00:00",
          "2012-03-01T00:00:00",
          "2012-04-01T00:00:00",
          "2012-05-01T00:00:00",
          "2012-06-01T00:00:00",
          "2012-07-01T00:00:00",
          "2012-08-01T00:00:00",
          "2012-09-01T00:00:00",
          "2012-10-01T00:00:00",
          "2012-11-01T00:00:00",
          "2012-12-01T00:00:00",
          "2013-01-01T00:00:00",
          "2013-02-01T00:00:00",
          "2013-03-01T00:00:00",
          "2013-04-01T00:00:00",
          "2013-05-01T00:00:00",
          "2013-06-01T00:00:00",
          "2013-07-01T00:00:00",
          "2013-08-01T00:00:00",
          "2013-09-01T00:00:00",
          "2013-10-01T00:00:00",
          "2013-11-01T00:00:00",
          "2013-12-01T00:00:00",
          "2014-01-01T00:00:00",
          "2014-02-01T00:00:00",
          "2014-03-01T00:00:00",
          "2014-04-01T00:00:00",
          "2014-05-01T00:00:00",
          "2014-06-01T00:00:00",
          "2014-07-01T00:00:00",
          "2014-08-01T00:00:00",
          "2014-09-01T00:00:00",
          "2014-10-01T00:00:00",
          "2014-11-01T00:00:00",
          "2014-12-01T00:00:00",
          "2015-01-01T00:00:00",
          "2015-02-01T00:00:00",
          "2015-03-01T00:00:00",
          "2015-04-01T00:00:00",
          "2015-05-01T00:00:00",
          "2015-06-01T00:00:00",
          "2015-07-01T00:00:00",
          "2015-08-01T00:00:00",
          "2015-09-01T00:00:00",
          "2015-10-01T00:00:00",
          "2015-11-01T00:00:00",
          "2015-12-01T00:00:00",
          "2016-01-01T00:00:00",
          "2016-02-01T00:00:00",
          "2016-03-01T00:00:00",
          "2016-04-01T00:00:00",
          "2016-05-01T00:00:00",
          "2016-06-01T00:00:00",
          "2016-07-01T00:00:00",
          "2016-08-01T00:00:00",
          "2016-09-01T00:00:00",
          "2016-10-01T00:00:00",
          "2016-11-01T00:00:00",
          "2016-12-01T00:00:00",
          "2017-01-01T00:00:00",
          "2017-02-01T00:00:00",
          "2017-03-01T00:00:00",
          "2017-04-01T00:00:00",
          "2017-05-01T00:00:00",
          "2017-06-01T00:00:00",
          "2017-07-01T00:00:00",
          "2017-08-01T00:00:00",
          "2017-09-01T00:00:00",
          "2017-10-01T00:00:00",
          "2017-11-01T00:00:00",
          "2017-12-01T00:00:00",
          "2018-01-01T00:00:00",
          "2018-02-01T00:00:00",
          "2018-03-01T00:00:00",
          "2018-04-01T00:00:00",
          "2018-05-01T00:00:00",
          "2018-06-01T00:00:00",
          "2018-07-01T00:00:00",
          "2018-08-01T00:00:00",
          "2018-09-01T00:00:00",
          "2018-10-01T00:00:00",
          "2018-11-01T00:00:00",
          "2018-12-01T00:00:00",
          "2019-01-01T00:00:00",
          "2019-02-01T00:00:00",
          "2019-03-01T00:00:00",
          "2019-04-01T00:00:00",
          "2019-05-01T00:00:00",
          "2019-06-01T00:00:00",
          "2019-07-01T00:00:00",
          "2019-08-01T00:00:00",
          "2019-09-01T00:00:00",
          "2019-10-01T00:00:00",
          "2019-11-01T00:00:00",
          "2019-12-01T00:00:00",
          "2020-01-01T00:00:00",
          "2020-02-01T00:00:00",
          "2020-03-01T00:00:00",
          "2020-04-01T00:00:00",
          "2020-05-01T00:00:00",
          "2020-06-01T00:00:00",
          "2020-07-01T00:00:00",
          "2020-08-01T00:00:00",
          "2020-09-01T00:00:00",
          "2020-10-01T00:00:00",
          "2020-11-01T00:00:00",
          "2020-12-01T00:00:00",
          "2021-01-01T00:00:00",
          "2021-02-01T00:00:00",
          "2021-03-01T00:00:00",
          "2021-04-01T00:00:00",
          "2021-05-01T00:00:00",
          "2021-06-01T00:00:00",
          "2021-07-01T00:00:00",
          "2021-08-01T00:00:00",
          "2021-09-01T00:00:00",
          "2021-10-01T00:00:00",
          "2021-11-01T00:00:00",
          "2021-12-01T00:00:00",
          "2022-01-01T00:00:00",
          "2022-02-01T00:00:00",
          "2022-03-01T00:00:00",
          "2022-04-01T00:00:00",
          "2022-05-01T00:00:00",
          "2022-06-01T00:00:00",
          "2022-07-01T00:00:00",
          "2022-08-01T00:00:00",
          "2022-09-01T00:00:00",
          "2022-10-01T00:00:00",
          "2022-11-01T00:00:00"
         ],
         "xaxis": "x",
         "y": [
          9.8,
          9.8,
          9.8,
          9.8,
          9.7,
          9.8,
          9.9,
          9.9,
          10,
          10,
          10.1,
          10,
          10,
          9.9,
          9.9,
          9.8,
          9.9,
          9.9,
          10,
          10.2,
          10.2,
          10.1,
          10.2,
          10.1,
          10.1,
          10,
          9.9,
          10,
          10.1,
          10.1,
          10.1,
          10.1,
          10.1,
          10.2,
          10.3,
          10.3,
          10.4,
          10.4,
          10.5,
          10.6,
          10.7,
          10.8,
          10.8,
          10.9,
          11.1,
          11.3,
          11.5,
          11.6,
          11.7,
          12,
          12,
          12.6,
          12.8,
          13,
          12.8,
          13,
          13.3,
          13.5,
          13.5,
          13.7,
          14,
          14.1,
          14,
          14.2,
          14.5,
          14.7,
          15.1,
          15.4,
          15.7,
          16,
          16.3,
          16.5,
          16.5,
          16.2,
          16.4,
          16.7,
          16.9,
          16.9,
          17.4,
          17.7,
          17.8,
          18.1,
          18.5,
          18.9,
          19.3,
          19.5,
          19.7,
          20.3,
          20.6,
          20.9,
          20.8,
          20.3,
          20,
          19.9,
          19.8,
          19.4,
          19,
          18.4,
          18.3,
          18.1,
          17.7,
          17.6,
          17.7,
          17.7,
          17.5,
          17.5,
          17.4,
          17.3,
          16.9,
          16.9,
          16.7,
          16.7,
          16.7,
          16.7,
          16.8,
          16.6,
          16.6,
          16.7,
          16.8,
          16.9,
          16.8,
          16.8,
          16.8,
          16.9,
          16.9,
          17,
          17.2,
          17.1,
          17.2,
          17.3,
          17.3,
          17.3,
          17.3,
          17.2,
          17.1,
          17,
          17,
          17,
          17.1,
          17,
          17.1,
          17.2,
          17.2,
          17.3,
          17.3,
          17.2,
          17.3,
          17.2,
          17.3,
          17.5,
          17.7,
          17.7,
          17.7,
          17.7,
          18,
          17.9,
          17.9,
          17.9,
          17.8,
          17.9,
          17.8,
          17.7,
          17.5,
          17.4,
          17.5,
          17.6,
          17.7,
          17.7,
          17.5,
          17.4,
          17.3,
          17.3,
          17.4,
          17.6,
          17.3,
          17.2,
          17.3,
          17.4,
          17.3,
          17.3,
          17.3,
          17.1,
          17.1,
          17.1,
          17.2,
          17.1,
          17.1,
          17.1,
          17.3,
          17.2,
          17.2,
          17.1,
          17.1,
          17.1,
          17,
          16.9,
          17,
          17.1,
          17.3,
          17.3,
          17.3,
          17.3,
          17.3,
          17.2,
          17.1,
          17,
          16.9,
          17,
          16.9,
          16.8,
          16.6,
          16.5,
          16.6,
          16.5,
          16.4,
          16.1,
          15.9,
          15.7,
          15.6,
          15.5,
          15.3,
          15.1,
          15.1,
          15.1,
          15,
          14.9,
          14.7,
          14.6,
          14.3,
          14.1,
          14,
          13.9,
          13.7,
          13.6,
          13.6,
          13.5,
          13.4,
          13.3,
          13.2,
          13.1,
          12.9,
          12.7,
          12.6,
          12.6,
          12.6,
          12.7,
          13.1,
          13.2,
          13.2,
          13.2,
          13.2,
          13.2,
          13.2,
          13.3,
          13.3,
          13.3,
          13.3,
          13.4,
          13.4,
          13.4,
          13.6,
          13.5,
          13.5,
          13.4,
          13.6,
          13.7,
          13.7,
          13.8,
          13.8,
          13.7,
          13.7,
          13.7,
          13.7,
          13.7,
          13.8,
          13.8,
          13.8,
          13.8,
          13.7,
          13.7,
          13.7,
          13.8,
          13.9,
          14,
          14,
          14,
          14,
          14,
          14.1,
          14.1,
          14.2,
          14.3,
          14.4,
          14.4,
          14.5,
          14.5,
          14.6,
          14.6,
          14.5,
          14.4,
          14.2,
          14.1,
          14.1,
          14.2,
          14.1,
          14.1,
          14.1,
          14.1,
          14.1,
          14,
          14,
          14,
          14,
          13.9,
          13.9,
          13.8,
          13.8,
          13.8,
          13.8,
          13.8,
          14.1,
          14,
          14,
          14,
          13.9,
          14,
          14,
          14,
          14,
          14.1,
          14,
          14,
          14,
          14,
          14,
          14.1,
          14.1,
          14.1,
          14.2,
          14.3,
          14.4,
          14.7,
          14.7,
          14.9,
          15.1,
          15.3,
          15.4,
          15.5,
          15.7,
          15.8,
          16,
          16.1,
          16.3,
          16.3,
          16.4,
          16.5,
          16.5,
          16.7,
          16.8,
          16.9,
          16.9,
          16.9,
          17.2,
          17.4,
          17.5,
          17.5,
          17.4,
          17.3,
          17.4,
          17.4,
          17.4,
          17.4,
          17.4,
          17.4,
          17.4,
          17.5,
          17.5,
          17.6,
          17.7,
          17.7,
          17.7,
          17.7,
          17.7,
          17.8,
          17.8,
          17.8,
          17.8,
          17.8,
          17.9,
          18.1,
          18.1,
          18.1,
          18.1,
          18.1,
          18.1,
          18.2,
          18.2,
          18.1,
          18.3,
          18.4,
          18.5,
          18.7,
          19.8,
          20.2,
          20.4,
          20.8,
          21.3,
          21.5,
          21.5,
          21.5,
          21.9,
          21.9,
          21.9,
          22,
          22.2,
          22.5,
          23,
          23,
          23.1,
          23.4,
          23.7,
          23.5,
          23.4,
          23.8,
          23.9,
          24.1,
          24.4,
          24.5,
          24.5,
          24.4,
          24.2,
          24.1,
          24,
          23.8,
          23.8,
          23.9,
          23.8,
          23.9,
          23.7,
          23.8,
          23.9,
          23.7,
          23.8,
          23.6,
          23.5,
          23.5,
          23.6,
          23.6,
          23.7,
          23.8,
          24.1,
          24.3,
          24.4,
          24.6,
          24.7,
          25,
          25.4,
          25.7,
          25.8,
          25.8,
          25.9,
          25.9,
          25.9,
          25.9,
          26.1,
          26.2,
          26.4,
          26.5,
          26.5,
          26.3,
          26.3,
          26.4,
          26.4,
          26.5,
          26.7,
          26.7,
          26.7,
          26.7,
          26.7,
          26.7,
          26.6,
          26.5,
          26.6,
          26.6,
          26.7,
          26.8,
          26.8,
          26.9,
          26.9,
          27,
          26.9,
          26.9,
          26.9,
          26.9,
          26.9,
          26.8,
          26.9,
          26.9,
          26.9,
          26.9,
          26.8,
          26.8,
          26.8,
          26.7,
          26.7,
          26.7,
          26.7,
          26.7,
          26.7,
          26.7,
          26.8,
          26.8,
          26.9,
          26.9,
          26.9,
          26.8,
          26.8,
          26.8,
          26.8,
          26.9,
          27,
          27.2,
          27.4,
          27.3,
          27.4,
          27.5,
          27.5,
          27.6,
          27.6,
          27.7,
          27.8,
          27.9,
          28,
          28.1,
          28.3,
          28.3,
          28.3,
          28.3,
          28.4,
          28.4,
          28.6,
          28.6,
          28.8,
          28.9,
          28.9,
          28.9,
          29,
          28.9,
          28.9,
          28.9,
          29,
          28.9,
          29,
          28.9,
          28.9,
          29,
          29,
          29.1,
          29.2,
          29.2,
          29.3,
          29.4,
          29.4,
          29.4,
          29.3,
          29.4,
          29.4,
          29.5,
          29.5,
          29.6,
          29.6,
          29.6,
          29.6,
          29.8,
          29.8,
          29.8,
          29.8,
          29.8,
          29.8,
          29.8,
          29.8,
          29.8,
          30,
          29.9,
          30,
          30,
          30,
          30,
          30,
          30.1,
          30.1,
          30.2,
          30.2,
          30.2,
          30.3,
          30.3,
          30.4,
          30.4,
          30.4,
          30.4,
          30.4,
          30.4,
          30.5,
          30.5,
          30.5,
          30.6,
          30.7,
          30.7,
          30.7,
          30.8,
          30.8,
          30.9,
          30.9,
          30.9,
          30.9,
          30.9,
          30.9,
          31,
          31.1,
          31,
          31.1,
          31.1,
          31.2,
          31.2,
          31.2,
          31.2,
          31.3,
          31.4,
          31.4,
          31.6,
          31.6,
          31.6,
          31.6,
          31.7,
          31.7,
          31.8,
          31.8,
          32,
          32.1,
          32.3,
          32.3,
          32.4,
          32.5,
          32.7,
          32.7,
          32.9,
          32.9,
          32.9,
          32.9,
          32.9,
          33,
          33.1,
          33.2,
          33.3,
          33.4,
          33.5,
          33.6,
          33.7,
          33.8,
          33.9,
          34.1,
          34.2,
          34.3,
          34.4,
          34.5,
          34.7,
          34.9,
          35,
          35.1,
          35.3,
          35.4,
          35.5,
          35.6,
          35.8,
          36.1,
          36.3,
          36.4,
          36.6,
          36.8,
          37,
          37.1,
          37.3,
          37.5,
          37.7,
          37.8,
          38,
          38.2,
          38.5,
          38.6,
          38.8,
          39,
          39,
          39.2,
          39.4,
          39.6,
          39.8,
          39.8,
          39.9,
          40,
          40.1,
          40.3,
          40.6,
          40.7,
          40.8,
          40.8,
          40.9,
          40.9,
          41.1,
          41.1,
          41.3,
          41.4,
          41.5,
          41.6,
          41.7,
          41.9,
          42,
          42.1,
          42.3,
          42.4,
          42.5,
          42.6,
          42.9,
          43.3,
          43.6,
          43.9,
          44.2,
          44.3,
          45.1,
          45.2,
          45.6,
          45.9,
          46.2,
          46.6,
          47.2,
          47.8,
          48,
          48.6,
          49,
          49.4,
          50,
          50.6,
          51.1,
          51.5,
          51.9,
          52.1,
          52.5,
          52.7,
          52.9,
          53.2,
          53.6,
          54.2,
          54.3,
          54.6,
          54.9,
          55.3,
          55.5,
          55.6,
          55.8,
          55.9,
          56.1,
          56.5,
          56.8,
          57.1,
          57.4,
          57.6,
          57.9,
          58,
          58.2,
          58.5,
          59.1,
          59.5,
          60,
          60.3,
          60.7,
          61,
          61.2,
          61.4,
          61.6,
          61.9,
          62.1,
          62.5,
          62.9,
          63.4,
          63.9,
          64.5,
          65.2,
          65.7,
          66,
          66.5,
          67.1,
          67.4,
          67.7,
          68.3,
          69.1,
          69.8,
          70.6,
          71.5,
          72.3,
          73.1,
          73.8,
          74.6,
          75.2,
          75.9,
          76.7,
          77.8,
          78.9,
          80.1,
          81,
          81.8,
          82.7,
          82.7,
          83.3,
          84,
          84.8,
          85.5,
          86.3,
          87,
          87.9,
          88.5,
          89.1,
          89.8,
          90.6,
          91.6,
          92.3,
          93.2,
          93.4,
          93.7,
          94,
          94.3,
          94.6,
          94.5,
          94.9,
          95.8,
          97,
          97.5,
          97.7,
          97.9,
          98.2,
          98,
          97.6,
          97.8,
          97.9,
          97.9,
          98.6,
          99.2,
          99.5,
          99.9,
          100.2,
          100.7,
          101,
          101.2,
          101.3,
          101.9,
          102.4,
          102.6,
          103.1,
          103.4,
          103.7,
          104.1,
          104.5,
          105,
          105.3,
          105.3,
          105.3,
          105.5,
          106,
          106.4,
          106.9,
          107.3,
          107.6,
          107.8,
          108,
          108.3,
          108.7,
          109,
          109.3,
          109.6,
          109.3,
          108.8,
          108.6,
          108.9,
          109.5,
          109.5,
          109.7,
          110.2,
          110.3,
          110.4,
          110.5,
          111.2,
          111.6,
          112.1,
          112.7,
          113.1,
          113.5,
          113.8,
          114.4,
          115,
          115.3,
          115.4,
          115.4,
          115.7,
          116,
          116.5,
          117.1,
          117.5,
          118,
          118.5,
          119,
          119.8,
          120.2,
          120.3,
          120.5,
          121.1,
          121.6,
          122.3,
          123.1,
          123.8,
          124.1,
          124.4,
          124.6,
          125,
          125.6,
          125.9,
          126.1,
          127.4,
          128,
          128.7,
          128.9,
          129.2,
          129.9,
          130.4,
          131.6,
          132.7,
          133.5,
          133.8,
          133.8,
          134.6,
          134.8,
          135,
          135.2,
          135.6,
          136,
          136.2,
          136.6,
          137.2,
          137.4,
          137.8,
          137.9,
          138.1,
          138.6,
          139.3,
          139.5,
          139.7,
          140.2,
          140.5,
          140.9,
          141.3,
          141.8,
          142,
          141.9,
          142.6,
          143.1,
          143.6,
          144,
          144.2,
          144.4,
          144.4,
          144.8,
          145.1,
          145.7,
          145.8,
          145.8,
          146.2,
          146.7,
          147.2,
          147.4,
          147.5,
          148,
          148.4,
          149,
          149.4,
          149.5,
          149.7,
          149.7,
          150.3,
          150.9,
          151.4,
          151.9,
          152.2,
          152.5,
          152.5,
          152.9,
          153.2,
          153.7,
          153.6,
          153.5,
          154.4,
          154.9,
          155.7,
          156.3,
          156.6,
          156.7,
          157,
          157.3,
          157.8,
          158.3,
          158.6,
          158.6,
          159.1,
          159.6,
          160,
          160.2,
          160.1,
          160.3,
          160.5,
          160.8,
          161.2,
          161.6,
          161.5,
          161.3,
          161.6,
          161.9,
          162.2,
          162.5,
          162.8,
          163,
          163.2,
          163.4,
          163.6,
          164,
          164,
          163.9,
          164.3,
          164.5,
          165,
          166.2,
          166.2,
          166.2,
          166.7,
          167.1,
          167.9,
          168.2,
          168.3,
          168.3,
          168.8,
          169.8,
          171.2,
          171.3,
          171.5,
          172.4,
          172.8,
          172.8,
          173.7,
          174,
          174.1,
          174,
          175.1,
          175.8,
          176.2,
          176.9,
          177.7,
          178,
          177.5,
          177.5,
          178.3,
          177.7,
          177.4,
          176.7,
          177.1,
          177.8,
          178.8,
          179.8,
          179.8,
          179.9,
          180.1,
          180.7,
          181,
          181.3,
          181.3,
          180.9,
          181.7,
          183.1,
          184.2,
          183.8,
          183.5,
          183.7,
          183.9,
          184.6,
          185.2,
          185,
          184.5,
          184.3,
          185.2,
          186.2,
          187.4,
          188,
          189.1,
          189.7,
          189.4,
          189.5,
          189.9,
          190.9,
          191,
          190.3,
          190.7,
          191.8,
          193.3,
          194.6,
          194.4,
          194.5,
          195.4,
          196.4,
          198.8,
          199.2,
          197.6,
          196.8,
          198.3,
          198.7,
          199.8,
          201.5,
          202.5,
          202.9,
          203.5,
          203.9,
          202.9,
          201.8,
          201.5,
          201.8,
          202.416,
          203.499,
          205.352,
          206.686,
          207.949,
          208.352,
          208.299,
          207.917,
          208.49,
          208.936,
          210.177,
          210.036,
          211.08,
          211.693,
          213.528,
          214.823,
          216.632,
          218.815,
          219.964,
          219.086,
          218.783,
          216.573,
          212.425,
          210.228,
          211.143,
          212.193,
          212.709,
          213.24,
          213.856,
          215.693,
          215.351,
          215.834,
          215.969,
          216.177,
          216.33,
          215.949,
          216.687,
          216.741,
          217.631,
          218.009,
          218.178,
          217.965,
          218.011,
          218.312,
          218.439,
          218.711,
          218.803,
          219.179,
          220.223,
          221.309,
          223.467,
          224.906,
          225.964,
          225.722,
          225.922,
          226.545,
          226.889,
          226.421,
          226.23,
          225.672,
          226.665,
          227.663,
          229.392,
          230.085,
          229.815,
          229.478,
          229.104,
          230.379,
          231.407,
          231.317,
          230.221,
          229.601,
          230.28,
          232.166,
          232.773,
          232.531,
          232.945,
          233.504,
          233.596,
          233.877,
          234.149,
          233.546,
          233.069,
          233.049,
          233.916,
          234.781,
          236.293,
          237.072,
          237.9,
          238.343,
          238.25,
          237.852,
          238.031,
          237.433,
          236.151,
          234.812,
          233.707,
          234.722,
          236.119,
          236.599,
          237.805,
          238.638,
          238.654,
          238.316,
          237.945,
          237.838,
          237.336,
          236.525,
          236.916,
          237.111,
          238.132,
          239.261,
          240.229,
          241.018,
          240.628,
          240.849,
          241.428,
          241.729,
          241.353,
          241.432,
          242.839,
          243.603,
          243.801,
          244.524,
          244.733,
          244.955,
          244.786,
          245.519,
          246.819,
          246.663,
          246.669,
          246.524,
          247.867,
          248.991,
          249.554,
          250.546,
          251.588,
          251.989,
          252.006,
          252.146,
          252.439,
          252.885,
          252.038,
          251.233,
          251.712,
          252.776,
          254.202,
          255.548,
          256.092,
          256.143,
          256.571,
          256.558,
          256.759,
          257.346,
          257.208,
          256.974,
          257.971,
          258.678,
          258.115,
          256.389,
          256.394,
          257.797,
          259.101,
          259.918,
          260.28,
          260.388,
          260.229,
          260.474,
          261.582,
          263.014,
          264.877,
          267.054,
          269.195,
          271.696,
          273.003,
          273.567,
          274.31,
          276.589,
          277.948,
          278.802,
          281.148,
          283.716,
          287.504,
          289.109,
          292.296,
          296.311,
          296.276,
          296.171,
          296.808,
          298.012,
          297.711
         ],
         "yaxis": "y"
        }
       ],
       "layout": {
        "height": 500,
        "legend": {
         "tracegroupgap": 0
        },
        "margin": {
         "t": 60
        },
        "template": {
         "data": {
          "bar": [
           {
            "error_x": {
             "color": "#2a3f5f"
            },
            "error_y": {
             "color": "#2a3f5f"
            },
            "marker": {
             "line": {
              "color": "#E5ECF6",
              "width": 0.5
             },
             "pattern": {
              "fillmode": "overlay",
              "size": 10,
              "solidity": 0.2
             }
            },
            "type": "bar"
           }
          ],
          "barpolar": [
           {
            "marker": {
             "line": {
              "color": "#E5ECF6",
              "width": 0.5
             },
             "pattern": {
              "fillmode": "overlay",
              "size": 10,
              "solidity": 0.2
             }
            },
            "type": "barpolar"
           }
          ],
          "carpet": [
           {
            "aaxis": {
             "endlinecolor": "#2a3f5f",
             "gridcolor": "white",
             "linecolor": "white",
             "minorgridcolor": "white",
             "startlinecolor": "#2a3f5f"
            },
            "baxis": {
             "endlinecolor": "#2a3f5f",
             "gridcolor": "white",
             "linecolor": "white",
             "minorgridcolor": "white",
             "startlinecolor": "#2a3f5f"
            },
            "type": "carpet"
           }
          ],
          "choropleth": [
           {
            "colorbar": {
             "outlinewidth": 0,
             "ticks": ""
            },
            "type": "choropleth"
           }
          ],
          "contour": [
           {
            "colorbar": {
             "outlinewidth": 0,
             "ticks": ""
            },
            "colorscale": [
             [
              0,
              "#0d0887"
             ],
             [
              0.1111111111111111,
              "#46039f"
             ],
             [
              0.2222222222222222,
              "#7201a8"
             ],
             [
              0.3333333333333333,
              "#9c179e"
             ],
             [
              0.4444444444444444,
              "#bd3786"
             ],
             [
              0.5555555555555556,
              "#d8576b"
             ],
             [
              0.6666666666666666,
              "#ed7953"
             ],
             [
              0.7777777777777778,
              "#fb9f3a"
             ],
             [
              0.8888888888888888,
              "#fdca26"
             ],
             [
              1,
              "#f0f921"
             ]
            ],
            "type": "contour"
           }
          ],
          "contourcarpet": [
           {
            "colorbar": {
             "outlinewidth": 0,
             "ticks": ""
            },
            "type": "contourcarpet"
           }
          ],
          "heatmap": [
           {
            "colorbar": {
             "outlinewidth": 0,
             "ticks": ""
            },
            "colorscale": [
             [
              0,
              "#0d0887"
             ],
             [
              0.1111111111111111,
              "#46039f"
             ],
             [
              0.2222222222222222,
              "#7201a8"
             ],
             [
              0.3333333333333333,
              "#9c179e"
             ],
             [
              0.4444444444444444,
              "#bd3786"
             ],
             [
              0.5555555555555556,
              "#d8576b"
             ],
             [
              0.6666666666666666,
              "#ed7953"
             ],
             [
              0.7777777777777778,
              "#fb9f3a"
             ],
             [
              0.8888888888888888,
              "#fdca26"
             ],
             [
              1,
              "#f0f921"
             ]
            ],
            "type": "heatmap"
           }
          ],
          "heatmapgl": [
           {
            "colorbar": {
             "outlinewidth": 0,
             "ticks": ""
            },
            "colorscale": [
             [
              0,
              "#0d0887"
             ],
             [
              0.1111111111111111,
              "#46039f"
             ],
             [
              0.2222222222222222,
              "#7201a8"
             ],
             [
              0.3333333333333333,
              "#9c179e"
             ],
             [
              0.4444444444444444,
              "#bd3786"
             ],
             [
              0.5555555555555556,
              "#d8576b"
             ],
             [
              0.6666666666666666,
              "#ed7953"
             ],
             [
              0.7777777777777778,
              "#fb9f3a"
             ],
             [
              0.8888888888888888,
              "#fdca26"
             ],
             [
              1,
              "#f0f921"
             ]
            ],
            "type": "heatmapgl"
           }
          ],
          "histogram": [
           {
            "marker": {
             "pattern": {
              "fillmode": "overlay",
              "size": 10,
              "solidity": 0.2
             }
            },
            "type": "histogram"
           }
          ],
          "histogram2d": [
           {
            "colorbar": {
             "outlinewidth": 0,
             "ticks": ""
            },
            "colorscale": [
             [
              0,
              "#0d0887"
             ],
             [
              0.1111111111111111,
              "#46039f"
             ],
             [
              0.2222222222222222,
              "#7201a8"
             ],
             [
              0.3333333333333333,
              "#9c179e"
             ],
             [
              0.4444444444444444,
              "#bd3786"
             ],
             [
              0.5555555555555556,
              "#d8576b"
             ],
             [
              0.6666666666666666,
              "#ed7953"
             ],
             [
              0.7777777777777778,
              "#fb9f3a"
             ],
             [
              0.8888888888888888,
              "#fdca26"
             ],
             [
              1,
              "#f0f921"
             ]
            ],
            "type": "histogram2d"
           }
          ],
          "histogram2dcontour": [
           {
            "colorbar": {
             "outlinewidth": 0,
             "ticks": ""
            },
            "colorscale": [
             [
              0,
              "#0d0887"
             ],
             [
              0.1111111111111111,
              "#46039f"
             ],
             [
              0.2222222222222222,
              "#7201a8"
             ],
             [
              0.3333333333333333,
              "#9c179e"
             ],
             [
              0.4444444444444444,
              "#bd3786"
             ],
             [
              0.5555555555555556,
              "#d8576b"
             ],
             [
              0.6666666666666666,
              "#ed7953"
             ],
             [
              0.7777777777777778,
              "#fb9f3a"
             ],
             [
              0.8888888888888888,
              "#fdca26"
             ],
             [
              1,
              "#f0f921"
             ]
            ],
            "type": "histogram2dcontour"
           }
          ],
          "mesh3d": [
           {
            "colorbar": {
             "outlinewidth": 0,
             "ticks": ""
            },
            "type": "mesh3d"
           }
          ],
          "parcoords": [
           {
            "line": {
             "colorbar": {
              "outlinewidth": 0,
              "ticks": ""
             }
            },
            "type": "parcoords"
           }
          ],
          "pie": [
           {
            "automargin": true,
            "type": "pie"
           }
          ],
          "scatter": [
           {
            "fillpattern": {
             "fillmode": "overlay",
             "size": 10,
             "solidity": 0.2
            },
            "type": "scatter"
           }
          ],
          "scatter3d": [
           {
            "line": {
             "colorbar": {
              "outlinewidth": 0,
              "ticks": ""
             }
            },
            "marker": {
             "colorbar": {
              "outlinewidth": 0,
              "ticks": ""
             }
            },
            "type": "scatter3d"
           }
          ],
          "scattercarpet": [
           {
            "marker": {
             "colorbar": {
              "outlinewidth": 0,
              "ticks": ""
             }
            },
            "type": "scattercarpet"
           }
          ],
          "scattergeo": [
           {
            "marker": {
             "colorbar": {
              "outlinewidth": 0,
              "ticks": ""
             }
            },
            "type": "scattergeo"
           }
          ],
          "scattergl": [
           {
            "marker": {
             "colorbar": {
              "outlinewidth": 0,
              "ticks": ""
             }
            },
            "type": "scattergl"
           }
          ],
          "scattermapbox": [
           {
            "marker": {
             "colorbar": {
              "outlinewidth": 0,
              "ticks": ""
             }
            },
            "type": "scattermapbox"
           }
          ],
          "scatterpolar": [
           {
            "marker": {
             "colorbar": {
              "outlinewidth": 0,
              "ticks": ""
             }
            },
            "type": "scatterpolar"
           }
          ],
          "scatterpolargl": [
           {
            "marker": {
             "colorbar": {
              "outlinewidth": 0,
              "ticks": ""
             }
            },
            "type": "scatterpolargl"
           }
          ],
          "scatterternary": [
           {
            "marker": {
             "colorbar": {
              "outlinewidth": 0,
              "ticks": ""
             }
            },
            "type": "scatterternary"
           }
          ],
          "surface": [
           {
            "colorbar": {
             "outlinewidth": 0,
             "ticks": ""
            },
            "colorscale": [
             [
              0,
              "#0d0887"
             ],
             [
              0.1111111111111111,
              "#46039f"
             ],
             [
              0.2222222222222222,
              "#7201a8"
             ],
             [
              0.3333333333333333,
              "#9c179e"
             ],
             [
              0.4444444444444444,
              "#bd3786"
             ],
             [
              0.5555555555555556,
              "#d8576b"
             ],
             [
              0.6666666666666666,
              "#ed7953"
             ],
             [
              0.7777777777777778,
              "#fb9f3a"
             ],
             [
              0.8888888888888888,
              "#fdca26"
             ],
             [
              1,
              "#f0f921"
             ]
            ],
            "type": "surface"
           }
          ],
          "table": [
           {
            "cells": {
             "fill": {
              "color": "#EBF0F8"
             },
             "line": {
              "color": "white"
             }
            },
            "header": {
             "fill": {
              "color": "#C8D4E3"
             },
             "line": {
              "color": "white"
             }
            },
            "type": "table"
           }
          ]
         },
         "layout": {
          "annotationdefaults": {
           "arrowcolor": "#2a3f5f",
           "arrowhead": 0,
           "arrowwidth": 1
          },
          "autotypenumbers": "strict",
          "coloraxis": {
           "colorbar": {
            "outlinewidth": 0,
            "ticks": ""
           }
          },
          "colorscale": {
           "diverging": [
            [
             0,
             "#8e0152"
            ],
            [
             0.1,
             "#c51b7d"
            ],
            [
             0.2,
             "#de77ae"
            ],
            [
             0.3,
             "#f1b6da"
            ],
            [
             0.4,
             "#fde0ef"
            ],
            [
             0.5,
             "#f7f7f7"
            ],
            [
             0.6,
             "#e6f5d0"
            ],
            [
             0.7,
             "#b8e186"
            ],
            [
             0.8,
             "#7fbc41"
            ],
            [
             0.9,
             "#4d9221"
            ],
            [
             1,
             "#276419"
            ]
           ],
           "sequential": [
            [
             0,
             "#0d0887"
            ],
            [
             0.1111111111111111,
             "#46039f"
            ],
            [
             0.2222222222222222,
             "#7201a8"
            ],
            [
             0.3333333333333333,
             "#9c179e"
            ],
            [
             0.4444444444444444,
             "#bd3786"
            ],
            [
             0.5555555555555556,
             "#d8576b"
            ],
            [
             0.6666666666666666,
             "#ed7953"
            ],
            [
             0.7777777777777778,
             "#fb9f3a"
            ],
            [
             0.8888888888888888,
             "#fdca26"
            ],
            [
             1,
             "#f0f921"
            ]
           ],
           "sequentialminus": [
            [
             0,
             "#0d0887"
            ],
            [
             0.1111111111111111,
             "#46039f"
            ],
            [
             0.2222222222222222,
             "#7201a8"
            ],
            [
             0.3333333333333333,
             "#9c179e"
            ],
            [
             0.4444444444444444,
             "#bd3786"
            ],
            [
             0.5555555555555556,
             "#d8576b"
            ],
            [
             0.6666666666666666,
             "#ed7953"
            ],
            [
             0.7777777777777778,
             "#fb9f3a"
            ],
            [
             0.8888888888888888,
             "#fdca26"
            ],
            [
             1,
             "#f0f921"
            ]
           ]
          },
          "colorway": [
           "#636efa",
           "#EF553B",
           "#00cc96",
           "#ab63fa",
           "#FFA15A",
           "#19d3f3",
           "#FF6692",
           "#B6E880",
           "#FF97FF",
           "#FECB52"
          ],
          "font": {
           "color": "#2a3f5f"
          },
          "geo": {
           "bgcolor": "white",
           "lakecolor": "white",
           "landcolor": "#E5ECF6",
           "showlakes": true,
           "showland": true,
           "subunitcolor": "white"
          },
          "hoverlabel": {
           "align": "left"
          },
          "hovermode": "closest",
          "mapbox": {
           "style": "light"
          },
          "paper_bgcolor": "white",
          "plot_bgcolor": "#E5ECF6",
          "polar": {
           "angularaxis": {
            "gridcolor": "white",
            "linecolor": "white",
            "ticks": ""
           },
           "bgcolor": "#E5ECF6",
           "radialaxis": {
            "gridcolor": "white",
            "linecolor": "white",
            "ticks": ""
           }
          },
          "scene": {
           "xaxis": {
            "backgroundcolor": "#E5ECF6",
            "gridcolor": "white",
            "gridwidth": 2,
            "linecolor": "white",
            "showbackground": true,
            "ticks": "",
            "zerolinecolor": "white"
           },
           "yaxis": {
            "backgroundcolor": "#E5ECF6",
            "gridcolor": "white",
            "gridwidth": 2,
            "linecolor": "white",
            "showbackground": true,
            "ticks": "",
            "zerolinecolor": "white"
           },
           "zaxis": {
            "backgroundcolor": "#E5ECF6",
            "gridcolor": "white",
            "gridwidth": 2,
            "linecolor": "white",
            "showbackground": true,
            "ticks": "",
            "zerolinecolor": "white"
           }
          },
          "shapedefaults": {
           "line": {
            "color": "#2a3f5f"
           }
          },
          "ternary": {
           "aaxis": {
            "gridcolor": "white",
            "linecolor": "white",
            "ticks": ""
           },
           "baxis": {
            "gridcolor": "white",
            "linecolor": "white",
            "ticks": ""
           },
           "bgcolor": "#E5ECF6",
           "caxis": {
            "gridcolor": "white",
            "linecolor": "white",
            "ticks": ""
           }
          },
          "title": {
           "x": 0.05
          },
          "xaxis": {
           "automargin": true,
           "gridcolor": "white",
           "linecolor": "white",
           "ticks": "",
           "title": {
            "standoff": 15
           },
           "zerolinecolor": "white",
           "zerolinewidth": 2
          },
          "yaxis": {
           "automargin": true,
           "gridcolor": "white",
           "linecolor": "white",
           "ticks": "",
           "title": {
            "standoff": 15
           },
           "zerolinecolor": "white",
           "zerolinewidth": 2
          }
         }
        },
        "title": {
         "text": "<b>Consumer Price Index for All Urban Consumers</b> over time<br><sup>Source: Federal Reserve Economic Data</sup>"
        },
        "width": 800,
        "xaxis": {
         "anchor": "y",
         "domain": [
          0,
          1
         ],
         "title": {
          "text": "Year"
         }
        },
        "yaxis": {
         "anchor": "x",
         "domain": [
          0,
          1
         ],
         "title": {
          "text": "CPI"
         }
        }
       }
      }
     },
     "metadata": {},
     "output_type": "display_data"
    }
   ],
   "source": [
    "# generate plotly figure\n",
    "p = px.line(inflation, x='date', y='cpi')\n",
    "p.update_layout(\n",
    "    title='<b>Consumer Price Index for All Urban Consumers</b> over time<br><sup>Source: Federal Reserve Economic Data</sup>',\n",
    "    yaxis_title='CPI',\n",
    "    xaxis_title='Year',\n",
    "    width=800,\n",
    "    height=500,\n",
    "    )\n",
    "p.show()\n",
    "# po.plot(p, filename='cpi.html')"
   ]
  },
  {
   "cell_type": "code",
   "execution_count": 114,
   "metadata": {},
   "outputs": [
    {
     "data": {
      "text/html": [
       "<div>\n",
       "<style scoped>\n",
       "    .dataframe tbody tr th:only-of-type {\n",
       "        vertical-align: middle;\n",
       "    }\n",
       "\n",
       "    .dataframe tbody tr th {\n",
       "        vertical-align: top;\n",
       "    }\n",
       "\n",
       "    .dataframe thead th {\n",
       "        text-align: right;\n",
       "    }\n",
       "</style>\n",
       "<table border=\"1\" class=\"dataframe\">\n",
       "  <thead>\n",
       "    <tr style=\"text-align: right;\">\n",
       "      <th></th>\n",
       "      <th>cpi</th>\n",
       "      <th>multiplier</th>\n",
       "    </tr>\n",
       "    <tr>\n",
       "      <th>date</th>\n",
       "      <th></th>\n",
       "      <th></th>\n",
       "    </tr>\n",
       "  </thead>\n",
       "  <tbody>\n",
       "    <tr>\n",
       "      <th>1913</th>\n",
       "      <td>9.883333</td>\n",
       "      <td>30.126541</td>\n",
       "    </tr>\n",
       "    <tr>\n",
       "      <th>1914</th>\n",
       "      <td>10.016667</td>\n",
       "      <td>29.726907</td>\n",
       "    </tr>\n",
       "    <tr>\n",
       "      <th>1915</th>\n",
       "      <td>10.108333</td>\n",
       "      <td>29.455613</td>\n",
       "    </tr>\n",
       "    <tr>\n",
       "      <th>1916</th>\n",
       "      <td>10.883333</td>\n",
       "      <td>27.389927</td>\n",
       "    </tr>\n",
       "    <tr>\n",
       "      <th>1917</th>\n",
       "      <td>12.825000</td>\n",
       "      <td>23.269261</td>\n",
       "    </tr>\n",
       "    <tr>\n",
       "      <th>...</th>\n",
       "      <td>...</td>\n",
       "      <td>...</td>\n",
       "    </tr>\n",
       "    <tr>\n",
       "      <th>2018</th>\n",
       "      <td>251.106833</td>\n",
       "      <td>1.185637</td>\n",
       "    </tr>\n",
       "    <tr>\n",
       "      <th>2019</th>\n",
       "      <td>255.657417</td>\n",
       "      <td>1.164546</td>\n",
       "    </tr>\n",
       "    <tr>\n",
       "      <th>2020</th>\n",
       "      <td>258.811167</td>\n",
       "      <td>1.150337</td>\n",
       "    </tr>\n",
       "    <tr>\n",
       "      <th>2021</th>\n",
       "      <td>270.969750</td>\n",
       "      <td>1.099153</td>\n",
       "    </tr>\n",
       "    <tr>\n",
       "      <th>2022</th>\n",
       "      <td>292.278364</td>\n",
       "      <td>1.018984</td>\n",
       "    </tr>\n",
       "  </tbody>\n",
       "</table>\n",
       "<p>110 rows × 2 columns</p>\n",
       "</div>"
      ],
      "text/plain": [
       "             cpi  multiplier\n",
       "date                        \n",
       "1913    9.883333   30.126541\n",
       "1914   10.016667   29.726907\n",
       "1915   10.108333   29.455613\n",
       "1916   10.883333   27.389927\n",
       "1917   12.825000   23.269261\n",
       "...          ...         ...\n",
       "2018  251.106833    1.185637\n",
       "2019  255.657417    1.164546\n",
       "2020  258.811167    1.150337\n",
       "2021  270.969750    1.099153\n",
       "2022  292.278364    1.018984\n",
       "\n",
       "[110 rows x 2 columns]"
      ]
     },
     "execution_count": 114,
     "metadata": {},
     "output_type": "execute_result"
    }
   ],
   "source": [
    "# calculate mean of inflation multiplier per year\n",
    "multiplier_year = inflation.groupby(inflation['date'].dt.year).mean()\n",
    "multiplier_year = multiplier_year\n",
    "multiplier_year"
   ]
  },
  {
   "cell_type": "code",
   "execution_count": 115,
   "metadata": {},
   "outputs": [
    {
     "name": "stdout",
     "output_type": "stream",
     "text": [
      "(45264, 13)\n",
      "After filtering age data (45239, 13)\n"
     ]
    }
   ],
   "source": [
    "# filter nan data from raw characters\n",
    "raw_characters = raw_characters.dropna()\n",
    "print(raw_characters.shape)\n",
    "# process age data, make sure age is greater than 0\n",
    "raw_characters = raw_characters[raw_characters['Actor age at movie release'] > 0]\n",
    "print('After filtering age data', raw_characters.shape)"
   ]
  },
  {
   "cell_type": "code",
   "execution_count": 116,
   "metadata": {},
   "outputs": [
    {
     "data": {
      "text/html": [
       "<div>\n",
       "<style scoped>\n",
       "    .dataframe tbody tr th:only-of-type {\n",
       "        vertical-align: middle;\n",
       "    }\n",
       "\n",
       "    .dataframe tbody tr th {\n",
       "        vertical-align: top;\n",
       "    }\n",
       "\n",
       "    .dataframe thead th {\n",
       "        text-align: right;\n",
       "    }\n",
       "</style>\n",
       "<table border=\"1\" class=\"dataframe\">\n",
       "  <thead>\n",
       "    <tr style=\"text-align: right;\">\n",
       "      <th></th>\n",
       "      <th>Wikipedia movie ID</th>\n",
       "      <th>Freebase movie ID</th>\n",
       "      <th>Movie release date</th>\n",
       "      <th>Character name</th>\n",
       "      <th>Actor date of birth</th>\n",
       "      <th>Actor gender</th>\n",
       "      <th>Actor height (in meters)</th>\n",
       "      <th>Actor ethnicity (Freebase ID)</th>\n",
       "      <th>Actor name</th>\n",
       "      <th>Actor age at movie release</th>\n",
       "      <th>Freebase character/actor map ID</th>\n",
       "      <th>Freebase character ID</th>\n",
       "      <th>Freebase actor ID</th>\n",
       "    </tr>\n",
       "  </thead>\n",
       "  <tbody>\n",
       "    <tr>\n",
       "      <th>1</th>\n",
       "      <td>975900</td>\n",
       "      <td>/m/03vyhn</td>\n",
       "      <td>2001-08-24</td>\n",
       "      <td>Lieutenant Melanie Ballard</td>\n",
       "      <td>1974-08-15</td>\n",
       "      <td>F</td>\n",
       "      <td>1.780</td>\n",
       "      <td>/m/044038p</td>\n",
       "      <td>Natasha Henstridge</td>\n",
       "      <td>27.0</td>\n",
       "      <td>/m/0jys3m</td>\n",
       "      <td>/m/0bgchn4</td>\n",
       "      <td>/m/0346l4</td>\n",
       "    </tr>\n",
       "    <tr>\n",
       "      <th>2</th>\n",
       "      <td>975900</td>\n",
       "      <td>/m/03vyhn</td>\n",
       "      <td>2001-08-24</td>\n",
       "      <td>Desolation Williams</td>\n",
       "      <td>1969-06-15</td>\n",
       "      <td>M</td>\n",
       "      <td>1.727</td>\n",
       "      <td>/m/0x67</td>\n",
       "      <td>Ice Cube</td>\n",
       "      <td>32.0</td>\n",
       "      <td>/m/0jys3g</td>\n",
       "      <td>/m/0bgchn_</td>\n",
       "      <td>/m/01vw26l</td>\n",
       "    </tr>\n",
       "    <tr>\n",
       "      <th>5</th>\n",
       "      <td>975900</td>\n",
       "      <td>/m/03vyhn</td>\n",
       "      <td>2001-08-24</td>\n",
       "      <td>Commander Helena Braddock</td>\n",
       "      <td>1949-05-26</td>\n",
       "      <td>F</td>\n",
       "      <td>1.727</td>\n",
       "      <td>/m/0x67</td>\n",
       "      <td>Pam Grier</td>\n",
       "      <td>52.0</td>\n",
       "      <td>/m/02vdcfp</td>\n",
       "      <td>/m/0bgchnd</td>\n",
       "      <td>/m/0418ft</td>\n",
       "    </tr>\n",
       "    <tr>\n",
       "      <th>56</th>\n",
       "      <td>2314463</td>\n",
       "      <td>/m/0734w5</td>\n",
       "      <td>2006</td>\n",
       "      <td>Taper Guy</td>\n",
       "      <td>1971-05-26</td>\n",
       "      <td>M</td>\n",
       "      <td>1.870</td>\n",
       "      <td>/m/033tf_</td>\n",
       "      <td>Matt Stone</td>\n",
       "      <td>34.0</td>\n",
       "      <td>/m/0cgn0lx</td>\n",
       "      <td>/m/0h0z488</td>\n",
       "      <td>/m/01_x6d</td>\n",
       "    </tr>\n",
       "    <tr>\n",
       "      <th>76</th>\n",
       "      <td>612710</td>\n",
       "      <td>/m/02wjqm</td>\n",
       "      <td>1999-10-01</td>\n",
       "      <td>Sandii</td>\n",
       "      <td>1975-09-20</td>\n",
       "      <td>F</td>\n",
       "      <td>1.680</td>\n",
       "      <td>/m/0222qb</td>\n",
       "      <td>Asia Argento</td>\n",
       "      <td>24.0</td>\n",
       "      <td>/m/02vcxk_</td>\n",
       "      <td>/m/0h2l6rx</td>\n",
       "      <td>/m/028pzq</td>\n",
       "    </tr>\n",
       "    <tr>\n",
       "      <th>...</th>\n",
       "      <td>...</td>\n",
       "      <td>...</td>\n",
       "      <td>...</td>\n",
       "      <td>...</td>\n",
       "      <td>...</td>\n",
       "      <td>...</td>\n",
       "      <td>...</td>\n",
       "      <td>...</td>\n",
       "      <td>...</td>\n",
       "      <td>...</td>\n",
       "      <td>...</td>\n",
       "      <td>...</td>\n",
       "      <td>...</td>\n",
       "    </tr>\n",
       "    <tr>\n",
       "      <th>450565</th>\n",
       "      <td>22330502</td>\n",
       "      <td>/m/05sync6</td>\n",
       "      <td>1931-01-31</td>\n",
       "      <td>Yvonne Valbret</td>\n",
       "      <td>1905-09-18</td>\n",
       "      <td>F</td>\n",
       "      <td>1.702</td>\n",
       "      <td>/m/06mvq</td>\n",
       "      <td>Greta Garbo</td>\n",
       "      <td>25.0</td>\n",
       "      <td>/m/05tg4vb</td>\n",
       "      <td>/m/0h2ppfw</td>\n",
       "      <td>/m/0h14h</td>\n",
       "    </tr>\n",
       "    <tr>\n",
       "      <th>450585</th>\n",
       "      <td>24997872</td>\n",
       "      <td>/m/09g6klx</td>\n",
       "      <td>2010-05-07</td>\n",
       "      <td>Raja</td>\n",
       "      <td>1951-09-07</td>\n",
       "      <td>M</td>\n",
       "      <td>1.780</td>\n",
       "      <td>/m/04mvp8</td>\n",
       "      <td>Mammootty</td>\n",
       "      <td>58.0</td>\n",
       "      <td>/m/0gvytkx</td>\n",
       "      <td>/m/0h27wx_</td>\n",
       "      <td>/m/02hkv5</td>\n",
       "    </tr>\n",
       "    <tr>\n",
       "      <th>450586</th>\n",
       "      <td>24997872</td>\n",
       "      <td>/m/09g6klx</td>\n",
       "      <td>2010-05-07</td>\n",
       "      <td>Surya</td>\n",
       "      <td>1982-10-16</td>\n",
       "      <td>M</td>\n",
       "      <td>1.810</td>\n",
       "      <td>/m/0dryh9k</td>\n",
       "      <td>Prithviraj Sukumaran</td>\n",
       "      <td>27.0</td>\n",
       "      <td>/m/0gw0rm2</td>\n",
       "      <td>/m/0gz549m</td>\n",
       "      <td>/m/0cqcgj</td>\n",
       "    </tr>\n",
       "    <tr>\n",
       "      <th>450587</th>\n",
       "      <td>24997872</td>\n",
       "      <td>/m/09g6klx</td>\n",
       "      <td>2010-05-07</td>\n",
       "      <td>Aswathy</td>\n",
       "      <td>1982-09-11</td>\n",
       "      <td>F</td>\n",
       "      <td>1.680</td>\n",
       "      <td>/m/0dryh9k</td>\n",
       "      <td>Shriya Saran</td>\n",
       "      <td>27.0</td>\n",
       "      <td>/m/0gw423l</td>\n",
       "      <td>/m/0gyf84q</td>\n",
       "      <td>/m/09r_wb</td>\n",
       "    </tr>\n",
       "    <tr>\n",
       "      <th>450631</th>\n",
       "      <td>30553937</td>\n",
       "      <td>/m/0g9ts5h</td>\n",
       "      <td>1998-03-07</td>\n",
       "      <td>Tracy</td>\n",
       "      <td>1967-03-16</td>\n",
       "      <td>F</td>\n",
       "      <td>1.746</td>\n",
       "      <td>/m/033tf_</td>\n",
       "      <td>Lauren Graham</td>\n",
       "      <td>30.0</td>\n",
       "      <td>/m/0gw3h6q</td>\n",
       "      <td>/m/0h1gk0m</td>\n",
       "      <td>/m/03c6v3</td>\n",
       "    </tr>\n",
       "  </tbody>\n",
       "</table>\n",
       "<p>45239 rows × 13 columns</p>\n",
       "</div>"
      ],
      "text/plain": [
       "        Wikipedia movie ID Freebase movie ID Movie release date  \\\n",
       "1                   975900         /m/03vyhn         2001-08-24   \n",
       "2                   975900         /m/03vyhn         2001-08-24   \n",
       "5                   975900         /m/03vyhn         2001-08-24   \n",
       "56                 2314463         /m/0734w5               2006   \n",
       "76                  612710         /m/02wjqm         1999-10-01   \n",
       "...                    ...               ...                ...   \n",
       "450565            22330502        /m/05sync6         1931-01-31   \n",
       "450585            24997872        /m/09g6klx         2010-05-07   \n",
       "450586            24997872        /m/09g6klx         2010-05-07   \n",
       "450587            24997872        /m/09g6klx         2010-05-07   \n",
       "450631            30553937        /m/0g9ts5h         1998-03-07   \n",
       "\n",
       "                    Character name Actor date of birth Actor gender  \\\n",
       "1       Lieutenant Melanie Ballard          1974-08-15            F   \n",
       "2              Desolation Williams          1969-06-15            M   \n",
       "5        Commander Helena Braddock          1949-05-26            F   \n",
       "56                       Taper Guy          1971-05-26            M   \n",
       "76                          Sandii          1975-09-20            F   \n",
       "...                            ...                 ...          ...   \n",
       "450565              Yvonne Valbret          1905-09-18            F   \n",
       "450585                        Raja          1951-09-07            M   \n",
       "450586                       Surya          1982-10-16            M   \n",
       "450587                     Aswathy          1982-09-11            F   \n",
       "450631                       Tracy          1967-03-16            F   \n",
       "\n",
       "        Actor height (in meters) Actor ethnicity (Freebase ID)  \\\n",
       "1                          1.780                    /m/044038p   \n",
       "2                          1.727                       /m/0x67   \n",
       "5                          1.727                       /m/0x67   \n",
       "56                         1.870                     /m/033tf_   \n",
       "76                         1.680                     /m/0222qb   \n",
       "...                          ...                           ...   \n",
       "450565                     1.702                      /m/06mvq   \n",
       "450585                     1.780                     /m/04mvp8   \n",
       "450586                     1.810                    /m/0dryh9k   \n",
       "450587                     1.680                    /m/0dryh9k   \n",
       "450631                     1.746                     /m/033tf_   \n",
       "\n",
       "                  Actor name  Actor age at movie release  \\\n",
       "1         Natasha Henstridge                        27.0   \n",
       "2                   Ice Cube                        32.0   \n",
       "5                  Pam Grier                        52.0   \n",
       "56                Matt Stone                        34.0   \n",
       "76              Asia Argento                        24.0   \n",
       "...                      ...                         ...   \n",
       "450565           Greta Garbo                        25.0   \n",
       "450585             Mammootty                        58.0   \n",
       "450586  Prithviraj Sukumaran                        27.0   \n",
       "450587          Shriya Saran                        27.0   \n",
       "450631         Lauren Graham                        30.0   \n",
       "\n",
       "       Freebase character/actor map ID Freebase character ID Freebase actor ID  \n",
       "1                            /m/0jys3m            /m/0bgchn4         /m/0346l4  \n",
       "2                            /m/0jys3g            /m/0bgchn_        /m/01vw26l  \n",
       "5                           /m/02vdcfp            /m/0bgchnd         /m/0418ft  \n",
       "56                          /m/0cgn0lx            /m/0h0z488         /m/01_x6d  \n",
       "76                          /m/02vcxk_            /m/0h2l6rx         /m/028pzq  \n",
       "...                                ...                   ...               ...  \n",
       "450565                      /m/05tg4vb            /m/0h2ppfw          /m/0h14h  \n",
       "450585                      /m/0gvytkx            /m/0h27wx_         /m/02hkv5  \n",
       "450586                      /m/0gw0rm2            /m/0gz549m         /m/0cqcgj  \n",
       "450587                      /m/0gw423l            /m/0gyf84q         /m/09r_wb  \n",
       "450631                      /m/0gw3h6q            /m/0h1gk0m         /m/03c6v3  \n",
       "\n",
       "[45239 rows x 13 columns]"
      ]
     },
     "execution_count": 116,
     "metadata": {},
     "output_type": "execute_result"
    }
   ],
   "source": [
    "raw_characters"
   ]
  },
  {
   "cell_type": "code",
   "execution_count": 117,
   "metadata": {},
   "outputs": [
    {
     "name": "stdout",
     "output_type": "stream",
     "text": [
      "Index(['movie_id', 'movie_name', 'movie_genre', 'movie_origin',\n",
      "       'movie_release', 'box_office_value', 'director_id', 'director_name',\n",
      "       'director_gender', 'director_country', 'director_birth',\n",
      "       'director_age_at_release', 'producer_id', 'producer_name',\n",
      "       'producer_gender', 'producer_country', 'producer_birth',\n",
      "       'producer_age_at_release', 'cast_id_0', 'cast_0_name', 'cast_0_gender',\n",
      "       'cast_0_country', 'cast_0_birth', 'cast_0_age_at_release', 'cast_id_1',\n",
      "       'cast_1_name', 'cast_1_gender', 'cast_1_country', 'cast_1_birth',\n",
      "       'cast_1_age_at_release', 'cast_id_2', 'cast_2_name', 'cast_2_gender',\n",
      "       'cast_2_country', 'cast_2_birth', 'cast_2_age_at_release', 'cast_id_3',\n",
      "       'cast_3_name', 'cast_3_gender', 'cast_3_country', 'cast_3_birth',\n",
      "       'cast_3_age_at_release', 'cast_id_4', 'cast_4_name', 'cast_4_gender',\n",
      "       'cast_4_country', 'cast_4_birth', 'cast_4_age_at_release'],\n",
      "      dtype='object')\n"
     ]
    }
   ],
   "source": [
    "# load extended wikidata\n",
    "ext_chars = processed_path.joinpath('chars_extended.csv')\n",
    "ext_chars = pd.read_csv(ext_chars)\n",
    "print(ext_chars.columns)"
   ]
  },
  {
   "cell_type": "code",
   "execution_count": 118,
   "metadata": {},
   "outputs": [
    {
     "data": {
      "image/png": "[encoded data removed]",
      "text/plain": [
       "<Figure size 1000x500 with 1 Axes>"
      ]
     },
     "metadata": {},
     "output_type": "display_data"
    }
   ],
   "source": [
    "top = 10\n",
    "ext_chars['movie_genre'].value_counts()[:top+1].plot(kind='bar', figsize=(10, 5))\n",
    "# create a map from genre to number of movies\n",
    "genre_map = ext_chars['movie_genre'].value_counts()[:top+1].to_dict()"
   ]
  },
  {
   "cell_type": "code",
   "execution_count": 119,
   "metadata": {},
   "outputs": [
    {
     "data": {
      "text/plain": [
       "9437"
      ]
     },
     "execution_count": 119,
     "metadata": {},
     "output_type": "execute_result"
    }
   ],
   "source": [
    "ext_chars['movie_genre'].isna().sum()"
   ]
  },
  {
   "cell_type": "code",
   "execution_count": 120,
   "metadata": {},
   "outputs": [],
   "source": [
    "# keys to study in the analysis\n",
    "study_keys = [\n",
    "    'movie_id', \n",
    "    'cast_0_age_at_release',\n",
    "    'cast_1_age_at_release',\n",
    "    'cast_2_age_at_release',\n",
    "    'cast_3_age_at_release',\n",
    "    'cast_4_age_at_release',\n",
    "    'movie_release',\n",
    "    'movie_genre',\n",
    "]\n",
    "\n",
    "# create a dataframe with these keys\n",
    "\n",
    "analysis_df = ext_chars[study_keys]\n",
    "\n",
    "# join with revenue\n",
    "analysis_df = analysis_df.join(freebase_revenue.set_index('movie_id'), on='movie_id')\n",
    "\n",
    "# drop nan values\n",
    "analysis_df = analysis_df.dropna()\n",
    "# convert release date to year\n",
    "analysis_df['movie_release_year'] = pd.to_datetime(analysis_df['movie_release']).dt.year\n",
    "\n",
    "# drop abnormal values\n",
    "analysis_df = analysis_df[~(analysis_df[['cast_0_age_at_release', 'cast_1_age_at_release', 'cast_2_age_at_release', 'cast_3_age_at_release', 'cast_4_age_at_release']] < 0).any(axis=1)]\n",
    "analysis_df = analysis_df[~(analysis_df[['cast_0_age_at_release', 'cast_1_age_at_release', 'cast_2_age_at_release', 'cast_3_age_at_release', 'cast_4_age_at_release']] > 100).any(axis=1)]\n",
    "\n",
    "# filter out top k genres\n",
    "analysis_df = analysis_df[analysis_df['movie_genre'].isin(analysis_df['movie_genre'].value_counts()[:top].index)]\n",
    "analysis_df['num_movies_in_this_genre'] = analysis_df['movie_genre'].map(analysis_df['movie_genre'].value_counts())"
   ]
  },
  {
   "cell_type": "code",
   "execution_count": 121,
   "metadata": {},
   "outputs": [],
   "source": [
    "analysis_df['mean_cast_age'] = analysis_df[['cast_0_age_at_release', 'cast_1_age_at_release', 'cast_2_age_at_release', 'cast_3_age_at_release', 'cast_4_age_at_release']].mean(axis=1)\n",
    "analysis_df['diff_cast_age'] = analysis_df[['cast_0_age_at_release', 'cast_1_age_at_release', 'cast_2_age_at_release', 'cast_3_age_at_release', 'cast_4_age_at_release']].max(axis=1) \\\n",
    "    - analysis_df[['cast_0_age_at_release', 'cast_1_age_at_release', 'cast_2_age_at_release', 'cast_3_age_at_release', 'cast_4_age_at_release']].min(axis=1)\n",
    "analysis_df = analysis_df.sort_values(by='movie_release_year')\n",
    "\n",
    "analysis_df['movie_box_office_revenue'] = analysis_df['Movie box office revenue'].astype(float)\n",
    "analysis_df.drop(columns=['Movie box office revenue'], inplace=True)"
   ]
  },
  {
   "cell_type": "code",
   "execution_count": 122,
   "metadata": {},
   "outputs": [
    {
     "name": "stdout",
     "output_type": "stream",
     "text": [
      "Before calibration (4714, 14)\n",
      "After calibration (4714, 16)\n"
     ]
    }
   ],
   "source": [
    "# calibrate revenue with inflation\n",
    "print('Before calibration', analysis_df.shape)\n",
    "analysis_df = pd.merge(analysis_df, multiplier_year, left_on='movie_release_year', right_on='date', how='left')\n",
    "print('After calibration', analysis_df.shape)\n"
   ]
  },
  {
   "cell_type": "code",
   "execution_count": 146,
   "metadata": {},
   "outputs": [
    {
     "data": {
      "text/html": [
       "<div>\n",
       "<style scoped>\n",
       "    .dataframe tbody tr th:only-of-type {\n",
       "        vertical-align: middle;\n",
       "    }\n",
       "\n",
       "    .dataframe tbody tr th {\n",
       "        vertical-align: top;\n",
       "    }\n",
       "\n",
       "    .dataframe thead th {\n",
       "        text-align: right;\n",
       "    }\n",
       "</style>\n",
       "<table border=\"1\" class=\"dataframe\">\n",
       "  <thead>\n",
       "    <tr style=\"text-align: right;\">\n",
       "      <th></th>\n",
       "      <th>movie_id</th>\n",
       "      <th>cast_0_age_at_release</th>\n",
       "      <th>cast_1_age_at_release</th>\n",
       "      <th>cast_2_age_at_release</th>\n",
       "      <th>cast_3_age_at_release</th>\n",
       "      <th>cast_4_age_at_release</th>\n",
       "      <th>movie_release</th>\n",
       "      <th>movie_genre</th>\n",
       "      <th>Freebase Movie ID</th>\n",
       "      <th>movie_release_year</th>\n",
       "      <th>num_movies_in_this_genre</th>\n",
       "      <th>mean_cast_age</th>\n",
       "      <th>diff_cast_age</th>\n",
       "      <th>movie_box_office_revenue</th>\n",
       "      <th>cpi</th>\n",
       "      <th>multiplier</th>\n",
       "    </tr>\n",
       "  </thead>\n",
       "  <tbody>\n",
       "    <tr>\n",
       "      <th>0</th>\n",
       "      <td>Q220394</td>\n",
       "      <td>22.0</td>\n",
       "      <td>21.0</td>\n",
       "      <td>24.0</td>\n",
       "      <td>37.0</td>\n",
       "      <td>43.0</td>\n",
       "      <td>1915-01-01</td>\n",
       "      <td>drama film</td>\n",
       "      <td>/m/0151l</td>\n",
       "      <td>1915</td>\n",
       "      <td>1068</td>\n",
       "      <td>29.4</td>\n",
       "      <td>22.0</td>\n",
       "      <td>50000000.0</td>\n",
       "      <td>10.108333</td>\n",
       "      <td>29.455613</td>\n",
       "    </tr>\n",
       "    <tr>\n",
       "      <th>1</th>\n",
       "      <td>Q1187189</td>\n",
       "      <td>27.0</td>\n",
       "      <td>25.0</td>\n",
       "      <td>35.0</td>\n",
       "      <td>58.0</td>\n",
       "      <td>60.0</td>\n",
       "      <td>1920-01-01</td>\n",
       "      <td>romance film</td>\n",
       "      <td>/m/0c5ppr</td>\n",
       "      <td>1920</td>\n",
       "      <td>289</td>\n",
       "      <td>41.0</td>\n",
       "      <td>35.0</td>\n",
       "      <td>4500000.0</td>\n",
       "      <td>20.041667</td>\n",
       "      <td>14.864445</td>\n",
       "    </tr>\n",
       "    <tr>\n",
       "      <th>2</th>\n",
       "      <td>Q374172</td>\n",
       "      <td>26.0</td>\n",
       "      <td>7.0</td>\n",
       "      <td>32.0</td>\n",
       "      <td>53.0</td>\n",
       "      <td>13.0</td>\n",
       "      <td>1921-01-01</td>\n",
       "      <td>comedy drama</td>\n",
       "      <td>/m/04vl27</td>\n",
       "      <td>1921</td>\n",
       "      <td>267</td>\n",
       "      <td>26.2</td>\n",
       "      <td>46.0</td>\n",
       "      <td>2500000.0</td>\n",
       "      <td>17.850000</td>\n",
       "      <td>16.690249</td>\n",
       "    </tr>\n",
       "    <tr>\n",
       "      <th>3</th>\n",
       "      <td>Q2408008</td>\n",
       "      <td>29.0</td>\n",
       "      <td>51.0</td>\n",
       "      <td>43.0</td>\n",
       "      <td>13.0</td>\n",
       "      <td>33.0</td>\n",
       "      <td>1921-01-01</td>\n",
       "      <td>drama film</td>\n",
       "      <td>/m/05b_29y</td>\n",
       "      <td>1921</td>\n",
       "      <td>1068</td>\n",
       "      <td>33.8</td>\n",
       "      <td>38.0</td>\n",
       "      <td>900000.0</td>\n",
       "      <td>17.850000</td>\n",
       "      <td>16.690249</td>\n",
       "    </tr>\n",
       "    <tr>\n",
       "      <th>4</th>\n",
       "      <td>Q1219825</td>\n",
       "      <td>55.0</td>\n",
       "      <td>30.0</td>\n",
       "      <td>26.0</td>\n",
       "      <td>36.0</td>\n",
       "      <td>22.0</td>\n",
       "      <td>1921-01-01</td>\n",
       "      <td>romance film</td>\n",
       "      <td>/m/06pkq3</td>\n",
       "      <td>1921</td>\n",
       "      <td>289</td>\n",
       "      <td>33.8</td>\n",
       "      <td>33.0</td>\n",
       "      <td>4500000.0</td>\n",
       "      <td>17.850000</td>\n",
       "      <td>16.690249</td>\n",
       "    </tr>\n",
       "  </tbody>\n",
       "</table>\n",
       "</div>"
      ],
      "text/plain": [
       "   movie_id  cast_0_age_at_release  cast_1_age_at_release  \\\n",
       "0   Q220394                   22.0                   21.0   \n",
       "1  Q1187189                   27.0                   25.0   \n",
       "2   Q374172                   26.0                    7.0   \n",
       "3  Q2408008                   29.0                   51.0   \n",
       "4  Q1219825                   55.0                   30.0   \n",
       "\n",
       "   cast_2_age_at_release  cast_3_age_at_release  cast_4_age_at_release  \\\n",
       "0                   24.0                   37.0                   43.0   \n",
       "1                   35.0                   58.0                   60.0   \n",
       "2                   32.0                   53.0                   13.0   \n",
       "3                   43.0                   13.0                   33.0   \n",
       "4                   26.0                   36.0                   22.0   \n",
       "\n",
       "  movie_release   movie_genre Freebase Movie ID  movie_release_year  \\\n",
       "0    1915-01-01    drama film          /m/0151l                1915   \n",
       "1    1920-01-01  romance film         /m/0c5ppr                1920   \n",
       "2    1921-01-01  comedy drama         /m/04vl27                1921   \n",
       "3    1921-01-01    drama film        /m/05b_29y                1921   \n",
       "4    1921-01-01  romance film         /m/06pkq3                1921   \n",
       "\n",
       "   num_movies_in_this_genre  mean_cast_age  diff_cast_age  \\\n",
       "0                      1068           29.4           22.0   \n",
       "1                       289           41.0           35.0   \n",
       "2                       267           26.2           46.0   \n",
       "3                      1068           33.8           38.0   \n",
       "4                       289           33.8           33.0   \n",
       "\n",
       "   movie_box_office_revenue        cpi  multiplier  \n",
       "0                50000000.0  10.108333   29.455613  \n",
       "1                 4500000.0  20.041667   14.864445  \n",
       "2                 2500000.0  17.850000   16.690249  \n",
       "3                  900000.0  17.850000   16.690249  \n",
       "4                 4500000.0  17.850000   16.690249  "
      ]
     },
     "execution_count": 146,
     "metadata": {},
     "output_type": "execute_result"
    }
   ],
   "source": [
    "analysis_df.head()"
   ]
  },
  {
   "cell_type": "code",
   "execution_count": 153,
   "metadata": {},
   "outputs": [
    {
     "data": {
      "text/plain": [
       "Text(0, 0.5, 'Revenue')"
      ]
     },
     "execution_count": 153,
     "metadata": {},
     "output_type": "execute_result"
    },
    {
     "name": "stderr",
     "output_type": "stream",
     "text": [
      "/Users/chengkunli/miniconda3/envs/ada/lib/python3.9/site-packages/IPython/core/pylabtools.py:151: UserWarning:\n",
      "\n",
      "Creating legend with loc=\"best\" can be slow with large amounts of data.\n",
      "\n"
     ]
    },
    {
     "data": {
      "image/png": "[encoded data removed]",
      "text/plain": [
       "<Figure size 640x480 with 1 Axes>"
      ]
     },
     "metadata": {},
     "output_type": "display_data"
    }
   ],
   "source": [
    "analysis_df['movie_box_office_revenue_adj'] = analysis_df['movie_box_office_revenue'] * analysis_df['multiplier']\n",
    "plt.bar(analysis_df['movie_release_year'], analysis_df['movie_box_office_revenue_adj'], label='Adjusted Revenue')\n",
    "plt.bar(analysis_df['movie_release_year'], analysis_df['movie_box_office_revenue'], label='Before Adjustment')\n",
    "plt.legend()\n",
    "plt.yscale('log')\n",
    "plt.xlabel('Year')\n",
    "plt.ylabel('Revenue')"
   ]
  },
  {
   "cell_type": "code",
   "execution_count": 154,
   "metadata": {},
   "outputs": [
    {
     "data": {
      "text/plain": [
       "Index(['date', 'cpi', 'multiplier'], dtype='object')"
      ]
     },
     "execution_count": 154,
     "metadata": {},
     "output_type": "execute_result"
    }
   ],
   "source": [
    "inflation.columns"
   ]
  },
  {
   "cell_type": "code",
   "execution_count": 155,
   "metadata": {},
   "outputs": [
    {
     "data": {
      "text/plain": [
       "<AxesSubplot:xlabel='diff_cast_age', ylabel='Count'>"
      ]
     },
     "execution_count": 155,
     "metadata": {},
     "output_type": "execute_result"
    },
    {
     "data": {
      "image/png": "[encoded data removed]",
      "text/plain": [
       "<Figure size 640x480 with 1 Axes>"
      ]
     },
     "metadata": {},
     "output_type": "display_data"
    }
   ],
   "source": [
    "sns.histplot(data=analysis_df, x='diff_cast_age', discrete=False)"
   ]
  },
  {
   "cell_type": "code",
   "execution_count": 156,
   "metadata": {},
   "outputs": [
    {
     "data": {
      "text/plain": [
       "<AxesSubplot:xlabel='mean_cast_age', ylabel='Count'>"
      ]
     },
     "execution_count": 156,
     "metadata": {},
     "output_type": "execute_result"
    },
    {
     "data": {
      "image/png": "[encoded data removed]",
      "text/plain": [
       "<Figure size 640x480 with 1 Axes>"
      ]
     },
     "metadata": {},
     "output_type": "display_data"
    }
   ],
   "source": [
    "sns.histplot(data=analysis_df.query('movie_genre==\"drama film\"'), x='mean_cast_age', discrete=False)"
   ]
  },
  {
   "cell_type": "code",
   "execution_count": 157,
   "metadata": {},
   "outputs": [
    {
     "data": {
      "text/plain": [
       "<AxesSubplot:xlabel='mean_cast_age', ylabel='Count'>"
      ]
     },
     "execution_count": 157,
     "metadata": {},
     "output_type": "execute_result"
    },
    {
     "data": {
      "image/png": "[encoded data removed]",
      "text/plain": [
       "<Figure size 640x480 with 1 Axes>"
      ]
     },
     "metadata": {},
     "output_type": "display_data"
    }
   ],
   "source": [
    "sns.histplot(data=analysis_df.query('movie_genre==\"comedy film\"'), x='mean_cast_age', discrete=False)"
   ]
  },
  {
   "cell_type": "code",
   "execution_count": 158,
   "metadata": {},
   "outputs": [
    {
     "data": {
      "text/plain": [
       "<AxesSubplot:xlabel='mean_cast_age', ylabel='Count'>"
      ]
     },
     "execution_count": 158,
     "metadata": {},
     "output_type": "execute_result"
    },
    {
     "data": {
      "image/png": "[encoded data removed]",
      "text/plain": [
       "<Figure size 640x480 with 1 Axes>"
      ]
     },
     "metadata": {},
     "output_type": "display_data"
    }
   ],
   "source": [
    "sns.histplot(data=analysis_df.query('movie_genre==\"horror film\"'), x='mean_cast_age', discrete=False)"
   ]
  },
  {
   "cell_type": "code",
   "execution_count": 159,
   "metadata": {},
   "outputs": [
    {
     "data": {
      "application/vnd.plotly.v1+json": {
       "config": {
        "plotlyServerURL": "https://plot.ly"
       },
       "data": [
        {
         "alignmentgroup": "True",
         "bingroup": "x",
         "hovertemplate": "movie_genre=drama film<br>mean_cast_age=%{x}<br>count=%{y}<extra></extra>",
         "legendgroup": "drama film",
         "marker": {
          "color": "#636efa",
          "pattern": {
           "shape": ""
          }
         },
         "name": "drama film",
         "offsetgroup": "drama film",
         "orientation": "v",
         "showlegend": true,
         "type": "histogram",
         "x": [
          29.4,
          33.8,
          37.4,
          37.8,
          43.8,
          38.8,
          38.4,
          27.6,
          29.2,
          26.8,
          44.8,
          37,
          47.4,
          39.8,
          34.4,
          41.2,
          36.8,
          35.8,
          44.8,
          43.2,
          42.4,
          23.4,
          38.4,
          43.2,
          29.6,
          35.2,
          40,
          33,
          41,
          44.4,
          32.8,
          37.8,
          38,
          50.2,
          30.2,
          34.8,
          44.4,
          36.4,
          39,
          33.4,
          30.4,
          37.2,
          45.8,
          33.4,
          30.4,
          47.6,
          28.8,
          40.6,
          52,
          35.2,
          38.4,
          42.6,
          39,
          28.8,
          33,
          36.6,
          41.6,
          42,
          31.6,
          44.2,
          49.6,
          42.6,
          43.8,
          35.8,
          42.6,
          41.6,
          43.2,
          40.8,
          33.2,
          32.2,
          40.4,
          37.6,
          45.2,
          53,
          37.4,
          36.2,
          35.8,
          36.8,
          28.4,
          41.2,
          33.8,
          38,
          34.2,
          51.6,
          44.2,
          37,
          35.6,
          45.2,
          47.6,
          41.4,
          36,
          37.2,
          39.4,
          41,
          32,
          36.6,
          24.8,
          39.6,
          40.6,
          33.2,
          43.2,
          38.8,
          41.4,
          41.2,
          34.8,
          33.2,
          42,
          42,
          37.2,
          34,
          38.4,
          43.6,
          38.8,
          43.6,
          34.2,
          35.2,
          38.2,
          39.6,
          39.8,
          36.4,
          37.6,
          38.4,
          31.8,
          44.8,
          35.2,
          41.8,
          42,
          45,
          36.4,
          43.4,
          37.4,
          41.8,
          34.8,
          34.8,
          35.2,
          40.6,
          39.8,
          38.6,
          44.4,
          34.4,
          44.8,
          44,
          41.6,
          47.6,
          38.8,
          44.2,
          34,
          47.2,
          38,
          32.2,
          48,
          39.2,
          42.4,
          36.2,
          32.8,
          44.8,
          45,
          44.4,
          41.2,
          46.8,
          31,
          38,
          41,
          42.2,
          33.6,
          37,
          42,
          37.2,
          40,
          39.8,
          40.6,
          40.4,
          27,
          40.2,
          41.2,
          40.4,
          46,
          46,
          41.2,
          35.2,
          31,
          42.8,
          35.4,
          42.8,
          47.6,
          49.2,
          36.4,
          47.4,
          38.8,
          37,
          35.2,
          36.6,
          35.8,
          43.4,
          30.4,
          38.4,
          32.8,
          38.8,
          37,
          42.2,
          39,
          46.6,
          40.4,
          44.4,
          43,
          32.4,
          45.6,
          37.6,
          31.8,
          42.6,
          35.2,
          34.8,
          37,
          35.2,
          51.4,
          22.2,
          50.4,
          41.4,
          38,
          37.8,
          41.6,
          42.2,
          36.4,
          34.4,
          39.2,
          26.8,
          32.2,
          31.4,
          33,
          32,
          50,
          38.4,
          35.8,
          49,
          40.2,
          39.4,
          30.8,
          40.8,
          39.2,
          30.6,
          46,
          41.4,
          48,
          35,
          38.4,
          35,
          32.8,
          34.4,
          48.8,
          32.8,
          36.6,
          33.4,
          44.6,
          40,
          37,
          38.6,
          34,
          47.4,
          39,
          35.6,
          33.4,
          35.4,
          37.4,
          34,
          30.2,
          45.2,
          48.2,
          54.4,
          34.2,
          37,
          37.2,
          39.4,
          43.4,
          44,
          44,
          40.6,
          41.4,
          31.6,
          34.6,
          45.6,
          45.2,
          37.8,
          46.8,
          49.4,
          38.2,
          31.6,
          39.2,
          32,
          51.2,
          43.4,
          33.2,
          39.8,
          39.6,
          39,
          38.8,
          50,
          45,
          35.6,
          36.4,
          36,
          38.4,
          34,
          23.2,
          41.2,
          38.2,
          40.6,
          43.8,
          43.4,
          52.4,
          39.4,
          44.2,
          46.6,
          35.4,
          24.4,
          43.8,
          36.2,
          40.4,
          33.4,
          42.2,
          43.2,
          44.8,
          29.6,
          35.8,
          46.2,
          46.4,
          32,
          38.6,
          47.8,
          47.8,
          35.4,
          40.4,
          40.8,
          34,
          35.2,
          32.6,
          34.4,
          39,
          46.6,
          28.6,
          58.8,
          47,
          51,
          37.4,
          43.2,
          26.8,
          39.6,
          37.8,
          42.2,
          47,
          46,
          33.8,
          37.6,
          25,
          46.8,
          39.4,
          24.4,
          35.8,
          52.2,
          34.2,
          40,
          34.8,
          38.8,
          39.4,
          52.2,
          38,
          39.8,
          34.6,
          35.2,
          45.6,
          45,
          24,
          30.6,
          31.8,
          32.2,
          34.8,
          36.4,
          43.6,
          42.8,
          40.8,
          39.2,
          35.2,
          38.4,
          59,
          29,
          42.8,
          34.4,
          40.2,
          52.2,
          38.6,
          44.6,
          46.6,
          51.6,
          36.8,
          35.2,
          44,
          54,
          32.4,
          20.6,
          42.8,
          50.2,
          44.2,
          44.4,
          34.4,
          29,
          47.2,
          38.4,
          39.4,
          36.6,
          44.8,
          32.2,
          36.2,
          41,
          35.6,
          46.6,
          36.2,
          37,
          49,
          46.8,
          47,
          40.2,
          25.6,
          26,
          46.4,
          38.8,
          42.8,
          43,
          48,
          40.8,
          46.6,
          37.4,
          27.4,
          40.2,
          39.6,
          36.8,
          54.6,
          29.6,
          38,
          41.8,
          35.6,
          47.6,
          42.4,
          32,
          52,
          37.8,
          38.8,
          42.4,
          42.2,
          39.8,
          34.2,
          31.8,
          39,
          31.6,
          35.2,
          42.8,
          35.2,
          39.4,
          38,
          43.6,
          33.8,
          42.2,
          37,
          30,
          31.4,
          35.6,
          40,
          35.4,
          52.2,
          49.6,
          28.6,
          44.6,
          34,
          41.2,
          37.2,
          44.4,
          42,
          22.6,
          35,
          28.4,
          34,
          35.2,
          38.2,
          48.2,
          52.6,
          40.6,
          36.4,
          23.2,
          42,
          30,
          40.2,
          43.4,
          47.2,
          52.8,
          51.8,
          30.6,
          28.4,
          45.8,
          37.4,
          46.6,
          43.4,
          34.8,
          33.6,
          48.8,
          45.8,
          52.4,
          40.6,
          37.4,
          27.6,
          47.2,
          40.4,
          40.2,
          41,
          31.6,
          38.6,
          40.2,
          27.2,
          35.8,
          35.2,
          37,
          46.6,
          34.4,
          41,
          34.2,
          44,
          43.6,
          40.2,
          44.4,
          33.4,
          33.8,
          45.6,
          39,
          43,
          36.6,
          38.4,
          29.4,
          38.2,
          51.4,
          48.4,
          33.8,
          41.4,
          44,
          41.2,
          48.6,
          37.8,
          35.6,
          36.6,
          33.8,
          38.8,
          38.4,
          51.4,
          49.8,
          32.6,
          46.8,
          35,
          46.6,
          41,
          34.4,
          39.6,
          38.6,
          29.6,
          33.2,
          42.4,
          38.2,
          47.6,
          28.2,
          36,
          30.8,
          42.6,
          43.8,
          46.6,
          26.8,
          30.4,
          32.4,
          36.2,
          58.8,
          49,
          37,
          32.6,
          44.4,
          35.2,
          32,
          43,
          29.2,
          42.4,
          28,
          47.4,
          37,
          43.2,
          39.8,
          31.4,
          39.8,
          45,
          23.6,
          37.4,
          26.6,
          32.8,
          33.2,
          43,
          62.6,
          42,
          38.2,
          45.4,
          50.2,
          45.6,
          49,
          47.2,
          39.6,
          33.4,
          68,
          47,
          40.4,
          48,
          27,
          37.6,
          43,
          41.2,
          44.8,
          30.8,
          40.2,
          30.4,
          33,
          40.8,
          34,
          31.4,
          36.8,
          40,
          40.4,
          30.8,
          34.2,
          37.6,
          48.2,
          38.6,
          30.6,
          38.2,
          45.2,
          41.6,
          36.8,
          31.4,
          42.6,
          32.8,
          52.6,
          31,
          37.8,
          33.8,
          46.8,
          39.2,
          45,
          42,
          38.4,
          43.6,
          32.4,
          35.4,
          31.4,
          47.4,
          39.8,
          31.4,
          36,
          34.6,
          57.4,
          43.2,
          41.6,
          31.8,
          24.6,
          24.6,
          38.4,
          46.8,
          40,
          42.4,
          51.6,
          45.8,
          35.2,
          32.6,
          30.4,
          37.8,
          29.4,
          54.4,
          21.8,
          41.6,
          18.8,
          43.6,
          34.4,
          51,
          46.8,
          40.4,
          34.2,
          31.4,
          44,
          36.8,
          46,
          46.6,
          29,
          43.4,
          43.6,
          50,
          42.4,
          33.8,
          22,
          61.6,
          37.4,
          46.6,
          40.2,
          38.2,
          53.8,
          42.4,
          31.4,
          43.6,
          26.6,
          31.6,
          35.6,
          34.6,
          57,
          41.6,
          41.8,
          28.4,
          31.2,
          40,
          29.4,
          47,
          45.4,
          39.4,
          35.2,
          38.6,
          34.6,
          36.6,
          43,
          40.8,
          47.8,
          40,
          36.4,
          59.2,
          36,
          52.4,
          32,
          41.6,
          40.6,
          29.8,
          46.4,
          38.8,
          29.8,
          34,
          21.2,
          48.8,
          34,
          35.4,
          38.6,
          48.2,
          47.2,
          57.6,
          52,
          32.8,
          46,
          32,
          35.2,
          30.8,
          43.6,
          36,
          34.6,
          42.2,
          49.6,
          40.6,
          43,
          34.4,
          33.8,
          29.6,
          35,
          36.2,
          21.4,
          26,
          40,
          40.4,
          45.2,
          32.4,
          25.6,
          42.6,
          37,
          48.2,
          35.6,
          44.4,
          42.8,
          43.6,
          25,
          44,
          35.6,
          40.6,
          49.8,
          38.2,
          30.8,
          31.2,
          50.4,
          46.6,
          26.8,
          44.6,
          37.6,
          27.6,
          40,
          46,
          42,
          53.4,
          35.4,
          58,
          42.4,
          44.4,
          34.4,
          36.6,
          43.4,
          48.6,
          53,
          37.6,
          32.6,
          49.6,
          45.2,
          36.6,
          47.8,
          37.2,
          37.6,
          44.6,
          33.2,
          39,
          47.6,
          43.4,
          65,
          44,
          35.6,
          28.8,
          49.8,
          40.8,
          40,
          41.4,
          48.6,
          54.4,
          49.8,
          43.8,
          32,
          42.4,
          35.2,
          37.6,
          50,
          42.4,
          30.4,
          39.4,
          35.8,
          33.6,
          34.4,
          31.6,
          47.8,
          32.8,
          39.4,
          39,
          38.2,
          42.2,
          49.6,
          63.8,
          39.4,
          42.4,
          33.4,
          48.4,
          33,
          36.4,
          31.8,
          31,
          40,
          45.4,
          30.8,
          45.8,
          43,
          43.8,
          40,
          36.8,
          44.4,
          36,
          38.6,
          36.4,
          39.4,
          49.6,
          33,
          53,
          52.2,
          30,
          36,
          32,
          46,
          42.8,
          32.8,
          64.6,
          41.6,
          35.6,
          39.2,
          31.6,
          26.2,
          45.2,
          52.8,
          52,
          42,
          40.2,
          51.4,
          38.2,
          52,
          29.8,
          38.2,
          44.4,
          46.6,
          40.8,
          39.2,
          37,
          35,
          33,
          38.2,
          42.4,
          44.4,
          45.8,
          25.6,
          48.4,
          55,
          28.2,
          27.8,
          37.2,
          47,
          46.2,
          35.2,
          46.8,
          37.6,
          31,
          47.2,
          46.4,
          32.2,
          37.2,
          50.8,
          40.8,
          43.4,
          40,
          35.6,
          33.8,
          59.8,
          39.2,
          29.8,
          34.6,
          32.8,
          35.4,
          43.6,
          42,
          41,
          47.8,
          44,
          36.2,
          26,
          48,
          48.8,
          48,
          29.4,
          30.8,
          29.8,
          29,
          47.4,
          43.6,
          44,
          41.4,
          28,
          30.8,
          32.2,
          40.2,
          30.6,
          40.8,
          41.4,
          48.2,
          39.8,
          50.6,
          20.4,
          45.8,
          42.4,
          41.4,
          51.8,
          46,
          38.8,
          48.8,
          40.4,
          43.4,
          37.2,
          35.2,
          53,
          51,
          29.8,
          37.2,
          21.6,
          27.6,
          45.4,
          37.6,
          39.6,
          50.4,
          46,
          42.2,
          44.8,
          59,
          38.6,
          42.8,
          51.6,
          42,
          52.2,
          47.4,
          51.8,
          34.6,
          41.2,
          64.4,
          47.4,
          51.6,
          47.6,
          38.4,
          46.4,
          51,
          48.8,
          35.6,
          33.2,
          35,
          47.8,
          34.6,
          28.2,
          37,
          37.4,
          50.4,
          58.4,
          51.2,
          49.8,
          46.2,
          48,
          50,
          32.2,
          36.4,
          36.6,
          38.6,
          37.6,
          36.4,
          45.8,
          35.8,
          21,
          41,
          45.6,
          32.8,
          44.4,
          33.6,
          35.6,
          34.2,
          37.4,
          53.8,
          40.6,
          40.4,
          40.8,
          32.4,
          43.4,
          54.8,
          46.6,
          29.6,
          39.8,
          42.2,
          33,
          39.4,
          44,
          39.6,
          35.6,
          35.6,
          52.4,
          38.8,
          29,
          57.8,
          43.6,
          32.6,
          47.2,
          52,
          39.8,
          30.8,
          39.4
         ],
         "xaxis": "x",
         "yaxis": "y"
        }
       ],
       "frames": [
        {
         "data": [
          {
           "alignmentgroup": "True",
           "bingroup": "x",
           "hovertemplate": "movie_genre=drama film<br>mean_cast_age=%{x}<br>count=%{y}<extra></extra>",
           "legendgroup": "drama film",
           "marker": {
            "color": "#636efa",
            "pattern": {
             "shape": ""
            }
           },
           "name": "drama film",
           "offsetgroup": "drama film",
           "orientation": "v",
           "showlegend": true,
           "type": "histogram",
           "x": [
            29.4,
            33.8,
            37.4,
            37.8,
            43.8,
            38.8,
            38.4,
            27.6,
            29.2,
            26.8,
            44.8,
            37,
            47.4,
            39.8,
            34.4,
            41.2,
            36.8,
            35.8,
            44.8,
            43.2,
            42.4,
            23.4,
            38.4,
            43.2,
            29.6,
            35.2,
            40,
            33,
            41,
            44.4,
            32.8,
            37.8,
            38,
            50.2,
            30.2,
            34.8,
            44.4,
            36.4,
            39,
            33.4,
            30.4,
            37.2,
            45.8,
            33.4,
            30.4,
            47.6,
            28.8,
            40.6,
            52,
            35.2,
            38.4,
            42.6,
            39,
            28.8,
            33,
            36.6,
            41.6,
            42,
            31.6,
            44.2,
            49.6,
            42.6,
            43.8,
            35.8,
            42.6,
            41.6,
            43.2,
            40.8,
            33.2,
            32.2,
            40.4,
            37.6,
            45.2,
            53,
            37.4,
            36.2,
            35.8,
            36.8,
            28.4,
            41.2,
            33.8,
            38,
            34.2,
            51.6,
            44.2,
            37,
            35.6,
            45.2,
            47.6,
            41.4,
            36,
            37.2,
            39.4,
            41,
            32,
            36.6,
            24.8,
            39.6,
            40.6,
            33.2,
            43.2,
            38.8,
            41.4,
            41.2,
            34.8,
            33.2,
            42,
            42,
            37.2,
            34,
            38.4,
            43.6,
            38.8,
            43.6,
            34.2,
            35.2,
            38.2,
            39.6,
            39.8,
            36.4,
            37.6,
            38.4,
            31.8,
            44.8,
            35.2,
            41.8,
            42,
            45,
            36.4,
            43.4,
            37.4,
            41.8,
            34.8,
            34.8,
            35.2,
            40.6,
            39.8,
            38.6,
            44.4,
            34.4,
            44.8,
            44,
            41.6,
            47.6,
            38.8,
            44.2,
            34,
            47.2,
            38,
            32.2,
            48,
            39.2,
            42.4,
            36.2,
            32.8,
            44.8,
            45,
            44.4,
            41.2,
            46.8,
            31,
            38,
            41,
            42.2,
            33.6,
            37,
            42,
            37.2,
            40,
            39.8,
            40.6,
            40.4,
            27,
            40.2,
            41.2,
            40.4,
            46,
            46,
            41.2,
            35.2,
            31,
            42.8,
            35.4,
            42.8,
            47.6,
            49.2,
            36.4,
            47.4,
            38.8,
            37,
            35.2,
            36.6,
            35.8,
            43.4,
            30.4,
            38.4,
            32.8,
            38.8,
            37,
            42.2,
            39,
            46.6,
            40.4,
            44.4,
            43,
            32.4,
            45.6,
            37.6,
            31.8,
            42.6,
            35.2,
            34.8,
            37,
            35.2,
            51.4,
            22.2,
            50.4,
            41.4,
            38,
            37.8,
            41.6,
            42.2,
            36.4,
            34.4,
            39.2,
            26.8,
            32.2,
            31.4,
            33,
            32,
            50,
            38.4,
            35.8,
            49,
            40.2,
            39.4,
            30.8,
            40.8,
            39.2,
            30.6,
            46,
            41.4,
            48,
            35,
            38.4,
            35,
            32.8,
            34.4,
            48.8,
            32.8,
            36.6,
            33.4,
            44.6,
            40,
            37,
            38.6,
            34,
            47.4,
            39,
            35.6,
            33.4,
            35.4,
            37.4,
            34,
            30.2,
            45.2,
            48.2,
            54.4,
            34.2,
            37,
            37.2,
            39.4,
            43.4,
            44,
            44,
            40.6,
            41.4,
            31.6,
            34.6,
            45.6,
            45.2,
            37.8,
            46.8,
            49.4,
            38.2,
            31.6,
            39.2,
            32,
            51.2,
            43.4,
            33.2,
            39.8,
            39.6,
            39,
            38.8,
            50,
            45,
            35.6,
            36.4,
            36,
            38.4,
            34,
            23.2,
            41.2,
            38.2,
            40.6,
            43.8,
            43.4,
            52.4,
            39.4,
            44.2,
            46.6,
            35.4,
            24.4,
            43.8,
            36.2,
            40.4,
            33.4,
            42.2,
            43.2,
            44.8,
            29.6,
            35.8,
            46.2,
            46.4,
            32,
            38.6,
            47.8,
            47.8,
            35.4,
            40.4,
            40.8,
            34,
            35.2,
            32.6,
            34.4,
            39,
            46.6,
            28.6,
            58.8,
            47,
            51,
            37.4,
            43.2,
            26.8,
            39.6,
            37.8,
            42.2,
            47,
            46,
            33.8,
            37.6,
            25,
            46.8,
            39.4,
            24.4,
            35.8,
            52.2,
            34.2,
            40,
            34.8,
            38.8,
            39.4,
            52.2,
            38,
            39.8,
            34.6,
            35.2,
            45.6,
            45,
            24,
            30.6,
            31.8,
            32.2,
            34.8,
            36.4,
            43.6,
            42.8,
            40.8,
            39.2,
            35.2,
            38.4,
            59,
            29,
            42.8,
            34.4,
            40.2,
            52.2,
            38.6,
            44.6,
            46.6,
            51.6,
            36.8,
            35.2,
            44,
            54,
            32.4,
            20.6,
            42.8,
            50.2,
            44.2,
            44.4,
            34.4,
            29,
            47.2,
            38.4,
            39.4,
            36.6,
            44.8,
            32.2,
            36.2,
            41,
            35.6,
            46.6,
            36.2,
            37,
            49,
            46.8,
            47,
            40.2,
            25.6,
            26,
            46.4,
            38.8,
            42.8,
            43,
            48,
            40.8,
            46.6,
            37.4,
            27.4,
            40.2,
            39.6,
            36.8,
            54.6,
            29.6,
            38,
            41.8,
            35.6,
            47.6,
            42.4,
            32,
            52,
            37.8,
            38.8,
            42.4,
            42.2,
            39.8,
            34.2,
            31.8,
            39,
            31.6,
            35.2,
            42.8,
            35.2,
            39.4,
            38,
            43.6,
            33.8,
            42.2,
            37,
            30,
            31.4,
            35.6,
            40,
            35.4,
            52.2,
            49.6,
            28.6,
            44.6,
            34,
            41.2,
            37.2,
            44.4,
            42,
            22.6,
            35,
            28.4,
            34,
            35.2,
            38.2,
            48.2,
            52.6,
            40.6,
            36.4,
            23.2,
            42,
            30,
            40.2,
            43.4,
            47.2,
            52.8,
            51.8,
            30.6,
            28.4,
            45.8,
            37.4,
            46.6,
            43.4,
            34.8,
            33.6,
            48.8,
            45.8,
            52.4,
            40.6,
            37.4,
            27.6,
            47.2,
            40.4,
            40.2,
            41,
            31.6,
            38.6,
            40.2,
            27.2,
            35.8,
            35.2,
            37,
            46.6,
            34.4,
            41,
            34.2,
            44,
            43.6,
            40.2,
            44.4,
            33.4,
            33.8,
            45.6,
            39,
            43,
            36.6,
            38.4,
            29.4,
            38.2,
            51.4,
            48.4,
            33.8,
            41.4,
            44,
            41.2,
            48.6,
            37.8,
            35.6,
            36.6,
            33.8,
            38.8,
            38.4,
            51.4,
            49.8,
            32.6,
            46.8,
            35,
            46.6,
            41,
            34.4,
            39.6,
            38.6,
            29.6,
            33.2,
            42.4,
            38.2,
            47.6,
            28.2,
            36,
            30.8,
            42.6,
            43.8,
            46.6,
            26.8,
            30.4,
            32.4,
            36.2,
            58.8,
            49,
            37,
            32.6,
            44.4,
            35.2,
            32,
            43,
            29.2,
            42.4,
            28,
            47.4,
            37,
            43.2,
            39.8,
            31.4,
            39.8,
            45,
            23.6,
            37.4,
            26.6,
            32.8,
            33.2,
            43,
            62.6,
            42,
            38.2,
            45.4,
            50.2,
            45.6,
            49,
            47.2,
            39.6,
            33.4,
            68,
            47,
            40.4,
            48,
            27,
            37.6,
            43,
            41.2,
            44.8,
            30.8,
            40.2,
            30.4,
            33,
            40.8,
            34,
            31.4,
            36.8,
            40,
            40.4,
            30.8,
            34.2,
            37.6,
            48.2,
            38.6,
            30.6,
            38.2,
            45.2,
            41.6,
            36.8,
            31.4,
            42.6,
            32.8,
            52.6,
            31,
            37.8,
            33.8,
            46.8,
            39.2,
            45,
            42,
            38.4,
            43.6,
            32.4,
            35.4,
            31.4,
            47.4,
            39.8,
            31.4,
            36,
            34.6,
            57.4,
            43.2,
            41.6,
            31.8,
            24.6,
            24.6,
            38.4,
            46.8,
            40,
            42.4,
            51.6,
            45.8,
            35.2,
            32.6,
            30.4,
            37.8,
            29.4,
            54.4,
            21.8,
            41.6,
            18.8,
            43.6,
            34.4,
            51,
            46.8,
            40.4,
            34.2,
            31.4,
            44,
            36.8,
            46,
            46.6,
            29,
            43.4,
            43.6,
            50,
            42.4,
            33.8,
            22,
            61.6,
            37.4,
            46.6,
            40.2,
            38.2,
            53.8,
            42.4,
            31.4,
            43.6,
            26.6,
            31.6,
            35.6,
            34.6,
            57,
            41.6,
            41.8,
            28.4,
            31.2,
            40,
            29.4,
            47,
            45.4,
            39.4,
            35.2,
            38.6,
            34.6,
            36.6,
            43,
            40.8,
            47.8,
            40,
            36.4,
            59.2,
            36,
            52.4,
            32,
            41.6,
            40.6,
            29.8,
            46.4,
            38.8,
            29.8,
            34,
            21.2,
            48.8,
            34,
            35.4,
            38.6,
            48.2,
            47.2,
            57.6,
            52,
            32.8,
            46,
            32,
            35.2,
            30.8,
            43.6,
            36,
            34.6,
            42.2,
            49.6,
            40.6,
            43,
            34.4,
            33.8,
            29.6,
            35,
            36.2,
            21.4,
            26,
            40,
            40.4,
            45.2,
            32.4,
            25.6,
            42.6,
            37,
            48.2,
            35.6,
            44.4,
            42.8,
            43.6,
            25,
            44,
            35.6,
            40.6,
            49.8,
            38.2,
            30.8,
            31.2,
            50.4,
            46.6,
            26.8,
            44.6,
            37.6,
            27.6,
            40,
            46,
            42,
            53.4,
            35.4,
            58,
            42.4,
            44.4,
            34.4,
            36.6,
            43.4,
            48.6,
            53,
            37.6,
            32.6,
            49.6,
            45.2,
            36.6,
            47.8,
            37.2,
            37.6,
            44.6,
            33.2,
            39,
            47.6,
            43.4,
            65,
            44,
            35.6,
            28.8,
            49.8,
            40.8,
            40,
            41.4,
            48.6,
            54.4,
            49.8,
            43.8,
            32,
            42.4,
            35.2,
            37.6,
            50,
            42.4,
            30.4,
            39.4,
            35.8,
            33.6,
            34.4,
            31.6,
            47.8,
            32.8,
            39.4,
            39,
            38.2,
            42.2,
            49.6,
            63.8,
            39.4,
            42.4,
            33.4,
            48.4,
            33,
            36.4,
            31.8,
            31,
            40,
            45.4,
            30.8,
            45.8,
            43,
            43.8,
            40,
            36.8,
            44.4,
            36,
            38.6,
            36.4,
            39.4,
            49.6,
            33,
            53,
            52.2,
            30,
            36,
            32,
            46,
            42.8,
            32.8,
            64.6,
            41.6,
            35.6,
            39.2,
            31.6,
            26.2,
            45.2,
            52.8,
            52,
            42,
            40.2,
            51.4,
            38.2,
            52,
            29.8,
            38.2,
            44.4,
            46.6,
            40.8,
            39.2,
            37,
            35,
            33,
            38.2,
            42.4,
            44.4,
            45.8,
            25.6,
            48.4,
            55,
            28.2,
            27.8,
            37.2,
            47,
            46.2,
            35.2,
            46.8,
            37.6,
            31,
            47.2,
            46.4,
            32.2,
            37.2,
            50.8,
            40.8,
            43.4,
            40,
            35.6,
            33.8,
            59.8,
            39.2,
            29.8,
            34.6,
            32.8,
            35.4,
            43.6,
            42,
            41,
            47.8,
            44,
            36.2,
            26,
            48,
            48.8,
            48,
            29.4,
            30.8,
            29.8,
            29,
            47.4,
            43.6,
            44,
            41.4,
            28,
            30.8,
            32.2,
            40.2,
            30.6,
            40.8,
            41.4,
            48.2,
            39.8,
            50.6,
            20.4,
            45.8,
            42.4,
            41.4,
            51.8,
            46,
            38.8,
            48.8,
            40.4,
            43.4,
            37.2,
            35.2,
            53,
            51,
            29.8,
            37.2,
            21.6,
            27.6,
            45.4,
            37.6,
            39.6,
            50.4,
            46,
            42.2,
            44.8,
            59,
            38.6,
            42.8,
            51.6,
            42,
            52.2,
            47.4,
            51.8,
            34.6,
            41.2,
            64.4,
            47.4,
            51.6,
            47.6,
            38.4,
            46.4,
            51,
            48.8,
            35.6,
            33.2,
            35,
            47.8,
            34.6,
            28.2,
            37,
            37.4,
            50.4,
            58.4,
            51.2,
            49.8,
            46.2,
            48,
            50,
            32.2,
            36.4,
            36.6,
            38.6,
            37.6,
            36.4,
            45.8,
            35.8,
            21,
            41,
            45.6,
            32.8,
            44.4,
            33.6,
            35.6,
            34.2,
            37.4,
            53.8,
            40.6,
            40.4,
            40.8,
            32.4,
            43.4,
            54.8,
            46.6,
            29.6,
            39.8,
            42.2,
            33,
            39.4,
            44,
            39.6,
            35.6,
            35.6,
            52.4,
            38.8,
            29,
            57.8,
            43.6,
            32.6,
            47.2,
            52,
            39.8,
            30.8,
            39.4
           ],
           "xaxis": "x",
           "yaxis": "y"
          }
         ],
         "name": "drama film"
        },
        {
         "data": [
          {
           "alignmentgroup": "True",
           "bingroup": "x",
           "hovertemplate": "movie_genre=romance film<br>mean_cast_age=%{x}<br>count=%{y}<extra></extra>",
           "legendgroup": "romance film",
           "marker": {
            "color": "#EF553B",
            "pattern": {
             "shape": ""
            }
           },
           "name": "romance film",
           "offsetgroup": "romance film",
           "orientation": "v",
           "showlegend": true,
           "type": "histogram",
           "x": [
            41,
            33.8,
            41.6,
            35.2,
            33,
            48.2,
            42.6,
            37.4,
            44.6,
            33.4,
            42.8,
            37.2,
            35.4,
            38.8,
            36.2,
            35.4,
            43.2,
            39.6,
            41.2,
            34,
            43.8,
            37.8,
            41.4,
            34.4,
            40.2,
            41.2,
            45.6,
            36.6,
            33.8,
            44.2,
            32.6,
            41.8,
            37.6,
            33.6,
            46.8,
            43.2,
            39,
            37,
            31.4,
            46.2,
            43.8,
            41.4,
            28.8,
            41,
            27.4,
            53.2,
            41,
            31.4,
            38.8,
            43.4,
            36.6,
            34,
            37.6,
            24,
            42,
            36.6,
            35,
            33.6,
            36.8,
            42,
            46.8,
            40.4,
            46.4,
            44.6,
            39,
            37.2,
            31.8,
            32.6,
            41,
            43.4,
            29.4,
            31.6,
            41.6,
            30.6,
            35.6,
            35.4,
            42.2,
            32.6,
            40.2,
            36,
            33,
            25,
            31.8,
            56.2,
            27.8,
            39.4,
            29.6,
            69.8,
            37.6,
            39,
            41.6,
            46.8,
            29.4,
            29.6,
            35.4,
            40,
            32,
            36.8,
            41,
            37,
            52,
            36.2,
            38.6,
            30,
            50.4,
            33.8,
            32.8,
            28.2,
            23.6,
            40.4,
            43.8,
            40.4,
            38.4,
            30,
            44.2,
            40.6,
            54.8,
            49.4,
            42.8,
            51.8,
            43.6,
            35,
            42.4,
            42.2,
            26.6,
            47.6,
            39.6,
            36.6,
            31.4,
            49.4,
            32.6,
            37,
            28.2,
            35.6,
            37,
            27.2,
            36.6,
            29.8,
            40,
            34,
            52.8,
            49,
            39.2,
            43.6,
            34.2,
            47.2,
            38.6,
            26.6,
            28.6,
            39.2,
            45,
            40.4,
            45.2,
            40.2,
            35.8,
            40,
            38,
            39,
            32.4,
            38.4,
            47,
            31,
            38.2,
            24.4,
            32.4,
            50.8,
            41,
            43.8,
            31.4,
            33.2,
            44.4,
            47.2,
            34.6,
            33.2,
            39.8,
            44.6,
            30.2,
            30.4,
            45,
            40.2,
            38.4,
            35.6,
            34.4,
            33.4,
            35,
            47.6,
            29.8,
            43.6,
            33.8,
            42.2,
            32.6,
            35.4,
            29.6,
            20.6,
            39.6,
            32.2,
            35.4,
            31,
            33,
            26,
            30,
            47,
            42.2,
            48,
            31.4,
            47.6,
            42.2,
            43.4,
            46.2,
            44.6,
            32.8,
            37.6,
            30.8,
            37.8,
            37.8,
            39,
            30.8,
            39,
            30.8,
            29.2,
            29,
            33.8,
            29.2,
            37.2,
            26.8,
            22,
            33.6,
            50.6,
            28.6,
            39.2,
            49.6,
            36.8,
            28.4,
            25.6,
            36.8,
            37.6,
            59.6,
            33.6,
            28.8,
            28.8,
            28.4,
            41.4,
            31.2,
            64,
            34.6,
            51.2,
            42.6,
            49.6,
            29,
            36,
            25.8,
            48,
            42.4,
            50,
            22.8,
            37.8,
            39.4,
            26.2,
            36.2,
            37.2,
            35.2,
            37,
            45.8,
            46.2,
            42,
            49.2,
            51.8,
            37,
            28.2,
            39.8,
            37.6,
            49.8,
            43.4,
            47.4,
            22.2,
            39.6,
            49.2,
            34.4,
            36.2,
            27.2,
            23.6,
            23.2,
            29.8,
            38.6,
            32.4,
            20.6,
            45.4,
            36.8,
            44.4
           ],
           "xaxis": "x",
           "yaxis": "y"
          }
         ],
         "name": "romance film"
        },
        {
         "data": [
          {
           "alignmentgroup": "True",
           "bingroup": "x",
           "hovertemplate": "movie_genre=comedy drama<br>mean_cast_age=%{x}<br>count=%{y}<extra></extra>",
           "legendgroup": "comedy drama",
           "marker": {
            "color": "#00cc96",
            "pattern": {
             "shape": ""
            }
           },
           "name": "comedy drama",
           "offsetgroup": "comedy drama",
           "orientation": "v",
           "showlegend": true,
           "type": "histogram",
           "x": [
            26.2,
            24,
            38.4,
            46.2,
            36.8,
            40.2,
            46,
            39.8,
            30.2,
            38.2,
            45.8,
            41.4,
            46.6,
            38,
            48.8,
            36.4,
            30,
            34.8,
            58.8,
            47.2,
            35.8,
            42,
            44.4,
            35.2,
            45.6,
            31.8,
            48.6,
            48,
            48.4,
            39.2,
            33,
            43.2,
            33.4,
            41.2,
            36.6,
            31.2,
            44.6,
            36.6,
            50,
            27.4,
            60.2,
            34.2,
            40,
            32.2,
            38.4,
            47.2,
            41.4,
            47.2,
            36.8,
            47.4,
            45.6,
            37.6,
            50,
            27.2,
            35.4,
            29.2,
            34.2,
            43.8,
            32,
            25.6,
            51.2,
            40,
            32.2,
            30.4,
            39.8,
            35.6,
            42.6,
            36.8,
            38,
            25,
            38.4,
            34.4,
            35,
            34.8,
            40.2,
            46.2,
            32,
            27.6,
            32.6,
            39,
            34.6,
            35.6,
            50.4,
            59.2,
            24.6,
            44.4,
            32,
            35.6,
            41.4,
            48.2,
            39.8,
            58.8,
            19.8,
            23.2,
            43.4,
            24.6,
            46.6,
            25,
            41.4,
            40.4,
            51,
            30.2,
            43.2,
            24.8,
            36,
            40.6,
            52.4,
            51,
            50.6,
            31.8,
            38.6,
            37.2,
            45.4,
            51.6,
            48.4,
            32.2,
            23.4,
            25,
            28.4,
            21.8,
            48.4,
            48.4,
            33.6,
            29.6,
            41.8,
            25.8,
            49.2,
            26,
            47.2,
            34.8,
            47,
            43,
            37.6,
            44.2,
            41.8,
            39.8,
            42.2,
            45.4,
            34.4,
            29.8,
            33.2,
            38.6,
            42.2,
            34,
            39.2,
            29.2,
            33.2,
            41.8,
            44.6,
            42.8,
            36.4,
            32.6,
            43.6,
            34.8,
            40.8,
            36.2,
            41.2,
            34.2,
            44.6,
            39.4,
            33.2,
            35.2,
            41.8,
            49.4,
            30,
            25,
            46.6,
            38.2,
            24,
            38.6,
            41.6,
            27.6,
            46.6,
            28.4,
            50.6,
            21,
            35.2,
            33.2,
            36.6,
            31.4,
            37.8,
            45,
            35.8,
            37.6,
            32.2,
            52.4,
            36.6,
            49.6,
            34.4,
            40.6,
            37.8,
            58.4,
            36.4,
            41.4,
            47.4,
            61.6,
            28,
            37.4,
            12.6,
            42.4,
            39.8,
            28,
            47.4,
            34.4,
            35.8,
            35.2,
            50.8,
            37.4,
            35,
            44.8,
            31.6,
            37.4,
            36.2,
            41,
            44,
            47,
            36.6,
            29.8,
            40.4,
            51.6,
            42.4,
            52.2,
            53.2,
            43.2,
            37.2,
            38.2,
            41.8,
            48.6,
            40.6,
            33,
            32.4,
            41.2,
            48.8,
            47.4,
            33.2,
            41.4,
            38.8,
            45,
            37.6,
            42.8,
            35.6,
            48.6,
            32.8,
            32.6,
            43.4,
            38.6,
            39,
            60.2,
            29,
            41.8,
            36.8,
            45.4,
            50.8,
            43.8,
            35.4,
            48.8,
            37.4,
            40.4,
            43.2,
            37.2,
            42.6,
            43.8,
            43.4,
            34.4,
            27,
            43.6,
            39.6
           ],
           "xaxis": "x",
           "yaxis": "y"
          }
         ],
         "name": "comedy drama"
        },
        {
         "data": [
          {
           "alignmentgroup": "True",
           "bingroup": "x",
           "hovertemplate": "movie_genre=romantic comedy<br>mean_cast_age=%{x}<br>count=%{y}<extra></extra>",
           "legendgroup": "romantic comedy",
           "marker": {
            "color": "#ab63fa",
            "pattern": {
             "shape": ""
            }
           },
           "name": "romantic comedy",
           "offsetgroup": "romantic comedy",
           "orientation": "v",
           "showlegend": true,
           "type": "histogram",
           "x": [
            34.2,
            43.6,
            39.4,
            35.4,
            44.4,
            44,
            33,
            42,
            39,
            29.8,
            36.4,
            45.2,
            39.2,
            37.2,
            36,
            33.8,
            29,
            44.6,
            40,
            46.6,
            41.6,
            39.4,
            39.2,
            36.2,
            27.6,
            49.2,
            38.2,
            29.4,
            43.4,
            39.8,
            45.4,
            32,
            37.6,
            31.4,
            47.2,
            51.4,
            33,
            39,
            39.2,
            47.8,
            34.4,
            41.6,
            41,
            51.4,
            46.2,
            38.8,
            40.8,
            46.8,
            49.6,
            40.4,
            33.6,
            36.6,
            42.2,
            39.2,
            36.8,
            34.8,
            30.4,
            43.8,
            44.8,
            42.2,
            41.8,
            38.8,
            47,
            36.6,
            34.8,
            45.4,
            51.2,
            45,
            38.6,
            33,
            48.6,
            37.8,
            45.2,
            34.2,
            34.4,
            32.8,
            39.6,
            38.6,
            24.6,
            37.4,
            44.2,
            36.2,
            44.6,
            40,
            34.6,
            35.4,
            37.6,
            47.6,
            53.4,
            41,
            43,
            35.8,
            47.4,
            39,
            42.8,
            35.4,
            50.4,
            47.6,
            42.4,
            49.6,
            47.2,
            36.4,
            41.4,
            52.4,
            37.6,
            43.8,
            40.4,
            40.2,
            40.6,
            45.8,
            39,
            31.2,
            41.8,
            42.2,
            25.4,
            35,
            43.4,
            40.4,
            45,
            42.2,
            32,
            34.6,
            44,
            47.2,
            41,
            42,
            43,
            41.2,
            36.6,
            41.2,
            28.2,
            31.4,
            43.8,
            37.4,
            40.6,
            35.4,
            38.6,
            50.6,
            26.6,
            28.6,
            33.6,
            28.8,
            49.8,
            33.2,
            39.4,
            26.2,
            43.2,
            39.2,
            44,
            46.4,
            45.4,
            40.4,
            45.8,
            52,
            34.2,
            44.8,
            31.2,
            49.6,
            40.8,
            48,
            26.8,
            32.4,
            47.4,
            58,
            43,
            22.6,
            47.6,
            50,
            34.6,
            45.8,
            39.8,
            38,
            42.4,
            32.2,
            41.2,
            36.4,
            38.8,
            39,
            36.4,
            37.4,
            44,
            38.4,
            35.8,
            42.2,
            34.6,
            28.6,
            21.6,
            40.6,
            28.2,
            46.8,
            26,
            30.4,
            49.6,
            35.6,
            35,
            28.6,
            37.8,
            31.8,
            35.8,
            39,
            30,
            49.2,
            38.6,
            40.6,
            31.4,
            24.6,
            38.4,
            49,
            39.2,
            35,
            47.8,
            45.2,
            40.6,
            18.6,
            44.6,
            33.6,
            44.4,
            33.4,
            48.2,
            38,
            40,
            41,
            33.8,
            34.4,
            30.2,
            52.2,
            35,
            43.8,
            36.2,
            43,
            36.4,
            34.2,
            51.6,
            23.4,
            43,
            32.6,
            36.2,
            30.8,
            32.6,
            47.2,
            42,
            50.8,
            36,
            36.4,
            31.4,
            28.8,
            47.4,
            44.2,
            33.6,
            44.4,
            37.2,
            21.6,
            39.2,
            43.4,
            41.8,
            52.2,
            38.8,
            52.2,
            40.2,
            44,
            35.4,
            54.2,
            32.4,
            38.8,
            44.2,
            38,
            28.8,
            53.6,
            43,
            52,
            45,
            30,
            48.4,
            37.2,
            26,
            37.4,
            40.4,
            35.8,
            32.2,
            47,
            29,
            57.2,
            45.6,
            51.8,
            46.6,
            49,
            48.6,
            44.8,
            42.8,
            45,
            29.8,
            33.6,
            36,
            31.4,
            38.8,
            39.4,
            33.6,
            33.8,
            40.8,
            38.4,
            29.4,
            25.6,
            46.6,
            42,
            37.4,
            38.2,
            36.2,
            27.8,
            35.6,
            52.2,
            42.8,
            40.6,
            26.6,
            34.6,
            36.2,
            48.2,
            40.6,
            42.6,
            34,
            36.4,
            45.6,
            49,
            28.6,
            23.8,
            40.8,
            37.6,
            41.6,
            40,
            39,
            45.6,
            45,
            45.6,
            22.4,
            24.6,
            44.8,
            35.4,
            65.4,
            51.4,
            38.8,
            48.4,
            32.2,
            26.4,
            27.8,
            31.8,
            35.2,
            23.8,
            42.6,
            37.6,
            27.8,
            36.6,
            32.4,
            44.4,
            27,
            38.2,
            61.2,
            30.2,
            36.2,
            38.8,
            38,
            40.2,
            44,
            64,
            40.2,
            24.8,
            32.6,
            26.2,
            38.4,
            33,
            42.6,
            36.8,
            38.8,
            47,
            45,
            30.8,
            30.4,
            48.2,
            34,
            31.4,
            43.2,
            20.8,
            43.8,
            32.2,
            29.8,
            44.6,
            40.6,
            40.2,
            32,
            31.8,
            33,
            32.8,
            34,
            33,
            29.2,
            41.6,
            37.2,
            45,
            35,
            22.2,
            39.2,
            48.8,
            26,
            41.4,
            32.6,
            27.8,
            25.8,
            34.2,
            25,
            37.6,
            36.8,
            23.8,
            39.6,
            53.8,
            36.2,
            45.2,
            52.4,
            24,
            34.6,
            51,
            32.2,
            40.4,
            30.6,
            43,
            49.8,
            36.8,
            42.4,
            40.8,
            26.8,
            32,
            31.2,
            43.6,
            38.6,
            37,
            32.6,
            37.6,
            28.4,
            37.2,
            40.8,
            22.8,
            44.4,
            30.6,
            40.4,
            45,
            26,
            33.2,
            27.4,
            40,
            39,
            54,
            35.8,
            43.6,
            38.4,
            32.6,
            34.6,
            42.8,
            37.6,
            31.2,
            22.6,
            52.4,
            32.2,
            45,
            30,
            33.2,
            36.4,
            36.2,
            33.8,
            37.6,
            39,
            41.8,
            22.4,
            37.2,
            39.2,
            29.8,
            37.6,
            54.6,
            41.4,
            39.6,
            41.8,
            38,
            36.6,
            27,
            31.4,
            38.8,
            38.6,
            39,
            23.2,
            41.6,
            33,
            42.8,
            33.4,
            26.4,
            36.4,
            36.2,
            24.6,
            26.6,
            39.2,
            25.2,
            34.2,
            35.8,
            27.6,
            47.8,
            27.6,
            33.6,
            53.6,
            33.6,
            40.2,
            33.4,
            39.2,
            39.4,
            32.8,
            28.8,
            30.6,
            34.2,
            42.6,
            34.4,
            44,
            43,
            46.8,
            25.2,
            39,
            38.6,
            28.4,
            35.4,
            54.8,
            33,
            42.2,
            52,
            35.2,
            38.6,
            25.4,
            39.8,
            42.4,
            36.6,
            39.2,
            34.8,
            32.4,
            23.4,
            33.2,
            40.2,
            27.4,
            40,
            37.4,
            45.2,
            43.8,
            45.2,
            42.2,
            34.8,
            31.6,
            38.8,
            48,
            36.6,
            32.2,
            35,
            20.2,
            23.2,
            38.4,
            37.4,
            32.6,
            35.2,
            36.4,
            30.6,
            31,
            34,
            40.4,
            28.6,
            43,
            43.2,
            29.4,
            52.2,
            42.2,
            34.6,
            44.8,
            42.4,
            35.4,
            36.2,
            31.6,
            50.6,
            43.2,
            36.6,
            36.6,
            32.2,
            30.4,
            26.8,
            40.8,
            37.2,
            36.4,
            37,
            34.4,
            44.6,
            40,
            37.2,
            38.6,
            51,
            36.4,
            23.8,
            54.4,
            36.4,
            24.2,
            19.8,
            32.6,
            42.8,
            37,
            41.6,
            33.8,
            30.8,
            34.6,
            45.2,
            30.6,
            27.8,
            38,
            38.6,
            46.2,
            36.6,
            32.8,
            39.8,
            34.2,
            44.6,
            37.4,
            46.6,
            28.2,
            32.2,
            41.6,
            42.6,
            41.2,
            41.4,
            30.2,
            50.2,
            39.6,
            58.6,
            37.4,
            28.4,
            42.8,
            36.6,
            34.2,
            40,
            40,
            49.8,
            39.2,
            44,
            38.6,
            42.4,
            42.4,
            34.6,
            26,
            42,
            49.6,
            34,
            24,
            39.2,
            32.4,
            27.4,
            35.2,
            36,
            21.4,
            43.8,
            32.8,
            46.6,
            35.8,
            32,
            28.8,
            50,
            25.8,
            36.8,
            35.6,
            25.4,
            43.6,
            40.4,
            30,
            30.6,
            39.2,
            34.2,
            29.6,
            34,
            33.6,
            47.4,
            48.2,
            36.2,
            27.2,
            42,
            27.2,
            42.2,
            48,
            25.8,
            37,
            46.6,
            57.2,
            47.6,
            30.8,
            28,
            36.2,
            35.8,
            39.8,
            33,
            39.6,
            28.4,
            39.8,
            61.2,
            46.8,
            47.8,
            32.6,
            39.6,
            43.4,
            41.4,
            44,
            36.4,
            36.8,
            47.6,
            35.2,
            46.2,
            43.6,
            44.2,
            48,
            38.6,
            42.8,
            44.6,
            35.6,
            38.8,
            39.4,
            46.8,
            44.6,
            44.8,
            29,
            46,
            29.2,
            42.4,
            35,
            26,
            29,
            52.6,
            33.4,
            38.8,
            45,
            44,
            26.8,
            38.6,
            32,
            34.4,
            37.8,
            39.8,
            36.4,
            42.8,
            28.6,
            39.2,
            40.8,
            37.6,
            29.8,
            33,
            41,
            38,
            42.8,
            44.8,
            43.6,
            44,
            50.2,
            30.2,
            33.8,
            44.6,
            37.4,
            37.8,
            57.8,
            43,
            28.2,
            49,
            31.4,
            33.8,
            34.2,
            38,
            57.2,
            34.6,
            35,
            40.6,
            40.2,
            37.4
           ],
           "xaxis": "x",
           "yaxis": "y"
          }
         ],
         "name": "romantic comedy"
        },
        {
         "data": [
          {
           "alignmentgroup": "True",
           "bingroup": "x",
           "hovertemplate": "movie_genre=comedy film<br>mean_cast_age=%{x}<br>count=%{y}<extra></extra>",
           "legendgroup": "comedy film",
           "marker": {
            "color": "#FFA15A",
            "pattern": {
             "shape": ""
            }
           },
           "name": "comedy film",
           "offsetgroup": "comedy film",
           "orientation": "v",
           "showlegend": true,
           "type": "histogram",
           "x": [
            21,
            35.4,
            29.4,
            42.6,
            36,
            35.6,
            38.2,
            38,
            40.6,
            42.8,
            48.4,
            30.8,
            45,
            42,
            42.8,
            38,
            39.6,
            49.2,
            32.4,
            44.2,
            36.2,
            39.8,
            44.8,
            47.2,
            36.2,
            38,
            29.6,
            46.6,
            33.6,
            32.4,
            42.6,
            36.2,
            29,
            31.4,
            44.8,
            35.8,
            35.6,
            49.4,
            43.8,
            45.4,
            33,
            44.2,
            34.8,
            47,
            50.6,
            36,
            32.6,
            41.2,
            40.4,
            36.8,
            40.6,
            38,
            30.6,
            30.8,
            37.4,
            51.4,
            41.4,
            32.6,
            40.8,
            38.4,
            33.6,
            40.8,
            42.2,
            37.8,
            45,
            39.4,
            45.6,
            50.2,
            44.6,
            44.4,
            42,
            35.8,
            27.4,
            41.8,
            45.8,
            33.2,
            53,
            52.4,
            35.2,
            43.8,
            34.2,
            48,
            38,
            47.4,
            39.6,
            38,
            40.8,
            41.2,
            41.6,
            60,
            42.8,
            48.2,
            38.4,
            37,
            50.2,
            30.2,
            54,
            44.6,
            49.2,
            43.4,
            46.8,
            37.6,
            45.8,
            40.2,
            32.4,
            39.4,
            56,
            54.2,
            57.8,
            37,
            52,
            44.2,
            31.2,
            53.6,
            46.2,
            56.8,
            27.4,
            37.8,
            45,
            49.2,
            57.4,
            45.2,
            29.4,
            55.8,
            38.8,
            39.6,
            40.4,
            31.6,
            32.8,
            54.2,
            38,
            43,
            41.6,
            33.6,
            32.6,
            36.2,
            30.8,
            32.6,
            40.4,
            37.6,
            36.4,
            47.4,
            38.6,
            40.8,
            37.2,
            39.4,
            32.2,
            61.6,
            53.6,
            35.6,
            53,
            29.4,
            47.6,
            21.6,
            39,
            42,
            36.8,
            41.6,
            32.4,
            34,
            34,
            40.2,
            43.2,
            49.6,
            33.4,
            49.4,
            39.2,
            34.6,
            36.8,
            30.4,
            43.4,
            24.4,
            45.6,
            38.2,
            57,
            41.2,
            46.6,
            55.4,
            36,
            29.2,
            30.8,
            33.6,
            50,
            47.8,
            38.6,
            34.6,
            42.6,
            20.2,
            37,
            38.8,
            35.8,
            36.8,
            39.8,
            35,
            47,
            45.2,
            37.4,
            34.2,
            42.6,
            39.6,
            48.4,
            42.6,
            36.8,
            37.6,
            43.2,
            34.8,
            36.2,
            39.2,
            45.2,
            28,
            40.6,
            44,
            40.2,
            55.8,
            49.6,
            45.8,
            50.8,
            43.8,
            34.2,
            25,
            40.6,
            32,
            24.6,
            47.2,
            36.4,
            37.8,
            40.8,
            53,
            40.4,
            37,
            48.8,
            40.8,
            21.2,
            28.8,
            30,
            40.2,
            33.4,
            43.2,
            37,
            53.6,
            27.2,
            39.4,
            28.4,
            26.2,
            42.6,
            46.2,
            35.4,
            28.8,
            37.4,
            43,
            48.8,
            39.6,
            47.6,
            48,
            44.8,
            31.6,
            44,
            36.8,
            38.8,
            37,
            45,
            33.8,
            48.8,
            51,
            51.4,
            37.4,
            35,
            33.6,
            35.2,
            30.6,
            42.6,
            22.6,
            32.8,
            41.8,
            39.8,
            49.8,
            42.2,
            35.8,
            42.8,
            50.6,
            46.2,
            32.4,
            27,
            46.6,
            42.6,
            38.8,
            35.4,
            40.8,
            39.6,
            34.6,
            30.6,
            41.6,
            41.4,
            38.4,
            39.8,
            32,
            41.4,
            45.6,
            28.8,
            58.6,
            49.6,
            41,
            40.2,
            47.4,
            40.4,
            44.8,
            45.4,
            42.2,
            48.6,
            43.8,
            48,
            36.2,
            39.6,
            36,
            42.2,
            36.6,
            35.4,
            45,
            38,
            43.2,
            44,
            46.4,
            49.2,
            43,
            40.8,
            34.4,
            50.8,
            33.8,
            47.8,
            44.2,
            32.8,
            39.4,
            41.6,
            30.8,
            37.4,
            40.2,
            42.2,
            41.4,
            40.4,
            48.4,
            43,
            54.6,
            47.8,
            41.6,
            32.2,
            38.4,
            42.4,
            43,
            43.2,
            26,
            36.4,
            42.4,
            53.4,
            38.2,
            32.2,
            38.6,
            38.8,
            31.4,
            28.6,
            35,
            44.6,
            38,
            35.4,
            42.2,
            52,
            38.6,
            28.8,
            36.2,
            46.4,
            38.2,
            39.8,
            39.6,
            26.4,
            41.2,
            42.6,
            48.4,
            28,
            23.6,
            41.4,
            41,
            33,
            55,
            40.4,
            25,
            28.4,
            43.2,
            45.2,
            43.2,
            37.4,
            41.8,
            27.4,
            49,
            34.2,
            39.4,
            32.8,
            33,
            48.8,
            40,
            38,
            30.4,
            36.8,
            31.8,
            37.4,
            53,
            44.6,
            37.6,
            45.6,
            41.2,
            49.4,
            31.8,
            46.6,
            41.2,
            25.4,
            50.2,
            31.8,
            29.2,
            42.6,
            29,
            51.8,
            46.8,
            59.4,
            44.4,
            43.6,
            50.2,
            63.8,
            40.6,
            34.6,
            36.8,
            49.2,
            37,
            47,
            29.6,
            39,
            39.8,
            41.6,
            53,
            25.8,
            33,
            43.6,
            56.8,
            50.8,
            43.2,
            44.4,
            33.8,
            35.4,
            40.4,
            41,
            25.8,
            23,
            42.8,
            58,
            46.6,
            37,
            31.4,
            40,
            43.4,
            32.4,
            37.8,
            39.8,
            35.8,
            38.4,
            43,
            37,
            39.2,
            31.4,
            50,
            38,
            37.6,
            51.8,
            29.4,
            44,
            51.6,
            42.2,
            29.6,
            50.6,
            36.8,
            34.4,
            48.2,
            35.2,
            34.4,
            31.4,
            36.6,
            37,
            36.2,
            38.2,
            30,
            28.4,
            51.4,
            43.8,
            56.8,
            49.4,
            35.4,
            37.4,
            61.4,
            42.8,
            53,
            36.6,
            49.8,
            38.8,
            37.8,
            51,
            49.8,
            25.2,
            44.6,
            39.2,
            46.2,
            41.4,
            40.4,
            40,
            41.8,
            53.4,
            38.2,
            47,
            55.2,
            24.8,
            34.2,
            23,
            38,
            44.4,
            43.6,
            35.6,
            47.6,
            42.2,
            50.6,
            43.6,
            46,
            47.8,
            43.6,
            33.2,
            42,
            41.2,
            41,
            29.2,
            41,
            39,
            30.2,
            51.6,
            35,
            38,
            42,
            45.4,
            43,
            34.8,
            36.4,
            49.2,
            34.4,
            47.4,
            36.8,
            64,
            40,
            46.4,
            18.2,
            36.2,
            44.6,
            40.6,
            38.2,
            26.2,
            52.2,
            38.6,
            48.8,
            31.2,
            32.2,
            30.8,
            40.6,
            35.2,
            49.2,
            41,
            39.4,
            28.2,
            49.4,
            47.8,
            27,
            33.8,
            35.8,
            30.4,
            41,
            50.6,
            35.8,
            48,
            44.8,
            51.8,
            32.4,
            52.4,
            37.4,
            25.6,
            35.2,
            38,
            50.6,
            25.2,
            36.4,
            38.8,
            40,
            46,
            46.6,
            45,
            33,
            28.4,
            43,
            40.2,
            44.4,
            51.2,
            32.2,
            55.6,
            32.4,
            43,
            26.6,
            38,
            36.6,
            50.8,
            44,
            32.2,
            31.8,
            44.8,
            46,
            36.2,
            48.8,
            35,
            40.4,
            34.2,
            26.2,
            38,
            42.8,
            40.2,
            54.2,
            42.8,
            49.2,
            38,
            32,
            39,
            44.8,
            34.6,
            38,
            33.2,
            21.6,
            48.4,
            46,
            35.2,
            43.8,
            37.8,
            52.4
           ],
           "xaxis": "x",
           "yaxis": "y"
          }
         ],
         "name": "comedy film"
        },
        {
         "data": [
          {
           "alignmentgroup": "True",
           "bingroup": "x",
           "hovertemplate": "movie_genre=horror film<br>mean_cast_age=%{x}<br>count=%{y}<extra></extra>",
           "legendgroup": "horror film",
           "marker": {
            "color": "#19d3f3",
            "pattern": {
             "shape": ""
            }
           },
           "name": "horror film",
           "offsetgroup": "horror film",
           "orientation": "v",
           "showlegend": true,
           "type": "histogram",
           "x": [
            36.8,
            36.2,
            37.4,
            37.4,
            37.2,
            39,
            32.4,
            44.4,
            39,
            43.4,
            32.8,
            36.2,
            36,
            32,
            30.6,
            54.8,
            44,
            27.2,
            38,
            46.4,
            42.8,
            30.4,
            32.6,
            40.4,
            30.8,
            52,
            37.2,
            38.4,
            45.2,
            41.4,
            40.8,
            37.2,
            50.6,
            42.6,
            44.8,
            48,
            47,
            31.2,
            43.2,
            47.6,
            38.6,
            42.4,
            31,
            41.6,
            30.6,
            42.8,
            30.6,
            28.4,
            34,
            48.6,
            38.6,
            37.8,
            40,
            41.8,
            41.2,
            37.6,
            26.4,
            49.2,
            38.6,
            39.6,
            73.6,
            36.4,
            26.6,
            23,
            39.2,
            50.4,
            37.4,
            49.4,
            40,
            34,
            47.4,
            32.8,
            36.2,
            31.8,
            30,
            34.8,
            48.2,
            44,
            43.2,
            32.8,
            35.2,
            40.4,
            29.4,
            33.6,
            39.6,
            40.8,
            29.4,
            29,
            36,
            39.4,
            35,
            39.2,
            28.4,
            40.4,
            26,
            31.4,
            33.4,
            38.6,
            28.4,
            26.8,
            33.4,
            30.6,
            32.2,
            47.4,
            40.4,
            39.4,
            18.4,
            38,
            28.2,
            35.8,
            34.2,
            32.2,
            34.8,
            31.6,
            35.8,
            46.6,
            25,
            37.2,
            34.6,
            29,
            35,
            35.2,
            41.6,
            34.6,
            32,
            35.6,
            31.8,
            27.6,
            37.2,
            37.2,
            27.4,
            35.2,
            31.6,
            33.6,
            32.8,
            53.4,
            51.6,
            34.2,
            41.2,
            40,
            37,
            30.4,
            33.2,
            33,
            44.6,
            39.2,
            33,
            33.8,
            37,
            36.2,
            47.6,
            38.8,
            38.8,
            39.6,
            34,
            42.2,
            31.8,
            41.6,
            38.2,
            36.6,
            44,
            53,
            41,
            34,
            38.2,
            42,
            54.4,
            31.4,
            25.8,
            39.6,
            34.2,
            21.2,
            38.8,
            39,
            47.6,
            39.2,
            41.8,
            25.2,
            20.8,
            36.6,
            36.6,
            22.6,
            20.8,
            35,
            42.8,
            36.2,
            48,
            40.6,
            38.2,
            41.4,
            34,
            32,
            35,
            33,
            43.2,
            28.6,
            28.8,
            31.6,
            40.8,
            35,
            28.8,
            28.6,
            42.8,
            35.6,
            34.4,
            28.6,
            43.6,
            50.8,
            35.4,
            41.2,
            36.6,
            27.4,
            38.8,
            51.4,
            41,
            38,
            35.2,
            25.6,
            27.8,
            36.2,
            26.8,
            30.6,
            22.8,
            44.2,
            39,
            34.6,
            30.4,
            38,
            43.8,
            29,
            29.2,
            49,
            25.2,
            23.8,
            49,
            33,
            34.6,
            36.6,
            22.4,
            45.2,
            25.2,
            43.8,
            37.8,
            37,
            23,
            46,
            28.6,
            32.4,
            38.2,
            35.8,
            32.8,
            46.8,
            28,
            48.8,
            41.6,
            29,
            31.4,
            50.2,
            44.4,
            41,
            33.4,
            26.8,
            34.6,
            27.8,
            28.6,
            40.6,
            35.4,
            23.4,
            35.2,
            41,
            26.4,
            35.2,
            28.8,
            31.2,
            27,
            47,
            31.6,
            30,
            38,
            23,
            31.6,
            34.6,
            23.4,
            42.6,
            25.8,
            32.6,
            37.2,
            33.6,
            33,
            36,
            36.8,
            42,
            25.6,
            43.4,
            36.8,
            30.4,
            43.8,
            45.2,
            19.6,
            34.6,
            52,
            47.4,
            29.6,
            24.2,
            42.8,
            35,
            35.4,
            35.6,
            52.4,
            33.4,
            31.6,
            28.4,
            33.2,
            35,
            25,
            26.2,
            39.8,
            30,
            37.2,
            45.6,
            43,
            36.2,
            43.8,
            35.6,
            31.4,
            36,
            35.8,
            36.4,
            25.2,
            38.6,
            24,
            40,
            47.8,
            32.8,
            31.4,
            25,
            33.2,
            30.2,
            40,
            41,
            34.6,
            33.2,
            50.6,
            32.8,
            33.2,
            38.8,
            29,
            36.2,
            41.8,
            50.6,
            35,
            40.2,
            45.4,
            51.8,
            37.2,
            34.8,
            26,
            41.2,
            47,
            40.4,
            42.6,
            38.4,
            40.4,
            35.2,
            36,
            32.8,
            30.4,
            45.8,
            38,
            30.4,
            46.2,
            42.6,
            32.2,
            34.2,
            29.6,
            55.6
           ],
           "xaxis": "x",
           "yaxis": "y"
          }
         ],
         "name": "horror film"
        },
        {
         "data": [
          {
           "alignmentgroup": "True",
           "bingroup": "x",
           "hovertemplate": "movie_genre=crime film<br>mean_cast_age=%{x}<br>count=%{y}<extra></extra>",
           "legendgroup": "crime film",
           "marker": {
            "color": "#FF6692",
            "pattern": {
             "shape": ""
            }
           },
           "name": "crime film",
           "offsetgroup": "crime film",
           "orientation": "v",
           "showlegend": true,
           "type": "histogram",
           "x": [
            37,
            41.4,
            45.8,
            31.2,
            31.8,
            40.2,
            37.2,
            42.2,
            43.2,
            47.2,
            37.8,
            41.2,
            34.6,
            37.8,
            50.2,
            41,
            41.4,
            40,
            41.2,
            50.2,
            38.4,
            47.6,
            30,
            40,
            57.8,
            42.2,
            54.4,
            37.4,
            32,
            27.8,
            41.4,
            40.8,
            36.2,
            35.4,
            44.2,
            37.8,
            39,
            42.4,
            48.4,
            40.4,
            33.2,
            37.2,
            47.6,
            36.8,
            43.8,
            48,
            39,
            37.6,
            42.4,
            42.6,
            42.6,
            38,
            57.2,
            34.6,
            41,
            34.6,
            40.4,
            53.2,
            50.8,
            35.4,
            41.6,
            44.8,
            37.2,
            36,
            32.4,
            41.2,
            39.2,
            38.6,
            30.2,
            38.2,
            38.4,
            48.6,
            51.2,
            33.6,
            25.2,
            42.8,
            43,
            36.6,
            42.2,
            51.2,
            38.4,
            38,
            44,
            39,
            44,
            36,
            41.6,
            52.6,
            41,
            44.8,
            35.2,
            41.2,
            49,
            38.4,
            40,
            42.8,
            43.4,
            37.6,
            35.2,
            48,
            47,
            49.2,
            37.8,
            33,
            46.4,
            49.4,
            33.4,
            41.4,
            38.8,
            44.4,
            48,
            37.4,
            39,
            35,
            34.6,
            37.8,
            38.8,
            38.4,
            46.4,
            42.6,
            33.6,
            40.8,
            32.8,
            37.2,
            24.8,
            39.6,
            40,
            44.4,
            38.4,
            43,
            44,
            31.8,
            36.8,
            41.4,
            50.6,
            45.4,
            40.4,
            45.2,
            32.8,
            35,
            45.8,
            25.8,
            37.4,
            32.8,
            39.4,
            38.8,
            29.8,
            32.4,
            37,
            36.8,
            40.4,
            44.2,
            39,
            41.6,
            50.8,
            35.6,
            39.8,
            39.2,
            46,
            46,
            36.2,
            43.6,
            34.4,
            46.4,
            46.6,
            39.6,
            45.2,
            36.4,
            53,
            30.8,
            42,
            34,
            41.4,
            48.2,
            33.2,
            39.8,
            34.8,
            31.2,
            37.8,
            32.6,
            29.4,
            39.8,
            42.4,
            38.2,
            55.4,
            28.4,
            42.8,
            58.8,
            29.4,
            44.8,
            37.8,
            52.2,
            41.6,
            31.4,
            30.2,
            40.4,
            36.4,
            41.6,
            29.4,
            40,
            50.4,
            41,
            51.2,
            42.2,
            44.2,
            40.4,
            48.4,
            48.4,
            36.4,
            37.4,
            32.4,
            50.4,
            26.2,
            44.6,
            35.6,
            48,
            40.8,
            39.4,
            41.4,
            35.2,
            39.8,
            40.8,
            43.8,
            40.4,
            55,
            42.6,
            42.8,
            40,
            40.8,
            42.6,
            44,
            33.8,
            43.6,
            44.2,
            38.8,
            47.6,
            43.4,
            43.8,
            32.6,
            32.8,
            45.8,
            29.4,
            46.8,
            30.8,
            44.8,
            46,
            38.6,
            36.8,
            30.2,
            44.6,
            54,
            45.8,
            45.4,
            31.8,
            40.4,
            28.4,
            49.4,
            45,
            60.2,
            41.4,
            44.8,
            39.2,
            32.6,
            39.6,
            39.6,
            40.2,
            44.6,
            50.6,
            48.2,
            40,
            47.4,
            32.8,
            44.4,
            40.6,
            41.8,
            60.2,
            52.8,
            42.8,
            49.2,
            29,
            52.4,
            37.6,
            45.8,
            45.6,
            49,
            39.2,
            45.4,
            52.4,
            35,
            52.4,
            30.2,
            34.6,
            35.6,
            30.8,
            57.8
           ],
           "xaxis": "x",
           "yaxis": "y"
          }
         ],
         "name": "crime film"
        },
        {
         "data": [
          {
           "alignmentgroup": "True",
           "bingroup": "x",
           "hovertemplate": "movie_genre=biographical film<br>mean_cast_age=%{x}<br>count=%{y}<extra></extra>",
           "legendgroup": "biographical film",
           "marker": {
            "color": "#B6E880",
            "pattern": {
             "shape": ""
            }
           },
           "name": "biographical film",
           "offsetgroup": "biographical film",
           "orientation": "v",
           "showlegend": true,
           "type": "histogram",
           "x": [
            44.4,
            36.2,
            37.2,
            39.4,
            43.4,
            39.2,
            34,
            28.6,
            47.4,
            35.2,
            49.8,
            45,
            39,
            39.8,
            39.8,
            43.8,
            38.4,
            36.2,
            39.6,
            36.8,
            39.6,
            34,
            42.6,
            36.2,
            36,
            45.6,
            45.4,
            35.8,
            35.8,
            45.2,
            40.6,
            42,
            46,
            50.2,
            44.2,
            30.8,
            48,
            31.2,
            37.6,
            34,
            37.6,
            37.8,
            42.6,
            36.4,
            51.8,
            40.4,
            36,
            38.8,
            42.2,
            47.4,
            37.2,
            47.6,
            18.4,
            35.4,
            43.2,
            37.4,
            38.8,
            50.2,
            32.2,
            41.8,
            55.2,
            34,
            38.6,
            32.2,
            34.2,
            43.2,
            34.6,
            43,
            53.4,
            40.2,
            46.8,
            40,
            38.8,
            37,
            39.2,
            36.8,
            38,
            44.2,
            40.6,
            28.6,
            38,
            45.2,
            36.4,
            41,
            42,
            38.2,
            36.4,
            50.4,
            30.2,
            46.8,
            39.4,
            31.4,
            43.4,
            29.6,
            30.8,
            38,
            33.4,
            53.6,
            45,
            39.4,
            48.4,
            41.8,
            32.6,
            34.6,
            29.4,
            44.6,
            49.8,
            48.2,
            41.4,
            50.6,
            27,
            49.2,
            33.6,
            41,
            30.4,
            41.2,
            42,
            37.4,
            41.4,
            45.8,
            38.4,
            36.2,
            44.6,
            36.6,
            32,
            46.4,
            35.4,
            41.2,
            48.2,
            35.8,
            43.4,
            35,
            42,
            28.8,
            47,
            34.4,
            46,
            51.4,
            34.4,
            45.8,
            37,
            31.4,
            26.4,
            38.8,
            33,
            39.6,
            37.6,
            42,
            37.4,
            40,
            43.6,
            43,
            46.2,
            34.4,
            47.6,
            42,
            36.2,
            43.8,
            42,
            45.8,
            42.2,
            44.4,
            37.4,
            37.6,
            45,
            33.8,
            31.8,
            37,
            53.4,
            35.8,
            36.4,
            37.6,
            47.4,
            44.6,
            47.6,
            29.6,
            49,
            42.4,
            39,
            32.8,
            41,
            40.4,
            41.4,
            33.2,
            38,
            43.4,
            44.4,
            44.8,
            50,
            34.2,
            27.2,
            49.2,
            49.8,
            33.2,
            37.4,
            53.4,
            40.8,
            51.8,
            34,
            37.2,
            45.4,
            33.8,
            42,
            30.2,
            43.4,
            38.8,
            51,
            41,
            34.2,
            39,
            40.2,
            40.6,
            34.4,
            47.2,
            51,
            44.6,
            41,
            43,
            25.8,
            41,
            22.8,
            45.4,
            41.6,
            38.6,
            37.8,
            57,
            41.8,
            41.8,
            34.4,
            38,
            40.6,
            37.6,
            39.4,
            44.8,
            57.2,
            32
           ],
           "xaxis": "x",
           "yaxis": "y"
          }
         ],
         "name": "biographical film"
        },
        {
         "data": [
          {
           "alignmentgroup": "True",
           "bingroup": "x",
           "hovertemplate": "movie_genre=action film<br>mean_cast_age=%{x}<br>count=%{y}<extra></extra>",
           "legendgroup": "action film",
           "marker": {
            "color": "#FF97FF",
            "pattern": {
             "shape": ""
            }
           },
           "name": "action film",
           "offsetgroup": "action film",
           "orientation": "v",
           "showlegend": true,
           "type": "histogram",
           "x": [
            30,
            36.2,
            43.4,
            30.2,
            41.6,
            41.6,
            45.8,
            42.2,
            31,
            40,
            38.8,
            42.8,
            42.6,
            47.2,
            44.8,
            42.2,
            37.6,
            41,
            40.4,
            54.6,
            51.4,
            43.2,
            33.8,
            44.8,
            39.4,
            30.2,
            46.2,
            37.6,
            43.2,
            44.2,
            43.4,
            32.2,
            36,
            46,
            48.8,
            37,
            43.6,
            32.2,
            42.6,
            45.6,
            40.2,
            42.8,
            37.8,
            39.4,
            47.4,
            41.8,
            57.8,
            25.6,
            29.4,
            39.2,
            54,
            42.2,
            36.2,
            47.8,
            40,
            47.6,
            39.6,
            42.2,
            45.8,
            44.8,
            36,
            40.6,
            45,
            56.6,
            56.4,
            42.6,
            32.2,
            43.8,
            48.2,
            47.6,
            33.8,
            38.8,
            40.2,
            40.6,
            42.8,
            43,
            36.2,
            41,
            29.4,
            35,
            39.4,
            43.8,
            35.4,
            36,
            32.6,
            42.8,
            34.2,
            35.8,
            43.4,
            55.2,
            45.8,
            58.2,
            42.6,
            35.8,
            43.4,
            46,
            27.8,
            46,
            26.4,
            26.4,
            39.4,
            36.2,
            34.4,
            48.6,
            35.6,
            31.4,
            38,
            32.2,
            44,
            40,
            28.6,
            36.4,
            34.6,
            32.4,
            45.6,
            24.6,
            43,
            53.6,
            47.2,
            50,
            36.4,
            39,
            42,
            38,
            41.8,
            29.6,
            41,
            46.4,
            40.4,
            40.4,
            47.6,
            47.6,
            40.2,
            39.6,
            45,
            37.6,
            41.4,
            45.8,
            43.6,
            39.2,
            37,
            38.4,
            46.8,
            43,
            41.2,
            37.8,
            42.4,
            35.6,
            61.2,
            32.2,
            29.2,
            31.4,
            44.8,
            46.2,
            38.4,
            44,
            42.4,
            32.4,
            38.8,
            46.2,
            42.2,
            30.4,
            41.4,
            32.4,
            31.2,
            30.8,
            39.8,
            29,
            46,
            51.6,
            38.6,
            48,
            39.8,
            33.4,
            55,
            46.6,
            39.2,
            37,
            34.8,
            37,
            35.8,
            44.8,
            33.2,
            49.4,
            32.6,
            44.6,
            36.4,
            39.6,
            41.4,
            43.2,
            63.2,
            35.6,
            34.4,
            41.4,
            33.6,
            36.2,
            39.2,
            42.8,
            32.4,
            44.4,
            45.4,
            30.8,
            39.6,
            38,
            46.4,
            43.4,
            27.4,
            34.4,
            39.2,
            43.4,
            35.8,
            40.2,
            43,
            26.8,
            43.2,
            37.2,
            28,
            37.6,
            39.8,
            40.4,
            43.6,
            40.6,
            49.4,
            40.2,
            51.2,
            44.2,
            36.6,
            37,
            37,
            38.6,
            38.6,
            47.6,
            41.4,
            35.6,
            38.4,
            38.2,
            47,
            40.4,
            42.2,
            44.4,
            40.4,
            38.8,
            33.8,
            37.6,
            41.6,
            33,
            33.4,
            46.4,
            43.6,
            34.2,
            38.8,
            32,
            38,
            36.8,
            43.6,
            31.4,
            36.2,
            42.2,
            37.8,
            36.2,
            44.2,
            42.2,
            34.6,
            34.4,
            43.8,
            53.4,
            45,
            39,
            46.6,
            34.4,
            34,
            42.8,
            38.6,
            49.6,
            49.4,
            39.4,
            47.6,
            54.6,
            45,
            31.8,
            32,
            43.8,
            37.2,
            26.8,
            40.2,
            45.2,
            22.8,
            44.2,
            46.6,
            49.4,
            39.8,
            38.6,
            35.8,
            52.2,
            42.8,
            33.6,
            32.2,
            43.6,
            33.8,
            45.2,
            48,
            42.4,
            37.8,
            44.2,
            44.6,
            45.2,
            36.6,
            40.6,
            33.8,
            45.6,
            40.2,
            33,
            41.6,
            37.6,
            38.4,
            44.2,
            48.8,
            31.4,
            35.6,
            43.8,
            40.6,
            35.6,
            42.4,
            36,
            39.4,
            32.4,
            38.8,
            33.4,
            38.8,
            41,
            47.2,
            35.2,
            49.8,
            36.6,
            30.4,
            29.2,
            43.6,
            47.2,
            43.2,
            38.6,
            41.2,
            33.8,
            43.6,
            51.2,
            39.8,
            37.8,
            39.8,
            37.4,
            27,
            37.8,
            30,
            33.8,
            44.2,
            35.2,
            42,
            33.6,
            41.8,
            52,
            60.6,
            37.8,
            47.4,
            28.8,
            33.2,
            34.8,
            36.6,
            37.8,
            40.8,
            44.6,
            35.8,
            32,
            38.2,
            44.8,
            33.2,
            34.4,
            40.2,
            34.6,
            34.6,
            47.2,
            44.2,
            27.6,
            45.2,
            40,
            45,
            42,
            37.8,
            37.2,
            37,
            36,
            26.2,
            30.6,
            32,
            44.4,
            29.4,
            49.4,
            35.4,
            40.8,
            32.6,
            45,
            44.6,
            37.8,
            37.6,
            44.2,
            30.2,
            50,
            34.8,
            38,
            29.6,
            34.8,
            40,
            47,
            30,
            46.2,
            34.6,
            35.6,
            37.8,
            37.4,
            31.2,
            35.8,
            38,
            38.2,
            33,
            46,
            43,
            37.2,
            41.8,
            48.8,
            37.6,
            31.4,
            42.6,
            25.4,
            22.6,
            34.2,
            26.8,
            45.2,
            35.8,
            40,
            37.4,
            42.8,
            39.6,
            43.6,
            29.6,
            37.8,
            42,
            41.8,
            41,
            41.6,
            33.8,
            44.2,
            34.4,
            39.2,
            33.2,
            44.8,
            37,
            34.6,
            44.4,
            41.2,
            49.8,
            28.6,
            37.4,
            27.8,
            42,
            39.4,
            42.2,
            44.8,
            54.8,
            43.8,
            36.8,
            40.4,
            52.8,
            39.2,
            35.8,
            51.4,
            44,
            53.8,
            33.8,
            44.8,
            46.4,
            38.6,
            38.8,
            49.8,
            42.8,
            45.6,
            47.2,
            44.4,
            50.2,
            51.2,
            42.6,
            33.4,
            34.4,
            35.8,
            50.6,
            46,
            46.4,
            35.4,
            36.6,
            38.6,
            34.2,
            28.8,
            30,
            33,
            36.6,
            45,
            38.6,
            40,
            46.2,
            39,
            32.2,
            42.6,
            30.8,
            38.2,
            39.8,
            50.6,
            33.8,
            45.6,
            59.2,
            48.6,
            40.2,
            38.8,
            38.2,
            46.6,
            29.4,
            42.6,
            42.6,
            39.2,
            39.4,
            39,
            40.8,
            52.2,
            42,
            40.2,
            48.2,
            34.2,
            37.8,
            55.6,
            47.8,
            40.4,
            42.2,
            38.2,
            51,
            41.6,
            29,
            26,
            45.2,
            37,
            36.4,
            47,
            39.4,
            35.6,
            35,
            41.2,
            43.8,
            34.6,
            42.4,
            27.2,
            39.6,
            38.2,
            41,
            38.8,
            45,
            55.4,
            40.8,
            47,
            51.4,
            44.2,
            32,
            42.4,
            44.2,
            49,
            53.4,
            41.4,
            40.2
           ],
           "xaxis": "x",
           "yaxis": "y"
          }
         ],
         "name": "action film"
        },
        {
         "data": [
          {
           "alignmentgroup": "True",
           "bingroup": "x",
           "hovertemplate": "movie_genre=science fiction film<br>mean_cast_age=%{x}<br>count=%{y}<extra></extra>",
           "legendgroup": "science fiction film",
           "marker": {
            "color": "#FECB52",
            "pattern": {
             "shape": ""
            }
           },
           "name": "science fiction film",
           "offsetgroup": "science fiction film",
           "orientation": "v",
           "showlegend": true,
           "type": "histogram",
           "x": [
            31,
            43.2,
            41,
            35.8,
            40.8,
            41,
            45.8,
            54,
            39.4,
            41.2,
            34.8,
            42,
            30.6,
            34.4,
            52,
            39,
            33.2,
            36.4,
            44,
            35,
            49,
            45,
            43.2,
            39,
            45.6,
            46.8,
            36.2,
            43.4,
            35,
            34.8,
            57.2,
            47.6,
            34.4,
            45.8,
            35.8,
            45.4,
            36.8,
            35.6,
            21.2,
            40.8,
            41.8,
            46.4,
            38,
            31.4,
            39.2,
            37.4,
            33.4,
            42.8,
            43.4,
            32,
            39.6,
            28.4,
            39.2,
            24.2,
            65.4,
            43.8,
            35.2,
            37.8,
            41.4,
            57.2,
            32.6,
            43,
            29.2,
            24,
            31,
            27.4,
            38.2,
            34.6,
            42.2,
            38.4,
            41.8,
            52,
            41,
            57,
            36.8,
            44.4,
            25.2,
            71,
            42.2,
            35.6,
            32.6,
            35.6,
            41.4,
            27.2,
            36,
            42.2,
            31.8,
            34.6,
            45.6,
            30,
            39.8,
            41.4,
            31,
            32.4,
            40.6,
            42.6,
            48,
            39,
            40.4,
            42.8,
            37,
            43.6,
            41,
            40.8,
            49,
            47.8,
            34.8,
            30.8,
            30.2,
            48.8,
            38.8,
            35.6,
            47.6,
            52.6,
            34.8,
            36.8,
            31.6,
            44.4,
            43.2,
            60.4,
            45.8,
            35.8,
            41,
            31,
            36.2,
            36.2,
            43.2,
            34.6,
            36.6,
            45,
            35.2,
            43.4,
            36.8,
            39.4,
            41.4,
            35,
            38.6,
            26.6,
            27.8,
            43.4,
            37.4,
            44,
            42,
            34.6,
            49.8,
            47.2,
            37.8,
            31.4,
            43.6,
            44.8,
            22.6,
            44.4,
            38,
            39.4,
            33.2,
            53.4,
            33.8,
            31,
            30,
            38.8,
            37.8,
            42,
            44.4,
            29.6,
            29.4,
            27.4,
            28,
            41,
            36.8,
            46.4,
            29.4,
            39.6,
            38,
            39.2,
            42.8,
            33.2,
            35,
            38.8,
            23,
            35.4,
            42.8,
            23,
            31.4,
            43,
            40.2,
            36.6,
            47,
            42.8,
            45.4,
            36.2,
            40.8,
            35.4,
            37.4,
            47,
            45.2,
            35.2,
            47,
            37.8,
            38.6,
            53.8
           ],
           "xaxis": "x",
           "yaxis": "y"
          }
         ],
         "name": "science fiction film"
        }
       ],
       "layout": {
        "barmode": "relative",
        "legend": {
         "title": {
          "text": "Genre"
         },
         "tracegroupgap": 0
        },
        "margin": {
         "t": 60
        },
        "sliders": [
         {
          "active": 0,
          "currentvalue": {
           "prefix": "movie_genre="
          },
          "len": 0.9,
          "pad": {
           "b": 10,
           "t": 60
          },
          "steps": [
           {
            "args": [
             [
              "drama film"
             ],
             {
              "frame": {
               "duration": 0,
               "redraw": true
              },
              "fromcurrent": true,
              "mode": "immediate",
              "transition": {
               "duration": 0,
               "easing": "linear"
              }
             }
            ],
            "label": "drama film",
            "method": "animate"
           },
           {
            "args": [
             [
              "romance film"
             ],
             {
              "frame": {
               "duration": 0,
               "redraw": true
              },
              "fromcurrent": true,
              "mode": "immediate",
              "transition": {
               "duration": 0,
               "easing": "linear"
              }
             }
            ],
            "label": "romance film",
            "method": "animate"
           },
           {
            "args": [
             [
              "comedy drama"
             ],
             {
              "frame": {
               "duration": 0,
               "redraw": true
              },
              "fromcurrent": true,
              "mode": "immediate",
              "transition": {
               "duration": 0,
               "easing": "linear"
              }
             }
            ],
            "label": "comedy drama",
            "method": "animate"
           },
           {
            "args": [
             [
              "romantic comedy"
             ],
             {
              "frame": {
               "duration": 0,
               "redraw": true
              },
              "fromcurrent": true,
              "mode": "immediate",
              "transition": {
               "duration": 0,
               "easing": "linear"
              }
             }
            ],
            "label": "romantic comedy",
            "method": "animate"
           },
           {
            "args": [
             [
              "comedy film"
             ],
             {
              "frame": {
               "duration": 0,
               "redraw": true
              },
              "fromcurrent": true,
              "mode": "immediate",
              "transition": {
               "duration": 0,
               "easing": "linear"
              }
             }
            ],
            "label": "comedy film",
            "method": "animate"
           },
           {
            "args": [
             [
              "horror film"
             ],
             {
              "frame": {
               "duration": 0,
               "redraw": true
              },
              "fromcurrent": true,
              "mode": "immediate",
              "transition": {
               "duration": 0,
               "easing": "linear"
              }
             }
            ],
            "label": "horror film",
            "method": "animate"
           },
           {
            "args": [
             [
              "crime film"
             ],
             {
              "frame": {
               "duration": 0,
               "redraw": true
              },
              "fromcurrent": true,
              "mode": "immediate",
              "transition": {
               "duration": 0,
               "easing": "linear"
              }
             }
            ],
            "label": "crime film",
            "method": "animate"
           },
           {
            "args": [
             [
              "biographical film"
             ],
             {
              "frame": {
               "duration": 0,
               "redraw": true
              },
              "fromcurrent": true,
              "mode": "immediate",
              "transition": {
               "duration": 0,
               "easing": "linear"
              }
             }
            ],
            "label": "biographical film",
            "method": "animate"
           },
           {
            "args": [
             [
              "action film"
             ],
             {
              "frame": {
               "duration": 0,
               "redraw": true
              },
              "fromcurrent": true,
              "mode": "immediate",
              "transition": {
               "duration": 0,
               "easing": "linear"
              }
             }
            ],
            "label": "action film",
            "method": "animate"
           },
           {
            "args": [
             [
              "science fiction film"
             ],
             {
              "frame": {
               "duration": 0,
               "redraw": true
              },
              "fromcurrent": true,
              "mode": "immediate",
              "transition": {
               "duration": 0,
               "easing": "linear"
              }
             }
            ],
            "label": "science fiction film",
            "method": "animate"
           }
          ],
          "x": 0.1,
          "xanchor": "left",
          "y": 0,
          "yanchor": "top"
         }
        ],
        "template": {
         "data": {
          "bar": [
           {
            "error_x": {
             "color": "#2a3f5f"
            },
            "error_y": {
             "color": "#2a3f5f"
            },
            "marker": {
             "line": {
              "color": "#E5ECF6",
              "width": 0.5
             },
             "pattern": {
              "fillmode": "overlay",
              "size": 10,
              "solidity": 0.2
             }
            },
            "type": "bar"
           }
          ],
          "barpolar": [
           {
            "marker": {
             "line": {
              "color": "#E5ECF6",
              "width": 0.5
             },
             "pattern": {
              "fillmode": "overlay",
              "size": 10,
              "solidity": 0.2
             }
            },
            "type": "barpolar"
           }
          ],
          "carpet": [
           {
            "aaxis": {
             "endlinecolor": "#2a3f5f",
             "gridcolor": "white",
             "linecolor": "white",
             "minorgridcolor": "white",
             "startlinecolor": "#2a3f5f"
            },
            "baxis": {
             "endlinecolor": "#2a3f5f",
             "gridcolor": "white",
             "linecolor": "white",
             "minorgridcolor": "white",
             "startlinecolor": "#2a3f5f"
            },
            "type": "carpet"
           }
          ],
          "choropleth": [
           {
            "colorbar": {
             "outlinewidth": 0,
             "ticks": ""
            },
            "type": "choropleth"
           }
          ],
          "contour": [
           {
            "colorbar": {
             "outlinewidth": 0,
             "ticks": ""
            },
            "colorscale": [
             [
              0,
              "#0d0887"
             ],
             [
              0.1111111111111111,
              "#46039f"
             ],
             [
              0.2222222222222222,
              "#7201a8"
             ],
             [
              0.3333333333333333,
              "#9c179e"
             ],
             [
              0.4444444444444444,
              "#bd3786"
             ],
             [
              0.5555555555555556,
              "#d8576b"
             ],
             [
              0.6666666666666666,
              "#ed7953"
             ],
             [
              0.7777777777777778,
              "#fb9f3a"
             ],
             [
              0.8888888888888888,
              "#fdca26"
             ],
             [
              1,
              "#f0f921"
             ]
            ],
            "type": "contour"
           }
          ],
          "contourcarpet": [
           {
            "colorbar": {
             "outlinewidth": 0,
             "ticks": ""
            },
            "type": "contourcarpet"
           }
          ],
          "heatmap": [
           {
            "colorbar": {
             "outlinewidth": 0,
             "ticks": ""
            },
            "colorscale": [
             [
              0,
              "#0d0887"
             ],
             [
              0.1111111111111111,
              "#46039f"
             ],
             [
              0.2222222222222222,
              "#7201a8"
             ],
             [
              0.3333333333333333,
              "#9c179e"
             ],
             [
              0.4444444444444444,
              "#bd3786"
             ],
             [
              0.5555555555555556,
              "#d8576b"
             ],
             [
              0.6666666666666666,
              "#ed7953"
             ],
             [
              0.7777777777777778,
              "#fb9f3a"
             ],
             [
              0.8888888888888888,
              "#fdca26"
             ],
             [
              1,
              "#f0f921"
             ]
            ],
            "type": "heatmap"
           }
          ],
          "heatmapgl": [
           {
            "colorbar": {
             "outlinewidth": 0,
             "ticks": ""
            },
            "colorscale": [
             [
              0,
              "#0d0887"
             ],
             [
              0.1111111111111111,
              "#46039f"
             ],
             [
              0.2222222222222222,
              "#7201a8"
             ],
             [
              0.3333333333333333,
              "#9c179e"
             ],
             [
              0.4444444444444444,
              "#bd3786"
             ],
             [
              0.5555555555555556,
              "#d8576b"
             ],
             [
              0.6666666666666666,
              "#ed7953"
             ],
             [
              0.7777777777777778,
              "#fb9f3a"
             ],
             [
              0.8888888888888888,
              "#fdca26"
             ],
             [
              1,
              "#f0f921"
             ]
            ],
            "type": "heatmapgl"
           }
          ],
          "histogram": [
           {
            "marker": {
             "pattern": {
              "fillmode": "overlay",
              "size": 10,
              "solidity": 0.2
             }
            },
            "type": "histogram"
           }
          ],
          "histogram2d": [
           {
            "colorbar": {
             "outlinewidth": 0,
             "ticks": ""
            },
            "colorscale": [
             [
              0,
              "#0d0887"
             ],
             [
              0.1111111111111111,
              "#46039f"
             ],
             [
              0.2222222222222222,
              "#7201a8"
             ],
             [
              0.3333333333333333,
              "#9c179e"
             ],
             [
              0.4444444444444444,
              "#bd3786"
             ],
             [
              0.5555555555555556,
              "#d8576b"
             ],
             [
              0.6666666666666666,
              "#ed7953"
             ],
             [
              0.7777777777777778,
              "#fb9f3a"
             ],
             [
              0.8888888888888888,
              "#fdca26"
             ],
             [
              1,
              "#f0f921"
             ]
            ],
            "type": "histogram2d"
           }
          ],
          "histogram2dcontour": [
           {
            "colorbar": {
             "outlinewidth": 0,
             "ticks": ""
            },
            "colorscale": [
             [
              0,
              "#0d0887"
             ],
             [
              0.1111111111111111,
              "#46039f"
             ],
             [
              0.2222222222222222,
              "#7201a8"
             ],
             [
              0.3333333333333333,
              "#9c179e"
             ],
             [
              0.4444444444444444,
              "#bd3786"
             ],
             [
              0.5555555555555556,
              "#d8576b"
             ],
             [
              0.6666666666666666,
              "#ed7953"
             ],
             [
              0.7777777777777778,
              "#fb9f3a"
             ],
             [
              0.8888888888888888,
              "#fdca26"
             ],
             [
              1,
              "#f0f921"
             ]
            ],
            "type": "histogram2dcontour"
           }
          ],
          "mesh3d": [
           {
            "colorbar": {
             "outlinewidth": 0,
             "ticks": ""
            },
            "type": "mesh3d"
           }
          ],
          "parcoords": [
           {
            "line": {
             "colorbar": {
              "outlinewidth": 0,
              "ticks": ""
             }
            },
            "type": "parcoords"
           }
          ],
          "pie": [
           {
            "automargin": true,
            "type": "pie"
           }
          ],
          "scatter": [
           {
            "fillpattern": {
             "fillmode": "overlay",
             "size": 10,
             "solidity": 0.2
            },
            "type": "scatter"
           }
          ],
          "scatter3d": [
           {
            "line": {
             "colorbar": {
              "outlinewidth": 0,
              "ticks": ""
             }
            },
            "marker": {
             "colorbar": {
              "outlinewidth": 0,
              "ticks": ""
             }
            },
            "type": "scatter3d"
           }
          ],
          "scattercarpet": [
           {
            "marker": {
             "colorbar": {
              "outlinewidth": 0,
              "ticks": ""
             }
            },
            "type": "scattercarpet"
           }
          ],
          "scattergeo": [
           {
            "marker": {
             "colorbar": {
              "outlinewidth": 0,
              "ticks": ""
             }
            },
            "type": "scattergeo"
           }
          ],
          "scattergl": [
           {
            "marker": {
             "colorbar": {
              "outlinewidth": 0,
              "ticks": ""
             }
            },
            "type": "scattergl"
           }
          ],
          "scattermapbox": [
           {
            "marker": {
             "colorbar": {
              "outlinewidth": 0,
              "ticks": ""
             }
            },
            "type": "scattermapbox"
           }
          ],
          "scatterpolar": [
           {
            "marker": {
             "colorbar": {
              "outlinewidth": 0,
              "ticks": ""
             }
            },
            "type": "scatterpolar"
           }
          ],
          "scatterpolargl": [
           {
            "marker": {
             "colorbar": {
              "outlinewidth": 0,
              "ticks": ""
             }
            },
            "type": "scatterpolargl"
           }
          ],
          "scatterternary": [
           {
            "marker": {
             "colorbar": {
              "outlinewidth": 0,
              "ticks": ""
             }
            },
            "type": "scatterternary"
           }
          ],
          "surface": [
           {
            "colorbar": {
             "outlinewidth": 0,
             "ticks": ""
            },
            "colorscale": [
             [
              0,
              "#0d0887"
             ],
             [
              0.1111111111111111,
              "#46039f"
             ],
             [
              0.2222222222222222,
              "#7201a8"
             ],
             [
              0.3333333333333333,
              "#9c179e"
             ],
             [
              0.4444444444444444,
              "#bd3786"
             ],
             [
              0.5555555555555556,
              "#d8576b"
             ],
             [
              0.6666666666666666,
              "#ed7953"
             ],
             [
              0.7777777777777778,
              "#fb9f3a"
             ],
             [
              0.8888888888888888,
              "#fdca26"
             ],
             [
              1,
              "#f0f921"
             ]
            ],
            "type": "surface"
           }
          ],
          "table": [
           {
            "cells": {
             "fill": {
              "color": "#EBF0F8"
             },
             "line": {
              "color": "white"
             }
            },
            "header": {
             "fill": {
              "color": "#C8D4E3"
             },
             "line": {
              "color": "white"
             }
            },
            "type": "table"
           }
          ]
         },
         "layout": {
          "annotationdefaults": {
           "arrowcolor": "#2a3f5f",
           "arrowhead": 0,
           "arrowwidth": 1
          },
          "autotypenumbers": "strict",
          "coloraxis": {
           "colorbar": {
            "outlinewidth": 0,
            "ticks": ""
           }
          },
          "colorscale": {
           "diverging": [
            [
             0,
             "#8e0152"
            ],
            [
             0.1,
             "#c51b7d"
            ],
            [
             0.2,
             "#de77ae"
            ],
            [
             0.3,
             "#f1b6da"
            ],
            [
             0.4,
             "#fde0ef"
            ],
            [
             0.5,
             "#f7f7f7"
            ],
            [
             0.6,
             "#e6f5d0"
            ],
            [
             0.7,
             "#b8e186"
            ],
            [
             0.8,
             "#7fbc41"
            ],
            [
             0.9,
             "#4d9221"
            ],
            [
             1,
             "#276419"
            ]
           ],
           "sequential": [
            [
             0,
             "#0d0887"
            ],
            [
             0.1111111111111111,
             "#46039f"
            ],
            [
             0.2222222222222222,
             "#7201a8"
            ],
            [
             0.3333333333333333,
             "#9c179e"
            ],
            [
             0.4444444444444444,
             "#bd3786"
            ],
            [
             0.5555555555555556,
             "#d8576b"
            ],
            [
             0.6666666666666666,
             "#ed7953"
            ],
            [
             0.7777777777777778,
             "#fb9f3a"
            ],
            [
             0.8888888888888888,
             "#fdca26"
            ],
            [
             1,
             "#f0f921"
            ]
           ],
           "sequentialminus": [
            [
             0,
             "#0d0887"
            ],
            [
             0.1111111111111111,
             "#46039f"
            ],
            [
             0.2222222222222222,
             "#7201a8"
            ],
            [
             0.3333333333333333,
             "#9c179e"
            ],
            [
             0.4444444444444444,
             "#bd3786"
            ],
            [
             0.5555555555555556,
             "#d8576b"
            ],
            [
             0.6666666666666666,
             "#ed7953"
            ],
            [
             0.7777777777777778,
             "#fb9f3a"
            ],
            [
             0.8888888888888888,
             "#fdca26"
            ],
            [
             1,
             "#f0f921"
            ]
           ]
          },
          "colorway": [
           "#636efa",
           "#EF553B",
           "#00cc96",
           "#ab63fa",
           "#FFA15A",
           "#19d3f3",
           "#FF6692",
           "#B6E880",
           "#FF97FF",
           "#FECB52"
          ],
          "font": {
           "color": "#2a3f5f"
          },
          "geo": {
           "bgcolor": "white",
           "lakecolor": "white",
           "landcolor": "#E5ECF6",
           "showlakes": true,
           "showland": true,
           "subunitcolor": "white"
          },
          "hoverlabel": {
           "align": "left"
          },
          "hovermode": "closest",
          "mapbox": {
           "style": "light"
          },
          "paper_bgcolor": "white",
          "plot_bgcolor": "#E5ECF6",
          "polar": {
           "angularaxis": {
            "gridcolor": "white",
            "linecolor": "white",
            "ticks": ""
           },
           "bgcolor": "#E5ECF6",
           "radialaxis": {
            "gridcolor": "white",
            "linecolor": "white",
            "ticks": ""
           }
          },
          "scene": {
           "xaxis": {
            "backgroundcolor": "#E5ECF6",
            "gridcolor": "white",
            "gridwidth": 2,
            "linecolor": "white",
            "showbackground": true,
            "ticks": "",
            "zerolinecolor": "white"
           },
           "yaxis": {
            "backgroundcolor": "#E5ECF6",
            "gridcolor": "white",
            "gridwidth": 2,
            "linecolor": "white",
            "showbackground": true,
            "ticks": "",
            "zerolinecolor": "white"
           },
           "zaxis": {
            "backgroundcolor": "#E5ECF6",
            "gridcolor": "white",
            "gridwidth": 2,
            "linecolor": "white",
            "showbackground": true,
            "ticks": "",
            "zerolinecolor": "white"
           }
          },
          "shapedefaults": {
           "line": {
            "color": "#2a3f5f"
           }
          },
          "ternary": {
           "aaxis": {
            "gridcolor": "white",
            "linecolor": "white",
            "ticks": ""
           },
           "baxis": {
            "gridcolor": "white",
            "linecolor": "white",
            "ticks": ""
           },
           "bgcolor": "#E5ECF6",
           "caxis": {
            "gridcolor": "white",
            "linecolor": "white",
            "ticks": ""
           }
          },
          "title": {
           "x": 0.05
          },
          "xaxis": {
           "automargin": true,
           "gridcolor": "white",
           "linecolor": "white",
           "ticks": "",
           "title": {
            "standoff": 15
           },
           "zerolinecolor": "white",
           "zerolinewidth": 2
          },
          "yaxis": {
           "automargin": true,
           "gridcolor": "white",
           "linecolor": "white",
           "ticks": "",
           "title": {
            "standoff": 15
           },
           "zerolinecolor": "white",
           "zerolinewidth": 2
          }
         }
        },
        "title": {
         "text": "Mean Cast Age Distribution by Genre"
        },
        "updatemenus": [
         {
          "buttons": [
           {
            "args": [
             null,
             {
              "frame": {
               "duration": 500,
               "redraw": true
              },
              "fromcurrent": true,
              "mode": "immediate",
              "transition": {
               "duration": 500,
               "easing": "linear"
              }
             }
            ],
            "label": "&#9654;",
            "method": "animate"
           },
           {
            "args": [
             [
              null
             ],
             {
              "frame": {
               "duration": 0,
               "redraw": true
              },
              "fromcurrent": true,
              "mode": "immediate",
              "transition": {
               "duration": 0,
               "easing": "linear"
              }
             }
            ],
            "label": "&#9724;",
            "method": "animate"
           }
          ],
          "direction": "left",
          "pad": {
           "r": 10,
           "t": 70
          },
          "showactive": false,
          "type": "buttons",
          "x": 0.1,
          "xanchor": "right",
          "y": 0,
          "yanchor": "top"
         }
        ],
        "xaxis": {
         "anchor": "y",
         "domain": [
          0,
          1
         ],
         "range": [
          0,
          100
         ],
         "title": {
          "text": "Mean Cast Age"
         }
        },
        "yaxis": {
         "anchor": "x",
         "domain": [
          0,
          1
         ],
         "range": [
          0,
          110
         ],
         "title": {
          "text": "Counts"
         }
        }
       }
      }
     },
     "metadata": {},
     "output_type": "display_data"
    }
   ],
   "source": [
    "p = px.histogram(\n",
    "    analysis_df, x='mean_cast_age', animation_frame='movie_genre', range_x=[0, 100],\n",
    "    color='movie_genre', range_y=[0, 110]\n",
    "    )\n",
    "p.update_layout(\n",
    "    title='Mean Cast Age Distribution by Genre',\n",
    "    xaxis_title='Mean Cast Age',\n",
    "    yaxis_title='Counts',\n",
    "    legend_title='Genre',\n",
    ")\n",
    "p.show()"
   ]
  },
  {
   "cell_type": "code",
   "execution_count": 133,
   "metadata": {},
   "outputs": [],
   "source": [
    "# calculate the numeber of movies in each genre per year\n",
    "num_movies_per_genre_per_year = analysis_df.groupby(['movie_release_year', 'movie_genre']).size().reset_index(name='num_movies')\n"
   ]
  },
  {
   "cell_type": "code",
   "execution_count": 239,
   "metadata": {},
   "outputs": [
    {
     "data": {
      "text/html": [
       "<div>\n",
       "<style scoped>\n",
       "    .dataframe tbody tr th:only-of-type {\n",
       "        vertical-align: middle;\n",
       "    }\n",
       "\n",
       "    .dataframe tbody tr th {\n",
       "        vertical-align: top;\n",
       "    }\n",
       "\n",
       "    .dataframe thead th {\n",
       "        text-align: right;\n",
       "    }\n",
       "</style>\n",
       "<table border=\"1\" class=\"dataframe\">\n",
       "  <thead>\n",
       "    <tr style=\"text-align: right;\">\n",
       "      <th></th>\n",
       "      <th>drama film</th>\n",
       "      <th>romance film</th>\n",
       "      <th>comedy drama</th>\n",
       "      <th>romantic comedy</th>\n",
       "      <th>comedy film</th>\n",
       "      <th>horror film</th>\n",
       "      <th>crime film</th>\n",
       "      <th>biographical film</th>\n",
       "      <th>action film</th>\n",
       "      <th>science fiction film</th>\n",
       "    </tr>\n",
       "  </thead>\n",
       "  <tbody>\n",
       "    <tr>\n",
       "      <th>1915</th>\n",
       "      <td>1472780633.708431</td>\n",
       "      <td>0.0</td>\n",
       "      <td>0.0</td>\n",
       "      <td>0.0</td>\n",
       "      <td>0.0</td>\n",
       "      <td>0.0</td>\n",
       "      <td>0.0</td>\n",
       "      <td>0.0</td>\n",
       "      <td>0.0</td>\n",
       "      <td>0.0</td>\n",
       "    </tr>\n",
       "    <tr>\n",
       "      <th>1920</th>\n",
       "      <td>0.0</td>\n",
       "      <td>66890002.86297</td>\n",
       "      <td>0.0</td>\n",
       "      <td>0.0</td>\n",
       "      <td>0.0</td>\n",
       "      <td>0.0</td>\n",
       "      <td>0.0</td>\n",
       "      <td>0.0</td>\n",
       "      <td>0.0</td>\n",
       "      <td>0.0</td>\n",
       "    </tr>\n",
       "    <tr>\n",
       "      <th>1921</th>\n",
       "      <td>15021224.047739</td>\n",
       "      <td>75106120.238696</td>\n",
       "      <td>41725622.354831</td>\n",
       "      <td>0.0</td>\n",
       "      <td>0.0</td>\n",
       "      <td>0.0</td>\n",
       "      <td>0.0</td>\n",
       "      <td>0.0</td>\n",
       "      <td>0.0</td>\n",
       "      <td>0.0</td>\n",
       "    </tr>\n",
       "    <tr>\n",
       "      <th>1923</th>\n",
       "      <td>72801283.572776</td>\n",
       "      <td>61121930.465366</td>\n",
       "      <td>0.0</td>\n",
       "      <td>0.0</td>\n",
       "      <td>0.0</td>\n",
       "      <td>0.0</td>\n",
       "      <td>0.0</td>\n",
       "      <td>0.0</td>\n",
       "      <td>0.0</td>\n",
       "      <td>0.0</td>\n",
       "    </tr>\n",
       "    <tr>\n",
       "      <th>1924</th>\n",
       "      <td>15122191.811769</td>\n",
       "      <td>0.0</td>\n",
       "      <td>0.0</td>\n",
       "      <td>26947194.451589</td>\n",
       "      <td>0.0</td>\n",
       "      <td>0.0</td>\n",
       "      <td>0.0</td>\n",
       "      <td>0.0</td>\n",
       "      <td>0.0</td>\n",
       "      <td>0.0</td>\n",
       "    </tr>\n",
       "  </tbody>\n",
       "</table>\n",
       "</div>"
      ],
      "text/plain": [
       "             drama film     romance film     comedy drama  romantic comedy  \\\n",
       "1915  1472780633.708431              0.0              0.0              0.0   \n",
       "1920                0.0   66890002.86297              0.0              0.0   \n",
       "1921    15021224.047739  75106120.238696  41725622.354831              0.0   \n",
       "1923    72801283.572776  61121930.465366              0.0              0.0   \n",
       "1924    15122191.811769              0.0              0.0  26947194.451589   \n",
       "\n",
       "     comedy film horror film crime film biographical film action film  \\\n",
       "1915         0.0         0.0        0.0               0.0         0.0   \n",
       "1920         0.0         0.0        0.0               0.0         0.0   \n",
       "1921         0.0         0.0        0.0               0.0         0.0   \n",
       "1923         0.0         0.0        0.0               0.0         0.0   \n",
       "1924         0.0         0.0        0.0               0.0         0.0   \n",
       "\n",
       "     science fiction film  \n",
       "1915                  0.0  \n",
       "1920                  0.0  \n",
       "1921                  0.0  \n",
       "1923                  0.0  \n",
       "1924                  0.0  "
      ]
     },
     "execution_count": 239,
     "metadata": {},
     "output_type": "execute_result"
    }
   ],
   "source": [
    "number_of_years = len(analysis_df['movie_release_year'].unique())\n",
    "# create a dataframe with genres as headers and years as index\n",
    "genre_revenue = pd.DataFrame(index=analysis_df['movie_release_year'].unique(), columns=analysis_df['movie_genre'].unique())\n",
    "# fill in the dataframe\n",
    "for year in genre_revenue.index:\n",
    "    for genre in genre_revenue.columns:\n",
    "        genre_revenue.loc[year, genre] = analysis_df.query('movie_release_year == @year and movie_genre == @genre')['movie_box_office_revenue_adj'].sum()\n",
    "genre_revenue.head()"
   ]
  },
  {
   "cell_type": "code",
   "execution_count": 312,
   "metadata": {},
   "outputs": [
    {
     "data": {
      "text/html": [
       "<div>\n",
       "<style scoped>\n",
       "    .dataframe tbody tr th:only-of-type {\n",
       "        vertical-align: middle;\n",
       "    }\n",
       "\n",
       "    .dataframe tbody tr th {\n",
       "        vertical-align: top;\n",
       "    }\n",
       "\n",
       "    .dataframe thead th {\n",
       "        text-align: right;\n",
       "    }\n",
       "</style>\n",
       "<table border=\"1\" class=\"dataframe\">\n",
       "  <thead>\n",
       "    <tr style=\"text-align: right;\">\n",
       "      <th></th>\n",
       "      <th>drama film</th>\n",
       "      <th>romance film</th>\n",
       "      <th>comedy drama</th>\n",
       "      <th>romantic comedy</th>\n",
       "      <th>comedy film</th>\n",
       "      <th>horror film</th>\n",
       "      <th>crime film</th>\n",
       "      <th>biographical film</th>\n",
       "      <th>action film</th>\n",
       "      <th>science fiction film</th>\n",
       "    </tr>\n",
       "  </thead>\n",
       "  <tbody>\n",
       "    <tr>\n",
       "      <th>1915</th>\n",
       "      <td>22.0</td>\n",
       "      <td>NaN</td>\n",
       "      <td>NaN</td>\n",
       "      <td>NaN</td>\n",
       "      <td>NaN</td>\n",
       "      <td>NaN</td>\n",
       "      <td>NaN</td>\n",
       "      <td>NaN</td>\n",
       "      <td>NaN</td>\n",
       "      <td>NaN</td>\n",
       "    </tr>\n",
       "    <tr>\n",
       "      <th>1920</th>\n",
       "      <td>NaN</td>\n",
       "      <td>35.0</td>\n",
       "      <td>NaN</td>\n",
       "      <td>NaN</td>\n",
       "      <td>NaN</td>\n",
       "      <td>NaN</td>\n",
       "      <td>NaN</td>\n",
       "      <td>NaN</td>\n",
       "      <td>NaN</td>\n",
       "      <td>NaN</td>\n",
       "    </tr>\n",
       "    <tr>\n",
       "      <th>1921</th>\n",
       "      <td>38.0</td>\n",
       "      <td>33.0</td>\n",
       "      <td>46.0</td>\n",
       "      <td>NaN</td>\n",
       "      <td>NaN</td>\n",
       "      <td>NaN</td>\n",
       "      <td>NaN</td>\n",
       "      <td>NaN</td>\n",
       "      <td>NaN</td>\n",
       "      <td>NaN</td>\n",
       "    </tr>\n",
       "    <tr>\n",
       "      <th>1923</th>\n",
       "      <td>33.0</td>\n",
       "      <td>30.0</td>\n",
       "      <td>NaN</td>\n",
       "      <td>NaN</td>\n",
       "      <td>NaN</td>\n",
       "      <td>NaN</td>\n",
       "      <td>NaN</td>\n",
       "      <td>NaN</td>\n",
       "      <td>NaN</td>\n",
       "      <td>NaN</td>\n",
       "    </tr>\n",
       "    <tr>\n",
       "      <th>1924</th>\n",
       "      <td>36.5</td>\n",
       "      <td>NaN</td>\n",
       "      <td>NaN</td>\n",
       "      <td>34.0</td>\n",
       "      <td>NaN</td>\n",
       "      <td>NaN</td>\n",
       "      <td>NaN</td>\n",
       "      <td>NaN</td>\n",
       "      <td>NaN</td>\n",
       "      <td>NaN</td>\n",
       "    </tr>\n",
       "  </tbody>\n",
       "</table>\n",
       "</div>"
      ],
      "text/plain": [
       "     drama film romance film comedy drama romantic comedy comedy film  \\\n",
       "1915       22.0          NaN          NaN             NaN         NaN   \n",
       "1920        NaN         35.0          NaN             NaN         NaN   \n",
       "1921       38.0         33.0         46.0             NaN         NaN   \n",
       "1923       33.0         30.0          NaN             NaN         NaN   \n",
       "1924       36.5          NaN          NaN            34.0         NaN   \n",
       "\n",
       "     horror film crime film biographical film action film science fiction film  \n",
       "1915         NaN        NaN               NaN         NaN                  NaN  \n",
       "1920         NaN        NaN               NaN         NaN                  NaN  \n",
       "1921         NaN        NaN               NaN         NaN                  NaN  \n",
       "1923         NaN        NaN               NaN         NaN                  NaN  \n",
       "1924         NaN        NaN               NaN         NaN                  NaN  "
      ]
     },
     "execution_count": 312,
     "metadata": {},
     "output_type": "execute_result"
    }
   ],
   "source": [
    "# create a dataframe with genres as headers and years as index and diff_cast_age as values\n",
    "genre_diff_age = pd.DataFrame(index=analysis_df['movie_release_year'].unique(), columns=analysis_df['movie_genre'].unique())\n",
    "# fill in the dataframe\n",
    "for year in genre_diff_age.index:\n",
    "    for genre in genre_diff_age.columns:\n",
    "        genre_diff_age.loc[year, genre] = analysis_df.query('movie_release_year == @year and movie_genre == @genre')['diff_cast_age'].mean()\n",
    "genre_diff_age.head()"
   ]
  },
  {
   "cell_type": "code",
   "execution_count": 313,
   "metadata": {},
   "outputs": [
    {
     "data": {
      "text/html": [
       "<div>\n",
       "<style scoped>\n",
       "    .dataframe tbody tr th:only-of-type {\n",
       "        vertical-align: middle;\n",
       "    }\n",
       "\n",
       "    .dataframe tbody tr th {\n",
       "        vertical-align: top;\n",
       "    }\n",
       "\n",
       "    .dataframe thead th {\n",
       "        text-align: right;\n",
       "    }\n",
       "</style>\n",
       "<table border=\"1\" class=\"dataframe\">\n",
       "  <thead>\n",
       "    <tr style=\"text-align: right;\">\n",
       "      <th></th>\n",
       "      <th>drama film</th>\n",
       "      <th>romance film</th>\n",
       "      <th>comedy drama</th>\n",
       "      <th>romantic comedy</th>\n",
       "      <th>comedy film</th>\n",
       "      <th>horror film</th>\n",
       "      <th>crime film</th>\n",
       "      <th>biographical film</th>\n",
       "      <th>action film</th>\n",
       "      <th>science fiction film</th>\n",
       "    </tr>\n",
       "  </thead>\n",
       "  <tbody>\n",
       "    <tr>\n",
       "      <th>1915</th>\n",
       "      <td>1.536368e+08</td>\n",
       "      <td>1.968935e+07</td>\n",
       "      <td>7.155420e+06</td>\n",
       "      <td>3.078610e+07</td>\n",
       "      <td>3.748145e+06</td>\n",
       "      <td>1.857873e+07</td>\n",
       "      <td>5.940076e+05</td>\n",
       "      <td>6.298363e+06</td>\n",
       "      <td>0.000000e+00</td>\n",
       "      <td>0.000000e+00</td>\n",
       "    </tr>\n",
       "    <tr>\n",
       "      <th>1935</th>\n",
       "      <td>1.198220e+08</td>\n",
       "      <td>6.170741e+08</td>\n",
       "      <td>4.791071e+06</td>\n",
       "      <td>8.501450e+07</td>\n",
       "      <td>3.241388e+07</td>\n",
       "      <td>7.242221e+06</td>\n",
       "      <td>2.171729e+07</td>\n",
       "      <td>1.690185e+07</td>\n",
       "      <td>1.297272e+06</td>\n",
       "      <td>0.000000e+00</td>\n",
       "    </tr>\n",
       "    <tr>\n",
       "      <th>1950</th>\n",
       "      <td>6.045324e+08</td>\n",
       "      <td>6.005839e+07</td>\n",
       "      <td>2.841254e+08</td>\n",
       "      <td>2.223711e+08</td>\n",
       "      <td>1.140820e+08</td>\n",
       "      <td>1.843797e+07</td>\n",
       "      <td>8.694165e+07</td>\n",
       "      <td>1.364873e+08</td>\n",
       "      <td>5.765343e+07</td>\n",
       "      <td>4.682784e+07</td>\n",
       "    </tr>\n",
       "    <tr>\n",
       "      <th>1965</th>\n",
       "      <td>8.504371e+08</td>\n",
       "      <td>2.332578e+08</td>\n",
       "      <td>3.038786e+08</td>\n",
       "      <td>5.286361e+08</td>\n",
       "      <td>3.242069e+08</td>\n",
       "      <td>5.439853e+08</td>\n",
       "      <td>2.144229e+08</td>\n",
       "      <td>1.256301e+08</td>\n",
       "      <td>7.685618e+08</td>\n",
       "      <td>2.305571e+08</td>\n",
       "    </tr>\n",
       "    <tr>\n",
       "      <th>1980</th>\n",
       "      <td>7.973964e+08</td>\n",
       "      <td>5.165721e+08</td>\n",
       "      <td>2.937107e+08</td>\n",
       "      <td>9.988039e+08</td>\n",
       "      <td>1.011157e+09</td>\n",
       "      <td>4.064596e+08</td>\n",
       "      <td>6.354685e+08</td>\n",
       "      <td>2.235159e+08</td>\n",
       "      <td>1.888327e+09</td>\n",
       "      <td>9.180738e+08</td>\n",
       "    </tr>\n",
       "    <tr>\n",
       "      <th>1995</th>\n",
       "      <td>1.252043e+09</td>\n",
       "      <td>8.195891e+08</td>\n",
       "      <td>2.922796e+08</td>\n",
       "      <td>2.701577e+09</td>\n",
       "      <td>1.717412e+09</td>\n",
       "      <td>1.119027e+09</td>\n",
       "      <td>6.858929e+08</td>\n",
       "      <td>5.217838e+08</td>\n",
       "      <td>3.634725e+09</td>\n",
       "      <td>1.547114e+09</td>\n",
       "    </tr>\n",
       "    <tr>\n",
       "      <th>2010</th>\n",
       "      <td>8.739624e+08</td>\n",
       "      <td>6.949170e+08</td>\n",
       "      <td>4.055264e+08</td>\n",
       "      <td>1.566760e+09</td>\n",
       "      <td>1.413727e+09</td>\n",
       "      <td>7.492931e+08</td>\n",
       "      <td>3.838291e+08</td>\n",
       "      <td>3.676624e+08</td>\n",
       "      <td>3.438385e+09</td>\n",
       "      <td>1.261636e+09</td>\n",
       "    </tr>\n",
       "  </tbody>\n",
       "</table>\n",
       "</div>"
      ],
      "text/plain": [
       "        drama film  romance film  comedy drama  romantic comedy   comedy film  \\\n",
       "1915  1.536368e+08  1.968935e+07  7.155420e+06     3.078610e+07  3.748145e+06   \n",
       "1935  1.198220e+08  6.170741e+08  4.791071e+06     8.501450e+07  3.241388e+07   \n",
       "1950  6.045324e+08  6.005839e+07  2.841254e+08     2.223711e+08  1.140820e+08   \n",
       "1965  8.504371e+08  2.332578e+08  3.038786e+08     5.286361e+08  3.242069e+08   \n",
       "1980  7.973964e+08  5.165721e+08  2.937107e+08     9.988039e+08  1.011157e+09   \n",
       "1995  1.252043e+09  8.195891e+08  2.922796e+08     2.701577e+09  1.717412e+09   \n",
       "2010  8.739624e+08  6.949170e+08  4.055264e+08     1.566760e+09  1.413727e+09   \n",
       "\n",
       "       horror film    crime film  biographical film   action film  \\\n",
       "1915  1.857873e+07  5.940076e+05       6.298363e+06  0.000000e+00   \n",
       "1935  7.242221e+06  2.171729e+07       1.690185e+07  1.297272e+06   \n",
       "1950  1.843797e+07  8.694165e+07       1.364873e+08  5.765343e+07   \n",
       "1965  5.439853e+08  2.144229e+08       1.256301e+08  7.685618e+08   \n",
       "1980  4.064596e+08  6.354685e+08       2.235159e+08  1.888327e+09   \n",
       "1995  1.119027e+09  6.858929e+08       5.217838e+08  3.634725e+09   \n",
       "2010  7.492931e+08  3.838291e+08       3.676624e+08  3.438385e+09   \n",
       "\n",
       "      science fiction film  \n",
       "1915          0.000000e+00  \n",
       "1935          0.000000e+00  \n",
       "1950          4.682784e+07  \n",
       "1965          2.305571e+08  \n",
       "1980          9.180738e+08  \n",
       "1995          1.547114e+09  \n",
       "2010          1.261636e+09  "
      ]
     },
     "execution_count": 313,
     "metadata": {},
     "output_type": "execute_result"
    }
   ],
   "source": [
    "# group every 15 years in the genre_revenue dataframe\n",
    "genre_revenue_15 = genre_revenue.groupby(np.arange(len(genre_revenue))//15).mean().set_index(genre_revenue.index[::15])\n",
    "genre_revenue_15"
   ]
  },
  {
   "cell_type": "code",
   "execution_count": 314,
   "metadata": {},
   "outputs": [
    {
     "data": {
      "text/html": [
       "<div>\n",
       "<style scoped>\n",
       "    .dataframe tbody tr th:only-of-type {\n",
       "        vertical-align: middle;\n",
       "    }\n",
       "\n",
       "    .dataframe tbody tr th {\n",
       "        vertical-align: top;\n",
       "    }\n",
       "\n",
       "    .dataframe thead th {\n",
       "        text-align: right;\n",
       "    }\n",
       "</style>\n",
       "<table border=\"1\" class=\"dataframe\">\n",
       "  <thead>\n",
       "    <tr style=\"text-align: right;\">\n",
       "      <th></th>\n",
       "      <th>drama film</th>\n",
       "      <th>romance film</th>\n",
       "      <th>comedy drama</th>\n",
       "      <th>romantic comedy</th>\n",
       "      <th>comedy film</th>\n",
       "      <th>horror film</th>\n",
       "      <th>crime film</th>\n",
       "      <th>biographical film</th>\n",
       "      <th>action film</th>\n",
       "      <th>science fiction film</th>\n",
       "    </tr>\n",
       "  </thead>\n",
       "  <tbody>\n",
       "    <tr>\n",
       "      <th>1915</th>\n",
       "      <td>30.821429</td>\n",
       "      <td>33.000000</td>\n",
       "      <td>36.250000</td>\n",
       "      <td>30.214286</td>\n",
       "      <td>28.000000</td>\n",
       "      <td>26.666667</td>\n",
       "      <td>28.000000</td>\n",
       "      <td>36.500000</td>\n",
       "      <td>NaN</td>\n",
       "      <td>NaN</td>\n",
       "    </tr>\n",
       "    <tr>\n",
       "      <th>1935</th>\n",
       "      <td>29.480159</td>\n",
       "      <td>33.265152</td>\n",
       "      <td>29.500000</td>\n",
       "      <td>31.887179</td>\n",
       "      <td>32.566667</td>\n",
       "      <td>34.333333</td>\n",
       "      <td>24.523810</td>\n",
       "      <td>29.083333</td>\n",
       "      <td>47.000000</td>\n",
       "      <td>NaN</td>\n",
       "    </tr>\n",
       "    <tr>\n",
       "      <th>1950</th>\n",
       "      <td>27.039967</td>\n",
       "      <td>28.413333</td>\n",
       "      <td>28.309524</td>\n",
       "      <td>31.321374</td>\n",
       "      <td>30.466931</td>\n",
       "      <td>26.166667</td>\n",
       "      <td>27.033333</td>\n",
       "      <td>26.958333</td>\n",
       "      <td>33.222222</td>\n",
       "      <td>32.148148</td>\n",
       "    </tr>\n",
       "    <tr>\n",
       "      <th>1965</th>\n",
       "      <td>26.494444</td>\n",
       "      <td>25.687500</td>\n",
       "      <td>27.895833</td>\n",
       "      <td>25.844048</td>\n",
       "      <td>26.614286</td>\n",
       "      <td>33.533333</td>\n",
       "      <td>20.222222</td>\n",
       "      <td>22.950000</td>\n",
       "      <td>26.922527</td>\n",
       "      <td>30.888889</td>\n",
       "    </tr>\n",
       "    <tr>\n",
       "      <th>1980</th>\n",
       "      <td>29.556438</td>\n",
       "      <td>31.750556</td>\n",
       "      <td>32.070134</td>\n",
       "      <td>28.723052</td>\n",
       "      <td>29.606458</td>\n",
       "      <td>32.198937</td>\n",
       "      <td>28.280897</td>\n",
       "      <td>30.443333</td>\n",
       "      <td>27.241746</td>\n",
       "      <td>31.029630</td>\n",
       "    </tr>\n",
       "    <tr>\n",
       "      <th>1995</th>\n",
       "      <td>31.844472</td>\n",
       "      <td>28.555309</td>\n",
       "      <td>31.322194</td>\n",
       "      <td>25.247637</td>\n",
       "      <td>29.335044</td>\n",
       "      <td>27.841002</td>\n",
       "      <td>28.506716</td>\n",
       "      <td>28.470706</td>\n",
       "      <td>27.255107</td>\n",
       "      <td>30.640378</td>\n",
       "    </tr>\n",
       "    <tr>\n",
       "      <th>2010</th>\n",
       "      <td>32.637717</td>\n",
       "      <td>35.153846</td>\n",
       "      <td>35.238889</td>\n",
       "      <td>24.721496</td>\n",
       "      <td>27.609428</td>\n",
       "      <td>32.200758</td>\n",
       "      <td>26.311111</td>\n",
       "      <td>28.478535</td>\n",
       "      <td>26.457086</td>\n",
       "      <td>27.861111</td>\n",
       "    </tr>\n",
       "  </tbody>\n",
       "</table>\n",
       "</div>"
      ],
      "text/plain": [
       "      drama film  romance film  comedy drama  romantic comedy  comedy film  \\\n",
       "1915   30.821429     33.000000     36.250000        30.214286    28.000000   \n",
       "1935   29.480159     33.265152     29.500000        31.887179    32.566667   \n",
       "1950   27.039967     28.413333     28.309524        31.321374    30.466931   \n",
       "1965   26.494444     25.687500     27.895833        25.844048    26.614286   \n",
       "1980   29.556438     31.750556     32.070134        28.723052    29.606458   \n",
       "1995   31.844472     28.555309     31.322194        25.247637    29.335044   \n",
       "2010   32.637717     35.153846     35.238889        24.721496    27.609428   \n",
       "\n",
       "      horror film  crime film  biographical film  action film  \\\n",
       "1915    26.666667   28.000000          36.500000          NaN   \n",
       "1935    34.333333   24.523810          29.083333    47.000000   \n",
       "1950    26.166667   27.033333          26.958333    33.222222   \n",
       "1965    33.533333   20.222222          22.950000    26.922527   \n",
       "1980    32.198937   28.280897          30.443333    27.241746   \n",
       "1995    27.841002   28.506716          28.470706    27.255107   \n",
       "2010    32.200758   26.311111          28.478535    26.457086   \n",
       "\n",
       "      science fiction film  \n",
       "1915                   NaN  \n",
       "1935                   NaN  \n",
       "1950             32.148148  \n",
       "1965             30.888889  \n",
       "1980             31.029630  \n",
       "1995             30.640378  \n",
       "2010             27.861111  "
      ]
     },
     "execution_count": 314,
     "metadata": {},
     "output_type": "execute_result"
    }
   ],
   "source": [
    "# group every 20 years in the genre_diff_age dataframe\n",
    "genre_diff_age_15 = genre_diff_age.groupby(np.arange(len(genre_diff_age))//15).mean().set_index(genre_diff_age.index[::15])\n",
    "genre_diff_age_15"
   ]
  },
  {
   "cell_type": "code",
   "execution_count": 315,
   "metadata": {},
   "outputs": [
    {
     "data": {
      "text/html": [
       "<div>\n",
       "<style scoped>\n",
       "    .dataframe tbody tr th:only-of-type {\n",
       "        vertical-align: middle;\n",
       "    }\n",
       "\n",
       "    .dataframe tbody tr th {\n",
       "        vertical-align: top;\n",
       "    }\n",
       "\n",
       "    .dataframe thead th {\n",
       "        text-align: right;\n",
       "    }\n",
       "</style>\n",
       "<table border=\"1\" class=\"dataframe\">\n",
       "  <thead>\n",
       "    <tr style=\"text-align: right;\">\n",
       "      <th></th>\n",
       "      <th>drama film</th>\n",
       "      <th>romance film</th>\n",
       "      <th>comedy drama</th>\n",
       "      <th>romantic comedy</th>\n",
       "      <th>comedy film</th>\n",
       "      <th>horror film</th>\n",
       "      <th>crime film</th>\n",
       "      <th>biographical film</th>\n",
       "      <th>action film</th>\n",
       "      <th>science fiction film</th>\n",
       "    </tr>\n",
       "  </thead>\n",
       "  <tbody>\n",
       "    <tr>\n",
       "      <th>1915</th>\n",
       "      <td>22.0</td>\n",
       "      <td>NaN</td>\n",
       "      <td>NaN</td>\n",
       "      <td>NaN</td>\n",
       "      <td>NaN</td>\n",
       "      <td>NaN</td>\n",
       "      <td>NaN</td>\n",
       "      <td>NaN</td>\n",
       "      <td>NaN</td>\n",
       "      <td>NaN</td>\n",
       "    </tr>\n",
       "    <tr>\n",
       "      <th>1920</th>\n",
       "      <td>NaN</td>\n",
       "      <td>35.0</td>\n",
       "      <td>NaN</td>\n",
       "      <td>NaN</td>\n",
       "      <td>NaN</td>\n",
       "      <td>NaN</td>\n",
       "      <td>NaN</td>\n",
       "      <td>NaN</td>\n",
       "      <td>NaN</td>\n",
       "      <td>NaN</td>\n",
       "    </tr>\n",
       "    <tr>\n",
       "      <th>1921</th>\n",
       "      <td>38.0</td>\n",
       "      <td>33.0</td>\n",
       "      <td>46.0</td>\n",
       "      <td>NaN</td>\n",
       "      <td>NaN</td>\n",
       "      <td>NaN</td>\n",
       "      <td>NaN</td>\n",
       "      <td>NaN</td>\n",
       "      <td>NaN</td>\n",
       "      <td>NaN</td>\n",
       "    </tr>\n",
       "    <tr>\n",
       "      <th>1923</th>\n",
       "      <td>33.0</td>\n",
       "      <td>30.0</td>\n",
       "      <td>NaN</td>\n",
       "      <td>NaN</td>\n",
       "      <td>NaN</td>\n",
       "      <td>NaN</td>\n",
       "      <td>NaN</td>\n",
       "      <td>NaN</td>\n",
       "      <td>NaN</td>\n",
       "      <td>NaN</td>\n",
       "    </tr>\n",
       "    <tr>\n",
       "      <th>1924</th>\n",
       "      <td>36.5</td>\n",
       "      <td>NaN</td>\n",
       "      <td>NaN</td>\n",
       "      <td>34.0</td>\n",
       "      <td>NaN</td>\n",
       "      <td>NaN</td>\n",
       "      <td>NaN</td>\n",
       "      <td>NaN</td>\n",
       "      <td>NaN</td>\n",
       "      <td>NaN</td>\n",
       "    </tr>\n",
       "    <tr>\n",
       "      <th>...</th>\n",
       "      <td>...</td>\n",
       "      <td>...</td>\n",
       "      <td>...</td>\n",
       "      <td>...</td>\n",
       "      <td>...</td>\n",
       "      <td>...</td>\n",
       "      <td>...</td>\n",
       "      <td>...</td>\n",
       "      <td>...</td>\n",
       "      <td>...</td>\n",
       "    </tr>\n",
       "    <tr>\n",
       "      <th>2009</th>\n",
       "      <td>33.948718</td>\n",
       "      <td>32.545455</td>\n",
       "      <td>29.5</td>\n",
       "      <td>28.064516</td>\n",
       "      <td>26.047619</td>\n",
       "      <td>30.36</td>\n",
       "      <td>24.444444</td>\n",
       "      <td>28.75</td>\n",
       "      <td>24.92</td>\n",
       "      <td>26.545455</td>\n",
       "    </tr>\n",
       "    <tr>\n",
       "      <th>2010</th>\n",
       "      <td>34.086957</td>\n",
       "      <td>33.461538</td>\n",
       "      <td>36.416667</td>\n",
       "      <td>25.37037</td>\n",
       "      <td>27.272727</td>\n",
       "      <td>38.0</td>\n",
       "      <td>29.333333</td>\n",
       "      <td>27.727273</td>\n",
       "      <td>27.681818</td>\n",
       "      <td>25.5</td>\n",
       "    </tr>\n",
       "    <tr>\n",
       "      <th>2011</th>\n",
       "      <td>31.72093</td>\n",
       "      <td>28.0</td>\n",
       "      <td>41.3</td>\n",
       "      <td>23.5</td>\n",
       "      <td>29.888889</td>\n",
       "      <td>31.636364</td>\n",
       "      <td>25.2</td>\n",
       "      <td>33.375</td>\n",
       "      <td>26.26087</td>\n",
       "      <td>33.833333</td>\n",
       "    </tr>\n",
       "    <tr>\n",
       "      <th>2012</th>\n",
       "      <td>32.105263</td>\n",
       "      <td>44.0</td>\n",
       "      <td>28.0</td>\n",
       "      <td>25.294118</td>\n",
       "      <td>25.666667</td>\n",
       "      <td>25.166667</td>\n",
       "      <td>24.4</td>\n",
       "      <td>24.333333</td>\n",
       "      <td>25.428571</td>\n",
       "      <td>24.25</td>\n",
       "    </tr>\n",
       "    <tr>\n",
       "      <th>2013</th>\n",
       "      <td>NaN</td>\n",
       "      <td>NaN</td>\n",
       "      <td>NaN</td>\n",
       "      <td>NaN</td>\n",
       "      <td>NaN</td>\n",
       "      <td>34.0</td>\n",
       "      <td>NaN</td>\n",
       "      <td>NaN</td>\n",
       "      <td>NaN</td>\n",
       "      <td>NaN</td>\n",
       "    </tr>\n",
       "  </tbody>\n",
       "</table>\n",
       "<p>94 rows × 10 columns</p>\n",
       "</div>"
      ],
      "text/plain": [
       "     drama film romance film comedy drama romantic comedy comedy film  \\\n",
       "1915       22.0          NaN          NaN             NaN         NaN   \n",
       "1920        NaN         35.0          NaN             NaN         NaN   \n",
       "1921       38.0         33.0         46.0             NaN         NaN   \n",
       "1923       33.0         30.0          NaN             NaN         NaN   \n",
       "1924       36.5          NaN          NaN            34.0         NaN   \n",
       "...         ...          ...          ...             ...         ...   \n",
       "2009  33.948718    32.545455         29.5       28.064516   26.047619   \n",
       "2010  34.086957    33.461538    36.416667        25.37037   27.272727   \n",
       "2011   31.72093         28.0         41.3            23.5   29.888889   \n",
       "2012  32.105263         44.0         28.0       25.294118   25.666667   \n",
       "2013        NaN          NaN          NaN             NaN         NaN   \n",
       "\n",
       "     horror film crime film biographical film action film science fiction film  \n",
       "1915         NaN        NaN               NaN         NaN                  NaN  \n",
       "1920         NaN        NaN               NaN         NaN                  NaN  \n",
       "1921         NaN        NaN               NaN         NaN                  NaN  \n",
       "1923         NaN        NaN               NaN         NaN                  NaN  \n",
       "1924         NaN        NaN               NaN         NaN                  NaN  \n",
       "...          ...        ...               ...         ...                  ...  \n",
       "2009       30.36  24.444444             28.75       24.92            26.545455  \n",
       "2010        38.0  29.333333         27.727273   27.681818                 25.5  \n",
       "2011   31.636364       25.2            33.375    26.26087            33.833333  \n",
       "2012   25.166667       24.4         24.333333   25.428571                24.25  \n",
       "2013        34.0        NaN               NaN         NaN                  NaN  \n",
       "\n",
       "[94 rows x 10 columns]"
      ]
     },
     "execution_count": 315,
     "metadata": {},
     "output_type": "execute_result"
    }
   ],
   "source": [
    "genre_diff_age"
   ]
  },
  {
   "cell_type": "code",
   "execution_count": 326,
   "metadata": {},
   "outputs": [
    {
     "data": {
      "text/html": [
       "<div>\n",
       "<style scoped>\n",
       "    .dataframe tbody tr th:only-of-type {\n",
       "        vertical-align: middle;\n",
       "    }\n",
       "\n",
       "    .dataframe tbody tr th {\n",
       "        vertical-align: top;\n",
       "    }\n",
       "\n",
       "    .dataframe thead th {\n",
       "        text-align: right;\n",
       "    }\n",
       "</style>\n",
       "<table border=\"1\" class=\"dataframe\">\n",
       "  <thead>\n",
       "    <tr style=\"text-align: right;\">\n",
       "      <th></th>\n",
       "      <th>year</th>\n",
       "      <th>genre</th>\n",
       "      <th>revenue_ajusted</th>\n",
       "      <th>diff_cast_age</th>\n",
       "    </tr>\n",
       "  </thead>\n",
       "  <tbody>\n",
       "    <tr>\n",
       "      <th>0</th>\n",
       "      <td>1915</td>\n",
       "      <td>drama film</td>\n",
       "      <td>1.536368e+08</td>\n",
       "      <td>30.821429</td>\n",
       "    </tr>\n",
       "    <tr>\n",
       "      <th>1</th>\n",
       "      <td>1915</td>\n",
       "      <td>romance film</td>\n",
       "      <td>1.968935e+07</td>\n",
       "      <td>33.000000</td>\n",
       "    </tr>\n",
       "    <tr>\n",
       "      <th>2</th>\n",
       "      <td>1915</td>\n",
       "      <td>comedy drama</td>\n",
       "      <td>7.155420e+06</td>\n",
       "      <td>36.250000</td>\n",
       "    </tr>\n",
       "    <tr>\n",
       "      <th>3</th>\n",
       "      <td>1915</td>\n",
       "      <td>romantic comedy</td>\n",
       "      <td>3.078610e+07</td>\n",
       "      <td>30.214286</td>\n",
       "    </tr>\n",
       "    <tr>\n",
       "      <th>4</th>\n",
       "      <td>1915</td>\n",
       "      <td>comedy film</td>\n",
       "      <td>3.748145e+06</td>\n",
       "      <td>28.000000</td>\n",
       "    </tr>\n",
       "  </tbody>\n",
       "</table>\n",
       "</div>"
      ],
      "text/plain": [
       "   year            genre  revenue_ajusted  diff_cast_age\n",
       "0  1915       drama film     1.536368e+08      30.821429\n",
       "1  1915     romance film     1.968935e+07      33.000000\n",
       "2  1915     comedy drama     7.155420e+06      36.250000\n",
       "3  1915  romantic comedy     3.078610e+07      30.214286\n",
       "4  1915      comedy film     3.748145e+06      28.000000"
      ]
     },
     "execution_count": 326,
     "metadata": {},
     "output_type": "execute_result"
    }
   ],
   "source": [
    "# create a dataframe with years as index and genres revenue diff_cast_age as values\n",
    "rows = []\n",
    "for year in genre_revenue_15.index:\n",
    "    for genre in genre_revenue_15.columns:\n",
    "        # year , genre, revenue, diff_cast_age, num_movies_in_this_genre\n",
    "        rows.append([year, genre, genre_revenue_15.loc[year, genre], genre_diff_age_15.loc[year, genre]])\n",
    "        \n",
    "df_plot = pd.DataFrame(rows, columns=['year', 'genre', 'revenue_ajusted', 'diff_cast_age'])\n",
    "df_plot['revenue_ajusted'] = df_plot['revenue_ajusted'].astype(float)\n",
    "df_plot.head()"
   ]
  },
  {
   "cell_type": "code",
   "execution_count": 327,
   "metadata": {},
   "outputs": [
    {
     "data": {
      "text/plain": [
       "47.0"
      ]
     },
     "execution_count": 327,
     "metadata": {},
     "output_type": "execute_result"
    }
   ],
   "source": [
    "df_plot['diff_cast_age'].max()"
   ]
  },
  {
   "cell_type": "code",
   "execution_count": 344,
   "metadata": {},
   "outputs": [
    {
     "data": {
      "application/vnd.plotly.v1+json": {
       "config": {
        "plotlyServerURL": "https://plot.ly"
       },
       "data": [
        {
         "hovertemplate": "genre=drama film<br>year=%{marker.size}<br>diff_cast_age=%{x}<br>revenue_ajusted=%{y}<extra></extra>",
         "legendgroup": "drama film",
         "marker": {
          "color": "#636efa",
          "size": [
           1915
          ],
          "sizemode": "area",
          "sizeref": 5.025,
          "symbol": "circle"
         },
         "mode": "markers",
         "name": "drama film",
         "orientation": "v",
         "showlegend": true,
         "type": "scatter",
         "x": [
          30.821428571428573
         ],
         "xaxis": "x",
         "y": [
          153636780.82818154
         ],
         "yaxis": "y"
        },
        {
         "hovertemplate": "genre=romance film<br>year=%{marker.size}<br>diff_cast_age=%{x}<br>revenue_ajusted=%{y}<extra></extra>",
         "legendgroup": "romance film",
         "marker": {
          "color": "#EF553B",
          "size": [
           1915
          ],
          "sizemode": "area",
          "sizeref": 5.025,
          "symbol": "circle"
         },
         "mode": "markers",
         "name": "romance film",
         "orientation": "v",
         "showlegend": true,
         "type": "scatter",
         "x": [
          33
         ],
         "xaxis": "x",
         "y": [
          19689345.48009268
         ],
         "yaxis": "y"
        },
        {
         "hovertemplate": "genre=comedy drama<br>year=%{marker.size}<br>diff_cast_age=%{x}<br>revenue_ajusted=%{y}<extra></extra>",
         "legendgroup": "comedy drama",
         "marker": {
          "color": "#00cc96",
          "size": [
           1915
          ],
          "sizemode": "area",
          "sizeref": 5.025,
          "symbol": "circle"
         },
         "mode": "markers",
         "name": "comedy drama",
         "orientation": "v",
         "showlegend": true,
         "type": "scatter",
         "x": [
          36.25
         ],
         "xaxis": "x",
         "y": [
          7155420.446225597
         ],
         "yaxis": "y"
        },
        {
         "hovertemplate": "genre=romantic comedy<br>year=%{marker.size}<br>diff_cast_age=%{x}<br>revenue_ajusted=%{y}<extra></extra>",
         "legendgroup": "romantic comedy",
         "marker": {
          "color": "#ab63fa",
          "size": [
           1915
          ],
          "sizemode": "area",
          "sizeref": 5.025,
          "symbol": "circle"
         },
         "mode": "markers",
         "name": "romantic comedy",
         "orientation": "v",
         "showlegend": true,
         "type": "scatter",
         "x": [
          30.214285714285715
         ],
         "xaxis": "x",
         "y": [
          30786100.55852336
         ],
         "yaxis": "y"
        },
        {
         "hovertemplate": "genre=comedy film<br>year=%{marker.size}<br>diff_cast_age=%{x}<br>revenue_ajusted=%{y}<extra></extra>",
         "legendgroup": "comedy film",
         "marker": {
          "color": "#FFA15A",
          "size": [
           1915
          ],
          "sizemode": "area",
          "sizeref": 5.025,
          "symbol": "circle"
         },
         "mode": "markers",
         "name": "comedy film",
         "orientation": "v",
         "showlegend": true,
         "type": "scatter",
         "x": [
          28
         ],
         "xaxis": "x",
         "y": [
          3748145.142723146
         ],
         "yaxis": "y"
        },
        {
         "hovertemplate": "genre=horror film<br>year=%{marker.size}<br>diff_cast_age=%{x}<br>revenue_ajusted=%{y}<extra></extra>",
         "legendgroup": "horror film",
         "marker": {
          "color": "#19d3f3",
          "size": [
           1915
          ],
          "sizemode": "area",
          "sizeref": 5.025,
          "symbol": "circle"
         },
         "mode": "markers",
         "name": "horror film",
         "orientation": "v",
         "showlegend": true,
         "type": "scatter",
         "x": [
          26.666666666666668
         ],
         "xaxis": "x",
         "y": [
          18578728.578185905
         ],
         "yaxis": "y"
        },
        {
         "hovertemplate": "genre=crime film<br>year=%{marker.size}<br>diff_cast_age=%{x}<br>revenue_ajusted=%{y}<extra></extra>",
         "legendgroup": "crime film",
         "marker": {
          "color": "#FF6692",
          "size": [
           1915
          ],
          "sizemode": "area",
          "sizeref": 5.025,
          "symbol": "circle"
         },
         "mode": "markers",
         "name": "crime film",
         "orientation": "v",
         "showlegend": true,
         "type": "scatter",
         "x": [
          28
         ],
         "xaxis": "x",
         "y": [
          594007.6081066185
         ],
         "yaxis": "y"
        },
        {
         "hovertemplate": "genre=biographical film<br>year=%{marker.size}<br>diff_cast_age=%{x}<br>revenue_ajusted=%{y}<extra></extra>",
         "legendgroup": "biographical film",
         "marker": {
          "color": "#B6E880",
          "size": [
           1915
          ],
          "sizemode": "area",
          "sizeref": 5.025,
          "symbol": "circle"
         },
         "mode": "markers",
         "name": "biographical film",
         "orientation": "v",
         "showlegend": true,
         "type": "scatter",
         "x": [
          36.5
         ],
         "xaxis": "x",
         "y": [
          6298363.252084422
         ],
         "yaxis": "y"
        },
        {
         "hovertemplate": "genre=action film<br>year=%{marker.size}<br>diff_cast_age=%{x}<br>revenue_ajusted=%{y}<extra></extra>",
         "legendgroup": "action film",
         "marker": {
          "color": "#FF97FF",
          "size": [
           1915
          ],
          "sizemode": "area",
          "sizeref": 5.025,
          "symbol": "circle"
         },
         "mode": "markers",
         "name": "action film",
         "orientation": "v",
         "showlegend": true,
         "type": "scatter",
         "x": [
          null
         ],
         "xaxis": "x",
         "y": [
          0
         ],
         "yaxis": "y"
        },
        {
         "hovertemplate": "genre=science fiction film<br>year=%{marker.size}<br>diff_cast_age=%{x}<br>revenue_ajusted=%{y}<extra></extra>",
         "legendgroup": "science fiction film",
         "marker": {
          "color": "#FECB52",
          "size": [
           1915
          ],
          "sizemode": "area",
          "sizeref": 5.025,
          "symbol": "circle"
         },
         "mode": "markers",
         "name": "science fiction film",
         "orientation": "v",
         "showlegend": true,
         "type": "scatter",
         "x": [
          null
         ],
         "xaxis": "x",
         "y": [
          0
         ],
         "yaxis": "y"
        }
       ],
       "frames": [
        {
         "data": [
          {
           "hovertemplate": "genre=drama film<br>year=%{marker.size}<br>diff_cast_age=%{x}<br>revenue_ajusted=%{y}<extra></extra>",
           "legendgroup": "drama film",
           "marker": {
            "color": "#636efa",
            "size": [
             1915
            ],
            "sizemode": "area",
            "sizeref": 5.025,
            "symbol": "circle"
           },
           "mode": "markers",
           "name": "drama film",
           "orientation": "v",
           "showlegend": true,
           "type": "scatter",
           "x": [
            30.821428571428573
           ],
           "xaxis": "x",
           "y": [
            153636780.82818154
           ],
           "yaxis": "y"
          },
          {
           "hovertemplate": "genre=romance film<br>year=%{marker.size}<br>diff_cast_age=%{x}<br>revenue_ajusted=%{y}<extra></extra>",
           "legendgroup": "romance film",
           "marker": {
            "color": "#EF553B",
            "size": [
             1915
            ],
            "sizemode": "area",
            "sizeref": 5.025,
            "symbol": "circle"
           },
           "mode": "markers",
           "name": "romance film",
           "orientation": "v",
           "showlegend": true,
           "type": "scatter",
           "x": [
            33
           ],
           "xaxis": "x",
           "y": [
            19689345.48009268
           ],
           "yaxis": "y"
          },
          {
           "hovertemplate": "genre=comedy drama<br>year=%{marker.size}<br>diff_cast_age=%{x}<br>revenue_ajusted=%{y}<extra></extra>",
           "legendgroup": "comedy drama",
           "marker": {
            "color": "#00cc96",
            "size": [
             1915
            ],
            "sizemode": "area",
            "sizeref": 5.025,
            "symbol": "circle"
           },
           "mode": "markers",
           "name": "comedy drama",
           "orientation": "v",
           "showlegend": true,
           "type": "scatter",
           "x": [
            36.25
           ],
           "xaxis": "x",
           "y": [
            7155420.446225597
           ],
           "yaxis": "y"
          },
          {
           "hovertemplate": "genre=romantic comedy<br>year=%{marker.size}<br>diff_cast_age=%{x}<br>revenue_ajusted=%{y}<extra></extra>",
           "legendgroup": "romantic comedy",
           "marker": {
            "color": "#ab63fa",
            "size": [
             1915
            ],
            "sizemode": "area",
            "sizeref": 5.025,
            "symbol": "circle"
           },
           "mode": "markers",
           "name": "romantic comedy",
           "orientation": "v",
           "showlegend": true,
           "type": "scatter",
           "x": [
            30.214285714285715
           ],
           "xaxis": "x",
           "y": [
            30786100.55852336
           ],
           "yaxis": "y"
          },
          {
           "hovertemplate": "genre=comedy film<br>year=%{marker.size}<br>diff_cast_age=%{x}<br>revenue_ajusted=%{y}<extra></extra>",
           "legendgroup": "comedy film",
           "marker": {
            "color": "#FFA15A",
            "size": [
             1915
            ],
            "sizemode": "area",
            "sizeref": 5.025,
            "symbol": "circle"
           },
           "mode": "markers",
           "name": "comedy film",
           "orientation": "v",
           "showlegend": true,
           "type": "scatter",
           "x": [
            28
           ],
           "xaxis": "x",
           "y": [
            3748145.142723146
           ],
           "yaxis": "y"
          },
          {
           "hovertemplate": "genre=horror film<br>year=%{marker.size}<br>diff_cast_age=%{x}<br>revenue_ajusted=%{y}<extra></extra>",
           "legendgroup": "horror film",
           "marker": {
            "color": "#19d3f3",
            "size": [
             1915
            ],
            "sizemode": "area",
            "sizeref": 5.025,
            "symbol": "circle"
           },
           "mode": "markers",
           "name": "horror film",
           "orientation": "v",
           "showlegend": true,
           "type": "scatter",
           "x": [
            26.666666666666668
           ],
           "xaxis": "x",
           "y": [
            18578728.578185905
           ],
           "yaxis": "y"
          },
          {
           "hovertemplate": "genre=crime film<br>year=%{marker.size}<br>diff_cast_age=%{x}<br>revenue_ajusted=%{y}<extra></extra>",
           "legendgroup": "crime film",
           "marker": {
            "color": "#FF6692",
            "size": [
             1915
            ],
            "sizemode": "area",
            "sizeref": 5.025,
            "symbol": "circle"
           },
           "mode": "markers",
           "name": "crime film",
           "orientation": "v",
           "showlegend": true,
           "type": "scatter",
           "x": [
            28
           ],
           "xaxis": "x",
           "y": [
            594007.6081066185
           ],
           "yaxis": "y"
          },
          {
           "hovertemplate": "genre=biographical film<br>year=%{marker.size}<br>diff_cast_age=%{x}<br>revenue_ajusted=%{y}<extra></extra>",
           "legendgroup": "biographical film",
           "marker": {
            "color": "#B6E880",
            "size": [
             1915
            ],
            "sizemode": "area",
            "sizeref": 5.025,
            "symbol": "circle"
           },
           "mode": "markers",
           "name": "biographical film",
           "orientation": "v",
           "showlegend": true,
           "type": "scatter",
           "x": [
            36.5
           ],
           "xaxis": "x",
           "y": [
            6298363.252084422
           ],
           "yaxis": "y"
          },
          {
           "hovertemplate": "genre=action film<br>year=%{marker.size}<br>diff_cast_age=%{x}<br>revenue_ajusted=%{y}<extra></extra>",
           "legendgroup": "action film",
           "marker": {
            "color": "#FF97FF",
            "size": [
             1915
            ],
            "sizemode": "area",
            "sizeref": 5.025,
            "symbol": "circle"
           },
           "mode": "markers",
           "name": "action film",
           "orientation": "v",
           "showlegend": true,
           "type": "scatter",
           "x": [
            null
           ],
           "xaxis": "x",
           "y": [
            0
           ],
           "yaxis": "y"
          },
          {
           "hovertemplate": "genre=science fiction film<br>year=%{marker.size}<br>diff_cast_age=%{x}<br>revenue_ajusted=%{y}<extra></extra>",
           "legendgroup": "science fiction film",
           "marker": {
            "color": "#FECB52",
            "size": [
             1915
            ],
            "sizemode": "area",
            "sizeref": 5.025,
            "symbol": "circle"
           },
           "mode": "markers",
           "name": "science fiction film",
           "orientation": "v",
           "showlegend": true,
           "type": "scatter",
           "x": [
            null
           ],
           "xaxis": "x",
           "y": [
            0
           ],
           "yaxis": "y"
          }
         ],
         "name": "1915"
        },
        {
         "data": [
          {
           "hovertemplate": "genre=drama film<br>year=%{marker.size}<br>diff_cast_age=%{x}<br>revenue_ajusted=%{y}<extra></extra>",
           "legendgroup": "drama film",
           "marker": {
            "color": "#636efa",
            "size": [
             1935
            ],
            "sizemode": "area",
            "sizeref": 5.025,
            "symbol": "circle"
           },
           "mode": "markers",
           "name": "drama film",
           "orientation": "v",
           "showlegend": true,
           "type": "scatter",
           "x": [
            29.48015873015873
           ],
           "xaxis": "x",
           "y": [
            119822023.48648097
           ],
           "yaxis": "y"
          },
          {
           "hovertemplate": "genre=romance film<br>year=%{marker.size}<br>diff_cast_age=%{x}<br>revenue_ajusted=%{y}<extra></extra>",
           "legendgroup": "romance film",
           "marker": {
            "color": "#EF553B",
            "size": [
             1935
            ],
            "sizemode": "area",
            "sizeref": 5.025,
            "symbol": "circle"
           },
           "mode": "markers",
           "name": "romance film",
           "orientation": "v",
           "showlegend": true,
           "type": "scatter",
           "x": [
            33.26515151515151
           ],
           "xaxis": "x",
           "y": [
            617074117.7946475
           ],
           "yaxis": "y"
          },
          {
           "hovertemplate": "genre=comedy drama<br>year=%{marker.size}<br>diff_cast_age=%{x}<br>revenue_ajusted=%{y}<extra></extra>",
           "legendgroup": "comedy drama",
           "marker": {
            "color": "#00cc96",
            "size": [
             1935
            ],
            "sizemode": "area",
            "sizeref": 5.025,
            "symbol": "circle"
           },
           "mode": "markers",
           "name": "comedy drama",
           "orientation": "v",
           "showlegend": true,
           "type": "scatter",
           "x": [
            29.5
           ],
           "xaxis": "x",
           "y": [
            4791070.666377464
           ],
           "yaxis": "y"
          },
          {
           "hovertemplate": "genre=romantic comedy<br>year=%{marker.size}<br>diff_cast_age=%{x}<br>revenue_ajusted=%{y}<extra></extra>",
           "legendgroup": "romantic comedy",
           "marker": {
            "color": "#ab63fa",
            "size": [
             1935
            ],
            "sizemode": "area",
            "sizeref": 5.025,
            "symbol": "circle"
           },
           "mode": "markers",
           "name": "romantic comedy",
           "orientation": "v",
           "showlegend": true,
           "type": "scatter",
           "x": [
            31.887179487179488
           ],
           "xaxis": "x",
           "y": [
            85014504.9208428
           ],
           "yaxis": "y"
          },
          {
           "hovertemplate": "genre=comedy film<br>year=%{marker.size}<br>diff_cast_age=%{x}<br>revenue_ajusted=%{y}<extra></extra>",
           "legendgroup": "comedy film",
           "marker": {
            "color": "#FFA15A",
            "size": [
             1935
            ],
            "sizemode": "area",
            "sizeref": 5.025,
            "symbol": "circle"
           },
           "mode": "markers",
           "name": "comedy film",
           "orientation": "v",
           "showlegend": true,
           "type": "scatter",
           "x": [
            32.56666666666666
           ],
           "xaxis": "x",
           "y": [
            32413882.806200325
           ],
           "yaxis": "y"
          },
          {
           "hovertemplate": "genre=horror film<br>year=%{marker.size}<br>diff_cast_age=%{x}<br>revenue_ajusted=%{y}<extra></extra>",
           "legendgroup": "horror film",
           "marker": {
            "color": "#19d3f3",
            "size": [
             1935
            ],
            "sizemode": "area",
            "sizeref": 5.025,
            "symbol": "circle"
           },
           "mode": "markers",
           "name": "horror film",
           "orientation": "v",
           "showlegend": true,
           "type": "scatter",
           "x": [
            34.333333333333336
           ],
           "xaxis": "x",
           "y": [
            7242221.324945065
           ],
           "yaxis": "y"
          },
          {
           "hovertemplate": "genre=crime film<br>year=%{marker.size}<br>diff_cast_age=%{x}<br>revenue_ajusted=%{y}<extra></extra>",
           "legendgroup": "crime film",
           "marker": {
            "color": "#FF6692",
            "size": [
             1935
            ],
            "sizemode": "area",
            "sizeref": 5.025,
            "symbol": "circle"
           },
           "mode": "markers",
           "name": "crime film",
           "orientation": "v",
           "showlegend": true,
           "type": "scatter",
           "x": [
            24.523809523809526
           ],
           "xaxis": "x",
           "y": [
            21717294.71147305
           ],
           "yaxis": "y"
          },
          {
           "hovertemplate": "genre=biographical film<br>year=%{marker.size}<br>diff_cast_age=%{x}<br>revenue_ajusted=%{y}<extra></extra>",
           "legendgroup": "biographical film",
           "marker": {
            "color": "#B6E880",
            "size": [
             1935
            ],
            "sizemode": "area",
            "sizeref": 5.025,
            "symbol": "circle"
           },
           "mode": "markers",
           "name": "biographical film",
           "orientation": "v",
           "showlegend": true,
           "type": "scatter",
           "x": [
            29.083333333333332
           ],
           "xaxis": "x",
           "y": [
            16901846.4257699
           ],
           "yaxis": "y"
          },
          {
           "hovertemplate": "genre=action film<br>year=%{marker.size}<br>diff_cast_age=%{x}<br>revenue_ajusted=%{y}<extra></extra>",
           "legendgroup": "action film",
           "marker": {
            "color": "#FF97FF",
            "size": [
             1935
            ],
            "sizemode": "area",
            "sizeref": 5.025,
            "symbol": "circle"
           },
           "mode": "markers",
           "name": "action film",
           "orientation": "v",
           "showlegend": true,
           "type": "scatter",
           "x": [
            47
           ],
           "xaxis": "x",
           "y": [
            1297272.3703127715
           ],
           "yaxis": "y"
          },
          {
           "hovertemplate": "genre=science fiction film<br>year=%{marker.size}<br>diff_cast_age=%{x}<br>revenue_ajusted=%{y}<extra></extra>",
           "legendgroup": "science fiction film",
           "marker": {
            "color": "#FECB52",
            "size": [
             1935
            ],
            "sizemode": "area",
            "sizeref": 5.025,
            "symbol": "circle"
           },
           "mode": "markers",
           "name": "science fiction film",
           "orientation": "v",
           "showlegend": true,
           "type": "scatter",
           "x": [
            null
           ],
           "xaxis": "x",
           "y": [
            0
           ],
           "yaxis": "y"
          }
         ],
         "name": "1935"
        },
        {
         "data": [
          {
           "hovertemplate": "genre=drama film<br>year=%{marker.size}<br>diff_cast_age=%{x}<br>revenue_ajusted=%{y}<extra></extra>",
           "legendgroup": "drama film",
           "marker": {
            "color": "#636efa",
            "size": [
             1950
            ],
            "sizemode": "area",
            "sizeref": 5.025,
            "symbol": "circle"
           },
           "mode": "markers",
           "name": "drama film",
           "orientation": "v",
           "showlegend": true,
           "type": "scatter",
           "x": [
            27.03996689584925
           ],
           "xaxis": "x",
           "y": [
            604532440.7093769
           ],
           "yaxis": "y"
          },
          {
           "hovertemplate": "genre=romance film<br>year=%{marker.size}<br>diff_cast_age=%{x}<br>revenue_ajusted=%{y}<extra></extra>",
           "legendgroup": "romance film",
           "marker": {
            "color": "#EF553B",
            "size": [
             1950
            ],
            "sizemode": "area",
            "sizeref": 5.025,
            "symbol": "circle"
           },
           "mode": "markers",
           "name": "romance film",
           "orientation": "v",
           "showlegend": true,
           "type": "scatter",
           "x": [
            28.413333333333334
           ],
           "xaxis": "x",
           "y": [
            60058393.557928964
           ],
           "yaxis": "y"
          },
          {
           "hovertemplate": "genre=comedy drama<br>year=%{marker.size}<br>diff_cast_age=%{x}<br>revenue_ajusted=%{y}<extra></extra>",
           "legendgroup": "comedy drama",
           "marker": {
            "color": "#00cc96",
            "size": [
             1950
            ],
            "sizemode": "area",
            "sizeref": 5.025,
            "symbol": "circle"
           },
           "mode": "markers",
           "name": "comedy drama",
           "orientation": "v",
           "showlegend": true,
           "type": "scatter",
           "x": [
            28.309523809523814
           ],
           "xaxis": "x",
           "y": [
            284125410.7432387
           ],
           "yaxis": "y"
          },
          {
           "hovertemplate": "genre=romantic comedy<br>year=%{marker.size}<br>diff_cast_age=%{x}<br>revenue_ajusted=%{y}<extra></extra>",
           "legendgroup": "romantic comedy",
           "marker": {
            "color": "#ab63fa",
            "size": [
             1950
            ],
            "sizemode": "area",
            "sizeref": 5.025,
            "symbol": "circle"
           },
           "mode": "markers",
           "name": "romantic comedy",
           "orientation": "v",
           "showlegend": true,
           "type": "scatter",
           "x": [
            31.32137445887446
           ],
           "xaxis": "x",
           "y": [
            222371061.57266313
           ],
           "yaxis": "y"
          },
          {
           "hovertemplate": "genre=comedy film<br>year=%{marker.size}<br>diff_cast_age=%{x}<br>revenue_ajusted=%{y}<extra></extra>",
           "legendgroup": "comedy film",
           "marker": {
            "color": "#FFA15A",
            "size": [
             1950
            ],
            "sizemode": "area",
            "sizeref": 5.025,
            "symbol": "circle"
           },
           "mode": "markers",
           "name": "comedy film",
           "orientation": "v",
           "showlegend": true,
           "type": "scatter",
           "x": [
            30.466931216931215
           ],
           "xaxis": "x",
           "y": [
            114081994.8205162
           ],
           "yaxis": "y"
          },
          {
           "hovertemplate": "genre=horror film<br>year=%{marker.size}<br>diff_cast_age=%{x}<br>revenue_ajusted=%{y}<extra></extra>",
           "legendgroup": "horror film",
           "marker": {
            "color": "#19d3f3",
            "size": [
             1950
            ],
            "sizemode": "area",
            "sizeref": 5.025,
            "symbol": "circle"
           },
           "mode": "markers",
           "name": "horror film",
           "orientation": "v",
           "showlegend": true,
           "type": "scatter",
           "x": [
            26.166666666666668
           ],
           "xaxis": "x",
           "y": [
            18437965.738047138
           ],
           "yaxis": "y"
          },
          {
           "hovertemplate": "genre=crime film<br>year=%{marker.size}<br>diff_cast_age=%{x}<br>revenue_ajusted=%{y}<extra></extra>",
           "legendgroup": "crime film",
           "marker": {
            "color": "#FF6692",
            "size": [
             1950
            ],
            "sizemode": "area",
            "sizeref": 5.025,
            "symbol": "circle"
           },
           "mode": "markers",
           "name": "crime film",
           "orientation": "v",
           "showlegend": true,
           "type": "scatter",
           "x": [
            27.03333333333334
           ],
           "xaxis": "x",
           "y": [
            86941650.65944706
           ],
           "yaxis": "y"
          },
          {
           "hovertemplate": "genre=biographical film<br>year=%{marker.size}<br>diff_cast_age=%{x}<br>revenue_ajusted=%{y}<extra></extra>",
           "legendgroup": "biographical film",
           "marker": {
            "color": "#B6E880",
            "size": [
             1950
            ],
            "sizemode": "area",
            "sizeref": 5.025,
            "symbol": "circle"
           },
           "mode": "markers",
           "name": "biographical film",
           "orientation": "v",
           "showlegend": true,
           "type": "scatter",
           "x": [
            26.958333333333332
           ],
           "xaxis": "x",
           "y": [
            136487272.92319554
           ],
           "yaxis": "y"
          },
          {
           "hovertemplate": "genre=action film<br>year=%{marker.size}<br>diff_cast_age=%{x}<br>revenue_ajusted=%{y}<extra></extra>",
           "legendgroup": "action film",
           "marker": {
            "color": "#FF97FF",
            "size": [
             1950
            ],
            "sizemode": "area",
            "sizeref": 5.025,
            "symbol": "circle"
           },
           "mode": "markers",
           "name": "action film",
           "orientation": "v",
           "showlegend": true,
           "type": "scatter",
           "x": [
            33.22222222222222
           ],
           "xaxis": "x",
           "y": [
            57653428.13387502
           ],
           "yaxis": "y"
          },
          {
           "hovertemplate": "genre=science fiction film<br>year=%{marker.size}<br>diff_cast_age=%{x}<br>revenue_ajusted=%{y}<extra></extra>",
           "legendgroup": "science fiction film",
           "marker": {
            "color": "#FECB52",
            "size": [
             1950
            ],
            "sizemode": "area",
            "sizeref": 5.025,
            "symbol": "circle"
           },
           "mode": "markers",
           "name": "science fiction film",
           "orientation": "v",
           "showlegend": true,
           "type": "scatter",
           "x": [
            32.14814814814815
           ],
           "xaxis": "x",
           "y": [
            46827838.516471215
           ],
           "yaxis": "y"
          }
         ],
         "name": "1950"
        },
        {
         "data": [
          {
           "hovertemplate": "genre=drama film<br>year=%{marker.size}<br>diff_cast_age=%{x}<br>revenue_ajusted=%{y}<extra></extra>",
           "legendgroup": "drama film",
           "marker": {
            "color": "#636efa",
            "size": [
             1965
            ],
            "sizemode": "area",
            "sizeref": 5.025,
            "symbol": "circle"
           },
           "mode": "markers",
           "name": "drama film",
           "orientation": "v",
           "showlegend": true,
           "type": "scatter",
           "x": [
            26.494444444444444
           ],
           "xaxis": "x",
           "y": [
            850437144.8778833
           ],
           "yaxis": "y"
          },
          {
           "hovertemplate": "genre=romance film<br>year=%{marker.size}<br>diff_cast_age=%{x}<br>revenue_ajusted=%{y}<extra></extra>",
           "legendgroup": "romance film",
           "marker": {
            "color": "#EF553B",
            "size": [
             1965
            ],
            "sizemode": "area",
            "sizeref": 5.025,
            "symbol": "circle"
           },
           "mode": "markers",
           "name": "romance film",
           "orientation": "v",
           "showlegend": true,
           "type": "scatter",
           "x": [
            25.6875
           ],
           "xaxis": "x",
           "y": [
            233257785.5662738
           ],
           "yaxis": "y"
          },
          {
           "hovertemplate": "genre=comedy drama<br>year=%{marker.size}<br>diff_cast_age=%{x}<br>revenue_ajusted=%{y}<extra></extra>",
           "legendgroup": "comedy drama",
           "marker": {
            "color": "#00cc96",
            "size": [
             1965
            ],
            "sizemode": "area",
            "sizeref": 5.025,
            "symbol": "circle"
           },
           "mode": "markers",
           "name": "comedy drama",
           "orientation": "v",
           "showlegend": true,
           "type": "scatter",
           "x": [
            27.895833333333332
           ],
           "xaxis": "x",
           "y": [
            303878600.78211987
           ],
           "yaxis": "y"
          },
          {
           "hovertemplate": "genre=romantic comedy<br>year=%{marker.size}<br>diff_cast_age=%{x}<br>revenue_ajusted=%{y}<extra></extra>",
           "legendgroup": "romantic comedy",
           "marker": {
            "color": "#ab63fa",
            "size": [
             1965
            ],
            "sizemode": "area",
            "sizeref": 5.025,
            "symbol": "circle"
           },
           "mode": "markers",
           "name": "romantic comedy",
           "orientation": "v",
           "showlegend": true,
           "type": "scatter",
           "x": [
            25.84404761904762
           ],
           "xaxis": "x",
           "y": [
            528636120.13505805
           ],
           "yaxis": "y"
          },
          {
           "hovertemplate": "genre=comedy film<br>year=%{marker.size}<br>diff_cast_age=%{x}<br>revenue_ajusted=%{y}<extra></extra>",
           "legendgroup": "comedy film",
           "marker": {
            "color": "#FFA15A",
            "size": [
             1965
            ],
            "sizemode": "area",
            "sizeref": 5.025,
            "symbol": "circle"
           },
           "mode": "markers",
           "name": "comedy film",
           "orientation": "v",
           "showlegend": true,
           "type": "scatter",
           "x": [
            26.614285714285714
           ],
           "xaxis": "x",
           "y": [
            324206899.6035719
           ],
           "yaxis": "y"
          },
          {
           "hovertemplate": "genre=horror film<br>year=%{marker.size}<br>diff_cast_age=%{x}<br>revenue_ajusted=%{y}<extra></extra>",
           "legendgroup": "horror film",
           "marker": {
            "color": "#19d3f3",
            "size": [
             1965
            ],
            "sizemode": "area",
            "sizeref": 5.025,
            "symbol": "circle"
           },
           "mode": "markers",
           "name": "horror film",
           "orientation": "v",
           "showlegend": true,
           "type": "scatter",
           "x": [
            33.53333333333333
           ],
           "xaxis": "x",
           "y": [
            543985333.853916
           ],
           "yaxis": "y"
          },
          {
           "hovertemplate": "genre=crime film<br>year=%{marker.size}<br>diff_cast_age=%{x}<br>revenue_ajusted=%{y}<extra></extra>",
           "legendgroup": "crime film",
           "marker": {
            "color": "#FF6692",
            "size": [
             1965
            ],
            "sizemode": "area",
            "sizeref": 5.025,
            "symbol": "circle"
           },
           "mode": "markers",
           "name": "crime film",
           "orientation": "v",
           "showlegend": true,
           "type": "scatter",
           "x": [
            20.22222222222222
           ],
           "xaxis": "x",
           "y": [
            214422855.80742458
           ],
           "yaxis": "y"
          },
          {
           "hovertemplate": "genre=biographical film<br>year=%{marker.size}<br>diff_cast_age=%{x}<br>revenue_ajusted=%{y}<extra></extra>",
           "legendgroup": "biographical film",
           "marker": {
            "color": "#B6E880",
            "size": [
             1965
            ],
            "sizemode": "area",
            "sizeref": 5.025,
            "symbol": "circle"
           },
           "mode": "markers",
           "name": "biographical film",
           "orientation": "v",
           "showlegend": true,
           "type": "scatter",
           "x": [
            22.95
           ],
           "xaxis": "x",
           "y": [
            125630079.61943093
           ],
           "yaxis": "y"
          },
          {
           "hovertemplate": "genre=action film<br>year=%{marker.size}<br>diff_cast_age=%{x}<br>revenue_ajusted=%{y}<extra></extra>",
           "legendgroup": "action film",
           "marker": {
            "color": "#FF97FF",
            "size": [
             1965
            ],
            "sizemode": "area",
            "sizeref": 5.025,
            "symbol": "circle"
           },
           "mode": "markers",
           "name": "action film",
           "orientation": "v",
           "showlegend": true,
           "type": "scatter",
           "x": [
            26.92252747252747
           ],
           "xaxis": "x",
           "y": [
            768561841.017632
           ],
           "yaxis": "y"
          },
          {
           "hovertemplate": "genre=science fiction film<br>year=%{marker.size}<br>diff_cast_age=%{x}<br>revenue_ajusted=%{y}<extra></extra>",
           "legendgroup": "science fiction film",
           "marker": {
            "color": "#FECB52",
            "size": [
             1965
            ],
            "sizemode": "area",
            "sizeref": 5.025,
            "symbol": "circle"
           },
           "mode": "markers",
           "name": "science fiction film",
           "orientation": "v",
           "showlegend": true,
           "type": "scatter",
           "x": [
            30.88888888888889
           ],
           "xaxis": "x",
           "y": [
            230557103.7970482
           ],
           "yaxis": "y"
          }
         ],
         "name": "1965"
        },
        {
         "data": [
          {
           "hovertemplate": "genre=drama film<br>year=%{marker.size}<br>diff_cast_age=%{x}<br>revenue_ajusted=%{y}<extra></extra>",
           "legendgroup": "drama film",
           "marker": {
            "color": "#636efa",
            "size": [
             1980
            ],
            "sizemode": "area",
            "sizeref": 5.025,
            "symbol": "circle"
           },
           "mode": "markers",
           "name": "drama film",
           "orientation": "v",
           "showlegend": true,
           "type": "scatter",
           "x": [
            29.55643781170097
           ],
           "xaxis": "x",
           "y": [
            797396361.3471713
           ],
           "yaxis": "y"
          },
          {
           "hovertemplate": "genre=romance film<br>year=%{marker.size}<br>diff_cast_age=%{x}<br>revenue_ajusted=%{y}<extra></extra>",
           "legendgroup": "romance film",
           "marker": {
            "color": "#EF553B",
            "size": [
             1980
            ],
            "sizemode": "area",
            "sizeref": 5.025,
            "symbol": "circle"
           },
           "mode": "markers",
           "name": "romance film",
           "orientation": "v",
           "showlegend": true,
           "type": "scatter",
           "x": [
            31.75055555555555
           ],
           "xaxis": "x",
           "y": [
            516572059.2107118
           ],
           "yaxis": "y"
          },
          {
           "hovertemplate": "genre=comedy drama<br>year=%{marker.size}<br>diff_cast_age=%{x}<br>revenue_ajusted=%{y}<extra></extra>",
           "legendgroup": "comedy drama",
           "marker": {
            "color": "#00cc96",
            "size": [
             1980
            ],
            "sizemode": "area",
            "sizeref": 5.025,
            "symbol": "circle"
           },
           "mode": "markers",
           "name": "comedy drama",
           "orientation": "v",
           "showlegend": true,
           "type": "scatter",
           "x": [
            32.07013431013431
           ],
           "xaxis": "x",
           "y": [
            293710650.987108
           ],
           "yaxis": "y"
          },
          {
           "hovertemplate": "genre=romantic comedy<br>year=%{marker.size}<br>diff_cast_age=%{x}<br>revenue_ajusted=%{y}<extra></extra>",
           "legendgroup": "romantic comedy",
           "marker": {
            "color": "#ab63fa",
            "size": [
             1980
            ],
            "sizemode": "area",
            "sizeref": 5.025,
            "symbol": "circle"
           },
           "mode": "markers",
           "name": "romantic comedy",
           "orientation": "v",
           "showlegend": true,
           "type": "scatter",
           "x": [
            28.723052470405413
           ],
           "xaxis": "x",
           "y": [
            998803865.1429405
           ],
           "yaxis": "y"
          },
          {
           "hovertemplate": "genre=comedy film<br>year=%{marker.size}<br>diff_cast_age=%{x}<br>revenue_ajusted=%{y}<extra></extra>",
           "legendgroup": "comedy film",
           "marker": {
            "color": "#FFA15A",
            "size": [
             1980
            ],
            "sizemode": "area",
            "sizeref": 5.025,
            "symbol": "circle"
           },
           "mode": "markers",
           "name": "comedy film",
           "orientation": "v",
           "showlegend": true,
           "type": "scatter",
           "x": [
            29.606457953810896
           ],
           "xaxis": "x",
           "y": [
            1011156864.2482077
           ],
           "yaxis": "y"
          },
          {
           "hovertemplate": "genre=horror film<br>year=%{marker.size}<br>diff_cast_age=%{x}<br>revenue_ajusted=%{y}<extra></extra>",
           "legendgroup": "horror film",
           "marker": {
            "color": "#19d3f3",
            "size": [
             1980
            ],
            "sizemode": "area",
            "sizeref": 5.025,
            "symbol": "circle"
           },
           "mode": "markers",
           "name": "horror film",
           "orientation": "v",
           "showlegend": true,
           "type": "scatter",
           "x": [
            32.19893698893699
           ],
           "xaxis": "x",
           "y": [
            406459614.56000865
           ],
           "yaxis": "y"
          },
          {
           "hovertemplate": "genre=crime film<br>year=%{marker.size}<br>diff_cast_age=%{x}<br>revenue_ajusted=%{y}<extra></extra>",
           "legendgroup": "crime film",
           "marker": {
            "color": "#FF6692",
            "size": [
             1980
            ],
            "sizemode": "area",
            "sizeref": 5.025,
            "symbol": "circle"
           },
           "mode": "markers",
           "name": "crime film",
           "orientation": "v",
           "showlegend": true,
           "type": "scatter",
           "x": [
            28.280897435897433
           ],
           "xaxis": "x",
           "y": [
            635468461.3250121
           ],
           "yaxis": "y"
          },
          {
           "hovertemplate": "genre=biographical film<br>year=%{marker.size}<br>diff_cast_age=%{x}<br>revenue_ajusted=%{y}<extra></extra>",
           "legendgroup": "biographical film",
           "marker": {
            "color": "#B6E880",
            "size": [
             1980
            ],
            "sizemode": "area",
            "sizeref": 5.025,
            "symbol": "circle"
           },
           "mode": "markers",
           "name": "biographical film",
           "orientation": "v",
           "showlegend": true,
           "type": "scatter",
           "x": [
            30.44333333333333
           ],
           "xaxis": "x",
           "y": [
            223515948.878495
           ],
           "yaxis": "y"
          },
          {
           "hovertemplate": "genre=action film<br>year=%{marker.size}<br>diff_cast_age=%{x}<br>revenue_ajusted=%{y}<extra></extra>",
           "legendgroup": "action film",
           "marker": {
            "color": "#FF97FF",
            "size": [
             1980
            ],
            "sizemode": "area",
            "sizeref": 5.025,
            "symbol": "circle"
           },
           "mode": "markers",
           "name": "action film",
           "orientation": "v",
           "showlegend": true,
           "type": "scatter",
           "x": [
            27.241745552922023
           ],
           "xaxis": "x",
           "y": [
            1888327072.1796622
           ],
           "yaxis": "y"
          },
          {
           "hovertemplate": "genre=science fiction film<br>year=%{marker.size}<br>diff_cast_age=%{x}<br>revenue_ajusted=%{y}<extra></extra>",
           "legendgroup": "science fiction film",
           "marker": {
            "color": "#FECB52",
            "size": [
             1980
            ],
            "sizemode": "area",
            "sizeref": 5.025,
            "symbol": "circle"
           },
           "mode": "markers",
           "name": "science fiction film",
           "orientation": "v",
           "showlegend": true,
           "type": "scatter",
           "x": [
            31.02962962962963
           ],
           "xaxis": "x",
           "y": [
            918073768.2953805
           ],
           "yaxis": "y"
          }
         ],
         "name": "1980"
        },
        {
         "data": [
          {
           "hovertemplate": "genre=drama film<br>year=%{marker.size}<br>diff_cast_age=%{x}<br>revenue_ajusted=%{y}<extra></extra>",
           "legendgroup": "drama film",
           "marker": {
            "color": "#636efa",
            "size": [
             1995
            ],
            "sizemode": "area",
            "sizeref": 5.025,
            "symbol": "circle"
           },
           "mode": "markers",
           "name": "drama film",
           "orientation": "v",
           "showlegend": true,
           "type": "scatter",
           "x": [
            31.844471953744637
           ],
           "xaxis": "x",
           "y": [
            1252042958.5625975
           ],
           "yaxis": "y"
          },
          {
           "hovertemplate": "genre=romance film<br>year=%{marker.size}<br>diff_cast_age=%{x}<br>revenue_ajusted=%{y}<extra></extra>",
           "legendgroup": "romance film",
           "marker": {
            "color": "#EF553B",
            "size": [
             1995
            ],
            "sizemode": "area",
            "sizeref": 5.025,
            "symbol": "circle"
           },
           "mode": "markers",
           "name": "romance film",
           "orientation": "v",
           "showlegend": true,
           "type": "scatter",
           "x": [
            28.555309135309134
           ],
           "xaxis": "x",
           "y": [
            819589079.0123425
           ],
           "yaxis": "y"
          },
          {
           "hovertemplate": "genre=comedy drama<br>year=%{marker.size}<br>diff_cast_age=%{x}<br>revenue_ajusted=%{y}<extra></extra>",
           "legendgroup": "comedy drama",
           "marker": {
            "color": "#00cc96",
            "size": [
             1995
            ],
            "sizemode": "area",
            "sizeref": 5.025,
            "symbol": "circle"
           },
           "mode": "markers",
           "name": "comedy drama",
           "orientation": "v",
           "showlegend": true,
           "type": "scatter",
           "x": [
            31.32219428719429
           ],
           "xaxis": "x",
           "y": [
            292279612.10615116
           ],
           "yaxis": "y"
          },
          {
           "hovertemplate": "genre=romantic comedy<br>year=%{marker.size}<br>diff_cast_age=%{x}<br>revenue_ajusted=%{y}<extra></extra>",
           "legendgroup": "romantic comedy",
           "marker": {
            "color": "#ab63fa",
            "size": [
             1995
            ],
            "sizemode": "area",
            "sizeref": 5.025,
            "symbol": "circle"
           },
           "mode": "markers",
           "name": "romantic comedy",
           "orientation": "v",
           "showlegend": true,
           "type": "scatter",
           "x": [
            25.24763654424759
           ],
           "xaxis": "x",
           "y": [
            2701577268.6117034
           ],
           "yaxis": "y"
          },
          {
           "hovertemplate": "genre=comedy film<br>year=%{marker.size}<br>diff_cast_age=%{x}<br>revenue_ajusted=%{y}<extra></extra>",
           "legendgroup": "comedy film",
           "marker": {
            "color": "#FFA15A",
            "size": [
             1995
            ],
            "sizemode": "area",
            "sizeref": 5.025,
            "symbol": "circle"
           },
           "mode": "markers",
           "name": "comedy film",
           "orientation": "v",
           "showlegend": true,
           "type": "scatter",
           "x": [
            29.335043738263035
           ],
           "xaxis": "x",
           "y": [
            1717411913.3996825
           ],
           "yaxis": "y"
          },
          {
           "hovertemplate": "genre=horror film<br>year=%{marker.size}<br>diff_cast_age=%{x}<br>revenue_ajusted=%{y}<extra></extra>",
           "legendgroup": "horror film",
           "marker": {
            "color": "#19d3f3",
            "size": [
             1995
            ],
            "sizemode": "area",
            "sizeref": 5.025,
            "symbol": "circle"
           },
           "mode": "markers",
           "name": "horror film",
           "orientation": "v",
           "showlegend": true,
           "type": "scatter",
           "x": [
            27.841001887001894
           ],
           "xaxis": "x",
           "y": [
            1119027360.9385953
           ],
           "yaxis": "y"
          },
          {
           "hovertemplate": "genre=crime film<br>year=%{marker.size}<br>diff_cast_age=%{x}<br>revenue_ajusted=%{y}<extra></extra>",
           "legendgroup": "crime film",
           "marker": {
            "color": "#FF6692",
            "size": [
             1995
            ],
            "sizemode": "area",
            "sizeref": 5.025,
            "symbol": "circle"
           },
           "mode": "markers",
           "name": "crime film",
           "orientation": "v",
           "showlegend": true,
           "type": "scatter",
           "x": [
            28.506715876715877
           ],
           "xaxis": "x",
           "y": [
            685892895.1903949
           ],
           "yaxis": "y"
          },
          {
           "hovertemplate": "genre=biographical film<br>year=%{marker.size}<br>diff_cast_age=%{x}<br>revenue_ajusted=%{y}<extra></extra>",
           "legendgroup": "biographical film",
           "marker": {
            "color": "#B6E880",
            "size": [
             1995
            ],
            "sizemode": "area",
            "sizeref": 5.025,
            "symbol": "circle"
           },
           "mode": "markers",
           "name": "biographical film",
           "orientation": "v",
           "showlegend": true,
           "type": "scatter",
           "x": [
            28.47070633070633
           ],
           "xaxis": "x",
           "y": [
            521783778.6999164
           ],
           "yaxis": "y"
          },
          {
           "hovertemplate": "genre=action film<br>year=%{marker.size}<br>diff_cast_age=%{x}<br>revenue_ajusted=%{y}<extra></extra>",
           "legendgroup": "action film",
           "marker": {
            "color": "#FF97FF",
            "size": [
             1995
            ],
            "sizemode": "area",
            "sizeref": 5.025,
            "symbol": "circle"
           },
           "mode": "markers",
           "name": "action film",
           "orientation": "v",
           "showlegend": true,
           "type": "scatter",
           "x": [
            27.255107327141385
           ],
           "xaxis": "x",
           "y": [
            3634724532.072955
           ],
           "yaxis": "y"
          },
          {
           "hovertemplate": "genre=science fiction film<br>year=%{marker.size}<br>diff_cast_age=%{x}<br>revenue_ajusted=%{y}<extra></extra>",
           "legendgroup": "science fiction film",
           "marker": {
            "color": "#FECB52",
            "size": [
             1995
            ],
            "sizemode": "area",
            "sizeref": 5.025,
            "symbol": "circle"
           },
           "mode": "markers",
           "name": "science fiction film",
           "orientation": "v",
           "showlegend": true,
           "type": "scatter",
           "x": [
            30.64037827252113
           ],
           "xaxis": "x",
           "y": [
            1547113555.697846
           ],
           "yaxis": "y"
          }
         ],
         "name": "1995"
        },
        {
         "data": [
          {
           "hovertemplate": "genre=drama film<br>year=%{marker.size}<br>diff_cast_age=%{x}<br>revenue_ajusted=%{y}<extra></extra>",
           "legendgroup": "drama film",
           "marker": {
            "color": "#636efa",
            "size": [
             2010
            ],
            "sizemode": "area",
            "sizeref": 5.025,
            "symbol": "circle"
           },
           "mode": "markers",
           "name": "drama film",
           "orientation": "v",
           "showlegend": true,
           "type": "scatter",
           "x": [
            32.63771663739734
           ],
           "xaxis": "x",
           "y": [
            873962382.8707756
           ],
           "yaxis": "y"
          },
          {
           "hovertemplate": "genre=romance film<br>year=%{marker.size}<br>diff_cast_age=%{x}<br>revenue_ajusted=%{y}<extra></extra>",
           "legendgroup": "romance film",
           "marker": {
            "color": "#EF553B",
            "size": [
             2010
            ],
            "sizemode": "area",
            "sizeref": 5.025,
            "symbol": "circle"
           },
           "mode": "markers",
           "name": "romance film",
           "orientation": "v",
           "showlegend": true,
           "type": "scatter",
           "x": [
            35.15384615384615
           ],
           "xaxis": "x",
           "y": [
            694917020.5886261
           ],
           "yaxis": "y"
          },
          {
           "hovertemplate": "genre=comedy drama<br>year=%{marker.size}<br>diff_cast_age=%{x}<br>revenue_ajusted=%{y}<extra></extra>",
           "legendgroup": "comedy drama",
           "marker": {
            "color": "#00cc96",
            "size": [
             2010
            ],
            "sizemode": "area",
            "sizeref": 5.025,
            "symbol": "circle"
           },
           "mode": "markers",
           "name": "comedy drama",
           "orientation": "v",
           "showlegend": true,
           "type": "scatter",
           "x": [
            35.23888888888889
           ],
           "xaxis": "x",
           "y": [
            405526438.75471777
           ],
           "yaxis": "y"
          },
          {
           "hovertemplate": "genre=romantic comedy<br>year=%{marker.size}<br>diff_cast_age=%{x}<br>revenue_ajusted=%{y}<extra></extra>",
           "legendgroup": "romantic comedy",
           "marker": {
            "color": "#ab63fa",
            "size": [
             2010
            ],
            "sizemode": "area",
            "sizeref": 5.025,
            "symbol": "circle"
           },
           "mode": "markers",
           "name": "romantic comedy",
           "orientation": "v",
           "showlegend": true,
           "type": "scatter",
           "x": [
            24.72149600580973
           ],
           "xaxis": "x",
           "y": [
            1566759849.7318108
           ],
           "yaxis": "y"
          },
          {
           "hovertemplate": "genre=comedy film<br>year=%{marker.size}<br>diff_cast_age=%{x}<br>revenue_ajusted=%{y}<extra></extra>",
           "legendgroup": "comedy film",
           "marker": {
            "color": "#FFA15A",
            "size": [
             2010
            ],
            "sizemode": "area",
            "sizeref": 5.025,
            "symbol": "circle"
           },
           "mode": "markers",
           "name": "comedy film",
           "orientation": "v",
           "showlegend": true,
           "type": "scatter",
           "x": [
            27.609427609427613
           ],
           "xaxis": "x",
           "y": [
            1413727159.8359647
           ],
           "yaxis": "y"
          },
          {
           "hovertemplate": "genre=horror film<br>year=%{marker.size}<br>diff_cast_age=%{x}<br>revenue_ajusted=%{y}<extra></extra>",
           "legendgroup": "horror film",
           "marker": {
            "color": "#19d3f3",
            "size": [
             2010
            ],
            "sizemode": "area",
            "sizeref": 5.025,
            "symbol": "circle"
           },
           "mode": "markers",
           "name": "horror film",
           "orientation": "v",
           "showlegend": true,
           "type": "scatter",
           "x": [
            32.20075757575758
           ],
           "xaxis": "x",
           "y": [
            749293065.1609763
           ],
           "yaxis": "y"
          },
          {
           "hovertemplate": "genre=crime film<br>year=%{marker.size}<br>diff_cast_age=%{x}<br>revenue_ajusted=%{y}<extra></extra>",
           "legendgroup": "crime film",
           "marker": {
            "color": "#FF6692",
            "size": [
             2010
            ],
            "sizemode": "area",
            "sizeref": 5.025,
            "symbol": "circle"
           },
           "mode": "markers",
           "name": "crime film",
           "orientation": "v",
           "showlegend": true,
           "type": "scatter",
           "x": [
            26.311111111111114
           ],
           "xaxis": "x",
           "y": [
            383829088.45912516
           ],
           "yaxis": "y"
          },
          {
           "hovertemplate": "genre=biographical film<br>year=%{marker.size}<br>diff_cast_age=%{x}<br>revenue_ajusted=%{y}<extra></extra>",
           "legendgroup": "biographical film",
           "marker": {
            "color": "#B6E880",
            "size": [
             2010
            ],
            "sizemode": "area",
            "sizeref": 5.025,
            "symbol": "circle"
           },
           "mode": "markers",
           "name": "biographical film",
           "orientation": "v",
           "showlegend": true,
           "type": "scatter",
           "x": [
            28.478535353535353
           ],
           "xaxis": "x",
           "y": [
            367662446.4680182
           ],
           "yaxis": "y"
          },
          {
           "hovertemplate": "genre=action film<br>year=%{marker.size}<br>diff_cast_age=%{x}<br>revenue_ajusted=%{y}<extra></extra>",
           "legendgroup": "action film",
           "marker": {
            "color": "#FF97FF",
            "size": [
             2010
            ],
            "sizemode": "area",
            "sizeref": 5.025,
            "symbol": "circle"
           },
           "mode": "markers",
           "name": "action film",
           "orientation": "v",
           "showlegend": true,
           "type": "scatter",
           "x": [
            26.457086391869
           ],
           "xaxis": "x",
           "y": [
            3438384514.376423
           ],
           "yaxis": "y"
          },
          {
           "hovertemplate": "genre=science fiction film<br>year=%{marker.size}<br>diff_cast_age=%{x}<br>revenue_ajusted=%{y}<extra></extra>",
           "legendgroup": "science fiction film",
           "marker": {
            "color": "#FECB52",
            "size": [
             2010
            ],
            "sizemode": "area",
            "sizeref": 5.025,
            "symbol": "circle"
           },
           "mode": "markers",
           "name": "science fiction film",
           "orientation": "v",
           "showlegend": true,
           "type": "scatter",
           "x": [
            27.861111111111114
           ],
           "xaxis": "x",
           "y": [
            1261635776.2476332
           ],
           "yaxis": "y"
          }
         ],
         "name": "2010"
        }
       ],
       "layout": {
        "legend": {
         "itemsizing": "constant",
         "title": {
          "text": "genre"
         },
         "tracegroupgap": 0
        },
        "margin": {
         "t": 60
        },
        "sliders": [
         {
          "active": 0,
          "currentvalue": {
           "prefix": "year="
          },
          "len": 0.9,
          "pad": {
           "b": 10,
           "t": 60
          },
          "steps": [
           {
            "args": [
             [
              "1915"
             ],
             {
              "frame": {
               "duration": 0,
               "redraw": false
              },
              "fromcurrent": true,
              "mode": "immediate",
              "transition": {
               "duration": 0,
               "easing": "linear"
              }
             }
            ],
            "label": "1915",
            "method": "animate"
           },
           {
            "args": [
             [
              "1935"
             ],
             {
              "frame": {
               "duration": 0,
               "redraw": false
              },
              "fromcurrent": true,
              "mode": "immediate",
              "transition": {
               "duration": 0,
               "easing": "linear"
              }
             }
            ],
            "label": "1935",
            "method": "animate"
           },
           {
            "args": [
             [
              "1950"
             ],
             {
              "frame": {
               "duration": 0,
               "redraw": false
              },
              "fromcurrent": true,
              "mode": "immediate",
              "transition": {
               "duration": 0,
               "easing": "linear"
              }
             }
            ],
            "label": "1950",
            "method": "animate"
           },
           {
            "args": [
             [
              "1965"
             ],
             {
              "frame": {
               "duration": 0,
               "redraw": false
              },
              "fromcurrent": true,
              "mode": "immediate",
              "transition": {
               "duration": 0,
               "easing": "linear"
              }
             }
            ],
            "label": "1965",
            "method": "animate"
           },
           {
            "args": [
             [
              "1980"
             ],
             {
              "frame": {
               "duration": 0,
               "redraw": false
              },
              "fromcurrent": true,
              "mode": "immediate",
              "transition": {
               "duration": 0,
               "easing": "linear"
              }
             }
            ],
            "label": "1980",
            "method": "animate"
           },
           {
            "args": [
             [
              "1995"
             ],
             {
              "frame": {
               "duration": 0,
               "redraw": false
              },
              "fromcurrent": true,
              "mode": "immediate",
              "transition": {
               "duration": 0,
               "easing": "linear"
              }
             }
            ],
            "label": "1995",
            "method": "animate"
           },
           {
            "args": [
             [
              "2010"
             ],
             {
              "frame": {
               "duration": 0,
               "redraw": false
              },
              "fromcurrent": true,
              "mode": "immediate",
              "transition": {
               "duration": 0,
               "easing": "linear"
              }
             }
            ],
            "label": "2010",
            "method": "animate"
           }
          ],
          "x": 0.1,
          "xanchor": "left",
          "y": 0,
          "yanchor": "top"
         }
        ],
        "template": {
         "data": {
          "bar": [
           {
            "error_x": {
             "color": "#2a3f5f"
            },
            "error_y": {
             "color": "#2a3f5f"
            },
            "marker": {
             "line": {
              "color": "#E5ECF6",
              "width": 0.5
             },
             "pattern": {
              "fillmode": "overlay",
              "size": 10,
              "solidity": 0.2
             }
            },
            "type": "bar"
           }
          ],
          "barpolar": [
           {
            "marker": {
             "line": {
              "color": "#E5ECF6",
              "width": 0.5
             },
             "pattern": {
              "fillmode": "overlay",
              "size": 10,
              "solidity": 0.2
             }
            },
            "type": "barpolar"
           }
          ],
          "carpet": [
           {
            "aaxis": {
             "endlinecolor": "#2a3f5f",
             "gridcolor": "white",
             "linecolor": "white",
             "minorgridcolor": "white",
             "startlinecolor": "#2a3f5f"
            },
            "baxis": {
             "endlinecolor": "#2a3f5f",
             "gridcolor": "white",
             "linecolor": "white",
             "minorgridcolor": "white",
             "startlinecolor": "#2a3f5f"
            },
            "type": "carpet"
           }
          ],
          "choropleth": [
           {
            "colorbar": {
             "outlinewidth": 0,
             "ticks": ""
            },
            "type": "choropleth"
           }
          ],
          "contour": [
           {
            "colorbar": {
             "outlinewidth": 0,
             "ticks": ""
            },
            "colorscale": [
             [
              0,
              "#0d0887"
             ],
             [
              0.1111111111111111,
              "#46039f"
             ],
             [
              0.2222222222222222,
              "#7201a8"
             ],
             [
              0.3333333333333333,
              "#9c179e"
             ],
             [
              0.4444444444444444,
              "#bd3786"
             ],
             [
              0.5555555555555556,
              "#d8576b"
             ],
             [
              0.6666666666666666,
              "#ed7953"
             ],
             [
              0.7777777777777778,
              "#fb9f3a"
             ],
             [
              0.8888888888888888,
              "#fdca26"
             ],
             [
              1,
              "#f0f921"
             ]
            ],
            "type": "contour"
           }
          ],
          "contourcarpet": [
           {
            "colorbar": {
             "outlinewidth": 0,
             "ticks": ""
            },
            "type": "contourcarpet"
           }
          ],
          "heatmap": [
           {
            "colorbar": {
             "outlinewidth": 0,
             "ticks": ""
            },
            "colorscale": [
             [
              0,
              "#0d0887"
             ],
             [
              0.1111111111111111,
              "#46039f"
             ],
             [
              0.2222222222222222,
              "#7201a8"
             ],
             [
              0.3333333333333333,
              "#9c179e"
             ],
             [
              0.4444444444444444,
              "#bd3786"
             ],
             [
              0.5555555555555556,
              "#d8576b"
             ],
             [
              0.6666666666666666,
              "#ed7953"
             ],
             [
              0.7777777777777778,
              "#fb9f3a"
             ],
             [
              0.8888888888888888,
              "#fdca26"
             ],
             [
              1,
              "#f0f921"
             ]
            ],
            "type": "heatmap"
           }
          ],
          "heatmapgl": [
           {
            "colorbar": {
             "outlinewidth": 0,
             "ticks": ""
            },
            "colorscale": [
             [
              0,
              "#0d0887"
             ],
             [
              0.1111111111111111,
              "#46039f"
             ],
             [
              0.2222222222222222,
              "#7201a8"
             ],
             [
              0.3333333333333333,
              "#9c179e"
             ],
             [
              0.4444444444444444,
              "#bd3786"
             ],
             [
              0.5555555555555556,
              "#d8576b"
             ],
             [
              0.6666666666666666,
              "#ed7953"
             ],
             [
              0.7777777777777778,
              "#fb9f3a"
             ],
             [
              0.8888888888888888,
              "#fdca26"
             ],
             [
              1,
              "#f0f921"
             ]
            ],
            "type": "heatmapgl"
           }
          ],
          "histogram": [
           {
            "marker": {
             "pattern": {
              "fillmode": "overlay",
              "size": 10,
              "solidity": 0.2
             }
            },
            "type": "histogram"
           }
          ],
          "histogram2d": [
           {
            "colorbar": {
             "outlinewidth": 0,
             "ticks": ""
            },
            "colorscale": [
             [
              0,
              "#0d0887"
             ],
             [
              0.1111111111111111,
              "#46039f"
             ],
             [
              0.2222222222222222,
              "#7201a8"
             ],
             [
              0.3333333333333333,
              "#9c179e"
             ],
             [
              0.4444444444444444,
              "#bd3786"
             ],
             [
              0.5555555555555556,
              "#d8576b"
             ],
             [
              0.6666666666666666,
              "#ed7953"
             ],
             [
              0.7777777777777778,
              "#fb9f3a"
             ],
             [
              0.8888888888888888,
              "#fdca26"
             ],
             [
              1,
              "#f0f921"
             ]
            ],
            "type": "histogram2d"
           }
          ],
          "histogram2dcontour": [
           {
            "colorbar": {
             "outlinewidth": 0,
             "ticks": ""
            },
            "colorscale": [
             [
              0,
              "#0d0887"
             ],
             [
              0.1111111111111111,
              "#46039f"
             ],
             [
              0.2222222222222222,
              "#7201a8"
             ],
             [
              0.3333333333333333,
              "#9c179e"
             ],
             [
              0.4444444444444444,
              "#bd3786"
             ],
             [
              0.5555555555555556,
              "#d8576b"
             ],
             [
              0.6666666666666666,
              "#ed7953"
             ],
             [
              0.7777777777777778,
              "#fb9f3a"
             ],
             [
              0.8888888888888888,
              "#fdca26"
             ],
             [
              1,
              "#f0f921"
             ]
            ],
            "type": "histogram2dcontour"
           }
          ],
          "mesh3d": [
           {
            "colorbar": {
             "outlinewidth": 0,
             "ticks": ""
            },
            "type": "mesh3d"
           }
          ],
          "parcoords": [
           {
            "line": {
             "colorbar": {
              "outlinewidth": 0,
              "ticks": ""
             }
            },
            "type": "parcoords"
           }
          ],
          "pie": [
           {
            "automargin": true,
            "type": "pie"
           }
          ],
          "scatter": [
           {
            "fillpattern": {
             "fillmode": "overlay",
             "size": 10,
             "solidity": 0.2
            },
            "type": "scatter"
           }
          ],
          "scatter3d": [
           {
            "line": {
             "colorbar": {
              "outlinewidth": 0,
              "ticks": ""
             }
            },
            "marker": {
             "colorbar": {
              "outlinewidth": 0,
              "ticks": ""
             }
            },
            "type": "scatter3d"
           }
          ],
          "scattercarpet": [
           {
            "marker": {
             "colorbar": {
              "outlinewidth": 0,
              "ticks": ""
             }
            },
            "type": "scattercarpet"
           }
          ],
          "scattergeo": [
           {
            "marker": {
             "colorbar": {
              "outlinewidth": 0,
              "ticks": ""
             }
            },
            "type": "scattergeo"
           }
          ],
          "scattergl": [
           {
            "marker": {
             "colorbar": {
              "outlinewidth": 0,
              "ticks": ""
             }
            },
            "type": "scattergl"
           }
          ],
          "scattermapbox": [
           {
            "marker": {
             "colorbar": {
              "outlinewidth": 0,
              "ticks": ""
             }
            },
            "type": "scattermapbox"
           }
          ],
          "scatterpolar": [
           {
            "marker": {
             "colorbar": {
              "outlinewidth": 0,
              "ticks": ""
             }
            },
            "type": "scatterpolar"
           }
          ],
          "scatterpolargl": [
           {
            "marker": {
             "colorbar": {
              "outlinewidth": 0,
              "ticks": ""
             }
            },
            "type": "scatterpolargl"
           }
          ],
          "scatterternary": [
           {
            "marker": {
             "colorbar": {
              "outlinewidth": 0,
              "ticks": ""
             }
            },
            "type": "scatterternary"
           }
          ],
          "surface": [
           {
            "colorbar": {
             "outlinewidth": 0,
             "ticks": ""
            },
            "colorscale": [
             [
              0,
              "#0d0887"
             ],
             [
              0.1111111111111111,
              "#46039f"
             ],
             [
              0.2222222222222222,
              "#7201a8"
             ],
             [
              0.3333333333333333,
              "#9c179e"
             ],
             [
              0.4444444444444444,
              "#bd3786"
             ],
             [
              0.5555555555555556,
              "#d8576b"
             ],
             [
              0.6666666666666666,
              "#ed7953"
             ],
             [
              0.7777777777777778,
              "#fb9f3a"
             ],
             [
              0.8888888888888888,
              "#fdca26"
             ],
             [
              1,
              "#f0f921"
             ]
            ],
            "type": "surface"
           }
          ],
          "table": [
           {
            "cells": {
             "fill": {
              "color": "#EBF0F8"
             },
             "line": {
              "color": "white"
             }
            },
            "header": {
             "fill": {
              "color": "#C8D4E3"
             },
             "line": {
              "color": "white"
             }
            },
            "type": "table"
           }
          ]
         },
         "layout": {
          "annotationdefaults": {
           "arrowcolor": "#2a3f5f",
           "arrowhead": 0,
           "arrowwidth": 1
          },
          "autotypenumbers": "strict",
          "coloraxis": {
           "colorbar": {
            "outlinewidth": 0,
            "ticks": ""
           }
          },
          "colorscale": {
           "diverging": [
            [
             0,
             "#8e0152"
            ],
            [
             0.1,
             "#c51b7d"
            ],
            [
             0.2,
             "#de77ae"
            ],
            [
             0.3,
             "#f1b6da"
            ],
            [
             0.4,
             "#fde0ef"
            ],
            [
             0.5,
             "#f7f7f7"
            ],
            [
             0.6,
             "#e6f5d0"
            ],
            [
             0.7,
             "#b8e186"
            ],
            [
             0.8,
             "#7fbc41"
            ],
            [
             0.9,
             "#4d9221"
            ],
            [
             1,
             "#276419"
            ]
           ],
           "sequential": [
            [
             0,
             "#0d0887"
            ],
            [
             0.1111111111111111,
             "#46039f"
            ],
            [
             0.2222222222222222,
             "#7201a8"
            ],
            [
             0.3333333333333333,
             "#9c179e"
            ],
            [
             0.4444444444444444,
             "#bd3786"
            ],
            [
             0.5555555555555556,
             "#d8576b"
            ],
            [
             0.6666666666666666,
             "#ed7953"
            ],
            [
             0.7777777777777778,
             "#fb9f3a"
            ],
            [
             0.8888888888888888,
             "#fdca26"
            ],
            [
             1,
             "#f0f921"
            ]
           ],
           "sequentialminus": [
            [
             0,
             "#0d0887"
            ],
            [
             0.1111111111111111,
             "#46039f"
            ],
            [
             0.2222222222222222,
             "#7201a8"
            ],
            [
             0.3333333333333333,
             "#9c179e"
            ],
            [
             0.4444444444444444,
             "#bd3786"
            ],
            [
             0.5555555555555556,
             "#d8576b"
            ],
            [
             0.6666666666666666,
             "#ed7953"
            ],
            [
             0.7777777777777778,
             "#fb9f3a"
            ],
            [
             0.8888888888888888,
             "#fdca26"
            ],
            [
             1,
             "#f0f921"
            ]
           ]
          },
          "colorway": [
           "#636efa",
           "#EF553B",
           "#00cc96",
           "#ab63fa",
           "#FFA15A",
           "#19d3f3",
           "#FF6692",
           "#B6E880",
           "#FF97FF",
           "#FECB52"
          ],
          "font": {
           "color": "#2a3f5f"
          },
          "geo": {
           "bgcolor": "white",
           "lakecolor": "white",
           "landcolor": "#E5ECF6",
           "showlakes": true,
           "showland": true,
           "subunitcolor": "white"
          },
          "hoverlabel": {
           "align": "left"
          },
          "hovermode": "closest",
          "mapbox": {
           "style": "light"
          },
          "paper_bgcolor": "white",
          "plot_bgcolor": "#E5ECF6",
          "polar": {
           "angularaxis": {
            "gridcolor": "white",
            "linecolor": "white",
            "ticks": ""
           },
           "bgcolor": "#E5ECF6",
           "radialaxis": {
            "gridcolor": "white",
            "linecolor": "white",
            "ticks": ""
           }
          },
          "scene": {
           "xaxis": {
            "backgroundcolor": "#E5ECF6",
            "gridcolor": "white",
            "gridwidth": 2,
            "linecolor": "white",
            "showbackground": true,
            "ticks": "",
            "zerolinecolor": "white"
           },
           "yaxis": {
            "backgroundcolor": "#E5ECF6",
            "gridcolor": "white",
            "gridwidth": 2,
            "linecolor": "white",
            "showbackground": true,
            "ticks": "",
            "zerolinecolor": "white"
           },
           "zaxis": {
            "backgroundcolor": "#E5ECF6",
            "gridcolor": "white",
            "gridwidth": 2,
            "linecolor": "white",
            "showbackground": true,
            "ticks": "",
            "zerolinecolor": "white"
           }
          },
          "shapedefaults": {
           "line": {
            "color": "#2a3f5f"
           }
          },
          "ternary": {
           "aaxis": {
            "gridcolor": "white",
            "linecolor": "white",
            "ticks": ""
           },
           "baxis": {
            "gridcolor": "white",
            "linecolor": "white",
            "ticks": ""
           },
           "bgcolor": "#E5ECF6",
           "caxis": {
            "gridcolor": "white",
            "linecolor": "white",
            "ticks": ""
           }
          },
          "title": {
           "x": 0.05
          },
          "xaxis": {
           "automargin": true,
           "gridcolor": "white",
           "linecolor": "white",
           "ticks": "",
           "title": {
            "standoff": 15
           },
           "zerolinecolor": "white",
           "zerolinewidth": 2
          },
          "yaxis": {
           "automargin": true,
           "gridcolor": "white",
           "linecolor": "white",
           "ticks": "",
           "title": {
            "standoff": 15
           },
           "zerolinecolor": "white",
           "zerolinewidth": 2
          }
         }
        },
        "title": {
         "text": "<b>Revenue vs. Cast Age Difference</b> by Genre"
        },
        "updatemenus": [
         {
          "buttons": [
           {
            "args": [
             null,
             {
              "frame": {
               "duration": 500,
               "redraw": false
              },
              "fromcurrent": true,
              "mode": "immediate",
              "transition": {
               "duration": 500,
               "easing": "linear"
              }
             }
            ],
            "label": "&#9654;",
            "method": "animate"
           },
           {
            "args": [
             [
              null
             ],
             {
              "frame": {
               "duration": 0,
               "redraw": false
              },
              "fromcurrent": true,
              "mode": "immediate",
              "transition": {
               "duration": 0,
               "easing": "linear"
              }
             }
            ],
            "label": "&#9724;",
            "method": "animate"
           }
          ],
          "direction": "left",
          "pad": {
           "r": 10,
           "t": 70
          },
          "showactive": false,
          "type": "buttons",
          "x": 0.1,
          "xanchor": "right",
          "y": 0,
          "yanchor": "top"
         }
        ],
        "xaxis": {
         "anchor": "y",
         "domain": [
          0,
          1
         ],
         "range": [
          19.22222222222222,
          48
         ],
         "title": {
          "text": "Cast Age Difference"
         }
        },
        "yaxis": {
         "anchor": "x",
         "domain": [
          0,
          1
         ],
         "range": [
          0,
          10.560471502200846
         ],
         "title": {
          "text": "Revenue (Adjusted by Inflation)"
         },
         "type": "log"
        }
       }
      }
     },
     "metadata": {},
     "output_type": "display_data"
    }
   ],
   "source": [
    "fig = px.scatter(\n",
    "    df_plot, x='diff_cast_age', y='revenue_ajusted', \n",
    "    color='genre', log_y=True, range_y=[df_plot['revenue_ajusted'].min()/1.4+1, df_plot['revenue_ajusted'].max()*10], animation_frame='year',\n",
    "    range_x = [df_plot['diff_cast_age'].min()-1, df_plot['diff_cast_age'].max()+1], size='year'\n",
    ")\n",
    "fig.update_layout(\n",
    "    title='<b>Revenue vs. Cast Age Difference</b> by Genre',\n",
    "    xaxis_title='Cast Age Difference',\n",
    "    yaxis_title='Revenue (Adjusted by Inflation)',\n",
    ")\n",
    "fig.show()\n"
   ]
  },
  {
   "cell_type": "code",
   "execution_count": 225,
   "metadata": {},
   "outputs": [
    {
     "data": {
      "text/plain": [
       "1902166850.451934"
      ]
     },
     "execution_count": 225,
     "metadata": {},
     "output_type": "execute_result"
    }
   ],
   "source": [
    "genre_revenue_10['drama film'][1915]"
   ]
  },
  {
   "cell_type": "code",
   "execution_count": 163,
   "metadata": {},
   "outputs": [
    {
     "data": {
      "text/plain": [
       "<AxesSubplot:>"
      ]
     },
     "execution_count": 163,
     "metadata": {},
     "output_type": "execute_result"
    },
    {
     "data": {
      "image/png": "[encoded data removed]",
      "text/plain": [
       "<Figure size 640x480 with 1 Axes>"
      ]
     },
     "metadata": {},
     "output_type": "display_data"
    }
   ],
   "source": [
    "analysis_df[analysis_df['movie_genre']=='comedy film']['movie_release_year'].hist()"
   ]
  },
  {
   "cell_type": "code",
   "execution_count": 164,
   "metadata": {},
   "outputs": [
    {
     "data": {
      "application/vnd.plotly.v1+json": {
       "config": {
        "plotlyServerURL": "https://plot.ly"
       },
       "data": [
        {
         "alignmentgroup": "True",
         "hovertemplate": "movie_genre=drama film<br>movie_release_year=%{x}<br>num_movies=%{y}<extra></extra>",
         "legendgroup": "drama film",
         "marker": {
          "color": "#636efa",
          "pattern": {
           "shape": ""
          }
         },
         "name": "drama film",
         "offsetgroup": "drama film",
         "orientation": "v",
         "showlegend": true,
         "textposition": "auto",
         "type": "bar",
         "x": [
          1915,
          1921,
          1923,
          1924,
          1925,
          1926,
          1927,
          1928,
          1929,
          1930,
          1931,
          1932,
          1933,
          1934,
          1935,
          1936,
          1937,
          1938,
          1939,
          1940,
          1941,
          1942,
          1943,
          1944,
          1945,
          1946,
          1947,
          1948,
          1949,
          1950,
          1951,
          1952,
          1953,
          1954,
          1955,
          1956,
          1957,
          1958,
          1959,
          1960,
          1961,
          1962,
          1964,
          1965,
          1966,
          1967,
          1968,
          1969,
          1970,
          1971,
          1972,
          1973,
          1974,
          1975,
          1976,
          1977,
          1978,
          1979,
          1980,
          1981,
          1982,
          1983,
          1984,
          1985,
          1986,
          1987,
          1988,
          1989,
          1990,
          1991,
          1992,
          1993,
          1994,
          1995,
          1996,
          1997,
          1998,
          1999,
          2000,
          2001,
          2002,
          2003,
          2004,
          2005,
          2006,
          2007,
          2008,
          2009,
          2010,
          2011,
          2012
         ],
         "xaxis": "x",
         "y": [
          1,
          1,
          1,
          2,
          1,
          1,
          1,
          2,
          1,
          3,
          1,
          5,
          3,
          5,
          7,
          4,
          2,
          3,
          6,
          2,
          3,
          1,
          1,
          3,
          1,
          1,
          3,
          3,
          1,
          15,
          20,
          15,
          12,
          10,
          17,
          22,
          20,
          2,
          4,
          3,
          4,
          6,
          2,
          1,
          4,
          6,
          2,
          3,
          5,
          2,
          3,
          2,
          1,
          5,
          1,
          4,
          7,
          10,
          4,
          7,
          11,
          8,
          9,
          11,
          11,
          18,
          24,
          18,
          15,
          20,
          16,
          25,
          19,
          22,
          23,
          24,
          23,
          23,
          33,
          20,
          27,
          22,
          35,
          37,
          41,
          51,
          47,
          39,
          46,
          43,
          19
         ],
         "yaxis": "y"
        }
       ],
       "frames": [
        {
         "data": [
          {
           "alignmentgroup": "True",
           "hovertemplate": "movie_genre=drama film<br>movie_release_year=%{x}<br>num_movies=%{y}<extra></extra>",
           "legendgroup": "drama film",
           "marker": {
            "color": "#636efa",
            "pattern": {
             "shape": ""
            }
           },
           "name": "drama film",
           "offsetgroup": "drama film",
           "orientation": "v",
           "showlegend": true,
           "textposition": "auto",
           "type": "bar",
           "x": [
            1915,
            1921,
            1923,
            1924,
            1925,
            1926,
            1927,
            1928,
            1929,
            1930,
            1931,
            1932,
            1933,
            1934,
            1935,
            1936,
            1937,
            1938,
            1939,
            1940,
            1941,
            1942,
            1943,
            1944,
            1945,
            1946,
            1947,
            1948,
            1949,
            1950,
            1951,
            1952,
            1953,
            1954,
            1955,
            1956,
            1957,
            1958,
            1959,
            1960,
            1961,
            1962,
            1964,
            1965,
            1966,
            1967,
            1968,
            1969,
            1970,
            1971,
            1972,
            1973,
            1974,
            1975,
            1976,
            1977,
            1978,
            1979,
            1980,
            1981,
            1982,
            1983,
            1984,
            1985,
            1986,
            1987,
            1988,
            1989,
            1990,
            1991,
            1992,
            1993,
            1994,
            1995,
            1996,
            1997,
            1998,
            1999,
            2000,
            2001,
            2002,
            2003,
            2004,
            2005,
            2006,
            2007,
            2008,
            2009,
            2010,
            2011,
            2012
           ],
           "xaxis": "x",
           "y": [
            1,
            1,
            1,
            2,
            1,
            1,
            1,
            2,
            1,
            3,
            1,
            5,
            3,
            5,
            7,
            4,
            2,
            3,
            6,
            2,
            3,
            1,
            1,
            3,
            1,
            1,
            3,
            3,
            1,
            15,
            20,
            15,
            12,
            10,
            17,
            22,
            20,
            2,
            4,
            3,
            4,
            6,
            2,
            1,
            4,
            6,
            2,
            3,
            5,
            2,
            3,
            2,
            1,
            5,
            1,
            4,
            7,
            10,
            4,
            7,
            11,
            8,
            9,
            11,
            11,
            18,
            24,
            18,
            15,
            20,
            16,
            25,
            19,
            22,
            23,
            24,
            23,
            23,
            33,
            20,
            27,
            22,
            35,
            37,
            41,
            51,
            47,
            39,
            46,
            43,
            19
           ],
           "yaxis": "y"
          }
         ],
         "name": "drama film"
        },
        {
         "data": [
          {
           "alignmentgroup": "True",
           "hovertemplate": "movie_genre=romance film<br>movie_release_year=%{x}<br>num_movies=%{y}<extra></extra>",
           "legendgroup": "romance film",
           "marker": {
            "color": "#EF553B",
            "pattern": {
             "shape": ""
            }
           },
           "name": "romance film",
           "offsetgroup": "romance film",
           "orientation": "v",
           "showlegend": true,
           "textposition": "auto",
           "type": "bar",
           "x": [
            1920,
            1921,
            1923,
            1927,
            1933,
            1935,
            1936,
            1937,
            1938,
            1939,
            1940,
            1942,
            1943,
            1944,
            1945,
            1948,
            1950,
            1951,
            1952,
            1953,
            1954,
            1955,
            1956,
            1957,
            1960,
            1962,
            1965,
            1966,
            1968,
            1970,
            1973,
            1974,
            1978,
            1979,
            1980,
            1981,
            1982,
            1983,
            1984,
            1985,
            1986,
            1987,
            1988,
            1989,
            1990,
            1991,
            1992,
            1993,
            1994,
            1995,
            1996,
            1997,
            1998,
            1999,
            2000,
            2001,
            2002,
            2003,
            2004,
            2005,
            2006,
            2007,
            2008,
            2009,
            2010,
            2011,
            2012
           ],
           "xaxis": "x",
           "y": [
            1,
            1,
            1,
            1,
            1,
            1,
            1,
            4,
            2,
            3,
            2,
            3,
            1,
            1,
            1,
            1,
            1,
            3,
            2,
            3,
            5,
            3,
            4,
            3,
            1,
            1,
            1,
            1,
            1,
            1,
            1,
            2,
            1,
            1,
            3,
            2,
            2,
            3,
            6,
            2,
            5,
            8,
            4,
            3,
            8,
            3,
            6,
            4,
            5,
            8,
            11,
            6,
            6,
            10,
            11,
            10,
            5,
            10,
            14,
            6,
            13,
            8,
            15,
            11,
            13,
            7,
            1
           ],
           "yaxis": "y"
          }
         ],
         "name": "romance film"
        },
        {
         "data": [
          {
           "alignmentgroup": "True",
           "hovertemplate": "movie_genre=comedy drama<br>movie_release_year=%{x}<br>num_movies=%{y}<extra></extra>",
           "legendgroup": "comedy drama",
           "marker": {
            "color": "#00cc96",
            "pattern": {
             "shape": ""
            }
           },
           "name": "comedy drama",
           "offsetgroup": "comedy drama",
           "orientation": "v",
           "showlegend": true,
           "textposition": "auto",
           "type": "bar",
           "x": [
            1921,
            1929,
            1930,
            1932,
            1940,
            1947,
            1950,
            1952,
            1953,
            1955,
            1956,
            1962,
            1963,
            1966,
            1967,
            1968,
            1970,
            1971,
            1972,
            1974,
            1975,
            1976,
            1977,
            1978,
            1979,
            1980,
            1981,
            1982,
            1983,
            1984,
            1985,
            1986,
            1987,
            1988,
            1989,
            1990,
            1991,
            1992,
            1993,
            1994,
            1995,
            1996,
            1997,
            1998,
            1999,
            2000,
            2001,
            2002,
            2003,
            2004,
            2005,
            2006,
            2007,
            2008,
            2009,
            2010,
            2011,
            2012
           ],
           "xaxis": "x",
           "y": [
            1,
            2,
            1,
            1,
            1,
            1,
            1,
            3,
            2,
            1,
            2,
            1,
            1,
            1,
            2,
            1,
            2,
            3,
            1,
            1,
            2,
            2,
            2,
            4,
            2,
            3,
            2,
            3,
            6,
            4,
            1,
            1,
            5,
            7,
            5,
            2,
            5,
            6,
            13,
            9,
            6,
            7,
            6,
            9,
            8,
            5,
            13,
            5,
            2,
            5,
            10,
            11,
            9,
            11,
            20,
            12,
            10,
            5
           ],
           "yaxis": "y"
          }
         ],
         "name": "comedy drama"
        },
        {
         "data": [
          {
           "alignmentgroup": "True",
           "hovertemplate": "movie_genre=romantic comedy<br>movie_release_year=%{x}<br>num_movies=%{y}<extra></extra>",
           "legendgroup": "romantic comedy",
           "marker": {
            "color": "#ab63fa",
            "pattern": {
             "shape": ""
            }
           },
           "name": "romantic comedy",
           "offsetgroup": "romantic comedy",
           "orientation": "v",
           "showlegend": true,
           "textposition": "auto",
           "type": "bar",
           "x": [
            1924,
            1926,
            1930,
            1931,
            1932,
            1933,
            1934,
            1935,
            1936,
            1937,
            1938,
            1939,
            1940,
            1941,
            1942,
            1944,
            1945,
            1946,
            1947,
            1949,
            1950,
            1951,
            1952,
            1953,
            1954,
            1955,
            1956,
            1957,
            1958,
            1959,
            1960,
            1961,
            1963,
            1964,
            1965,
            1966,
            1967,
            1968,
            1969,
            1970,
            1972,
            1973,
            1974,
            1975,
            1976,
            1977,
            1978,
            1979,
            1980,
            1981,
            1982,
            1983,
            1984,
            1985,
            1986,
            1987,
            1988,
            1989,
            1990,
            1991,
            1992,
            1993,
            1994,
            1995,
            1996,
            1997,
            1998,
            1999,
            2000,
            2001,
            2002,
            2003,
            2004,
            2005,
            2006,
            2007,
            2008,
            2009,
            2010,
            2011,
            2012
           ],
           "xaxis": "x",
           "y": [
            1,
            1,
            2,
            2,
            1,
            4,
            2,
            4,
            3,
            4,
            5,
            2,
            4,
            4,
            1,
            1,
            2,
            1,
            1,
            1,
            8,
            11,
            5,
            8,
            3,
            6,
            6,
            10,
            1,
            2,
            3,
            2,
            2,
            1,
            1,
            2,
            5,
            1,
            6,
            2,
            1,
            1,
            1,
            2,
            1,
            4,
            2,
            6,
            3,
            3,
            9,
            8,
            11,
            14,
            12,
            14,
            13,
            15,
            10,
            17,
            10,
            14,
            13,
            22,
            19,
            17,
            21,
            28,
            21,
            29,
            26,
            32,
            30,
            23,
            32,
            29,
            29,
            31,
            27,
            24,
            17
           ],
           "yaxis": "y"
          }
         ],
         "name": "romantic comedy"
        },
        {
         "data": [
          {
           "alignmentgroup": "True",
           "hovertemplate": "movie_genre=comedy film<br>movie_release_year=%{x}<br>num_movies=%{y}<extra></extra>",
           "legendgroup": "comedy film",
           "marker": {
            "color": "#FFA15A",
            "pattern": {
             "shape": ""
            }
           },
           "name": "comedy film",
           "offsetgroup": "comedy film",
           "orientation": "v",
           "showlegend": true,
           "textposition": "auto",
           "type": "bar",
           "x": [
            1925,
            1931,
            1936,
            1938,
            1939,
            1940,
            1947,
            1950,
            1951,
            1952,
            1953,
            1954,
            1955,
            1956,
            1957,
            1959,
            1960,
            1962,
            1963,
            1965,
            1966,
            1967,
            1968,
            1969,
            1970,
            1971,
            1973,
            1974,
            1975,
            1978,
            1979,
            1980,
            1981,
            1982,
            1983,
            1984,
            1985,
            1986,
            1987,
            1988,
            1989,
            1990,
            1991,
            1992,
            1993,
            1994,
            1995,
            1996,
            1997,
            1998,
            1999,
            2000,
            2001,
            2002,
            2003,
            2004,
            2005,
            2006,
            2007,
            2008,
            2009,
            2010,
            2011,
            2012
           ],
           "xaxis": "x",
           "y": [
            1,
            1,
            3,
            2,
            2,
            1,
            1,
            3,
            7,
            9,
            6,
            3,
            3,
            3,
            4,
            2,
            2,
            2,
            2,
            1,
            3,
            2,
            5,
            1,
            1,
            1,
            2,
            1,
            1,
            7,
            4,
            6,
            11,
            7,
            8,
            8,
            12,
            13,
            11,
            18,
            17,
            11,
            7,
            17,
            15,
            28,
            21,
            21,
            19,
            16,
            15,
            18,
            21,
            19,
            19,
            16,
            26,
            25,
            27,
            20,
            21,
            22,
            27,
            12
           ],
           "yaxis": "y"
          }
         ],
         "name": "comedy film"
        },
        {
         "data": [
          {
           "alignmentgroup": "True",
           "hovertemplate": "movie_genre=horror film<br>movie_release_year=%{x}<br>num_movies=%{y}<extra></extra>",
           "legendgroup": "horror film",
           "marker": {
            "color": "#19d3f3",
            "pattern": {
             "shape": ""
            }
           },
           "name": "horror film",
           "offsetgroup": "horror film",
           "orientation": "v",
           "showlegend": true,
           "textposition": "auto",
           "type": "bar",
           "x": [
            1925,
            1931,
            1932,
            1941,
            1942,
            1947,
            1951,
            1954,
            1955,
            1956,
            1958,
            1963,
            1968,
            1971,
            1972,
            1973,
            1974,
            1975,
            1976,
            1977,
            1978,
            1979,
            1980,
            1981,
            1982,
            1983,
            1984,
            1985,
            1986,
            1987,
            1988,
            1989,
            1990,
            1991,
            1992,
            1993,
            1994,
            1995,
            1996,
            1997,
            1998,
            1999,
            2000,
            2001,
            2002,
            2003,
            2004,
            2005,
            2006,
            2007,
            2008,
            2009,
            2010,
            2011,
            2012,
            2013
           ],
           "xaxis": "x",
           "y": [
            1,
            1,
            1,
            1,
            1,
            1,
            1,
            3,
            1,
            1,
            1,
            1,
            2,
            1,
            2,
            2,
            2,
            1,
            4,
            4,
            6,
            6,
            8,
            11,
            7,
            11,
            5,
            5,
            9,
            9,
            14,
            10,
            7,
            1,
            6,
            6,
            4,
            8,
            5,
            7,
            7,
            13,
            10,
            10,
            11,
            12,
            4,
            21,
            20,
            24,
            12,
            25,
            12,
            11,
            6,
            1
           ],
           "yaxis": "y"
          }
         ],
         "name": "horror film"
        },
        {
         "data": [
          {
           "alignmentgroup": "True",
           "hovertemplate": "movie_genre=crime film<br>movie_release_year=%{x}<br>num_movies=%{y}<extra></extra>",
           "legendgroup": "crime film",
           "marker": {
            "color": "#FF6692",
            "pattern": {
             "shape": ""
            }
           },
           "name": "crime film",
           "offsetgroup": "crime film",
           "orientation": "v",
           "showlegend": true,
           "textposition": "auto",
           "type": "bar",
           "x": [
            1932,
            1935,
            1936,
            1939,
            1940,
            1944,
            1945,
            1948,
            1951,
            1952,
            1953,
            1954,
            1955,
            1956,
            1957,
            1958,
            1959,
            1960,
            1966,
            1967,
            1968,
            1969,
            1971,
            1972,
            1973,
            1974,
            1975,
            1976,
            1978,
            1979,
            1980,
            1981,
            1982,
            1983,
            1984,
            1985,
            1986,
            1987,
            1988,
            1989,
            1990,
            1991,
            1992,
            1993,
            1994,
            1995,
            1996,
            1997,
            1998,
            1999,
            2000,
            2001,
            2002,
            2003,
            2004,
            2005,
            2006,
            2007,
            2008,
            2009,
            2010,
            2011,
            2012
           ],
           "xaxis": "x",
           "y": [
            1,
            1,
            3,
            1,
            1,
            1,
            1,
            1,
            3,
            2,
            1,
            2,
            3,
            2,
            2,
            1,
            2,
            1,
            2,
            2,
            3,
            1,
            1,
            1,
            1,
            2,
            3,
            2,
            4,
            1,
            1,
            3,
            3,
            3,
            6,
            4,
            10,
            10,
            3,
            8,
            7,
            12,
            13,
            8,
            5,
            5,
            10,
            6,
            10,
            9,
            10,
            7,
            13,
            4,
            7,
            10,
            10,
            10,
            11,
            9,
            6,
            5,
            5
           ],
           "yaxis": "y"
          }
         ],
         "name": "crime film"
        },
        {
         "data": [
          {
           "alignmentgroup": "True",
           "hovertemplate": "movie_genre=biographical film<br>movie_release_year=%{x}<br>num_movies=%{y}<extra></extra>",
           "legendgroup": "biographical film",
           "marker": {
            "color": "#B6E880",
            "pattern": {
             "shape": ""
            }
           },
           "name": "biographical film",
           "offsetgroup": "biographical film",
           "orientation": "v",
           "showlegend": true,
           "textposition": "auto",
           "type": "bar",
           "x": [
            1933,
            1934,
            1935,
            1937,
            1939,
            1942,
            1944,
            1945,
            1950,
            1951,
            1952,
            1953,
            1954,
            1955,
            1956,
            1957,
            1961,
            1963,
            1965,
            1966,
            1968,
            1970,
            1971,
            1972,
            1973,
            1975,
            1976,
            1978,
            1980,
            1981,
            1982,
            1983,
            1984,
            1985,
            1986,
            1987,
            1988,
            1989,
            1990,
            1991,
            1992,
            1993,
            1994,
            1995,
            1996,
            1997,
            1998,
            1999,
            2000,
            2001,
            2002,
            2003,
            2004,
            2005,
            2006,
            2007,
            2008,
            2009,
            2010,
            2011,
            2012
           ],
           "xaxis": "x",
           "y": [
            1,
            1,
            1,
            1,
            1,
            2,
            1,
            1,
            1,
            4,
            8,
            4,
            3,
            8,
            3,
            6,
            1,
            1,
            1,
            1,
            1,
            1,
            1,
            1,
            1,
            2,
            1,
            1,
            5,
            3,
            4,
            1,
            3,
            3,
            1,
            3,
            4,
            4,
            3,
            2,
            6,
            4,
            3,
            6,
            5,
            4,
            5,
            6,
            4,
            4,
            3,
            3,
            13,
            9,
            7,
            14,
            11,
            12,
            11,
            8,
            3
           ],
           "yaxis": "y"
          }
         ],
         "name": "biographical film"
        },
        {
         "data": [
          {
           "alignmentgroup": "True",
           "hovertemplate": "movie_genre=action film<br>movie_release_year=%{x}<br>num_movies=%{y}<extra></extra>",
           "legendgroup": "action film",
           "marker": {
            "color": "#FF97FF",
            "pattern": {
             "shape": ""
            }
           },
           "name": "action film",
           "offsetgroup": "action film",
           "orientation": "v",
           "showlegend": true,
           "textposition": "auto",
           "type": "bar",
           "x": [
            1937,
            1952,
            1954,
            1963,
            1965,
            1966,
            1968,
            1969,
            1971,
            1972,
            1973,
            1974,
            1975,
            1976,
            1977,
            1978,
            1979,
            1980,
            1981,
            1982,
            1983,
            1984,
            1985,
            1986,
            1987,
            1988,
            1989,
            1990,
            1991,
            1992,
            1993,
            1994,
            1995,
            1996,
            1997,
            1998,
            1999,
            2000,
            2001,
            2002,
            2003,
            2004,
            2005,
            2006,
            2007,
            2008,
            2009,
            2010,
            2011,
            2012
           ],
           "xaxis": "x",
           "y": [
            1,
            3,
            1,
            1,
            1,
            2,
            3,
            1,
            1,
            1,
            4,
            7,
            6,
            2,
            4,
            5,
            7,
            7,
            6,
            10,
            5,
            14,
            12,
            16,
            13,
            13,
            18,
            16,
            18,
            12,
            14,
            17,
            18,
            17,
            24,
            16,
            7,
            8,
            12,
            21,
            25,
            16,
            18,
            19,
            20,
            25,
            25,
            22,
            23,
            14
           ],
           "yaxis": "y"
          }
         ],
         "name": "action film"
        },
        {
         "data": [
          {
           "alignmentgroup": "True",
           "hovertemplate": "movie_genre=science fiction film<br>movie_release_year=%{x}<br>num_movies=%{y}<extra></extra>",
           "legendgroup": "science fiction film",
           "marker": {
            "color": "#FECB52",
            "pattern": {
             "shape": ""
            }
           },
           "name": "science fiction film",
           "offsetgroup": "science fiction film",
           "orientation": "v",
           "showlegend": true,
           "textposition": "auto",
           "type": "bar",
           "x": [
            1951,
            1953,
            1954,
            1955,
            1956,
            1957,
            1959,
            1960,
            1962,
            1968,
            1970,
            1971,
            1972,
            1973,
            1975,
            1977,
            1978,
            1979,
            1980,
            1981,
            1982,
            1983,
            1984,
            1985,
            1986,
            1987,
            1988,
            1989,
            1990,
            1991,
            1992,
            1993,
            1994,
            1995,
            1996,
            1997,
            1998,
            1999,
            2000,
            2001,
            2002,
            2004,
            2005,
            2006,
            2007,
            2008,
            2009,
            2010,
            2011,
            2012
           ],
           "xaxis": "x",
           "y": [
            2,
            5,
            1,
            3,
            3,
            2,
            1,
            1,
            1,
            2,
            1,
            2,
            1,
            2,
            1,
            1,
            2,
            2,
            2,
            3,
            4,
            4,
            5,
            6,
            8,
            9,
            4,
            3,
            4,
            1,
            2,
            1,
            3,
            3,
            2,
            5,
            10,
            7,
            7,
            7,
            8,
            9,
            3,
            2,
            5,
            3,
            11,
            8,
            6,
            12
           ],
           "yaxis": "y"
          }
         ],
         "name": "science fiction film"
        }
       ],
       "layout": {
        "barmode": "relative",
        "legend": {
         "title": {
          "text": "movie_genre"
         },
         "tracegroupgap": 0
        },
        "margin": {
         "t": 60
        },
        "sliders": [
         {
          "active": 0,
          "currentvalue": {
           "prefix": "movie_genre="
          },
          "len": 0.9,
          "pad": {
           "b": 10,
           "t": 60
          },
          "steps": [
           {
            "args": [
             [
              "drama film"
             ],
             {
              "frame": {
               "duration": 0,
               "redraw": true
              },
              "fromcurrent": true,
              "mode": "immediate",
              "transition": {
               "duration": 0,
               "easing": "linear"
              }
             }
            ],
            "label": "drama film",
            "method": "animate"
           },
           {
            "args": [
             [
              "romance film"
             ],
             {
              "frame": {
               "duration": 0,
               "redraw": true
              },
              "fromcurrent": true,
              "mode": "immediate",
              "transition": {
               "duration": 0,
               "easing": "linear"
              }
             }
            ],
            "label": "romance film",
            "method": "animate"
           },
           {
            "args": [
             [
              "comedy drama"
             ],
             {
              "frame": {
               "duration": 0,
               "redraw": true
              },
              "fromcurrent": true,
              "mode": "immediate",
              "transition": {
               "duration": 0,
               "easing": "linear"
              }
             }
            ],
            "label": "comedy drama",
            "method": "animate"
           },
           {
            "args": [
             [
              "romantic comedy"
             ],
             {
              "frame": {
               "duration": 0,
               "redraw": true
              },
              "fromcurrent": true,
              "mode": "immediate",
              "transition": {
               "duration": 0,
               "easing": "linear"
              }
             }
            ],
            "label": "romantic comedy",
            "method": "animate"
           },
           {
            "args": [
             [
              "comedy film"
             ],
             {
              "frame": {
               "duration": 0,
               "redraw": true
              },
              "fromcurrent": true,
              "mode": "immediate",
              "transition": {
               "duration": 0,
               "easing": "linear"
              }
             }
            ],
            "label": "comedy film",
            "method": "animate"
           },
           {
            "args": [
             [
              "horror film"
             ],
             {
              "frame": {
               "duration": 0,
               "redraw": true
              },
              "fromcurrent": true,
              "mode": "immediate",
              "transition": {
               "duration": 0,
               "easing": "linear"
              }
             }
            ],
            "label": "horror film",
            "method": "animate"
           },
           {
            "args": [
             [
              "crime film"
             ],
             {
              "frame": {
               "duration": 0,
               "redraw": true
              },
              "fromcurrent": true,
              "mode": "immediate",
              "transition": {
               "duration": 0,
               "easing": "linear"
              }
             }
            ],
            "label": "crime film",
            "method": "animate"
           },
           {
            "args": [
             [
              "biographical film"
             ],
             {
              "frame": {
               "duration": 0,
               "redraw": true
              },
              "fromcurrent": true,
              "mode": "immediate",
              "transition": {
               "duration": 0,
               "easing": "linear"
              }
             }
            ],
            "label": "biographical film",
            "method": "animate"
           },
           {
            "args": [
             [
              "action film"
             ],
             {
              "frame": {
               "duration": 0,
               "redraw": true
              },
              "fromcurrent": true,
              "mode": "immediate",
              "transition": {
               "duration": 0,
               "easing": "linear"
              }
             }
            ],
            "label": "action film",
            "method": "animate"
           },
           {
            "args": [
             [
              "science fiction film"
             ],
             {
              "frame": {
               "duration": 0,
               "redraw": true
              },
              "fromcurrent": true,
              "mode": "immediate",
              "transition": {
               "duration": 0,
               "easing": "linear"
              }
             }
            ],
            "label": "science fiction film",
            "method": "animate"
           }
          ],
          "x": 0.1,
          "xanchor": "left",
          "y": 0,
          "yanchor": "top"
         }
        ],
        "template": {
         "data": {
          "bar": [
           {
            "error_x": {
             "color": "#2a3f5f"
            },
            "error_y": {
             "color": "#2a3f5f"
            },
            "marker": {
             "line": {
              "color": "#E5ECF6",
              "width": 0.5
             },
             "pattern": {
              "fillmode": "overlay",
              "size": 10,
              "solidity": 0.2
             }
            },
            "type": "bar"
           }
          ],
          "barpolar": [
           {
            "marker": {
             "line": {
              "color": "#E5ECF6",
              "width": 0.5
             },
             "pattern": {
              "fillmode": "overlay",
              "size": 10,
              "solidity": 0.2
             }
            },
            "type": "barpolar"
           }
          ],
          "carpet": [
           {
            "aaxis": {
             "endlinecolor": "#2a3f5f",
             "gridcolor": "white",
             "linecolor": "white",
             "minorgridcolor": "white",
             "startlinecolor": "#2a3f5f"
            },
            "baxis": {
             "endlinecolor": "#2a3f5f",
             "gridcolor": "white",
             "linecolor": "white",
             "minorgridcolor": "white",
             "startlinecolor": "#2a3f5f"
            },
            "type": "carpet"
           }
          ],
          "choropleth": [
           {
            "colorbar": {
             "outlinewidth": 0,
             "ticks": ""
            },
            "type": "choropleth"
           }
          ],
          "contour": [
           {
            "colorbar": {
             "outlinewidth": 0,
             "ticks": ""
            },
            "colorscale": [
             [
              0,
              "#0d0887"
             ],
             [
              0.1111111111111111,
              "#46039f"
             ],
             [
              0.2222222222222222,
              "#7201a8"
             ],
             [
              0.3333333333333333,
              "#9c179e"
             ],
             [
              0.4444444444444444,
              "#bd3786"
             ],
             [
              0.5555555555555556,
              "#d8576b"
             ],
             [
              0.6666666666666666,
              "#ed7953"
             ],
             [
              0.7777777777777778,
              "#fb9f3a"
             ],
             [
              0.8888888888888888,
              "#fdca26"
             ],
             [
              1,
              "#f0f921"
             ]
            ],
            "type": "contour"
           }
          ],
          "contourcarpet": [
           {
            "colorbar": {
             "outlinewidth": 0,
             "ticks": ""
            },
            "type": "contourcarpet"
           }
          ],
          "heatmap": [
           {
            "colorbar": {
             "outlinewidth": 0,
             "ticks": ""
            },
            "colorscale": [
             [
              0,
              "#0d0887"
             ],
             [
              0.1111111111111111,
              "#46039f"
             ],
             [
              0.2222222222222222,
              "#7201a8"
             ],
             [
              0.3333333333333333,
              "#9c179e"
             ],
             [
              0.4444444444444444,
              "#bd3786"
             ],
             [
              0.5555555555555556,
              "#d8576b"
             ],
             [
              0.6666666666666666,
              "#ed7953"
             ],
             [
              0.7777777777777778,
              "#fb9f3a"
             ],
             [
              0.8888888888888888,
              "#fdca26"
             ],
             [
              1,
              "#f0f921"
             ]
            ],
            "type": "heatmap"
           }
          ],
          "heatmapgl": [
           {
            "colorbar": {
             "outlinewidth": 0,
             "ticks": ""
            },
            "colorscale": [
             [
              0,
              "#0d0887"
             ],
             [
              0.1111111111111111,
              "#46039f"
             ],
             [
              0.2222222222222222,
              "#7201a8"
             ],
             [
              0.3333333333333333,
              "#9c179e"
             ],
             [
              0.4444444444444444,
              "#bd3786"
             ],
             [
              0.5555555555555556,
              "#d8576b"
             ],
             [
              0.6666666666666666,
              "#ed7953"
             ],
             [
              0.7777777777777778,
              "#fb9f3a"
             ],
             [
              0.8888888888888888,
              "#fdca26"
             ],
             [
              1,
              "#f0f921"
             ]
            ],
            "type": "heatmapgl"
           }
          ],
          "histogram": [
           {
            "marker": {
             "pattern": {
              "fillmode": "overlay",
              "size": 10,
              "solidity": 0.2
             }
            },
            "type": "histogram"
           }
          ],
          "histogram2d": [
           {
            "colorbar": {
             "outlinewidth": 0,
             "ticks": ""
            },
            "colorscale": [
             [
              0,
              "#0d0887"
             ],
             [
              0.1111111111111111,
              "#46039f"
             ],
             [
              0.2222222222222222,
              "#7201a8"
             ],
             [
              0.3333333333333333,
              "#9c179e"
             ],
             [
              0.4444444444444444,
              "#bd3786"
             ],
             [
              0.5555555555555556,
              "#d8576b"
             ],
             [
              0.6666666666666666,
              "#ed7953"
             ],
             [
              0.7777777777777778,
              "#fb9f3a"
             ],
             [
              0.8888888888888888,
              "#fdca26"
             ],
             [
              1,
              "#f0f921"
             ]
            ],
            "type": "histogram2d"
           }
          ],
          "histogram2dcontour": [
           {
            "colorbar": {
             "outlinewidth": 0,
             "ticks": ""
            },
            "colorscale": [
             [
              0,
              "#0d0887"
             ],
             [
              0.1111111111111111,
              "#46039f"
             ],
             [
              0.2222222222222222,
              "#7201a8"
             ],
             [
              0.3333333333333333,
              "#9c179e"
             ],
             [
              0.4444444444444444,
              "#bd3786"
             ],
             [
              0.5555555555555556,
              "#d8576b"
             ],
             [
              0.6666666666666666,
              "#ed7953"
             ],
             [
              0.7777777777777778,
              "#fb9f3a"
             ],
             [
              0.8888888888888888,
              "#fdca26"
             ],
             [
              1,
              "#f0f921"
             ]
            ],
            "type": "histogram2dcontour"
           }
          ],
          "mesh3d": [
           {
            "colorbar": {
             "outlinewidth": 0,
             "ticks": ""
            },
            "type": "mesh3d"
           }
          ],
          "parcoords": [
           {
            "line": {
             "colorbar": {
              "outlinewidth": 0,
              "ticks": ""
             }
            },
            "type": "parcoords"
           }
          ],
          "pie": [
           {
            "automargin": true,
            "type": "pie"
           }
          ],
          "scatter": [
           {
            "fillpattern": {
             "fillmode": "overlay",
             "size": 10,
             "solidity": 0.2
            },
            "type": "scatter"
           }
          ],
          "scatter3d": [
           {
            "line": {
             "colorbar": {
              "outlinewidth": 0,
              "ticks": ""
             }
            },
            "marker": {
             "colorbar": {
              "outlinewidth": 0,
              "ticks": ""
             }
            },
            "type": "scatter3d"
           }
          ],
          "scattercarpet": [
           {
            "marker": {
             "colorbar": {
              "outlinewidth": 0,
              "ticks": ""
             }
            },
            "type": "scattercarpet"
           }
          ],
          "scattergeo": [
           {
            "marker": {
             "colorbar": {
              "outlinewidth": 0,
              "ticks": ""
             }
            },
            "type": "scattergeo"
           }
          ],
          "scattergl": [
           {
            "marker": {
             "colorbar": {
              "outlinewidth": 0,
              "ticks": ""
             }
            },
            "type": "scattergl"
           }
          ],
          "scattermapbox": [
           {
            "marker": {
             "colorbar": {
              "outlinewidth": 0,
              "ticks": ""
             }
            },
            "type": "scattermapbox"
           }
          ],
          "scatterpolar": [
           {
            "marker": {
             "colorbar": {
              "outlinewidth": 0,
              "ticks": ""
             }
            },
            "type": "scatterpolar"
           }
          ],
          "scatterpolargl": [
           {
            "marker": {
             "colorbar": {
              "outlinewidth": 0,
              "ticks": ""
             }
            },
            "type": "scatterpolargl"
           }
          ],
          "scatterternary": [
           {
            "marker": {
             "colorbar": {
              "outlinewidth": 0,
              "ticks": ""
             }
            },
            "type": "scatterternary"
           }
          ],
          "surface": [
           {
            "colorbar": {
             "outlinewidth": 0,
             "ticks": ""
            },
            "colorscale": [
             [
              0,
              "#0d0887"
             ],
             [
              0.1111111111111111,
              "#46039f"
             ],
             [
              0.2222222222222222,
              "#7201a8"
             ],
             [
              0.3333333333333333,
              "#9c179e"
             ],
             [
              0.4444444444444444,
              "#bd3786"
             ],
             [
              0.5555555555555556,
              "#d8576b"
             ],
             [
              0.6666666666666666,
              "#ed7953"
             ],
             [
              0.7777777777777778,
              "#fb9f3a"
             ],
             [
              0.8888888888888888,
              "#fdca26"
             ],
             [
              1,
              "#f0f921"
             ]
            ],
            "type": "surface"
           }
          ],
          "table": [
           {
            "cells": {
             "fill": {
              "color": "#EBF0F8"
             },
             "line": {
              "color": "white"
             }
            },
            "header": {
             "fill": {
              "color": "#C8D4E3"
             },
             "line": {
              "color": "white"
             }
            },
            "type": "table"
           }
          ]
         },
         "layout": {
          "annotationdefaults": {
           "arrowcolor": "#2a3f5f",
           "arrowhead": 0,
           "arrowwidth": 1
          },
          "autotypenumbers": "strict",
          "coloraxis": {
           "colorbar": {
            "outlinewidth": 0,
            "ticks": ""
           }
          },
          "colorscale": {
           "diverging": [
            [
             0,
             "#8e0152"
            ],
            [
             0.1,
             "#c51b7d"
            ],
            [
             0.2,
             "#de77ae"
            ],
            [
             0.3,
             "#f1b6da"
            ],
            [
             0.4,
             "#fde0ef"
            ],
            [
             0.5,
             "#f7f7f7"
            ],
            [
             0.6,
             "#e6f5d0"
            ],
            [
             0.7,
             "#b8e186"
            ],
            [
             0.8,
             "#7fbc41"
            ],
            [
             0.9,
             "#4d9221"
            ],
            [
             1,
             "#276419"
            ]
           ],
           "sequential": [
            [
             0,
             "#0d0887"
            ],
            [
             0.1111111111111111,
             "#46039f"
            ],
            [
             0.2222222222222222,
             "#7201a8"
            ],
            [
             0.3333333333333333,
             "#9c179e"
            ],
            [
             0.4444444444444444,
             "#bd3786"
            ],
            [
             0.5555555555555556,
             "#d8576b"
            ],
            [
             0.6666666666666666,
             "#ed7953"
            ],
            [
             0.7777777777777778,
             "#fb9f3a"
            ],
            [
             0.8888888888888888,
             "#fdca26"
            ],
            [
             1,
             "#f0f921"
            ]
           ],
           "sequentialminus": [
            [
             0,
             "#0d0887"
            ],
            [
             0.1111111111111111,
             "#46039f"
            ],
            [
             0.2222222222222222,
             "#7201a8"
            ],
            [
             0.3333333333333333,
             "#9c179e"
            ],
            [
             0.4444444444444444,
             "#bd3786"
            ],
            [
             0.5555555555555556,
             "#d8576b"
            ],
            [
             0.6666666666666666,
             "#ed7953"
            ],
            [
             0.7777777777777778,
             "#fb9f3a"
            ],
            [
             0.8888888888888888,
             "#fdca26"
            ],
            [
             1,
             "#f0f921"
            ]
           ]
          },
          "colorway": [
           "#636efa",
           "#EF553B",
           "#00cc96",
           "#ab63fa",
           "#FFA15A",
           "#19d3f3",
           "#FF6692",
           "#B6E880",
           "#FF97FF",
           "#FECB52"
          ],
          "font": {
           "color": "#2a3f5f"
          },
          "geo": {
           "bgcolor": "white",
           "lakecolor": "white",
           "landcolor": "#E5ECF6",
           "showlakes": true,
           "showland": true,
           "subunitcolor": "white"
          },
          "hoverlabel": {
           "align": "left"
          },
          "hovermode": "closest",
          "mapbox": {
           "style": "light"
          },
          "paper_bgcolor": "white",
          "plot_bgcolor": "#E5ECF6",
          "polar": {
           "angularaxis": {
            "gridcolor": "white",
            "linecolor": "white",
            "ticks": ""
           },
           "bgcolor": "#E5ECF6",
           "radialaxis": {
            "gridcolor": "white",
            "linecolor": "white",
            "ticks": ""
           }
          },
          "scene": {
           "xaxis": {
            "backgroundcolor": "#E5ECF6",
            "gridcolor": "white",
            "gridwidth": 2,
            "linecolor": "white",
            "showbackground": true,
            "ticks": "",
            "zerolinecolor": "white"
           },
           "yaxis": {
            "backgroundcolor": "#E5ECF6",
            "gridcolor": "white",
            "gridwidth": 2,
            "linecolor": "white",
            "showbackground": true,
            "ticks": "",
            "zerolinecolor": "white"
           },
           "zaxis": {
            "backgroundcolor": "#E5ECF6",
            "gridcolor": "white",
            "gridwidth": 2,
            "linecolor": "white",
            "showbackground": true,
            "ticks": "",
            "zerolinecolor": "white"
           }
          },
          "shapedefaults": {
           "line": {
            "color": "#2a3f5f"
           }
          },
          "ternary": {
           "aaxis": {
            "gridcolor": "white",
            "linecolor": "white",
            "ticks": ""
           },
           "baxis": {
            "gridcolor": "white",
            "linecolor": "white",
            "ticks": ""
           },
           "bgcolor": "#E5ECF6",
           "caxis": {
            "gridcolor": "white",
            "linecolor": "white",
            "ticks": ""
           }
          },
          "title": {
           "x": 0.05
          },
          "xaxis": {
           "automargin": true,
           "gridcolor": "white",
           "linecolor": "white",
           "ticks": "",
           "title": {
            "standoff": 15
           },
           "zerolinecolor": "white",
           "zerolinewidth": 2
          },
          "yaxis": {
           "automargin": true,
           "gridcolor": "white",
           "linecolor": "white",
           "ticks": "",
           "title": {
            "standoff": 15
           },
           "zerolinecolor": "white",
           "zerolinewidth": 2
          }
         }
        },
        "updatemenus": [
         {
          "buttons": [
           {
            "args": [
             null,
             {
              "frame": {
               "duration": 500,
               "redraw": true
              },
              "fromcurrent": true,
              "mode": "immediate",
              "transition": {
               "duration": 500,
               "easing": "linear"
              }
             }
            ],
            "label": "&#9654;",
            "method": "animate"
           },
           {
            "args": [
             [
              null
             ],
             {
              "frame": {
               "duration": 0,
               "redraw": true
              },
              "fromcurrent": true,
              "mode": "immediate",
              "transition": {
               "duration": 0,
               "easing": "linear"
              }
             }
            ],
            "label": "&#9724;",
            "method": "animate"
           }
          ],
          "direction": "left",
          "pad": {
           "r": 10,
           "t": 70
          },
          "showactive": false,
          "type": "buttons",
          "x": 0.1,
          "xanchor": "right",
          "y": 0,
          "yanchor": "top"
         }
        ],
        "xaxis": {
         "anchor": "y",
         "domain": [
          0,
          1
         ],
         "title": {
          "text": "movie_release_year"
         }
        },
        "yaxis": {
         "anchor": "x",
         "domain": [
          0,
          1
         ],
         "range": [
          0,
          1.4771212547196624
         ],
         "title": {
          "text": "num_movies"
         },
         "type": "log"
        }
       }
      }
     },
     "metadata": {},
     "output_type": "display_data"
    }
   ],
   "source": [
    "\n",
    "p = px.bar(\n",
    "    num_movies_per_genre_per_year,\n",
    "    x = 'movie_release_year',\n",
    "    y = 'num_movies',\n",
    "    animation_frame='movie_genre',\n",
    "    range_y=[1, 30],\n",
    "    log_y=True,\n",
    "    color='movie_genre',\n",
    ")\n",
    "p.show()"
   ]
  },
  {
   "cell_type": "code",
   "execution_count": 165,
   "metadata": {},
   "outputs": [
    {
     "data": {
      "image/png": "[encoded data removed]",
      "text/plain": [
       "<Figure size 640x480 with 1 Axes>"
      ]
     },
     "metadata": {},
     "output_type": "display_data"
    }
   ],
   "source": [
    "sns.scatterplot(data=analysis_df.query('movie_release_year==2000'), x='mean_cast_age', y='movie_box_office_revenue', hue='movie_genre')\n",
    "plt.yscale('log')"
   ]
  },
  {
   "cell_type": "code",
   "execution_count": 166,
   "metadata": {},
   "outputs": [
    {
     "data": {
      "text/plain": [
       "<AxesSubplot:xlabel='mean_cast_age', ylabel='Count'>"
      ]
     },
     "execution_count": 166,
     "metadata": {},
     "output_type": "execute_result"
    },
    {
     "data": {
      "image/png": "[encoded data removed]",
      "text/plain": [
       "<Figure size 640x480 with 1 Axes>"
      ]
     },
     "metadata": {},
     "output_type": "display_data"
    }
   ],
   "source": [
    "sns.histplot(data=analysis_df, x='mean_cast_age' ,multiple='stack')"
   ]
  },
  {
   "cell_type": "code",
   "execution_count": 167,
   "metadata": {},
   "outputs": [
    {
     "data": {
      "text/plain": [
       "<AxesSubplot:xlabel='movie_release_year', ylabel='Count'>"
      ]
     },
     "execution_count": 167,
     "metadata": {},
     "output_type": "execute_result"
    },
    {
     "data": {
      "image/png": "[encoded data removed]",
      "text/plain": [
       "<Figure size 640x480 with 1 Axes>"
      ]
     },
     "metadata": {},
     "output_type": "display_data"
    }
   ],
   "source": [
    "sns.histplot(data=analysis_df, x='movie_release_year')"
   ]
  },
  {
   "cell_type": "code",
   "execution_count": 168,
   "metadata": {},
   "outputs": [
    {
     "data": {
      "text/html": [
       "<div>\n",
       "<style scoped>\n",
       "    .dataframe tbody tr th:only-of-type {\n",
       "        vertical-align: middle;\n",
       "    }\n",
       "\n",
       "    .dataframe tbody tr th {\n",
       "        vertical-align: top;\n",
       "    }\n",
       "\n",
       "    .dataframe thead th {\n",
       "        text-align: right;\n",
       "    }\n",
       "</style>\n",
       "<table border=\"1\" class=\"dataframe\">\n",
       "  <thead>\n",
       "    <tr style=\"text-align: right;\">\n",
       "      <th></th>\n",
       "      <th>movie_id</th>\n",
       "      <th>cast_0_age_at_release</th>\n",
       "      <th>cast_1_age_at_release</th>\n",
       "      <th>cast_2_age_at_release</th>\n",
       "      <th>cast_3_age_at_release</th>\n",
       "      <th>cast_4_age_at_release</th>\n",
       "      <th>movie_release</th>\n",
       "      <th>movie_genre</th>\n",
       "      <th>Freebase Movie ID</th>\n",
       "      <th>movie_release_year</th>\n",
       "      <th>num_movies_in_this_genre</th>\n",
       "      <th>mean_cast_age</th>\n",
       "      <th>diff_cast_age</th>\n",
       "      <th>movie_box_office_revenue</th>\n",
       "      <th>cpi</th>\n",
       "      <th>multiplier</th>\n",
       "      <th>movie_box_office_revenue_adj</th>\n",
       "    </tr>\n",
       "  </thead>\n",
       "  <tbody>\n",
       "    <tr>\n",
       "      <th>0</th>\n",
       "      <td>Q220394</td>\n",
       "      <td>22.0</td>\n",
       "      <td>21.0</td>\n",
       "      <td>24.0</td>\n",
       "      <td>37.0</td>\n",
       "      <td>43.0</td>\n",
       "      <td>1915-01-01</td>\n",
       "      <td>drama film</td>\n",
       "      <td>/m/0151l</td>\n",
       "      <td>1915</td>\n",
       "      <td>1068</td>\n",
       "      <td>29.4</td>\n",
       "      <td>22.0</td>\n",
       "      <td>50000000.0</td>\n",
       "      <td>10.108333</td>\n",
       "      <td>29.455613</td>\n",
       "      <td>1.472781e+09</td>\n",
       "    </tr>\n",
       "    <tr>\n",
       "      <th>1</th>\n",
       "      <td>Q1187189</td>\n",
       "      <td>27.0</td>\n",
       "      <td>25.0</td>\n",
       "      <td>35.0</td>\n",
       "      <td>58.0</td>\n",
       "      <td>60.0</td>\n",
       "      <td>1920-01-01</td>\n",
       "      <td>romance film</td>\n",
       "      <td>/m/0c5ppr</td>\n",
       "      <td>1920</td>\n",
       "      <td>289</td>\n",
       "      <td>41.0</td>\n",
       "      <td>35.0</td>\n",
       "      <td>4500000.0</td>\n",
       "      <td>20.041667</td>\n",
       "      <td>14.864445</td>\n",
       "      <td>6.689000e+07</td>\n",
       "    </tr>\n",
       "    <tr>\n",
       "      <th>2</th>\n",
       "      <td>Q374172</td>\n",
       "      <td>26.0</td>\n",
       "      <td>7.0</td>\n",
       "      <td>32.0</td>\n",
       "      <td>53.0</td>\n",
       "      <td>13.0</td>\n",
       "      <td>1921-01-01</td>\n",
       "      <td>comedy drama</td>\n",
       "      <td>/m/04vl27</td>\n",
       "      <td>1921</td>\n",
       "      <td>267</td>\n",
       "      <td>26.2</td>\n",
       "      <td>46.0</td>\n",
       "      <td>2500000.0</td>\n",
       "      <td>17.850000</td>\n",
       "      <td>16.690249</td>\n",
       "      <td>4.172562e+07</td>\n",
       "    </tr>\n",
       "    <tr>\n",
       "      <th>3</th>\n",
       "      <td>Q2408008</td>\n",
       "      <td>29.0</td>\n",
       "      <td>51.0</td>\n",
       "      <td>43.0</td>\n",
       "      <td>13.0</td>\n",
       "      <td>33.0</td>\n",
       "      <td>1921-01-01</td>\n",
       "      <td>drama film</td>\n",
       "      <td>/m/05b_29y</td>\n",
       "      <td>1921</td>\n",
       "      <td>1068</td>\n",
       "      <td>33.8</td>\n",
       "      <td>38.0</td>\n",
       "      <td>900000.0</td>\n",
       "      <td>17.850000</td>\n",
       "      <td>16.690249</td>\n",
       "      <td>1.502122e+07</td>\n",
       "    </tr>\n",
       "    <tr>\n",
       "      <th>4</th>\n",
       "      <td>Q1219825</td>\n",
       "      <td>55.0</td>\n",
       "      <td>30.0</td>\n",
       "      <td>26.0</td>\n",
       "      <td>36.0</td>\n",
       "      <td>22.0</td>\n",
       "      <td>1921-01-01</td>\n",
       "      <td>romance film</td>\n",
       "      <td>/m/06pkq3</td>\n",
       "      <td>1921</td>\n",
       "      <td>289</td>\n",
       "      <td>33.8</td>\n",
       "      <td>33.0</td>\n",
       "      <td>4500000.0</td>\n",
       "      <td>17.850000</td>\n",
       "      <td>16.690249</td>\n",
       "      <td>7.510612e+07</td>\n",
       "    </tr>\n",
       "    <tr>\n",
       "      <th>...</th>\n",
       "      <td>...</td>\n",
       "      <td>...</td>\n",
       "      <td>...</td>\n",
       "      <td>...</td>\n",
       "      <td>...</td>\n",
       "      <td>...</td>\n",
       "      <td>...</td>\n",
       "      <td>...</td>\n",
       "      <td>...</td>\n",
       "      <td>...</td>\n",
       "      <td>...</td>\n",
       "      <td>...</td>\n",
       "      <td>...</td>\n",
       "      <td>...</td>\n",
       "      <td>...</td>\n",
       "      <td>...</td>\n",
       "      <td>...</td>\n",
       "    </tr>\n",
       "    <tr>\n",
       "      <th>4709</th>\n",
       "      <td>Q634810</td>\n",
       "      <td>36.0</td>\n",
       "      <td>39.0</td>\n",
       "      <td>30.0</td>\n",
       "      <td>56.0</td>\n",
       "      <td>40.0</td>\n",
       "      <td>2012-08-03</td>\n",
       "      <td>action film</td>\n",
       "      <td>/m/0gvrws1</td>\n",
       "      <td>2012</td>\n",
       "      <td>571</td>\n",
       "      <td>40.2</td>\n",
       "      <td>26.0</td>\n",
       "      <td>178454768.0</td>\n",
       "      <td>229.593917</td>\n",
       "      <td>1.296727</td>\n",
       "      <td>2.314070e+08</td>\n",
       "    </tr>\n",
       "    <tr>\n",
       "      <th>4710</th>\n",
       "      <td>Q28936</td>\n",
       "      <td>56.0</td>\n",
       "      <td>52.0</td>\n",
       "      <td>46.0</td>\n",
       "      <td>63.0</td>\n",
       "      <td>52.0</td>\n",
       "      <td>2012-11-15</td>\n",
       "      <td>science fiction film</td>\n",
       "      <td>/m/0gh65c5</td>\n",
       "      <td>2012</td>\n",
       "      <td>200</td>\n",
       "      <td>53.8</td>\n",
       "      <td>17.0</td>\n",
       "      <td>12161038.0</td>\n",
       "      <td>229.593917</td>\n",
       "      <td>1.296727</td>\n",
       "      <td>1.576954e+07</td>\n",
       "    </tr>\n",
       "    <tr>\n",
       "      <th>4711</th>\n",
       "      <td>Q32535</td>\n",
       "      <td>46.0</td>\n",
       "      <td>45.0</td>\n",
       "      <td>47.0</td>\n",
       "      <td>34.0</td>\n",
       "      <td>26.0</td>\n",
       "      <td>2012-09-27</td>\n",
       "      <td>comedy drama</td>\n",
       "      <td>/m/0gwgn1k</td>\n",
       "      <td>2012</td>\n",
       "      <td>267</td>\n",
       "      <td>39.6</td>\n",
       "      <td>21.0</td>\n",
       "      <td>56717974.0</td>\n",
       "      <td>229.593917</td>\n",
       "      <td>1.296727</td>\n",
       "      <td>7.354770e+07</td>\n",
       "    </tr>\n",
       "    <tr>\n",
       "      <th>4712</th>\n",
       "      <td>Q283586</td>\n",
       "      <td>38.0</td>\n",
       "      <td>45.0</td>\n",
       "      <td>38.0</td>\n",
       "      <td>45.0</td>\n",
       "      <td>31.0</td>\n",
       "      <td>2012-09-11</td>\n",
       "      <td>drama film</td>\n",
       "      <td>/m/0gvt53w</td>\n",
       "      <td>2012</td>\n",
       "      <td>1068</td>\n",
       "      <td>39.4</td>\n",
       "      <td>14.0</td>\n",
       "      <td>15219000.0</td>\n",
       "      <td>229.593917</td>\n",
       "      <td>1.296727</td>\n",
       "      <td>1.973488e+07</td>\n",
       "    </tr>\n",
       "    <tr>\n",
       "      <th>4713</th>\n",
       "      <td>Q107325</td>\n",
       "      <td>55.0</td>\n",
       "      <td>42.0</td>\n",
       "      <td>76.0</td>\n",
       "      <td>49.0</td>\n",
       "      <td>56.0</td>\n",
       "      <td>2013-11-13</td>\n",
       "      <td>horror film</td>\n",
       "      <td>/m/01xq8v</td>\n",
       "      <td>2013</td>\n",
       "      <td>376</td>\n",
       "      <td>55.6</td>\n",
       "      <td>34.0</td>\n",
       "      <td>215862692.0</td>\n",
       "      <td>232.957083</td>\n",
       "      <td>1.277987</td>\n",
       "      <td>2.758698e+08</td>\n",
       "    </tr>\n",
       "  </tbody>\n",
       "</table>\n",
       "<p>4714 rows × 17 columns</p>\n",
       "</div>"
      ],
      "text/plain": [
       "      movie_id  cast_0_age_at_release  cast_1_age_at_release  \\\n",
       "0      Q220394                   22.0                   21.0   \n",
       "1     Q1187189                   27.0                   25.0   \n",
       "2      Q374172                   26.0                    7.0   \n",
       "3     Q2408008                   29.0                   51.0   \n",
       "4     Q1219825                   55.0                   30.0   \n",
       "...        ...                    ...                    ...   \n",
       "4709   Q634810                   36.0                   39.0   \n",
       "4710    Q28936                   56.0                   52.0   \n",
       "4711    Q32535                   46.0                   45.0   \n",
       "4712   Q283586                   38.0                   45.0   \n",
       "4713   Q107325                   55.0                   42.0   \n",
       "\n",
       "      cast_2_age_at_release  cast_3_age_at_release  cast_4_age_at_release  \\\n",
       "0                      24.0                   37.0                   43.0   \n",
       "1                      35.0                   58.0                   60.0   \n",
       "2                      32.0                   53.0                   13.0   \n",
       "3                      43.0                   13.0                   33.0   \n",
       "4                      26.0                   36.0                   22.0   \n",
       "...                     ...                    ...                    ...   \n",
       "4709                   30.0                   56.0                   40.0   \n",
       "4710                   46.0                   63.0                   52.0   \n",
       "4711                   47.0                   34.0                   26.0   \n",
       "4712                   38.0                   45.0                   31.0   \n",
       "4713                   76.0                   49.0                   56.0   \n",
       "\n",
       "     movie_release           movie_genre Freebase Movie ID  \\\n",
       "0       1915-01-01            drama film          /m/0151l   \n",
       "1       1920-01-01          romance film         /m/0c5ppr   \n",
       "2       1921-01-01          comedy drama         /m/04vl27   \n",
       "3       1921-01-01            drama film        /m/05b_29y   \n",
       "4       1921-01-01          romance film         /m/06pkq3   \n",
       "...            ...                   ...               ...   \n",
       "4709    2012-08-03           action film        /m/0gvrws1   \n",
       "4710    2012-11-15  science fiction film        /m/0gh65c5   \n",
       "4711    2012-09-27          comedy drama        /m/0gwgn1k   \n",
       "4712    2012-09-11            drama film        /m/0gvt53w   \n",
       "4713    2013-11-13           horror film         /m/01xq8v   \n",
       "\n",
       "      movie_release_year  num_movies_in_this_genre  mean_cast_age  \\\n",
       "0                   1915                      1068           29.4   \n",
       "1                   1920                       289           41.0   \n",
       "2                   1921                       267           26.2   \n",
       "3                   1921                      1068           33.8   \n",
       "4                   1921                       289           33.8   \n",
       "...                  ...                       ...            ...   \n",
       "4709                2012                       571           40.2   \n",
       "4710                2012                       200           53.8   \n",
       "4711                2012                       267           39.6   \n",
       "4712                2012                      1068           39.4   \n",
       "4713                2013                       376           55.6   \n",
       "\n",
       "      diff_cast_age  movie_box_office_revenue         cpi  multiplier  \\\n",
       "0              22.0                50000000.0   10.108333   29.455613   \n",
       "1              35.0                 4500000.0   20.041667   14.864445   \n",
       "2              46.0                 2500000.0   17.850000   16.690249   \n",
       "3              38.0                  900000.0   17.850000   16.690249   \n",
       "4              33.0                 4500000.0   17.850000   16.690249   \n",
       "...             ...                       ...         ...         ...   \n",
       "4709           26.0               178454768.0  229.593917    1.296727   \n",
       "4710           17.0                12161038.0  229.593917    1.296727   \n",
       "4711           21.0                56717974.0  229.593917    1.296727   \n",
       "4712           14.0                15219000.0  229.593917    1.296727   \n",
       "4713           34.0               215862692.0  232.957083    1.277987   \n",
       "\n",
       "      movie_box_office_revenue_adj  \n",
       "0                     1.472781e+09  \n",
       "1                     6.689000e+07  \n",
       "2                     4.172562e+07  \n",
       "3                     1.502122e+07  \n",
       "4                     7.510612e+07  \n",
       "...                            ...  \n",
       "4709                  2.314070e+08  \n",
       "4710                  1.576954e+07  \n",
       "4711                  7.354770e+07  \n",
       "4712                  1.973488e+07  \n",
       "4713                  2.758698e+08  \n",
       "\n",
       "[4714 rows x 17 columns]"
      ]
     },
     "execution_count": 168,
     "metadata": {},
     "output_type": "execute_result"
    }
   ],
   "source": [
    "analysis_df"
   ]
  },
  {
   "cell_type": "code",
   "execution_count": 169,
   "metadata": {},
   "outputs": [
    {
     "data": {
      "text/html": [
       "<table class=\"simpletable\">\n",
       "<caption>OLS Regression Results</caption>\n",
       "<tr>\n",
       "  <th>Dep. Variable:</th>    <td>movie_box_office_revenue</td> <th>  R-squared:         </th> <td>   0.070</td> \n",
       "</tr>\n",
       "<tr>\n",
       "  <th>Model:</th>                       <td>OLS</td>           <th>  Adj. R-squared:    </th> <td>   0.068</td> \n",
       "</tr>\n",
       "<tr>\n",
       "  <th>Method:</th>                 <td>Least Squares</td>      <th>  F-statistic:       </th> <td>   35.18</td> \n",
       "</tr>\n",
       "<tr>\n",
       "  <th>Date:</th>                 <td>Wed, 21 Dec 2022</td>     <th>  Prob (F-statistic):</th> <td>6.52e-67</td> \n",
       "</tr>\n",
       "<tr>\n",
       "  <th>Time:</th>                     <td>12:44:51</td>         <th>  Log-Likelihood:    </th> <td> -93502.</td> \n",
       "</tr>\n",
       "<tr>\n",
       "  <th>No. Observations:</th>          <td>  4714</td>          <th>  AIC:               </th> <td>1.870e+05</td>\n",
       "</tr>\n",
       "<tr>\n",
       "  <th>Df Residuals:</th>              <td>  4703</td>          <th>  BIC:               </th> <td>1.871e+05</td>\n",
       "</tr>\n",
       "<tr>\n",
       "  <th>Df Model:</th>                  <td>    10</td>          <th>                     </th>     <td> </td>    \n",
       "</tr>\n",
       "<tr>\n",
       "  <th>Covariance Type:</th>          <td>nonrobust</td>        <th>                     </th>     <td> </td>    \n",
       "</tr>\n",
       "</table>\n",
       "<table class=\"simpletable\">\n",
       "<tr>\n",
       "                                           <td></td>                                              <th>coef</th>     <th>std err</th>      <th>t</th>      <th>P>|t|</th>  <th>[0.025</th>    <th>0.975]</th>  \n",
       "</tr>\n",
       "<tr>\n",
       "  <th>Intercept</th>                                                                           <td> 4.487e+07</td> <td> 3.14e+06</td> <td>   14.275</td> <td> 0.000</td> <td> 3.87e+07</td> <td>  5.1e+07</td>\n",
       "</tr>\n",
       "<tr>\n",
       "  <th>diff_cast_age:mean_cast_age:movie_release_year:C(movie_genre)[action film]</th>          <td>   23.3271</td> <td>    2.076</td> <td>   11.236</td> <td> 0.000</td> <td>   19.257</td> <td>   27.397</td>\n",
       "</tr>\n",
       "<tr>\n",
       "  <th>diff_cast_age:mean_cast_age:movie_release_year:C(movie_genre)[biographical film]</th>    <td>   -3.9183</td> <td>    2.648</td> <td>   -1.480</td> <td> 0.139</td> <td>   -9.110</td> <td>    1.274</td>\n",
       "</tr>\n",
       "<tr>\n",
       "  <th>diff_cast_age:mean_cast_age:movie_release_year:C(movie_genre)[comedy drama]</th>         <td>   -6.3621</td> <td>    2.342</td> <td>   -2.716</td> <td> 0.007</td> <td>  -10.954</td> <td>   -1.770</td>\n",
       "</tr>\n",
       "<tr>\n",
       "  <th>diff_cast_age:mean_cast_age:movie_release_year:C(movie_genre)[comedy film]</th>          <td>   -0.1765</td> <td>    1.784</td> <td>   -0.099</td> <td> 0.921</td> <td>   -3.673</td> <td>    3.320</td>\n",
       "</tr>\n",
       "<tr>\n",
       "  <th>diff_cast_age:mean_cast_age:movie_release_year:C(movie_genre)[crime film]</th>           <td>   -1.6124</td> <td>    2.576</td> <td>   -0.626</td> <td> 0.531</td> <td>   -6.663</td> <td>    3.438</td>\n",
       "</tr>\n",
       "<tr>\n",
       "  <th>diff_cast_age:mean_cast_age:movie_release_year:C(movie_genre)[drama film]</th>           <td>   -7.4991</td> <td>    1.505</td> <td>   -4.983</td> <td> 0.000</td> <td>  -10.450</td> <td>   -4.548</td>\n",
       "</tr>\n",
       "<tr>\n",
       "  <th>diff_cast_age:mean_cast_age:movie_release_year:C(movie_genre)[horror film]</th>          <td>   -0.2527</td> <td>    2.260</td> <td>   -0.112</td> <td> 0.911</td> <td>   -4.683</td> <td>    4.178</td>\n",
       "</tr>\n",
       "<tr>\n",
       "  <th>diff_cast_age:mean_cast_age:movie_release_year:C(movie_genre)[romance film]</th>         <td>   -2.0290</td> <td>    2.474</td> <td>   -0.820</td> <td> 0.412</td> <td>   -6.879</td> <td>    2.821</td>\n",
       "</tr>\n",
       "<tr>\n",
       "  <th>diff_cast_age:mean_cast_age:movie_release_year:C(movie_genre)[romantic comedy]</th>      <td>    0.5568</td> <td>    1.801</td> <td>    0.309</td> <td> 0.757</td> <td>   -2.973</td> <td>    4.087</td>\n",
       "</tr>\n",
       "<tr>\n",
       "  <th>diff_cast_age:mean_cast_age:movie_release_year:C(movie_genre)[science fiction film]</th> <td>   27.6587</td> <td>    2.812</td> <td>    9.837</td> <td> 0.000</td> <td>   22.147</td> <td>   33.171</td>\n",
       "</tr>\n",
       "</table>\n",
       "<table class=\"simpletable\">\n",
       "<tr>\n",
       "  <th>Omnibus:</th>       <td>6495.752</td> <th>  Durbin-Watson:     </th>  <td>   1.921</td>  \n",
       "</tr>\n",
       "<tr>\n",
       "  <th>Prob(Omnibus):</th>  <td> 0.000</td>  <th>  Jarque-Bera (JB):  </th> <td>3650036.194</td>\n",
       "</tr>\n",
       "<tr>\n",
       "  <th>Skew:</th>           <td> 7.612</td>  <th>  Prob(JB):          </th>  <td>    0.00</td>  \n",
       "</tr>\n",
       "<tr>\n",
       "  <th>Kurtosis:</th>       <td>138.467</td> <th>  Cond. No.          </th>  <td>2.84e+06</td>  \n",
       "</tr>\n",
       "</table><br/><br/>Notes:<br/>[1] Standard Errors assume that the covariance matrix of the errors is correctly specified.<br/>[2] The condition number is large, 2.84e+06. This might indicate that there are<br/>strong multicollinearity or other numerical problems."
      ],
      "text/plain": [
       "<class 'statsmodels.iolib.summary.Summary'>\n",
       "\"\"\"\n",
       "                               OLS Regression Results                               \n",
       "====================================================================================\n",
       "Dep. Variable:     movie_box_office_revenue   R-squared:                       0.070\n",
       "Model:                                  OLS   Adj. R-squared:                  0.068\n",
       "Method:                       Least Squares   F-statistic:                     35.18\n",
       "Date:                      Wed, 21 Dec 2022   Prob (F-statistic):           6.52e-67\n",
       "Time:                              12:44:51   Log-Likelihood:                -93502.\n",
       "No. Observations:                      4714   AIC:                         1.870e+05\n",
       "Df Residuals:                          4703   BIC:                         1.871e+05\n",
       "Df Model:                                10                                         \n",
       "Covariance Type:                  nonrobust                                         \n",
       "=======================================================================================================================================================\n",
       "                                                                                          coef    std err          t      P>|t|      [0.025      0.975]\n",
       "-------------------------------------------------------------------------------------------------------------------------------------------------------\n",
       "Intercept                                                                            4.487e+07   3.14e+06     14.275      0.000    3.87e+07     5.1e+07\n",
       "diff_cast_age:mean_cast_age:movie_release_year:C(movie_genre)[action film]             23.3271      2.076     11.236      0.000      19.257      27.397\n",
       "diff_cast_age:mean_cast_age:movie_release_year:C(movie_genre)[biographical film]       -3.9183      2.648     -1.480      0.139      -9.110       1.274\n",
       "diff_cast_age:mean_cast_age:movie_release_year:C(movie_genre)[comedy drama]            -6.3621      2.342     -2.716      0.007     -10.954      -1.770\n",
       "diff_cast_age:mean_cast_age:movie_release_year:C(movie_genre)[comedy film]             -0.1765      1.784     -0.099      0.921      -3.673       3.320\n",
       "diff_cast_age:mean_cast_age:movie_release_year:C(movie_genre)[crime film]              -1.6124      2.576     -0.626      0.531      -6.663       3.438\n",
       "diff_cast_age:mean_cast_age:movie_release_year:C(movie_genre)[drama film]              -7.4991      1.505     -4.983      0.000     -10.450      -4.548\n",
       "diff_cast_age:mean_cast_age:movie_release_year:C(movie_genre)[horror film]             -0.2527      2.260     -0.112      0.911      -4.683       4.178\n",
       "diff_cast_age:mean_cast_age:movie_release_year:C(movie_genre)[romance film]            -2.0290      2.474     -0.820      0.412      -6.879       2.821\n",
       "diff_cast_age:mean_cast_age:movie_release_year:C(movie_genre)[romantic comedy]          0.5568      1.801      0.309      0.757      -2.973       4.087\n",
       "diff_cast_age:mean_cast_age:movie_release_year:C(movie_genre)[science fiction film]    27.6587      2.812      9.837      0.000      22.147      33.171\n",
       "==============================================================================\n",
       "Omnibus:                     6495.752   Durbin-Watson:                   1.921\n",
       "Prob(Omnibus):                  0.000   Jarque-Bera (JB):          3650036.194\n",
       "Skew:                           7.612   Prob(JB):                         0.00\n",
       "Kurtosis:                     138.467   Cond. No.                     2.84e+06\n",
       "==============================================================================\n",
       "\n",
       "Notes:\n",
       "[1] Standard Errors assume that the covariance matrix of the errors is correctly specified.\n",
       "[2] The condition number is large, 2.84e+06. This might indicate that there are\n",
       "strong multicollinearity or other numerical problems.\n",
       "\"\"\""
      ]
     },
     "execution_count": 169,
     "metadata": {},
     "output_type": "execute_result"
    }
   ],
   "source": [
    "model = smf.ols(formula='movie_box_office_revenue ~ diff_cast_age : mean_cast_age : movie_release_year : C(movie_genre)', data=analysis_df)\n",
    "res = model.fit()\n",
    "res.summary()"
   ]
  },
  {
   "cell_type": "code",
   "execution_count": 170,
   "metadata": {},
   "outputs": [],
   "source": [
    "# if the age in different gender of actor is different\n",
    "valid_characters = raw_characters.dropna()\n",
    "valid_characters = valid_characters[valid_characters['Actor age at movie release'] > 0]"
   ]
  },
  {
   "cell_type": "code",
   "execution_count": 171,
   "metadata": {},
   "outputs": [
    {
     "name": "stdout",
     "output_type": "stream",
     "text": [
      "original shape: (45239, 13)\n",
      "filtered shape: (45239, 13)\n"
     ]
    }
   ],
   "source": [
    "print('original shape:', raw_characters.shape)\n",
    "print('filtered shape:', valid_characters.shape)"
   ]
  },
  {
   "cell_type": "code",
   "execution_count": 172,
   "metadata": {},
   "outputs": [
    {
     "data": {
      "text/plain": [
       "<matplotlib.legend.Legend at 0x28ef11970>"
      ]
     },
     "execution_count": 172,
     "metadata": {},
     "output_type": "execute_result"
    },
    {
     "data": {
      "image/png": "[encoded data removed]",
      "text/plain": [
       "<Figure size 640x480 with 1 Axes>"
      ]
     },
     "metadata": {},
     "output_type": "display_data"
    }
   ],
   "source": [
    "female_actors = valid_characters[valid_characters['Actor gender'] == 'F']\n",
    "sns.histplot(female_actors['Actor age at movie release'], kde=True, discrete=True, label='Female')\n",
    "male_actors = valid_characters[valid_characters['Actor gender'] == 'M']\n",
    "sns.histplot(male_actors['Actor age at movie release'], kde=True, discrete=True, color='green', label='Male')\n",
    "plt.title('Female vs Male actors age distribution')\n",
    "plt.legend()\n"
   ]
  },
  {
   "cell_type": "markdown",
   "metadata": {},
   "source": [
    "## Analysis on if age diversity of actors impact the financial success of a movie?"
   ]
  },
  {
   "cell_type": "markdown",
   "metadata": {},
   "source": [
    "To answer this question, we will compute an diversity index (could be similar to MediaVersity) which consists of a combination of different features such as e.g. gender, age, height, ethnicity, etc. Using this new index, we will be able to compare the diversity with the box office revenue to determine if the diversity has an impact on the financial success of a movie by using hypothesis testing.\n",
    "\n"
   ]
  },
  {
   "cell_type": "code",
   "execution_count": 144,
   "metadata": {},
   "outputs": [
    {
     "data": {
      "image/svg+xml": "<?xml version=\"1.0\" encoding=\"UTF-8\" standalone=\"no\"?>\n<!DOCTYPE svg PUBLIC \"-//W3C//DTD SVG 1.1//EN\"\n \"http://www.w3.org/Graphics/SVG/1.1/DTD/svg11.dtd\">\n<!-- Generated by graphviz version 6.0.1 (20220911.1526)\n -->\n<!-- Pages: 1 -->\n<svg width=\"156pt\" height=\"188pt\"\n viewBox=\"0.00 0.00 156.19 188.00\" xmlns=\"http://www.w3.org/2000/svg\" xmlns:xlink=\"http://www.w3.org/1999/xlink\">\n<g id=\"graph0\" class=\"graph\" transform=\"scale(1 1) rotate(0) translate(4 184)\">\n<polygon fill=\"white\" stroke=\"none\" points=\"-4,4 -4,-184 152.19,-184 152.19,4 -4,4\"/>\n<!-- Audience number -->\n<g id=\"node1\" class=\"node\">\n<title>Audience number</title>\n<ellipse fill=\"none\" stroke=\"black\" cx=\"74.09\" cy=\"-90\" rx=\"74.19\" ry=\"18\"/>\n<text text-anchor=\"middle\" x=\"74.09\" y=\"-86.3\" font-family=\"Times,serif\" font-size=\"14.00\">Audience number</text>\n</g>\n<!-- Movie success -->\n<g id=\"node2\" class=\"node\">\n<title>Movie success</title>\n<ellipse fill=\"none\" stroke=\"black\" cx=\"74.09\" cy=\"-18\" rx=\"63.09\" ry=\"18\"/>\n<text text-anchor=\"middle\" x=\"74.09\" y=\"-14.3\" font-family=\"Times,serif\" font-size=\"14.00\">Movie success</text>\n</g>\n<!-- Audience number&#45;&gt;Movie success -->\n<g id=\"edge1\" class=\"edge\">\n<title>Audience number&#45;&gt;Movie success</title>\n<path fill=\"none\" stroke=\"black\" d=\"M74.09,-71.7C74.09,-63.98 74.09,-54.71 74.09,-46.11\"/>\n<polygon fill=\"black\" stroke=\"black\" points=\"77.59,-46.1 74.09,-36.1 70.59,-46.1 77.59,-46.1\"/>\n</g>\n<!-- Movie population -->\n<g id=\"node3\" class=\"node\">\n<title>Movie population</title>\n<ellipse fill=\"none\" stroke=\"black\" cx=\"74.09\" cy=\"-162\" rx=\"74.19\" ry=\"18\"/>\n<text text-anchor=\"middle\" x=\"74.09\" y=\"-158.3\" font-family=\"Times,serif\" font-size=\"14.00\">Movie population</text>\n</g>\n<!-- Movie population&#45;&gt;Audience number -->\n<g id=\"edge2\" class=\"edge\">\n<title>Movie population&#45;&gt;Audience number</title>\n<path fill=\"none\" stroke=\"black\" d=\"M74.09,-143.7C74.09,-135.98 74.09,-126.71 74.09,-118.11\"/>\n<polygon fill=\"black\" stroke=\"black\" points=\"77.59,-118.1 74.09,-108.1 70.59,-118.1 77.59,-118.1\"/>\n</g>\n</g>\n</svg>\n",
      "text/plain": [
       "<graphviz.graphs.Digraph at 0x28f544970>"
      ]
     },
     "execution_count": 144,
     "metadata": {},
     "output_type": "execute_result"
    }
   ],
   "source": [
    "import graphviz as gr\n",
    "g = gr.Digraph()\n",
    "g.edge(\"Audience number\", \"Movie success\")\n",
    "g.edge('Movie population', 'Audience number')\n",
    "g"
   ]
  },
  {
   "cell_type": "code",
   "execution_count": null,
   "metadata": {},
   "outputs": [
    {
     "ename": "NameError",
     "evalue": "name 'df_analysis' is not defined",
     "output_type": "error",
     "traceback": [
      "\u001b[0;31m---------------------------------------------------------------------------\u001b[0m",
      "\u001b[0;31mNameError\u001b[0m                                 Traceback (most recent call last)",
      "\u001b[1;32m/Users/chengkunli/EPFL/ADA/imdbmi/ada-2022-project-imdbmi/analysis/diversity.ipynb Cell 43\u001b[0m in \u001b[0;36m<cell line: 3>\u001b[0;34m()\u001b[0m\n\u001b[1;32m      <a href='vscode-notebook-cell:/Users/chengkunli/EPFL/ADA/imdbmi/ada-2022-project-imdbmi/analysis/diversity.ipynb#X43sZmlsZQ%3D%3D?line=0'>1</a>\u001b[0m \u001b[39m# group actors by movie and create movie dataframe\u001b[39;00m\n\u001b[1;32m      <a href='vscode-notebook-cell:/Users/chengkunli/EPFL/ADA/imdbmi/ada-2022-project-imdbmi/analysis/diversity.ipynb#X43sZmlsZQ%3D%3D?line=1'>2</a>\u001b[0m movies \u001b[39m=\u001b[39m []\n\u001b[0;32m----> <a href='vscode-notebook-cell:/Users/chengkunli/EPFL/ADA/imdbmi/ada-2022-project-imdbmi/analysis/diversity.ipynb#X43sZmlsZQ%3D%3D?line=2'>3</a>\u001b[0m group_movie \u001b[39m=\u001b[39m df_analysis\u001b[39m.\u001b[39mgroupby(\u001b[39m'\u001b[39m\u001b[39mWikipedia movie ID\u001b[39m\u001b[39m'\u001b[39m)\n\u001b[1;32m      <a href='vscode-notebook-cell:/Users/chengkunli/EPFL/ADA/imdbmi/ada-2022-project-imdbmi/analysis/diversity.ipynb#X43sZmlsZQ%3D%3D?line=3'>4</a>\u001b[0m \u001b[39mfor\u001b[39;00m \u001b[39mid\u001b[39m, movie \u001b[39min\u001b[39;00m group_movie:\n\u001b[1;32m      <a href='vscode-notebook-cell:/Users/chengkunli/EPFL/ADA/imdbmi/ada-2022-project-imdbmi/analysis/diversity.ipynb#X43sZmlsZQ%3D%3D?line=4'>5</a>\u001b[0m     \u001b[39mif\u001b[39;00m movie\u001b[39m.\u001b[39mshape[\u001b[39m0\u001b[39m] \u001b[39m<\u001b[39m \u001b[39m3\u001b[39m:\n",
      "\u001b[0;31mNameError\u001b[0m: name 'df_analysis' is not defined"
     ]
    }
   ],
   "source": [
    "# group actors by movie and create movie dataframe\n",
    "movies = []\n",
    "group_movie = df_analysis.groupby('Wikipedia movie ID')\n",
    "for id, movie in group_movie:\n",
    "    if movie.shape[0] < 3:\n",
    "        continue\n",
    "    # create new column for number of female actors\n",
    "    num_female = (movie['Actor gender'] == 'F').sum()\n",
    "    num_male = (movie['Actor gender'] == 'M').sum()\n",
    "    new_row = {\n",
    "        'Movie': movie['Wikipedia movie ID'].iloc[0],\n",
    "        'Movie release year': movie['Movie release year'].iloc[0],\n",
    "        'num female': num_female,\n",
    "        'num male': num_male,\n",
    "    }\n",
    "    movies.append(new_row)\n",
    "df_movies = pd.DataFrame(movies)\n",
    "    "
   ]
  },
  {
   "attachments": {},
   "cell_type": "markdown",
   "metadata": {},
   "source": [
    "Analyze movie origin and movie box office revenue"
   ]
  },
  {
   "cell_type": "code",
   "execution_count": null,
   "metadata": {},
   "outputs": [
    {
     "data": {
      "text/plain": [
       "Index(['movie_id', 'movie_name', 'movie_genre', 'movie_origin',\n",
       "       'movie_release', 'box_office_value', 'director_id', 'director_name',\n",
       "       'director_gender', 'director_country', 'director_birth',\n",
       "       'director_age_at_release', 'producer_id', 'producer_name',\n",
       "       'producer_gender', 'producer_country', 'producer_birth',\n",
       "       'producer_age_at_release', 'cast_id_0', 'cast_0_name', 'cast_0_gender',\n",
       "       'cast_0_country', 'cast_0_birth', 'cast_0_age_at_release', 'cast_id_1',\n",
       "       'cast_1_name', 'cast_1_gender', 'cast_1_country', 'cast_1_birth',\n",
       "       'cast_1_age_at_release', 'cast_id_2', 'cast_2_name', 'cast_2_gender',\n",
       "       'cast_2_country', 'cast_2_birth', 'cast_2_age_at_release', 'cast_id_3',\n",
       "       'cast_3_name', 'cast_3_gender', 'cast_3_country', 'cast_3_birth',\n",
       "       'cast_3_age_at_release', 'cast_id_4', 'cast_4_name', 'cast_4_gender',\n",
       "       'cast_4_country', 'cast_4_birth', 'cast_4_age_at_release'],\n",
       "      dtype='object')"
      ]
     },
     "execution_count": 403,
     "metadata": {},
     "output_type": "execute_result"
    }
   ],
   "source": [
    "ext_chars.columns"
   ]
  },
  {
   "cell_type": "code",
   "execution_count": null,
   "metadata": {},
   "outputs": [],
   "source": [
    "study_keys = [\n",
    "    'movie_id',\n",
    "    'movie_name',\n",
    "    'movie_origin',\n",
    "    'director_country',\n",
    "    'producer_country',\n",
    "    'movie_release',\n",
    "    'movie_genre',\n",
    "    'box_office_value',\n",
    "]"
   ]
  },
  {
   "cell_type": "code",
   "execution_count": null,
   "metadata": {},
   "outputs": [],
   "source": [
    "country_study_df = ext_chars[study_keys].copy()\n",
    "country_study_df = country_study_df.dropna()\n",
    "country_study_df['movie_release_year'] = pd.to_datetime(country_study_df['movie_release']).dt.year\n",
    "\n",
    "top = 10\n",
    "# keep top 10 genres\n",
    "country_study_df = country_study_df[country_study_df['movie_genre'].isin(country_study_df['movie_genre'].value_counts().index[:top])]"
   ]
  },
  {
   "cell_type": "code",
   "execution_count": null,
   "metadata": {},
   "outputs": [
    {
     "data": {
      "text/plain": [
       "United States of America                       32004\n",
       "India                                           8819\n",
       "United Kingdom                                  6723\n",
       "France                                          3634\n",
       "Japan                                           2536\n",
       "                                               ...  \n",
       "United Kingdom of Great Britain and Ireland        1\n",
       "Greenland                                          1\n",
       "First Czechoslovak Republic                        1\n",
       "Suriname                                           1\n",
       "Honduras                                           1\n",
       "Name: movie_origin, Length: 174, dtype: int64"
      ]
     },
     "execution_count": 406,
     "metadata": {},
     "output_type": "execute_result"
    }
   ],
   "source": [
    "ext_chars['movie_origin'].value_counts()"
   ]
  },
  {
   "cell_type": "code",
   "execution_count": null,
   "metadata": {},
   "outputs": [
    {
     "data": {
      "text/plain": [
       "88                 United Kingdom\n",
       "91                 United Kingdom\n",
       "93                 United Kingdom\n",
       "98                 United Kingdom\n",
       "103      United States of America\n",
       "                   ...           \n",
       "75106              United Kingdom\n",
       "75147    United States of America\n",
       "75149                       Italy\n",
       "75166    United States of America\n",
       "75192    United States of America\n",
       "Name: movie_origin, Length: 1278, dtype: object"
      ]
     },
     "execution_count": 407,
     "metadata": {},
     "output_type": "execute_result"
    }
   ],
   "source": [
    "country_study_df['movie_origin']"
   ]
  },
  {
   "cell_type": "code",
   "execution_count": null,
   "metadata": {},
   "outputs": [
    {
     "data": {
      "application/vnd.plotly.v1+json": {
       "config": {
        "plotlyServerURL": "https://plot.ly"
       },
       "data": [
        {
         "alignmentgroup": "True",
         "bingroup": "x",
         "hovertemplate": "movie_origin=United Kingdom<br>movie_genre=%{x}<br>count=%{y}<extra></extra>",
         "legendgroup": "",
         "marker": {
          "color": "#636efa",
          "pattern": {
           "shape": ""
          }
         },
         "name": "",
         "offsetgroup": "",
         "orientation": "v",
         "showlegend": false,
         "type": "histogram",
         "x": [
          "fantasy film",
          "fantasy film",
          "fantasy film",
          "fantasy film",
          "crime film",
          "horror film",
          "romance film",
          "drama film",
          "action film",
          "romantic comedy",
          "action film",
          "comedy film",
          "science fiction film",
          "horror film",
          "drama film",
          "fantasy film",
          "horror film",
          "fantasy film",
          "horror film",
          "musical film",
          "romantic comedy",
          "fantasy film",
          "drama film",
          "romantic comedy",
          "comedy film",
          "horror film",
          "drama film",
          "romantic comedy",
          "romantic comedy",
          "science fiction film",
          "fantasy film",
          "action film",
          "romantic comedy",
          "action film",
          "horror film",
          "horror film",
          "drama film",
          "fantasy film",
          "fantasy film",
          "comedy film",
          "action film",
          "fantasy film",
          "romantic comedy",
          "science fiction film",
          "drama film",
          "romance film",
          "science fiction film",
          "musical film",
          "drama film",
          "action film",
          "fantasy film",
          "crime film",
          "drama film",
          "drama film",
          "romantic comedy",
          "action film",
          "fantasy film",
          "romantic comedy",
          "fantasy film",
          "fantasy film",
          "romance film",
          "drama film",
          "comedy film",
          "romance film",
          "fantasy film",
          "action film",
          "horror film",
          "science fiction film",
          "science fiction film",
          "crime film",
          "drama film",
          "romantic comedy",
          "action film",
          "action film",
          "comedy film",
          "drama film",
          "drama film",
          "fantasy film",
          "horror film",
          "crime film",
          "romantic comedy",
          "comedy film",
          "fantasy film",
          "drama film",
          "crime film"
         ],
         "xaxis": "x",
         "yaxis": "y"
        }
       ],
       "frames": [
        {
         "data": [
          {
           "alignmentgroup": "True",
           "bingroup": "x",
           "hovertemplate": "movie_origin=United Kingdom<br>movie_genre=%{x}<br>count=%{y}<extra></extra>",
           "legendgroup": "",
           "marker": {
            "color": "#636efa",
            "pattern": {
             "shape": ""
            }
           },
           "name": "",
           "offsetgroup": "",
           "orientation": "v",
           "showlegend": false,
           "type": "histogram",
           "x": [
            "fantasy film",
            "fantasy film",
            "fantasy film",
            "fantasy film",
            "crime film",
            "horror film",
            "romance film",
            "drama film",
            "action film",
            "romantic comedy",
            "action film",
            "comedy film",
            "science fiction film",
            "horror film",
            "drama film",
            "fantasy film",
            "horror film",
            "fantasy film",
            "horror film",
            "musical film",
            "romantic comedy",
            "fantasy film",
            "drama film",
            "romantic comedy",
            "comedy film",
            "horror film",
            "drama film",
            "romantic comedy",
            "romantic comedy",
            "science fiction film",
            "fantasy film",
            "action film",
            "romantic comedy",
            "action film",
            "horror film",
            "horror film",
            "drama film",
            "fantasy film",
            "fantasy film",
            "comedy film",
            "action film",
            "fantasy film",
            "romantic comedy",
            "science fiction film",
            "drama film",
            "romance film",
            "science fiction film",
            "musical film",
            "drama film",
            "action film",
            "fantasy film",
            "crime film",
            "drama film",
            "drama film",
            "romantic comedy",
            "action film",
            "fantasy film",
            "romantic comedy",
            "fantasy film",
            "fantasy film",
            "romance film",
            "drama film",
            "comedy film",
            "romance film",
            "fantasy film",
            "action film",
            "horror film",
            "science fiction film",
            "science fiction film",
            "crime film",
            "drama film",
            "romantic comedy",
            "action film",
            "action film",
            "comedy film",
            "drama film",
            "drama film",
            "fantasy film",
            "horror film",
            "crime film",
            "romantic comedy",
            "comedy film",
            "fantasy film",
            "drama film",
            "crime film"
           ],
           "xaxis": "x",
           "yaxis": "y"
          }
         ],
         "name": "United Kingdom"
        },
        {
         "data": [
          {
           "alignmentgroup": "True",
           "bingroup": "x",
           "hovertemplate": "movie_origin=United States of America<br>movie_genre=%{x}<br>count=%{y}<extra></extra>",
           "legendgroup": "",
           "marker": {
            "color": "#636efa",
            "pattern": {
             "shape": ""
            }
           },
           "name": "",
           "offsetgroup": "",
           "orientation": "v",
           "showlegend": false,
           "type": "histogram",
           "x": [
            "fantasy film",
            "romantic comedy",
            "horror film",
            "fantasy film",
            "comedy film",
            "action film",
            "comedy film",
            "action film",
            "romantic comedy",
            "comedy film",
            "fantasy film",
            "action film",
            "fantasy film",
            "action film",
            "fantasy film",
            "horror film",
            "drama film",
            "science fiction film",
            "action film",
            "action film",
            "romantic comedy",
            "romantic comedy",
            "comedy film",
            "drama film",
            "horror film",
            "romantic comedy",
            "action film",
            "fantasy film",
            "crime film",
            "drama film",
            "romantic comedy",
            "science fiction film",
            "horror film",
            "action film",
            "science fiction film",
            "science fiction film",
            "action film",
            "comedy film",
            "romance film",
            "comedy film",
            "drama film",
            "action film",
            "action film",
            "musical film",
            "science fiction film",
            "comedy film",
            "comedy film",
            "comedy film",
            "romantic comedy",
            "horror film",
            "crime film",
            "action film",
            "action film",
            "science fiction film",
            "action film",
            "comedy film",
            "comedy film",
            "action film",
            "horror film",
            "crime film",
            "action film",
            "crime film",
            "action film",
            "drama film",
            "romantic comedy",
            "drama film",
            "science fiction film",
            "crime film",
            "fantasy film",
            "drama film",
            "romance film",
            "action film",
            "crime film",
            "drama film",
            "science fiction film",
            "comedy film",
            "romantic comedy",
            "crime film",
            "science fiction film",
            "drama film",
            "romance film",
            "drama film",
            "drama film",
            "romance film",
            "drama film",
            "science fiction film",
            "drama film",
            "crime film",
            "horror film",
            "romantic comedy",
            "horror film",
            "action film",
            "comedy film",
            "action film",
            "horror film",
            "science fiction film",
            "drama film",
            "musical film",
            "drama film",
            "romantic comedy",
            "science fiction film",
            "comedy film",
            "horror film",
            "horror film",
            "horror film",
            "horror film",
            "horror film",
            "science fiction film",
            "horror film",
            "fantasy film",
            "fantasy film",
            "horror film",
            "drama film",
            "fantasy film",
            "action film",
            "action film",
            "comedy film",
            "action film",
            "romantic comedy",
            "comedy film",
            "action film",
            "drama film",
            "comedy film",
            "action film",
            "horror film",
            "comedy film",
            "fantasy film",
            "action film",
            "romantic comedy",
            "drama film",
            "fantasy film",
            "science fiction film",
            "romantic comedy",
            "action film",
            "romantic comedy",
            "science fiction film",
            "drama film",
            "romance film",
            "science fiction film",
            "action film",
            "comedy film",
            "musical film",
            "crime film",
            "science fiction film",
            "drama film",
            "musical film",
            "action film",
            "fantasy film",
            "fantasy film",
            "drama film",
            "comedy film",
            "action film",
            "romantic comedy",
            "drama film",
            "crime film",
            "romance film",
            "crime film",
            "action film",
            "crime film",
            "science fiction film",
            "action film",
            "romantic comedy",
            "horror film",
            "action film",
            "romantic comedy",
            "comedy film",
            "crime film",
            "comedy film",
            "fantasy film",
            "horror film",
            "comedy film",
            "science fiction film",
            "action film",
            "comedy film",
            "fantasy film",
            "action film",
            "drama film",
            "crime film",
            "romantic comedy",
            "crime film",
            "romantic comedy",
            "comedy film",
            "action film",
            "romantic comedy",
            "romantic comedy",
            "action film",
            "crime film",
            "comedy film",
            "comedy film",
            "science fiction film",
            "action film",
            "crime film",
            "comedy film",
            "romance film",
            "romance film",
            "fantasy film",
            "fantasy film",
            "fantasy film",
            "action film",
            "horror film",
            "comedy film",
            "action film",
            "crime film",
            "musical film",
            "science fiction film",
            "comedy film",
            "action film",
            "science fiction film",
            "romantic comedy",
            "science fiction film",
            "action film",
            "action film",
            "action film",
            "romantic comedy",
            "drama film",
            "fantasy film",
            "drama film",
            "drama film",
            "romantic comedy",
            "action film",
            "science fiction film",
            "fantasy film",
            "action film",
            "horror film",
            "action film",
            "musical film",
            "comedy film",
            "romantic comedy",
            "action film",
            "horror film",
            "drama film",
            "romantic comedy",
            "action film",
            "fantasy film",
            "horror film",
            "horror film",
            "romantic comedy",
            "action film",
            "drama film",
            "musical film",
            "romantic comedy",
            "fantasy film",
            "action film",
            "romance film",
            "crime film",
            "science fiction film",
            "science fiction film",
            "science fiction film",
            "comedy film",
            "action film",
            "action film",
            "comedy film",
            "action film",
            "horror film",
            "romance film",
            "drama film",
            "fantasy film",
            "drama film",
            "science fiction film",
            "musical film",
            "science fiction film",
            "comedy film",
            "romantic comedy",
            "romance film",
            "comedy film",
            "science fiction film",
            "romance film",
            "drama film",
            "musical film",
            "science fiction film",
            "science fiction film",
            "drama film",
            "science fiction film",
            "action film",
            "action film",
            "musical film",
            "romance film",
            "romantic comedy",
            "crime film",
            "fantasy film",
            "action film",
            "action film",
            "musical film",
            "romantic comedy",
            "romance film",
            "drama film",
            "crime film",
            "romantic comedy",
            "action film",
            "fantasy film",
            "drama film",
            "drama film",
            "romance film",
            "science fiction film",
            "musical film",
            "comedy film",
            "drama film",
            "action film",
            "science fiction film",
            "fantasy film",
            "science fiction film",
            "musical film",
            "romantic comedy",
            "romantic comedy",
            "horror film",
            "crime film",
            "crime film",
            "horror film",
            "crime film",
            "drama film",
            "horror film",
            "romantic comedy",
            "fantasy film",
            "drama film",
            "horror film",
            "action film",
            "action film",
            "romantic comedy",
            "crime film",
            "action film",
            "musical film",
            "comedy film",
            "romantic comedy",
            "drama film",
            "action film",
            "drama film",
            "romantic comedy",
            "action film",
            "fantasy film",
            "science fiction film",
            "horror film",
            "action film",
            "action film",
            "horror film",
            "drama film",
            "fantasy film",
            "science fiction film",
            "romantic comedy",
            "horror film",
            "science fiction film",
            "action film",
            "action film",
            "action film",
            "crime film",
            "drama film",
            "science fiction film",
            "musical film",
            "fantasy film",
            "comedy film",
            "drama film",
            "action film",
            "romance film",
            "romance film",
            "romantic comedy",
            "action film",
            "action film",
            "crime film",
            "horror film",
            "romance film",
            "comedy film",
            "horror film",
            "action film",
            "romantic comedy",
            "action film",
            "action film",
            "romantic comedy",
            "science fiction film",
            "action film",
            "action film",
            "action film",
            "comedy film",
            "musical film",
            "romantic comedy",
            "fantasy film",
            "action film",
            "romantic comedy",
            "romantic comedy",
            "crime film",
            "action film",
            "romance film",
            "crime film",
            "comedy film",
            "action film",
            "action film",
            "science fiction film",
            "science fiction film",
            "fantasy film",
            "action film",
            "comedy film",
            "action film",
            "action film",
            "drama film",
            "action film",
            "science fiction film",
            "action film",
            "romantic comedy",
            "action film",
            "action film",
            "fantasy film",
            "action film",
            "romantic comedy",
            "romantic comedy",
            "action film",
            "fantasy film",
            "science fiction film",
            "action film",
            "drama film",
            "action film",
            "science fiction film",
            "comedy film",
            "drama film",
            "fantasy film",
            "science fiction film",
            "fantasy film",
            "musical film",
            "musical film",
            "horror film",
            "science fiction film",
            "science fiction film",
            "romantic comedy",
            "crime film",
            "musical film",
            "crime film",
            "romance film",
            "action film",
            "science fiction film",
            "musical film",
            "romantic comedy",
            "crime film",
            "science fiction film",
            "musical film",
            "crime film",
            "science fiction film",
            "drama film",
            "fantasy film",
            "horror film",
            "crime film",
            "action film",
            "romantic comedy",
            "romantic comedy",
            "science fiction film",
            "romantic comedy",
            "fantasy film",
            "fantasy film",
            "horror film",
            "romantic comedy",
            "action film",
            "horror film",
            "action film",
            "comedy film",
            "action film",
            "comedy film",
            "drama film",
            "action film",
            "comedy film",
            "fantasy film",
            "action film",
            "comedy film",
            "drama film",
            "action film",
            "romantic comedy",
            "romance film",
            "action film",
            "action film",
            "fantasy film",
            "romance film",
            "action film",
            "romantic comedy",
            "action film",
            "romantic comedy",
            "fantasy film",
            "comedy film",
            "horror film",
            "comedy film",
            "musical film",
            "action film",
            "romantic comedy",
            "musical film",
            "crime film",
            "fantasy film",
            "romantic comedy",
            "action film",
            "romantic comedy",
            "musical film",
            "action film",
            "crime film",
            "comedy film",
            "comedy film",
            "horror film",
            "drama film",
            "science fiction film",
            "action film",
            "comedy film",
            "fantasy film",
            "science fiction film",
            "musical film",
            "science fiction film",
            "romance film",
            "action film",
            "drama film",
            "action film",
            "science fiction film",
            "action film",
            "drama film",
            "musical film",
            "romance film",
            "romantic comedy",
            "action film",
            "musical film",
            "action film",
            "comedy film",
            "science fiction film",
            "crime film",
            "comedy film",
            "action film",
            "crime film",
            "comedy film",
            "science fiction film",
            "comedy film",
            "fantasy film",
            "horror film",
            "drama film",
            "musical film",
            "action film",
            "fantasy film",
            "action film",
            "action film",
            "musical film",
            "fantasy film",
            "action film",
            "action film",
            "action film",
            "action film",
            "musical film",
            "fantasy film",
            "action film",
            "action film",
            "romance film",
            "action film",
            "crime film",
            "horror film",
            "comedy film",
            "science fiction film",
            "crime film",
            "romantic comedy",
            "fantasy film",
            "romantic comedy",
            "fantasy film",
            "crime film",
            "action film",
            "drama film",
            "action film",
            "science fiction film",
            "science fiction film",
            "crime film",
            "romantic comedy",
            "action film",
            "crime film",
            "musical film",
            "horror film",
            "drama film",
            "fantasy film",
            "comedy film",
            "action film",
            "comedy film",
            "romantic comedy",
            "drama film",
            "horror film",
            "comedy film",
            "romantic comedy",
            "action film",
            "drama film",
            "horror film",
            "action film",
            "fantasy film",
            "crime film",
            "romantic comedy",
            "romantic comedy",
            "drama film",
            "romance film",
            "comedy film",
            "horror film",
            "fantasy film",
            "romantic comedy",
            "action film",
            "fantasy film",
            "musical film",
            "science fiction film",
            "science fiction film",
            "science fiction film",
            "science fiction film",
            "science fiction film",
            "romantic comedy",
            "crime film",
            "romantic comedy",
            "romantic comedy",
            "action film",
            "drama film",
            "drama film",
            "science fiction film",
            "musical film",
            "fantasy film",
            "science fiction film",
            "drama film",
            "romantic comedy",
            "crime film",
            "fantasy film",
            "drama film",
            "fantasy film",
            "science fiction film",
            "action film",
            "action film",
            "crime film",
            "romance film",
            "drama film",
            "crime film",
            "comedy film",
            "romance film",
            "romantic comedy",
            "fantasy film",
            "romantic comedy",
            "science fiction film",
            "action film",
            "drama film",
            "fantasy film",
            "comedy film",
            "action film",
            "romantic comedy",
            "comedy film",
            "action film",
            "crime film",
            "science fiction film",
            "crime film",
            "action film",
            "crime film",
            "action film",
            "comedy film",
            "romantic comedy",
            "comedy film",
            "action film",
            "science fiction film",
            "action film",
            "action film",
            "romantic comedy",
            "action film",
            "action film",
            "action film",
            "comedy film",
            "drama film",
            "action film",
            "drama film",
            "fantasy film",
            "science fiction film",
            "action film",
            "drama film",
            "romantic comedy",
            "action film",
            "drama film",
            "comedy film",
            "comedy film",
            "comedy film",
            "romance film",
            "science fiction film",
            "musical film",
            "action film",
            "fantasy film",
            "action film",
            "comedy film",
            "action film",
            "musical film",
            "action film",
            "romance film",
            "drama film",
            "drama film",
            "comedy film",
            "comedy film",
            "comedy film",
            "horror film",
            "action film",
            "crime film",
            "science fiction film",
            "drama film",
            "action film",
            "romantic comedy",
            "romantic comedy",
            "crime film",
            "fantasy film",
            "action film",
            "comedy film",
            "action film",
            "comedy film",
            "science fiction film",
            "romance film",
            "horror film",
            "romantic comedy",
            "crime film",
            "comedy film",
            "comedy film",
            "science fiction film",
            "romance film",
            "comedy film",
            "drama film",
            "romance film",
            "crime film",
            "action film",
            "horror film",
            "science fiction film",
            "science fiction film",
            "crime film",
            "romantic comedy",
            "action film",
            "horror film",
            "drama film",
            "action film",
            "horror film",
            "action film",
            "romantic comedy",
            "fantasy film",
            "action film",
            "drama film",
            "action film",
            "action film",
            "action film",
            "fantasy film",
            "horror film",
            "comedy film",
            "action film",
            "action film",
            "comedy film",
            "romantic comedy",
            "comedy film",
            "musical film",
            "drama film",
            "drama film",
            "action film",
            "science fiction film",
            "comedy film",
            "romance film",
            "fantasy film",
            "horror film",
            "romantic comedy",
            "action film",
            "horror film",
            "action film",
            "fantasy film",
            "action film",
            "action film",
            "drama film",
            "fantasy film",
            "horror film",
            "action film",
            "romance film",
            "action film",
            "action film",
            "romance film",
            "romantic comedy",
            "drama film",
            "comedy film",
            "musical film",
            "fantasy film",
            "horror film",
            "crime film",
            "fantasy film",
            "horror film",
            "comedy film",
            "science fiction film",
            "action film",
            "romance film",
            "romantic comedy",
            "romance film",
            "crime film",
            "action film",
            "romantic comedy",
            "science fiction film",
            "comedy film",
            "drama film",
            "science fiction film",
            "fantasy film",
            "action film",
            "action film",
            "romantic comedy",
            "drama film",
            "musical film",
            "action film",
            "drama film",
            "drama film",
            "comedy film",
            "action film",
            "horror film",
            "action film",
            "horror film",
            "action film",
            "action film",
            "action film",
            "drama film",
            "action film",
            "horror film",
            "romance film",
            "comedy film",
            "action film",
            "action film",
            "drama film",
            "romantic comedy",
            "horror film",
            "action film",
            "comedy film",
            "action film",
            "action film",
            "romance film",
            "science fiction film",
            "action film",
            "fantasy film",
            "comedy film",
            "romantic comedy",
            "action film",
            "crime film",
            "action film",
            "comedy film",
            "crime film",
            "science fiction film",
            "musical film",
            "action film",
            "romantic comedy",
            "comedy film",
            "romantic comedy",
            "comedy film",
            "action film",
            "science fiction film",
            "musical film",
            "crime film",
            "musical film",
            "drama film",
            "action film",
            "science fiction film",
            "drama film",
            "crime film",
            "science fiction film",
            "fantasy film",
            "fantasy film",
            "science fiction film",
            "comedy film",
            "drama film",
            "crime film",
            "comedy film",
            "romantic comedy",
            "comedy film",
            "romance film",
            "comedy film",
            "crime film",
            "crime film",
            "action film",
            "action film",
            "comedy film",
            "action film",
            "action film",
            "comedy film",
            "romantic comedy",
            "action film",
            "horror film",
            "romance film",
            "drama film",
            "action film",
            "drama film",
            "romance film",
            "romantic comedy",
            "romantic comedy",
            "action film",
            "action film",
            "action film",
            "action film",
            "romantic comedy",
            "fantasy film",
            "action film",
            "action film",
            "comedy film",
            "action film",
            "romantic comedy",
            "fantasy film",
            "action film",
            "fantasy film",
            "fantasy film",
            "action film",
            "action film",
            "crime film",
            "action film",
            "horror film",
            "comedy film",
            "action film",
            "crime film",
            "action film",
            "action film",
            "romantic comedy",
            "comedy film",
            "comedy film",
            "horror film",
            "science fiction film",
            "action film",
            "horror film",
            "comedy film",
            "horror film",
            "science fiction film",
            "science fiction film",
            "romantic comedy",
            "crime film",
            "comedy film",
            "science fiction film",
            "romantic comedy",
            "action film",
            "musical film",
            "action film",
            "horror film",
            "comedy film",
            "romantic comedy",
            "comedy film",
            "romantic comedy",
            "drama film",
            "musical film",
            "drama film",
            "crime film",
            "comedy film",
            "drama film",
            "romance film",
            "horror film",
            "comedy film",
            "romantic comedy",
            "action film",
            "drama film",
            "horror film",
            "horror film",
            "crime film",
            "horror film",
            "romantic comedy",
            "horror film",
            "comedy film"
           ],
           "xaxis": "x",
           "yaxis": "y"
          }
         ],
         "name": "United States of America"
        },
        {
         "data": [
          {
           "alignmentgroup": "True",
           "bingroup": "x",
           "hovertemplate": "movie_origin=Japan<br>movie_genre=%{x}<br>count=%{y}<extra></extra>",
           "legendgroup": "",
           "marker": {
            "color": "#636efa",
            "pattern": {
             "shape": ""
            }
           },
           "name": "",
           "offsetgroup": "",
           "orientation": "v",
           "showlegend": false,
           "type": "histogram",
           "x": [
            "comedy film",
            "crime film",
            "science fiction film",
            "drama film",
            "science fiction film",
            "action film",
            "fantasy film",
            "action film",
            "fantasy film",
            "drama film",
            "science fiction film",
            "drama film",
            "fantasy film",
            "drama film",
            "comedy film",
            "fantasy film",
            "drama film",
            "fantasy film",
            "action film",
            "fantasy film",
            "fantasy film",
            "drama film",
            "science fiction film",
            "science fiction film",
            "drama film",
            "science fiction film",
            "fantasy film",
            "fantasy film",
            "drama film",
            "science fiction film",
            "drama film",
            "action film",
            "fantasy film",
            "fantasy film"
           ],
           "xaxis": "x",
           "yaxis": "y"
          }
         ],
         "name": "Japan"
        },
        {
         "data": [
          {
           "alignmentgroup": "True",
           "bingroup": "x",
           "hovertemplate": "movie_origin=France<br>movie_genre=%{x}<br>count=%{y}<extra></extra>",
           "legendgroup": "",
           "marker": {
            "color": "#636efa",
            "pattern": {
             "shape": ""
            }
           },
           "name": "",
           "offsetgroup": "",
           "orientation": "v",
           "showlegend": false,
           "type": "histogram",
           "x": [
            "drama film",
            "science fiction film",
            "drama film",
            "comedy film",
            "drama film",
            "drama film",
            "romantic comedy",
            "drama film",
            "drama film",
            "drama film",
            "fantasy film",
            "crime film",
            "musical film",
            "action film",
            "romantic comedy",
            "crime film",
            "fantasy film",
            "drama film",
            "drama film",
            "fantasy film",
            "fantasy film",
            "drama film",
            "science fiction film",
            "romantic comedy",
            "drama film",
            "comedy film",
            "drama film",
            "comedy film",
            "crime film",
            "comedy film",
            "action film",
            "comedy film",
            "comedy film",
            "drama film",
            "comedy film",
            "comedy film",
            "horror film",
            "drama film",
            "drama film",
            "romantic comedy",
            "comedy film",
            "drama film",
            "drama film",
            "fantasy film",
            "fantasy film",
            "romance film",
            "comedy film",
            "drama film",
            "crime film",
            "comedy film",
            "drama film",
            "romantic comedy",
            "romantic comedy",
            "drama film",
            "action film",
            "fantasy film",
            "action film",
            "musical film",
            "drama film",
            "drama film",
            "drama film",
            "drama film"
           ],
           "xaxis": "x",
           "yaxis": "y"
          }
         ],
         "name": "France"
        },
        {
         "data": [
          {
           "alignmentgroup": "True",
           "bingroup": "x",
           "hovertemplate": "movie_origin=Sweden<br>movie_genre=%{x}<br>count=%{y}<extra></extra>",
           "legendgroup": "",
           "marker": {
            "color": "#636efa",
            "pattern": {
             "shape": ""
            }
           },
           "name": "",
           "offsetgroup": "",
           "orientation": "v",
           "showlegend": false,
           "type": "histogram",
           "x": [
            "drama film",
            "comedy film"
           ],
           "xaxis": "x",
           "yaxis": "y"
          }
         ],
         "name": "Sweden"
        },
        {
         "data": [
          {
           "alignmentgroup": "True",
           "bingroup": "x",
           "hovertemplate": "movie_origin=India<br>movie_genre=%{x}<br>count=%{y}<extra></extra>",
           "legendgroup": "",
           "marker": {
            "color": "#636efa",
            "pattern": {
             "shape": ""
            }
           },
           "name": "",
           "offsetgroup": "",
           "orientation": "v",
           "showlegend": false,
           "type": "histogram",
           "x": [
            "science fiction film",
            "romance film",
            "crime film",
            "crime film",
            "drama film",
            "drama film",
            "action film"
           ],
           "xaxis": "x",
           "yaxis": "y"
          }
         ],
         "name": "India"
        },
        {
         "data": [
          {
           "alignmentgroup": "True",
           "bingroup": "x",
           "hovertemplate": "movie_origin=Spain<br>movie_genre=%{x}<br>count=%{y}<extra></extra>",
           "legendgroup": "",
           "marker": {
            "color": "#636efa",
            "pattern": {
             "shape": ""
            }
           },
           "name": "",
           "offsetgroup": "",
           "orientation": "v",
           "showlegend": false,
           "type": "histogram",
           "x": [
            "comedy film",
            "drama film",
            "comedy film",
            "horror film",
            "comedy film",
            "romantic comedy",
            "musical film",
            "comedy film",
            "horror film",
            "science fiction film",
            "romantic comedy",
            "horror film",
            "horror film",
            "drama film",
            "comedy film"
           ],
           "xaxis": "x",
           "yaxis": "y"
          }
         ],
         "name": "Spain"
        },
        {
         "data": [
          {
           "alignmentgroup": "True",
           "bingroup": "x",
           "hovertemplate": "movie_origin=Denmark<br>movie_genre=%{x}<br>count=%{y}<extra></extra>",
           "legendgroup": "",
           "marker": {
            "color": "#636efa",
            "pattern": {
             "shape": ""
            }
           },
           "name": "",
           "offsetgroup": "",
           "orientation": "v",
           "showlegend": false,
           "type": "histogram",
           "x": [
            "musical film",
            "drama film"
           ],
           "xaxis": "x",
           "yaxis": "y"
          }
         ],
         "name": "Denmark"
        },
        {
         "data": [
          {
           "alignmentgroup": "True",
           "bingroup": "x",
           "hovertemplate": "movie_origin=Australia<br>movie_genre=%{x}<br>count=%{y}<extra></extra>",
           "legendgroup": "",
           "marker": {
            "color": "#636efa",
            "pattern": {
             "shape": ""
            }
           },
           "name": "",
           "offsetgroup": "",
           "orientation": "v",
           "showlegend": false,
           "type": "histogram",
           "x": [
            "action film",
            "comedy film",
            "drama film",
            "romantic comedy",
            "action film",
            "romance film",
            "action film",
            "action film",
            "romantic comedy",
            "science fiction film",
            "comedy film",
            "romance film"
           ],
           "xaxis": "x",
           "yaxis": "y"
          }
         ],
         "name": "Australia"
        },
        {
         "data": [
          {
           "alignmentgroup": "True",
           "bingroup": "x",
           "hovertemplate": "movie_origin=Russia<br>movie_genre=%{x}<br>count=%{y}<extra></extra>",
           "legendgroup": "",
           "marker": {
            "color": "#636efa",
            "pattern": {
             "shape": ""
            }
           },
           "name": "",
           "offsetgroup": "",
           "orientation": "v",
           "showlegend": false,
           "type": "histogram",
           "x": [
            "drama film",
            "romantic comedy",
            "crime film",
            "comedy film",
            "crime film",
            "drama film",
            "action film",
            "drama film",
            "drama film",
            "comedy film",
            "drama film",
            "action film",
            "fantasy film",
            "romantic comedy",
            "action film",
            "action film",
            "action film",
            "action film",
            "drama film",
            "horror film",
            "drama film",
            "crime film",
            "science fiction film",
            "drama film",
            "comedy film",
            "action film",
            "drama film",
            "action film"
           ],
           "xaxis": "x",
           "yaxis": "y"
          }
         ],
         "name": "Russia"
        },
        {
         "data": [
          {
           "alignmentgroup": "True",
           "bingroup": "x",
           "hovertemplate": "movie_origin=Canada<br>movie_genre=%{x}<br>count=%{y}<extra></extra>",
           "legendgroup": "",
           "marker": {
            "color": "#636efa",
            "pattern": {
             "shape": ""
            }
           },
           "name": "",
           "offsetgroup": "",
           "orientation": "v",
           "showlegend": false,
           "type": "histogram",
           "x": [
            "horror film",
            "drama film",
            "drama film",
            "fantasy film",
            "action film",
            "drama film",
            "fantasy film",
            "horror film",
            "action film",
            "action film",
            "action film",
            "action film",
            "horror film",
            "drama film",
            "crime film",
            "romance film",
            "drama film"
           ],
           "xaxis": "x",
           "yaxis": "y"
          }
         ],
         "name": "Canada"
        },
        {
         "data": [
          {
           "alignmentgroup": "True",
           "bingroup": "x",
           "hovertemplate": "movie_origin=People's Republic of China<br>movie_genre=%{x}<br>count=%{y}<extra></extra>",
           "legendgroup": "",
           "marker": {
            "color": "#636efa",
            "pattern": {
             "shape": ""
            }
           },
           "name": "",
           "offsetgroup": "",
           "orientation": "v",
           "showlegend": false,
           "type": "histogram",
           "x": [
            "drama film",
            "drama film",
            "drama film"
           ],
           "xaxis": "x",
           "yaxis": "y"
          }
         ],
         "name": "People's Republic of China"
        },
        {
         "data": [
          {
           "alignmentgroup": "True",
           "bingroup": "x",
           "hovertemplate": "movie_origin=Iran<br>movie_genre=%{x}<br>count=%{y}<extra></extra>",
           "legendgroup": "",
           "marker": {
            "color": "#636efa",
            "pattern": {
             "shape": ""
            }
           },
           "name": "",
           "offsetgroup": "",
           "orientation": "v",
           "showlegend": false,
           "type": "histogram",
           "x": [
            "drama film",
            "drama film"
           ],
           "xaxis": "x",
           "yaxis": "y"
          }
         ],
         "name": "Iran"
        },
        {
         "data": [
          {
           "alignmentgroup": "True",
           "bingroup": "x",
           "hovertemplate": "movie_origin=Mexico<br>movie_genre=%{x}<br>count=%{y}<extra></extra>",
           "legendgroup": "",
           "marker": {
            "color": "#636efa",
            "pattern": {
             "shape": ""
            }
           },
           "name": "",
           "offsetgroup": "",
           "orientation": "v",
           "showlegend": false,
           "type": "histogram",
           "x": [
            "drama film",
            "fantasy film",
            "comedy film",
            "drama film",
            "action film",
            "drama film",
            "drama film"
           ],
           "xaxis": "x",
           "yaxis": "y"
          }
         ],
         "name": "Mexico"
        },
        {
         "data": [
          {
           "alignmentgroup": "True",
           "bingroup": "x",
           "hovertemplate": "movie_origin=Italy<br>movie_genre=%{x}<br>count=%{y}<extra></extra>",
           "legendgroup": "",
           "marker": {
            "color": "#636efa",
            "pattern": {
             "shape": ""
            }
           },
           "name": "",
           "offsetgroup": "",
           "orientation": "v",
           "showlegend": false,
           "type": "histogram",
           "x": [
            "drama film",
            "horror film",
            "horror film",
            "comedy film",
            "comedy film",
            "drama film",
            "horror film",
            "horror film",
            "horror film",
            "comedy film",
            "fantasy film",
            "drama film",
            "fantasy film",
            "horror film",
            "comedy film"
           ],
           "xaxis": "x",
           "yaxis": "y"
          }
         ],
         "name": "Italy"
        },
        {
         "data": [
          {
           "alignmentgroup": "True",
           "bingroup": "x",
           "hovertemplate": "movie_origin=Finland<br>movie_genre=%{x}<br>count=%{y}<extra></extra>",
           "legendgroup": "",
           "marker": {
            "color": "#636efa",
            "pattern": {
             "shape": ""
            }
           },
           "name": "",
           "offsetgroup": "",
           "orientation": "v",
           "showlegend": false,
           "type": "histogram",
           "x": [
            "fantasy film"
           ],
           "xaxis": "x",
           "yaxis": "y"
          }
         ],
         "name": "Finland"
        },
        {
         "data": [
          {
           "alignmentgroup": "True",
           "bingroup": "x",
           "hovertemplate": "movie_origin=New Zealand<br>movie_genre=%{x}<br>count=%{y}<extra></extra>",
           "legendgroup": "",
           "marker": {
            "color": "#636efa",
            "pattern": {
             "shape": ""
            }
           },
           "name": "",
           "offsetgroup": "",
           "orientation": "v",
           "showlegend": false,
           "type": "histogram",
           "x": [
            "fantasy film",
            "fantasy film",
            "fantasy film",
            "fantasy film"
           ],
           "xaxis": "x",
           "yaxis": "y"
          }
         ],
         "name": "New Zealand"
        },
        {
         "data": [
          {
           "alignmentgroup": "True",
           "bingroup": "x",
           "hovertemplate": "movie_origin=Germany<br>movie_genre=%{x}<br>count=%{y}<extra></extra>",
           "legendgroup": "",
           "marker": {
            "color": "#636efa",
            "pattern": {
             "shape": ""
            }
           },
           "name": "",
           "offsetgroup": "",
           "orientation": "v",
           "showlegend": false,
           "type": "histogram",
           "x": [
            "crime film",
            "action film",
            "action film",
            "romantic comedy",
            "romance film",
            "drama film",
            "action film",
            "drama film",
            "horror film",
            "drama film",
            "fantasy film",
            "action film",
            "action film",
            "drama film",
            "drama film",
            "comedy film",
            "fantasy film",
            "drama film",
            "musical film"
           ],
           "xaxis": "x",
           "yaxis": "y"
          }
         ],
         "name": "Germany"
        },
        {
         "data": [
          {
           "alignmentgroup": "True",
           "bingroup": "x",
           "hovertemplate": "movie_origin=Indonesia<br>movie_genre=%{x}<br>count=%{y}<extra></extra>",
           "legendgroup": "",
           "marker": {
            "color": "#636efa",
            "pattern": {
             "shape": ""
            }
           },
           "name": "",
           "offsetgroup": "",
           "orientation": "v",
           "showlegend": false,
           "type": "histogram",
           "x": [
            "action film"
           ],
           "xaxis": "x",
           "yaxis": "y"
          }
         ],
         "name": "Indonesia"
        },
        {
         "data": [
          {
           "alignmentgroup": "True",
           "bingroup": "x",
           "hovertemplate": "movie_origin=South Africa<br>movie_genre=%{x}<br>count=%{y}<extra></extra>",
           "legendgroup": "",
           "marker": {
            "color": "#636efa",
            "pattern": {
             "shape": ""
            }
           },
           "name": "",
           "offsetgroup": "",
           "orientation": "v",
           "showlegend": false,
           "type": "histogram",
           "x": [
            "fantasy film",
            "comedy film"
           ],
           "xaxis": "x",
           "yaxis": "y"
          }
         ],
         "name": "South Africa"
        },
        {
         "data": [
          {
           "alignmentgroup": "True",
           "bingroup": "x",
           "hovertemplate": "movie_origin=Chile<br>movie_genre=%{x}<br>count=%{y}<extra></extra>",
           "legendgroup": "",
           "marker": {
            "color": "#636efa",
            "pattern": {
             "shape": ""
            }
           },
           "name": "",
           "offsetgroup": "",
           "orientation": "v",
           "showlegend": false,
           "type": "histogram",
           "x": [
            "drama film",
            "drama film"
           ],
           "xaxis": "x",
           "yaxis": "y"
          }
         ],
         "name": "Chile"
        },
        {
         "data": [
          {
           "alignmentgroup": "True",
           "bingroup": "x",
           "hovertemplate": "movie_origin=Ecuador<br>movie_genre=%{x}<br>count=%{y}<extra></extra>",
           "legendgroup": "",
           "marker": {
            "color": "#636efa",
            "pattern": {
             "shape": ""
            }
           },
           "name": "",
           "offsetgroup": "",
           "orientation": "v",
           "showlegend": false,
           "type": "histogram",
           "x": [
            "drama film"
           ],
           "xaxis": "x",
           "yaxis": "y"
          }
         ],
         "name": "Ecuador"
        },
        {
         "data": [
          {
           "alignmentgroup": "True",
           "bingroup": "x",
           "hovertemplate": "movie_origin=Argentina<br>movie_genre=%{x}<br>count=%{y}<extra></extra>",
           "legendgroup": "",
           "marker": {
            "color": "#636efa",
            "pattern": {
             "shape": ""
            }
           },
           "name": "",
           "offsetgroup": "",
           "orientation": "v",
           "showlegend": false,
           "type": "histogram",
           "x": [
            "drama film",
            "drama film",
            "drama film",
            "romantic comedy",
            "drama film"
           ],
           "xaxis": "x",
           "yaxis": "y"
          }
         ],
         "name": "Argentina"
        },
        {
         "data": [
          {
           "alignmentgroup": "True",
           "bingroup": "x",
           "hovertemplate": "movie_origin=Brazil<br>movie_genre=%{x}<br>count=%{y}<extra></extra>",
           "legendgroup": "",
           "marker": {
            "color": "#636efa",
            "pattern": {
             "shape": ""
            }
           },
           "name": "",
           "offsetgroup": "",
           "orientation": "v",
           "showlegend": false,
           "type": "histogram",
           "x": [
            "crime film",
            "drama film"
           ],
           "xaxis": "x",
           "yaxis": "y"
          }
         ],
         "name": "Brazil"
        },
        {
         "data": [
          {
           "alignmentgroup": "True",
           "bingroup": "x",
           "hovertemplate": "movie_origin=South Korea<br>movie_genre=%{x}<br>count=%{y}<extra></extra>",
           "legendgroup": "",
           "marker": {
            "color": "#636efa",
            "pattern": {
             "shape": ""
            }
           },
           "name": "",
           "offsetgroup": "",
           "orientation": "v",
           "showlegend": false,
           "type": "histogram",
           "x": [
            "drama film",
            "drama film",
            "horror film",
            "drama film",
            "drama film",
            "drama film",
            "drama film"
           ],
           "xaxis": "x",
           "yaxis": "y"
          }
         ],
         "name": "South Korea"
        },
        {
         "data": [
          {
           "alignmentgroup": "True",
           "bingroup": "x",
           "hovertemplate": "movie_origin=Venezuela<br>movie_genre=%{x}<br>count=%{y}<extra></extra>",
           "legendgroup": "",
           "marker": {
            "color": "#636efa",
            "pattern": {
             "shape": ""
            }
           },
           "name": "",
           "offsetgroup": "",
           "orientation": "v",
           "showlegend": false,
           "type": "histogram",
           "x": [
            "drama film"
           ],
           "xaxis": "x",
           "yaxis": "y"
          }
         ],
         "name": "Venezuela"
        },
        {
         "data": [
          {
           "alignmentgroup": "True",
           "bingroup": "x",
           "hovertemplate": "movie_origin=Belgium<br>movie_genre=%{x}<br>count=%{y}<extra></extra>",
           "legendgroup": "",
           "marker": {
            "color": "#636efa",
            "pattern": {
             "shape": ""
            }
           },
           "name": "",
           "offsetgroup": "",
           "orientation": "v",
           "showlegend": false,
           "type": "histogram",
           "x": [
            "drama film"
           ],
           "xaxis": "x",
           "yaxis": "y"
          }
         ],
         "name": "Belgium"
        },
        {
         "data": [
          {
           "alignmentgroup": "True",
           "bingroup": "x",
           "hovertemplate": "movie_origin=Norway<br>movie_genre=%{x}<br>count=%{y}<extra></extra>",
           "legendgroup": "",
           "marker": {
            "color": "#636efa",
            "pattern": {
             "shape": ""
            }
           },
           "name": "",
           "offsetgroup": "",
           "orientation": "v",
           "showlegend": false,
           "type": "histogram",
           "x": [
            "fantasy film"
           ],
           "xaxis": "x",
           "yaxis": "y"
          }
         ],
         "name": "Norway"
        },
        {
         "data": [
          {
           "alignmentgroup": "True",
           "bingroup": "x",
           "hovertemplate": "movie_origin=Greece<br>movie_genre=%{x}<br>count=%{y}<extra></extra>",
           "legendgroup": "",
           "marker": {
            "color": "#636efa",
            "pattern": {
             "shape": ""
            }
           },
           "name": "",
           "offsetgroup": "",
           "orientation": "v",
           "showlegend": false,
           "type": "histogram",
           "x": [
            "drama film"
           ],
           "xaxis": "x",
           "yaxis": "y"
          }
         ],
         "name": "Greece"
        },
        {
         "data": [
          {
           "alignmentgroup": "True",
           "bingroup": "x",
           "hovertemplate": "movie_origin=Taiwan<br>movie_genre=%{x}<br>count=%{y}<extra></extra>",
           "legendgroup": "",
           "marker": {
            "color": "#636efa",
            "pattern": {
             "shape": ""
            }
           },
           "name": "",
           "offsetgroup": "",
           "orientation": "v",
           "showlegend": false,
           "type": "histogram",
           "x": [
            "drama film"
           ],
           "xaxis": "x",
           "yaxis": "y"
          }
         ],
         "name": "Taiwan"
        },
        {
         "data": [
          {
           "alignmentgroup": "True",
           "bingroup": "x",
           "hovertemplate": "movie_origin=Czechoslovakia<br>movie_genre=%{x}<br>count=%{y}<extra></extra>",
           "legendgroup": "",
           "marker": {
            "color": "#636efa",
            "pattern": {
             "shape": ""
            }
           },
           "name": "",
           "offsetgroup": "",
           "orientation": "v",
           "showlegend": false,
           "type": "histogram",
           "x": [
            "drama film"
           ],
           "xaxis": "x",
           "yaxis": "y"
          }
         ],
         "name": "Czechoslovakia"
        },
        {
         "data": [
          {
           "alignmentgroup": "True",
           "bingroup": "x",
           "hovertemplate": "movie_origin=Netherlands<br>movie_genre=%{x}<br>count=%{y}<extra></extra>",
           "legendgroup": "",
           "marker": {
            "color": "#636efa",
            "pattern": {
             "shape": ""
            }
           },
           "name": "",
           "offsetgroup": "",
           "orientation": "v",
           "showlegend": false,
           "type": "histogram",
           "x": [
            "horror film"
           ],
           "xaxis": "x",
           "yaxis": "y"
          }
         ],
         "name": "Netherlands"
        },
        {
         "data": [
          {
           "alignmentgroup": "True",
           "bingroup": "x",
           "hovertemplate": "movie_origin=Poland<br>movie_genre=%{x}<br>count=%{y}<extra></extra>",
           "legendgroup": "",
           "marker": {
            "color": "#636efa",
            "pattern": {
             "shape": ""
            }
           },
           "name": "",
           "offsetgroup": "",
           "orientation": "v",
           "showlegend": false,
           "type": "histogram",
           "x": [
            "romance film"
           ],
           "xaxis": "x",
           "yaxis": "y"
          }
         ],
         "name": "Poland"
        },
        {
         "data": [
          {
           "alignmentgroup": "True",
           "bingroup": "x",
           "hovertemplate": "movie_origin=Republic of Ireland<br>movie_genre=%{x}<br>count=%{y}<extra></extra>",
           "legendgroup": "",
           "marker": {
            "color": "#636efa",
            "pattern": {
             "shape": ""
            }
           },
           "name": "",
           "offsetgroup": "",
           "orientation": "v",
           "showlegend": false,
           "type": "histogram",
           "x": [
            "comedy film"
           ],
           "xaxis": "x",
           "yaxis": "y"
          }
         ],
         "name": "Republic of Ireland"
        }
       ],
       "layout": {
        "barmode": "relative",
        "legend": {
         "tracegroupgap": 0
        },
        "margin": {
         "t": 60
        },
        "sliders": [
         {
          "active": 0,
          "currentvalue": {
           "prefix": "movie_origin="
          },
          "len": 0.9,
          "pad": {
           "b": 10,
           "t": 60
          },
          "steps": [
           {
            "args": [
             [
              "United Kingdom"
             ],
             {
              "frame": {
               "duration": 0,
               "redraw": true
              },
              "fromcurrent": true,
              "mode": "immediate",
              "transition": {
               "duration": 0,
               "easing": "linear"
              }
             }
            ],
            "label": "United Kingdom",
            "method": "animate"
           },
           {
            "args": [
             [
              "United States of America"
             ],
             {
              "frame": {
               "duration": 0,
               "redraw": true
              },
              "fromcurrent": true,
              "mode": "immediate",
              "transition": {
               "duration": 0,
               "easing": "linear"
              }
             }
            ],
            "label": "United States of America",
            "method": "animate"
           },
           {
            "args": [
             [
              "Japan"
             ],
             {
              "frame": {
               "duration": 0,
               "redraw": true
              },
              "fromcurrent": true,
              "mode": "immediate",
              "transition": {
               "duration": 0,
               "easing": "linear"
              }
             }
            ],
            "label": "Japan",
            "method": "animate"
           },
           {
            "args": [
             [
              "France"
             ],
             {
              "frame": {
               "duration": 0,
               "redraw": true
              },
              "fromcurrent": true,
              "mode": "immediate",
              "transition": {
               "duration": 0,
               "easing": "linear"
              }
             }
            ],
            "label": "France",
            "method": "animate"
           },
           {
            "args": [
             [
              "Sweden"
             ],
             {
              "frame": {
               "duration": 0,
               "redraw": true
              },
              "fromcurrent": true,
              "mode": "immediate",
              "transition": {
               "duration": 0,
               "easing": "linear"
              }
             }
            ],
            "label": "Sweden",
            "method": "animate"
           },
           {
            "args": [
             [
              "India"
             ],
             {
              "frame": {
               "duration": 0,
               "redraw": true
              },
              "fromcurrent": true,
              "mode": "immediate",
              "transition": {
               "duration": 0,
               "easing": "linear"
              }
             }
            ],
            "label": "India",
            "method": "animate"
           },
           {
            "args": [
             [
              "Spain"
             ],
             {
              "frame": {
               "duration": 0,
               "redraw": true
              },
              "fromcurrent": true,
              "mode": "immediate",
              "transition": {
               "duration": 0,
               "easing": "linear"
              }
             }
            ],
            "label": "Spain",
            "method": "animate"
           },
           {
            "args": [
             [
              "Denmark"
             ],
             {
              "frame": {
               "duration": 0,
               "redraw": true
              },
              "fromcurrent": true,
              "mode": "immediate",
              "transition": {
               "duration": 0,
               "easing": "linear"
              }
             }
            ],
            "label": "Denmark",
            "method": "animate"
           },
           {
            "args": [
             [
              "Australia"
             ],
             {
              "frame": {
               "duration": 0,
               "redraw": true
              },
              "fromcurrent": true,
              "mode": "immediate",
              "transition": {
               "duration": 0,
               "easing": "linear"
              }
             }
            ],
            "label": "Australia",
            "method": "animate"
           },
           {
            "args": [
             [
              "Russia"
             ],
             {
              "frame": {
               "duration": 0,
               "redraw": true
              },
              "fromcurrent": true,
              "mode": "immediate",
              "transition": {
               "duration": 0,
               "easing": "linear"
              }
             }
            ],
            "label": "Russia",
            "method": "animate"
           },
           {
            "args": [
             [
              "Canada"
             ],
             {
              "frame": {
               "duration": 0,
               "redraw": true
              },
              "fromcurrent": true,
              "mode": "immediate",
              "transition": {
               "duration": 0,
               "easing": "linear"
              }
             }
            ],
            "label": "Canada",
            "method": "animate"
           },
           {
            "args": [
             [
              "People's Republic of China"
             ],
             {
              "frame": {
               "duration": 0,
               "redraw": true
              },
              "fromcurrent": true,
              "mode": "immediate",
              "transition": {
               "duration": 0,
               "easing": "linear"
              }
             }
            ],
            "label": "People's Republic of China",
            "method": "animate"
           },
           {
            "args": [
             [
              "Iran"
             ],
             {
              "frame": {
               "duration": 0,
               "redraw": true
              },
              "fromcurrent": true,
              "mode": "immediate",
              "transition": {
               "duration": 0,
               "easing": "linear"
              }
             }
            ],
            "label": "Iran",
            "method": "animate"
           },
           {
            "args": [
             [
              "Mexico"
             ],
             {
              "frame": {
               "duration": 0,
               "redraw": true
              },
              "fromcurrent": true,
              "mode": "immediate",
              "transition": {
               "duration": 0,
               "easing": "linear"
              }
             }
            ],
            "label": "Mexico",
            "method": "animate"
           },
           {
            "args": [
             [
              "Italy"
             ],
             {
              "frame": {
               "duration": 0,
               "redraw": true
              },
              "fromcurrent": true,
              "mode": "immediate",
              "transition": {
               "duration": 0,
               "easing": "linear"
              }
             }
            ],
            "label": "Italy",
            "method": "animate"
           },
           {
            "args": [
             [
              "Finland"
             ],
             {
              "frame": {
               "duration": 0,
               "redraw": true
              },
              "fromcurrent": true,
              "mode": "immediate",
              "transition": {
               "duration": 0,
               "easing": "linear"
              }
             }
            ],
            "label": "Finland",
            "method": "animate"
           },
           {
            "args": [
             [
              "New Zealand"
             ],
             {
              "frame": {
               "duration": 0,
               "redraw": true
              },
              "fromcurrent": true,
              "mode": "immediate",
              "transition": {
               "duration": 0,
               "easing": "linear"
              }
             }
            ],
            "label": "New Zealand",
            "method": "animate"
           },
           {
            "args": [
             [
              "Germany"
             ],
             {
              "frame": {
               "duration": 0,
               "redraw": true
              },
              "fromcurrent": true,
              "mode": "immediate",
              "transition": {
               "duration": 0,
               "easing": "linear"
              }
             }
            ],
            "label": "Germany",
            "method": "animate"
           },
           {
            "args": [
             [
              "Indonesia"
             ],
             {
              "frame": {
               "duration": 0,
               "redraw": true
              },
              "fromcurrent": true,
              "mode": "immediate",
              "transition": {
               "duration": 0,
               "easing": "linear"
              }
             }
            ],
            "label": "Indonesia",
            "method": "animate"
           },
           {
            "args": [
             [
              "South Africa"
             ],
             {
              "frame": {
               "duration": 0,
               "redraw": true
              },
              "fromcurrent": true,
              "mode": "immediate",
              "transition": {
               "duration": 0,
               "easing": "linear"
              }
             }
            ],
            "label": "South Africa",
            "method": "animate"
           },
           {
            "args": [
             [
              "Chile"
             ],
             {
              "frame": {
               "duration": 0,
               "redraw": true
              },
              "fromcurrent": true,
              "mode": "immediate",
              "transition": {
               "duration": 0,
               "easing": "linear"
              }
             }
            ],
            "label": "Chile",
            "method": "animate"
           },
           {
            "args": [
             [
              "Ecuador"
             ],
             {
              "frame": {
               "duration": 0,
               "redraw": true
              },
              "fromcurrent": true,
              "mode": "immediate",
              "transition": {
               "duration": 0,
               "easing": "linear"
              }
             }
            ],
            "label": "Ecuador",
            "method": "animate"
           },
           {
            "args": [
             [
              "Argentina"
             ],
             {
              "frame": {
               "duration": 0,
               "redraw": true
              },
              "fromcurrent": true,
              "mode": "immediate",
              "transition": {
               "duration": 0,
               "easing": "linear"
              }
             }
            ],
            "label": "Argentina",
            "method": "animate"
           },
           {
            "args": [
             [
              "Brazil"
             ],
             {
              "frame": {
               "duration": 0,
               "redraw": true
              },
              "fromcurrent": true,
              "mode": "immediate",
              "transition": {
               "duration": 0,
               "easing": "linear"
              }
             }
            ],
            "label": "Brazil",
            "method": "animate"
           },
           {
            "args": [
             [
              "South Korea"
             ],
             {
              "frame": {
               "duration": 0,
               "redraw": true
              },
              "fromcurrent": true,
              "mode": "immediate",
              "transition": {
               "duration": 0,
               "easing": "linear"
              }
             }
            ],
            "label": "South Korea",
            "method": "animate"
           },
           {
            "args": [
             [
              "Venezuela"
             ],
             {
              "frame": {
               "duration": 0,
               "redraw": true
              },
              "fromcurrent": true,
              "mode": "immediate",
              "transition": {
               "duration": 0,
               "easing": "linear"
              }
             }
            ],
            "label": "Venezuela",
            "method": "animate"
           },
           {
            "args": [
             [
              "Belgium"
             ],
             {
              "frame": {
               "duration": 0,
               "redraw": true
              },
              "fromcurrent": true,
              "mode": "immediate",
              "transition": {
               "duration": 0,
               "easing": "linear"
              }
             }
            ],
            "label": "Belgium",
            "method": "animate"
           },
           {
            "args": [
             [
              "Norway"
             ],
             {
              "frame": {
               "duration": 0,
               "redraw": true
              },
              "fromcurrent": true,
              "mode": "immediate",
              "transition": {
               "duration": 0,
               "easing": "linear"
              }
             }
            ],
            "label": "Norway",
            "method": "animate"
           },
           {
            "args": [
             [
              "Greece"
             ],
             {
              "frame": {
               "duration": 0,
               "redraw": true
              },
              "fromcurrent": true,
              "mode": "immediate",
              "transition": {
               "duration": 0,
               "easing": "linear"
              }
             }
            ],
            "label": "Greece",
            "method": "animate"
           },
           {
            "args": [
             [
              "Taiwan"
             ],
             {
              "frame": {
               "duration": 0,
               "redraw": true
              },
              "fromcurrent": true,
              "mode": "immediate",
              "transition": {
               "duration": 0,
               "easing": "linear"
              }
             }
            ],
            "label": "Taiwan",
            "method": "animate"
           },
           {
            "args": [
             [
              "Czechoslovakia"
             ],
             {
              "frame": {
               "duration": 0,
               "redraw": true
              },
              "fromcurrent": true,
              "mode": "immediate",
              "transition": {
               "duration": 0,
               "easing": "linear"
              }
             }
            ],
            "label": "Czechoslovakia",
            "method": "animate"
           },
           {
            "args": [
             [
              "Netherlands"
             ],
             {
              "frame": {
               "duration": 0,
               "redraw": true
              },
              "fromcurrent": true,
              "mode": "immediate",
              "transition": {
               "duration": 0,
               "easing": "linear"
              }
             }
            ],
            "label": "Netherlands",
            "method": "animate"
           },
           {
            "args": [
             [
              "Poland"
             ],
             {
              "frame": {
               "duration": 0,
               "redraw": true
              },
              "fromcurrent": true,
              "mode": "immediate",
              "transition": {
               "duration": 0,
               "easing": "linear"
              }
             }
            ],
            "label": "Poland",
            "method": "animate"
           },
           {
            "args": [
             [
              "Republic of Ireland"
             ],
             {
              "frame": {
               "duration": 0,
               "redraw": true
              },
              "fromcurrent": true,
              "mode": "immediate",
              "transition": {
               "duration": 0,
               "easing": "linear"
              }
             }
            ],
            "label": "Republic of Ireland",
            "method": "animate"
           }
          ],
          "x": 0.1,
          "xanchor": "left",
          "y": 0,
          "yanchor": "top"
         }
        ],
        "template": {
         "data": {
          "bar": [
           {
            "error_x": {
             "color": "#2a3f5f"
            },
            "error_y": {
             "color": "#2a3f5f"
            },
            "marker": {
             "line": {
              "color": "#E5ECF6",
              "width": 0.5
             },
             "pattern": {
              "fillmode": "overlay",
              "size": 10,
              "solidity": 0.2
             }
            },
            "type": "bar"
           }
          ],
          "barpolar": [
           {
            "marker": {
             "line": {
              "color": "#E5ECF6",
              "width": 0.5
             },
             "pattern": {
              "fillmode": "overlay",
              "size": 10,
              "solidity": 0.2
             }
            },
            "type": "barpolar"
           }
          ],
          "carpet": [
           {
            "aaxis": {
             "endlinecolor": "#2a3f5f",
             "gridcolor": "white",
             "linecolor": "white",
             "minorgridcolor": "white",
             "startlinecolor": "#2a3f5f"
            },
            "baxis": {
             "endlinecolor": "#2a3f5f",
             "gridcolor": "white",
             "linecolor": "white",
             "minorgridcolor": "white",
             "startlinecolor": "#2a3f5f"
            },
            "type": "carpet"
           }
          ],
          "choropleth": [
           {
            "colorbar": {
             "outlinewidth": 0,
             "ticks": ""
            },
            "type": "choropleth"
           }
          ],
          "contour": [
           {
            "colorbar": {
             "outlinewidth": 0,
             "ticks": ""
            },
            "colorscale": [
             [
              0,
              "#0d0887"
             ],
             [
              0.1111111111111111,
              "#46039f"
             ],
             [
              0.2222222222222222,
              "#7201a8"
             ],
             [
              0.3333333333333333,
              "#9c179e"
             ],
             [
              0.4444444444444444,
              "#bd3786"
             ],
             [
              0.5555555555555556,
              "#d8576b"
             ],
             [
              0.6666666666666666,
              "#ed7953"
             ],
             [
              0.7777777777777778,
              "#fb9f3a"
             ],
             [
              0.8888888888888888,
              "#fdca26"
             ],
             [
              1,
              "#f0f921"
             ]
            ],
            "type": "contour"
           }
          ],
          "contourcarpet": [
           {
            "colorbar": {
             "outlinewidth": 0,
             "ticks": ""
            },
            "type": "contourcarpet"
           }
          ],
          "heatmap": [
           {
            "colorbar": {
             "outlinewidth": 0,
             "ticks": ""
            },
            "colorscale": [
             [
              0,
              "#0d0887"
             ],
             [
              0.1111111111111111,
              "#46039f"
             ],
             [
              0.2222222222222222,
              "#7201a8"
             ],
             [
              0.3333333333333333,
              "#9c179e"
             ],
             [
              0.4444444444444444,
              "#bd3786"
             ],
             [
              0.5555555555555556,
              "#d8576b"
             ],
             [
              0.6666666666666666,
              "#ed7953"
             ],
             [
              0.7777777777777778,
              "#fb9f3a"
             ],
             [
              0.8888888888888888,
              "#fdca26"
             ],
             [
              1,
              "#f0f921"
             ]
            ],
            "type": "heatmap"
           }
          ],
          "heatmapgl": [
           {
            "colorbar": {
             "outlinewidth": 0,
             "ticks": ""
            },
            "colorscale": [
             [
              0,
              "#0d0887"
             ],
             [
              0.1111111111111111,
              "#46039f"
             ],
             [
              0.2222222222222222,
              "#7201a8"
             ],
             [
              0.3333333333333333,
              "#9c179e"
             ],
             [
              0.4444444444444444,
              "#bd3786"
             ],
             [
              0.5555555555555556,
              "#d8576b"
             ],
             [
              0.6666666666666666,
              "#ed7953"
             ],
             [
              0.7777777777777778,
              "#fb9f3a"
             ],
             [
              0.8888888888888888,
              "#fdca26"
             ],
             [
              1,
              "#f0f921"
             ]
            ],
            "type": "heatmapgl"
           }
          ],
          "histogram": [
           {
            "marker": {
             "pattern": {
              "fillmode": "overlay",
              "size": 10,
              "solidity": 0.2
             }
            },
            "type": "histogram"
           }
          ],
          "histogram2d": [
           {
            "colorbar": {
             "outlinewidth": 0,
             "ticks": ""
            },
            "colorscale": [
             [
              0,
              "#0d0887"
             ],
             [
              0.1111111111111111,
              "#46039f"
             ],
             [
              0.2222222222222222,
              "#7201a8"
             ],
             [
              0.3333333333333333,
              "#9c179e"
             ],
             [
              0.4444444444444444,
              "#bd3786"
             ],
             [
              0.5555555555555556,
              "#d8576b"
             ],
             [
              0.6666666666666666,
              "#ed7953"
             ],
             [
              0.7777777777777778,
              "#fb9f3a"
             ],
             [
              0.8888888888888888,
              "#fdca26"
             ],
             [
              1,
              "#f0f921"
             ]
            ],
            "type": "histogram2d"
           }
          ],
          "histogram2dcontour": [
           {
            "colorbar": {
             "outlinewidth": 0,
             "ticks": ""
            },
            "colorscale": [
             [
              0,
              "#0d0887"
             ],
             [
              0.1111111111111111,
              "#46039f"
             ],
             [
              0.2222222222222222,
              "#7201a8"
             ],
             [
              0.3333333333333333,
              "#9c179e"
             ],
             [
              0.4444444444444444,
              "#bd3786"
             ],
             [
              0.5555555555555556,
              "#d8576b"
             ],
             [
              0.6666666666666666,
              "#ed7953"
             ],
             [
              0.7777777777777778,
              "#fb9f3a"
             ],
             [
              0.8888888888888888,
              "#fdca26"
             ],
             [
              1,
              "#f0f921"
             ]
            ],
            "type": "histogram2dcontour"
           }
          ],
          "mesh3d": [
           {
            "colorbar": {
             "outlinewidth": 0,
             "ticks": ""
            },
            "type": "mesh3d"
           }
          ],
          "parcoords": [
           {
            "line": {
             "colorbar": {
              "outlinewidth": 0,
              "ticks": ""
             }
            },
            "type": "parcoords"
           }
          ],
          "pie": [
           {
            "automargin": true,
            "type": "pie"
           }
          ],
          "scatter": [
           {
            "fillpattern": {
             "fillmode": "overlay",
             "size": 10,
             "solidity": 0.2
            },
            "type": "scatter"
           }
          ],
          "scatter3d": [
           {
            "line": {
             "colorbar": {
              "outlinewidth": 0,
              "ticks": ""
             }
            },
            "marker": {
             "colorbar": {
              "outlinewidth": 0,
              "ticks": ""
             }
            },
            "type": "scatter3d"
           }
          ],
          "scattercarpet": [
           {
            "marker": {
             "colorbar": {
              "outlinewidth": 0,
              "ticks": ""
             }
            },
            "type": "scattercarpet"
           }
          ],
          "scattergeo": [
           {
            "marker": {
             "colorbar": {
              "outlinewidth": 0,
              "ticks": ""
             }
            },
            "type": "scattergeo"
           }
          ],
          "scattergl": [
           {
            "marker": {
             "colorbar": {
              "outlinewidth": 0,
              "ticks": ""
             }
            },
            "type": "scattergl"
           }
          ],
          "scattermapbox": [
           {
            "marker": {
             "colorbar": {
              "outlinewidth": 0,
              "ticks": ""
             }
            },
            "type": "scattermapbox"
           }
          ],
          "scatterpolar": [
           {
            "marker": {
             "colorbar": {
              "outlinewidth": 0,
              "ticks": ""
             }
            },
            "type": "scatterpolar"
           }
          ],
          "scatterpolargl": [
           {
            "marker": {
             "colorbar": {
              "outlinewidth": 0,
              "ticks": ""
             }
            },
            "type": "scatterpolargl"
           }
          ],
          "scatterternary": [
           {
            "marker": {
             "colorbar": {
              "outlinewidth": 0,
              "ticks": ""
             }
            },
            "type": "scatterternary"
           }
          ],
          "surface": [
           {
            "colorbar": {
             "outlinewidth": 0,
             "ticks": ""
            },
            "colorscale": [
             [
              0,
              "#0d0887"
             ],
             [
              0.1111111111111111,
              "#46039f"
             ],
             [
              0.2222222222222222,
              "#7201a8"
             ],
             [
              0.3333333333333333,
              "#9c179e"
             ],
             [
              0.4444444444444444,
              "#bd3786"
             ],
             [
              0.5555555555555556,
              "#d8576b"
             ],
             [
              0.6666666666666666,
              "#ed7953"
             ],
             [
              0.7777777777777778,
              "#fb9f3a"
             ],
             [
              0.8888888888888888,
              "#fdca26"
             ],
             [
              1,
              "#f0f921"
             ]
            ],
            "type": "surface"
           }
          ],
          "table": [
           {
            "cells": {
             "fill": {
              "color": "#EBF0F8"
             },
             "line": {
              "color": "white"
             }
            },
            "header": {
             "fill": {
              "color": "#C8D4E3"
             },
             "line": {
              "color": "white"
             }
            },
            "type": "table"
           }
          ]
         },
         "layout": {
          "annotationdefaults": {
           "arrowcolor": "#2a3f5f",
           "arrowhead": 0,
           "arrowwidth": 1
          },
          "autotypenumbers": "strict",
          "coloraxis": {
           "colorbar": {
            "outlinewidth": 0,
            "ticks": ""
           }
          },
          "colorscale": {
           "diverging": [
            [
             0,
             "#8e0152"
            ],
            [
             0.1,
             "#c51b7d"
            ],
            [
             0.2,
             "#de77ae"
            ],
            [
             0.3,
             "#f1b6da"
            ],
            [
             0.4,
             "#fde0ef"
            ],
            [
             0.5,
             "#f7f7f7"
            ],
            [
             0.6,
             "#e6f5d0"
            ],
            [
             0.7,
             "#b8e186"
            ],
            [
             0.8,
             "#7fbc41"
            ],
            [
             0.9,
             "#4d9221"
            ],
            [
             1,
             "#276419"
            ]
           ],
           "sequential": [
            [
             0,
             "#0d0887"
            ],
            [
             0.1111111111111111,
             "#46039f"
            ],
            [
             0.2222222222222222,
             "#7201a8"
            ],
            [
             0.3333333333333333,
             "#9c179e"
            ],
            [
             0.4444444444444444,
             "#bd3786"
            ],
            [
             0.5555555555555556,
             "#d8576b"
            ],
            [
             0.6666666666666666,
             "#ed7953"
            ],
            [
             0.7777777777777778,
             "#fb9f3a"
            ],
            [
             0.8888888888888888,
             "#fdca26"
            ],
            [
             1,
             "#f0f921"
            ]
           ],
           "sequentialminus": [
            [
             0,
             "#0d0887"
            ],
            [
             0.1111111111111111,
             "#46039f"
            ],
            [
             0.2222222222222222,
             "#7201a8"
            ],
            [
             0.3333333333333333,
             "#9c179e"
            ],
            [
             0.4444444444444444,
             "#bd3786"
            ],
            [
             0.5555555555555556,
             "#d8576b"
            ],
            [
             0.6666666666666666,
             "#ed7953"
            ],
            [
             0.7777777777777778,
             "#fb9f3a"
            ],
            [
             0.8888888888888888,
             "#fdca26"
            ],
            [
             1,
             "#f0f921"
            ]
           ]
          },
          "colorway": [
           "#636efa",
           "#EF553B",
           "#00cc96",
           "#ab63fa",
           "#FFA15A",
           "#19d3f3",
           "#FF6692",
           "#B6E880",
           "#FF97FF",
           "#FECB52"
          ],
          "font": {
           "color": "#2a3f5f"
          },
          "geo": {
           "bgcolor": "white",
           "lakecolor": "white",
           "landcolor": "#E5ECF6",
           "showlakes": true,
           "showland": true,
           "subunitcolor": "white"
          },
          "hoverlabel": {
           "align": "left"
          },
          "hovermode": "closest",
          "mapbox": {
           "style": "light"
          },
          "paper_bgcolor": "white",
          "plot_bgcolor": "#E5ECF6",
          "polar": {
           "angularaxis": {
            "gridcolor": "white",
            "linecolor": "white",
            "ticks": ""
           },
           "bgcolor": "#E5ECF6",
           "radialaxis": {
            "gridcolor": "white",
            "linecolor": "white",
            "ticks": ""
           }
          },
          "scene": {
           "xaxis": {
            "backgroundcolor": "#E5ECF6",
            "gridcolor": "white",
            "gridwidth": 2,
            "linecolor": "white",
            "showbackground": true,
            "ticks": "",
            "zerolinecolor": "white"
           },
           "yaxis": {
            "backgroundcolor": "#E5ECF6",
            "gridcolor": "white",
            "gridwidth": 2,
            "linecolor": "white",
            "showbackground": true,
            "ticks": "",
            "zerolinecolor": "white"
           },
           "zaxis": {
            "backgroundcolor": "#E5ECF6",
            "gridcolor": "white",
            "gridwidth": 2,
            "linecolor": "white",
            "showbackground": true,
            "ticks": "",
            "zerolinecolor": "white"
           }
          },
          "shapedefaults": {
           "line": {
            "color": "#2a3f5f"
           }
          },
          "ternary": {
           "aaxis": {
            "gridcolor": "white",
            "linecolor": "white",
            "ticks": ""
           },
           "baxis": {
            "gridcolor": "white",
            "linecolor": "white",
            "ticks": ""
           },
           "bgcolor": "#E5ECF6",
           "caxis": {
            "gridcolor": "white",
            "linecolor": "white",
            "ticks": ""
           }
          },
          "title": {
           "x": 0.05
          },
          "xaxis": {
           "automargin": true,
           "gridcolor": "white",
           "linecolor": "white",
           "ticks": "",
           "title": {
            "standoff": 15
           },
           "zerolinecolor": "white",
           "zerolinewidth": 2
          },
          "yaxis": {
           "automargin": true,
           "gridcolor": "white",
           "linecolor": "white",
           "ticks": "",
           "title": {
            "standoff": 15
           },
           "zerolinecolor": "white",
           "zerolinewidth": 2
          }
         }
        },
        "updatemenus": [
         {
          "buttons": [
           {
            "args": [
             null,
             {
              "frame": {
               "duration": 500,
               "redraw": true
              },
              "fromcurrent": true,
              "mode": "immediate",
              "transition": {
               "duration": 500,
               "easing": "linear"
              }
             }
            ],
            "label": "&#9654;",
            "method": "animate"
           },
           {
            "args": [
             [
              null
             ],
             {
              "frame": {
               "duration": 0,
               "redraw": true
              },
              "fromcurrent": true,
              "mode": "immediate",
              "transition": {
               "duration": 0,
               "easing": "linear"
              }
             }
            ],
            "label": "&#9724;",
            "method": "animate"
           }
          ],
          "direction": "left",
          "pad": {
           "r": 10,
           "t": 70
          },
          "showactive": false,
          "type": "buttons",
          "x": 0.1,
          "xanchor": "right",
          "y": 0,
          "yanchor": "top"
         }
        ],
        "xaxis": {
         "anchor": "y",
         "domain": [
          0,
          1
         ],
         "dtick": 0.75,
         "tick0": 0.5,
         "tickmode": "linear",
         "title": {
          "text": "movie_genre"
         }
        },
        "yaxis": {
         "anchor": "x",
         "domain": [
          0,
          1
         ],
         "range": [
          0,
          2.9999999999999996
         ],
         "title": {
          "text": "count"
         },
         "type": "log"
        }
       }
      }
     },
     "metadata": {},
     "output_type": "display_data"
    }
   ],
   "source": [
    "p = px.histogram(\n",
    "    country_study_df,\n",
    "    x='movie_genre',\n",
    "    range_y=[1, 1000],\n",
    "    log_y=True,\n",
    "    animation_frame='movie_origin',\n",
    "    \n",
    ")\n",
    "p.update_layout(\n",
    "    xaxis = dict(\n",
    "        tickmode = 'linear',\n",
    "        tick0 = 0.5,\n",
    "        dtick = 0.75\n",
    "    )\n",
    ")\n",
    "p.show()"
   ]
  },
  {
   "cell_type": "code",
   "execution_count": null,
   "metadata": {},
   "outputs": [],
   "source": []
  }
 ],
 "metadata": {
  "kernelspec": {
   "display_name": "Python 3.9.13 ('ada')",
   "language": "python",
   "name": "python3"
  },
  "language_info": {
   "codemirror_mode": {
    "name": "ipython",
    "version": 3
   },
   "file_extension": ".py",
   "mimetype": "text/x-python",
   "name": "python",
   "nbconvert_exporter": "python",
   "pygments_lexer": "ipython3",
   "version": "3.9.13"
  },
  "orig_nbformat": 4,
  "vscode": {
   "interpreter": {
    "hash": "c6d5c00eaa370bcbda815d70b4aa8bd5fc7f86945eaa688b6e46198c8aa8d2e9"
   }
  }
 },
 "nbformat": 4,
 "nbformat_minor": 2
}
